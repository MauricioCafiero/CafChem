{
  "nbformat": 4,
  "nbformat_minor": 0,
  "metadata": {
    "colab": {
      "provenance": [],
      "machine_shape": "hm",
      "gpuType": "A100",
      "collapsed_sections": [
        "GRm5i29ji8dC"
      ]
    },
    "kernelspec": {
      "name": "python3",
      "display_name": "Python 3"
    },
    "language_info": {
      "name": "python"
    },
    "accelerator": "GPU"
  },
  "cells": [
    {
      "cell_type": "markdown",
      "source": [
        "#CafChem tools for co-folding proteins and ligands using Boltz2.\n",
        "\n",
        "[![Open In Colab](https://colab.research.google.com/assets/colab-badge.svg)](https://colab.research.google.com/github/MauricioCafiero/CafChem/blob/main/notebooks/Boltz_CafChem.ipynb)\n",
        "\n",
        "## This notebook allows you to:\n",
        "- Input a protein sequence and a list of ligands to generate .yaml files for use in Boltz2.\n",
        "- Run Boltz2 co-folding on the list of ligands in an automated fashion. Produces a list of IC50 values and binary binder/decoy scores.\n",
        "- convert the .cif file to XYZ files for the complex, the protein and the ligand.\n",
        "- visualize predicted data.\n",
        "\n",
        "## Requirements:\n",
        "- This notebook will install boltz2 and py3Dmol\n",
        "- It will pull the CafChem tools from Github.\n",
        "- It will install all needed libraries.\n",
        "- small proteins can run on the L4 runtime, but larger ligands will need the memory provided by the A100 runtime."
      ],
      "metadata": {
        "id": "xHMpJGdV-xTs"
      }
    },
    {
      "cell_type": "markdown",
      "source": [
        "### Install Boltz library\n",
        "- will require an answer (y) and restart\n",
        "- can take ~5 minutes"
      ],
      "metadata": {
        "id": "GRm5i29ji8dC"
      }
    },
    {
      "cell_type": "code",
      "source": [
        "!pip uninstall torch torchvision"
      ],
      "metadata": {
        "colab": {
          "base_uri": "https://localhost:8080/"
        },
        "id": "CimV2HBwpAyg",
        "outputId": "7a6136ab-acb0-4c63-b4a7-12564cb44081"
      },
      "execution_count": 1,
      "outputs": [
        {
          "output_type": "stream",
          "name": "stdout",
          "text": [
            "Found existing installation: torch 2.8.0+cu126\n",
            "Uninstalling torch-2.8.0+cu126:\n",
            "  Would remove:\n",
            "    /usr/local/bin/torchfrtrace\n",
            "    /usr/local/bin/torchrun\n",
            "    /usr/local/lib/python3.12/dist-packages/functorch/*\n",
            "    /usr/local/lib/python3.12/dist-packages/torch-2.8.0+cu126.dist-info/*\n",
            "    /usr/local/lib/python3.12/dist-packages/torch/*\n",
            "    /usr/local/lib/python3.12/dist-packages/torchgen/*\n",
            "Proceed (Y/n)? Y\n",
            "Y\n",
            "  Successfully uninstalled torch-2.8.0+cu126\n",
            "Found existing installation: torchvision 0.23.0+cu126\n",
            "Uninstalling torchvision-0.23.0+cu126:\n",
            "  Would remove:\n",
            "    /usr/local/lib/python3.12/dist-packages/torchvision-0.23.0+cu126.dist-info/*\n",
            "    /usr/local/lib/python3.12/dist-packages/torchvision.libs/libcudart.45e7f3ed.so.12\n",
            "    /usr/local/lib/python3.12/dist-packages/torchvision.libs/libjpeg.bd6b9199.so.8\n",
            "    /usr/local/lib/python3.12/dist-packages/torchvision.libs/libnvjpeg.e5f20359.so.12\n",
            "    /usr/local/lib/python3.12/dist-packages/torchvision.libs/libpng16.0481ee11.so.16\n",
            "    /usr/local/lib/python3.12/dist-packages/torchvision.libs/libsharpyuv.b609dd4c.so.0\n",
            "    /usr/local/lib/python3.12/dist-packages/torchvision.libs/libwebp.58a855fe.so.7\n",
            "    /usr/local/lib/python3.12/dist-packages/torchvision.libs/libz.622bbd06.so.1\n",
            "    /usr/local/lib/python3.12/dist-packages/torchvision/*\n",
            "Proceed (Y/n)?   Successfully uninstalled torchvision-0.23.0+cu126\n"
          ]
        }
      ]
    },
    {
      "cell_type": "code",
      "source": [
        "!pip install torch torchvision boltz[cuda] -Uq\n",
        "! pip install -q py3Dmol"
      ],
      "metadata": {
        "colab": {
          "base_uri": "https://localhost:8080/"
        },
        "id": "fTt7Pm_g3JrB",
        "outputId": "41b96294-8ed8-4836-ae17-36ff06441e89"
      },
      "execution_count": 2,
      "outputs": [
        {
          "output_type": "stream",
          "name": "stdout",
          "text": [
            "\u001b[2K     \u001b[90m━━━━━━━━━━━━━━━━━━━━━━━━━━━━━━━━━━━━━━━━\u001b[0m \u001b[32m61.0/61.0 kB\u001b[0m \u001b[31m6.1 MB/s\u001b[0m eta \u001b[36m0:00:00\u001b[0m\n",
            "\u001b[2K     \u001b[90m━━━━━━━━━━━━━━━━━━━━━━━━━━━━━━━━━━━━━━\u001b[0m \u001b[32m266.3/266.3 kB\u001b[0m \u001b[31m19.8 MB/s\u001b[0m eta \u001b[36m0:00:00\u001b[0m\n",
            "\u001b[?25h  Installing build dependencies ... \u001b[?25l\u001b[?25hdone\n",
            "  Getting requirements to build wheel ... \u001b[?25l\u001b[?25hdone\n",
            "  Installing backend dependencies ... \u001b[?25l\u001b[?25hdone\n",
            "  Preparing metadata (pyproject.toml) ... \u001b[?25l\u001b[?25hdone\n",
            "\u001b[2K     \u001b[90m━━━━━━━━━━━━━━━━━━━━━━━━━━━━━━━━━━━━━━\u001b[0m \u001b[32m114.4/114.4 kB\u001b[0m \u001b[31m10.1 MB/s\u001b[0m eta \u001b[36m0:00:00\u001b[0m\n",
            "\u001b[2K     \u001b[90m━━━━━━━━━━━━━━━━━━━━━━━━━━━━━━━━━━━━━━━━\u001b[0m \u001b[32m66.8/66.8 kB\u001b[0m \u001b[31m5.8 MB/s\u001b[0m eta \u001b[36m0:00:00\u001b[0m\n",
            "\u001b[?25h  Preparing metadata (setup.py) ... \u001b[?25l\u001b[?25hdone\n",
            "\u001b[2K     \u001b[90m━━━━━━━━━━━━━━━━━━━━━━━━━━━━━━━━━━━━━━━━\u001b[0m \u001b[32m60.6/60.6 kB\u001b[0m \u001b[31m4.9 MB/s\u001b[0m eta \u001b[36m0:00:00\u001b[0m\n",
            "\u001b[2K     \u001b[90m━━━━━━━━━━━━━━━━━━━━━━━━━━━━━━━━━━━━━━\u001b[0m \u001b[32m392.5/392.5 kB\u001b[0m \u001b[31m31.6 MB/s\u001b[0m eta \u001b[36m0:00:00\u001b[0m\n",
            "\u001b[?25h  Preparing metadata (setup.py) ... \u001b[?25l\u001b[?25hdone\n",
            "\u001b[2K   \u001b[90m━━━━━━━━━━━━━━━━━━━━━━━━━━━━━━━━━━━━━━━━\u001b[0m \u001b[32m899.7/899.7 MB\u001b[0m \u001b[31m1.2 MB/s\u001b[0m eta \u001b[36m0:00:00\u001b[0m\n",
            "\u001b[2K   \u001b[90m━━━━━━━━━━━━━━━━━━━━━━━━━━━━━━━━━━━━━━━━\u001b[0m \u001b[32m594.3/594.3 MB\u001b[0m \u001b[31m2.8 MB/s\u001b[0m eta \u001b[36m0:00:00\u001b[0m\n",
            "\u001b[2K   \u001b[90m━━━━━━━━━━━━━━━━━━━━━━━━━━━━━━━━━━━━━━━━\u001b[0m \u001b[32m10.2/10.2 MB\u001b[0m \u001b[31m86.3 MB/s\u001b[0m eta \u001b[36m0:00:00\u001b[0m\n",
            "\u001b[2K   \u001b[90m━━━━━━━━━━━━━━━━━━━━━━━━━━━━━━━━━━━━━━━━\u001b[0m \u001b[32m88.0/88.0 MB\u001b[0m \u001b[31m29.0 MB/s\u001b[0m eta \u001b[36m0:00:00\u001b[0m\n",
            "\u001b[2K   \u001b[90m━━━━━━━━━━━━━━━━━━━━━━━━━━━━━━━━━━━━━━━━\u001b[0m \u001b[32m954.8/954.8 kB\u001b[0m \u001b[31m65.1 MB/s\u001b[0m eta \u001b[36m0:00:00\u001b[0m\n",
            "\u001b[2K   \u001b[90m━━━━━━━━━━━━━━━━━━━━━━━━━━━━━━━━━━━━━━━━\u001b[0m \u001b[32m193.1/193.1 MB\u001b[0m \u001b[31m5.2 MB/s\u001b[0m eta \u001b[36m0:00:00\u001b[0m\n",
            "\u001b[2K   \u001b[90m━━━━━━━━━━━━━━━━━━━━━━━━━━━━━━━━━━━━━━━━\u001b[0m \u001b[32m1.2/1.2 MB\u001b[0m \u001b[31m69.2 MB/s\u001b[0m eta \u001b[36m0:00:00\u001b[0m\n",
            "\u001b[2K   \u001b[90m━━━━━━━━━━━━━━━━━━━━━━━━━━━━━━━━━━━━━━━━\u001b[0m \u001b[32m63.6/63.6 MB\u001b[0m \u001b[31m38.3 MB/s\u001b[0m eta \u001b[36m0:00:00\u001b[0m\n",
            "\u001b[2K   \u001b[90m━━━━━━━━━━━━━━━━━━━━━━━━━━━━━━━━━━━━━━━━\u001b[0m \u001b[32m267.5/267.5 MB\u001b[0m \u001b[31m9.6 MB/s\u001b[0m eta \u001b[36m0:00:00\u001b[0m\n",
            "\u001b[2K   \u001b[90m━━━━━━━━━━━━━━━━━━━━━━━━━━━━━━━━━━━━━━━━\u001b[0m \u001b[32m288.2/288.2 MB\u001b[0m \u001b[31m5.5 MB/s\u001b[0m eta \u001b[36m0:00:00\u001b[0m\n",
            "\u001b[2K   \u001b[90m━━━━━━━━━━━━━━━━━━━━━━━━━━━━━━━━━━━━━━━━\u001b[0m \u001b[32m322.3/322.3 MB\u001b[0m \u001b[31m3.5 MB/s\u001b[0m eta \u001b[36m0:00:00\u001b[0m\n",
            "\u001b[2K   \u001b[90m━━━━━━━━━━━━━━━━━━━━━━━━━━━━━━━━━━━━━━━━\u001b[0m \u001b[32m39.3/39.3 MB\u001b[0m \u001b[31m46.0 MB/s\u001b[0m eta \u001b[36m0:00:00\u001b[0m\n",
            "\u001b[2K   \u001b[90m━━━━━━━━━━━━━━━━━━━━━━━━━━━━━━━━━━━━━━━━\u001b[0m \u001b[32m124.7/124.7 MB\u001b[0m \u001b[31m20.0 MB/s\u001b[0m eta \u001b[36m0:00:00\u001b[0m\n",
            "\u001b[2K   \u001b[90m━━━━━━━━━━━━━━━━━━━━━━━━━━━━━━━━━━━━━━━━\u001b[0m \u001b[32m90.0/90.0 kB\u001b[0m \u001b[31m7.5 MB/s\u001b[0m eta \u001b[36m0:00:00\u001b[0m\n",
            "\u001b[2K   \u001b[90m━━━━━━━━━━━━━━━━━━━━━━━━━━━━━━━━━━━━━━━━\u001b[0m \u001b[32m170.5/170.5 MB\u001b[0m \u001b[31m15.2 MB/s\u001b[0m eta \u001b[36m0:00:00\u001b[0m\n",
            "\u001b[2K   \u001b[90m━━━━━━━━━━━━━━━━━━━━━━━━━━━━━━━━━━━━━━━━\u001b[0m \u001b[32m8.1/8.1 MB\u001b[0m \u001b[31m141.5 MB/s\u001b[0m eta \u001b[36m0:00:00\u001b[0m\n",
            "\u001b[2K   \u001b[90m━━━━━━━━━━━━━━━━━━━━━━━━━━━━━━━━━━━━━━━━\u001b[0m \u001b[32m3.2/3.2 MB\u001b[0m \u001b[31m103.5 MB/s\u001b[0m eta \u001b[36m0:00:00\u001b[0m\n",
            "\u001b[2K   \u001b[90m━━━━━━━━━━━━━━━━━━━━━━━━━━━━━━━━━━━━━━━━\u001b[0m \u001b[32m97.9/97.9 kB\u001b[0m \u001b[31m8.3 MB/s\u001b[0m eta \u001b[36m0:00:00\u001b[0m\n",
            "\u001b[2K   \u001b[90m━━━━━━━━━━━━━━━━━━━━━━━━━━━━━━━━━━━━━━━━\u001b[0m \u001b[32m152.8/152.8 kB\u001b[0m \u001b[31m13.0 MB/s\u001b[0m eta \u001b[36m0:00:00\u001b[0m\n",
            "\u001b[2K   \u001b[90m━━━━━━━━━━━━━━━━━━━━━━━━━━━━━━━━━━━━━━━━\u001b[0m \u001b[32m43.2/43.2 kB\u001b[0m \u001b[31m3.5 MB/s\u001b[0m eta \u001b[36m0:00:00\u001b[0m\n",
            "\u001b[2K   \u001b[90m━━━━━━━━━━━━━━━━━━━━━━━━━━━━━━━━━━━━━━━━\u001b[0m \u001b[32m103.0/103.0 kB\u001b[0m \u001b[31m9.3 MB/s\u001b[0m eta \u001b[36m0:00:00\u001b[0m\n",
            "\u001b[2K   \u001b[90m━━━━━━━━━━━━━━━━━━━━━━━━━━━━━━━━━━━━━━━━\u001b[0m \u001b[32m3.2/3.2 MB\u001b[0m \u001b[31m77.3 MB/s\u001b[0m eta \u001b[36m0:00:00\u001b[0m\n",
            "\u001b[2K   \u001b[90m━━━━━━━━━━━━━━━━━━━━━━━━━━━━━━━━━━━━━━━━\u001b[0m \u001b[32m154.5/154.5 kB\u001b[0m \u001b[31m13.3 MB/s\u001b[0m eta \u001b[36m0:00:00\u001b[0m\n",
            "\u001b[2K   \u001b[90m━━━━━━━━━━━━━━━━━━━━━━━━━━━━━━━━━━━━━━━━\u001b[0m \u001b[32m92.2/92.2 kB\u001b[0m \u001b[31m8.9 MB/s\u001b[0m eta \u001b[36m0:00:00\u001b[0m\n",
            "\u001b[2K   \u001b[90m━━━━━━━━━━━━━━━━━━━━━━━━━━━━━━━━━━━━━━━━\u001b[0m \u001b[32m3.9/3.9 MB\u001b[0m \u001b[31m99.2 MB/s\u001b[0m eta \u001b[36m0:00:00\u001b[0m\n",
            "\u001b[2K   \u001b[90m━━━━━━━━━━━━━━━━━━━━━━━━━━━━━━━━━━━━━━━━\u001b[0m \u001b[32m819.4/819.4 kB\u001b[0m \u001b[31m50.9 MB/s\u001b[0m eta \u001b[36m0:00:00\u001b[0m\n",
            "\u001b[2K   \u001b[90m━━━━━━━━━━━━━━━━━━━━━━━━━━━━━━━━━━━━━━━━\u001b[0m \u001b[32m767.5/767.5 kB\u001b[0m \u001b[31m49.7 MB/s\u001b[0m eta \u001b[36m0:00:00\u001b[0m\n",
            "\u001b[2K   \u001b[90m━━━━━━━━━━━━━━━━━━━━━━━━━━━━━━━━━━━━━━━━\u001b[0m \u001b[32m64.9/64.9 kB\u001b[0m \u001b[31m5.2 MB/s\u001b[0m eta \u001b[36m0:00:00\u001b[0m\n",
            "\u001b[2K   \u001b[90m━━━━━━━━━━━━━━━━━━━━━━━━━━━━━━━━━━━━━━━━\u001b[0m \u001b[32m38.2/38.2 MB\u001b[0m \u001b[31m22.0 MB/s\u001b[0m eta \u001b[36m0:00:00\u001b[0m\n",
            "\u001b[2K   \u001b[90m━━━━━━━━━━━━━━━━━━━━━━━━━━━━━━━━━━━━━━━━\u001b[0m \u001b[32m16.1/16.1 MB\u001b[0m \u001b[31m92.0 MB/s\u001b[0m eta \u001b[36m0:00:00\u001b[0m\n",
            "\u001b[2K   \u001b[90m━━━━━━━━━━━━━━━━━━━━━━━━━━━━━━━━━━━━━━━━\u001b[0m \u001b[32m30.6/30.6 MB\u001b[0m \u001b[31m41.7 MB/s\u001b[0m eta \u001b[36m0:00:00\u001b[0m\n",
            "\u001b[2K   \u001b[90m━━━━━━━━━━━━━━━━━━━━━━━━━━━━━━━━━━━━━━━━\u001b[0m \u001b[32m197.8/197.8 kB\u001b[0m \u001b[31m18.0 MB/s\u001b[0m eta \u001b[36m0:00:00\u001b[0m\n",
            "\u001b[2K   \u001b[90m━━━━━━━━━━━━━━━━━━━━━━━━━━━━━━━━━━━━━━━━\u001b[0m \u001b[32m215.4/215.4 kB\u001b[0m \u001b[31m21.4 MB/s\u001b[0m eta \u001b[36m0:00:00\u001b[0m\n",
            "\u001b[2K   \u001b[90m━━━━━━━━━━━━━━━━━━━━━━━━━━━━━━━━━━━━━━━━\u001b[0m \u001b[32m18.0/18.0 MB\u001b[0m \u001b[31m116.5 MB/s\u001b[0m eta \u001b[36m0:00:00\u001b[0m\n",
            "\u001b[2K   \u001b[90m━━━━━━━━━━━━━━━━━━━━━━━━━━━━━━━━━━━━━━━━\u001b[0m \u001b[32m36.2/36.2 MB\u001b[0m \u001b[31m69.5 MB/s\u001b[0m eta \u001b[36m0:00:00\u001b[0m\n",
            "\u001b[2K   \u001b[90m━━━━━━━━━━━━━━━━━━━━━━━━━━━━━━━━━━━━━━━━\u001b[0m \u001b[32m268.4/268.4 kB\u001b[0m \u001b[31m25.8 MB/s\u001b[0m eta \u001b[36m0:00:00\u001b[0m\n",
            "\u001b[2K   \u001b[90m━━━━━━━━━━━━━━━━━━━━━━━━━━━━━━━━━━━━━━━━\u001b[0m \u001b[32m42.4/42.4 MB\u001b[0m \u001b[31m58.2 MB/s\u001b[0m eta \u001b[36m0:00:00\u001b[0m\n",
            "\u001b[2K   \u001b[90m━━━━━━━━━━━━━━━━━━━━━━━━━━━━━━━━━━━━━━━━\u001b[0m \u001b[32m983.2/983.2 kB\u001b[0m \u001b[31m39.5 MB/s\u001b[0m eta \u001b[36m0:00:00\u001b[0m\n",
            "\u001b[2K   \u001b[90m━━━━━━━━━━━━━━━━━━━━━━━━━━━━━━━━━━━━━━━━\u001b[0m \u001b[32m266.7/266.7 kB\u001b[0m \u001b[31m23.8 MB/s\u001b[0m eta \u001b[36m0:00:00\u001b[0m\n",
            "\u001b[?25h  Building wheel for fairscale (pyproject.toml) ... \u001b[?25l\u001b[?25hdone\n",
            "  Building wheel for modelcif (setup.py) ... \u001b[?25l\u001b[?25hdone\n",
            "  Building wheel for ihm (setup.py) ... \u001b[?25l\u001b[?25hdone\n",
            "\u001b[31mERROR: pip's dependency resolver does not currently take into account all the packages that are installed. This behaviour is the source of the following dependency conflicts.\n",
            "google-colab 1.0.0 requires requests==2.32.4, but you have requests 2.32.3 which is incompatible.\n",
            "jaxlib 0.7.2 requires numpy>=2.0, but you have numpy 1.26.4 which is incompatible.\n",
            "pytensor 2.35.1 requires numpy>=2.0, but you have numpy 1.26.4 which is incompatible.\n",
            "jax 0.7.2 requires numpy>=2.0, but you have numpy 1.26.4 which is incompatible.\n",
            "thinc 8.3.6 requires numpy<3.0.0,>=2.0.0, but you have numpy 1.26.4 which is incompatible.\n",
            "opencv-contrib-python 4.12.0.88 requires numpy<2.3.0,>=2; python_version >= \"3.9\", but you have numpy 1.26.4 which is incompatible.\n",
            "torchaudio 2.8.0+cu126 requires torch==2.8.0, but you have torch 2.9.0 which is incompatible.\n",
            "google-adk 1.16.0 requires click<9.0.0,>=8.1.8, but you have click 8.1.7 which is incompatible.\n",
            "google-adk 1.16.0 requires requests<3.0.0,>=2.32.4, but you have requests 2.32.3 which is incompatible.\n",
            "opencv-python-headless 4.12.0.88 requires numpy<2.3.0,>=2; python_version >= \"3.9\", but you have numpy 1.26.4 which is incompatible.\n",
            "tsfresh 0.21.1 requires scipy>=1.14.0; python_version >= \"3.10\", but you have scipy 1.13.1 which is incompatible.\n",
            "fastai 2.8.4 requires torch<2.9,>=1.10, but you have torch 2.9.0 which is incompatible.\n",
            "opencv-python 4.12.0.88 requires numpy<2.3.0,>=2; python_version >= \"3.9\", but you have numpy 1.26.4 which is incompatible.\u001b[0m\u001b[31m\n",
            "\u001b[0m"
          ]
        }
      ]
    },
    {
      "cell_type": "markdown",
      "source": [
        "### Import libraries"
      ],
      "metadata": {
        "id": "YTptFITwi3dx"
      }
    },
    {
      "cell_type": "code",
      "source": [
        "!git clone https://github.com/MauricioCafiero/CafChem.git"
      ],
      "metadata": {
        "colab": {
          "base_uri": "https://localhost:8080/"
        },
        "id": "adgugchQ7lS_",
        "outputId": "ff34e518-4ddd-411d-acce-dede97c601c3"
      },
      "execution_count": 3,
      "outputs": [
        {
          "output_type": "stream",
          "name": "stdout",
          "text": [
            "Cloning into 'CafChem'...\n",
            "remote: Enumerating objects: 1055, done.\u001b[K\n",
            "remote: Counting objects: 100% (377/377), done.\u001b[K\n",
            "remote: Compressing objects: 100% (120/120), done.\u001b[K\n",
            "remote: Total 1055 (delta 340), reused 257 (delta 257), pack-reused 678 (from 1)\u001b[K\n",
            "Receiving objects: 100% (1055/1055), 44.85 MiB | 39.63 MiB/s, done.\n",
            "Resolving deltas: 100% (621/621), done.\n"
          ]
        }
      ]
    },
    {
      "cell_type": "code",
      "source": [
        "import os\n",
        "import py3Dmol\n",
        "import CafChem.CafChemBoltz as ccb"
      ],
      "metadata": {
        "id": "PYrdXNIPiuLw"
      },
      "execution_count": 4,
      "outputs": []
    },
    {
      "cell_type": "markdown",
      "source": [
        "## Co-fold ligands and proteins with Boltz2\n",
        "- make_boltz_files tool accepts a list of SMILES, a protein sequence (single chain for now), the name of the protein, and an option list of ligand names.\n",
        "  - returns .yaml files for each ligand with the protein, ready for analysis by Boltz.\n",
        "- cofold tool accepts the names list returned by the previous tool and runs the analysis on each. returns a list of pIC50 values."
      ],
      "metadata": {
        "id": "sWLvnd8ujKNR"
      }
    },
    {
      "cell_type": "code",
      "source": [
        "ccb.get_sequences()"
      ],
      "metadata": {
        "colab": {
          "base_uri": "https://localhost:8080/"
        },
        "id": "y2rfbDZbTbem",
        "outputId": "219ba17b-002a-470c-bc1d-4af8804869ce"
      },
      "execution_count": 5,
      "outputs": [
        {
          "output_type": "stream",
          "name": "stdout",
          "text": [
            "Available proteins are:\n",
            "MAOB\n",
            "HMGCR\n",
            "SULT1A3\n",
            "ADRB1\n",
            "ADRB2\n",
            "DRD2\n",
            "\n",
            "reference a protein sequence with: sequence_bank['YOUR_PROTEIN_NAME']\n"
          ]
        }
      ]
    },
    {
      "cell_type": "code",
      "source": [
        "# sult1a3 example\n",
        "mols = [\"dop\",\"ldop\",\"para\",\"napqi\"]\n",
        "smiles = [\"NCCc1cc(O)c(O)cc1\",\"C1=CC(=C(C=C1C[C@@H](C(=O)O)N)O)O\",\"CC(=O)Nc1ccc(O)cc1\",\"CC(=O)N=c1ccc(=O)cc1\"]\n",
        "seq = ccb.sequence_bank[\"SULT1A3\"]"
      ],
      "metadata": {
        "id": "TLyG_kP1jJHJ"
      },
      "execution_count": 9,
      "outputs": []
    },
    {
      "cell_type": "code",
      "source": [
        "# hmgcr example\n",
        "mols = [\"rosuvastatin\"]\n",
        "smiles = [\"OC(=O)C[C@H](O)C[C@H](O)\\C=C\\c1c(C(C)C)nc(N(C)S(=O)(=O)C)nc1c2ccc(F)cc2\"]\n",
        "seq = ccb.sequence_bank[\"HMGCR\"]"
      ],
      "metadata": {
        "id": "meEtcya_0mFM"
      },
      "execution_count": null,
      "outputs": []
    },
    {
      "cell_type": "code",
      "source": [
        "# semaglutide and water\n",
        "mols = [\"semaglutide\"]\n",
        "smiles = [\"O\"]\n",
        "seq = \"MLEGTFTSDVSSYLEGQALKEAIAWLERLRG\""
      ],
      "metadata": {
        "id": "ziR1END9geCR"
      },
      "execution_count": 6,
      "outputs": []
    },
    {
      "cell_type": "code",
      "source": [
        "files = ccb.make_boltz_files(smiles,seq,\"test\",mols)"
      ],
      "metadata": {
        "id": "wXsqRlVA1ieL"
      },
      "execution_count": 7,
      "outputs": []
    },
    {
      "cell_type": "code",
      "source": [
        "pic50s = ccb.cofold(files)"
      ],
      "metadata": {
        "colab": {
          "base_uri": "https://localhost:8080/"
        },
        "id": "9S2PLL1w1u2o",
        "outputId": "498f33f5-6e9d-4221-ac4d-14938c7bf621"
      },
      "execution_count": 8,
      "outputs": [
        {
          "output_type": "stream",
          "name": "stdout",
          "text": [
            "semaglutide done\n",
            "pIC50 is: 7.7196283290386205\n",
            "IC50 is: 1.9070921168757313e-08\n",
            "Binder or Decoy: 0.17689204216003418\n"
          ]
        }
      ]
    },
    {
      "cell_type": "code",
      "source": [
        "files = ccb.make_boltz_files(smiles,seq,\"Novel_SGT\",mols)"
      ],
      "metadata": {
        "id": "QJ4jwC1Jl9XI"
      },
      "execution_count": 13,
      "outputs": []
    },
    {
      "cell_type": "code",
      "source": [
        "pIC50s = ccb.cofold(files)"
      ],
      "metadata": {
        "colab": {
          "base_uri": "https://localhost:8080/"
        },
        "id": "0MDM2cr2jRHJ",
        "outputId": "830ec277-9a97-4ba7-f175-3dc88f67d5d4"
      },
      "execution_count": 14,
      "outputs": [
        {
          "output_type": "stream",
          "name": "stdout",
          "text": [
            "semaglutide done\n",
            "pIC50 is: 7.396324897527696\n",
            "IC50 is: 4.014903418592768e-08\n",
            "Binder or Decoy: 0.17538872361183167\n"
          ]
        }
      ]
    },
    {
      "cell_type": "markdown",
      "source": [
        "## Get structure files\n",
        "- retreive and download the CIF file mane by Boltz\n",
        "- produce two XYZ files for the folded protein and the ligand (no Hs on either)"
      ],
      "metadata": {
        "id": "RhOFbijzUktP"
      }
    },
    {
      "cell_type": "code",
      "source": [
        "ccb.download_cif(files[0])"
      ],
      "metadata": {
        "colab": {
          "base_uri": "https://localhost:8080/",
          "height": 17
        },
        "id": "c8nn6uezT74T",
        "outputId": "cdc6565c-25ee-47b9-fe3f-a3007f888af2"
      },
      "execution_count": 9,
      "outputs": [
        {
          "output_type": "display_data",
          "data": {
            "text/plain": [
              "<IPython.core.display.Javascript object>"
            ],
            "application/javascript": [
              "\n",
              "    async function download(id, filename, size) {\n",
              "      if (!google.colab.kernel.accessAllowed) {\n",
              "        return;\n",
              "      }\n",
              "      const div = document.createElement('div');\n",
              "      const label = document.createElement('label');\n",
              "      label.textContent = `Downloading \"${filename}\": `;\n",
              "      div.appendChild(label);\n",
              "      const progress = document.createElement('progress');\n",
              "      progress.max = size;\n",
              "      div.appendChild(progress);\n",
              "      document.body.appendChild(div);\n",
              "\n",
              "      const buffers = [];\n",
              "      let downloaded = 0;\n",
              "\n",
              "      const channel = await google.colab.kernel.comms.open(id);\n",
              "      // Send a message to notify the kernel that we're ready.\n",
              "      channel.send({})\n",
              "\n",
              "      for await (const message of channel.messages) {\n",
              "        // Send a message to notify the kernel that we're ready.\n",
              "        channel.send({})\n",
              "        if (message.buffers) {\n",
              "          for (const buffer of message.buffers) {\n",
              "            buffers.push(buffer);\n",
              "            downloaded += buffer.byteLength;\n",
              "            progress.value = downloaded;\n",
              "          }\n",
              "        }\n",
              "      }\n",
              "      const blob = new Blob(buffers, {type: 'application/binary'});\n",
              "      const a = document.createElement('a');\n",
              "      a.href = window.URL.createObjectURL(blob);\n",
              "      a.download = filename;\n",
              "      div.appendChild(a);\n",
              "      a.click();\n",
              "      div.remove();\n",
              "    }\n",
              "  "
            ]
          },
          "metadata": {}
        },
        {
          "output_type": "display_data",
          "data": {
            "text/plain": [
              "<IPython.core.display.Javascript object>"
            ],
            "application/javascript": [
              "download(\"download_7f4a33fd-1965-410b-a7d0-7d102a49c1b9\", \"semaglutide_model_0.cif\", 24390)"
            ]
          },
          "metadata": {}
        }
      ]
    },
    {
      "cell_type": "code",
      "source": [
        "ccb.get_XYZ_files(\"semaglutide\", \"sgt\")"
      ],
      "metadata": {
        "id": "SWXFOEekoo9G"
      },
      "execution_count": 11,
      "outputs": []
    },
    {
      "cell_type": "code",
      "source": [
        "f = open(\"/content/semaglutide_sgt_protein.xyz\",\"r\")\n",
        "xyz = f.read()\n",
        "f.close()\n",
        "\n",
        "ccb.visualize_molecule(xyz)"
      ],
      "metadata": {
        "colab": {
          "base_uri": "https://localhost:8080/",
          "height": 417
        },
        "id": "R_p0SzUFweFk",
        "outputId": "cc294384-3b25-43ac-b07c-111f442876cd"
      },
      "execution_count": 12,
      "outputs": [
        {
          "output_type": "display_data",
          "data": {
            "application/3dmoljs_load.v0": "<div id=\"3dmolviewer_17613873537009163\"  style=\"position: relative; width: 800px; height: 400px;\">\n        <p id=\"3dmolwarning_17613873537009163\" style=\"background-color:#ffcccc;color:black\">3Dmol.js failed to load for some reason.  Please check your browser console for error messages.<br></p>\n        </div>\n<script>\n\nvar loadScriptAsync = function(uri){\n  return new Promise((resolve, reject) => {\n    //this is to ignore the existence of requirejs amd\n    var savedexports, savedmodule;\n    if (typeof exports !== 'undefined') savedexports = exports;\n    else exports = {}\n    if (typeof module !== 'undefined') savedmodule = module;\n    else module = {}\n\n    var tag = document.createElement('script');\n    tag.src = uri;\n    tag.async = true;\n    tag.onload = () => {\n        exports = savedexports;\n        module = savedmodule;\n        resolve();\n    };\n  var firstScriptTag = document.getElementsByTagName('script')[0];\n  firstScriptTag.parentNode.insertBefore(tag, firstScriptTag);\n});\n};\n\nif(typeof $3Dmolpromise === 'undefined') {\n$3Dmolpromise = null;\n  $3Dmolpromise = loadScriptAsync('https://cdn.jsdelivr.net/npm/3dmol@2.5.3/build/3Dmol-min.js');\n}\n\nvar viewer_17613873537009163 = null;\nvar warn = document.getElementById(\"3dmolwarning_17613873537009163\");\nif(warn) {\n    warn.parentNode.removeChild(warn);\n}\n$3Dmolpromise.then(function() {\nviewer_17613873537009163 = $3Dmol.createViewer(document.getElementById(\"3dmolviewer_17613873537009163\"),{backgroundColor:\"white\"});\nviewer_17613873537009163.zoomTo();\n\tviewer_17613873537009163.addModel(\"243\\n\\nN    3.56312    -9.18488    23.57364\\nC    3.07766    -7.90207    23.04950\\nC    4.05578    -7.30155    22.03910\\nO    3.63285    -6.81939    20.98561\\nC    2.81643    -6.90401    24.16887\\nC    1.51825    -7.15357    24.92132\\nS    0.04419    -7.08298    23.86671\\nC    -0.00705    -5.34178    23.41583\\nN    5.35425    -7.32590    22.35029\\nC    6.34047    -6.74443    21.44275\\nC    6.33807    -7.44914    20.09060\\nO    6.34551    -6.79314    19.03998\\nC    7.74032    -6.79340    22.07247\\nC    8.85508    -6.03525    21.35148\\nC    9.88449    -5.56235    22.36782\\nC    9.51536    -6.89593    20.27868\\nN    6.32364    -8.77650    20.09497\\nC    6.32291    -9.52873    18.84055\\nC    5.04877    -9.27724    18.03971\\nO    5.09144    -9.11618    16.81980\\nC    6.48563    -11.02850    19.11367\\nC    7.87178    -11.42306    19.62226\\nC    8.01342    -11.27938    21.12730\\nO    7.06563    -10.80682    21.79535\\nO    9.08161    -11.64658    21.65656\\nN    3.90165    -9.23351    18.72548\\nC    2.64786    -8.96652    18.04327\\nC    2.60712    -7.56760    17.45546\\nO    2.09181    -7.36121    16.35250\\nN    3.15547    -6.60243    18.17588\\nC    3.20916    -5.22983    17.68595\\nC    4.10448    -5.14952    16.45308\\nO    3.76941    -4.47255    15.47763\\nC    3.72298    -4.28173    18.77816\\nO    2.82606    -4.30828    19.88912\\nC    3.83276    -2.85225    18.25913\\nN    5.23588    -5.83838    16.48705\\nC    6.15515    -5.83660    15.34816\\nC    5.48475    -6.40173    14.09883\\nO    5.55096    -5.80001    13.02293\\nC    7.40918    -6.64654    15.68826\\nC    8.33951    -6.84092    14.52014\\nC    9.23897    -5.85123    14.16051\\nC    8.31350    -8.01533    13.78153\\nC    10.09973    -6.02287    13.08609\\nC    9.17090    -8.19931    12.70497\\nC    10.06082    -7.20268    12.35920\\nN    4.84709    -7.56408    14.20890\\nC    4.21644    -8.17684    13.04318\\nC    3.04891    -7.33921    12.54167\\nO    2.83809    -7.22501    11.33176\\nC    3.75131    -9.61070    13.34438\\nO    2.88620    -9.63082    14.47205\\nC    4.95903    -10.50029    13.62280\\nN    2.28350    -6.72838    13.45673\\nC    1.17773    -5.87271    13.05328\\nC    1.70514    -4.64105    12.32028\\nO    1.14884    -4.23262    11.29173\\nC    0.35730    -5.44988    14.27372\\nO    -0.66284    -4.53068    13.91011\\nN    2.77079    -4.03945    12.83660\\nC    3.34848    -2.85839    12.20317\\nC    3.87523    -3.17431    10.80502\\nO    3.68778    -2.39115    9.86754\\nC    4.48978    -2.29373    13.06095\\nC    4.00662    -1.60266    14.32342\\nO    2.78872    -1.37076    14.46871\\nO    4.86357    -1.29025    15.17612\\nN    4.54623    -4.31850    10.65054\\nC    5.07356    -4.69807    9.34667\\nC    3.93533    -4.95194    8.36255\\nO    4.00242    -4.53303    7.20345\\nC    5.98190    -5.94129    9.46286\\nC    6.35331    -6.46337    8.07865\\nC    7.24152    -5.57905    10.24591\\nN    2.88240    -5.63179    8.81101\\nC    1.74449    -5.89652    7.93582\\nC    1.08515    -4.60042    7.48403\\nO    0.73707    -4.44817    6.30977\\nC    0.71314    -6.78063    8.64059\\nO    1.25431    -8.06072    8.91363\\nN    0.90714    -3.65832    8.40961\\nC    0.29678    -2.37767    8.06297\\nC    1.17453    -1.60657    7.08560\\nO    0.67607    -0.97503    6.14790\\nC    0.06307    -1.53711    9.31906\\nO    -0.90016    -2.15180    10.16308\\nN    2.49326    -1.65345    7.28599\\nC    3.42566    -0.96770    6.39533\\nC    3.34292    -1.54067    4.98095\\nO    3.27603    -0.79387    3.99650\\nC    4.85382    -1.10402    6.93236\\nC    5.90889    -0.59468    5.98789\\nC    6.24694    0.75624    5.95861\\nC    6.57055    -1.45869    5.11386\\nC    7.21705    1.23355    5.08312\\nC    7.54369    -0.98866    4.23989\\nC    7.85811    0.35513    4.22915\\nO    8.82315    0.82339    3.35310\\nN    3.34555    -2.87048    4.86855\\nC    3.28387    -3.49886    3.55410\\nC    1.97185    -3.18750    2.84268\\nO    1.95307    -2.94303    1.63437\\nC    3.47282    -5.01316    3.68294\\nC    4.85155    -5.45562    4.16589\\nC    4.86416    -6.95899    4.42564\\nC    5.92791    -5.06216    3.15446\\nN    0.86466    -3.19019    3.58966\\nC    -0.42541    -2.86497    2.99450\\nC    -0.44315    -1.42302    2.50614\\nO    -0.96754    -1.13004    1.42569\\nC    -1.55200    -3.09979    4.00871\\nC    -1.81762    -4.57428    4.27184\\nC    -2.80435    -4.80269    5.39913\\nO    -3.49252    -3.84402    5.82350\\nO    -2.89548    -5.95185    5.87350\\nN    0.13928    -0.51206    3.28354\\nC    0.19162    0.88616    2.88158\\nC    1.02475    1.08960    1.62972\\nO    0.65024    1.86329    0.74096\\nN    2.15618    0.40623    1.54671\\nC    3.00858    0.52939    0.37153\\nC    2.32621    -0.05134    -0.86559\\nO    2.44282    0.50465    -1.96300\\nC    4.35272    -0.15872    0.60613\\nC    5.24060    0.56434    1.60809\\nC    5.48797    2.00646    1.23301\\nO    5.10738    2.93147    1.94771\\nN    6.13166    2.21751    0.08885\\nN    1.61965    -1.16979    -0.70697\\nC    0.90844    -1.75980    -1.83368\\nC    -0.16406    -0.80132    -2.34255\\nO    -0.35660    -0.65354    -3.55389\\nC    0.27942    -3.08927    -1.42732\\nN    -0.87385    -0.13495    -1.43182\\nC    -1.90680    0.81641    -1.82365\\nC    -1.30021    2.01179    -2.55544\\nO    -1.85275    2.48047    -3.55417\\nC    -2.69397    1.28245    -0.59320\\nC    -3.78331    2.31793    -0.83916\\nC    -4.82454    1.79511    -1.82895\\nC    -4.44487    2.70570    0.48137\\nN    -0.16063    2.51419    -2.05832\\nC    0.49327    3.64647    -2.70972\\nC    0.90011    3.28456    -4.13412\\nO    0.76874    4.10358    -5.05132\\nC    1.72390    4.08699    -1.90382\\nC    1.36204    4.82578    -0.61774\\nC    2.55800    4.98967    0.30094\\nC    3.52926    6.07110    -0.15475\\nN    2.95544    7.42644    0.02834\\nN    1.38524    2.05193    -4.34409\\nC    1.77327    1.62602    -5.68276\\nC    0.55055    1.50421    -6.59186\\nO    0.61361    1.85380    -7.77267\\nC    2.51314    0.28721    -5.62280\\nC    3.89889    0.38357    -5.00008\\nC    4.84040    1.26122    -5.79770\\nO    4.86401    1.15521    -7.04661\\nO    5.56827    2.06482    -5.17014\\nN    -0.56700    1.01714    -6.04709\\nC    -1.78623    0.89996    -6.83621\\nC    -2.28829    2.27394    -7.26412\\nO    -2.73413    2.45462    -8.40211\\nC    -2.86278    0.16661    -6.04021\\nN    -2.22874    3.24868    -6.36004\\nC    -2.66445    4.60413    -6.68422\\nC    -1.77982    5.19967    -7.78028\\nO    -2.27736    5.82809    -8.72033\\nC    -2.65395    5.49694    -5.42534\\nC    -3.74316    5.03427    -4.45154\\nC    -2.86163    6.95949    -5.80768\\nC    -3.62315    5.64229    -3.06285\\nN    -0.47533    4.99774    -7.68142\\nC    0.44230    5.51581    -8.69362\\nC    0.15918    4.87920    -10.05211\\nO    0.21054    5.54507    -11.09057\\nC    1.88650    5.24902    -8.27754\\nN    -0.14705    3.59034    -10.04856\\nC    -0.45999    2.87458    -11.28708\\nC    -1.72393    3.45273    -11.92386\\nO    -1.76957    3.69647    -13.13183\\nC    -0.63177    1.38393    -10.97288\\nC    -1.12548    0.52978    -12.09977\\nC    -0.43850    0.15374    -13.21119\\nC    -2.42045    -0.08525    -12.19633\\nN    -1.22260    -0.65578    -14.00298\\nC    -2.44559    -0.81979    -13.40140\\nC    -3.55286    -0.08865    -11.37325\\nC    -3.56969    -1.55330    -13.79803\\nC    -4.66577    -0.81555    -11.77136\\nC    -4.66598    -1.53725    -12.97075\\nN    -2.76604    3.69640    -11.11222\\nC    -4.00551    4.26277    -11.63411\\nC    -3.78657    5.66489    -12.19089\\nO    -4.35771    6.02689    -13.22339\\nC    -5.07722    4.29760    -10.54045\\nC    -5.63919    2.94254    -10.12231\\nC    -6.49906    3.08979    -8.86825\\nC    -6.45056    2.32688    -11.25958\\nN    -2.95865    6.45659    -11.50819\\nC    -2.69228    7.80798    -11.98702\\nC    -1.93696    7.78709    -13.31254\\nO    -2.15830    8.64565    -14.17026\\nC    -1.91315    8.60144    -10.94413\\nC    -2.75343    8.95360    -9.72763\\nC    -2.55654    10.37728    -9.28186\\nO    -1.59828    10.63639    -8.52456\\nO    -3.35562    11.23560    -9.69745\\nN    -1.05105    6.83112    -13.48794\\nC    -0.32329    6.73994    -14.74633\\nC    -1.25972    6.32850    -15.88664\\nO    -1.11706    6.80955    -17.01395\\nC    0.84345    5.75628    -14.63148\\nC    1.74468    5.81878    -15.85489\\nC    3.13996    5.31535    -15.55884\\nN    4.00377    5.50628    -16.72091\\nC    4.86360    6.50329    -16.86284\\nN    4.99454    7.40830    -15.89678\\nN    5.59860    6.59721    -17.96337\\nN    -2.20795    5.45371    -15.60762\\nC    -3.17333    5.05427    -16.62531\\nC    -4.05203    6.23468    -17.03127\\nO    -4.45960    6.34454    -18.18828\\nC    -4.05553    3.91501    -16.11592\\nC    -3.39749    2.54812    -15.95028\\nC    -4.41937    1.55147    -15.41996\\nC    -2.80929    2.06440    -17.26911\\nN    -4.35837    7.09915    -16.07072\\nC    -5.18404    8.26982    -16.35309\\nC    -4.44515    9.26825    -17.24981\\nO    -5.04764    9.86931    -18.14496\\nC    -5.58703    8.95918    -15.03969\\nC    -6.48788    10.16367    -15.23046\\nC    -6.71535    10.88747    -13.91447\\nN    -5.48025    11.48961    -13.43499\\nC    -5.31827    11.99752    -12.21779\\nN    -6.31502    11.97229    -11.34550\\nN    -4.14875    12.52743    -11.88422\\nN    -3.15819    9.44177    -17.02468\\nC    -2.37934    10.43284    -17.73883\\nC    -1.73831    9.93579    -19.02554\\nO    -2.15395    8.94357    -19.60921\\n\",\"xyz\");\n\tviewer_17613873537009163.setStyle({\"stick\": {}, \"sphere\": {\"radius\": 0.5}});\n\tviewer_17613873537009163.zoomTo();\nviewer_17613873537009163.render();\n});\n</script>",
            "text/html": [
              "<div id=\"3dmolviewer_17613873537009163\"  style=\"position: relative; width: 800px; height: 400px;\">\n",
              "        <p id=\"3dmolwarning_17613873537009163\" style=\"background-color:#ffcccc;color:black\">3Dmol.js failed to load for some reason.  Please check your browser console for error messages.<br></p>\n",
              "        </div>\n",
              "<script>\n",
              "\n",
              "var loadScriptAsync = function(uri){\n",
              "  return new Promise((resolve, reject) => {\n",
              "    //this is to ignore the existence of requirejs amd\n",
              "    var savedexports, savedmodule;\n",
              "    if (typeof exports !== 'undefined') savedexports = exports;\n",
              "    else exports = {}\n",
              "    if (typeof module !== 'undefined') savedmodule = module;\n",
              "    else module = {}\n",
              "\n",
              "    var tag = document.createElement('script');\n",
              "    tag.src = uri;\n",
              "    tag.async = true;\n",
              "    tag.onload = () => {\n",
              "        exports = savedexports;\n",
              "        module = savedmodule;\n",
              "        resolve();\n",
              "    };\n",
              "  var firstScriptTag = document.getElementsByTagName('script')[0];\n",
              "  firstScriptTag.parentNode.insertBefore(tag, firstScriptTag);\n",
              "});\n",
              "};\n",
              "\n",
              "if(typeof $3Dmolpromise === 'undefined') {\n",
              "$3Dmolpromise = null;\n",
              "  $3Dmolpromise = loadScriptAsync('https://cdn.jsdelivr.net/npm/3dmol@2.5.3/build/3Dmol-min.js');\n",
              "}\n",
              "\n",
              "var viewer_17613873537009163 = null;\n",
              "var warn = document.getElementById(\"3dmolwarning_17613873537009163\");\n",
              "if(warn) {\n",
              "    warn.parentNode.removeChild(warn);\n",
              "}\n",
              "$3Dmolpromise.then(function() {\n",
              "viewer_17613873537009163 = $3Dmol.createViewer(document.getElementById(\"3dmolviewer_17613873537009163\"),{backgroundColor:\"white\"});\n",
              "viewer_17613873537009163.zoomTo();\n",
              "\tviewer_17613873537009163.addModel(\"243\\n\\nN    3.56312    -9.18488    23.57364\\nC    3.07766    -7.90207    23.04950\\nC    4.05578    -7.30155    22.03910\\nO    3.63285    -6.81939    20.98561\\nC    2.81643    -6.90401    24.16887\\nC    1.51825    -7.15357    24.92132\\nS    0.04419    -7.08298    23.86671\\nC    -0.00705    -5.34178    23.41583\\nN    5.35425    -7.32590    22.35029\\nC    6.34047    -6.74443    21.44275\\nC    6.33807    -7.44914    20.09060\\nO    6.34551    -6.79314    19.03998\\nC    7.74032    -6.79340    22.07247\\nC    8.85508    -6.03525    21.35148\\nC    9.88449    -5.56235    22.36782\\nC    9.51536    -6.89593    20.27868\\nN    6.32364    -8.77650    20.09497\\nC    6.32291    -9.52873    18.84055\\nC    5.04877    -9.27724    18.03971\\nO    5.09144    -9.11618    16.81980\\nC    6.48563    -11.02850    19.11367\\nC    7.87178    -11.42306    19.62226\\nC    8.01342    -11.27938    21.12730\\nO    7.06563    -10.80682    21.79535\\nO    9.08161    -11.64658    21.65656\\nN    3.90165    -9.23351    18.72548\\nC    2.64786    -8.96652    18.04327\\nC    2.60712    -7.56760    17.45546\\nO    2.09181    -7.36121    16.35250\\nN    3.15547    -6.60243    18.17588\\nC    3.20916    -5.22983    17.68595\\nC    4.10448    -5.14952    16.45308\\nO    3.76941    -4.47255    15.47763\\nC    3.72298    -4.28173    18.77816\\nO    2.82606    -4.30828    19.88912\\nC    3.83276    -2.85225    18.25913\\nN    5.23588    -5.83838    16.48705\\nC    6.15515    -5.83660    15.34816\\nC    5.48475    -6.40173    14.09883\\nO    5.55096    -5.80001    13.02293\\nC    7.40918    -6.64654    15.68826\\nC    8.33951    -6.84092    14.52014\\nC    9.23897    -5.85123    14.16051\\nC    8.31350    -8.01533    13.78153\\nC    10.09973    -6.02287    13.08609\\nC    9.17090    -8.19931    12.70497\\nC    10.06082    -7.20268    12.35920\\nN    4.84709    -7.56408    14.20890\\nC    4.21644    -8.17684    13.04318\\nC    3.04891    -7.33921    12.54167\\nO    2.83809    -7.22501    11.33176\\nC    3.75131    -9.61070    13.34438\\nO    2.88620    -9.63082    14.47205\\nC    4.95903    -10.50029    13.62280\\nN    2.28350    -6.72838    13.45673\\nC    1.17773    -5.87271    13.05328\\nC    1.70514    -4.64105    12.32028\\nO    1.14884    -4.23262    11.29173\\nC    0.35730    -5.44988    14.27372\\nO    -0.66284    -4.53068    13.91011\\nN    2.77079    -4.03945    12.83660\\nC    3.34848    -2.85839    12.20317\\nC    3.87523    -3.17431    10.80502\\nO    3.68778    -2.39115    9.86754\\nC    4.48978    -2.29373    13.06095\\nC    4.00662    -1.60266    14.32342\\nO    2.78872    -1.37076    14.46871\\nO    4.86357    -1.29025    15.17612\\nN    4.54623    -4.31850    10.65054\\nC    5.07356    -4.69807    9.34667\\nC    3.93533    -4.95194    8.36255\\nO    4.00242    -4.53303    7.20345\\nC    5.98190    -5.94129    9.46286\\nC    6.35331    -6.46337    8.07865\\nC    7.24152    -5.57905    10.24591\\nN    2.88240    -5.63179    8.81101\\nC    1.74449    -5.89652    7.93582\\nC    1.08515    -4.60042    7.48403\\nO    0.73707    -4.44817    6.30977\\nC    0.71314    -6.78063    8.64059\\nO    1.25431    -8.06072    8.91363\\nN    0.90714    -3.65832    8.40961\\nC    0.29678    -2.37767    8.06297\\nC    1.17453    -1.60657    7.08560\\nO    0.67607    -0.97503    6.14790\\nC    0.06307    -1.53711    9.31906\\nO    -0.90016    -2.15180    10.16308\\nN    2.49326    -1.65345    7.28599\\nC    3.42566    -0.96770    6.39533\\nC    3.34292    -1.54067    4.98095\\nO    3.27603    -0.79387    3.99650\\nC    4.85382    -1.10402    6.93236\\nC    5.90889    -0.59468    5.98789\\nC    6.24694    0.75624    5.95861\\nC    6.57055    -1.45869    5.11386\\nC    7.21705    1.23355    5.08312\\nC    7.54369    -0.98866    4.23989\\nC    7.85811    0.35513    4.22915\\nO    8.82315    0.82339    3.35310\\nN    3.34555    -2.87048    4.86855\\nC    3.28387    -3.49886    3.55410\\nC    1.97185    -3.18750    2.84268\\nO    1.95307    -2.94303    1.63437\\nC    3.47282    -5.01316    3.68294\\nC    4.85155    -5.45562    4.16589\\nC    4.86416    -6.95899    4.42564\\nC    5.92791    -5.06216    3.15446\\nN    0.86466    -3.19019    3.58966\\nC    -0.42541    -2.86497    2.99450\\nC    -0.44315    -1.42302    2.50614\\nO    -0.96754    -1.13004    1.42569\\nC    -1.55200    -3.09979    4.00871\\nC    -1.81762    -4.57428    4.27184\\nC    -2.80435    -4.80269    5.39913\\nO    -3.49252    -3.84402    5.82350\\nO    -2.89548    -5.95185    5.87350\\nN    0.13928    -0.51206    3.28354\\nC    0.19162    0.88616    2.88158\\nC    1.02475    1.08960    1.62972\\nO    0.65024    1.86329    0.74096\\nN    2.15618    0.40623    1.54671\\nC    3.00858    0.52939    0.37153\\nC    2.32621    -0.05134    -0.86559\\nO    2.44282    0.50465    -1.96300\\nC    4.35272    -0.15872    0.60613\\nC    5.24060    0.56434    1.60809\\nC    5.48797    2.00646    1.23301\\nO    5.10738    2.93147    1.94771\\nN    6.13166    2.21751    0.08885\\nN    1.61965    -1.16979    -0.70697\\nC    0.90844    -1.75980    -1.83368\\nC    -0.16406    -0.80132    -2.34255\\nO    -0.35660    -0.65354    -3.55389\\nC    0.27942    -3.08927    -1.42732\\nN    -0.87385    -0.13495    -1.43182\\nC    -1.90680    0.81641    -1.82365\\nC    -1.30021    2.01179    -2.55544\\nO    -1.85275    2.48047    -3.55417\\nC    -2.69397    1.28245    -0.59320\\nC    -3.78331    2.31793    -0.83916\\nC    -4.82454    1.79511    -1.82895\\nC    -4.44487    2.70570    0.48137\\nN    -0.16063    2.51419    -2.05832\\nC    0.49327    3.64647    -2.70972\\nC    0.90011    3.28456    -4.13412\\nO    0.76874    4.10358    -5.05132\\nC    1.72390    4.08699    -1.90382\\nC    1.36204    4.82578    -0.61774\\nC    2.55800    4.98967    0.30094\\nC    3.52926    6.07110    -0.15475\\nN    2.95544    7.42644    0.02834\\nN    1.38524    2.05193    -4.34409\\nC    1.77327    1.62602    -5.68276\\nC    0.55055    1.50421    -6.59186\\nO    0.61361    1.85380    -7.77267\\nC    2.51314    0.28721    -5.62280\\nC    3.89889    0.38357    -5.00008\\nC    4.84040    1.26122    -5.79770\\nO    4.86401    1.15521    -7.04661\\nO    5.56827    2.06482    -5.17014\\nN    -0.56700    1.01714    -6.04709\\nC    -1.78623    0.89996    -6.83621\\nC    -2.28829    2.27394    -7.26412\\nO    -2.73413    2.45462    -8.40211\\nC    -2.86278    0.16661    -6.04021\\nN    -2.22874    3.24868    -6.36004\\nC    -2.66445    4.60413    -6.68422\\nC    -1.77982    5.19967    -7.78028\\nO    -2.27736    5.82809    -8.72033\\nC    -2.65395    5.49694    -5.42534\\nC    -3.74316    5.03427    -4.45154\\nC    -2.86163    6.95949    -5.80768\\nC    -3.62315    5.64229    -3.06285\\nN    -0.47533    4.99774    -7.68142\\nC    0.44230    5.51581    -8.69362\\nC    0.15918    4.87920    -10.05211\\nO    0.21054    5.54507    -11.09057\\nC    1.88650    5.24902    -8.27754\\nN    -0.14705    3.59034    -10.04856\\nC    -0.45999    2.87458    -11.28708\\nC    -1.72393    3.45273    -11.92386\\nO    -1.76957    3.69647    -13.13183\\nC    -0.63177    1.38393    -10.97288\\nC    -1.12548    0.52978    -12.09977\\nC    -0.43850    0.15374    -13.21119\\nC    -2.42045    -0.08525    -12.19633\\nN    -1.22260    -0.65578    -14.00298\\nC    -2.44559    -0.81979    -13.40140\\nC    -3.55286    -0.08865    -11.37325\\nC    -3.56969    -1.55330    -13.79803\\nC    -4.66577    -0.81555    -11.77136\\nC    -4.66598    -1.53725    -12.97075\\nN    -2.76604    3.69640    -11.11222\\nC    -4.00551    4.26277    -11.63411\\nC    -3.78657    5.66489    -12.19089\\nO    -4.35771    6.02689    -13.22339\\nC    -5.07722    4.29760    -10.54045\\nC    -5.63919    2.94254    -10.12231\\nC    -6.49906    3.08979    -8.86825\\nC    -6.45056    2.32688    -11.25958\\nN    -2.95865    6.45659    -11.50819\\nC    -2.69228    7.80798    -11.98702\\nC    -1.93696    7.78709    -13.31254\\nO    -2.15830    8.64565    -14.17026\\nC    -1.91315    8.60144    -10.94413\\nC    -2.75343    8.95360    -9.72763\\nC    -2.55654    10.37728    -9.28186\\nO    -1.59828    10.63639    -8.52456\\nO    -3.35562    11.23560    -9.69745\\nN    -1.05105    6.83112    -13.48794\\nC    -0.32329    6.73994    -14.74633\\nC    -1.25972    6.32850    -15.88664\\nO    -1.11706    6.80955    -17.01395\\nC    0.84345    5.75628    -14.63148\\nC    1.74468    5.81878    -15.85489\\nC    3.13996    5.31535    -15.55884\\nN    4.00377    5.50628    -16.72091\\nC    4.86360    6.50329    -16.86284\\nN    4.99454    7.40830    -15.89678\\nN    5.59860    6.59721    -17.96337\\nN    -2.20795    5.45371    -15.60762\\nC    -3.17333    5.05427    -16.62531\\nC    -4.05203    6.23468    -17.03127\\nO    -4.45960    6.34454    -18.18828\\nC    -4.05553    3.91501    -16.11592\\nC    -3.39749    2.54812    -15.95028\\nC    -4.41937    1.55147    -15.41996\\nC    -2.80929    2.06440    -17.26911\\nN    -4.35837    7.09915    -16.07072\\nC    -5.18404    8.26982    -16.35309\\nC    -4.44515    9.26825    -17.24981\\nO    -5.04764    9.86931    -18.14496\\nC    -5.58703    8.95918    -15.03969\\nC    -6.48788    10.16367    -15.23046\\nC    -6.71535    10.88747    -13.91447\\nN    -5.48025    11.48961    -13.43499\\nC    -5.31827    11.99752    -12.21779\\nN    -6.31502    11.97229    -11.34550\\nN    -4.14875    12.52743    -11.88422\\nN    -3.15819    9.44177    -17.02468\\nC    -2.37934    10.43284    -17.73883\\nC    -1.73831    9.93579    -19.02554\\nO    -2.15395    8.94357    -19.60921\\n\",\"xyz\");\n",
              "\tviewer_17613873537009163.setStyle({\"stick\": {}, \"sphere\": {\"radius\": 0.5}});\n",
              "\tviewer_17613873537009163.zoomTo();\n",
              "viewer_17613873537009163.render();\n",
              "});\n",
              "</script>"
            ]
          },
          "metadata": {}
        }
      ]
    }
  ]
}