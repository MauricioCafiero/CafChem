{
  "nbformat": 4,
  "nbformat_minor": 0,
  "metadata": {
    "colab": {
      "provenance": [],
      "collapsed_sections": [
        "riDwS9Nx82i_",
        "CEcQEFQo_Oqp"
      ]
    },
    "kernelspec": {
      "name": "python3",
      "display_name": "Python 3"
    },
    "language_info": {
      "name": "python"
    }
  },
  "cells": [
    {
      "cell_type": "markdown",
      "source": [
        "#CafChem tools for reading ChEMBL data and performing basic Machine Learning analysis.\n",
        "\n",
        "[![Open In Colab](https://colab.research.google.com/assets/colab-badge.svg)](https://colab.research.google.com/github/MauricioCafiero/CafChem/blob/main/notebooks/BasicML_CafChem.ipynb)\n",
        "\n",
        "## This notebook allows you to:\n",
        "- Read in a CSV file directly from ChEMBL and clean it up.\n",
        "- featurize data, remove outliers, perform scaling and/or PCA. Split data into training and validation sets.\n",
        "- fit a wide range of models, from tree-based methods, to linear methods, to support vectore regression, to multilayer perceptrons.\n",
        "- visualize predicted data.\n",
        "- save CSV files with the clean data.\n",
        "- save models and/or features as pickle files.\n",
        "\n",
        "## Requirements:\n",
        "- This notebook will install deepchem and mordred\n",
        "- It will pull the CafChem tools from Github.\n",
        "- It will install all needed libraries."
      ],
      "metadata": {
        "id": "x9TldS308wg7"
      }
    },
    {
      "cell_type": "markdown",
      "source": [
        "### install some libraries\n",
        "- will require a restart"
      ],
      "metadata": {
        "id": "riDwS9Nx82i_"
      }
    },
    {
      "cell_type": "code",
      "execution_count": 1,
      "metadata": {
        "colab": {
          "base_uri": "https://localhost:8080/",
          "height": 1000
        },
        "id": "sfuDbwIcpo2K",
        "outputId": "871407fa-ad2f-43f3-a0d1-4bfc8bee85b0"
      },
      "outputs": [
        {
          "output_type": "stream",
          "name": "stdout",
          "text": [
            "Collecting deepchem\n",
            "  Downloading deepchem-2.8.0-py3-none-any.whl.metadata (2.0 kB)\n",
            "Requirement already satisfied: joblib in /usr/local/lib/python3.11/dist-packages (from deepchem) (1.5.1)\n",
            "Requirement already satisfied: numpy>=1.21 in /usr/local/lib/python3.11/dist-packages (from deepchem) (2.0.2)\n",
            "Requirement already satisfied: pandas in /usr/local/lib/python3.11/dist-packages (from deepchem) (2.2.2)\n",
            "Requirement already satisfied: scikit-learn in /usr/local/lib/python3.11/dist-packages (from deepchem) (1.6.1)\n",
            "Requirement already satisfied: sympy in /usr/local/lib/python3.11/dist-packages (from deepchem) (1.13.1)\n",
            "Requirement already satisfied: scipy>=1.10.1 in /usr/local/lib/python3.11/dist-packages (from deepchem) (1.15.3)\n",
            "Collecting rdkit (from deepchem)\n",
            "  Downloading rdkit-2025.3.3-cp311-cp311-manylinux_2_28_x86_64.whl.metadata (4.0 kB)\n",
            "Requirement already satisfied: python-dateutil>=2.8.2 in /usr/local/lib/python3.11/dist-packages (from pandas->deepchem) (2.9.0.post0)\n",
            "Requirement already satisfied: pytz>=2020.1 in /usr/local/lib/python3.11/dist-packages (from pandas->deepchem) (2025.2)\n",
            "Requirement already satisfied: tzdata>=2022.7 in /usr/local/lib/python3.11/dist-packages (from pandas->deepchem) (2025.2)\n",
            "Requirement already satisfied: Pillow in /usr/local/lib/python3.11/dist-packages (from rdkit->deepchem) (11.2.1)\n",
            "Requirement already satisfied: threadpoolctl>=3.1.0 in /usr/local/lib/python3.11/dist-packages (from scikit-learn->deepchem) (3.6.0)\n",
            "Requirement already satisfied: mpmath<1.4,>=1.1.0 in /usr/local/lib/python3.11/dist-packages (from sympy->deepchem) (1.3.0)\n",
            "Requirement already satisfied: six>=1.5 in /usr/local/lib/python3.11/dist-packages (from python-dateutil>=2.8.2->pandas->deepchem) (1.17.0)\n",
            "Downloading deepchem-2.8.0-py3-none-any.whl (1.0 MB)\n",
            "\u001b[2K   \u001b[90m━━━━━━━━━━━━━━━━━━━━━━━━━━━━━━━━━━━━━━━━\u001b[0m \u001b[32m1.0/1.0 MB\u001b[0m \u001b[31m8.9 MB/s\u001b[0m eta \u001b[36m0:00:00\u001b[0m\n",
            "\u001b[?25hDownloading rdkit-2025.3.3-cp311-cp311-manylinux_2_28_x86_64.whl (34.9 MB)\n",
            "\u001b[2K   \u001b[90m━━━━━━━━━━━━━━━━━━━━━━━━━━━━━━━━━━━━━━━━\u001b[0m \u001b[32m34.9/34.9 MB\u001b[0m \u001b[31m17.0 MB/s\u001b[0m eta \u001b[36m0:00:00\u001b[0m\n",
            "\u001b[?25hInstalling collected packages: rdkit, deepchem\n",
            "Successfully installed deepchem-2.8.0 rdkit-2025.3.3\n",
            "Collecting mordred\n",
            "  Downloading mordred-1.2.0.tar.gz (128 kB)\n",
            "\u001b[2K     \u001b[90m━━━━━━━━━━━━━━━━━━━━━━━━━━━━━━━━━━━━━━━\u001b[0m \u001b[32m128.8/128.8 kB\u001b[0m \u001b[31m2.8 MB/s\u001b[0m eta \u001b[36m0:00:00\u001b[0m\n",
            "\u001b[?25h  Preparing metadata (setup.py) ... \u001b[?25l\u001b[?25hdone\n",
            "Requirement already satisfied: six==1.* in /usr/local/lib/python3.11/dist-packages (from mordred) (1.17.0)\n",
            "Collecting numpy==1.* (from mordred)\n",
            "  Downloading numpy-1.26.4-cp311-cp311-manylinux_2_17_x86_64.manylinux2014_x86_64.whl.metadata (61 kB)\n",
            "\u001b[2K     \u001b[90m━━━━━━━━━━━━━━━━━━━━━━━━━━━━━━━━━━━━━━━━\u001b[0m \u001b[32m61.0/61.0 kB\u001b[0m \u001b[31m4.3 MB/s\u001b[0m eta \u001b[36m0:00:00\u001b[0m\n",
            "\u001b[?25hCollecting networkx==2.* (from mordred)\n",
            "  Downloading networkx-2.8.8-py3-none-any.whl.metadata (5.1 kB)\n",
            "Downloading networkx-2.8.8-py3-none-any.whl (2.0 MB)\n",
            "\u001b[2K   \u001b[90m━━━━━━━━━━━━━━━━━━━━━━━━━━━━━━━━━━━━━━━━\u001b[0m \u001b[32m2.0/2.0 MB\u001b[0m \u001b[31m7.5 MB/s\u001b[0m eta \u001b[36m0:00:00\u001b[0m\n",
            "\u001b[?25hDownloading numpy-1.26.4-cp311-cp311-manylinux_2_17_x86_64.manylinux2014_x86_64.whl (18.3 MB)\n",
            "\u001b[2K   \u001b[90m━━━━━━━━━━━━━━━━━━━━━━━━━━━━━━━━━━━━━━━━\u001b[0m \u001b[32m18.3/18.3 MB\u001b[0m \u001b[31m11.7 MB/s\u001b[0m eta \u001b[36m0:00:00\u001b[0m\n",
            "\u001b[?25hBuilding wheels for collected packages: mordred\n",
            "  Building wheel for mordred (setup.py) ... \u001b[?25l\u001b[?25hdone\n",
            "  Created wheel for mordred: filename=mordred-1.2.0-py3-none-any.whl size=176718 sha256=faace55f71814a7866aa0d898a6db8d788f5eab8e54380c01e796c0dfa2101b2\n",
            "  Stored in directory: /root/.cache/pip/wheels/8b/30/0b/84e3f6775306e74cf5957ee4d16b10bf3927dcec44cc23d5f2\n",
            "Successfully built mordred\n",
            "Installing collected packages: numpy, networkx, mordred\n",
            "  Attempting uninstall: numpy\n",
            "    Found existing installation: numpy 2.0.2\n",
            "    Uninstalling numpy-2.0.2:\n",
            "      Successfully uninstalled numpy-2.0.2\n",
            "  Attempting uninstall: networkx\n",
            "    Found existing installation: networkx 3.5\n",
            "    Uninstalling networkx-3.5:\n",
            "      Successfully uninstalled networkx-3.5\n",
            "\u001b[31mERROR: pip's dependency resolver does not currently take into account all the packages that are installed. This behaviour is the source of the following dependency conflicts.\n",
            "torch 2.6.0+cu124 requires nvidia-cublas-cu12==12.4.5.8; platform_system == \"Linux\" and platform_machine == \"x86_64\", but you have nvidia-cublas-cu12 12.5.3.2 which is incompatible.\n",
            "torch 2.6.0+cu124 requires nvidia-cuda-cupti-cu12==12.4.127; platform_system == \"Linux\" and platform_machine == \"x86_64\", but you have nvidia-cuda-cupti-cu12 12.5.82 which is incompatible.\n",
            "torch 2.6.0+cu124 requires nvidia-cuda-nvrtc-cu12==12.4.127; platform_system == \"Linux\" and platform_machine == \"x86_64\", but you have nvidia-cuda-nvrtc-cu12 12.5.82 which is incompatible.\n",
            "torch 2.6.0+cu124 requires nvidia-cuda-runtime-cu12==12.4.127; platform_system == \"Linux\" and platform_machine == \"x86_64\", but you have nvidia-cuda-runtime-cu12 12.5.82 which is incompatible.\n",
            "torch 2.6.0+cu124 requires nvidia-cudnn-cu12==9.1.0.70; platform_system == \"Linux\" and platform_machine == \"x86_64\", but you have nvidia-cudnn-cu12 9.3.0.75 which is incompatible.\n",
            "torch 2.6.0+cu124 requires nvidia-cufft-cu12==11.2.1.3; platform_system == \"Linux\" and platform_machine == \"x86_64\", but you have nvidia-cufft-cu12 11.2.3.61 which is incompatible.\n",
            "torch 2.6.0+cu124 requires nvidia-curand-cu12==10.3.5.147; platform_system == \"Linux\" and platform_machine == \"x86_64\", but you have nvidia-curand-cu12 10.3.6.82 which is incompatible.\n",
            "torch 2.6.0+cu124 requires nvidia-cusolver-cu12==11.6.1.9; platform_system == \"Linux\" and platform_machine == \"x86_64\", but you have nvidia-cusolver-cu12 11.6.3.83 which is incompatible.\n",
            "torch 2.6.0+cu124 requires nvidia-cusparse-cu12==12.3.1.170; platform_system == \"Linux\" and platform_machine == \"x86_64\", but you have nvidia-cusparse-cu12 12.5.1.3 which is incompatible.\n",
            "torch 2.6.0+cu124 requires nvidia-nvjitlink-cu12==12.4.127; platform_system == \"Linux\" and platform_machine == \"x86_64\", but you have nvidia-nvjitlink-cu12 12.5.82 which is incompatible.\n",
            "scikit-image 0.25.2 requires networkx>=3.0, but you have networkx 2.8.8 which is incompatible.\n",
            "thinc 8.3.6 requires numpy<3.0.0,>=2.0.0, but you have numpy 1.26.4 which is incompatible.\n",
            "nx-cugraph-cu12 25.2.0 requires networkx>=3.2, but you have networkx 2.8.8 which is incompatible.\u001b[0m\u001b[31m\n",
            "\u001b[0mSuccessfully installed mordred-1.2.0 networkx-2.8.8 numpy-1.26.4\n"
          ]
        },
        {
          "output_type": "display_data",
          "data": {
            "application/vnd.colab-display-data+json": {
              "pip_warning": {
                "packages": [
                  "numpy"
                ]
              },
              "id": "a33b4e21801c415c88553bf0e5ab996a"
            }
          },
          "metadata": {}
        }
      ],
      "source": [
        "! pip install deepchem\n",
        "! pip install mordred"
      ]
    },
    {
      "cell_type": "markdown",
      "source": [
        "### Pull CafChem from github and load needed libraries"
      ],
      "metadata": {
        "id": "CEcQEFQo_Oqp"
      }
    },
    {
      "cell_type": "code",
      "source": [
        "!git clone https://github.com/MauricioCafiero/CafChem.git"
      ],
      "metadata": {
        "colab": {
          "base_uri": "https://localhost:8080/"
        },
        "id": "_rogQSxjqEfW",
        "outputId": "b1d5ecdf-5b9d-4423-8e7c-39b10884a8c9"
      },
      "execution_count": 1,
      "outputs": [
        {
          "output_type": "stream",
          "name": "stdout",
          "text": [
            "Cloning into 'CafChem'...\n",
            "remote: Enumerating objects: 89, done.\u001b[K\n",
            "remote: Counting objects: 100% (89/89), done.\u001b[K\n",
            "remote: Compressing objects: 100% (85/85), done.\u001b[K\n",
            "remote: Total 89 (delta 41), reused 0 (delta 0), pack-reused 0 (from 0)\u001b[K\n",
            "Receiving objects: 100% (89/89), 1.64 MiB | 4.81 MiB/s, done.\n",
            "Resolving deltas: 100% (41/41), done.\n"
          ]
        }
      ]
    },
    {
      "cell_type": "code",
      "source": [
        "import numpy as np\n",
        "import pandas as pd\n",
        "import pickle\n",
        "import CafChem.CafChemBML as ccml\n",
        "\n",
        "print(\"All libraries loaded!\")"
      ],
      "metadata": {
        "colab": {
          "base_uri": "https://localhost:8080/"
        },
        "id": "UVI7G42CqDXt",
        "outputId": "a94c73cd-8489-4e1f-ce05-d1b3d47753a8"
      },
      "execution_count": 2,
      "outputs": [
        {
          "output_type": "stream",
          "name": "stderr",
          "text": [
            "WARNING:deepchem.feat.molecule_featurizers.rdkit_descriptors:No normalization for SPS. Feature removed!\n",
            "WARNING:deepchem.feat.molecule_featurizers.rdkit_descriptors:No normalization for AvgIpc. Feature removed!\n",
            "WARNING:deepchem.feat.molecule_featurizers.rdkit_descriptors:No normalization for NumAmideBonds. Feature removed!\n",
            "WARNING:deepchem.feat.molecule_featurizers.rdkit_descriptors:No normalization for NumAtomStereoCenters. Feature removed!\n",
            "WARNING:deepchem.feat.molecule_featurizers.rdkit_descriptors:No normalization for NumBridgeheadAtoms. Feature removed!\n",
            "WARNING:deepchem.feat.molecule_featurizers.rdkit_descriptors:No normalization for NumHeterocycles. Feature removed!\n",
            "WARNING:deepchem.feat.molecule_featurizers.rdkit_descriptors:No normalization for NumSpiroAtoms. Feature removed!\n",
            "WARNING:deepchem.feat.molecule_featurizers.rdkit_descriptors:No normalization for NumUnspecifiedAtomStereoCenters. Feature removed!\n",
            "WARNING:deepchem.feat.molecule_featurizers.rdkit_descriptors:No normalization for Phi. Feature removed!\n",
            "\u001b[34m\u001b[1mwandb\u001b[0m: \u001b[33mWARNING\u001b[0m W&B installed but not logged in.  Run `wandb login` or set the WANDB_API_KEY env variable.\n",
            "WARNING:tensorflow:From /usr/local/lib/python3.11/dist-packages/tensorflow/python/util/deprecation.py:588: calling function (from tensorflow.python.eager.polymorphic_function.polymorphic_function) with experimental_relax_shapes is deprecated and will be removed in a future version.\n",
            "Instructions for updating:\n",
            "experimental_relax_shapes is deprecated, use reduce_retracing instead\n",
            "\u001b[34m\u001b[1mwandb\u001b[0m: \u001b[33mWARNING\u001b[0m W&B installed but not logged in.  Run `wandb login` or set the WANDB_API_KEY env variable.\n",
            "WARNING:deepchem.models.torch_models:Skipped loading modules with pytorch-geometric dependency, missing a dependency. No module named 'torch_geometric'\n",
            "WARNING:deepchem.models:Skipped loading modules with pytorch-geometric dependency, missing a dependency. cannot import name 'DMPNN' from 'deepchem.models.torch_models' (/usr/local/lib/python3.11/dist-packages/deepchem/models/torch_models/__init__.py)\n",
            "WARNING:deepchem.models:Skipped loading modules with pytorch-lightning dependency, missing a dependency. No module named 'lightning'\n",
            "WARNING:deepchem.models:Skipped loading some Jax models, missing a dependency. No module named 'haiku'\n"
          ]
        },
        {
          "output_type": "stream",
          "name": "stdout",
          "text": [
            "All libraries loaded!\n"
          ]
        }
      ]
    },
    {
      "cell_type": "markdown",
      "source": [
        "## Load and process a CSV file from ChEMBL\n",
        "- assumes the usual column headings and separator from ChEMBL\n",
        "- cleans data to get only confident IC50 values in nM (this can be changed), converts to canonical smiles and drops duplicates.\n",
        "- returns a dataframe with only SMILES, IC50 and logIC50.\n",
        "\n",
        "- function below plots the input IC50 data to view the spread."
      ],
      "metadata": {
        "id": "eWJsi98g7lnb"
      }
    },
    {
      "cell_type": "code",
      "source": [
        "df = ccml.process_chembl_csv(\"/content/MAOB_ChEMBL2.csv\")\n",
        "df.head()"
      ],
      "metadata": {
        "colab": {
          "base_uri": "https://localhost:8080/",
          "height": 258
        },
        "id": "YGgO570wuscD",
        "outputId": "c0124f63-a66e-4968-b9ab-03b712a6eca4"
      },
      "execution_count": 3,
      "outputs": [
        {
          "output_type": "stream",
          "name": "stdout",
          "text": [
            "=========================================================================\n",
            "Dataframe created from /content/MAOB_ChEMBL2.csv. Number of unique SMILES: 4015\n",
            "=========================================================================\n"
          ]
        },
        {
          "output_type": "execute_result",
          "data": {
            "text/plain": [
              "                                               SMILES     IC50   logIC50\n",
              "4              Cn1c(=O)c2c(nc(OCc3ccccc3)n2C)n(C)c1=O  1240.00  3.093422\n",
              "5    Cn1c(=O)c2c(nc(OCc3cccc(C(F)(F)F)c3)n2C)n(C)c1=O  3720.00  3.570543\n",
              "8   CCc1ccc(NC(=S)N/N=C/c2ccc(-n3nc4c(c3C)N(C)S(=O...  2910.00  3.463893\n",
              "16            O=C(CCCc1ccccc1)Nc1nc2cc(Cl)ccc2c(=O)s1    76.40  1.883093\n",
              "18             O=C(COc1cccc(Cl)c1)Nc1nc2ccccc2c(=O)s1     1.63  0.212188"
            ],
            "text/html": [
              "\n",
              "  <div id=\"df-73324f3f-a351-4cf4-ae7a-fb22844ee7fa\" class=\"colab-df-container\">\n",
              "    <div>\n",
              "<style scoped>\n",
              "    .dataframe tbody tr th:only-of-type {\n",
              "        vertical-align: middle;\n",
              "    }\n",
              "\n",
              "    .dataframe tbody tr th {\n",
              "        vertical-align: top;\n",
              "    }\n",
              "\n",
              "    .dataframe thead th {\n",
              "        text-align: right;\n",
              "    }\n",
              "</style>\n",
              "<table border=\"1\" class=\"dataframe\">\n",
              "  <thead>\n",
              "    <tr style=\"text-align: right;\">\n",
              "      <th></th>\n",
              "      <th>SMILES</th>\n",
              "      <th>IC50</th>\n",
              "      <th>logIC50</th>\n",
              "    </tr>\n",
              "  </thead>\n",
              "  <tbody>\n",
              "    <tr>\n",
              "      <th>4</th>\n",
              "      <td>Cn1c(=O)c2c(nc(OCc3ccccc3)n2C)n(C)c1=O</td>\n",
              "      <td>1240.00</td>\n",
              "      <td>3.093422</td>\n",
              "    </tr>\n",
              "    <tr>\n",
              "      <th>5</th>\n",
              "      <td>Cn1c(=O)c2c(nc(OCc3cccc(C(F)(F)F)c3)n2C)n(C)c1=O</td>\n",
              "      <td>3720.00</td>\n",
              "      <td>3.570543</td>\n",
              "    </tr>\n",
              "    <tr>\n",
              "      <th>8</th>\n",
              "      <td>CCc1ccc(NC(=S)N/N=C/c2ccc(-n3nc4c(c3C)N(C)S(=O...</td>\n",
              "      <td>2910.00</td>\n",
              "      <td>3.463893</td>\n",
              "    </tr>\n",
              "    <tr>\n",
              "      <th>16</th>\n",
              "      <td>O=C(CCCc1ccccc1)Nc1nc2cc(Cl)ccc2c(=O)s1</td>\n",
              "      <td>76.40</td>\n",
              "      <td>1.883093</td>\n",
              "    </tr>\n",
              "    <tr>\n",
              "      <th>18</th>\n",
              "      <td>O=C(COc1cccc(Cl)c1)Nc1nc2ccccc2c(=O)s1</td>\n",
              "      <td>1.63</td>\n",
              "      <td>0.212188</td>\n",
              "    </tr>\n",
              "  </tbody>\n",
              "</table>\n",
              "</div>\n",
              "    <div class=\"colab-df-buttons\">\n",
              "\n",
              "  <div class=\"colab-df-container\">\n",
              "    <button class=\"colab-df-convert\" onclick=\"convertToInteractive('df-73324f3f-a351-4cf4-ae7a-fb22844ee7fa')\"\n",
              "            title=\"Convert this dataframe to an interactive table.\"\n",
              "            style=\"display:none;\">\n",
              "\n",
              "  <svg xmlns=\"http://www.w3.org/2000/svg\" height=\"24px\" viewBox=\"0 -960 960 960\">\n",
              "    <path d=\"M120-120v-720h720v720H120Zm60-500h600v-160H180v160Zm220 220h160v-160H400v160Zm0 220h160v-160H400v160ZM180-400h160v-160H180v160Zm440 0h160v-160H620v160ZM180-180h160v-160H180v160Zm440 0h160v-160H620v160Z\"/>\n",
              "  </svg>\n",
              "    </button>\n",
              "\n",
              "  <style>\n",
              "    .colab-df-container {\n",
              "      display:flex;\n",
              "      gap: 12px;\n",
              "    }\n",
              "\n",
              "    .colab-df-convert {\n",
              "      background-color: #E8F0FE;\n",
              "      border: none;\n",
              "      border-radius: 50%;\n",
              "      cursor: pointer;\n",
              "      display: none;\n",
              "      fill: #1967D2;\n",
              "      height: 32px;\n",
              "      padding: 0 0 0 0;\n",
              "      width: 32px;\n",
              "    }\n",
              "\n",
              "    .colab-df-convert:hover {\n",
              "      background-color: #E2EBFA;\n",
              "      box-shadow: 0px 1px 2px rgba(60, 64, 67, 0.3), 0px 1px 3px 1px rgba(60, 64, 67, 0.15);\n",
              "      fill: #174EA6;\n",
              "    }\n",
              "\n",
              "    .colab-df-buttons div {\n",
              "      margin-bottom: 4px;\n",
              "    }\n",
              "\n",
              "    [theme=dark] .colab-df-convert {\n",
              "      background-color: #3B4455;\n",
              "      fill: #D2E3FC;\n",
              "    }\n",
              "\n",
              "    [theme=dark] .colab-df-convert:hover {\n",
              "      background-color: #434B5C;\n",
              "      box-shadow: 0px 1px 3px 1px rgba(0, 0, 0, 0.15);\n",
              "      filter: drop-shadow(0px 1px 2px rgba(0, 0, 0, 0.3));\n",
              "      fill: #FFFFFF;\n",
              "    }\n",
              "  </style>\n",
              "\n",
              "    <script>\n",
              "      const buttonEl =\n",
              "        document.querySelector('#df-73324f3f-a351-4cf4-ae7a-fb22844ee7fa button.colab-df-convert');\n",
              "      buttonEl.style.display =\n",
              "        google.colab.kernel.accessAllowed ? 'block' : 'none';\n",
              "\n",
              "      async function convertToInteractive(key) {\n",
              "        const element = document.querySelector('#df-73324f3f-a351-4cf4-ae7a-fb22844ee7fa');\n",
              "        const dataTable =\n",
              "          await google.colab.kernel.invokeFunction('convertToInteractive',\n",
              "                                                    [key], {});\n",
              "        if (!dataTable) return;\n",
              "\n",
              "        const docLinkHtml = 'Like what you see? Visit the ' +\n",
              "          '<a target=\"_blank\" href=https://colab.research.google.com/notebooks/data_table.ipynb>data table notebook</a>'\n",
              "          + ' to learn more about interactive tables.';\n",
              "        element.innerHTML = '';\n",
              "        dataTable['output_type'] = 'display_data';\n",
              "        await google.colab.output.renderOutput(dataTable, element);\n",
              "        const docLink = document.createElement('div');\n",
              "        docLink.innerHTML = docLinkHtml;\n",
              "        element.appendChild(docLink);\n",
              "      }\n",
              "    </script>\n",
              "  </div>\n",
              "\n",
              "\n",
              "    <div id=\"df-554d7675-3322-4264-a441-16c855cccdb9\">\n",
              "      <button class=\"colab-df-quickchart\" onclick=\"quickchart('df-554d7675-3322-4264-a441-16c855cccdb9')\"\n",
              "                title=\"Suggest charts\"\n",
              "                style=\"display:none;\">\n",
              "\n",
              "<svg xmlns=\"http://www.w3.org/2000/svg\" height=\"24px\"viewBox=\"0 0 24 24\"\n",
              "     width=\"24px\">\n",
              "    <g>\n",
              "        <path d=\"M19 3H5c-1.1 0-2 .9-2 2v14c0 1.1.9 2 2 2h14c1.1 0 2-.9 2-2V5c0-1.1-.9-2-2-2zM9 17H7v-7h2v7zm4 0h-2V7h2v10zm4 0h-2v-4h2v4z\"/>\n",
              "    </g>\n",
              "</svg>\n",
              "      </button>\n",
              "\n",
              "<style>\n",
              "  .colab-df-quickchart {\n",
              "      --bg-color: #E8F0FE;\n",
              "      --fill-color: #1967D2;\n",
              "      --hover-bg-color: #E2EBFA;\n",
              "      --hover-fill-color: #174EA6;\n",
              "      --disabled-fill-color: #AAA;\n",
              "      --disabled-bg-color: #DDD;\n",
              "  }\n",
              "\n",
              "  [theme=dark] .colab-df-quickchart {\n",
              "      --bg-color: #3B4455;\n",
              "      --fill-color: #D2E3FC;\n",
              "      --hover-bg-color: #434B5C;\n",
              "      --hover-fill-color: #FFFFFF;\n",
              "      --disabled-bg-color: #3B4455;\n",
              "      --disabled-fill-color: #666;\n",
              "  }\n",
              "\n",
              "  .colab-df-quickchart {\n",
              "    background-color: var(--bg-color);\n",
              "    border: none;\n",
              "    border-radius: 50%;\n",
              "    cursor: pointer;\n",
              "    display: none;\n",
              "    fill: var(--fill-color);\n",
              "    height: 32px;\n",
              "    padding: 0;\n",
              "    width: 32px;\n",
              "  }\n",
              "\n",
              "  .colab-df-quickchart:hover {\n",
              "    background-color: var(--hover-bg-color);\n",
              "    box-shadow: 0 1px 2px rgba(60, 64, 67, 0.3), 0 1px 3px 1px rgba(60, 64, 67, 0.15);\n",
              "    fill: var(--button-hover-fill-color);\n",
              "  }\n",
              "\n",
              "  .colab-df-quickchart-complete:disabled,\n",
              "  .colab-df-quickchart-complete:disabled:hover {\n",
              "    background-color: var(--disabled-bg-color);\n",
              "    fill: var(--disabled-fill-color);\n",
              "    box-shadow: none;\n",
              "  }\n",
              "\n",
              "  .colab-df-spinner {\n",
              "    border: 2px solid var(--fill-color);\n",
              "    border-color: transparent;\n",
              "    border-bottom-color: var(--fill-color);\n",
              "    animation:\n",
              "      spin 1s steps(1) infinite;\n",
              "  }\n",
              "\n",
              "  @keyframes spin {\n",
              "    0% {\n",
              "      border-color: transparent;\n",
              "      border-bottom-color: var(--fill-color);\n",
              "      border-left-color: var(--fill-color);\n",
              "    }\n",
              "    20% {\n",
              "      border-color: transparent;\n",
              "      border-left-color: var(--fill-color);\n",
              "      border-top-color: var(--fill-color);\n",
              "    }\n",
              "    30% {\n",
              "      border-color: transparent;\n",
              "      border-left-color: var(--fill-color);\n",
              "      border-top-color: var(--fill-color);\n",
              "      border-right-color: var(--fill-color);\n",
              "    }\n",
              "    40% {\n",
              "      border-color: transparent;\n",
              "      border-right-color: var(--fill-color);\n",
              "      border-top-color: var(--fill-color);\n",
              "    }\n",
              "    60% {\n",
              "      border-color: transparent;\n",
              "      border-right-color: var(--fill-color);\n",
              "    }\n",
              "    80% {\n",
              "      border-color: transparent;\n",
              "      border-right-color: var(--fill-color);\n",
              "      border-bottom-color: var(--fill-color);\n",
              "    }\n",
              "    90% {\n",
              "      border-color: transparent;\n",
              "      border-bottom-color: var(--fill-color);\n",
              "    }\n",
              "  }\n",
              "</style>\n",
              "\n",
              "      <script>\n",
              "        async function quickchart(key) {\n",
              "          const quickchartButtonEl =\n",
              "            document.querySelector('#' + key + ' button');\n",
              "          quickchartButtonEl.disabled = true;  // To prevent multiple clicks.\n",
              "          quickchartButtonEl.classList.add('colab-df-spinner');\n",
              "          try {\n",
              "            const charts = await google.colab.kernel.invokeFunction(\n",
              "                'suggestCharts', [key], {});\n",
              "          } catch (error) {\n",
              "            console.error('Error during call to suggestCharts:', error);\n",
              "          }\n",
              "          quickchartButtonEl.classList.remove('colab-df-spinner');\n",
              "          quickchartButtonEl.classList.add('colab-df-quickchart-complete');\n",
              "        }\n",
              "        (() => {\n",
              "          let quickchartButtonEl =\n",
              "            document.querySelector('#df-554d7675-3322-4264-a441-16c855cccdb9 button');\n",
              "          quickchartButtonEl.style.display =\n",
              "            google.colab.kernel.accessAllowed ? 'block' : 'none';\n",
              "        })();\n",
              "      </script>\n",
              "    </div>\n",
              "\n",
              "    </div>\n",
              "  </div>\n"
            ],
            "application/vnd.google.colaboratory.intrinsic+json": {
              "type": "dataframe",
              "variable_name": "df",
              "summary": "{\n  \"name\": \"df\",\n  \"rows\": 4015,\n  \"fields\": [\n    {\n      \"column\": \"SMILES\",\n      \"properties\": {\n        \"dtype\": \"string\",\n        \"num_unique_values\": 4015,\n        \"samples\": [\n          \"O=C1NC(=O)c2cc(Oc3ccc4ccccc4c3)ccc21\",\n          \"Clc1ccc(-c2csc(NN=C3CCCCC3)n2)cc1\",\n          \"O=Cc1coc2ccc(OCc3cccc(Br)c3)cc2c1=O\"\n        ],\n        \"semantic_type\": \"\",\n        \"description\": \"\"\n      }\n    },\n    {\n      \"column\": \"IC50\",\n      \"properties\": {\n        \"dtype\": \"number\",\n        \"std\": 874415.1190747676,\n        \"min\": 0.014,\n        \"max\": 52000000.0,\n        \"num_unique_values\": 2486,\n        \"samples\": [\n          4410.0,\n          9.2,\n          1.29\n        ],\n        \"semantic_type\": \"\",\n        \"description\": \"\"\n      }\n    },\n    {\n      \"column\": \"logIC50\",\n      \"properties\": {\n        \"dtype\": \"number\",\n        \"std\": 1.271471988767515,\n        \"min\": -1.853871964321762,\n        \"max\": 7.7160033436347994,\n        \"num_unique_values\": 2486,\n        \"samples\": [\n          3.6444385894678386,\n          0.9637878273455552,\n          0.11058971029924897\n        ],\n        \"semantic_type\": \"\",\n        \"description\": \"\"\n      }\n    }\n  ]\n}"
            }
          },
          "metadata": {},
          "execution_count": 3
        }
      ]
    },
    {
      "cell_type": "code",
      "source": [
        "ccml.list_hist(df[\"logIC50\"].to_list(),200)"
      ],
      "metadata": {
        "colab": {
          "base_uri": "https://localhost:8080/",
          "height": 430
        },
        "id": "qT_zhO1fu_XY",
        "outputId": "78386426-e2eb-4b37-8a94-5966a5ab6faa"
      },
      "execution_count": 4,
      "outputs": [
        {
          "output_type": "display_data",
          "data": {
            "text/plain": [
              "<Figure size 640x480 with 1 Axes>"
            ],
            "image/png": "[encoded data removed]"
          },
          "metadata": {}
        }
      ]
    },
    {
      "cell_type": "markdown",
      "source": [
        "## Featurize data\n",
        "- featurize with either circular fingerprints, rdkit descriptors or\n",
        "mordred descriptors (these take a while!)\n",
        "- Checks to NaNs and removes them.\n",
        "- returns features array, target array, and smiles array with NaNs removed"
      ],
      "metadata": {
        "id": "7yYTYbhB8X7B"
      }
    },
    {
      "cell_type": "code",
      "source": [
        "f, y, smiles = ccml.featurize(df[\"SMILES\"].to_list(), df[\"logIC50\"].to_list(), featurizer=\"rdkit\")"
      ],
      "metadata": {
        "colab": {
          "base_uri": "https://localhost:8080/"
        },
        "id": "U2PCJ7-gyenP",
        "outputId": "2834095d-2c43-47d1-d69b-2560c0457cd0"
      },
      "execution_count": 5,
      "outputs": [
        {
          "output_type": "stream",
          "name": "stdout",
          "text": [
            "Row 921 has a NaN.\n",
            "Row 3920 has a NaN.\n",
            "Row 3921 has a NaN.\n",
            "Row 3922 has a NaN.\n",
            "Row 3923 has a NaN.\n",
            "Row 3924 has a NaN.\n",
            "Row 3959 has a NaN.\n",
            "Old dimensions are: (4015, 217).\n",
            "Deleting row 921 from arrays.\n",
            "Deleting row 3919 from arrays.\n",
            "Deleting row 3919 from arrays.\n",
            "Deleting row 3919 from arrays.\n",
            "Deleting row 3919 from arrays.\n",
            "Deleting row 3919 from arrays.\n",
            "Deleting row 3953 from arrays.\n",
            "New dimensions are: (4008, 217)\n"
          ]
        }
      ]
    },
    {
      "cell_type": "markdown",
      "source": [
        "## Remove outliers from the data\n",
        "- returns feature array, target array, and SMILES array without outliers."
      ],
      "metadata": {
        "id": "wMIpgMmC9Jg6"
      }
    },
    {
      "cell_type": "code",
      "source": [
        "f, y, smiles = ccml.remove_outliers(f, y, smiles)"
      ],
      "metadata": {
        "colab": {
          "base_uri": "https://localhost:8080/"
        },
        "id": "bfzXSF8qDojR",
        "outputId": "d7ab9445-bdef-453e-d0b4-b4865e9e22b2"
      },
      "execution_count": 6,
      "outputs": [
        {
          "output_type": "stream",
          "name": "stderr",
          "text": [
            "/usr/local/lib/python3.11/dist-packages/sklearn/covariance/_robust_covariance.py:749: UserWarning: The covariance matrix associated to your dataset is not full rank\n",
            "  warnings.warn(\n"
          ]
        },
        {
          "output_type": "stream",
          "name": "stdout",
          "text": [
            "===========================================================\n",
            "Outliers found in the following locations: (array([  28,  388,  437,  463,  464,  465,  485,  574,  621,  724,  885,\n",
            "       1119, 1216, 1351, 1551, 1552, 1553, 1816, 1900, 1979, 1994, 2395,\n",
            "       2467, 2492, 2493, 2494, 2495, 2626, 2710, 2726, 2920, 2964, 2975,\n",
            "       3253, 3355, 3495, 3498, 3691, 3776, 3976, 4004]),)\n",
            "Starting outlier removal.\n",
            "Deleting row 28 from dataset\n",
            "Deleting row 387 from dataset\n",
            "Deleting row 435 from dataset\n",
            "Deleting row 460 from dataset\n",
            "Deleting row 460 from dataset\n",
            "Deleting row 460 from dataset\n",
            "Deleting row 479 from dataset\n",
            "Deleting row 567 from dataset\n",
            "Deleting row 613 from dataset\n",
            "Deleting row 715 from dataset\n",
            "Deleting row 875 from dataset\n",
            "Deleting row 1108 from dataset\n",
            "Deleting row 1204 from dataset\n",
            "Deleting row 1338 from dataset\n",
            "Deleting row 1537 from dataset\n",
            "Deleting row 1537 from dataset\n",
            "Deleting row 1537 from dataset\n",
            "Deleting row 1799 from dataset\n",
            "Deleting row 1882 from dataset\n",
            "Deleting row 1960 from dataset\n",
            "Deleting row 1974 from dataset\n",
            "Deleting row 2374 from dataset\n",
            "Deleting row 2445 from dataset\n",
            "Deleting row 2469 from dataset\n",
            "Deleting row 2469 from dataset\n",
            "Deleting row 2469 from dataset\n",
            "Deleting row 2469 from dataset\n",
            "Deleting row 2599 from dataset\n",
            "Deleting row 2682 from dataset\n",
            "Deleting row 2697 from dataset\n",
            "Deleting row 2890 from dataset\n",
            "Deleting row 2933 from dataset\n",
            "Deleting row 2943 from dataset\n",
            "Deleting row 3220 from dataset\n",
            "Deleting row 3321 from dataset\n",
            "Deleting row 3460 from dataset\n",
            "Deleting row 3462 from dataset\n",
            "Deleting row 3654 from dataset\n",
            "Deleting row 3738 from dataset\n",
            "Deleting row 3937 from dataset\n",
            "Deleting row 3964 from dataset\n",
            "New dimensions are: (3967, 217); removed 41 outliers\n"
          ]
        }
      ]
    },
    {
      "cell_type": "markdown",
      "source": [
        "## Prepare data for modelling\n",
        " - can opt to scale data\n",
        " - can opt to perform PCA\n",
        " - split into training and vaidation sets at a chosen percentage"
      ],
      "metadata": {
        "id": "Esn8hn7W9YBy"
      }
    },
    {
      "cell_type": "code",
      "source": [
        "x_train, x_valid, y_train, y_valid, smiles_train, smiles_valid, pca, scaler =  ccml.scale_pca_split(f, y, smiles, use_scaler = True,\n",
        "                    use_pca = False, pca_size = 100, seed = 42, splits = 0.9)"
      ],
      "metadata": {
        "colab": {
          "base_uri": "https://localhost:8080/"
        },
        "id": "t239Hiz5Ge58",
        "outputId": "1c6b00bb-5101-43e2-cc4c-dd1232d423bb"
      },
      "execution_count": 7,
      "outputs": [
        {
          "output_type": "stream",
          "name": "stdout",
          "text": [
            "Pre-processing done.\n"
          ]
        }
      ]
    },
    {
      "cell_type": "markdown",
      "source": [
        "## Perform modelling\n",
        "- choose from tree regression methods (decision tree, random forest, or gradient boosting).\n",
        "- choose from linear regression methods (linear, ridge and lasso) or support vector regression.\n",
        "- choose a multilayer perceptron.\n",
        "- perform k-means analysis\n",
        "- hyperparameters are optional. Hover over to see what may be changed"
      ],
      "metadata": {
        "id": "lC4Yzdps99lv"
      }
    },
    {
      "cell_type": "code",
      "source": [
        "rf = ccml.tree_regression(method=\"forest\")\n",
        "tree_model = rf.fit(x_train, x_valid, y_train, y_valid)"
      ],
      "metadata": {
        "colab": {
          "base_uri": "https://localhost:8080/"
        },
        "id": "zOZqeEEVHJRT",
        "outputId": "fe687e16-29f7-4324-ebb6-9475a6379964"
      },
      "execution_count": 8,
      "outputs": [
        {
          "output_type": "stream",
          "name": "stdout",
          "text": [
            "Tree regression class initialized.\n",
            "model selected:  RandomForest\n",
            "fit model in: 0.5982847008999973 minutes\n",
            "score for training set:  0.9336681403942182\n",
            "score for validation set:  0.6092405145091278\n",
            "======================================================================\n"
          ]
        }
      ]
    },
    {
      "cell_type": "code",
      "source": [
        "lin = ccml.linear_svr_methods(method=\"svr\")\n",
        "svr_model = lin.fit(x_train, x_valid, y_train, y_valid)"
      ],
      "metadata": {
        "colab": {
          "base_uri": "https://localhost:8080/"
        },
        "id": "HQfWOfJDTdWS",
        "outputId": "4fb5fa61-c534-4f3c-bd9a-70cac4556203"
      },
      "execution_count": 12,
      "outputs": [
        {
          "output_type": "stream",
          "name": "stdout",
          "text": [
            "Linear SVR class initialized.\n",
            "model selected:  Support Vector Regression\n",
            "fit model in: 0.08514053795000033 minutes\n",
            "score for training set:  0.8049112225085883\n",
            "score for validation set:  0.4861584694432536\n",
            "======================================================================\n"
          ]
        }
      ]
    },
    {
      "cell_type": "code",
      "source": [
        "mlp = ccml.mlp_methods(max_iter=5000)\n",
        "mlp_model = mlp.fit(x_train, x_valid, y_train, y_valid)"
      ],
      "metadata": {
        "colab": {
          "base_uri": "https://localhost:8080/"
        },
        "id": "_14n0CadYq3g",
        "outputId": "3e181989-97c6-4149-f424-51e230a0b310"
      },
      "execution_count": 13,
      "outputs": [
        {
          "output_type": "stream",
          "name": "stdout",
          "text": [
            "MLP class initialized.\n",
            "model selected:  MultiLayerPerceptron\n",
            "fit model in: 2.136275591983334 minutes\n",
            "score for training set:  0.9618183200321645\n",
            "score for validation set:  -0.03810664067559433\n",
            "======================================================================\n"
          ]
        },
        {
          "output_type": "stream",
          "name": "stderr",
          "text": [
            "/usr/local/lib/python3.11/dist-packages/sklearn/neural_network/_multilayer_perceptron.py:546: ConvergenceWarning: lbfgs failed to converge (status=1):\n",
            "STOP: TOTAL NO. OF ITERATIONS REACHED LIMIT.\n",
            "\n",
            "Increase the number of iterations (max_iter) or scale the data as shown in:\n",
            "    https://scikit-learn.org/stable/modules/preprocessing.html\n",
            "  self.n_iter_ = _check_optimize_result(\"lbfgs\", opt_res, self.max_iter)\n"
          ]
        }
      ]
    },
    {
      "cell_type": "code",
      "source": [
        "kmeans_model, train_labels, valid_labels = ccml.kmeans(x_train, x_valid, number_groups=10)"
      ],
      "metadata": {
        "id": "CqppmlLj4pZN"
      },
      "execution_count": 14,
      "outputs": []
    },
    {
      "cell_type": "code",
      "source": [
        "ccml.plot_predictions(tree_model, x_train, y_train, x_valid, y_valid)"
      ],
      "metadata": {
        "colab": {
          "base_uri": "https://localhost:8080/",
          "height": 449
        },
        "id": "KjVX9eSebuzz",
        "outputId": "7d18ca70-0f8d-4b85-cac7-c00683d5b550"
      },
      "execution_count": 9,
      "outputs": [
        {
          "output_type": "display_data",
          "data": {
            "text/plain": [
              "<Figure size 640x480 with 1 Axes>"
            ],
            "image/png": "[encoded data removed]"
          },
          "metadata": {}
        }
      ]
    },
    {
      "cell_type": "markdown",
      "source": [
        "## Save models, CSV files, features"
      ],
      "metadata": {
        "id": "7ShfRw15_xVV"
      }
    },
    {
      "cell_type": "code",
      "source": [
        "with open('maob_forest_model.pkl','wb') as model_file:\n",
        "  pickle.dump(tree_model, model_file)\n",
        "\n",
        "with open('maob_scaler.pkl','wb') as scaler_file:\n",
        "  pickle.dump(scaler, scaler_file)\n",
        "\n",
        "with open('maob_pca.pkl','wb') as pca_file:\n",
        "  pickle.dump(pca, pca_file)"
      ],
      "metadata": {
        "id": "RzrXtrsULmtL"
      },
      "execution_count": 10,
      "outputs": []
    },
    {
      "cell_type": "code",
      "source": [
        "y_to_save = np.concatenate((y_train,y_valid))\n",
        "y_to_save = 10**y_to_save\n",
        "\n",
        "predictions = tree_model.predict(f)\n",
        "predictions = 10**predictions\n",
        "\n",
        "smiles_to_save = np.concatenate((smiles_train,smiles_valid))\n",
        "\n",
        "\n",
        "ccml.save_csv(smiles_to_save, y_to_save, predictions, \"maob_forest_predictions\")"
      ],
      "metadata": {
        "colab": {
          "base_uri": "https://localhost:8080/",
          "height": 423
        },
        "id": "8JTlTtluPETI",
        "outputId": "675c9b23-022f-4317-f83a-0125252049df"
      },
      "execution_count": 17,
      "outputs": [
        {
          "output_type": "execute_result",
          "data": {
            "text/plain": [
              "                                                 smiles    known    predicted\n",
              "0     C#CCN1CCN(CN2C(=O)S/C(=C/c3ccc(OCc4ccccc4)cc3)...   5730.0  1465.576007\n",
              "1              C[C@H](Cc1ccc(OCc2ccncc2)cc1)N(C)CC(=O)O  22044.0  1373.180440\n",
              "2                    C#CCNC1CCc2c(SCc3ccc(Cl)cc3)cccc21    180.0  1230.162032\n",
              "3                        O=C1OCc2ccc(OCc3ccc(F)cc3)cc21      6.4  2184.994038\n",
              "4     N#Cc1c(F)c(F)c(NC(=O)c2cc3ccc(OCc4ccc(F)cc4)cc...   3450.0  1080.779747\n",
              "...                                                 ...      ...          ...\n",
              "3962  CN(C)C(=O)Oc1cccc(/C=C/C(=O)c2ccccc2OC(=O)N(C)...   2900.0  1956.399559\n",
              "3963              O=C(Nc1ccc(Cl)c(O)c1)c1ccc2cn[nH]c2c1   6220.0  1447.613779\n",
              "3964  COc1ccc(/C=C2\\COc3cc(OCCCCCCNc4c5c(nc6ccccc46)...  19730.0  1317.275791\n",
              "3965                          Cc1cccc2cc(-c3ccccc3)oc12  10730.0  1885.810463\n",
              "3966  COc1cccc2c(=O)cc(C(=O)NCCC3CCN(Cc4ccccc4)CC3)[...  71600.0  2900.462192\n",
              "\n",
              "[3967 rows x 3 columns]"
            ],
            "text/html": [
              "\n",
              "  <div id=\"df-e9b0788b-2f84-41b9-86ee-9a084b66ceb1\" class=\"colab-df-container\">\n",
              "    <div>\n",
              "<style scoped>\n",
              "    .dataframe tbody tr th:only-of-type {\n",
              "        vertical-align: middle;\n",
              "    }\n",
              "\n",
              "    .dataframe tbody tr th {\n",
              "        vertical-align: top;\n",
              "    }\n",
              "\n",
              "    .dataframe thead th {\n",
              "        text-align: right;\n",
              "    }\n",
              "</style>\n",
              "<table border=\"1\" class=\"dataframe\">\n",
              "  <thead>\n",
              "    <tr style=\"text-align: right;\">\n",
              "      <th></th>\n",
              "      <th>smiles</th>\n",
              "      <th>known</th>\n",
              "      <th>predicted</th>\n",
              "    </tr>\n",
              "  </thead>\n",
              "  <tbody>\n",
              "    <tr>\n",
              "      <th>0</th>\n",
              "      <td>C#CCN1CCN(CN2C(=O)S/C(=C/c3ccc(OCc4ccccc4)cc3)...</td>\n",
              "      <td>5730.0</td>\n",
              "      <td>1465.576007</td>\n",
              "    </tr>\n",
              "    <tr>\n",
              "      <th>1</th>\n",
              "      <td>C[C@H](Cc1ccc(OCc2ccncc2)cc1)N(C)CC(=O)O</td>\n",
              "      <td>22044.0</td>\n",
              "      <td>1373.180440</td>\n",
              "    </tr>\n",
              "    <tr>\n",
              "      <th>2</th>\n",
              "      <td>C#CCNC1CCc2c(SCc3ccc(Cl)cc3)cccc21</td>\n",
              "      <td>180.0</td>\n",
              "      <td>1230.162032</td>\n",
              "    </tr>\n",
              "    <tr>\n",
              "      <th>3</th>\n",
              "      <td>O=C1OCc2ccc(OCc3ccc(F)cc3)cc21</td>\n",
              "      <td>6.4</td>\n",
              "      <td>2184.994038</td>\n",
              "    </tr>\n",
              "    <tr>\n",
              "      <th>4</th>\n",
              "      <td>N#Cc1c(F)c(F)c(NC(=O)c2cc3ccc(OCc4ccc(F)cc4)cc...</td>\n",
              "      <td>3450.0</td>\n",
              "      <td>1080.779747</td>\n",
              "    </tr>\n",
              "    <tr>\n",
              "      <th>...</th>\n",
              "      <td>...</td>\n",
              "      <td>...</td>\n",
              "      <td>...</td>\n",
              "    </tr>\n",
              "    <tr>\n",
              "      <th>3962</th>\n",
              "      <td>CN(C)C(=O)Oc1cccc(/C=C/C(=O)c2ccccc2OC(=O)N(C)...</td>\n",
              "      <td>2900.0</td>\n",
              "      <td>1956.399559</td>\n",
              "    </tr>\n",
              "    <tr>\n",
              "      <th>3963</th>\n",
              "      <td>O=C(Nc1ccc(Cl)c(O)c1)c1ccc2cn[nH]c2c1</td>\n",
              "      <td>6220.0</td>\n",
              "      <td>1447.613779</td>\n",
              "    </tr>\n",
              "    <tr>\n",
              "      <th>3964</th>\n",
              "      <td>COc1ccc(/C=C2\\COc3cc(OCCCCCCNc4c5c(nc6ccccc46)...</td>\n",
              "      <td>19730.0</td>\n",
              "      <td>1317.275791</td>\n",
              "    </tr>\n",
              "    <tr>\n",
              "      <th>3965</th>\n",
              "      <td>Cc1cccc2cc(-c3ccccc3)oc12</td>\n",
              "      <td>10730.0</td>\n",
              "      <td>1885.810463</td>\n",
              "    </tr>\n",
              "    <tr>\n",
              "      <th>3966</th>\n",
              "      <td>COc1cccc2c(=O)cc(C(=O)NCCC3CCN(Cc4ccccc4)CC3)[...</td>\n",
              "      <td>71600.0</td>\n",
              "      <td>2900.462192</td>\n",
              "    </tr>\n",
              "  </tbody>\n",
              "</table>\n",
              "<p>3967 rows × 3 columns</p>\n",
              "</div>\n",
              "    <div class=\"colab-df-buttons\">\n",
              "\n",
              "  <div class=\"colab-df-container\">\n",
              "    <button class=\"colab-df-convert\" onclick=\"convertToInteractive('df-e9b0788b-2f84-41b9-86ee-9a084b66ceb1')\"\n",
              "            title=\"Convert this dataframe to an interactive table.\"\n",
              "            style=\"display:none;\">\n",
              "\n",
              "  <svg xmlns=\"http://www.w3.org/2000/svg\" height=\"24px\" viewBox=\"0 -960 960 960\">\n",
              "    <path d=\"M120-120v-720h720v720H120Zm60-500h600v-160H180v160Zm220 220h160v-160H400v160Zm0 220h160v-160H400v160ZM180-400h160v-160H180v160Zm440 0h160v-160H620v160ZM180-180h160v-160H180v160Zm440 0h160v-160H620v160Z\"/>\n",
              "  </svg>\n",
              "    </button>\n",
              "\n",
              "  <style>\n",
              "    .colab-df-container {\n",
              "      display:flex;\n",
              "      gap: 12px;\n",
              "    }\n",
              "\n",
              "    .colab-df-convert {\n",
              "      background-color: #E8F0FE;\n",
              "      border: none;\n",
              "      border-radius: 50%;\n",
              "      cursor: pointer;\n",
              "      display: none;\n",
              "      fill: #1967D2;\n",
              "      height: 32px;\n",
              "      padding: 0 0 0 0;\n",
              "      width: 32px;\n",
              "    }\n",
              "\n",
              "    .colab-df-convert:hover {\n",
              "      background-color: #E2EBFA;\n",
              "      box-shadow: 0px 1px 2px rgba(60, 64, 67, 0.3), 0px 1px 3px 1px rgba(60, 64, 67, 0.15);\n",
              "      fill: #174EA6;\n",
              "    }\n",
              "\n",
              "    .colab-df-buttons div {\n",
              "      margin-bottom: 4px;\n",
              "    }\n",
              "\n",
              "    [theme=dark] .colab-df-convert {\n",
              "      background-color: #3B4455;\n",
              "      fill: #D2E3FC;\n",
              "    }\n",
              "\n",
              "    [theme=dark] .colab-df-convert:hover {\n",
              "      background-color: #434B5C;\n",
              "      box-shadow: 0px 1px 3px 1px rgba(0, 0, 0, 0.15);\n",
              "      filter: drop-shadow(0px 1px 2px rgba(0, 0, 0, 0.3));\n",
              "      fill: #FFFFFF;\n",
              "    }\n",
              "  </style>\n",
              "\n",
              "    <script>\n",
              "      const buttonEl =\n",
              "        document.querySelector('#df-e9b0788b-2f84-41b9-86ee-9a084b66ceb1 button.colab-df-convert');\n",
              "      buttonEl.style.display =\n",
              "        google.colab.kernel.accessAllowed ? 'block' : 'none';\n",
              "\n",
              "      async function convertToInteractive(key) {\n",
              "        const element = document.querySelector('#df-e9b0788b-2f84-41b9-86ee-9a084b66ceb1');\n",
              "        const dataTable =\n",
              "          await google.colab.kernel.invokeFunction('convertToInteractive',\n",
              "                                                    [key], {});\n",
              "        if (!dataTable) return;\n",
              "\n",
              "        const docLinkHtml = 'Like what you see? Visit the ' +\n",
              "          '<a target=\"_blank\" href=https://colab.research.google.com/notebooks/data_table.ipynb>data table notebook</a>'\n",
              "          + ' to learn more about interactive tables.';\n",
              "        element.innerHTML = '';\n",
              "        dataTable['output_type'] = 'display_data';\n",
              "        await google.colab.output.renderOutput(dataTable, element);\n",
              "        const docLink = document.createElement('div');\n",
              "        docLink.innerHTML = docLinkHtml;\n",
              "        element.appendChild(docLink);\n",
              "      }\n",
              "    </script>\n",
              "  </div>\n",
              "\n",
              "\n",
              "    <div id=\"df-00792406-f304-4897-bf2c-6b8ecddfb3bf\">\n",
              "      <button class=\"colab-df-quickchart\" onclick=\"quickchart('df-00792406-f304-4897-bf2c-6b8ecddfb3bf')\"\n",
              "                title=\"Suggest charts\"\n",
              "                style=\"display:none;\">\n",
              "\n",
              "<svg xmlns=\"http://www.w3.org/2000/svg\" height=\"24px\"viewBox=\"0 0 24 24\"\n",
              "     width=\"24px\">\n",
              "    <g>\n",
              "        <path d=\"M19 3H5c-1.1 0-2 .9-2 2v14c0 1.1.9 2 2 2h14c1.1 0 2-.9 2-2V5c0-1.1-.9-2-2-2zM9 17H7v-7h2v7zm4 0h-2V7h2v10zm4 0h-2v-4h2v4z\"/>\n",
              "    </g>\n",
              "</svg>\n",
              "      </button>\n",
              "\n",
              "<style>\n",
              "  .colab-df-quickchart {\n",
              "      --bg-color: #E8F0FE;\n",
              "      --fill-color: #1967D2;\n",
              "      --hover-bg-color: #E2EBFA;\n",
              "      --hover-fill-color: #174EA6;\n",
              "      --disabled-fill-color: #AAA;\n",
              "      --disabled-bg-color: #DDD;\n",
              "  }\n",
              "\n",
              "  [theme=dark] .colab-df-quickchart {\n",
              "      --bg-color: #3B4455;\n",
              "      --fill-color: #D2E3FC;\n",
              "      --hover-bg-color: #434B5C;\n",
              "      --hover-fill-color: #FFFFFF;\n",
              "      --disabled-bg-color: #3B4455;\n",
              "      --disabled-fill-color: #666;\n",
              "  }\n",
              "\n",
              "  .colab-df-quickchart {\n",
              "    background-color: var(--bg-color);\n",
              "    border: none;\n",
              "    border-radius: 50%;\n",
              "    cursor: pointer;\n",
              "    display: none;\n",
              "    fill: var(--fill-color);\n",
              "    height: 32px;\n",
              "    padding: 0;\n",
              "    width: 32px;\n",
              "  }\n",
              "\n",
              "  .colab-df-quickchart:hover {\n",
              "    background-color: var(--hover-bg-color);\n",
              "    box-shadow: 0 1px 2px rgba(60, 64, 67, 0.3), 0 1px 3px 1px rgba(60, 64, 67, 0.15);\n",
              "    fill: var(--button-hover-fill-color);\n",
              "  }\n",
              "\n",
              "  .colab-df-quickchart-complete:disabled,\n",
              "  .colab-df-quickchart-complete:disabled:hover {\n",
              "    background-color: var(--disabled-bg-color);\n",
              "    fill: var(--disabled-fill-color);\n",
              "    box-shadow: none;\n",
              "  }\n",
              "\n",
              "  .colab-df-spinner {\n",
              "    border: 2px solid var(--fill-color);\n",
              "    border-color: transparent;\n",
              "    border-bottom-color: var(--fill-color);\n",
              "    animation:\n",
              "      spin 1s steps(1) infinite;\n",
              "  }\n",
              "\n",
              "  @keyframes spin {\n",
              "    0% {\n",
              "      border-color: transparent;\n",
              "      border-bottom-color: var(--fill-color);\n",
              "      border-left-color: var(--fill-color);\n",
              "    }\n",
              "    20% {\n",
              "      border-color: transparent;\n",
              "      border-left-color: var(--fill-color);\n",
              "      border-top-color: var(--fill-color);\n",
              "    }\n",
              "    30% {\n",
              "      border-color: transparent;\n",
              "      border-left-color: var(--fill-color);\n",
              "      border-top-color: var(--fill-color);\n",
              "      border-right-color: var(--fill-color);\n",
              "    }\n",
              "    40% {\n",
              "      border-color: transparent;\n",
              "      border-right-color: var(--fill-color);\n",
              "      border-top-color: var(--fill-color);\n",
              "    }\n",
              "    60% {\n",
              "      border-color: transparent;\n",
              "      border-right-color: var(--fill-color);\n",
              "    }\n",
              "    80% {\n",
              "      border-color: transparent;\n",
              "      border-right-color: var(--fill-color);\n",
              "      border-bottom-color: var(--fill-color);\n",
              "    }\n",
              "    90% {\n",
              "      border-color: transparent;\n",
              "      border-bottom-color: var(--fill-color);\n",
              "    }\n",
              "  }\n",
              "</style>\n",
              "\n",
              "      <script>\n",
              "        async function quickchart(key) {\n",
              "          const quickchartButtonEl =\n",
              "            document.querySelector('#' + key + ' button');\n",
              "          quickchartButtonEl.disabled = true;  // To prevent multiple clicks.\n",
              "          quickchartButtonEl.classList.add('colab-df-spinner');\n",
              "          try {\n",
              "            const charts = await google.colab.kernel.invokeFunction(\n",
              "                'suggestCharts', [key], {});\n",
              "          } catch (error) {\n",
              "            console.error('Error during call to suggestCharts:', error);\n",
              "          }\n",
              "          quickchartButtonEl.classList.remove('colab-df-spinner');\n",
              "          quickchartButtonEl.classList.add('colab-df-quickchart-complete');\n",
              "        }\n",
              "        (() => {\n",
              "          let quickchartButtonEl =\n",
              "            document.querySelector('#df-00792406-f304-4897-bf2c-6b8ecddfb3bf button');\n",
              "          quickchartButtonEl.style.display =\n",
              "            google.colab.kernel.accessAllowed ? 'block' : 'none';\n",
              "        })();\n",
              "      </script>\n",
              "    </div>\n",
              "\n",
              "    </div>\n",
              "  </div>\n"
            ],
            "application/vnd.google.colaboratory.intrinsic+json": {
              "type": "dataframe",
              "summary": "{\n  \"name\": \"ccml\",\n  \"rows\": 3967,\n  \"fields\": [\n    {\n      \"column\": \"smiles\",\n      \"properties\": {\n        \"dtype\": \"string\",\n        \"num_unique_values\": 3967,\n        \"samples\": [\n          \"O=c1ccoc2cccc(OCc3ccc(Br)cc3)c12\",\n          \"CC(=O)c1ccc(OCc2ccc(F)cc2)cc1O\",\n          \"O=C(Nc1cccc(C(F)(F)F)c1)c1cc2cc(Br)cc(Br)c2oc1=O\"\n        ],\n        \"semantic_type\": \"\",\n        \"description\": \"\"\n      }\n    },\n    {\n      \"column\": \"known\",\n      \"properties\": {\n        \"dtype\": \"number\",\n        \"std\": 879679.3123457567,\n        \"min\": 0.013999999999999999,\n        \"max\": 52000000.00000004,\n        \"num_unique_values\": 2470,\n        \"samples\": [\n          125.88999999999993,\n          9017.000000000002,\n          43300.000000000015\n        ],\n        \"semantic_type\": \"\",\n        \"description\": \"\"\n      }\n    },\n    {\n      \"column\": \"predicted\",\n      \"properties\": {\n        \"dtype\": \"number\",\n        \"std\": 599.4201991495083,\n        \"min\": 519.0704862144319,\n        \"max\": 5368.031970768292,\n        \"num_unique_values\": 3426,\n        \"samples\": [\n          2159.246438696027,\n          1298.190673510546,\n          1921.5819703049547\n        ],\n        \"semantic_type\": \"\",\n        \"description\": \"\"\n      }\n    }\n  ]\n}"
            }
          },
          "metadata": {},
          "execution_count": 17
        }
      ]
    },
    {
      "cell_type": "code",
      "source": [
        "feats_to_save = np.concatenate((x_train,x_valid))\n",
        "ccml.save_features(feats_to_save, \"maob_rdkit_features\")"
      ],
      "metadata": {
        "colab": {
          "base_uri": "https://localhost:8080/"
        },
        "id": "3HUUN8Jk0k5t",
        "outputId": "8c7f4e12-3ef7-4f13-93ca-9b69898671c0"
      },
      "execution_count": 18,
      "outputs": [
        {
          "output_type": "stream",
          "name": "stdout",
          "text": [
            "Features saved to maob_rdkit_features.pkl\n"
          ]
        }
      ]
    },
    {
      "cell_type": "markdown",
      "source": [
        "## Make predictions\n",
        "- use a saved model (and possibly a scaler and pca) to make predictions on new data"
      ],
      "metadata": {
        "id": "CkURx-cBwI25"
      }
    },
    {
      "cell_type": "code",
      "source": [
        "smiles_to_test = [\"c1cc(O)ccc1\",\"c1cc(F)ccc1\", \"c1cc(Cl)ccc1\"]\n",
        "\n",
        "predictions = ccml.predict_with_model(smiles_to_test, tree_model, \"rdkit\", scaler, pca)\n",
        "print(10**predictions)"
      ],
      "metadata": {
        "colab": {
          "base_uri": "https://localhost:8080/"
        },
        "id": "38oqNqm-4yMJ",
        "outputId": "32e442fb-9eca-4c64-c7c9-6104cb3679bf"
      },
      "execution_count": 15,
      "outputs": [
        {
          "output_type": "stream",
          "name": "stdout",
          "text": [
            "[4425.11143644 1397.77032553 3742.36779743]\n"
          ]
        }
      ]
    },
    {
      "cell_type": "code",
      "source": [],
      "metadata": {
        "id": "nO0aIv1TwqdN"
      },
      "execution_count": null,
      "outputs": []
    }
  ]
}