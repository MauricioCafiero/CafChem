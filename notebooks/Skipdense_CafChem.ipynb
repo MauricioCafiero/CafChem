{
 "cells": [
  {
   "cell_type": "markdown",
   "metadata": {
    "id": "Ww-LCN0bPUMr"
   },
   "source": [
    "#CafChem tools for fitting Dense Neural Network models to a dataset. Includes regression and classification.\n",
    "\n",
    "[![Open In Colab](https://colab.research.google.com/assets/colab-badge.svg)](https://colab.research.google.com/github/MauricioCafiero/CafChem/blob/main/notebooks/SkipDense_CafChem.ipynb)\n",
    "\n",
    "## This notebook allows you to:\n",
    "- Upload a dataset, and, optionally, create classes.\n",
    "- Scale, apply PCA and split your dataset.\n",
    "- Train a regression or classification model and evaluate it.\n",
    "- Save and load models.\n",
    "- Serve predictions with a new or loaded model.\n",
    "\n",
    "## A Skipdense block is ...\n",
    "- a block with a specified number of dense neural network layers and an optional skip-connection from the input to the output.\n",
    "- multiple skipdense blocks may be stacked.\n",
    "\n",
    "## Requirements:\n",
    "- This notebook will install deepchem and Mordred\n",
    "- It will pull the CafChem tools from Github.\n",
    "- It will install all needed libraries.\n",
    "- Can use a CPU runtime for training and inference on a small model. Any GPU recommended for larger models"
   ]
  },
  {
   "cell_type": "markdown",
   "metadata": {
    "id": "EhqTAPwj7LWZ"
   },
   "source": [
    "## Set Up"
   ]
  },
  {
   "cell_type": "markdown",
   "metadata": {
    "id": "kiQz5WNqNFXR"
   },
   "source": [
    "### Install libraries"
   ]
  },
  {
   "cell_type": "code",
   "execution_count": 1,
   "metadata": {
    "colab": {
     "base_uri": "https://localhost:8080/",
     "height": 1000
    },
    "id": "DZGnke4Shho1",
    "outputId": "85cae44b-793f-4850-9d9d-12d967fbffa6"
   },
   "outputs": [
    {
     "name": "stdout",
     "output_type": "stream",
     "text": [
      "Collecting deepchem\n",
      "  Downloading deepchem-2.5.0-py3-none-any.whl.metadata (1.1 kB)\n",
      "Requirement already satisfied: joblib in /usr/local/lib/python3.12/dist-packages (from deepchem) (1.5.1)\n",
      "Requirement already satisfied: numpy in /usr/local/lib/python3.12/dist-packages (from deepchem) (2.0.2)\n",
      "Requirement already satisfied: pandas in /usr/local/lib/python3.12/dist-packages (from deepchem) (2.2.2)\n",
      "Requirement already satisfied: scikit-learn in /usr/local/lib/python3.12/dist-packages (from deepchem) (1.6.1)\n",
      "Requirement already satisfied: scipy in /usr/local/lib/python3.12/dist-packages (from deepchem) (1.16.1)\n",
      "Requirement already satisfied: python-dateutil>=2.8.2 in /usr/local/lib/python3.12/dist-packages (from pandas->deepchem) (2.9.0.post0)\n",
      "Requirement already satisfied: pytz>=2020.1 in /usr/local/lib/python3.12/dist-packages (from pandas->deepchem) (2025.2)\n",
      "Requirement already satisfied: tzdata>=2022.7 in /usr/local/lib/python3.12/dist-packages (from pandas->deepchem) (2025.2)\n",
      "Requirement already satisfied: threadpoolctl>=3.1.0 in /usr/local/lib/python3.12/dist-packages (from scikit-learn->deepchem) (3.6.0)\n",
      "Requirement already satisfied: six>=1.5 in /usr/local/lib/python3.12/dist-packages (from python-dateutil>=2.8.2->pandas->deepchem) (1.17.0)\n",
      "Downloading deepchem-2.5.0-py3-none-any.whl (552 kB)\n",
      "\u001b[?25l   \u001b[90m━━━━━━━━━━━━━━━━━━━━━━━━━━━━━━━━━━━━━━━━\u001b[0m \u001b[32m0.0/552.4 kB\u001b[0m \u001b[31m?\u001b[0m eta \u001b[36m-:--:--\u001b[0m\r",
      "\u001b[2K   \u001b[91m━━━━━━━━━━━━━━━━━━━━━━━━━━━━━━━━━━━\u001b[0m\u001b[91m╸\u001b[0m\u001b[90m━━━━\u001b[0m \u001b[32m491.5/552.4 kB\u001b[0m \u001b[31m14.5 MB/s\u001b[0m eta \u001b[36m0:00:01\u001b[0m\r",
      "\u001b[2K   \u001b[90m━━━━━━━━━━━━━━━━━━━━━━━━━━━━━━━━━━━━━━━━\u001b[0m \u001b[32m552.4/552.4 kB\u001b[0m \u001b[31m11.9 MB/s\u001b[0m eta \u001b[36m0:00:00\u001b[0m\n",
      "\u001b[?25hInstalling collected packages: deepchem\n",
      "Successfully installed deepchem-2.5.0\n",
      "Collecting mordred\n",
      "  Downloading mordred-1.2.0.tar.gz (128 kB)\n",
      "\u001b[2K     \u001b[90m━━━━━━━━━━━━━━━━━━━━━━━━━━━━━━━━━━━━━━━\u001b[0m \u001b[32m128.8/128.8 kB\u001b[0m \u001b[31m5.3 MB/s\u001b[0m eta \u001b[36m0:00:00\u001b[0m\n",
      "\u001b[?25h  Preparing metadata (setup.py) ... \u001b[?25l\u001b[?25hdone\n",
      "Requirement already satisfied: six==1.* in /usr/local/lib/python3.12/dist-packages (from mordred) (1.17.0)\n",
      "Collecting numpy==1.* (from mordred)\n",
      "  Downloading numpy-1.26.4-cp312-cp312-manylinux_2_17_x86_64.manylinux2014_x86_64.whl.metadata (61 kB)\n",
      "\u001b[2K     \u001b[90m━━━━━━━━━━━━━━━━━━━━━━━━━━━━━━━━━━━━━━━━\u001b[0m \u001b[32m61.0/61.0 kB\u001b[0m \u001b[31m5.6 MB/s\u001b[0m eta \u001b[36m0:00:00\u001b[0m\n",
      "\u001b[?25hCollecting networkx==2.* (from mordred)\n",
      "  Downloading networkx-2.8.8-py3-none-any.whl.metadata (5.1 kB)\n",
      "Downloading networkx-2.8.8-py3-none-any.whl (2.0 MB)\n",
      "\u001b[2K   \u001b[90m━━━━━━━━━━━━━━━━━━━━━━━━━━━━━━━━━━━━━━━━\u001b[0m \u001b[32m2.0/2.0 MB\u001b[0m \u001b[31m51.0 MB/s\u001b[0m eta \u001b[36m0:00:00\u001b[0m\n",
      "\u001b[?25hDownloading numpy-1.26.4-cp312-cp312-manylinux_2_17_x86_64.manylinux2014_x86_64.whl (18.0 MB)\n",
      "\u001b[2K   \u001b[90m━━━━━━━━━━━━━━━━━━━━━━━━━━━━━━━━━━━━━━━━\u001b[0m \u001b[32m18.0/18.0 MB\u001b[0m \u001b[31m120.2 MB/s\u001b[0m eta \u001b[36m0:00:00\u001b[0m\n",
      "\u001b[?25hBuilding wheels for collected packages: mordred\n",
      "  Building wheel for mordred (setup.py) ... \u001b[?25l\u001b[?25hdone\n",
      "  Created wheel for mordred: filename=mordred-1.2.0-py3-none-any.whl size=176718 sha256=644fe54565fef3ed94e93c60b5c704a2d1851e216bbcc1398bab00e09ecddcbe\n",
      "  Stored in directory: /root/.cache/pip/wheels/e8/79/b8/f4f1dfbb736c2b8605cf5068cd633f4d2869defb89908aef93\n",
      "Successfully built mordred\n",
      "Installing collected packages: numpy, networkx, mordred\n",
      "  Attempting uninstall: numpy\n",
      "    Found existing installation: numpy 2.0.2\n",
      "    Uninstalling numpy-2.0.2:\n",
      "      Successfully uninstalled numpy-2.0.2\n",
      "  Attempting uninstall: networkx\n",
      "    Found existing installation: networkx 3.5\n",
      "    Uninstalling networkx-3.5:\n",
      "      Successfully uninstalled networkx-3.5\n",
      "\u001b[31mERROR: pip's dependency resolver does not currently take into account all the packages that are installed. This behaviour is the source of the following dependency conflicts.\n",
      "thinc 8.3.6 requires numpy<3.0.0,>=2.0.0, but you have numpy 1.26.4 which is incompatible.\n",
      "opencv-contrib-python 4.12.0.88 requires numpy<2.3.0,>=2; python_version >= \"3.9\", but you have numpy 1.26.4 which is incompatible.\n",
      "opencv-python-headless 4.12.0.88 requires numpy<2.3.0,>=2; python_version >= \"3.9\", but you have numpy 1.26.4 which is incompatible.\n",
      "nx-cugraph-cu12 25.6.0 requires networkx>=3.2, but you have networkx 2.8.8 which is incompatible.\n",
      "opencv-python 4.12.0.88 requires numpy<2.3.0,>=2; python_version >= \"3.9\", but you have numpy 1.26.4 which is incompatible.\n",
      "scikit-image 0.25.2 requires networkx>=3.0, but you have networkx 2.8.8 which is incompatible.\u001b[0m\u001b[31m\n",
      "\u001b[0mSuccessfully installed mordred-1.2.0 networkx-2.8.8 numpy-1.26.4\n"
     ]
    },
    {
     "data": {
      "application/vnd.colab-display-data+json": {
       "id": "9139f015e8ac4a0cbff4880d2a652dd2",
       "pip_warning": {
        "packages": [
         "numpy"
        ]
       }
      }
     },
     "metadata": {},
     "output_type": "display_data"
    }
   ],
   "source": [
    "! pip install deepchem\n",
    "! pip install mordred"
   ]
  },
  {
   "cell_type": "code",
   "execution_count": 3,
   "metadata": {
    "colab": {
     "base_uri": "https://localhost:8080/"
    },
    "id": "xnD_lWRp3pHM",
    "outputId": "4af9dd43-c689-49ae-9863-3639c3ce437e"
   },
   "outputs": [
    {
     "name": "stdout",
     "output_type": "stream",
     "text": [
      "Collecting rdkit\n",
      "  Downloading rdkit-2025.3.5-cp312-cp312-manylinux_2_28_x86_64.whl.metadata (4.1 kB)\n",
      "Requirement already satisfied: numpy in /usr/local/lib/python3.12/dist-packages (from rdkit) (1.26.4)\n",
      "Requirement already satisfied: Pillow in /usr/local/lib/python3.12/dist-packages (from rdkit) (11.3.0)\n",
      "Downloading rdkit-2025.3.5-cp312-cp312-manylinux_2_28_x86_64.whl (36.2 MB)\n",
      "\u001b[2K   \u001b[90m━━━━━━━━━━━━━━━━━━━━━━━━━━━━━━━━━━━━━━━━\u001b[0m \u001b[32m36.2/36.2 MB\u001b[0m \u001b[31m24.3 MB/s\u001b[0m eta \u001b[36m0:00:00\u001b[0m\n",
      "\u001b[?25hInstalling collected packages: rdkit\n",
      "Successfully installed rdkit-2025.3.5\n"
     ]
    }
   ],
   "source": [
    "!pip install rdkit"
   ]
  },
  {
   "cell_type": "markdown",
   "metadata": {
    "id": "lVAS4fYiNH6t"
   },
   "source": [
    "### Pull Cafchem from Github and import libraries"
   ]
  },
  {
   "cell_type": "code",
   "execution_count": 25,
   "metadata": {
    "colab": {
     "base_uri": "https://localhost:8080/"
    },
    "id": "jOGbfMMhMuvf",
    "outputId": "a162c3ad-feab-4496-a9ef-2641827d31f1"
   },
   "outputs": [
    {
     "name": "stdout",
     "output_type": "stream",
     "text": [
      "Cloning into 'CafChem'...\n",
      "remote: Enumerating objects: 740, done.\u001b[K\n",
      "remote: Counting objects: 100% (169/169), done.\u001b[K\n",
      "remote: Compressing objects: 100% (115/115), done.\u001b[K\n",
      "remote: Total 740 (delta 131), reused 54 (delta 54), pack-reused 571 (from 2)\u001b[K\n",
      "Receiving objects: 100% (740/740), 42.85 MiB | 21.79 MiB/s, done.\n",
      "Resolving deltas: 100% (419/419), done.\n"
     ]
    }
   ],
   "source": [
    "!git clone https://github.com/MauricioCafiero/CafChem.git"
   ]
  },
  {
   "cell_type": "code",
   "execution_count": 26,
   "metadata": {
    "id": "Cv8J7ME9a2f1"
   },
   "outputs": [],
   "source": [
    "import tensorflow as tf\n",
    "import numpy as np\n",
    "import pandas as pd\n",
    "from rdkit import Chem\n",
    "from rdkit.Chem import AllChem, Draw\n",
    "from rdkit.Chem.Draw import MolsToGridImage\n",
    "import matplotlib.pyplot as plt\n",
    "import pickle\n",
    "\n",
    "import CafChem.CafChemSkipDense as ccsd"
   ]
  },
  {
   "cell_type": "markdown",
   "metadata": {
    "id": "13bKTnbmHtR0"
   },
   "source": [
    "## Regression"
   ]
  },
  {
   "cell_type": "markdown",
   "metadata": {
    "id": "m_UnvpjM7lEE"
   },
   "source": [
    "### Load Data\n",
    "- Use Pandas to lead your dataset and prepare a SMILES list and a target list. Apply transformations if needed.\n",
    "- Send lists to the Featurize tool to featurize with RDKit, Mordred or Fingerprints.\n",
    "- Apply scaling and PCA if needed and split the datastet. *NOTE:* Scaling is not needed for this NN as it uses internal normalization.\n",
    "- Outlier removal also provided. For regression you can remove outlier based on either the features or target data. For classification, only features should be used."
   ]
  },
  {
   "cell_type": "code",
   "execution_count": 5,
   "metadata": {
    "colab": {
     "base_uri": "https://localhost:8080/",
     "height": 206
    },
    "id": "mj3PlcHT7kua",
    "outputId": "ba6573ac-4358-4491-a15b-ab76cb20d347"
   },
   "outputs": [
    {
     "data": {
      "application/vnd.google.colaboratory.intrinsic+json": {
       "summary": "{\n  \"name\": \"df\",\n  \"rows\": 905,\n  \"fields\": [\n    {\n      \"column\": \"Unnamed: 0\",\n      \"properties\": {\n        \"dtype\": \"number\",\n        \"std\": 422,\n        \"min\": 7,\n        \"max\": 1406,\n        \"num_unique_values\": 905,\n        \"samples\": [\n          128,\n          713,\n          324\n        ],\n        \"semantic_type\": \"\",\n        \"description\": \"\"\n      }\n    },\n    {\n      \"column\": \"Ligand SMILES\",\n      \"properties\": {\n        \"dtype\": \"string\",\n        \"num_unique_values\": 905,\n        \"samples\": [\n          \"CCC(C)(C)C(=O)O[C@H]1CC(C)(C)O[C@@H]2CC[C@H](C)[C@H](CC[C@@H]3C[C@@H](O)CC(=O)O3)C12\",\n          \"CC(C)=CCC\\\\C(C)=C\\\\CCC1=C[C@@H](OC1=O)c1cc(O)ccc1O\",\n          \"O[C@@H]1CC(CCc2c(Cl)cc(Cl)cc2Oc2ccccc2)OC(=O)C1\"\n        ],\n        \"semantic_type\": \"\",\n        \"description\": \"\"\n      }\n    },\n    {\n      \"column\": \"IC50 (nM)\",\n      \"properties\": {\n        \"dtype\": \"number\",\n        \"std\": 171051.13396676516,\n        \"min\": 0.106,\n        \"max\": 2488000.0,\n        \"num_unique_values\": 469,\n        \"samples\": [\n          79.0,\n          141.0,\n          44.0\n        ],\n        \"semantic_type\": \"\",\n        \"description\": \"\"\n      }\n    }\n  ]\n}",
       "type": "dataframe",
       "variable_name": "df"
      },
      "text/html": [
       "\n",
       "  <div id=\"df-c2a69e75-657f-4d53-8ac9-108b65b1c4c0\" class=\"colab-df-container\">\n",
       "    <div>\n",
       "<style scoped>\n",
       "    .dataframe tbody tr th:only-of-type {\n",
       "        vertical-align: middle;\n",
       "    }\n",
       "\n",
       "    .dataframe tbody tr th {\n",
       "        vertical-align: top;\n",
       "    }\n",
       "\n",
       "    .dataframe thead th {\n",
       "        text-align: right;\n",
       "    }\n",
       "</style>\n",
       "<table border=\"1\" class=\"dataframe\">\n",
       "  <thead>\n",
       "    <tr style=\"text-align: right;\">\n",
       "      <th></th>\n",
       "      <th>Unnamed: 0</th>\n",
       "      <th>Ligand SMILES</th>\n",
       "      <th>IC50 (nM)</th>\n",
       "    </tr>\n",
       "  </thead>\n",
       "  <tbody>\n",
       "    <tr>\n",
       "      <th>0</th>\n",
       "      <td>7</td>\n",
       "      <td>[Na+].CC(C)c1c(\\C=C\\[C@H](O)C[C@@H](O)CC([O-])...</td>\n",
       "      <td>0.106</td>\n",
       "    </tr>\n",
       "    <tr>\n",
       "      <th>1</th>\n",
       "      <td>8</td>\n",
       "      <td>CC(C)n1c(CC[C@@H](O)C[C@@H](O)CC([O-])=O)c(c(c...</td>\n",
       "      <td>0.200</td>\n",
       "    </tr>\n",
       "    <tr>\n",
       "      <th>2</th>\n",
       "      <td>10</td>\n",
       "      <td>CC(C)n1c(CC[C@@H](O)C[C@@H](O)CC([O-])=O)c(c(c...</td>\n",
       "      <td>0.300</td>\n",
       "    </tr>\n",
       "    <tr>\n",
       "      <th>3</th>\n",
       "      <td>11</td>\n",
       "      <td>CC(C)n1c(CC[C@@H](O)C[C@@H](O)CC([O-])=O)c(c2C...</td>\n",
       "      <td>0.300</td>\n",
       "    </tr>\n",
       "    <tr>\n",
       "      <th>4</th>\n",
       "      <td>12</td>\n",
       "      <td>COC(=O)C[C@H](O)C[C@H](O)\\C=C\\n1c(C(C)C)c(Br)c...</td>\n",
       "      <td>0.300</td>\n",
       "    </tr>\n",
       "  </tbody>\n",
       "</table>\n",
       "</div>\n",
       "    <div class=\"colab-df-buttons\">\n",
       "\n",
       "  <div class=\"colab-df-container\">\n",
       "    <button class=\"colab-df-convert\" onclick=\"convertToInteractive('df-c2a69e75-657f-4d53-8ac9-108b65b1c4c0')\"\n",
       "            title=\"Convert this dataframe to an interactive table.\"\n",
       "            style=\"display:none;\">\n",
       "\n",
       "  <svg xmlns=\"http://www.w3.org/2000/svg\" height=\"24px\" viewBox=\"0 -960 960 960\">\n",
       "    <path d=\"M120-120v-720h720v720H120Zm60-500h600v-160H180v160Zm220 220h160v-160H400v160Zm0 220h160v-160H400v160ZM180-400h160v-160H180v160Zm440 0h160v-160H620v160ZM180-180h160v-160H180v160Zm440 0h160v-160H620v160Z\"/>\n",
       "  </svg>\n",
       "    </button>\n",
       "\n",
       "  <style>\n",
       "    .colab-df-container {\n",
       "      display:flex;\n",
       "      gap: 12px;\n",
       "    }\n",
       "\n",
       "    .colab-df-convert {\n",
       "      background-color: #E8F0FE;\n",
       "      border: none;\n",
       "      border-radius: 50%;\n",
       "      cursor: pointer;\n",
       "      display: none;\n",
       "      fill: #1967D2;\n",
       "      height: 32px;\n",
       "      padding: 0 0 0 0;\n",
       "      width: 32px;\n",
       "    }\n",
       "\n",
       "    .colab-df-convert:hover {\n",
       "      background-color: #E2EBFA;\n",
       "      box-shadow: 0px 1px 2px rgba(60, 64, 67, 0.3), 0px 1px 3px 1px rgba(60, 64, 67, 0.15);\n",
       "      fill: #174EA6;\n",
       "    }\n",
       "\n",
       "    .colab-df-buttons div {\n",
       "      margin-bottom: 4px;\n",
       "    }\n",
       "\n",
       "    [theme=dark] .colab-df-convert {\n",
       "      background-color: #3B4455;\n",
       "      fill: #D2E3FC;\n",
       "    }\n",
       "\n",
       "    [theme=dark] .colab-df-convert:hover {\n",
       "      background-color: #434B5C;\n",
       "      box-shadow: 0px 1px 3px 1px rgba(0, 0, 0, 0.15);\n",
       "      filter: drop-shadow(0px 1px 2px rgba(0, 0, 0, 0.3));\n",
       "      fill: #FFFFFF;\n",
       "    }\n",
       "  </style>\n",
       "\n",
       "    <script>\n",
       "      const buttonEl =\n",
       "        document.querySelector('#df-c2a69e75-657f-4d53-8ac9-108b65b1c4c0 button.colab-df-convert');\n",
       "      buttonEl.style.display =\n",
       "        google.colab.kernel.accessAllowed ? 'block' : 'none';\n",
       "\n",
       "      async function convertToInteractive(key) {\n",
       "        const element = document.querySelector('#df-c2a69e75-657f-4d53-8ac9-108b65b1c4c0');\n",
       "        const dataTable =\n",
       "          await google.colab.kernel.invokeFunction('convertToInteractive',\n",
       "                                                    [key], {});\n",
       "        if (!dataTable) return;\n",
       "\n",
       "        const docLinkHtml = 'Like what you see? Visit the ' +\n",
       "          '<a target=\"_blank\" href=https://colab.research.google.com/notebooks/data_table.ipynb>data table notebook</a>'\n",
       "          + ' to learn more about interactive tables.';\n",
       "        element.innerHTML = '';\n",
       "        dataTable['output_type'] = 'display_data';\n",
       "        await google.colab.output.renderOutput(dataTable, element);\n",
       "        const docLink = document.createElement('div');\n",
       "        docLink.innerHTML = docLinkHtml;\n",
       "        element.appendChild(docLink);\n",
       "      }\n",
       "    </script>\n",
       "  </div>\n",
       "\n",
       "\n",
       "    <div id=\"df-10a7c196-e35d-4819-bfb4-0a8c3714608e\">\n",
       "      <button class=\"colab-df-quickchart\" onclick=\"quickchart('df-10a7c196-e35d-4819-bfb4-0a8c3714608e')\"\n",
       "                title=\"Suggest charts\"\n",
       "                style=\"display:none;\">\n",
       "\n",
       "<svg xmlns=\"http://www.w3.org/2000/svg\" height=\"24px\"viewBox=\"0 0 24 24\"\n",
       "     width=\"24px\">\n",
       "    <g>\n",
       "        <path d=\"M19 3H5c-1.1 0-2 .9-2 2v14c0 1.1.9 2 2 2h14c1.1 0 2-.9 2-2V5c0-1.1-.9-2-2-2zM9 17H7v-7h2v7zm4 0h-2V7h2v10zm4 0h-2v-4h2v4z\"/>\n",
       "    </g>\n",
       "</svg>\n",
       "      </button>\n",
       "\n",
       "<style>\n",
       "  .colab-df-quickchart {\n",
       "      --bg-color: #E8F0FE;\n",
       "      --fill-color: #1967D2;\n",
       "      --hover-bg-color: #E2EBFA;\n",
       "      --hover-fill-color: #174EA6;\n",
       "      --disabled-fill-color: #AAA;\n",
       "      --disabled-bg-color: #DDD;\n",
       "  }\n",
       "\n",
       "  [theme=dark] .colab-df-quickchart {\n",
       "      --bg-color: #3B4455;\n",
       "      --fill-color: #D2E3FC;\n",
       "      --hover-bg-color: #434B5C;\n",
       "      --hover-fill-color: #FFFFFF;\n",
       "      --disabled-bg-color: #3B4455;\n",
       "      --disabled-fill-color: #666;\n",
       "  }\n",
       "\n",
       "  .colab-df-quickchart {\n",
       "    background-color: var(--bg-color);\n",
       "    border: none;\n",
       "    border-radius: 50%;\n",
       "    cursor: pointer;\n",
       "    display: none;\n",
       "    fill: var(--fill-color);\n",
       "    height: 32px;\n",
       "    padding: 0;\n",
       "    width: 32px;\n",
       "  }\n",
       "\n",
       "  .colab-df-quickchart:hover {\n",
       "    background-color: var(--hover-bg-color);\n",
       "    box-shadow: 0 1px 2px rgba(60, 64, 67, 0.3), 0 1px 3px 1px rgba(60, 64, 67, 0.15);\n",
       "    fill: var(--button-hover-fill-color);\n",
       "  }\n",
       "\n",
       "  .colab-df-quickchart-complete:disabled,\n",
       "  .colab-df-quickchart-complete:disabled:hover {\n",
       "    background-color: var(--disabled-bg-color);\n",
       "    fill: var(--disabled-fill-color);\n",
       "    box-shadow: none;\n",
       "  }\n",
       "\n",
       "  .colab-df-spinner {\n",
       "    border: 2px solid var(--fill-color);\n",
       "    border-color: transparent;\n",
       "    border-bottom-color: var(--fill-color);\n",
       "    animation:\n",
       "      spin 1s steps(1) infinite;\n",
       "  }\n",
       "\n",
       "  @keyframes spin {\n",
       "    0% {\n",
       "      border-color: transparent;\n",
       "      border-bottom-color: var(--fill-color);\n",
       "      border-left-color: var(--fill-color);\n",
       "    }\n",
       "    20% {\n",
       "      border-color: transparent;\n",
       "      border-left-color: var(--fill-color);\n",
       "      border-top-color: var(--fill-color);\n",
       "    }\n",
       "    30% {\n",
       "      border-color: transparent;\n",
       "      border-left-color: var(--fill-color);\n",
       "      border-top-color: var(--fill-color);\n",
       "      border-right-color: var(--fill-color);\n",
       "    }\n",
       "    40% {\n",
       "      border-color: transparent;\n",
       "      border-right-color: var(--fill-color);\n",
       "      border-top-color: var(--fill-color);\n",
       "    }\n",
       "    60% {\n",
       "      border-color: transparent;\n",
       "      border-right-color: var(--fill-color);\n",
       "    }\n",
       "    80% {\n",
       "      border-color: transparent;\n",
       "      border-right-color: var(--fill-color);\n",
       "      border-bottom-color: var(--fill-color);\n",
       "    }\n",
       "    90% {\n",
       "      border-color: transparent;\n",
       "      border-bottom-color: var(--fill-color);\n",
       "    }\n",
       "  }\n",
       "</style>\n",
       "\n",
       "      <script>\n",
       "        async function quickchart(key) {\n",
       "          const quickchartButtonEl =\n",
       "            document.querySelector('#' + key + ' button');\n",
       "          quickchartButtonEl.disabled = true;  // To prevent multiple clicks.\n",
       "          quickchartButtonEl.classList.add('colab-df-spinner');\n",
       "          try {\n",
       "            const charts = await google.colab.kernel.invokeFunction(\n",
       "                'suggestCharts', [key], {});\n",
       "          } catch (error) {\n",
       "            console.error('Error during call to suggestCharts:', error);\n",
       "          }\n",
       "          quickchartButtonEl.classList.remove('colab-df-spinner');\n",
       "          quickchartButtonEl.classList.add('colab-df-quickchart-complete');\n",
       "        }\n",
       "        (() => {\n",
       "          let quickchartButtonEl =\n",
       "            document.querySelector('#df-10a7c196-e35d-4819-bfb4-0a8c3714608e button');\n",
       "          quickchartButtonEl.style.display =\n",
       "            google.colab.kernel.accessAllowed ? 'block' : 'none';\n",
       "        })();\n",
       "      </script>\n",
       "    </div>\n",
       "\n",
       "    </div>\n",
       "  </div>\n"
      ],
      "text/plain": [
       "   Unnamed: 0                                      Ligand SMILES  IC50 (nM)\n",
       "0           7  [Na+].CC(C)c1c(\\C=C\\[C@H](O)C[C@@H](O)CC([O-])...      0.106\n",
       "1           8  CC(C)n1c(CC[C@@H](O)C[C@@H](O)CC([O-])=O)c(c(c...      0.200\n",
       "2          10  CC(C)n1c(CC[C@@H](O)C[C@@H](O)CC([O-])=O)c(c(c...      0.300\n",
       "3          11  CC(C)n1c(CC[C@@H](O)C[C@@H](O)CC([O-])=O)c(c2C...      0.300\n",
       "4          12  COC(=O)C[C@H](O)C[C@H](O)\\C=C\\n1c(C(C)C)c(Br)c...      0.300"
      ]
     },
     "execution_count": 5,
     "metadata": {},
     "output_type": "execute_result"
    }
   ],
   "source": [
    "df = pd.read_csv(\"/content/905-unique-statins.csv\")\n",
    "df.head()"
   ]
  },
  {
   "cell_type": "code",
   "execution_count": 6,
   "metadata": {
    "id": "nuFLA9a_7tGa"
   },
   "outputs": [],
   "source": [
    "smiles = df[\"Ligand SMILES\"].to_list()\n",
    "targets = df['IC50 (nM)'].to_list()\n",
    "\n",
    "targets = [np.log10(x) for x in targets]"
   ]
  },
  {
   "cell_type": "code",
   "execution_count": 7,
   "metadata": {
    "colab": {
     "base_uri": "https://localhost:8080/"
    },
    "id": "H537VnT38AcW",
    "outputId": "2af0d8cd-c128-428b-987f-2cab7f624c2f"
   },
   "outputs": [
    {
     "name": "stdout",
     "output_type": "stream",
     "text": [
      "Old dimensions are: (905, 217).\n",
      "New dimensions are: (905, 217)\n"
     ]
    }
   ],
   "source": [
    "x, y, Xa = ccsd.featurize(smiles, targets, featurizer = \"rdkit\", classifier_flag=False)"
   ]
  },
  {
   "cell_type": "code",
   "execution_count": 8,
   "metadata": {
    "colab": {
     "base_uri": "https://localhost:8080/"
    },
    "id": "G1XqiOjh8HfC",
    "outputId": "0a5062ad-03f0-41ef-a86f-e6813807b88d"
   },
   "outputs": [
    {
     "name": "stdout",
     "output_type": "stream",
     "text": [
      "Pre-processing done.\n"
     ]
    }
   ],
   "source": [
    "X_train, X_valid, y_train, y_valid, smiles_train, smiles_valid, pca, scaler = ccsd.scale_pca_split(x,y,Xa, False, False)"
   ]
  },
  {
   "cell_type": "markdown",
   "metadata": {
    "id": "NF-_ePNMHyu8"
   },
   "source": [
    "### Set model and train\n",
    "- Create a skipdense_model class and set number layers per Skipdense block, number of neurons per layer, number of blocks, whether to have one stack of layers or two (wide boolean), whether each block should include a skip connection or not, learning rate and regularization constant.\n",
    "  * for classifiation models, specify the classification_flag as True and include the number of classes.\n",
    "  * for training, specify epochs and batch_size\n",
    "- Once the class is instantiated, build_model and then train_model. Afterwards you can eval_model.\n",
    "- Examples given below to save a model and load a model."
   ]
  },
  {
   "cell_type": "code",
   "execution_count": 28,
   "metadata": {
    "colab": {
     "base_uri": "https://localhost:8080/"
    },
    "id": "9cpgLb1G8X9I",
    "outputId": "84abcc0b-fcd9-4143-d3a5-3393ca7ab3b6"
   },
   "outputs": [
    {
     "name": "stdout",
     "output_type": "stream",
     "text": [
      "skipdense model initialized!\n"
     ]
    }
   ],
   "source": [
    "skip = ccsd.skipdense_model(ntlu = 400, epochs = 50, wide = True, skip = [True, False])"
   ]
  },
  {
   "cell_type": "code",
   "execution_count": 29,
   "metadata": {
    "colab": {
     "base_uri": "https://localhost:8080/",
     "height": 497
    },
    "id": "SFoXXoKU8l4t",
    "outputId": "ce3ab029-3364-4547-fd2e-841462016071"
   },
   "outputs": [
    {
     "data": {
      "text/html": [
       "<pre style=\"white-space:pre;overflow-x:auto;line-height:normal;font-family:Menlo,'DejaVu Sans Mono',consolas,'Courier New',monospace\"><span style=\"font-weight: bold\">Model: \"functional_2\"</span>\n",
       "</pre>\n"
      ],
      "text/plain": [
       "\u001b[1mModel: \"functional_2\"\u001b[0m\n"
      ]
     },
     "metadata": {},
     "output_type": "display_data"
    },
    {
     "data": {
      "text/html": [
       "<pre style=\"white-space:pre;overflow-x:auto;line-height:normal;font-family:Menlo,'DejaVu Sans Mono',consolas,'Courier New',monospace\">┏━━━━━━━━━━━━━━━━━━━━━┳━━━━━━━━━━━━━━━━━━━┳━━━━━━━━━━━━┳━━━━━━━━━━━━━━━━━━━┓\n",
       "┃<span style=\"font-weight: bold\"> Layer (type)        </span>┃<span style=\"font-weight: bold\"> Output Shape      </span>┃<span style=\"font-weight: bold\">    Param # </span>┃<span style=\"font-weight: bold\"> Connected to      </span>┃\n",
       "┡━━━━━━━━━━━━━━━━━━━━━╇━━━━━━━━━━━━━━━━━━━╇━━━━━━━━━━━━╇━━━━━━━━━━━━━━━━━━━┩\n",
       "│ input_layer_2       │ (<span style=\"color: #00d7ff; text-decoration-color: #00d7ff\">None</span>, <span style=\"color: #00af00; text-decoration-color: #00af00\">217</span>)       │          <span style=\"color: #00af00; text-decoration-color: #00af00\">0</span> │ -                 │\n",
       "│ (<span style=\"color: #0087ff; text-decoration-color: #0087ff\">InputLayer</span>)        │                   │            │                   │\n",
       "├─────────────────────┼───────────────────┼────────────┼───────────────────┤\n",
       "│ normalization_2     │ (<span style=\"color: #00d7ff; text-decoration-color: #00d7ff\">None</span>, <span style=\"color: #00af00; text-decoration-color: #00af00\">217</span>)       │        <span style=\"color: #00af00; text-decoration-color: #00af00\">435</span> │ input_layer_2[<span style=\"color: #00af00; text-decoration-color: #00af00\">0</span>]… │\n",
       "│ (<span style=\"color: #0087ff; text-decoration-color: #0087ff\">Normalization</span>)     │                   │            │                   │\n",
       "├─────────────────────┼───────────────────┼────────────┼───────────────────┤\n",
       "│ skip_dense_block_6  │ (<span style=\"color: #00d7ff; text-decoration-color: #00d7ff\">None</span>, <span style=\"color: #00af00; text-decoration-color: #00af00\">617</span>)       │    <span style=\"color: #00af00; text-decoration-color: #00af00\">568,400</span> │ normalization_2[<span style=\"color: #00af00; text-decoration-color: #00af00\">…</span> │\n",
       "│ (<span style=\"color: #0087ff; text-decoration-color: #0087ff\">SkipDenseBlock</span>)    │                   │            │                   │\n",
       "├─────────────────────┼───────────────────┼────────────┼───────────────────┤\n",
       "│ skip_dense_block_8  │ (<span style=\"color: #00d7ff; text-decoration-color: #00d7ff\">None</span>, <span style=\"color: #00af00; text-decoration-color: #00af00\">617</span>)       │    <span style=\"color: #00af00; text-decoration-color: #00af00\">568,400</span> │ normalization_2[<span style=\"color: #00af00; text-decoration-color: #00af00\">…</span> │\n",
       "│ (<span style=\"color: #0087ff; text-decoration-color: #0087ff\">SkipDenseBlock</span>)    │                   │            │                   │\n",
       "├─────────────────────┼───────────────────┼────────────┼───────────────────┤\n",
       "│ skip_dense_block_7  │ (<span style=\"color: #00d7ff; text-decoration-color: #00d7ff\">None</span>, <span style=\"color: #00af00; text-decoration-color: #00af00\">1017</span>)      │    <span style=\"color: #00af00; text-decoration-color: #00af00\">728,400</span> │ skip_dense_block… │\n",
       "│ (<span style=\"color: #0087ff; text-decoration-color: #0087ff\">SkipDenseBlock</span>)    │                   │            │                   │\n",
       "├─────────────────────┼───────────────────┼────────────┼───────────────────┤\n",
       "│ skip_dense_block_9  │ (<span style=\"color: #00d7ff; text-decoration-color: #00d7ff\">None</span>, <span style=\"color: #00af00; text-decoration-color: #00af00\">1017</span>)      │    <span style=\"color: #00af00; text-decoration-color: #00af00\">728,400</span> │ skip_dense_block… │\n",
       "│ (<span style=\"color: #0087ff; text-decoration-color: #0087ff\">SkipDenseBlock</span>)    │                   │            │                   │\n",
       "├─────────────────────┼───────────────────┼────────────┼───────────────────┤\n",
       "│ concatenate_9       │ (<span style=\"color: #00d7ff; text-decoration-color: #00d7ff\">None</span>, <span style=\"color: #00af00; text-decoration-color: #00af00\">2034</span>)      │          <span style=\"color: #00af00; text-decoration-color: #00af00\">0</span> │ skip_dense_block… │\n",
       "│ (<span style=\"color: #0087ff; text-decoration-color: #0087ff\">Concatenate</span>)       │                   │            │ skip_dense_block… │\n",
       "├─────────────────────┼───────────────────┼────────────┼───────────────────┤\n",
       "│ dense_42 (<span style=\"color: #0087ff; text-decoration-color: #0087ff\">Dense</span>)    │ (<span style=\"color: #00d7ff; text-decoration-color: #00d7ff\">None</span>, <span style=\"color: #00af00; text-decoration-color: #00af00\">1</span>)         │      <span style=\"color: #00af00; text-decoration-color: #00af00\">2,035</span> │ concatenate_9[<span style=\"color: #00af00; text-decoration-color: #00af00\">0</span>]… │\n",
       "└─────────────────────┴───────────────────┴────────────┴───────────────────┘\n",
       "</pre>\n"
      ],
      "text/plain": [
       "┏━━━━━━━━━━━━━━━━━━━━━┳━━━━━━━━━━━━━━━━━━━┳━━━━━━━━━━━━┳━━━━━━━━━━━━━━━━━━━┓\n",
       "┃\u001b[1m \u001b[0m\u001b[1mLayer (type)       \u001b[0m\u001b[1m \u001b[0m┃\u001b[1m \u001b[0m\u001b[1mOutput Shape     \u001b[0m\u001b[1m \u001b[0m┃\u001b[1m \u001b[0m\u001b[1m   Param #\u001b[0m\u001b[1m \u001b[0m┃\u001b[1m \u001b[0m\u001b[1mConnected to     \u001b[0m\u001b[1m \u001b[0m┃\n",
       "┡━━━━━━━━━━━━━━━━━━━━━╇━━━━━━━━━━━━━━━━━━━╇━━━━━━━━━━━━╇━━━━━━━━━━━━━━━━━━━┩\n",
       "│ input_layer_2       │ (\u001b[38;5;45mNone\u001b[0m, \u001b[38;5;34m217\u001b[0m)       │          \u001b[38;5;34m0\u001b[0m │ -                 │\n",
       "│ (\u001b[38;5;33mInputLayer\u001b[0m)        │                   │            │                   │\n",
       "├─────────────────────┼───────────────────┼────────────┼───────────────────┤\n",
       "│ normalization_2     │ (\u001b[38;5;45mNone\u001b[0m, \u001b[38;5;34m217\u001b[0m)       │        \u001b[38;5;34m435\u001b[0m │ input_layer_2[\u001b[38;5;34m0\u001b[0m]… │\n",
       "│ (\u001b[38;5;33mNormalization\u001b[0m)     │                   │            │                   │\n",
       "├─────────────────────┼───────────────────┼────────────┼───────────────────┤\n",
       "│ skip_dense_block_6  │ (\u001b[38;5;45mNone\u001b[0m, \u001b[38;5;34m617\u001b[0m)       │    \u001b[38;5;34m568,400\u001b[0m │ normalization_2[\u001b[38;5;34m…\u001b[0m │\n",
       "│ (\u001b[38;5;33mSkipDenseBlock\u001b[0m)    │                   │            │                   │\n",
       "├─────────────────────┼───────────────────┼────────────┼───────────────────┤\n",
       "│ skip_dense_block_8  │ (\u001b[38;5;45mNone\u001b[0m, \u001b[38;5;34m617\u001b[0m)       │    \u001b[38;5;34m568,400\u001b[0m │ normalization_2[\u001b[38;5;34m…\u001b[0m │\n",
       "│ (\u001b[38;5;33mSkipDenseBlock\u001b[0m)    │                   │            │                   │\n",
       "├─────────────────────┼───────────────────┼────────────┼───────────────────┤\n",
       "│ skip_dense_block_7  │ (\u001b[38;5;45mNone\u001b[0m, \u001b[38;5;34m1017\u001b[0m)      │    \u001b[38;5;34m728,400\u001b[0m │ skip_dense_block… │\n",
       "│ (\u001b[38;5;33mSkipDenseBlock\u001b[0m)    │                   │            │                   │\n",
       "├─────────────────────┼───────────────────┼────────────┼───────────────────┤\n",
       "│ skip_dense_block_9  │ (\u001b[38;5;45mNone\u001b[0m, \u001b[38;5;34m1017\u001b[0m)      │    \u001b[38;5;34m728,400\u001b[0m │ skip_dense_block… │\n",
       "│ (\u001b[38;5;33mSkipDenseBlock\u001b[0m)    │                   │            │                   │\n",
       "├─────────────────────┼───────────────────┼────────────┼───────────────────┤\n",
       "│ concatenate_9       │ (\u001b[38;5;45mNone\u001b[0m, \u001b[38;5;34m2034\u001b[0m)      │          \u001b[38;5;34m0\u001b[0m │ skip_dense_block… │\n",
       "│ (\u001b[38;5;33mConcatenate\u001b[0m)       │                   │            │ skip_dense_block… │\n",
       "├─────────────────────┼───────────────────┼────────────┼───────────────────┤\n",
       "│ dense_42 (\u001b[38;5;33mDense\u001b[0m)    │ (\u001b[38;5;45mNone\u001b[0m, \u001b[38;5;34m1\u001b[0m)         │      \u001b[38;5;34m2,035\u001b[0m │ concatenate_9[\u001b[38;5;34m0\u001b[0m]… │\n",
       "└─────────────────────┴───────────────────┴────────────┴───────────────────┘\n"
      ]
     },
     "metadata": {},
     "output_type": "display_data"
    },
    {
     "data": {
      "text/html": [
       "<pre style=\"white-space:pre;overflow-x:auto;line-height:normal;font-family:Menlo,'DejaVu Sans Mono',consolas,'Courier New',monospace\"><span style=\"font-weight: bold\"> Total params: </span><span style=\"color: #00af00; text-decoration-color: #00af00\">2,596,070</span> (9.90 MB)\n",
       "</pre>\n"
      ],
      "text/plain": [
       "\u001b[1m Total params: \u001b[0m\u001b[38;5;34m2,596,070\u001b[0m (9.90 MB)\n"
      ]
     },
     "metadata": {},
     "output_type": "display_data"
    },
    {
     "data": {
      "text/html": [
       "<pre style=\"white-space:pre;overflow-x:auto;line-height:normal;font-family:Menlo,'DejaVu Sans Mono',consolas,'Courier New',monospace\"><span style=\"font-weight: bold\"> Trainable params: </span><span style=\"color: #00af00; text-decoration-color: #00af00\">2,595,635</span> (9.90 MB)\n",
       "</pre>\n"
      ],
      "text/plain": [
       "\u001b[1m Trainable params: \u001b[0m\u001b[38;5;34m2,595,635\u001b[0m (9.90 MB)\n"
      ]
     },
     "metadata": {},
     "output_type": "display_data"
    },
    {
     "data": {
      "text/html": [
       "<pre style=\"white-space:pre;overflow-x:auto;line-height:normal;font-family:Menlo,'DejaVu Sans Mono',consolas,'Courier New',monospace\"><span style=\"font-weight: bold\"> Non-trainable params: </span><span style=\"color: #00af00; text-decoration-color: #00af00\">435</span> (1.70 KB)\n",
       "</pre>\n"
      ],
      "text/plain": [
       "\u001b[1m Non-trainable params: \u001b[0m\u001b[38;5;34m435\u001b[0m (1.70 KB)\n"
      ]
     },
     "metadata": {},
     "output_type": "display_data"
    }
   ],
   "source": [
    "model = skip.build_model(X_train)"
   ]
  },
  {
   "cell_type": "code",
   "execution_count": 31,
   "metadata": {
    "colab": {
     "base_uri": "https://localhost:8080/",
     "height": 1000
    },
    "id": "UtiOwxPS8sdZ",
    "outputId": "246cd00c-e0f1-4e23-b866-df32f9c802c0"
   },
   "outputs": [
    {
     "name": "stdout",
     "output_type": "stream",
     "text": [
      "Epoch 1/50\n",
      "13/13 - 12s - 905ms/step - loss: 6.8070 - val_loss: 2.0398 - learning_rate: 0.0020\n",
      "Epoch 2/50\n",
      "13/13 - 0s - 28ms/step - loss: 3.3624 - val_loss: 2.4763 - learning_rate: 0.0019\n",
      "Epoch 3/50\n",
      "13/13 - 1s - 41ms/step - loss: 1.7211 - val_loss: 1.3677 - learning_rate: 0.0018\n",
      "Epoch 4/50\n",
      "13/13 - 0s - 22ms/step - loss: 1.6890 - val_loss: 1.3854 - learning_rate: 0.0017\n",
      "Epoch 5/50\n",
      "13/13 - 0s - 21ms/step - loss: 1.5791 - val_loss: 1.5241 - learning_rate: 0.0017\n",
      "Epoch 6/50\n",
      "13/13 - 0s - 24ms/step - loss: 1.3951 - val_loss: 1.4453 - learning_rate: 0.0016\n",
      "Epoch 7/50\n",
      "13/13 - 0s - 22ms/step - loss: 1.3436 - val_loss: 1.3492 - learning_rate: 0.0015\n",
      "Epoch 8/50\n",
      "13/13 - 0s - 23ms/step - loss: 1.2303 - val_loss: 1.1247 - learning_rate: 0.0014\n",
      "Epoch 9/50\n",
      "13/13 - 0s - 22ms/step - loss: 1.1965 - val_loss: 1.1505 - learning_rate: 0.0014\n",
      "Epoch 10/50\n",
      "13/13 - 0s - 21ms/step - loss: 1.1737 - val_loss: 1.1016 - learning_rate: 0.0013\n",
      "Epoch 11/50\n",
      "13/13 - 0s - 21ms/step - loss: 1.1815 - val_loss: 1.1672 - learning_rate: 0.0013\n",
      "Epoch 12/50\n",
      "13/13 - 0s - 23ms/step - loss: 1.1637 - val_loss: 1.0785 - learning_rate: 0.0012\n",
      "Epoch 13/50\n",
      "13/13 - 3s - 244ms/step - loss: 1.1541 - val_loss: 1.1094 - learning_rate: 0.0012\n",
      "Epoch 14/50\n",
      "13/13 - 0s - 21ms/step - loss: 1.1699 - val_loss: 1.0694 - learning_rate: 0.0011\n",
      "Epoch 15/50\n",
      "13/13 - 0s - 20ms/step - loss: 1.1723 - val_loss: 1.5013 - learning_rate: 0.0010\n",
      "Epoch 16/50\n",
      "13/13 - 0s - 23ms/step - loss: 1.4278 - val_loss: 1.3626 - learning_rate: 0.0010\n",
      "Epoch 17/50\n",
      "13/13 - 0s - 24ms/step - loss: 1.1208 - val_loss: 1.0233 - learning_rate: 9.5726e-04\n",
      "Epoch 18/50\n",
      "13/13 - 0s - 22ms/step - loss: 1.0859 - val_loss: 1.0387 - learning_rate: 9.1418e-04\n",
      "Epoch 19/50\n",
      "13/13 - 0s - 21ms/step - loss: 1.0209 - val_loss: 1.0063 - learning_rate: 8.7303e-04\n",
      "Epoch 20/50\n",
      "13/13 - 0s - 20ms/step - loss: 1.0104 - val_loss: 0.9993 - learning_rate: 8.3374e-04\n",
      "Epoch 21/50\n",
      "13/13 - 0s - 21ms/step - loss: 1.0155 - val_loss: 0.9992 - learning_rate: 7.9621e-04\n",
      "Epoch 22/50\n",
      "13/13 - 0s - 23ms/step - loss: 1.0188 - val_loss: 0.9982 - learning_rate: 7.6038e-04\n",
      "Epoch 23/50\n",
      "13/13 - 0s - 22ms/step - loss: 1.0857 - val_loss: 1.0153 - learning_rate: 7.2616e-04\n",
      "Epoch 24/50\n",
      "13/13 - 0s - 30ms/step - loss: 1.0267 - val_loss: 1.0840 - learning_rate: 6.9347e-04\n",
      "Epoch 25/50\n",
      "13/13 - 1s - 52ms/step - loss: 1.0382 - val_loss: 1.0044 - learning_rate: 6.6226e-04\n",
      "Epoch 26/50\n",
      "13/13 - 1s - 44ms/step - loss: 1.0337 - val_loss: 0.9801 - learning_rate: 6.3246e-04\n",
      "Epoch 27/50\n",
      "13/13 - 1s - 47ms/step - loss: 1.0177 - val_loss: 1.0060 - learning_rate: 6.0399e-04\n",
      "Epoch 28/50\n",
      "13/13 - 1s - 40ms/step - loss: 0.9658 - val_loss: 0.9863 - learning_rate: 5.7681e-04\n",
      "Epoch 29/50\n",
      "13/13 - 0s - 23ms/step - loss: 0.9507 - val_loss: 0.9839 - learning_rate: 5.5085e-04\n",
      "Epoch 30/50\n",
      "13/13 - 0s - 24ms/step - loss: 0.9460 - val_loss: 0.9653 - learning_rate: 5.2605e-04\n",
      "Epoch 31/50\n",
      "13/13 - 0s - 25ms/step - loss: 0.9282 - val_loss: 0.9722 - learning_rate: 5.0238e-04\n",
      "Epoch 32/50\n",
      "13/13 - 0s - 21ms/step - loss: 0.9288 - val_loss: 0.9499 - learning_rate: 4.7977e-04\n",
      "Epoch 33/50\n",
      "13/13 - 0s - 21ms/step - loss: 0.9233 - val_loss: 0.9805 - learning_rate: 4.5817e-04\n",
      "Epoch 34/50\n",
      "13/13 - 0s - 24ms/step - loss: 0.9256 - val_loss: 0.9524 - learning_rate: 4.3755e-04\n",
      "Epoch 35/50\n",
      "13/13 - 0s - 22ms/step - loss: 0.9238 - val_loss: 0.9332 - learning_rate: 4.1786e-04\n",
      "Epoch 36/50\n",
      "13/13 - 0s - 21ms/step - loss: 0.9240 - val_loss: 0.9488 - learning_rate: 3.9905e-04\n",
      "Epoch 37/50\n",
      "13/13 - 0s - 21ms/step - loss: 0.9149 - val_loss: 0.9448 - learning_rate: 3.8109e-04\n",
      "Epoch 38/50\n",
      "13/13 - 0s - 22ms/step - loss: 0.9247 - val_loss: 0.9196 - learning_rate: 3.6394e-04\n",
      "Epoch 39/50\n",
      "13/13 - 0s - 21ms/step - loss: 0.9572 - val_loss: 0.9590 - learning_rate: 3.4756e-04\n",
      "Epoch 40/50\n",
      "13/13 - 0s - 21ms/step - loss: 1.0508 - val_loss: 1.1027 - learning_rate: 3.3192e-04\n",
      "Epoch 41/50\n",
      "13/13 - 0s - 23ms/step - loss: 1.1033 - val_loss: 0.9918 - learning_rate: 3.1698e-04\n",
      "Epoch 42/50\n",
      "13/13 - 0s - 22ms/step - loss: 1.0379 - val_loss: 0.9451 - learning_rate: 3.0271e-04\n",
      "Epoch 43/50\n",
      "13/13 - 0s - 23ms/step - loss: 0.8960 - val_loss: 0.9199 - learning_rate: 2.8909e-04\n",
      "Epoch 44/50\n",
      "13/13 - 0s - 22ms/step - loss: 0.8941 - val_loss: 0.9240 - learning_rate: 2.7608e-04\n",
      "Epoch 45/50\n",
      "13/13 - 0s - 22ms/step - loss: 0.9332 - val_loss: 0.9742 - learning_rate: 2.6365e-04\n",
      "Epoch 46/50\n",
      "13/13 - 0s - 25ms/step - loss: 0.9389 - val_loss: 0.9210 - learning_rate: 2.5179e-04\n",
      "Epoch 47/50\n",
      "13/13 - 0s - 21ms/step - loss: 0.8904 - val_loss: 0.9247 - learning_rate: 2.4045e-04\n",
      "Epoch 48/50\n",
      "13/13 - 0s - 24ms/step - loss: 0.8805 - val_loss: 0.9350 - learning_rate: 2.2963e-04\n",
      "Epoch 49/50\n",
      "13/13 - 0s - 21ms/step - loss: 0.8659 - val_loss: 0.9147 - learning_rate: 2.1930e-04\n",
      "Epoch 50/50\n",
      "13/13 - 0s - 21ms/step - loss: 0.8631 - val_loss: 0.9206 - learning_rate: 2.0943e-04\n"
     ]
    },
    {
     "data": {
      "image/png": "[encoded data removed]",
      "text/plain": [
       "<Figure size 600x400 with 1 Axes>"
      ]
     },
     "metadata": {},
     "output_type": "display_data"
    }
   ],
   "source": [
    "model, df = skip.train_model(model, X_train, y_train, X_valid, y_valid)"
   ]
  },
  {
   "cell_type": "code",
   "execution_count": 32,
   "metadata": {
    "colab": {
     "base_uri": "https://localhost:8080/",
     "height": 501
    },
    "id": "RNDoChNx-2AI",
    "outputId": "b6172522-c121-4ab6-d78b-41dcc913bafe"
   },
   "outputs": [
    {
     "name": "stdout",
     "output_type": "stream",
     "text": [
      "\u001b[1m26/26\u001b[0m \u001b[32m━━━━━━━━━━━━━━━━━━━━\u001b[0m\u001b[37m\u001b[0m \u001b[1m1s\u001b[0m 30ms/step\n",
      "\u001b[1m3/3\u001b[0m \u001b[32m━━━━━━━━━━━━━━━━━━━━\u001b[0m\u001b[37m\u001b[0m \u001b[1m0s\u001b[0m 167ms/step\n",
      "Training set score is [0.69594896], validation set score is [0.67980372]\n"
     ]
    },
    {
     "data": {
      "image/png": "[encoded data removed]",
      "text/plain": [
       "<Figure size 640x480 with 1 Axes>"
      ]
     },
     "metadata": {},
     "output_type": "display_data"
    }
   ],
   "source": [
    "skip.eval_model(model, X_train, y_train, X_valid, y_valid)"
   ]
  },
  {
   "cell_type": "code",
   "execution_count": 33,
   "metadata": {
    "colab": {
     "base_uri": "https://localhost:8080/"
    },
    "id": "7q3P8UN--4tC",
    "outputId": "b7ef6d15-6dd4-4e7f-ae6c-ba833808a490"
   },
   "outputs": [
    {
     "name": "stdout",
     "output_type": "stream",
     "text": [
      "Paramters and weights saved to the Checks/ folder!\n"
     ]
    }
   ],
   "source": [
    "skip.save_model(model, \"wide_test\")"
   ]
  },
  {
   "cell_type": "code",
   "execution_count": 35,
   "metadata": {
    "colab": {
     "base_uri": "https://localhost:8080/",
     "height": 514
    },
    "id": "3pjLSGGXBO9v",
    "outputId": "66c62793-3a4e-4c40-8918-e4e03672fa8b"
   },
   "outputs": [
    {
     "name": "stdout",
     "output_type": "stream",
     "text": [
      "skipdense model initialized!\n"
     ]
    },
    {
     "data": {
      "text/html": [
       "<pre style=\"white-space:pre;overflow-x:auto;line-height:normal;font-family:Menlo,'DejaVu Sans Mono',consolas,'Courier New',monospace\"><span style=\"font-weight: bold\">Model: \"functional_3\"</span>\n",
       "</pre>\n"
      ],
      "text/plain": [
       "\u001b[1mModel: \"functional_3\"\u001b[0m\n"
      ]
     },
     "metadata": {},
     "output_type": "display_data"
    },
    {
     "data": {
      "text/html": [
       "<pre style=\"white-space:pre;overflow-x:auto;line-height:normal;font-family:Menlo,'DejaVu Sans Mono',consolas,'Courier New',monospace\">┏━━━━━━━━━━━━━━━━━━━━━┳━━━━━━━━━━━━━━━━━━━┳━━━━━━━━━━━━┳━━━━━━━━━━━━━━━━━━━┓\n",
       "┃<span style=\"font-weight: bold\"> Layer (type)        </span>┃<span style=\"font-weight: bold\"> Output Shape      </span>┃<span style=\"font-weight: bold\">    Param # </span>┃<span style=\"font-weight: bold\"> Connected to      </span>┃\n",
       "┡━━━━━━━━━━━━━━━━━━━━━╇━━━━━━━━━━━━━━━━━━━╇━━━━━━━━━━━━╇━━━━━━━━━━━━━━━━━━━┩\n",
       "│ input_layer_3       │ (<span style=\"color: #00d7ff; text-decoration-color: #00d7ff\">None</span>, <span style=\"color: #00af00; text-decoration-color: #00af00\">217</span>)       │          <span style=\"color: #00af00; text-decoration-color: #00af00\">0</span> │ -                 │\n",
       "│ (<span style=\"color: #0087ff; text-decoration-color: #0087ff\">InputLayer</span>)        │                   │            │                   │\n",
       "├─────────────────────┼───────────────────┼────────────┼───────────────────┤\n",
       "│ normalization_3     │ (<span style=\"color: #00d7ff; text-decoration-color: #00d7ff\">None</span>, <span style=\"color: #00af00; text-decoration-color: #00af00\">217</span>)       │        <span style=\"color: #00af00; text-decoration-color: #00af00\">435</span> │ input_layer_3[<span style=\"color: #00af00; text-decoration-color: #00af00\">0</span>]… │\n",
       "│ (<span style=\"color: #0087ff; text-decoration-color: #0087ff\">Normalization</span>)     │                   │            │                   │\n",
       "├─────────────────────┼───────────────────┼────────────┼───────────────────┤\n",
       "│ skip_dense_block_10 │ (<span style=\"color: #00d7ff; text-decoration-color: #00d7ff\">None</span>, <span style=\"color: #00af00; text-decoration-color: #00af00\">617</span>)       │    <span style=\"color: #00af00; text-decoration-color: #00af00\">568,400</span> │ normalization_3[<span style=\"color: #00af00; text-decoration-color: #00af00\">…</span> │\n",
       "│ (<span style=\"color: #0087ff; text-decoration-color: #0087ff\">SkipDenseBlock</span>)    │                   │            │                   │\n",
       "├─────────────────────┼───────────────────┼────────────┼───────────────────┤\n",
       "│ skip_dense_block_12 │ (<span style=\"color: #00d7ff; text-decoration-color: #00d7ff\">None</span>, <span style=\"color: #00af00; text-decoration-color: #00af00\">617</span>)       │    <span style=\"color: #00af00; text-decoration-color: #00af00\">568,400</span> │ normalization_3[<span style=\"color: #00af00; text-decoration-color: #00af00\">…</span> │\n",
       "│ (<span style=\"color: #0087ff; text-decoration-color: #0087ff\">SkipDenseBlock</span>)    │                   │            │                   │\n",
       "├─────────────────────┼───────────────────┼────────────┼───────────────────┤\n",
       "│ skip_dense_block_11 │ (<span style=\"color: #00d7ff; text-decoration-color: #00d7ff\">None</span>, <span style=\"color: #00af00; text-decoration-color: #00af00\">1017</span>)      │    <span style=\"color: #00af00; text-decoration-color: #00af00\">728,400</span> │ skip_dense_block… │\n",
       "│ (<span style=\"color: #0087ff; text-decoration-color: #0087ff\">SkipDenseBlock</span>)    │                   │            │                   │\n",
       "├─────────────────────┼───────────────────┼────────────┼───────────────────┤\n",
       "│ skip_dense_block_13 │ (<span style=\"color: #00d7ff; text-decoration-color: #00d7ff\">None</span>, <span style=\"color: #00af00; text-decoration-color: #00af00\">1017</span>)      │    <span style=\"color: #00af00; text-decoration-color: #00af00\">728,400</span> │ skip_dense_block… │\n",
       "│ (<span style=\"color: #0087ff; text-decoration-color: #0087ff\">SkipDenseBlock</span>)    │                   │            │                   │\n",
       "├─────────────────────┼───────────────────┼────────────┼───────────────────┤\n",
       "│ concatenate_14      │ (<span style=\"color: #00d7ff; text-decoration-color: #00d7ff\">None</span>, <span style=\"color: #00af00; text-decoration-color: #00af00\">2034</span>)      │          <span style=\"color: #00af00; text-decoration-color: #00af00\">0</span> │ skip_dense_block… │\n",
       "│ (<span style=\"color: #0087ff; text-decoration-color: #0087ff\">Concatenate</span>)       │                   │            │ skip_dense_block… │\n",
       "├─────────────────────┼───────────────────┼────────────┼───────────────────┤\n",
       "│ dense_59 (<span style=\"color: #0087ff; text-decoration-color: #0087ff\">Dense</span>)    │ (<span style=\"color: #00d7ff; text-decoration-color: #00d7ff\">None</span>, <span style=\"color: #00af00; text-decoration-color: #00af00\">1</span>)         │      <span style=\"color: #00af00; text-decoration-color: #00af00\">2,035</span> │ concatenate_14[<span style=\"color: #00af00; text-decoration-color: #00af00\">0</span>… │\n",
       "└─────────────────────┴───────────────────┴────────────┴───────────────────┘\n",
       "</pre>\n"
      ],
      "text/plain": [
       "┏━━━━━━━━━━━━━━━━━━━━━┳━━━━━━━━━━━━━━━━━━━┳━━━━━━━━━━━━┳━━━━━━━━━━━━━━━━━━━┓\n",
       "┃\u001b[1m \u001b[0m\u001b[1mLayer (type)       \u001b[0m\u001b[1m \u001b[0m┃\u001b[1m \u001b[0m\u001b[1mOutput Shape     \u001b[0m\u001b[1m \u001b[0m┃\u001b[1m \u001b[0m\u001b[1m   Param #\u001b[0m\u001b[1m \u001b[0m┃\u001b[1m \u001b[0m\u001b[1mConnected to     \u001b[0m\u001b[1m \u001b[0m┃\n",
       "┡━━━━━━━━━━━━━━━━━━━━━╇━━━━━━━━━━━━━━━━━━━╇━━━━━━━━━━━━╇━━━━━━━━━━━━━━━━━━━┩\n",
       "│ input_layer_3       │ (\u001b[38;5;45mNone\u001b[0m, \u001b[38;5;34m217\u001b[0m)       │          \u001b[38;5;34m0\u001b[0m │ -                 │\n",
       "│ (\u001b[38;5;33mInputLayer\u001b[0m)        │                   │            │                   │\n",
       "├─────────────────────┼───────────────────┼────────────┼───────────────────┤\n",
       "│ normalization_3     │ (\u001b[38;5;45mNone\u001b[0m, \u001b[38;5;34m217\u001b[0m)       │        \u001b[38;5;34m435\u001b[0m │ input_layer_3[\u001b[38;5;34m0\u001b[0m]… │\n",
       "│ (\u001b[38;5;33mNormalization\u001b[0m)     │                   │            │                   │\n",
       "├─────────────────────┼───────────────────┼────────────┼───────────────────┤\n",
       "│ skip_dense_block_10 │ (\u001b[38;5;45mNone\u001b[0m, \u001b[38;5;34m617\u001b[0m)       │    \u001b[38;5;34m568,400\u001b[0m │ normalization_3[\u001b[38;5;34m…\u001b[0m │\n",
       "│ (\u001b[38;5;33mSkipDenseBlock\u001b[0m)    │                   │            │                   │\n",
       "├─────────────────────┼───────────────────┼────────────┼───────────────────┤\n",
       "│ skip_dense_block_12 │ (\u001b[38;5;45mNone\u001b[0m, \u001b[38;5;34m617\u001b[0m)       │    \u001b[38;5;34m568,400\u001b[0m │ normalization_3[\u001b[38;5;34m…\u001b[0m │\n",
       "│ (\u001b[38;5;33mSkipDenseBlock\u001b[0m)    │                   │            │                   │\n",
       "├─────────────────────┼───────────────────┼────────────┼───────────────────┤\n",
       "│ skip_dense_block_11 │ (\u001b[38;5;45mNone\u001b[0m, \u001b[38;5;34m1017\u001b[0m)      │    \u001b[38;5;34m728,400\u001b[0m │ skip_dense_block… │\n",
       "│ (\u001b[38;5;33mSkipDenseBlock\u001b[0m)    │                   │            │                   │\n",
       "├─────────────────────┼───────────────────┼────────────┼───────────────────┤\n",
       "│ skip_dense_block_13 │ (\u001b[38;5;45mNone\u001b[0m, \u001b[38;5;34m1017\u001b[0m)      │    \u001b[38;5;34m728,400\u001b[0m │ skip_dense_block… │\n",
       "│ (\u001b[38;5;33mSkipDenseBlock\u001b[0m)    │                   │            │                   │\n",
       "├─────────────────────┼───────────────────┼────────────┼───────────────────┤\n",
       "│ concatenate_14      │ (\u001b[38;5;45mNone\u001b[0m, \u001b[38;5;34m2034\u001b[0m)      │          \u001b[38;5;34m0\u001b[0m │ skip_dense_block… │\n",
       "│ (\u001b[38;5;33mConcatenate\u001b[0m)       │                   │            │ skip_dense_block… │\n",
       "├─────────────────────┼───────────────────┼────────────┼───────────────────┤\n",
       "│ dense_59 (\u001b[38;5;33mDense\u001b[0m)    │ (\u001b[38;5;45mNone\u001b[0m, \u001b[38;5;34m1\u001b[0m)         │      \u001b[38;5;34m2,035\u001b[0m │ concatenate_14[\u001b[38;5;34m0\u001b[0m… │\n",
       "└─────────────────────┴───────────────────┴────────────┴───────────────────┘\n"
      ]
     },
     "metadata": {},
     "output_type": "display_data"
    },
    {
     "data": {
      "text/html": [
       "<pre style=\"white-space:pre;overflow-x:auto;line-height:normal;font-family:Menlo,'DejaVu Sans Mono',consolas,'Courier New',monospace\"><span style=\"font-weight: bold\"> Total params: </span><span style=\"color: #00af00; text-decoration-color: #00af00\">2,596,070</span> (9.90 MB)\n",
       "</pre>\n"
      ],
      "text/plain": [
       "\u001b[1m Total params: \u001b[0m\u001b[38;5;34m2,596,070\u001b[0m (9.90 MB)\n"
      ]
     },
     "metadata": {},
     "output_type": "display_data"
    },
    {
     "data": {
      "text/html": [
       "<pre style=\"white-space:pre;overflow-x:auto;line-height:normal;font-family:Menlo,'DejaVu Sans Mono',consolas,'Courier New',monospace\"><span style=\"font-weight: bold\"> Trainable params: </span><span style=\"color: #00af00; text-decoration-color: #00af00\">2,595,635</span> (9.90 MB)\n",
       "</pre>\n"
      ],
      "text/plain": [
       "\u001b[1m Trainable params: \u001b[0m\u001b[38;5;34m2,595,635\u001b[0m (9.90 MB)\n"
      ]
     },
     "metadata": {},
     "output_type": "display_data"
    },
    {
     "data": {
      "text/html": [
       "<pre style=\"white-space:pre;overflow-x:auto;line-height:normal;font-family:Menlo,'DejaVu Sans Mono',consolas,'Courier New',monospace\"><span style=\"font-weight: bold\"> Non-trainable params: </span><span style=\"color: #00af00; text-decoration-color: #00af00\">435</span> (1.70 KB)\n",
       "</pre>\n"
      ],
      "text/plain": [
       "\u001b[1m Non-trainable params: \u001b[0m\u001b[38;5;34m435\u001b[0m (1.70 KB)\n"
      ]
     },
     "metadata": {},
     "output_type": "display_data"
    }
   ],
   "source": [
    "model_class, new_model = ccsd.load_model(\"wide_test\", X_train)"
   ]
  },
  {
   "cell_type": "code",
   "execution_count": 36,
   "metadata": {
    "colab": {
     "base_uri": "https://localhost:8080/",
     "height": 501
    },
    "id": "5zgYehN_G1D-",
    "outputId": "61265754-88bc-4a07-972c-1524babbd04a"
   },
   "outputs": [
    {
     "name": "stdout",
     "output_type": "stream",
     "text": [
      "\u001b[1m26/26\u001b[0m \u001b[32m━━━━━━━━━━━━━━━━━━━━\u001b[0m\u001b[37m\u001b[0m \u001b[1m1s\u001b[0m 21ms/step\n",
      "\u001b[1m3/3\u001b[0m \u001b[32m━━━━━━━━━━━━━━━━━━━━\u001b[0m\u001b[37m\u001b[0m \u001b[1m0s\u001b[0m 175ms/step\n",
      "Training set score is [0.69594896], validation set score is [0.67980372]\n"
     ]
    },
    {
     "data": {
      "image/png": "[encoded data removed]",
      "text/plain": [
       "<Figure size 640x480 with 1 Axes>"
      ]
     },
     "metadata": {},
     "output_type": "display_data"
    }
   ],
   "source": [
    "model_class.eval_model(new_model, X_train, y_train, X_valid, y_valid)"
   ]
  },
  {
   "cell_type": "markdown",
   "metadata": {
    "id": "nrnLZg_pH1jc"
   },
   "source": [
    "## Classification"
   ]
  },
  {
   "cell_type": "markdown",
   "metadata": {
    "id": "jwL9rXeyH3Vi"
   },
   "source": [
    "### Load data\n",
    "- Send a CSV with quantitative data to the make_classes tool to create a specified number of classes.\n",
    "- Featurize with the classifier_flag=True.\n",
    "- Apply scaling (not really needed for these Neural Networks), apply PCA and split the dataset."
   ]
  },
  {
   "cell_type": "code",
   "execution_count": null,
   "metadata": {
    "colab": {
     "base_uri": "https://localhost:8080/"
    },
    "id": "v2RGBWsGHgDn",
    "outputId": "f2dc6a56-d4f7-4a99-a184-991b596cb70b"
   },
   "outputs": [
    {
     "name": "stdout",
     "output_type": "stream",
     "text": [
      "Samples per class: 301, total samples:905\n"
     ]
    }
   ],
   "source": [
    "df, class_names = ccsd.make_classes(\"/content/905-unique-statins.csv\", \"IC50 (nM)\", 3)"
   ]
  },
  {
   "cell_type": "code",
   "execution_count": null,
   "metadata": {
    "colab": {
     "base_uri": "https://localhost:8080/"
    },
    "id": "Xx9Db_VvICFE",
    "outputId": "49f026b1-b9ba-4598-db0c-c957610bbf1c"
   },
   "outputs": [
    {
     "data": {
      "text/plain": [
       "['0.106 < 15.0', '15.0 < 1000.0', '1000.0 < 2488000.0']"
      ]
     },
     "execution_count": 18,
     "metadata": {},
     "output_type": "execute_result"
    }
   ],
   "source": [
    "class_names"
   ]
  },
  {
   "cell_type": "code",
   "execution_count": null,
   "metadata": {
    "id": "0_j8e4Y3IOdI"
   },
   "outputs": [],
   "source": [
    "smiles = df[\"Ligand SMILES\"].to_list()\n",
    "targets = df[\"target\"].to_list()"
   ]
  },
  {
   "cell_type": "code",
   "execution_count": null,
   "metadata": {
    "colab": {
     "base_uri": "https://localhost:8080/"
    },
    "id": "d3bq2WC3Iy67",
    "outputId": "ed13be79-ef2c-48e1-cdb9-07dd95b54c81"
   },
   "outputs": [
    {
     "name": "stdout",
     "output_type": "stream",
     "text": [
      "Old dimensions are: (905, 217).\n",
      "New dimensions are: (905, 217)\n"
     ]
    }
   ],
   "source": [
    "f, y, Xa = ccsd.featurize(smiles, targets, featurizer = \"rdkit\", classifier_flag=True)"
   ]
  },
  {
   "cell_type": "code",
   "execution_count": null,
   "metadata": {
    "colab": {
     "base_uri": "https://localhost:8080/"
    },
    "id": "1G-lVGHeyZA5",
    "outputId": "2e62f08f-853f-413c-a902-504ba6ec9733"
   },
   "outputs": [
    {
     "data": {
      "text/plain": [
       "(905, 3)"
      ]
     },
     "execution_count": 21,
     "metadata": {},
     "output_type": "execute_result"
    }
   ],
   "source": [
    "y.shape"
   ]
  },
  {
   "cell_type": "code",
   "execution_count": null,
   "metadata": {
    "colab": {
     "base_uri": "https://localhost:8080/"
    },
    "id": "_ix4UHwmI4n7",
    "outputId": "8c9d9c60-7816-471a-8bb0-6c0ab51a76c6"
   },
   "outputs": [
    {
     "name": "stdout",
     "output_type": "stream",
     "text": [
      "Pre-processing done.\n"
     ]
    }
   ],
   "source": [
    "X_train, X_valid, y_train, y_valid, smiles_train, smiles_valid, pca, scaler = ccsd.scale_pca_split(f,y,Xa, False, False)"
   ]
  },
  {
   "cell_type": "markdown",
   "metadata": {
    "id": "2ulRZBJrJFbt"
   },
   "source": [
    "## Set model and train\n",
    "- Define a skipdense class with classifier_flag= Triue and the number fo classes\n",
    "- build_model and train_model.\n",
    "- See the examples to use argmax to convert the targets and predictions to the correct format for evaluation.\n",
    "- Use a confusion matrix to visualize the results.\n",
    "- See example to use prediction for classifiers."
   ]
  },
  {
   "cell_type": "code",
   "execution_count": 37,
   "metadata": {
    "colab": {
     "base_uri": "https://localhost:8080/"
    },
    "id": "4ivbdo6bI-li",
    "outputId": "d86f327b-2bac-4676-c919-c8bd309f28bc"
   },
   "outputs": [
    {
     "name": "stdout",
     "output_type": "stream",
     "text": [
      "skipdense model initialized!\n"
     ]
    }
   ],
   "source": [
    "skip = ccsd.skipdense_model(ntlu = 400, epochs = 50, skip = [True, False], classifier_flag = True, num_classes = 3)"
   ]
  },
  {
   "cell_type": "code",
   "execution_count": 38,
   "metadata": {
    "colab": {
     "base_uri": "https://localhost:8080/",
     "height": 321
    },
    "id": "hhPMREUSJJAt",
    "outputId": "8d7d9cf6-9fc7-41f3-d24a-e3e476897681"
   },
   "outputs": [
    {
     "data": {
      "text/html": [
       "<pre style=\"white-space:pre;overflow-x:auto;line-height:normal;font-family:Menlo,'DejaVu Sans Mono',consolas,'Courier New',monospace\"><span style=\"font-weight: bold\">Model: \"functional_4\"</span>\n",
       "</pre>\n"
      ],
      "text/plain": [
       "\u001b[1mModel: \"functional_4\"\u001b[0m\n"
      ]
     },
     "metadata": {},
     "output_type": "display_data"
    },
    {
     "data": {
      "text/html": [
       "<pre style=\"white-space:pre;overflow-x:auto;line-height:normal;font-family:Menlo,'DejaVu Sans Mono',consolas,'Courier New',monospace\">┏━━━━━━━━━━━━━━━━━━━━━━━━━━━━━━━━━┳━━━━━━━━━━━━━━━━━━━━━━━━┳━━━━━━━━━━━━━━━┓\n",
       "┃<span style=\"font-weight: bold\"> Layer (type)                    </span>┃<span style=\"font-weight: bold\"> Output Shape           </span>┃<span style=\"font-weight: bold\">       Param # </span>┃\n",
       "┡━━━━━━━━━━━━━━━━━━━━━━━━━━━━━━━━━╇━━━━━━━━━━━━━━━━━━━━━━━━╇━━━━━━━━━━━━━━━┩\n",
       "│ input_layer_4 (<span style=\"color: #0087ff; text-decoration-color: #0087ff\">InputLayer</span>)      │ (<span style=\"color: #00d7ff; text-decoration-color: #00d7ff\">None</span>, <span style=\"color: #00af00; text-decoration-color: #00af00\">217</span>)            │             <span style=\"color: #00af00; text-decoration-color: #00af00\">0</span> │\n",
       "├─────────────────────────────────┼────────────────────────┼───────────────┤\n",
       "│ normalization_4 (<span style=\"color: #0087ff; text-decoration-color: #0087ff\">Normalization</span>) │ (<span style=\"color: #00d7ff; text-decoration-color: #00d7ff\">None</span>, <span style=\"color: #00af00; text-decoration-color: #00af00\">217</span>)            │           <span style=\"color: #00af00; text-decoration-color: #00af00\">435</span> │\n",
       "├─────────────────────────────────┼────────────────────────┼───────────────┤\n",
       "│ skip_dense_block_14             │ (<span style=\"color: #00d7ff; text-decoration-color: #00d7ff\">None</span>, <span style=\"color: #00af00; text-decoration-color: #00af00\">617</span>)            │       <span style=\"color: #00af00; text-decoration-color: #00af00\">568,400</span> │\n",
       "│ (<span style=\"color: #0087ff; text-decoration-color: #0087ff\">SkipDenseBlock</span>)                │                        │               │\n",
       "├─────────────────────────────────┼────────────────────────┼───────────────┤\n",
       "│ skip_dense_block_15             │ (<span style=\"color: #00d7ff; text-decoration-color: #00d7ff\">None</span>, <span style=\"color: #00af00; text-decoration-color: #00af00\">1017</span>)           │       <span style=\"color: #00af00; text-decoration-color: #00af00\">728,400</span> │\n",
       "│ (<span style=\"color: #0087ff; text-decoration-color: #0087ff\">SkipDenseBlock</span>)                │                        │               │\n",
       "├─────────────────────────────────┼────────────────────────┼───────────────┤\n",
       "│ dense_68 (<span style=\"color: #0087ff; text-decoration-color: #0087ff\">Dense</span>)                │ (<span style=\"color: #00d7ff; text-decoration-color: #00d7ff\">None</span>, <span style=\"color: #00af00; text-decoration-color: #00af00\">3</span>)              │         <span style=\"color: #00af00; text-decoration-color: #00af00\">3,054</span> │\n",
       "└─────────────────────────────────┴────────────────────────┴───────────────┘\n",
       "</pre>\n"
      ],
      "text/plain": [
       "┏━━━━━━━━━━━━━━━━━━━━━━━━━━━━━━━━━┳━━━━━━━━━━━━━━━━━━━━━━━━┳━━━━━━━━━━━━━━━┓\n",
       "┃\u001b[1m \u001b[0m\u001b[1mLayer (type)                   \u001b[0m\u001b[1m \u001b[0m┃\u001b[1m \u001b[0m\u001b[1mOutput Shape          \u001b[0m\u001b[1m \u001b[0m┃\u001b[1m \u001b[0m\u001b[1m      Param #\u001b[0m\u001b[1m \u001b[0m┃\n",
       "┡━━━━━━━━━━━━━━━━━━━━━━━━━━━━━━━━━╇━━━━━━━━━━━━━━━━━━━━━━━━╇━━━━━━━━━━━━━━━┩\n",
       "│ input_layer_4 (\u001b[38;5;33mInputLayer\u001b[0m)      │ (\u001b[38;5;45mNone\u001b[0m, \u001b[38;5;34m217\u001b[0m)            │             \u001b[38;5;34m0\u001b[0m │\n",
       "├─────────────────────────────────┼────────────────────────┼───────────────┤\n",
       "│ normalization_4 (\u001b[38;5;33mNormalization\u001b[0m) │ (\u001b[38;5;45mNone\u001b[0m, \u001b[38;5;34m217\u001b[0m)            │           \u001b[38;5;34m435\u001b[0m │\n",
       "├─────────────────────────────────┼────────────────────────┼───────────────┤\n",
       "│ skip_dense_block_14             │ (\u001b[38;5;45mNone\u001b[0m, \u001b[38;5;34m617\u001b[0m)            │       \u001b[38;5;34m568,400\u001b[0m │\n",
       "│ (\u001b[38;5;33mSkipDenseBlock\u001b[0m)                │                        │               │\n",
       "├─────────────────────────────────┼────────────────────────┼───────────────┤\n",
       "│ skip_dense_block_15             │ (\u001b[38;5;45mNone\u001b[0m, \u001b[38;5;34m1017\u001b[0m)           │       \u001b[38;5;34m728,400\u001b[0m │\n",
       "│ (\u001b[38;5;33mSkipDenseBlock\u001b[0m)                │                        │               │\n",
       "├─────────────────────────────────┼────────────────────────┼───────────────┤\n",
       "│ dense_68 (\u001b[38;5;33mDense\u001b[0m)                │ (\u001b[38;5;45mNone\u001b[0m, \u001b[38;5;34m3\u001b[0m)              │         \u001b[38;5;34m3,054\u001b[0m │\n",
       "└─────────────────────────────────┴────────────────────────┴───────────────┘\n"
      ]
     },
     "metadata": {},
     "output_type": "display_data"
    },
    {
     "data": {
      "text/html": [
       "<pre style=\"white-space:pre;overflow-x:auto;line-height:normal;font-family:Menlo,'DejaVu Sans Mono',consolas,'Courier New',monospace\"><span style=\"font-weight: bold\"> Total params: </span><span style=\"color: #00af00; text-decoration-color: #00af00\">1,300,289</span> (4.96 MB)\n",
       "</pre>\n"
      ],
      "text/plain": [
       "\u001b[1m Total params: \u001b[0m\u001b[38;5;34m1,300,289\u001b[0m (4.96 MB)\n"
      ]
     },
     "metadata": {},
     "output_type": "display_data"
    },
    {
     "data": {
      "text/html": [
       "<pre style=\"white-space:pre;overflow-x:auto;line-height:normal;font-family:Menlo,'DejaVu Sans Mono',consolas,'Courier New',monospace\"><span style=\"font-weight: bold\"> Trainable params: </span><span style=\"color: #00af00; text-decoration-color: #00af00\">1,299,854</span> (4.96 MB)\n",
       "</pre>\n"
      ],
      "text/plain": [
       "\u001b[1m Trainable params: \u001b[0m\u001b[38;5;34m1,299,854\u001b[0m (4.96 MB)\n"
      ]
     },
     "metadata": {},
     "output_type": "display_data"
    },
    {
     "data": {
      "text/html": [
       "<pre style=\"white-space:pre;overflow-x:auto;line-height:normal;font-family:Menlo,'DejaVu Sans Mono',consolas,'Courier New',monospace\"><span style=\"font-weight: bold\"> Non-trainable params: </span><span style=\"color: #00af00; text-decoration-color: #00af00\">435</span> (1.70 KB)\n",
       "</pre>\n"
      ],
      "text/plain": [
       "\u001b[1m Non-trainable params: \u001b[0m\u001b[38;5;34m435\u001b[0m (1.70 KB)\n"
      ]
     },
     "metadata": {},
     "output_type": "display_data"
    }
   ],
   "source": [
    "model = skip.build_model(X_train)"
   ]
  },
  {
   "cell_type": "code",
   "execution_count": null,
   "metadata": {
    "colab": {
     "base_uri": "https://localhost:8080/",
     "height": 1000
    },
    "id": "J1KECWErJUFA",
    "outputId": "a9bd7672-377b-4eb2-a142-97c33f420c6b"
   },
   "outputs": [
    {
     "name": "stdout",
     "output_type": "stream",
     "text": [
      "Epoch 1/50\n"
     ]
    },
    {
     "name": "stderr",
     "output_type": "stream",
     "text": [
      "/usr/local/lib/python3.11/dist-packages/keras/src/models/functional.py:237: UserWarning: The structure of `inputs` doesn't match the expected structure.\n",
      "Expected: ['keras_tensor_14']\n",
      "Received: inputs=Tensor(shape=(None, 217))\n",
      "  warnings.warn(msg)\n",
      "/usr/local/lib/python3.11/dist-packages/keras/src/models/functional.py:237: UserWarning: The structure of `inputs` doesn't match the expected structure.\n",
      "Expected: ['keras_tensor_14']\n",
      "Received: inputs=Tensor(shape=(None, 217))\n",
      "  warnings.warn(msg)\n"
     ]
    },
    {
     "name": "stdout",
     "output_type": "stream",
     "text": [
      "13/13 - 9s - 694ms/step - accuracy: 0.3170 - loss: 63.2405 - val_accuracy: 0.3407 - val_loss: 14.1518 - learning_rate: 0.0020\n",
      "Epoch 2/50\n",
      "13/13 - 4s - 302ms/step - accuracy: 0.3550 - loss: 8.6922 - val_accuracy: 0.3846 - val_loss: 5.4502 - learning_rate: 0.0019\n",
      "Epoch 3/50\n",
      "13/13 - 0s - 22ms/step - accuracy: 0.4373 - loss: 4.1910 - val_accuracy: 0.5055 - val_loss: 3.2439 - learning_rate: 0.0018\n",
      "Epoch 4/50\n",
      "13/13 - 0s - 24ms/step - accuracy: 0.4754 - loss: 3.5079 - val_accuracy: 0.5055 - val_loss: 3.0975 - learning_rate: 0.0017\n",
      "Epoch 5/50\n",
      "13/13 - 0s - 21ms/step - accuracy: 0.4914 - loss: 3.0601 - val_accuracy: 0.5495 - val_loss: 3.0977 - learning_rate: 0.0017\n",
      "Epoch 6/50\n",
      "13/13 - 0s - 15ms/step - accuracy: 0.5258 - loss: 2.9876 - val_accuracy: 0.5385 - val_loss: 2.9429 - learning_rate: 0.0016\n",
      "Epoch 7/50\n",
      "13/13 - 0s - 24ms/step - accuracy: 0.5418 - loss: 2.7555 - val_accuracy: 0.5275 - val_loss: 2.8315 - learning_rate: 0.0015\n",
      "Epoch 8/50\n",
      "13/13 - 0s - 23ms/step - accuracy: 0.5725 - loss: 2.6226 - val_accuracy: 0.6154 - val_loss: 2.7275 - learning_rate: 0.0014\n",
      "Epoch 9/50\n",
      "13/13 - 0s - 21ms/step - accuracy: 0.5749 - loss: 2.6112 - val_accuracy: 0.5495 - val_loss: 2.5444 - learning_rate: 0.0014\n",
      "Epoch 10/50\n",
      "13/13 - 0s - 23ms/step - accuracy: 0.5762 - loss: 2.4774 - val_accuracy: 0.6154 - val_loss: 2.5587 - learning_rate: 0.0013\n",
      "Epoch 11/50\n",
      "13/13 - 0s - 25ms/step - accuracy: 0.5946 - loss: 2.4529 - val_accuracy: 0.5495 - val_loss: 2.6352 - learning_rate: 0.0013\n",
      "Epoch 12/50\n",
      "13/13 - 0s - 15ms/step - accuracy: 0.5983 - loss: 2.4382 - val_accuracy: 0.6154 - val_loss: 2.5581 - learning_rate: 0.0012\n",
      "Epoch 13/50\n",
      "13/13 - 0s - 23ms/step - accuracy: 0.6093 - loss: 2.3336 - val_accuracy: 0.6374 - val_loss: 2.4371 - learning_rate: 0.0012\n",
      "Epoch 14/50\n",
      "13/13 - 0s - 22ms/step - accuracy: 0.6253 - loss: 2.2978 - val_accuracy: 0.6044 - val_loss: 2.3739 - learning_rate: 0.0011\n",
      "Epoch 15/50\n",
      "13/13 - 0s - 26ms/step - accuracy: 0.6585 - loss: 2.1690 - val_accuracy: 0.6374 - val_loss: 2.2413 - learning_rate: 0.0010\n",
      "Epoch 16/50\n",
      "13/13 - 0s - 19ms/step - accuracy: 0.6794 - loss: 2.1354 - val_accuracy: 0.6264 - val_loss: 2.2107 - learning_rate: 0.0010\n",
      "Epoch 17/50\n",
      "13/13 - 0s - 15ms/step - accuracy: 0.6880 - loss: 2.0820 - val_accuracy: 0.6374 - val_loss: 2.1966 - learning_rate: 9.5726e-04\n",
      "Epoch 18/50\n",
      "13/13 - 0s - 15ms/step - accuracy: 0.6880 - loss: 2.0981 - val_accuracy: 0.6813 - val_loss: 2.2134 - learning_rate: 9.1418e-04\n",
      "Epoch 19/50\n",
      "13/13 - 0s - 27ms/step - accuracy: 0.6855 - loss: 2.0907 - val_accuracy: 0.6923 - val_loss: 2.2229 - learning_rate: 8.7303e-04\n",
      "Epoch 20/50\n",
      "13/13 - 0s - 23ms/step - accuracy: 0.6953 - loss: 2.0719 - val_accuracy: 0.6813 - val_loss: 2.1617 - learning_rate: 8.3374e-04\n",
      "Epoch 21/50\n",
      "13/13 - 0s - 24ms/step - accuracy: 0.6892 - loss: 2.0585 - val_accuracy: 0.6703 - val_loss: 2.1042 - learning_rate: 7.9621e-04\n",
      "Epoch 22/50\n",
      "13/13 - 0s - 24ms/step - accuracy: 0.6867 - loss: 2.0606 - val_accuracy: 0.6593 - val_loss: 2.1663 - learning_rate: 7.6038e-04\n",
      "Epoch 23/50\n",
      "13/13 - 1s - 47ms/step - accuracy: 0.6744 - loss: 2.0898 - val_accuracy: 0.5714 - val_loss: 2.3990 - learning_rate: 7.2616e-04\n",
      "Epoch 24/50\n",
      "13/13 - 1s - 42ms/step - accuracy: 0.6622 - loss: 2.0851 - val_accuracy: 0.6374 - val_loss: 2.2638 - learning_rate: 6.9347e-04\n",
      "Epoch 25/50\n",
      "13/13 - 0s - 15ms/step - accuracy: 0.6904 - loss: 1.9987 - val_accuracy: 0.6484 - val_loss: 2.0786 - learning_rate: 6.6226e-04\n",
      "Epoch 26/50\n",
      "13/13 - 0s - 14ms/step - accuracy: 0.7248 - loss: 1.9174 - val_accuracy: 0.6813 - val_loss: 2.0362 - learning_rate: 6.3246e-04\n",
      "Epoch 27/50\n",
      "13/13 - 0s - 24ms/step - accuracy: 0.7396 - loss: 1.8678 - val_accuracy: 0.6813 - val_loss: 2.0320 - learning_rate: 6.0399e-04\n",
      "Epoch 28/50\n",
      "13/13 - 0s - 15ms/step - accuracy: 0.7408 - loss: 1.8517 - val_accuracy: 0.6703 - val_loss: 2.0308 - learning_rate: 5.7681e-04\n",
      "Epoch 29/50\n",
      "13/13 - 0s - 15ms/step - accuracy: 0.7359 - loss: 1.8450 - val_accuracy: 0.6703 - val_loss: 2.0166 - learning_rate: 5.5085e-04\n",
      "Epoch 30/50\n",
      "13/13 - 0s - 15ms/step - accuracy: 0.7408 - loss: 1.8319 - val_accuracy: 0.6813 - val_loss: 1.9965 - learning_rate: 5.2605e-04\n",
      "Epoch 31/50\n",
      "13/13 - 0s - 25ms/step - accuracy: 0.7506 - loss: 1.8161 - val_accuracy: 0.6813 - val_loss: 1.9849 - learning_rate: 5.0238e-04\n",
      "Epoch 32/50\n",
      "13/13 - 0s - 23ms/step - accuracy: 0.7555 - loss: 1.8030 - val_accuracy: 0.6923 - val_loss: 1.9794 - learning_rate: 4.7977e-04\n",
      "Epoch 33/50\n",
      "13/13 - 0s - 20ms/step - accuracy: 0.7604 - loss: 1.7941 - val_accuracy: 0.6923 - val_loss: 1.9660 - learning_rate: 4.5817e-04\n",
      "Epoch 34/50\n",
      "13/13 - 0s - 14ms/step - accuracy: 0.7654 - loss: 1.7832 - val_accuracy: 0.6923 - val_loss: 1.9604 - learning_rate: 4.3755e-04\n",
      "Epoch 35/50\n",
      "13/13 - 0s - 24ms/step - accuracy: 0.7678 - loss: 1.7738 - val_accuracy: 0.6923 - val_loss: 1.9508 - learning_rate: 4.1786e-04\n",
      "Epoch 36/50\n",
      "13/13 - 0s - 16ms/step - accuracy: 0.7690 - loss: 1.7649 - val_accuracy: 0.7033 - val_loss: 1.9453 - learning_rate: 3.9905e-04\n",
      "Epoch 37/50\n",
      "13/13 - 0s - 22ms/step - accuracy: 0.7727 - loss: 1.7566 - val_accuracy: 0.6923 - val_loss: 1.9405 - learning_rate: 3.8109e-04\n",
      "Epoch 38/50\n",
      "13/13 - 0s - 15ms/step - accuracy: 0.7776 - loss: 1.7491 - val_accuracy: 0.6923 - val_loss: 1.9328 - learning_rate: 3.6394e-04\n",
      "Epoch 39/50\n",
      "13/13 - 0s - 23ms/step - accuracy: 0.7801 - loss: 1.7419 - val_accuracy: 0.6923 - val_loss: 1.9311 - learning_rate: 3.4756e-04\n",
      "Epoch 40/50\n",
      "13/13 - 0s - 15ms/step - accuracy: 0.7838 - loss: 1.7355 - val_accuracy: 0.6923 - val_loss: 1.9230 - learning_rate: 3.3192e-04\n",
      "Epoch 41/50\n",
      "13/13 - 0s - 23ms/step - accuracy: 0.7850 - loss: 1.7293 - val_accuracy: 0.6923 - val_loss: 1.9218 - learning_rate: 3.1698e-04\n",
      "Epoch 42/50\n",
      "13/13 - 0s - 15ms/step - accuracy: 0.7838 - loss: 1.7225 - val_accuracy: 0.6923 - val_loss: 1.9179 - learning_rate: 3.0271e-04\n",
      "Epoch 43/50\n",
      "13/13 - 0s - 24ms/step - accuracy: 0.7826 - loss: 1.7170 - val_accuracy: 0.6923 - val_loss: 1.9128 - learning_rate: 2.8909e-04\n",
      "Epoch 44/50\n",
      "13/13 - 0s - 19ms/step - accuracy: 0.7875 - loss: 1.7119 - val_accuracy: 0.6923 - val_loss: 1.9104 - learning_rate: 2.7608e-04\n",
      "Epoch 45/50\n",
      "13/13 - 0s - 20ms/step - accuracy: 0.7899 - loss: 1.7066 - val_accuracy: 0.6923 - val_loss: 1.9071 - learning_rate: 2.6365e-04\n",
      "Epoch 46/50\n",
      "13/13 - 0s - 23ms/step - accuracy: 0.7924 - loss: 1.7012 - val_accuracy: 0.6923 - val_loss: 1.9056 - learning_rate: 2.5179e-04\n",
      "Epoch 47/50\n",
      "13/13 - 0s - 28ms/step - accuracy: 0.7924 - loss: 1.6972 - val_accuracy: 0.6923 - val_loss: 1.9015 - learning_rate: 2.4045e-04\n",
      "Epoch 48/50\n",
      "13/13 - 0s - 17ms/step - accuracy: 0.7948 - loss: 1.6926 - val_accuracy: 0.6923 - val_loss: 1.8994 - learning_rate: 2.2963e-04\n",
      "Epoch 49/50\n",
      "13/13 - 0s - 23ms/step - accuracy: 0.7875 - loss: 1.6884 - val_accuracy: 0.6813 - val_loss: 1.8977 - learning_rate: 2.1930e-04\n",
      "Epoch 50/50\n",
      "13/13 - 0s - 22ms/step - accuracy: 0.7912 - loss: 1.6847 - val_accuracy: 0.6923 - val_loss: 1.8938 - learning_rate: 2.0943e-04\n"
     ]
    },
    {
     "data": {
      "image/png": "[encoded data removed]",
      "text/plain": [
       "<Figure size 600x400 with 1 Axes>"
      ]
     },
     "metadata": {},
     "output_type": "display_data"
    }
   ],
   "source": [
    "model, df = skip.train_model(model, X_train, y_train, X_valid, y_valid)"
   ]
  },
  {
   "cell_type": "code",
   "execution_count": null,
   "metadata": {
    "colab": {
     "base_uri": "https://localhost:8080/"
    },
    "id": "bB_wN0y3QouE",
    "outputId": "a79ba146-350c-4e44-aacf-8086293dd30e"
   },
   "outputs": [
    {
     "name": "stderr",
     "output_type": "stream",
     "text": [
      "/usr/local/lib/python3.11/dist-packages/keras/src/models/functional.py:237: UserWarning: The structure of `inputs` doesn't match the expected structure.\n",
      "Expected: ['keras_tensor_14']\n",
      "Received: inputs=Tensor(shape=(32, 217))\n",
      "  warnings.warn(msg)\n"
     ]
    },
    {
     "name": "stdout",
     "output_type": "stream",
     "text": [
      "\r",
      "\u001b[1m1/3\u001b[0m \u001b[32m━━━━━━\u001b[0m\u001b[37m━━━━━━━━━━━━━━\u001b[0m \u001b[1m0s\u001b[0m 326ms/step"
     ]
    },
    {
     "name": "stderr",
     "output_type": "stream",
     "text": [
      "/usr/local/lib/python3.11/dist-packages/keras/src/models/functional.py:237: UserWarning: The structure of `inputs` doesn't match the expected structure.\n",
      "Expected: ['keras_tensor_14']\n",
      "Received: inputs=Tensor(shape=(None, 217))\n",
      "  warnings.warn(msg)\n"
     ]
    },
    {
     "name": "stdout",
     "output_type": "stream",
     "text": [
      "\u001b[1m3/3\u001b[0m \u001b[32m━━━━━━━━━━━━━━━━━━━━\u001b[0m\u001b[37m\u001b[0m \u001b[1m1s\u001b[0m 162ms/step\n"
     ]
    }
   ],
   "source": [
    "preds = np.argmax(model.predict(X_valid),axis=1)"
   ]
  },
  {
   "cell_type": "code",
   "execution_count": null,
   "metadata": {
    "id": "0rOGh3p2RHV4"
   },
   "outputs": [],
   "source": [
    "truths = np.argmax(y_valid,axis=1)"
   ]
  },
  {
   "cell_type": "code",
   "execution_count": null,
   "metadata": {
    "id": "qNdQgg7cKB93"
   },
   "outputs": [],
   "source": [
    "eval = ccsd.evaluate(model, class_names, X_valid, y_valid)"
   ]
  },
  {
   "cell_type": "code",
   "execution_count": null,
   "metadata": {
    "colab": {
     "base_uri": "https://localhost:8080/",
     "height": 581
    },
    "id": "cbSl7ItYP069",
    "outputId": "c2ed6b90-41f0-4e03-cad7-4f42a34d9a3a"
   },
   "outputs": [
    {
     "name": "stdout",
     "output_type": "stream",
     "text": [
      "\u001b[1m3/3\u001b[0m \u001b[32m━━━━━━━━━━━━━━━━━━━━\u001b[0m\u001b[37m\u001b[0m \u001b[1m0s\u001b[0m 8ms/step \n"
     ]
    },
    {
     "data": {
      "image/png": "[encoded data removed]",
      "text/plain": [
       "<Figure size 600x600 with 1 Axes>"
      ]
     },
     "metadata": {},
     "output_type": "display_data"
    }
   ],
   "source": [
    "eval.confusion()"
   ]
  },
  {
   "cell_type": "code",
   "execution_count": null,
   "metadata": {
    "colab": {
     "base_uri": "https://localhost:8080/"
    },
    "id": "DOCf0J8oP8DP",
    "outputId": "6749180f-3e1d-4906-8015-0d929fd69ab0"
   },
   "outputs": [
    {
     "name": "stdout",
     "output_type": "stream",
     "text": [
      "\u001b[1m1/1\u001b[0m \u001b[32m━━━━━━━━━━━━━━━━━━━━\u001b[0m\u001b[37m\u001b[0m \u001b[1m0s\u001b[0m 28ms/step\n",
      "1000.0 < 2488000.0\n"
     ]
    }
   ],
   "source": [
    "test_smile = \"c1ccc(F)cc1\"\n",
    "\n",
    "pred_test = ccsd.predict_with_model([test_smile], model, featurizer=\"rdkit\")\n",
    "pred_result = np.argmax(pred_test,axis=1)\n",
    "print(class_names[pred_result[0]])"
   ]
  },
  {
   "cell_type": "code",
   "execution_count": null,
   "metadata": {
    "id": "PxpMIN6sVD0F"
   },
   "outputs": [],
   "source": []
  }
 ],
 "metadata": {
  "accelerator": "GPU",
  "colab": {
   "collapsed_sections": [
    "EhqTAPwj7LWZ",
    "kiQz5WNqNFXR",
    "lVAS4fYiNH6t",
    "m_UnvpjM7lEE",
    "jwL9rXeyH3Vi"
   ],
   "gpuType": "T4",
   "provenance": []
  },
  "kernelspec": {
   "display_name": "Python 3",
   "language": "python",
   "name": "python3"
  },
  "language_info": {
   "codemirror_mode": {
    "name": "ipython",
    "version": 3
   },
   "file_extension": ".py",
   "mimetype": "text/x-python",
   "name": "python",
   "nbconvert_exporter": "python",
   "pygments_lexer": "ipython3",
   "version": "3.8.8"
  }
 },
 "nbformat": 4,
 "nbformat_minor": 1
}
