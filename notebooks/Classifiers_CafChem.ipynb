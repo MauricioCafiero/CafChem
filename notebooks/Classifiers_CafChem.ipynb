{
  "nbformat": 4,
  "nbformat_minor": 0,
  "metadata": {
    "colab": {
      "provenance": []
    },
    "kernelspec": {
      "name": "python3",
      "display_name": "Python 3"
    },
    "language_info": {
      "name": "python"
    }
  },
  "cells": [
    {
      "cell_type": "markdown",
      "source": [
        "#CafChem tools for training classification models.\n",
        "\n",
        "[![Open In Colab](https://colab.research.google.com/assets/colab-badge.svg)](https://colab.research.google.com/github/MauricioCafiero/CafChem/blob/main/notebooks/Classifiers_CafChem.ipynb)\n",
        "\n",
        "## This notebook allows you to:\n",
        "- Load a CSV and create classes out of quantitative data\n",
        "- Train tree, ridge, support vecotr machines, logistic regression, and MLP-based classification models.\n",
        "- Analyze data.\n",
        "- Serve Predictions\n",
        "\n",
        "\n",
        "## Requirements:\n",
        "- This notebook will install RDKit\n",
        "- It will pull the CafChem tools from Github.\n",
        "- It will install all needed libraries.\n",
        "- Can run on a CPU."
      ],
      "metadata": {
        "id": "SZrdMjAznNSE"
      }
    },
    {
      "cell_type": "markdown",
      "source": [
        "## Set-up"
      ],
      "metadata": {
        "id": "ypvY55d_okG6"
      }
    },
    {
      "cell_type": "markdown",
      "source": [
        "### install RDKit"
      ],
      "metadata": {
        "id": "G2sXut6vnxmH"
      }
    },
    {
      "cell_type": "code",
      "source": [
        "! pip install deepchem"
      ],
      "metadata": {
        "colab": {
          "base_uri": "https://localhost:8080/"
        },
        "id": "L6smxSqC2H_M",
        "outputId": "1592280c-df23-452a-d617-5f4fc79be354"
      },
      "execution_count": 1,
      "outputs": [
        {
          "output_type": "stream",
          "name": "stdout",
          "text": [
            "Collecting deepchem\n",
            "  Downloading deepchem-2.8.0-py3-none-any.whl.metadata (2.0 kB)\n",
            "Requirement already satisfied: joblib in /usr/local/lib/python3.11/dist-packages (from deepchem) (1.5.1)\n",
            "Requirement already satisfied: numpy>=1.21 in /usr/local/lib/python3.11/dist-packages (from deepchem) (2.0.2)\n",
            "Requirement already satisfied: pandas in /usr/local/lib/python3.11/dist-packages (from deepchem) (2.2.2)\n",
            "Requirement already satisfied: scikit-learn in /usr/local/lib/python3.11/dist-packages (from deepchem) (1.6.1)\n",
            "Requirement already satisfied: sympy in /usr/local/lib/python3.11/dist-packages (from deepchem) (1.13.1)\n",
            "Requirement already satisfied: scipy>=1.10.1 in /usr/local/lib/python3.11/dist-packages (from deepchem) (1.15.3)\n",
            "Collecting rdkit (from deepchem)\n",
            "  Downloading rdkit-2025.3.3-cp311-cp311-manylinux_2_28_x86_64.whl.metadata (4.0 kB)\n",
            "Requirement already satisfied: python-dateutil>=2.8.2 in /usr/local/lib/python3.11/dist-packages (from pandas->deepchem) (2.9.0.post0)\n",
            "Requirement already satisfied: pytz>=2020.1 in /usr/local/lib/python3.11/dist-packages (from pandas->deepchem) (2025.2)\n",
            "Requirement already satisfied: tzdata>=2022.7 in /usr/local/lib/python3.11/dist-packages (from pandas->deepchem) (2025.2)\n",
            "Requirement already satisfied: Pillow in /usr/local/lib/python3.11/dist-packages (from rdkit->deepchem) (11.2.1)\n",
            "Requirement already satisfied: threadpoolctl>=3.1.0 in /usr/local/lib/python3.11/dist-packages (from scikit-learn->deepchem) (3.6.0)\n",
            "Requirement already satisfied: mpmath<1.4,>=1.1.0 in /usr/local/lib/python3.11/dist-packages (from sympy->deepchem) (1.3.0)\n",
            "Requirement already satisfied: six>=1.5 in /usr/local/lib/python3.11/dist-packages (from python-dateutil>=2.8.2->pandas->deepchem) (1.17.0)\n",
            "Downloading deepchem-2.8.0-py3-none-any.whl (1.0 MB)\n",
            "\u001b[2K   \u001b[90m━━━━━━━━━━━━━━━━━━━━━━━━━━━━━━━━━━━━━━━━\u001b[0m \u001b[32m1.0/1.0 MB\u001b[0m \u001b[31m11.4 MB/s\u001b[0m eta \u001b[36m0:00:00\u001b[0m\n",
            "\u001b[?25hDownloading rdkit-2025.3.3-cp311-cp311-manylinux_2_28_x86_64.whl (34.9 MB)\n",
            "\u001b[2K   \u001b[90m━━━━━━━━━━━━━━━━━━━━━━━━━━━━━━━━━━━━━━━━\u001b[0m \u001b[32m34.9/34.9 MB\u001b[0m \u001b[31m35.2 MB/s\u001b[0m eta \u001b[36m0:00:00\u001b[0m\n",
            "\u001b[?25hInstalling collected packages: rdkit, deepchem\n",
            "Successfully installed deepchem-2.8.0 rdkit-2025.3.3\n"
          ]
        }
      ]
    },
    {
      "cell_type": "markdown",
      "source": [
        "### Pull the CafChem library from Github and install other libraries"
      ],
      "metadata": {
        "id": "FOI-mrAln2Lf"
      }
    },
    {
      "cell_type": "code",
      "source": [
        "!git clone https://github.com/MauricioCafiero/CafChem.git"
      ],
      "metadata": {
        "colab": {
          "base_uri": "https://localhost:8080/"
        },
        "id": "9SZrwaY2n7Tt",
        "outputId": "b663893f-6b42-4da4-b540-8b36d8dbe3f8"
      },
      "execution_count": 2,
      "outputs": [
        {
          "output_type": "stream",
          "name": "stdout",
          "text": [
            "Cloning into 'CafChem'...\n",
            "remote: Enumerating objects: 375, done.\u001b[K\n",
            "remote: Counting objects: 100% (116/116), done.\u001b[K\n",
            "remote: Compressing objects: 100% (76/76), done.\u001b[K\n",
            "remote: Total 375 (delta 95), reused 40 (delta 40), pack-reused 259 (from 2)\u001b[K\n",
            "Receiving objects: 100% (375/375), 2.91 MiB | 4.28 MiB/s, done.\n",
            "Resolving deltas: 100% (206/206), done.\n"
          ]
        }
      ]
    },
    {
      "cell_type": "code",
      "source": [
        "import pandas as pd\n",
        "import pickle as pkl\n",
        "import numpy as np\n",
        "from rdkit import Chem\n",
        "import matplotlib.pyplot as plt\n",
        "import CafChem.CafChemClassifiers as ccc"
      ],
      "metadata": {
        "id": "9z2V7SK-MrV6"
      },
      "execution_count": 14,
      "outputs": []
    },
    {
      "cell_type": "markdown",
      "source": [
        "## Load CSV files and create classes\n",
        "- the make_classes tool takes a CSV with a numerical target and creates the indicated number of classes\n",
        "- returns a new dataframe with the classes added"
      ],
      "metadata": {
        "id": "8HID1Ln2oas_"
      }
    },
    {
      "cell_type": "code",
      "execution_count": 4,
      "metadata": {
        "colab": {
          "base_uri": "https://localhost:8080/"
        },
        "id": "hyEeUwOsMfbu",
        "outputId": "c0752287-8290-4704-a95a-26e9a702e695"
      },
      "outputs": [
        {
          "output_type": "stream",
          "name": "stdout",
          "text": [
            "Samples per class: 301, total samples:905\n"
          ]
        }
      ],
      "source": [
        "df = ccc.make_classes(\"/content/905-unique-statins.csv\",\"IC50 (nM)\",3)"
      ]
    },
    {
      "cell_type": "code",
      "source": [
        "df.head()"
      ],
      "metadata": {
        "colab": {
          "base_uri": "https://localhost:8080/",
          "height": 206
        },
        "id": "QdpZzBFxQP0j",
        "outputId": "fe57a537-ffdf-4e7a-b32e-a6e169f04b54"
      },
      "execution_count": 6,
      "outputs": [
        {
          "output_type": "execute_result",
          "data": {
            "text/plain": [
              "   Unnamed: 0                                      Ligand SMILES  IC50 (nM)  \\\n",
              "0           7  CC(C)c1c(\\C=C\\[C@H](O)C[C@@H](O)CC([O-])=O)c(c...      0.106   \n",
              "1           8  CC(C)n1c(CC[C@@H](O)C[C@@H](O)CC([O-])=O)c(c(c...      0.200   \n",
              "2          10  CC(C)n1c(CC[C@@H](O)C[C@@H](O)CC([O-])=O)c(c(c...      0.300   \n",
              "3          11  CC(C)n1c(CC[C@@H](O)C[C@@H](O)CC([O-])=O)c(c2C...      0.300   \n",
              "4          12  COC(=O)C[C@H](O)C[C@H](O)\\C=C\\n1c(C(C)C)c(Br)c...      0.300   \n",
              "\n",
              "   class labels  \n",
              "0  0.106 < 15.0  \n",
              "1  0.106 < 15.0  \n",
              "2  0.106 < 15.0  \n",
              "3  0.106 < 15.0  \n",
              "4  0.106 < 15.0  "
            ],
            "text/html": [
              "\n",
              "  <div id=\"df-8a858d09-8ddf-4649-9bde-2c90292603c8\" class=\"colab-df-container\">\n",
              "    <div>\n",
              "<style scoped>\n",
              "    .dataframe tbody tr th:only-of-type {\n",
              "        vertical-align: middle;\n",
              "    }\n",
              "\n",
              "    .dataframe tbody tr th {\n",
              "        vertical-align: top;\n",
              "    }\n",
              "\n",
              "    .dataframe thead th {\n",
              "        text-align: right;\n",
              "    }\n",
              "</style>\n",
              "<table border=\"1\" class=\"dataframe\">\n",
              "  <thead>\n",
              "    <tr style=\"text-align: right;\">\n",
              "      <th></th>\n",
              "      <th>Unnamed: 0</th>\n",
              "      <th>Ligand SMILES</th>\n",
              "      <th>IC50 (nM)</th>\n",
              "      <th>class labels</th>\n",
              "    </tr>\n",
              "  </thead>\n",
              "  <tbody>\n",
              "    <tr>\n",
              "      <th>0</th>\n",
              "      <td>7</td>\n",
              "      <td>CC(C)c1c(\\C=C\\[C@H](O)C[C@@H](O)CC([O-])=O)c(c...</td>\n",
              "      <td>0.106</td>\n",
              "      <td>0.106 &lt; 15.0</td>\n",
              "    </tr>\n",
              "    <tr>\n",
              "      <th>1</th>\n",
              "      <td>8</td>\n",
              "      <td>CC(C)n1c(CC[C@@H](O)C[C@@H](O)CC([O-])=O)c(c(c...</td>\n",
              "      <td>0.200</td>\n",
              "      <td>0.106 &lt; 15.0</td>\n",
              "    </tr>\n",
              "    <tr>\n",
              "      <th>2</th>\n",
              "      <td>10</td>\n",
              "      <td>CC(C)n1c(CC[C@@H](O)C[C@@H](O)CC([O-])=O)c(c(c...</td>\n",
              "      <td>0.300</td>\n",
              "      <td>0.106 &lt; 15.0</td>\n",
              "    </tr>\n",
              "    <tr>\n",
              "      <th>3</th>\n",
              "      <td>11</td>\n",
              "      <td>CC(C)n1c(CC[C@@H](O)C[C@@H](O)CC([O-])=O)c(c2C...</td>\n",
              "      <td>0.300</td>\n",
              "      <td>0.106 &lt; 15.0</td>\n",
              "    </tr>\n",
              "    <tr>\n",
              "      <th>4</th>\n",
              "      <td>12</td>\n",
              "      <td>COC(=O)C[C@H](O)C[C@H](O)\\C=C\\n1c(C(C)C)c(Br)c...</td>\n",
              "      <td>0.300</td>\n",
              "      <td>0.106 &lt; 15.0</td>\n",
              "    </tr>\n",
              "  </tbody>\n",
              "</table>\n",
              "</div>\n",
              "    <div class=\"colab-df-buttons\">\n",
              "\n",
              "  <div class=\"colab-df-container\">\n",
              "    <button class=\"colab-df-convert\" onclick=\"convertToInteractive('df-8a858d09-8ddf-4649-9bde-2c90292603c8')\"\n",
              "            title=\"Convert this dataframe to an interactive table.\"\n",
              "            style=\"display:none;\">\n",
              "\n",
              "  <svg xmlns=\"http://www.w3.org/2000/svg\" height=\"24px\" viewBox=\"0 -960 960 960\">\n",
              "    <path d=\"M120-120v-720h720v720H120Zm60-500h600v-160H180v160Zm220 220h160v-160H400v160Zm0 220h160v-160H400v160ZM180-400h160v-160H180v160Zm440 0h160v-160H620v160ZM180-180h160v-160H180v160Zm440 0h160v-160H620v160Z\"/>\n",
              "  </svg>\n",
              "    </button>\n",
              "\n",
              "  <style>\n",
              "    .colab-df-container {\n",
              "      display:flex;\n",
              "      gap: 12px;\n",
              "    }\n",
              "\n",
              "    .colab-df-convert {\n",
              "      background-color: #E8F0FE;\n",
              "      border: none;\n",
              "      border-radius: 50%;\n",
              "      cursor: pointer;\n",
              "      display: none;\n",
              "      fill: #1967D2;\n",
              "      height: 32px;\n",
              "      padding: 0 0 0 0;\n",
              "      width: 32px;\n",
              "    }\n",
              "\n",
              "    .colab-df-convert:hover {\n",
              "      background-color: #E2EBFA;\n",
              "      box-shadow: 0px 1px 2px rgba(60, 64, 67, 0.3), 0px 1px 3px 1px rgba(60, 64, 67, 0.15);\n",
              "      fill: #174EA6;\n",
              "    }\n",
              "\n",
              "    .colab-df-buttons div {\n",
              "      margin-bottom: 4px;\n",
              "    }\n",
              "\n",
              "    [theme=dark] .colab-df-convert {\n",
              "      background-color: #3B4455;\n",
              "      fill: #D2E3FC;\n",
              "    }\n",
              "\n",
              "    [theme=dark] .colab-df-convert:hover {\n",
              "      background-color: #434B5C;\n",
              "      box-shadow: 0px 1px 3px 1px rgba(0, 0, 0, 0.15);\n",
              "      filter: drop-shadow(0px 1px 2px rgba(0, 0, 0, 0.3));\n",
              "      fill: #FFFFFF;\n",
              "    }\n",
              "  </style>\n",
              "\n",
              "    <script>\n",
              "      const buttonEl =\n",
              "        document.querySelector('#df-8a858d09-8ddf-4649-9bde-2c90292603c8 button.colab-df-convert');\n",
              "      buttonEl.style.display =\n",
              "        google.colab.kernel.accessAllowed ? 'block' : 'none';\n",
              "\n",
              "      async function convertToInteractive(key) {\n",
              "        const element = document.querySelector('#df-8a858d09-8ddf-4649-9bde-2c90292603c8');\n",
              "        const dataTable =\n",
              "          await google.colab.kernel.invokeFunction('convertToInteractive',\n",
              "                                                    [key], {});\n",
              "        if (!dataTable) return;\n",
              "\n",
              "        const docLinkHtml = 'Like what you see? Visit the ' +\n",
              "          '<a target=\"_blank\" href=https://colab.research.google.com/notebooks/data_table.ipynb>data table notebook</a>'\n",
              "          + ' to learn more about interactive tables.';\n",
              "        element.innerHTML = '';\n",
              "        dataTable['output_type'] = 'display_data';\n",
              "        await google.colab.output.renderOutput(dataTable, element);\n",
              "        const docLink = document.createElement('div');\n",
              "        docLink.innerHTML = docLinkHtml;\n",
              "        element.appendChild(docLink);\n",
              "      }\n",
              "    </script>\n",
              "  </div>\n",
              "\n",
              "\n",
              "    <div id=\"df-7fa16f2c-0845-4ec8-86de-eed9034b3db7\">\n",
              "      <button class=\"colab-df-quickchart\" onclick=\"quickchart('df-7fa16f2c-0845-4ec8-86de-eed9034b3db7')\"\n",
              "                title=\"Suggest charts\"\n",
              "                style=\"display:none;\">\n",
              "\n",
              "<svg xmlns=\"http://www.w3.org/2000/svg\" height=\"24px\"viewBox=\"0 0 24 24\"\n",
              "     width=\"24px\">\n",
              "    <g>\n",
              "        <path d=\"M19 3H5c-1.1 0-2 .9-2 2v14c0 1.1.9 2 2 2h14c1.1 0 2-.9 2-2V5c0-1.1-.9-2-2-2zM9 17H7v-7h2v7zm4 0h-2V7h2v10zm4 0h-2v-4h2v4z\"/>\n",
              "    </g>\n",
              "</svg>\n",
              "      </button>\n",
              "\n",
              "<style>\n",
              "  .colab-df-quickchart {\n",
              "      --bg-color: #E8F0FE;\n",
              "      --fill-color: #1967D2;\n",
              "      --hover-bg-color: #E2EBFA;\n",
              "      --hover-fill-color: #174EA6;\n",
              "      --disabled-fill-color: #AAA;\n",
              "      --disabled-bg-color: #DDD;\n",
              "  }\n",
              "\n",
              "  [theme=dark] .colab-df-quickchart {\n",
              "      --bg-color: #3B4455;\n",
              "      --fill-color: #D2E3FC;\n",
              "      --hover-bg-color: #434B5C;\n",
              "      --hover-fill-color: #FFFFFF;\n",
              "      --disabled-bg-color: #3B4455;\n",
              "      --disabled-fill-color: #666;\n",
              "  }\n",
              "\n",
              "  .colab-df-quickchart {\n",
              "    background-color: var(--bg-color);\n",
              "    border: none;\n",
              "    border-radius: 50%;\n",
              "    cursor: pointer;\n",
              "    display: none;\n",
              "    fill: var(--fill-color);\n",
              "    height: 32px;\n",
              "    padding: 0;\n",
              "    width: 32px;\n",
              "  }\n",
              "\n",
              "  .colab-df-quickchart:hover {\n",
              "    background-color: var(--hover-bg-color);\n",
              "    box-shadow: 0 1px 2px rgba(60, 64, 67, 0.3), 0 1px 3px 1px rgba(60, 64, 67, 0.15);\n",
              "    fill: var(--button-hover-fill-color);\n",
              "  }\n",
              "\n",
              "  .colab-df-quickchart-complete:disabled,\n",
              "  .colab-df-quickchart-complete:disabled:hover {\n",
              "    background-color: var(--disabled-bg-color);\n",
              "    fill: var(--disabled-fill-color);\n",
              "    box-shadow: none;\n",
              "  }\n",
              "\n",
              "  .colab-df-spinner {\n",
              "    border: 2px solid var(--fill-color);\n",
              "    border-color: transparent;\n",
              "    border-bottom-color: var(--fill-color);\n",
              "    animation:\n",
              "      spin 1s steps(1) infinite;\n",
              "  }\n",
              "\n",
              "  @keyframes spin {\n",
              "    0% {\n",
              "      border-color: transparent;\n",
              "      border-bottom-color: var(--fill-color);\n",
              "      border-left-color: var(--fill-color);\n",
              "    }\n",
              "    20% {\n",
              "      border-color: transparent;\n",
              "      border-left-color: var(--fill-color);\n",
              "      border-top-color: var(--fill-color);\n",
              "    }\n",
              "    30% {\n",
              "      border-color: transparent;\n",
              "      border-left-color: var(--fill-color);\n",
              "      border-top-color: var(--fill-color);\n",
              "      border-right-color: var(--fill-color);\n",
              "    }\n",
              "    40% {\n",
              "      border-color: transparent;\n",
              "      border-right-color: var(--fill-color);\n",
              "      border-top-color: var(--fill-color);\n",
              "    }\n",
              "    60% {\n",
              "      border-color: transparent;\n",
              "      border-right-color: var(--fill-color);\n",
              "    }\n",
              "    80% {\n",
              "      border-color: transparent;\n",
              "      border-right-color: var(--fill-color);\n",
              "      border-bottom-color: var(--fill-color);\n",
              "    }\n",
              "    90% {\n",
              "      border-color: transparent;\n",
              "      border-bottom-color: var(--fill-color);\n",
              "    }\n",
              "  }\n",
              "</style>\n",
              "\n",
              "      <script>\n",
              "        async function quickchart(key) {\n",
              "          const quickchartButtonEl =\n",
              "            document.querySelector('#' + key + ' button');\n",
              "          quickchartButtonEl.disabled = true;  // To prevent multiple clicks.\n",
              "          quickchartButtonEl.classList.add('colab-df-spinner');\n",
              "          try {\n",
              "            const charts = await google.colab.kernel.invokeFunction(\n",
              "                'suggestCharts', [key], {});\n",
              "          } catch (error) {\n",
              "            console.error('Error during call to suggestCharts:', error);\n",
              "          }\n",
              "          quickchartButtonEl.classList.remove('colab-df-spinner');\n",
              "          quickchartButtonEl.classList.add('colab-df-quickchart-complete');\n",
              "        }\n",
              "        (() => {\n",
              "          let quickchartButtonEl =\n",
              "            document.querySelector('#df-7fa16f2c-0845-4ec8-86de-eed9034b3db7 button');\n",
              "          quickchartButtonEl.style.display =\n",
              "            google.colab.kernel.accessAllowed ? 'block' : 'none';\n",
              "        })();\n",
              "      </script>\n",
              "    </div>\n",
              "\n",
              "    </div>\n",
              "  </div>\n"
            ],
            "application/vnd.google.colaboratory.intrinsic+json": {
              "type": "dataframe",
              "variable_name": "df",
              "summary": "{\n  \"name\": \"df\",\n  \"rows\": 905,\n  \"fields\": [\n    {\n      \"column\": \"Unnamed: 0\",\n      \"properties\": {\n        \"dtype\": \"number\",\n        \"std\": 422,\n        \"min\": 7,\n        \"max\": 1406,\n        \"num_unique_values\": 905,\n        \"samples\": [\n          1064,\n          221,\n          1254\n        ],\n        \"semantic_type\": \"\",\n        \"description\": \"\"\n      }\n    },\n    {\n      \"column\": \"Ligand SMILES\",\n      \"properties\": {\n        \"dtype\": \"string\",\n        \"num_unique_values\": 904,\n        \"samples\": [\n          \"CC[C@@H](C)C(=O)O[C@H]1C[C@@H](C)C=C2C=C[C@H](C)[C@H](CC[C@@H]3C[C@@H](O)CC(=O)O3)[C@@H]12\",\n          \"C[C@@H]1C[C@H](OC(=O)Oc2ccccc2)C2[C@@H](CC[C@@H]3C[C@@H](O)CC(=O)O3)[C@@H](C)C=CC2=C1\",\n          \"CC(C)c1nc(c(-c2cccc(Cl)c2)n1\\\\C=C\\\\[C@@H](O)C[C@@H](O)CC([O-])=O)-c1ccc(F)cc1\"\n        ],\n        \"semantic_type\": \"\",\n        \"description\": \"\"\n      }\n    },\n    {\n      \"column\": \"IC50 (nM)\",\n      \"properties\": {\n        \"dtype\": \"number\",\n        \"std\": 171051.13396676542,\n        \"min\": 0.106,\n        \"max\": 2488000.0,\n        \"num_unique_values\": 469,\n        \"samples\": [\n          6.5,\n          8.15,\n          3.8\n        ],\n        \"semantic_type\": \"\",\n        \"description\": \"\"\n      }\n    },\n    {\n      \"column\": \"class labels\",\n      \"properties\": {\n        \"dtype\": \"category\",\n        \"num_unique_values\": 3,\n        \"samples\": [\n          \"0.106 < 15.0\",\n          \"15.0 < 1000.0\",\n          \"1000.0 < 2488000.0\"\n        ],\n        \"semantic_type\": \"\",\n        \"description\": \"\"\n      }\n    }\n  ]\n}"
            }
          },
          "metadata": {},
          "execution_count": 6
        }
      ]
    },
    {
      "cell_type": "code",
      "source": [
        "df.to_csv(\"905_statins_3classes.csv\")"
      ],
      "metadata": {
        "id": "LoZJheE8KAFW"
      },
      "execution_count": 7,
      "outputs": []
    },
    {
      "cell_type": "markdown",
      "source": [
        "## Featurize data and create datasets\n",
        "- Featurize with RDKit, fingerprints or Mordred\n",
        "- apply scaling, PCA (optional) and split into training and validation sets"
      ],
      "metadata": {
        "id": "wYIFW_Huo-SI"
      }
    },
    {
      "cell_type": "code",
      "source": [
        "smiles = df[\"Ligand SMILES\"].to_list()\n",
        "y = df[\"class labels\"].to_list()"
      ],
      "metadata": {
        "id": "MG0lcM4AxU7G"
      },
      "execution_count": 5,
      "outputs": []
    },
    {
      "cell_type": "code",
      "source": [
        "f, y, smiles = ccc.featurize(smiles, y, featurizer = \"rdkit\")"
      ],
      "metadata": {
        "colab": {
          "base_uri": "https://localhost:8080/"
        },
        "id": "JbnokwiL17mo",
        "outputId": "ebe60be7-6756-44ef-9e3c-e580b59a4e1d"
      },
      "execution_count": 6,
      "outputs": [
        {
          "output_type": "stream",
          "name": "stdout",
          "text": [
            "Old dimensions are: (905, 217).\n",
            "New dimensions are: (905, 217)\n"
          ]
        }
      ]
    },
    {
      "cell_type": "code",
      "source": [
        "x_train, x_valid, y_train, y_valid, smiles_train, smiles_valid, pca, scaler = ccc.scale_pca_split(f, y, smiles, use_scaler = True, use_pca = False, pca_size = 100)"
      ],
      "metadata": {
        "colab": {
          "base_uri": "https://localhost:8080/"
        },
        "id": "ACNtxG7v28sv",
        "outputId": "15b88d59-ad16-41af-b66e-8d8fb4641ae8"
      },
      "execution_count": 7,
      "outputs": [
        {
          "output_type": "stream",
          "name": "stdout",
          "text": [
            "Pre-processing done.\n"
          ]
        }
      ]
    },
    {
      "cell_type": "markdown",
      "source": [
        "## Create a logistic regression classifier\n",
        "- choose li, l2 or elasticnet penalties\n",
        "- the variable l1_ration needed for elasticnet"
      ],
      "metadata": {
        "id": "DPC8rxvhpRXt"
      }
    },
    {
      "cell_type": "code",
      "source": [
        "logreg = ccc.LogReg_methods(penalty = \"elasticnet\", C = 10.0, l1_ratio=0.2)"
      ],
      "metadata": {
        "colab": {
          "base_uri": "https://localhost:8080/"
        },
        "id": "V59qGrdT2l8a",
        "outputId": "b8706e29-aeef-49ab-f59b-22c4449f0f22"
      },
      "execution_count": 11,
      "outputs": [
        {
          "output_type": "stream",
          "name": "stdout",
          "text": [
            "Logistic Regression (classification) class initialized.\n"
          ]
        }
      ]
    },
    {
      "cell_type": "code",
      "source": [
        "lg = logreg.fit(x_train, x_valid, y_train, y_valid)"
      ],
      "metadata": {
        "colab": {
          "base_uri": "https://localhost:8080/"
        },
        "id": "qBCjjX-m2y_Z",
        "outputId": "a5f73ec6-c67b-4e30-b6d2-13840ada61dd"
      },
      "execution_count": 14,
      "outputs": [
        {
          "output_type": "stream",
          "name": "stdout",
          "text": [
            "model selected:  LogisticRegression\n",
            "fit model in: 0.4992245808333327 minutes\n",
            "score for training set:  0.8587223587223587\n",
            "score for validation set:  0.7252747252747253\n",
            "======================================================================\n"
          ]
        }
      ]
    },
    {
      "cell_type": "markdown",
      "source": [
        "## Perform Hyperparameter optimization"
      ],
      "metadata": {
        "id": "rOxmxpvtpmbI"
      }
    },
    {
      "cell_type": "code",
      "source": [
        "penalties = [\"elasticnet\"]\n",
        "l1_ratios = [0.2,0.5,0.8]\n",
        "Cs = [0.01,0.1,1.0,10.0,100.0]\n",
        "\n",
        "for penalty in penalties:\n",
        "  print(f\"Penalty: {penalty}\")\n",
        "  for C in Cs:\n",
        "    print(f\"C: {C}\")\n",
        "    for l1_ratio in l1_ratios:\n",
        "      print(f\"L1 ratio: {l1_ratio}\")\n",
        "      logreg = LogReg_methods(penalty = penalty, C = C, l1_ratio = l1_ratio)\n",
        "      logreg.fit(x_train, x_valid, y_train, y_valid)"
      ],
      "metadata": {
        "colab": {
          "base_uri": "https://localhost:8080/"
        },
        "id": "bw_TKJ0827SE",
        "outputId": "e83dd02b-6028-4918-bd10-4c7aa659abde"
      },
      "execution_count": 119,
      "outputs": [
        {
          "output_type": "stream",
          "name": "stdout",
          "text": [
            "Penalty: elasticnet\n",
            "C: 0.01\n",
            "L1 ratio: 0.2\n",
            "Logistic Regression (classification) class initialized.\n",
            "model selected:  LogisticRegression\n",
            "fit model in: 0.03218767871667296 minutes\n",
            "score for training set:  0.45085995085995084\n",
            "score for validation set:  0.34065934065934067\n",
            "======================================================================\n",
            "L1 ratio: 0.5\n",
            "Logistic Regression (classification) class initialized.\n",
            "model selected:  LogisticRegression\n",
            "fit model in: 0.03460624668332457 minutes\n",
            "score for training set:  0.36363636363636365\n",
            "score for validation set:  0.34065934065934067\n",
            "======================================================================\n",
            "L1 ratio: 0.8\n",
            "Logistic Regression (classification) class initialized.\n",
            "model selected:  LogisticRegression\n",
            "fit model in: 0.02253502258336084 minutes\n",
            "score for training set:  0.3083538083538084\n",
            "score for validation set:  0.3626373626373626\n",
            "======================================================================\n",
            "C: 0.1\n",
            "L1 ratio: 0.2\n",
            "Logistic Regression (classification) class initialized.\n",
            "model selected:  LogisticRegression\n",
            "fit model in: 0.09556091616665678 minutes\n",
            "score for training set:  0.5921375921375921\n",
            "score for validation set:  0.37362637362637363\n",
            "======================================================================\n",
            "L1 ratio: 0.5\n",
            "Logistic Regression (classification) class initialized.\n",
            "model selected:  LogisticRegression\n",
            "fit model in: 0.1342692653333567 minutes\n",
            "score for training set:  0.5614250614250614\n",
            "score for validation set:  0.3626373626373626\n",
            "======================================================================\n",
            "L1 ratio: 0.8\n",
            "Logistic Regression (classification) class initialized.\n",
            "model selected:  LogisticRegression\n",
            "fit model in: 0.10825839789998402 minutes\n",
            "score for training set:  0.538083538083538\n",
            "score for validation set:  0.3626373626373626\n",
            "======================================================================\n",
            "C: 1.0\n",
            "L1 ratio: 0.2\n",
            "Logistic Regression (classification) class initialized.\n",
            "model selected:  LogisticRegression\n",
            "fit model in: 0.4519070467333525 minutes\n",
            "score for training set:  0.6769041769041769\n",
            "score for validation set:  0.4065934065934066\n",
            "======================================================================\n",
            "L1 ratio: 0.5\n",
            "Logistic Regression (classification) class initialized.\n",
            "model selected:  LogisticRegression\n",
            "fit model in: 0.4795209141666722 minutes\n",
            "score for training set:  0.6695331695331695\n",
            "score for validation set:  0.4065934065934066\n",
            "======================================================================\n",
            "L1 ratio: 0.8\n",
            "Logistic Regression (classification) class initialized.\n",
            "model selected:  LogisticRegression\n",
            "fit model in: 0.5561219453166814 minutes\n",
            "score for training set:  0.6658476658476659\n",
            "score for validation set:  0.4065934065934066\n",
            "======================================================================\n",
            "C: 10.0\n",
            "L1 ratio: 0.2\n",
            "Logistic Regression (classification) class initialized.\n",
            "model selected:  LogisticRegression\n",
            "fit model in: 0.8231394469000103 minutes\n",
            "score for training set:  0.7199017199017199\n",
            "score for validation set:  0.4175824175824176\n",
            "======================================================================\n",
            "L1 ratio: 0.5\n",
            "Logistic Regression (classification) class initialized.\n",
            "model selected:  LogisticRegression\n",
            "fit model in: 0.8418310723000104 minutes\n",
            "score for training set:  0.7174447174447175\n",
            "score for validation set:  0.4175824175824176\n",
            "======================================================================\n",
            "L1 ratio: 0.8\n",
            "Logistic Regression (classification) class initialized.\n",
            "model selected:  LogisticRegression\n",
            "fit model in: 0.8349130636999992 minutes\n",
            "score for training set:  0.7174447174447175\n",
            "score for validation set:  0.4175824175824176\n",
            "======================================================================\n",
            "C: 100.0\n",
            "L1 ratio: 0.2\n",
            "Logistic Regression (classification) class initialized.\n",
            "model selected:  LogisticRegression\n",
            "fit model in: 0.9368674794999909 minutes\n",
            "score for training set:  0.7223587223587223\n",
            "score for validation set:  0.4175824175824176\n",
            "======================================================================\n",
            "L1 ratio: 0.5\n",
            "Logistic Regression (classification) class initialized.\n",
            "model selected:  LogisticRegression\n",
            "fit model in: 0.9451642233999943 minutes\n",
            "score for training set:  0.7223587223587223\n",
            "score for validation set:  0.4175824175824176\n",
            "======================================================================\n",
            "L1 ratio: 0.8\n",
            "Logistic Regression (classification) class initialized.\n",
            "model selected:  LogisticRegression\n",
            "fit model in: 0.9194318444333173 minutes\n",
            "score for training set:  0.7223587223587223\n",
            "score for validation set:  0.4175824175824176\n",
            "======================================================================\n"
          ]
        }
      ]
    },
    {
      "cell_type": "markdown",
      "source": [
        "## Train a tree-based classification model\n",
        "- decision tree, random forest, or gradient-boosting"
      ],
      "metadata": {
        "id": "4TGuksrZpsj5"
      }
    },
    {
      "cell_type": "code",
      "source": [
        "rand = ccc.tree_classification(method = \"forest\", n_estimators = 300, max_depth = None,\n",
        "               min_samples_split = 2, min_samples_leaf = 1, max_features = 1.0)\n",
        "rf = rand.fit(x_train, x_valid, y_train, y_valid)"
      ],
      "metadata": {
        "colab": {
          "base_uri": "https://localhost:8080/"
        },
        "id": "8ZyfqYjl3w9h",
        "outputId": "d4cf3755-ccc4-4e57-c931-8f48d674ef06"
      },
      "execution_count": 16,
      "outputs": [
        {
          "output_type": "stream",
          "name": "stdout",
          "text": [
            "Tree classification class initialized.\n",
            "model selected:  RandomForest\n",
            "fit model in: 0.2684898961999996 minutes\n",
            "score for training set:  0.9914004914004914\n",
            "score for validation set:  0.7362637362637363\n",
            "======================================================================\n"
          ]
        }
      ]
    },
    {
      "cell_type": "markdown",
      "source": [
        "## Train a Ridge or Support Vector Machines classifier"
      ],
      "metadata": {
        "id": "78jOclMxp9ON"
      }
    },
    {
      "cell_type": "code",
      "source": [
        "svm = ccc.ridge_svm_methods(method = \"svm\", degree = 3, C = 2.0, coef0 = 2.0)\n",
        "svm_model = svm.fit(x_train, x_valid, y_train, y_valid)"
      ],
      "metadata": {
        "colab": {
          "base_uri": "https://localhost:8080/"
        },
        "id": "Xk3T8KG_Izfd",
        "outputId": "f7497aa6-94ab-4460-caa0-a5772cf4da80"
      },
      "execution_count": 18,
      "outputs": [
        {
          "output_type": "stream",
          "name": "stdout",
          "text": [
            "Ridge SVM class initialized.\n",
            "model selected:  Support Vector Machines\n",
            "fit model in: 0.0015447832999996081 minutes\n",
            "score for training set:  0.9152334152334153\n",
            "score for validation set:  0.7362637362637363\n",
            "======================================================================\n"
          ]
        }
      ]
    },
    {
      "cell_type": "code",
      "source": [
        "ridge = ccc.ridge_svm_methods(method = \"ridge\", alpha=100)\n",
        "ridge_model = ridge.fit(x_train, x_valid, y_train, y_valid)"
      ],
      "metadata": {
        "colab": {
          "base_uri": "https://localhost:8080/"
        },
        "id": "k7xcmyu3Jbby",
        "outputId": "6c7acdc0-5fb3-4dae-a8fd-a05424d39b0d"
      },
      "execution_count": 19,
      "outputs": [
        {
          "output_type": "stream",
          "name": "stdout",
          "text": [
            "Ridge SVM class initialized.\n",
            "model selected:  Ridge\n",
            "fit model in: 0.00250030038333288 minutes\n",
            "score for training set:  0.7788697788697788\n",
            "score for validation set:  0.6923076923076923\n",
            "======================================================================\n"
          ]
        }
      ]
    },
    {
      "cell_type": "markdown",
      "source": [
        "## Train a Multilayer Perceptron classifier"
      ],
      "metadata": {
        "id": "TTI7MuB7qGSa"
      }
    },
    {
      "cell_type": "code",
      "source": [
        "mlp = ccc.mlp_methods(solver = \"adam\", seed = 42, hidden_layer_sizes = [50,50],\n",
        "               max_iter = 2000, activation = \"relu\", alpha = 0.1)\n",
        "mlp_model = mlp.fit(x_train, x_valid, y_train, y_valid)"
      ],
      "metadata": {
        "colab": {
          "base_uri": "https://localhost:8080/"
        },
        "id": "qYPsr6a9iJYJ",
        "outputId": "35024097-d221-4720-c52d-7c8c47a70c4c"
      },
      "execution_count": 8,
      "outputs": [
        {
          "output_type": "stream",
          "name": "stdout",
          "text": [
            "MLP class initialized.\n",
            "model selected:  MultiLayerPerceptron\n",
            "fit model in: 0.035997498049999875 minutes\n",
            "score for training set:  0.9594594594594594\n",
            "score for validation set:  0.7142857142857143\n",
            "======================================================================\n"
          ]
        }
      ]
    },
    {
      "cell_type": "markdown",
      "source": [
        "## Visualize classification model results with a confusion matrix"
      ],
      "metadata": {
        "id": "Ii69IgmRqM5j"
      }
    },
    {
      "cell_type": "code",
      "source": [
        "conf = ccc.evaluate(mlp_model, df[\"class labels\"].unique(), x_valid, y_valid)\n",
        "conf.confusion()"
      ],
      "metadata": {
        "colab": {
          "base_uri": "https://localhost:8080/",
          "height": 564
        },
        "id": "4i7xRPh4CUEk",
        "outputId": "5c8ce2dd-3ed7-4151-ad28-db9aebc0fc35"
      },
      "execution_count": 9,
      "outputs": [
        {
          "output_type": "display_data",
          "data": {
            "text/plain": [
              "<Figure size 600x600 with 1 Axes>"
            ],
            "image/png": "[encoded data removed]"
          },
          "metadata": {}
        }
      ]
    },
    {
      "cell_type": "markdown",
      "source": [
        "## Use a model to predict new values\n",
        "- the predict_with_model tool takes a list of SMILES to analyze, a model to use, the featurizer used, and a scaler and pca (optional).\n",
        "- If you have ground truth for these values, you can use the analyze_predictions tool to compare the predictions and the truths."
      ],
      "metadata": {
        "id": "R-HcbV46qab5"
      }
    },
    {
      "cell_type": "code",
      "source": [
        "'''\n",
        "This code creates a sample predicting set from the trainig data, you should use an actual prediction set\n",
        "'''\n",
        "random_indicies = np.random.randint(0,len(df),20)\n",
        "\n",
        "test_smiles = []\n",
        "test_ic50s = []\n",
        "for i in random_indicies:\n",
        "  test_smiles.append(df[\"Ligand SMILES\"].iloc[i])\n",
        "  test_ic50s.append(df[\"IC50 (nM)\"].iloc[i])"
      ],
      "metadata": {
        "id": "eIqs3Rd-kDLo"
      },
      "execution_count": 10,
      "outputs": []
    },
    {
      "cell_type": "code",
      "source": [
        "preds = ccc.predict_with_model(test_smiles, mlp_model, featurizer = \"rdkit\", scaler = scaler)"
      ],
      "metadata": {
        "id": "VNfKI8O4jnay"
      },
      "execution_count": 11,
      "outputs": []
    },
    {
      "cell_type": "code",
      "source": [
        "ccc.analyze_predictions(preds, test_ic50s)"
      ],
      "metadata": {
        "colab": {
          "base_uri": "https://localhost:8080/"
        },
        "id": "I0kEUtABjrNj",
        "outputId": "3ec07a73-b0dd-4632-8397-81f079815d86"
      },
      "execution_count": 12,
      "outputs": [
        {
          "output_type": "stream",
          "name": "stdout",
          "text": [
            "Predicted: 1000.0 < 2488000.0  , Truth:   12000.00, prediction is correct\n",
            "Predicted: 15.0 < 1000.0       , Truth:     360.00, prediction is correct\n",
            "Predicted: 1000.0 < 2488000.0  , Truth:  200000.00, prediction is correct\n",
            "Predicted: 0.106 < 15.0        , Truth:       7.20, prediction is correct\n",
            "Predicted: 0.106 < 15.0        , Truth:       1.20, prediction is correct\n",
            "Predicted: 1000.0 < 2488000.0  , Truth:    6310.00, prediction is correct\n",
            "Predicted: 0.106 < 15.0        , Truth:       4.10, prediction is correct\n",
            "Predicted: 0.106 < 15.0        , Truth:       2.20, prediction is correct\n",
            "Predicted: 15.0 < 1000.0       , Truth:      37.00, prediction is correct\n",
            "Predicted: 0.106 < 15.0        , Truth:       1.80, prediction is correct\n",
            "Predicted: 15.0 < 1000.0       , Truth:      19.00, prediction is correct\n",
            "Predicted: 15.0 < 1000.0       , Truth:      30.00, prediction is correct\n",
            "Predicted: 15.0 < 1000.0       , Truth:      16.00, prediction is correct\n",
            "Predicted: 15.0 < 1000.0       , Truth:     141.00, prediction is correct\n",
            "Predicted: 0.106 < 15.0        , Truth:       5.70, prediction is correct\n",
            "Predicted: 0.106 < 15.0        , Truth:      29.00, prediction is incorrect\n",
            "Predicted: 0.106 < 15.0        , Truth:       8.70, prediction is correct\n",
            "Predicted: 0.106 < 15.0        , Truth:       6.00, prediction is correct\n",
            "Predicted: 1000.0 < 2488000.0  , Truth:   97100.00, prediction is correct\n",
            "Predicted: 1000.0 < 2488000.0  , Truth:   19430.00, prediction is correct\n",
            "Percentage of correct predictions: 95.000\n"
          ]
        }
      ]
    },
    {
      "cell_type": "markdown",
      "source": [
        "## Save models, CSV files, predictions"
      ],
      "metadata": {
        "id": "fV5g4InET7Va"
      }
    },
    {
      "cell_type": "code",
      "source": [
        "with open('mlp_model.pkl','wb') as model_file:\n",
        "  pkl.dump(mlp_model, model_file)\n",
        "\n",
        "with open('scaler.pkl','wb') as scaler_file:\n",
        "  pkl.dump(scaler, scaler_file)\n",
        "\n",
        "with open('pca.pkl','wb') as pca_file:\n",
        "  pkl.dump(pca, pca_file)"
      ],
      "metadata": {
        "id": "bCHFHMLCj6sO"
      },
      "execution_count": 16,
      "outputs": []
    },
    {
      "cell_type": "code",
      "source": [
        "y_to_save = np.concatenate((y_train,y_valid))\n",
        "\n",
        "predictions = mlp_model.predict(f)\n",
        "\n",
        "smiles_to_save = np.concatenate((smiles_train,smiles_valid))\n",
        "\n",
        "save_dict = {\"SMILES\": smiles_to_save, \"truth_labels\": y_to_save, \"Predictions\": predictions}\n",
        "df_to_save = pd.DataFrame(save_dict)\n",
        "df_to_save.to_csv(\"mlp_predictions.csv\")"
      ],
      "metadata": {
        "id": "qJn0HWfgUdvH"
      },
      "execution_count": 18,
      "outputs": []
    },
    {
      "cell_type": "markdown",
      "source": [
        "## Load a model"
      ],
      "metadata": {
        "id": "bDBQSiO8U6lz"
      }
    },
    {
      "cell_type": "code",
      "source": [
        "with open('mlp_model.pkl','rb') as model_file:\n",
        "  loaded_model = pkl.load(model_file)\n",
        "\n",
        "with open('scaler.pkl','rb') as scaler_file:\n",
        "  loaded_scaler = pkl.load(scaler_file)\n",
        "\n",
        "with open('pca.pkl','rb') as pca_file:\n",
        "  loaded_pca = pkl.load(pca_file)"
      ],
      "metadata": {
        "id": "yhlu3-KDU4tL"
      },
      "execution_count": 19,
      "outputs": []
    }
  ]
}