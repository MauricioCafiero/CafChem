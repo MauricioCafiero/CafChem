{
  "nbformat": 4,
  "nbformat_minor": 0,
  "metadata": {
    "colab": {
      "provenance": [],
      "machine_shape": "hm"
    },
    "kernelspec": {
      "name": "python3",
      "display_name": "Python 3"
    },
    "language_info": {
      "name": "python"
    }
  },
  "cells": [
    {
      "cell_type": "markdown",
      "source": [
        "#CafChem tools running DFT and SAPT calculations using Psi4\n",
        "\n",
        "[![Open In Colab](https://colab.research.google.com/assets/colab-badge.svg)](https://colab.research.google.com/github/MauricioCafiero/CafChem/blob/main/notebooks/Psi4_CafChem.ipynb)\n",
        "\n",
        "- currently needs to have the fallback runtime set uder Tools --> Command palette\n",
        "\n",
        "## This notebook allows you to:\n",
        "- Perform energy, geometry optimization and SAPT calculations on molecules.\n",
        "- start from a SMILES string or an XYZ file\n",
        "- SAPT calculations require an XYZ file with both molecules in it.\n",
        "- for available DFT methods, see the [functional list](https://psicode.org/psi4manual/master/dft_byfunctional.html)\n",
        "- for available basis sets, see the [basis set list](https://psicode.org/psi4manual/master/basissets_tables.html)\n",
        "\n",
        "## Requirements:\n",
        "- This notebook will install conda, then restart.\n",
        "- Then install psi4 and rdkit\n",
        "- It will pull the CafChem tools from Github.\n",
        "- It will install all needed libraries."
      ],
      "metadata": {
        "id": "kuFJOBa5u4c4"
      }
    },
    {
      "cell_type": "markdown",
      "source": [
        "## Install Psi4 and Set-up"
      ],
      "metadata": {
        "id": "StF8sxVaazeg"
      }
    },
    {
      "cell_type": "markdown",
      "source": [
        "### Install conda, psi4 and rdkit"
      ],
      "metadata": {
        "id": "-eUSF_0xG5QL"
      }
    },
    {
      "cell_type": "code",
      "source": [
        "!python --version"
      ],
      "metadata": {
        "colab": {
          "base_uri": "https://localhost:8080/"
        },
        "id": "5nCMN1lChBt5",
        "outputId": "24e8472e-36de-4450-959b-b7411ab5320e"
      },
      "execution_count": 1,
      "outputs": [
        {
          "output_type": "stream",
          "name": "stdout",
          "text": [
            "Python 3.11.13\n"
          ]
        }
      ]
    },
    {
      "cell_type": "code",
      "source": [
        "!pip install -q condacolab\n",
        "import condacolab\n",
        "condacolab.install()"
      ],
      "metadata": {
        "colab": {
          "base_uri": "https://localhost:8080/"
        },
        "id": "ZF3fefbCdvlW",
        "outputId": "7e3c69c1-f253-4705-9e98-c01b85a58dcd"
      },
      "execution_count": 2,
      "outputs": [
        {
          "output_type": "stream",
          "name": "stdout",
          "text": [
            "⏬ Downloading https://github.com/jaimergp/miniforge/releases/download/24.11.2-1_colab/Miniforge3-colab-24.11.2-1_colab-Linux-x86_64.sh...\n",
            "📦 Installing...\n",
            "📌 Adjusting configuration...\n",
            "🩹 Patching environment...\n",
            "⏲ Done in 0:00:08\n",
            "🔁 Restarting kernel...\n"
          ]
        }
      ]
    },
    {
      "cell_type": "code",
      "source": [
        "import condacolab\n",
        "condacolab.check()"
      ],
      "metadata": {
        "colab": {
          "base_uri": "https://localhost:8080/"
        },
        "id": "tgiercU_e0vj",
        "outputId": "aa50e29f-9f0d-4a51-cb1d-0b813b8210aa"
      },
      "execution_count": 1,
      "outputs": [
        {
          "output_type": "stream",
          "name": "stdout",
          "text": [
            "✨🍰✨ Everything looks OK!\n"
          ]
        }
      ]
    },
    {
      "cell_type": "code",
      "source": [
        "!mamba install psi4"
      ],
      "metadata": {
        "colab": {
          "base_uri": "https://localhost:8080/"
        },
        "id": "NTTJjZypadMS",
        "outputId": "7b1c0468-3cfd-472c-d08a-b1309744a218"
      },
      "execution_count": 2,
      "outputs": [
        {
          "output_type": "stream",
          "name": "stdout",
          "text": [
            "\n",
            "Looking for: ['psi4']\n",
            "\n",
            "\u001b[?25l\u001b[2K\u001b[0G[+] 0.0s\n",
            "\u001b[2K\u001b[1A\u001b[2K\u001b[0G[+] 0.1s\n",
            "conda-forge/linux-64  ⣾  \n",
            "conda-forge/noarch    ⣾  \u001b[2K\u001b[1A\u001b[2K\u001b[1A\u001b[2K\u001b[0G[+] 0.2s\n",
            "conda-forge/linux-64   5%\n",
            "conda-forge/noarch     1%\u001b[2K\u001b[1A\u001b[2K\u001b[1A\u001b[2K\u001b[0G[+] 0.3s\n",
            "conda-forge/linux-64  13%\n",
            "conda-forge/noarch     1%\u001b[2K\u001b[1A\u001b[2K\u001b[1A\u001b[2K\u001b[0G[+] 0.4s\n",
            "conda-forge/linux-64  21%\n",
            "conda-forge/noarch     9%\u001b[2K\u001b[1A\u001b[2K\u001b[1A\u001b[2K\u001b[0G[+] 0.5s\n",
            "conda-forge/linux-64  27%\n",
            "conda-forge/noarch    15%\u001b[2K\u001b[1A\u001b[2K\u001b[1A\u001b[2K\u001b[0G[+] 0.6s\n",
            "conda-forge/linux-64  31%\n",
            "conda-forge/noarch    32%\u001b[2K\u001b[1A\u001b[2K\u001b[1A\u001b[2K\u001b[0G[+] 0.7s\n",
            "conda-forge/linux-64  40%\n",
            "conda-forge/noarch    50%\u001b[2K\u001b[1A\u001b[2K\u001b[1A\u001b[2K\u001b[0G[+] 0.8s\n",
            "conda-forge/linux-64  49%\n",
            "conda-forge/noarch    69%\u001b[2K\u001b[1A\u001b[2K\u001b[1A\u001b[2K\u001b[0G[+] 0.9s\n",
            "conda-forge/linux-64  56%\n",
            "conda-forge/noarch    85%\u001b[2K\u001b[1A\u001b[2K\u001b[1A\u001b[2K\u001b[0G[+] 1.0s\n",
            "conda-forge/linux-64  61%\n",
            "conda-forge/noarch    95%\u001b[2K\u001b[1A\u001b[2K\u001b[1A\u001b[2K\u001b[0G[+] 1.1s\n",
            "conda-forge/linux-64  63%\n",
            "conda-forge/noarch   100%\u001b[2K\u001b[1A\u001b[2K\u001b[1A\u001b[2K\u001b[0G[+] 1.2s\n",
            "conda-forge/linux-64  63%\n",
            "conda-forge/noarch   100%\u001b[2K\u001b[1A\u001b[2K\u001b[1A\u001b[2K\u001b[0G[+] 1.3s\n",
            "conda-forge/linux-64  63%\n",
            "conda-forge/noarch   100%\u001b[2K\u001b[1A\u001b[2K\u001b[1A\u001b[2K\u001b[0Gconda-forge/noarch                                \n",
            "[+] 1.4s\n",
            "conda-forge/linux-64  66%\u001b[2K\u001b[1A\u001b[2K\u001b[0G[+] 1.5s\n",
            "conda-forge/linux-64  74%\u001b[2K\u001b[1A\u001b[2K\u001b[0G[+] 1.6s\n",
            "conda-forge/linux-64  78%\u001b[2K\u001b[1A\u001b[2K\u001b[0G[+] 1.7s\n",
            "conda-forge/linux-64  86%\u001b[2K\u001b[1A\u001b[2K\u001b[0G[+] 1.8s\n",
            "conda-forge/linux-64  95%\u001b[2K\u001b[1A\u001b[2K\u001b[0G[+] 1.9s\n",
            "conda-forge/linux-64  99%\u001b[2K\u001b[1A\u001b[2K\u001b[0G[+] 2.0s\n",
            "conda-forge/linux-64  99%\u001b[2K\u001b[1A\u001b[2K\u001b[0G[+] 2.1s\n",
            "conda-forge/linux-64  99%\u001b[2K\u001b[1A\u001b[2K\u001b[0G[+] 2.2s\n",
            "conda-forge/linux-64  99%\u001b[2K\u001b[1A\u001b[2K\u001b[0G[+] 2.3s\n",
            "conda-forge/linux-64  99%\u001b[2K\u001b[1A\u001b[2K\u001b[0G[+] 2.4s\n",
            "conda-forge/linux-64  99%\u001b[2K\u001b[1A\u001b[2K\u001b[0G[+] 2.5s\n",
            "conda-forge/linux-64  99%\u001b[2K\u001b[1A\u001b[2K\u001b[0G[+] 2.6s\n",
            "conda-forge/linux-64  99%\u001b[2K\u001b[1A\u001b[2K\u001b[0Gconda-forge/linux-64                              \n",
            "\u001b[?25h\n",
            "Pinned packages:\n",
            "  - python 3.11.*\n",
            "  - python 3.11.*\n",
            "  - python_abi 3.11.* *cp311*\n",
            "  - cuda-version 12.*\n",
            "\n",
            "\n",
            "Transaction\n",
            "\n",
            "  Prefix: /usr/local\n",
            "\n",
            "  Updating specs:\n",
            "\n",
            "   - psi4\n",
            "   - ca-certificates\n",
            "   - certifi\n",
            "   - openssl\n",
            "\n",
            "\n",
            "  Package                 Version  Build                  Channel           Size\n",
            "──────────────────────────────────────────────────────────────────────────────────\n",
            "  Install:\n",
            "──────────────────────────────────────────────────────────────────────────────────\n",
            "\n",
            "  \u001b[32m+ networkx         \u001b[0m         3.5  pyhe01879c_0           conda-forge        2MB\n",
            "  \u001b[32m+ py-cpuinfo       \u001b[0m       9.0.0  pyhd8ed1ab_1           conda-forge       26kB\n",
            "  \u001b[32m+ typing_extensions\u001b[0m      4.14.1  pyhe01879c_0           conda-forge       51kB\n",
            "  \u001b[32m+ typing-inspection\u001b[0m       0.4.1  pyhd8ed1ab_0           conda-forge       19kB\n",
            "  \u001b[32m+ typing-extensions\u001b[0m      4.14.1  h4440ef1_0             conda-forge       90kB\n",
            "  \u001b[32m+ flexparser       \u001b[0m         0.4  pyhd8ed1ab_1           conda-forge       29kB\n",
            "  \u001b[32m+ flexcache        \u001b[0m         0.3  pyhd8ed1ab_1           conda-forge       17kB\n",
            "  \u001b[32m+ annotated-types  \u001b[0m       0.7.0  pyhd8ed1ab_1           conda-forge       18kB\n",
            "  \u001b[32m+ pint             \u001b[0m        0.25  pyhe01879c_0           conda-forge      243kB\n",
            "  \u001b[32m+ gau2grid         \u001b[0m       2.0.8  hb9d3cd8_0             conda-forge      343kB\n",
            "  \u001b[32m+ pugixml          \u001b[0m        1.15  h3f63f65_0             conda-forge      118kB\n",
            "  \u001b[32m+ msgpack-python   \u001b[0m       1.1.1  py311hd18a35c_0        conda-forge      103kB\n",
            "  \u001b[32m+ libxc-c          \u001b[0m       7.0.0  cpu_h75f4f88_3         conda-forge       59MB\n",
            "  \u001b[32m+ llvm-openmp      \u001b[0m      20.1.8  h4922eb0_1             conda-forge        3MB\n",
            "  \u001b[32m+ libgfortran5     \u001b[0m      14.2.0  hf1ad2bd_2             conda-forge        1MB\n",
            "  \u001b[32m+ psutil           \u001b[0m       7.0.0  py311h49ec1c0_1        conda-forge      484kB\n",
            "  \u001b[32m+ libhwloc         \u001b[0m      2.11.2  default_h0d58e46_1001  conda-forge        2MB\n",
            "  \u001b[32m+ yaml             \u001b[0m       0.2.5  h280c20c_3             conda-forge       85kB\n",
            "  \u001b[32m+ pydantic-core    \u001b[0m      2.33.2  py311hdae7d1d_0        conda-forge        2MB\n",
            "  \u001b[32m+ libecpint        \u001b[0m       1.0.7  h981d57b_12            conda-forge      359kB\n",
            "  \u001b[32m+ libgfortran      \u001b[0m      14.2.0  h69a702a_2             conda-forge       54kB\n",
            "  \u001b[32m+ tbb              \u001b[0m   2021.13.0  hceb3a55_1             conda-forge      176kB\n",
            "  \u001b[32m+ pyyaml           \u001b[0m       6.0.2  py311h2dc5d0c_2        conda-forge      213kB\n",
            "  \u001b[32m+ libint           \u001b[0m       2.9.0  h2b4839b_3             conda-forge       76MB\n",
            "  \u001b[32m+ libpcm           \u001b[0m       1.2.3  hdca9e5a_15            conda-forge      571kB\n",
            "  \u001b[32m+ mkl              \u001b[0m    2024.2.2  ha770c72_17            conda-forge      125MB\n",
            "  \u001b[32m+ libblas          \u001b[0m       3.9.0  34_hfdb39a5_mkl        conda-forge       20kB\n",
            "  \u001b[32m+ dkh              \u001b[0m         1.2  ha94c79b_3             conda-forge       65kB\n",
            "  \u001b[32m+ liblapack        \u001b[0m       3.9.0  34_hc41d3b0_mkl        conda-forge       19kB\n",
            "  \u001b[32m+ libcblas         \u001b[0m       3.9.0  34_h372d94f_mkl        conda-forge       19kB\n",
            "  \u001b[32m+ numpy            \u001b[0m       2.3.2  py311h9517ec2_1        conda-forge        9MB\n",
            "  \u001b[32m+ scipy            \u001b[0m      1.16.0  py311h2d3ef60_0        conda-forge       17MB\n",
            "  \u001b[32m+ pydantic         \u001b[0m      2.11.7  pyh3cfb1c2_0           conda-forge      307kB\n",
            "  \u001b[32m+ pcmsolver        \u001b[0m       1.2.3  py_15                  conda-forge      100kB\n",
            "  \u001b[32m+ qcelemental      \u001b[0m      0.29.0  pyhd8ed1ab_1           conda-forge      255kB\n",
            "  \u001b[32m+ qcengine         \u001b[0m      0.33.0  pyhd8ed1ab_0           conda-forge      245kB\n",
            "  \u001b[32m+ optking          \u001b[0m       0.4.2  pyhd8ed1ab_0           conda-forge      182kB\n",
            "  \u001b[32m+ psi4             \u001b[0m       1.9.1  py311h4fd4e4a_10       conda-forge       30MB\n",
            "\n",
            "  Change:\n",
            "──────────────────────────────────────────────────────────────────────────────────\n",
            "\n",
            "  \u001b[31m- _openmp_mutex    \u001b[0m         4.5  2_gnu                  conda-forge\u001b[32m     Cached\u001b[0m\n",
            "  \u001b[32m+ _openmp_mutex    \u001b[0m         4.5  3_kmp_llvm             conda-forge        8kB\n",
            "\n",
            "  Upgrade:\n",
            "──────────────────────────────────────────────────────────────────────────────────\n",
            "\n",
            "  \u001b[31m- ca-certificates  \u001b[0m  2024.12.14  hbcca054_0             conda-forge\u001b[32m     Cached\u001b[0m\n",
            "  \u001b[32m+ ca-certificates  \u001b[0m    2025.8.3  hbd8a1cb_0             conda-forge      154kB\n",
            "  \u001b[31m- certifi          \u001b[0m  2024.12.14  pyhd8ed1ab_0           conda-forge\u001b[32m     Cached\u001b[0m\n",
            "  \u001b[32m+ certifi          \u001b[0m    2025.8.3  pyhd8ed1ab_0           conda-forge      159kB\n",
            "  \u001b[31m- openssl          \u001b[0m       3.4.0  h7b32b05_1             conda-forge\u001b[32m     Cached\u001b[0m\n",
            "  \u001b[32m+ openssl          \u001b[0m       3.5.2  h26f9b46_0             conda-forge        3MB\n",
            "\n",
            "  Summary:\n",
            "\n",
            "  Install: 38 packages\n",
            "  Change: 1 packages\n",
            "  Upgrade: 3 packages\n",
            "\n",
            "  Total download: 334MB\n",
            "\n",
            "──────────────────────────────────────────────────────────────────────────────────\n",
            "\n",
            "\n",
            "\u001b[?25l\u001b[2K\u001b[0G[+] 0.0s\n",
            "Downloading  (1)   0%\n",
            "Extracting         0%\u001b[2K\u001b[1A\u001b[2K\u001b[1A\u001b[2K\u001b[0Gca-certificates                                    154.4kB @   1.9MB/s  0.1s\n",
            "certifi                                            158.7kB @   1.9MB/s  0.1s\n",
            "[+] 0.1s\n",
            "Downloading  (5)   1%\n",
            "Extracting   (2)  ⣾  \u001b[2K\u001b[1A\u001b[2K\u001b[1A\u001b[2K\u001b[0Gtyping_extensions                                   51.1kB @ 444.4kB/s  0.1s\n",
            "networkx                                             1.6MB @  12.1MB/s  0.1s\n",
            "typing-extensions                                   90.5kB @ 693.9kB/s  0.0s\n",
            "py-cpuinfo                                          25.8kB @ 162.7kB/s  0.2s\n",
            "typing-inspection                                   18.8kB @ 108.3kB/s  0.1s\n",
            "gau2grid                                           342.9kB @   2.0MB/s  0.1s\n",
            "[+] 0.2s\n",
            "Downloading  (5)   1%\n",
            "Extracting   (4)  ⣾  \u001b[2K\u001b[1A\u001b[2K\u001b[1A\u001b[2K\u001b[0Gllvm-openmp                                          3.2MB @  14.6MB/s  0.1s\n",
            "_openmp_mutex                                        7.6kB @  34.5kB/s  0.0s\n",
            "libgfortran                                         53.7kB @ 202.6kB/s  0.1s\n",
            "liblapack                                           19.4kB @  66.3kB/s  0.1s\n",
            "[+] 0.3s\n",
            "Downloading  (5)   5%\n",
            "Extracting   (3)  ⣾  \u001b[2K\u001b[1A\u001b[2K\u001b[1A\u001b[2K\u001b[0Gqcelemental                                        255.4kB @ 733.0kB/s  0.1s\n",
            "[+] 0.4s\n",
            "Downloading  (5)   9%\n",
            "Extracting   (2)  ⣾  \u001b[2K\u001b[1A\u001b[2K\u001b[1A\u001b[2K\u001b[0Gopenssl                                              3.1MB @   6.5MB/s  0.3s\n",
            "[+] 0.5s\n",
            "Downloading  (5)  16%\n",
            "Extracting   (1)  ⣾  \u001b[2K\u001b[1A\u001b[2K\u001b[1A\u001b[2K\u001b[0Gannotated-types                                     18.1kB @  31.8kB/s  0.1s\n",
            "[+] 0.6s\n",
            "Downloading  (5)  22%\n",
            "Extracting   (2)  ⣾  \u001b[2K\u001b[1A\u001b[2K\u001b[1A\u001b[2K\u001b[0Gscipy                                               16.9MB @  27.4MB/s  0.4s\n",
            "msgpack-python                                     103.1kB @ 154.2kB/s  0.1s\n",
            "[+] 0.7s\n",
            "Downloading  (5)  28%\n",
            "Extracting   (2)  ⣾  \u001b[2K\u001b[1A\u001b[2K\u001b[1A\u001b[2K\u001b[0Glibhwloc                                             2.4MB @   3.4MB/s  0.1s\n",
            "libecpint                                          359.3kB @ 452.2kB/s  0.1s\n",
            "[+] 0.8s\n",
            "Downloading  (5)  34%\n",
            "Extracting   (3)  ⣾  \u001b[2K\u001b[1A\u001b[2K\u001b[1A\u001b[2K\u001b[0Gdkh                                                 64.5kB @  72.2kB/s  0.1s\n",
            "[+] 0.9s\n",
            "Downloading  (4)  41%\n",
            "Extracting   (2)  ⣾  \u001b[2K\u001b[1A\u001b[2K\u001b[1A\u001b[2K\u001b[0Glibxc-c                                             58.7MB @  59.6MB/s  0.9s\n",
            "[+] 1.0s\n",
            "Downloading  (5)  53%\n",
            "Extracting   (2)  ⣾  \u001b[2K\u001b[1A\u001b[2K\u001b[1A\u001b[2K\u001b[0Goptking                                            181.9kB @ 178.5kB/s  0.0s\n",
            "pydantic                                           307.3kB @ 301.2kB/s  0.1s\n",
            "pint                                               243.1kB @ 229.9kB/s  0.0s\n",
            "tbb                                                176.0kB @ 160.9kB/s  0.0s\n",
            "[+] 1.1s\n",
            "Downloading  (5)  62%\n",
            "Extracting   (4)  ⣾  \u001b[2K\u001b[1A\u001b[2K\u001b[1A\u001b[2K\u001b[0Gpsi4                                                29.5MB @  26.5MB/s  0.8s\n",
            "libblas                                             19.7kB @  17.4kB/s  0.0s\n",
            "flexcache                                           16.7kB @  14.0kB/s  0.1s\n",
            "[+] 1.2s\n",
            "Downloading  (4)  70%\n",
            "Extracting   (4)  ⣾  \u001b[2K\u001b[1A\u001b[2K\u001b[1A\u001b[2K\u001b[0Gpsutil                                             483.6kB @ 397.7kB/s  0.2s\n",
            "pcmsolver                                           99.6kB @  79.3kB/s  0.1s\n",
            "yaml                                                85.2kB @  67.8kB/s  0.1s\n",
            "[+] 1.3s\n",
            "Downloading  (5)  77%\n",
            "Extracting   (3)  ⣾  \u001b[2K\u001b[1A\u001b[2K\u001b[1A\u001b[2K\u001b[0Gqcengine                                           244.8kB @ 187.1kB/s  0.1s\n",
            "flexparser                                          28.7kB @  21.9kB/s  0.1s\n",
            "libpcm                                             570.9kB @ 426.7kB/s  0.1s\n",
            "libcblas                                            19.4kB @  14.1kB/s  0.1s\n",
            "[+] 1.4s\n",
            "Downloading  (5)  80%\n",
            "Extracting   (5)  ⣾  \u001b[2K\u001b[1A\u001b[2K\u001b[1A\u001b[2K\u001b[0Gpyyaml                                             213.1kB @ 148.0kB/s  0.1s\n",
            "pugixml                                            118.5kB @  81.1kB/s  0.1s\n",
            "[+] 1.5s\n",
            "Downloading  (5)  84%\n",
            "Extracting   (4)  ⣾  \u001b[2K\u001b[1A\u001b[2K\u001b[1A\u001b[2K\u001b[0Gnumpy                                                9.1MB @   6.0MB/s  0.2s\n",
            "mkl                                                125.0MB @  81.7MB/s  1.3s\n",
            "libgfortran5                                         1.5MB @ 935.7kB/s  0.1s\n",
            "pydantic-core                                        1.9MB @   1.2MB/s  0.1s\n",
            "[+] 1.6s\n",
            "Downloading  (1)  89%\n",
            "Extracting   (6)  ⣾  \u001b[2K\u001b[1A\u001b[2K\u001b[1A\u001b[2K\u001b[0G[+] 1.7s\n",
            "Downloading  (1)  91%\n",
            "Extracting   (5)  ⣾  \u001b[2K\u001b[1A\u001b[2K\u001b[1A\u001b[2K\u001b[0G[+] 1.8s\n",
            "Downloading  (1)  92%\n",
            "Extracting   (4)  ⣾  \u001b[2K\u001b[1A\u001b[2K\u001b[1A\u001b[2K\u001b[0G[+] 1.9s\n",
            "Downloading  (1)  94%\n",
            "Extracting   (4)  ⣾  \u001b[2K\u001b[1A\u001b[2K\u001b[1A\u001b[2K\u001b[0G[+] 2.0s\n",
            "Downloading  (1)  97%\n",
            "Extracting   (4)  ⣾  \u001b[2K\u001b[1A\u001b[2K\u001b[1A\u001b[2K\u001b[0G[+] 2.1s\n",
            "Downloading  (1)  99%\n",
            "Extracting   (4)  ⣾  \u001b[2K\u001b[1A\u001b[2K\u001b[1A\u001b[2K\u001b[0Glibint                                              76.2MB @  35.5MB/s  1.4s\n",
            "[+] 2.2s\n",
            "Downloading      100%\n",
            "Extracting   (5)  ⣾  \u001b[2K\u001b[1A\u001b[2K\u001b[1A\u001b[2K\u001b[0G[+] 2.3s\n",
            "Downloading      100%\n",
            "Extracting   (4)  ⣾  \u001b[2K\u001b[1A\u001b[2K\u001b[1A\u001b[2K\u001b[0G[+] 2.4s\n",
            "Downloading      100%\n",
            "Extracting   (4)  ⣾  \u001b[2K\u001b[1A\u001b[2K\u001b[1A\u001b[2K\u001b[0G[+] 2.5s\n",
            "Downloading      100%\n",
            "Extracting   (4)  ⣾  \u001b[2K\u001b[1A\u001b[2K\u001b[1A\u001b[2K\u001b[0G[+] 2.6s\n",
            "Downloading      100%\n",
            "Extracting   (4)  ⣾  \u001b[2K\u001b[1A\u001b[2K\u001b[1A\u001b[2K\u001b[0G[+] 2.7s\n",
            "Downloading      100%\n",
            "Extracting   (4)  ⣾  \u001b[2K\u001b[1A\u001b[2K\u001b[1A\u001b[2K\u001b[0G[+] 2.8s\n",
            "Downloading      100%\n",
            "Extracting   (4)  ⣾  \u001b[2K\u001b[1A\u001b[2K\u001b[1A\u001b[2K\u001b[0G[+] 2.9s\n",
            "Downloading      100%\n",
            "Extracting   (4)  ⣾  \u001b[2K\u001b[1A\u001b[2K\u001b[1A\u001b[2K\u001b[0G[+] 3.0s\n",
            "Downloading      100%\n",
            "Extracting   (4)  ⣾  \u001b[2K\u001b[1A\u001b[2K\u001b[1A\u001b[2K\u001b[0G[+] 3.1s\n",
            "Downloading      100%\n",
            "Extracting   (3)  ⣾  \u001b[2K\u001b[1A\u001b[2K\u001b[1A\u001b[2K\u001b[0G[+] 3.2s\n",
            "Downloading      100%\n",
            "Extracting   (3)  ⣾  \u001b[2K\u001b[1A\u001b[2K\u001b[1A\u001b[2K\u001b[0G[+] 3.3s\n",
            "Downloading      100%\n",
            "Extracting   (3)  ⣾  \u001b[2K\u001b[1A\u001b[2K\u001b[1A\u001b[2K\u001b[0G[+] 3.4s\n",
            "Downloading      100%\n",
            "Extracting   (2)  ⣾  \u001b[2K\u001b[1A\u001b[2K\u001b[1A\u001b[2K\u001b[0G[+] 3.5s\n",
            "Downloading      100%\n",
            "Extracting   (2)  ⣾  \u001b[2K\u001b[1A\u001b[2K\u001b[1A\u001b[2K\u001b[0G[+] 3.6s\n",
            "Downloading      100%\n",
            "Extracting   (2)  ⣾  \u001b[2K\u001b[1A\u001b[2K\u001b[1A\u001b[2K\u001b[0G[+] 3.7s\n",
            "Downloading      100%\n",
            "Extracting   (2)  ⣾  \u001b[2K\u001b[1A\u001b[2K\u001b[1A\u001b[2K\u001b[0G[+] 3.8s\n",
            "Downloading      100%\n",
            "Extracting   (2)  ⣾  \u001b[2K\u001b[1A\u001b[2K\u001b[1A\u001b[2K\u001b[0G[+] 3.9s\n",
            "Downloading      100%\n",
            "Extracting   (2)  ⣾  \u001b[2K\u001b[1A\u001b[2K\u001b[1A\u001b[2K\u001b[0G[+] 4.0s\n",
            "Downloading      100%\n",
            "Extracting   (2)  ⣾  \u001b[2K\u001b[1A\u001b[2K\u001b[1A\u001b[2K\u001b[0G[+] 4.1s\n",
            "Downloading      100%\n",
            "Extracting   (2)  ⣾  \u001b[2K\u001b[1A\u001b[2K\u001b[1A\u001b[2K\u001b[0G[+] 4.2s\n",
            "Downloading      100%\n",
            "Extracting   (2)  ⣾  \u001b[2K\u001b[1A\u001b[2K\u001b[1A\u001b[2K\u001b[0G[+] 4.3s\n",
            "Downloading      100%\n",
            "Extracting   (2)  ⣾  \u001b[2K\u001b[1A\u001b[2K\u001b[1A\u001b[2K\u001b[0G[+] 4.4s\n",
            "Downloading      100%\n",
            "Extracting   (2)  ⣾  \u001b[2K\u001b[1A\u001b[2K\u001b[1A\u001b[2K\u001b[0G[+] 4.5s\n",
            "Downloading      100%\n",
            "Extracting   (2)  ⣾  \u001b[2K\u001b[1A\u001b[2K\u001b[1A\u001b[2K\u001b[0G[+] 4.6s\n",
            "Downloading      100%\n",
            "Extracting   (2)  ⣾  \u001b[2K\u001b[1A\u001b[2K\u001b[1A\u001b[2K\u001b[0G[+] 4.7s\n",
            "Downloading      100%\n",
            "Extracting   (2)  ⣾  \u001b[2K\u001b[1A\u001b[2K\u001b[1A\u001b[2K\u001b[0G[+] 4.8s\n",
            "Downloading      100%\n",
            "Extracting   (2)  ⣾  \u001b[2K\u001b[1A\u001b[2K\u001b[1A\u001b[2K\u001b[0G[+] 4.9s\n",
            "Downloading      100%\n",
            "Extracting   (2)  ⣾  \u001b[2K\u001b[1A\u001b[2K\u001b[1A\u001b[2K\u001b[0G[+] 5.0s\n",
            "Downloading      100%\n",
            "Extracting   (1)  ⣾  \u001b[2K\u001b[1A\u001b[2K\u001b[1A\u001b[2K\u001b[0G[+] 5.1s\n",
            "Downloading      100%\n",
            "Extracting   (1)  ⣾  \u001b[2K\u001b[1A\u001b[2K\u001b[1A\u001b[2K\u001b[0G[+] 5.2s\n",
            "Downloading      100%\n",
            "Extracting   (1)  ⣾  \u001b[2K\u001b[1A\u001b[2K\u001b[1A\u001b[2K\u001b[0G[+] 5.3s\n",
            "Downloading      100%\n",
            "Extracting   (1)  ⣾  \u001b[2K\u001b[1A\u001b[2K\u001b[1A\u001b[2K\u001b[0G[+] 5.4s\n",
            "Downloading      100%\n",
            "Extracting   (1)  ⣾  \u001b[2K\u001b[1A\u001b[2K\u001b[1A\u001b[2K\u001b[0G[+] 5.5s\n",
            "Downloading      100%\n",
            "Extracting   (1)  ⣾  \u001b[2K\u001b[1A\u001b[2K\u001b[1A\u001b[2K\u001b[0G[+] 5.6s\n",
            "Downloading      100%\n",
            "Extracting   (1)  ⣾  \u001b[2K\u001b[1A\u001b[2K\u001b[1A\u001b[2K\u001b[0G[+] 5.7s\n",
            "Downloading      100%\n",
            "Extracting   (1)  ⣾  \u001b[2K\u001b[1A\u001b[2K\u001b[1A\u001b[2K\u001b[0G[+] 5.8s\n",
            "Downloading      100%\n",
            "Extracting   (1)  ⣾  \u001b[2K\u001b[1A\u001b[2K\u001b[1A\u001b[2K\u001b[0G[+] 5.9s\n",
            "Downloading      100%\n",
            "Extracting   (1)  ⣾  \u001b[2K\u001b[1A\u001b[2K\u001b[1A\u001b[2K\u001b[0G[+] 6.0s\n",
            "Downloading      100%\n",
            "Extracting   (1)  ⣾  \u001b[2K\u001b[1A\u001b[2K\u001b[1A\u001b[2K\u001b[0G[+] 6.1s\n",
            "Downloading      100%\n",
            "Extracting   (1)  ⣾  \u001b[2K\u001b[1A\u001b[2K\u001b[1A\u001b[2K\u001b[0G[+] 6.2s\n",
            "Downloading      100%\n",
            "Extracting       100%\u001b[2K\u001b[1A\u001b[2K\u001b[1A\u001b[2K\u001b[0G\u001b[?25h\n",
            "Downloading and Extracting Packages:\n",
            "\n",
            "Preparing transaction: - \b\b\\ \b\b| \b\b/ \b\b- \b\b\\ \b\bdone\n",
            "Verifying transaction: / \b\b- \b\b\\ \b\b| \b\b/ \b\b- \b\b\\ \b\b| \b\b/ \b\b- \b\b\\ \b\b| \b\b/ \b\bdone\n",
            "Executing transaction: \\ \b\b| \b\b/ \b\b- \b\b\\ \b\b| \b\b/ \b\b- \b\b\\ \b\b| \b\b/ \b\b- \b\b\\ \b\b| \b\b/ \b\b- \b\b\\ \b\b| \b\b/ \b\b- \b\b\\ \b\b| \b\b/ \b\b- \b\b\\ \b\b| \b\b/ \b\b- \b\b\\ \b\b| \b\b/ \b\b- \b\b\\ \b\b| \b\b/ \b\b- \b\b\\ \b\b| \b\b/ \b\b- \b\b\\ \b\b| \b\b/ \b\b- \b\b\\ \b\b| \b\b/ \b\b- \b\b\\ \b\b| \b\b/ \b\b- \b\b\\ \b\b| \b\b/ \b\b- \b\b\\ \b\b| \b\b/ \b\b- \b\b\\ \b\b| \b\b/ \b\b- \b\b\\ \b\b| \b\b/ \b\b- \b\b\\ \b\b| \b\b/ \b\b- \b\b\\ \b\b| \b\b/ \b\b- \b\b\\ \b\b| \b\b/ \b\b- \b\b\\ \b\b| \b\b/ \b\b- \b\b\\ \b\b| \b\b/ \b\b- \b\b\\ \b\b| \b\b/ \b\b- \b\b\\ \b\b| \b\b/ \b\b- \b\b\\ \b\b| \b\b/ \b\b- \b\b\\ \b\b| \b\b/ \b\b- \b\b\\ \b\b| \b\b/ \b\b- \b\b\\ \b\b| \b\b/ \b\b- \b\b\\ \b\b| \b\b/ \b\b- \b\b\\ \b\b| \b\b/ \b\b- \b\b\\ \b\b| \b\b/ \b\b- \b\b\\ \b\b| \b\b/ \b\b- \b\b\\ \b\b| \b\b/ \b\b- \b\b\\ \b\b| \b\b/ \b\b- \b\b\\ \b\b| \b\b/ \b\b- \b\b\\ \b\b| \b\b/ \b\b- \b\b\\ \b\b| \b\b/ \b\b- \b\b\\ \b\b| \b\b/ \b\b- \b\b\\ \b\b| \b\b/ \b\b- \b\b\\ \b\b| \b\b/ \b\b- \b\b\\ \b\b| \b\b/ \b\b- \b\b\\ \b\b| \b\b/ \b\b- \b\b\\ \b\b| \b\b/ \b\b- \b\b\\ \b\b| \b\b/ \b\b- \b\b\\ \b\b| \b\b/ \b\b- \b\b\\ \b\b| \b\b/ \b\b- \b\b\\ \b\b| \b\b/ \b\b- \b\b\\ \b\b| \b\b/ \b\b- \b\b\\ \b\b| \b\b/ \b\b- \b\b\\ \b\b| \b\b/ \b\b- \b\b\\ \b\b| \b\b/ \b\b- \b\b\\ \b\b| \b\b/ \b\b- \b\b\\ \b\b| \b\b/ \b\b- \b\b\\ \b\b| \b\b/ \b\b- \b\b\\ \b\b| \b\b/ \b\b- \b\b\\ \b\b| \b\b/ \b\b- \b\b\\ \b\b| \b\b/ \b\b- \b\b\\ \b\b| \b\b/ \b\b- \b\b\\ \b\b| \b\b/ \b\b- \b\b\\ \b\b| \b\b/ \b\b- \b\b\\ \b\b| \b\b/ \b\b- \b\b\\ \b\b| \b\b/ \b\b- \b\b\\ \b\b| \b\b/ \b\b- \b\b\\ \b\b| \b\b/ \b\b- \b\b\\ \b\b| \b\b/ \b\b- \b\b\\ \b\b| \b\b/ \b\b- \b\b\\ \b\b| \b\b/ \b\b- \b\b\\ \b\b| \b\b/ \b\bdone\n"
          ]
        }
      ]
    },
    {
      "cell_type": "code",
      "execution_count": 3,
      "metadata": {
        "colab": {
          "base_uri": "https://localhost:8080/"
        },
        "id": "EOaq5S5IaXao",
        "outputId": "04681251-4ee5-4c78-ca6e-bae1d0a2bbe5"
      },
      "outputs": [
        {
          "output_type": "stream",
          "name": "stdout",
          "text": [
            "Collecting rdkit\n",
            "  Downloading rdkit-2025.3.5-cp311-cp311-manylinux_2_28_x86_64.whl.metadata (4.1 kB)\n",
            "Requirement already satisfied: numpy in /usr/local/lib/python3.11/site-packages (from rdkit) (2.3.2)\n",
            "Collecting Pillow (from rdkit)\n",
            "  Downloading pillow-11.3.0-cp311-cp311-manylinux_2_27_x86_64.manylinux_2_28_x86_64.whl.metadata (9.0 kB)\n",
            "Downloading rdkit-2025.3.5-cp311-cp311-manylinux_2_28_x86_64.whl (36.3 MB)\n",
            "\u001b[2K   \u001b[90m━━━━━━━━━━━━━━━━━━━━━━━━━━━━━━━━━━━━━━━━\u001b[0m \u001b[32m36.3/36.3 MB\u001b[0m \u001b[31m126.1 MB/s\u001b[0m eta \u001b[36m0:00:00\u001b[0m\n",
            "\u001b[?25hDownloading pillow-11.3.0-cp311-cp311-manylinux_2_27_x86_64.manylinux_2_28_x86_64.whl (6.6 MB)\n",
            "\u001b[2K   \u001b[90m━━━━━━━━━━━━━━━━━━━━━━━━━━━━━━━━━━━━━━━━\u001b[0m \u001b[32m6.6/6.6 MB\u001b[0m \u001b[31m161.3 MB/s\u001b[0m eta \u001b[36m0:00:00\u001b[0m\n",
            "\u001b[?25hInstalling collected packages: Pillow, rdkit\n",
            "Successfully installed Pillow-11.3.0 rdkit-2025.3.5\n"
          ]
        }
      ],
      "source": [
        "!pip install rdkit"
      ]
    },
    {
      "cell_type": "markdown",
      "source": [
        "### Pull CafChem from Github and import libraries"
      ],
      "metadata": {
        "id": "FWfiX1JaGwlY"
      }
    },
    {
      "cell_type": "code",
      "source": [
        "!git clone https://github.com/MauricioCafiero/CafChem.git"
      ],
      "metadata": {
        "colab": {
          "base_uri": "https://localhost:8080/"
        },
        "id": "uBKIXh6AGfUK",
        "outputId": "9529a5c7-da18-4077-d722-5c073f431957"
      },
      "execution_count": 6,
      "outputs": [
        {
          "output_type": "stream",
          "name": "stdout",
          "text": [
            "Cloning into 'CafChem'...\n",
            "remote: Enumerating objects: 656, done.\u001b[K\n",
            "remote: Counting objects: 100% (233/233), done.\u001b[K\n",
            "remote: Compressing objects: 100% (188/188), done.\u001b[K\n",
            "remote: Total 656 (delta 160), reused 45 (delta 45), pack-reused 423 (from 1)\u001b[K\n",
            "Receiving objects: 100% (656/656), 41.84 MiB | 37.26 MiB/s, done.\n",
            "Resolving deltas: 100% (378/378), done.\n"
          ]
        }
      ]
    },
    {
      "cell_type": "code",
      "source": [
        "import psi4\n",
        "import numpy\n",
        "\n",
        "import CafChem.CafChemPsi4 as ccp4"
      ],
      "metadata": {
        "id": "sPSHzibzbYhq"
      },
      "execution_count": 7,
      "outputs": []
    },
    {
      "cell_type": "markdown",
      "source": [
        "## Calculations with Psi4"
      ],
      "metadata": {
        "id": "zNcyeq8Ta4eg"
      }
    },
    {
      "cell_type": "markdown",
      "source": [
        "### Check number of cores, set cores and memory"
      ],
      "metadata": {
        "id": "CgW0ULGUlo4G"
      }
    },
    {
      "cell_type": "code",
      "source": [
        "import os\n",
        "cpuCount = os.cpu_count()\n",
        "print(cpuCount)"
      ],
      "metadata": {
        "colab": {
          "base_uri": "https://localhost:8080/"
        },
        "id": "MdQ-pNgdidC-",
        "outputId": "9c305d6d-f182-4f0b-8e28-6587586129ad"
      },
      "execution_count": 8,
      "outputs": [
        {
          "output_type": "stream",
          "name": "stdout",
          "text": [
            "8\n"
          ]
        }
      ]
    },
    {
      "cell_type": "code",
      "source": [
        "cores = cpuCount\n",
        "p4_mem = 16"
      ],
      "metadata": {
        "id": "KnIVjOYUh9B-"
      },
      "execution_count": 9,
      "outputs": []
    },
    {
      "cell_type": "markdown",
      "source": [
        "### Energy from a SMILES string"
      ],
      "metadata": {
        "id": "38NDxl1tltZs"
      }
    },
    {
      "cell_type": "code",
      "source": [
        "p4_input = ccp4.smiles_to_psi4('CCO')\n",
        "\n",
        "print(\"starting psi4 energy calculation\")\n",
        "new_calc = ccp4.psi4_calc(p4_mem, cores, \"3-21G\", \"B3LYP\")\n",
        "energy, kcals = new_calc.calc_energy(p4_input)\n",
        "\n",
        "print(\"Calculation done!\")\n",
        "print(f\"Energy = {energy} ha.\")"
      ],
      "metadata": {
        "colab": {
          "base_uri": "https://localhost:8080/"
        },
        "id": "nlApEVsth5Iy",
        "outputId": "a8219a93-237a-48d6-c8ff-992a9ffe7f07"
      },
      "execution_count": 10,
      "outputs": [
        {
          "output_type": "stream",
          "name": "stdout",
          "text": [
            "starting psi4 energy calculation\n",
            "Calculation done!\n",
            "Energy = -154.17906148224927 ha.\n"
          ]
        }
      ]
    },
    {
      "cell_type": "markdown",
      "source": [
        "### Optimization from a SMILES string\n",
        "- saves optimized structure to an XYZ file"
      ],
      "metadata": {
        "id": "bESlfDNTlx35"
      }
    },
    {
      "cell_type": "code",
      "source": [
        "p4_input = ccp4.smiles_to_psi4('CCO')\n",
        "\n",
        "print(\"starting psi4 geometry optimization calculation\")\n",
        "new_calc = ccp4.psi4_calc(p4_mem, cores, \"3-21G\", \"B3LYP\")\n",
        "energy, kcals, new_molecule = new_calc.optimize(p4_input)\n",
        "\n",
        "ccp4.psi4_to_XYZ(new_molecule, \"newmol.XYZ\")\n",
        "\n",
        "print(\"Calculation done!\")\n",
        "print(f\"Energy = {energy} ha.\")"
      ],
      "metadata": {
        "colab": {
          "base_uri": "https://localhost:8080/"
        },
        "id": "FCUqeJZziiQ2",
        "outputId": "bc96bb6d-348b-41b4-e843-e9571d606dc0"
      },
      "execution_count": 11,
      "outputs": [
        {
          "output_type": "stream",
          "name": "stdout",
          "text": [
            "starting psi4 geometry optimization calculation\n"
          ]
        },
        {
          "output_type": "stream",
          "name": "stderr",
          "text": [
            "Some dependencies such as QCElemental have not yet finished migration to pydantic v2. If issues are encountered please downgrade pydantic or upgrade QCElemental as appropriate\n",
            "\tPrevious geometry is closer to target in internal coordinates, so using that one.\n",
            "\n",
            "\tBest geometry has RMS(Delta(q)) = 5.11e-09\n",
            "\n"
          ]
        },
        {
          "output_type": "stream",
          "name": "stdout",
          "text": [
            "Optimizer: Optimization complete!\n",
            "Calculation done!\n",
            "Energy = -154.182122580517 ha.\n"
          ]
        }
      ]
    },
    {
      "cell_type": "markdown",
      "source": [
        "### Energy from an XYZ file"
      ],
      "metadata": {
        "id": "9nt2quBKl6a3"
      }
    },
    {
      "cell_type": "code",
      "source": [
        "p4_input = ccp4.XYZ_to_psi4('newmol.XYZ')\n",
        "\n",
        "print(\"starting psi4 energy calculation\")\n",
        "new_calc = ccp4.psi4_calc(p4_mem, cores, \"3-21G\", \"B3LYP\")\n",
        "energy, kcals = new_calc.calc_energy(p4_input)\n",
        "\n",
        "print(\"Calculation done!\")\n",
        "print(f\"Energy = {energy} ha.\")"
      ],
      "metadata": {
        "colab": {
          "base_uri": "https://localhost:8080/"
        },
        "id": "T2roC2BkjFQB",
        "outputId": "005db800-71b6-4f3f-fdfe-49a6ef828574"
      },
      "execution_count": 12,
      "outputs": [
        {
          "output_type": "stream",
          "name": "stdout",
          "text": [
            "starting psi4 energy calculation\n",
            "Calculation done!\n",
            "Energy = -154.18212258031323 ha.\n"
          ]
        }
      ]
    },
    {
      "cell_type": "markdown",
      "source": [
        "### SAPT calculation from an XYZ file\n",
        "- File must contain 2 molecules\n",
        "- you must provide the number of atoms in the first molecule"
      ],
      "metadata": {
        "id": "-oGs96R8l_QX"
      }
    },
    {
      "cell_type": "code",
      "source": [
        "p4_input = ccp4.XYZ_to_dimer('CafChem/data/dimer.xyz',15, -1, 1, 0, 1)\n",
        "\n",
        "print(\"starting psi4 calculations\")\n",
        "new_calc = ccp4.psi4_calc(p4_mem,cores, \"3-21G\", \"B3LYP\")\n",
        "energy, kcals = new_calc.sapt(p4_input)\n",
        "\n",
        "print(\"Calculation done!\")"
      ],
      "metadata": {
        "colab": {
          "base_uri": "https://localhost:8080/"
        },
        "id": "Ns0pBvFFa6dW",
        "outputId": "efc47c33-d57c-481d-b9ff-ed4dbbcac406"
      },
      "execution_count": 13,
      "outputs": [
        {
          "output_type": "stream",
          "name": "stdout",
          "text": [
            "starting psi4 calculations\n",
            "Printing SAPT energies:\n",
            "=====================================================\n",
            "Electrostatic:            -0.067936 ha     103.34%\n",
            "Exchange:                  0.046330 ha     -70.48%\n",
            "Dispersion:               -0.009225 ha      14.03%\n",
            "Induction:                -0.034907 ha      53.10%\n",
            "Total SAPT:               -0.065738 ha\n",
            "Calculation done!\n"
          ]
        }
      ]
    },
    {
      "cell_type": "code",
      "source": [],
      "metadata": {
        "id": "V8GDQreEme32"
      },
      "execution_count": null,
      "outputs": []
    }
  ]
}