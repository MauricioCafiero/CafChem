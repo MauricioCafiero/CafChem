{
 "cells": [
  {
   "cell_type": "markdown",
   "metadata": {
    "id": "JbittvlsJsI6"
   },
   "source": [
    "#CafChem tools for using a simple AI Agent to perform chemistry-related tasks using HuggingFace models.\n",
    "\n",
    "[![Open In Colab](https://colab.research.google.com/assets/colab-badge.svg)](https://colab.research.google.com/github/MauricioCafiero/CafChem/blob/main/notebooks/ChemAgent_CafChem.ipynb)\n",
    "\n",
    "## This notebook allows you to:\n",
    "- Load a model from HuggingFace\n",
    "- Create a simple Agent using Langchain.\n",
    "- View intermediate results of the Agent.\n",
    "- compare against using the unadorned model.\n",
    "\n",
    "## Requirements:\n",
    "- This notebook will install several langchain and langgraph libraries and rdkit.\n",
    "- Runs well on an L4 GPU (using a 7.67 GB model). Will run on the v2-8 TPU runtime, with only slightly slower inference imes. Cannot run on CPU. (Colab runtimes)"
   ]
  },
  {
   "cell_type": "markdown",
   "metadata": {
    "id": "7aThlnzDSj5G"
   },
   "source": [
    "## Set-up"
   ]
  },
  {
   "cell_type": "markdown",
   "metadata": {
    "id": "cJ0e5Tt8Susd"
   },
   "source": [
    "### Install libraries"
   ]
  },
  {
   "cell_type": "code",
   "execution_count": 1,
   "metadata": {
    "colab": {
     "base_uri": "https://localhost:8080/"
    },
    "id": "McVtr-Fbsx0j",
    "outputId": "05101283-13df-43d4-e714-693ca3eecebb"
   },
   "outputs": [
    {
     "name": "stdout",
     "output_type": "stream",
     "text": [
      "\u001b[2K   \u001b[90m━━━━━━━━━━━━━━━━━━━━━━━━━━━━━━━━━━━━━━━━\u001b[0m \u001b[32m5.3/5.3 MB\u001b[0m \u001b[31m61.3 MB/s\u001b[0m eta \u001b[36m0:00:00\u001b[0m\n",
      "\u001b[2K   \u001b[90m━━━━━━━━━━━━━━━━━━━━━━━━━━━━━━━━━━━━━━━━\u001b[0m \u001b[32m3.3/3.3 MB\u001b[0m \u001b[31m98.9 MB/s\u001b[0m eta \u001b[36m0:00:00\u001b[0m\n",
      "\u001b[2K     \u001b[90m━━━━━━━━━━━━━━━━━━━━━━━━━━━━━━━━━━━━━━━━\u001b[0m \u001b[32m41.9/41.9 kB\u001b[0m \u001b[31m1.7 MB/s\u001b[0m eta \u001b[36m0:00:00\u001b[0m\n",
      "\u001b[2K   \u001b[90m━━━━━━━━━━━━━━━━━━━━━━━━━━━━━━━━━━━━━━━━\u001b[0m \u001b[32m444.0/444.0 kB\u001b[0m \u001b[31m9.8 MB/s\u001b[0m eta \u001b[36m0:00:00\u001b[0m\n",
      "\u001b[2K   \u001b[90m━━━━━━━━━━━━━━━━━━━━━━━━━━━━━━━━━━━━━━━━\u001b[0m \u001b[32m378.5/378.5 kB\u001b[0m \u001b[31m27.0 MB/s\u001b[0m eta \u001b[36m0:00:00\u001b[0m\n",
      "\u001b[2K   \u001b[90m━━━━━━━━━━━━━━━━━━━━━━━━━━━━━━━━━━━━━━━━\u001b[0m \u001b[32m132.9/132.9 kB\u001b[0m \u001b[31m11.6 MB/s\u001b[0m eta \u001b[36m0:00:00\u001b[0m\n",
      "\u001b[2K   \u001b[90m━━━━━━━━━━━━━━━━━━━━━━━━━━━━━━━━━━━━━━━━\u001b[0m \u001b[32m54.5/54.5 kB\u001b[0m \u001b[31m4.3 MB/s\u001b[0m eta \u001b[36m0:00:00\u001b[0m\n",
      "\u001b[2K   \u001b[90m━━━━━━━━━━━━━━━━━━━━━━━━━━━━━━━━━━━━━━━━\u001b[0m \u001b[32m5.5/5.5 MB\u001b[0m \u001b[31m92.5 MB/s\u001b[0m eta \u001b[36m0:00:00\u001b[0m\n",
      "\u001b[2K     \u001b[90m━━━━━━━━━━━━━━━━━━━━━━━━━━━━━━━━━━━━━━━━\u001b[0m \u001b[32m73.9/73.9 kB\u001b[0m \u001b[31m3.4 MB/s\u001b[0m eta \u001b[36m0:00:00\u001b[0m\n",
      "\u001b[2K   \u001b[90m━━━━━━━━━━━━━━━━━━━━━━━━━━━━━━━━━━━━━━━━\u001b[0m \u001b[32m2.5/2.5 MB\u001b[0m \u001b[31m38.5 MB/s\u001b[0m eta \u001b[36m0:00:00\u001b[0m\n",
      "\u001b[2K   \u001b[90m━━━━━━━━━━━━━━━━━━━━━━━━━━━━━━━━━━━━━━━━\u001b[0m \u001b[32m1.7/1.7 MB\u001b[0m \u001b[31m65.4 MB/s\u001b[0m eta \u001b[36m0:00:00\u001b[0m\n",
      "\u001b[2K   \u001b[90m━━━━━━━━━━━━━━━━━━━━━━━━━━━━━━━━━━━━━━━━\u001b[0m \u001b[32m1.0/1.0 MB\u001b[0m \u001b[31m47.3 MB/s\u001b[0m eta \u001b[36m0:00:00\u001b[0m\n",
      "\u001b[2K   \u001b[90m━━━━━━━━━━━━━━━━━━━━━━━━━━━━━━━━━━━━━━━━\u001b[0m \u001b[32m45.2/45.2 kB\u001b[0m \u001b[31m3.7 MB/s\u001b[0m eta \u001b[36m0:00:00\u001b[0m\n",
      "\u001b[2K   \u001b[90m━━━━━━━━━━━━━━━━━━━━━━━━━━━━━━━━━━━━━━━━\u001b[0m \u001b[32m64.7/64.7 kB\u001b[0m \u001b[31m5.7 MB/s\u001b[0m eta \u001b[36m0:00:00\u001b[0m\n",
      "\u001b[2K   \u001b[90m━━━━━━━━━━━━━━━━━━━━━━━━━━━━━━━━━━━━━━━━\u001b[0m \u001b[32m3.3/3.3 MB\u001b[0m \u001b[31m96.4 MB/s\u001b[0m eta \u001b[36m0:00:00\u001b[0m\n",
      "\u001b[2K   \u001b[90m━━━━━━━━━━━━━━━━━━━━━━━━━━━━━━━━━━━━━━━━\u001b[0m \u001b[32m241.8/241.8 kB\u001b[0m \u001b[31m18.9 MB/s\u001b[0m eta \u001b[36m0:00:00\u001b[0m\n",
      "\u001b[2K   \u001b[90m━━━━━━━━━━━━━━━━━━━━━━━━━━━━━━━━━━━━━━━━\u001b[0m \u001b[32m607.6/607.6 kB\u001b[0m \u001b[31m36.1 MB/s\u001b[0m eta \u001b[36m0:00:00\u001b[0m\n",
      "\u001b[2K   \u001b[90m━━━━━━━━━━━━━━━━━━━━━━━━━━━━━━━━━━━━━━━━\u001b[0m \u001b[32m50.9/50.9 kB\u001b[0m \u001b[31m4.3 MB/s\u001b[0m eta \u001b[36m0:00:00\u001b[0m\n",
      "\u001b[2K   \u001b[90m━━━━━━━━━━━━━━━━━━━━━━━━━━━━━━━━━━━━━━━━\u001b[0m \u001b[32m224.4/224.4 kB\u001b[0m \u001b[31m18.3 MB/s\u001b[0m eta \u001b[36m0:00:00\u001b[0m\n",
      "\u001b[2K   \u001b[90m━━━━━━━━━━━━━━━━━━━━━━━━━━━━━━━━━━━━━━━━\u001b[0m \u001b[32m355.6/355.6 kB\u001b[0m \u001b[31m27.5 MB/s\u001b[0m eta \u001b[36m0:00:00\u001b[0m\n",
      "\u001b[2K   \u001b[90m━━━━━━━━━━━━━━━━━━━━━━━━━━━━━━━━━━━━━━━━\u001b[0m \u001b[32m1.8/1.8 MB\u001b[0m \u001b[31m66.8 MB/s\u001b[0m eta \u001b[36m0:00:00\u001b[0m\n",
      "\u001b[?25h\u001b[31mERROR: pip's dependency resolver does not currently take into account all the packages that are installed. This behaviour is the source of the following dependency conflicts.\n",
      "google-colab 1.0.0 requires requests==2.32.4, but you have requests 2.32.5 which is incompatible.\u001b[0m\u001b[31m\n",
      "\u001b[0mCollecting duckduckgo-search\n",
      "  Downloading duckduckgo_search-8.1.1-py3-none-any.whl.metadata (16 kB)\n",
      "Requirement already satisfied: click>=8.1.8 in /usr/local/lib/python3.12/dist-packages (from duckduckgo-search) (8.2.1)\n",
      "Requirement already satisfied: primp>=0.15.0 in /usr/local/lib/python3.12/dist-packages (from duckduckgo-search) (0.15.0)\n",
      "Requirement already satisfied: lxml>=5.3.0 in /usr/local/lib/python3.12/dist-packages (from duckduckgo-search) (6.0.1)\n",
      "Downloading duckduckgo_search-8.1.1-py3-none-any.whl (18 kB)\n",
      "Installing collected packages: duckduckgo-search\n",
      "Successfully installed duckduckgo-search-8.1.1\n"
     ]
    }
   ],
   "source": [
    "!pip install -U ddgs -q\n",
    "!pip install --upgrade --quiet  langchain-huggingface\n",
    "!pip install langchain_core --quiet\n",
    "! pip -q install langchain_community\n",
    "!pip install -q langgraph\n",
    "!pip install duckduckgo-search\n",
    "! pip install rdkit -q"
   ]
  },
  {
   "cell_type": "markdown",
   "metadata": {
    "id": "AtMrObKoSqVJ"
   },
   "source": [
    "### Import libraries and start the model"
   ]
  },
  {
   "cell_type": "code",
   "execution_count": 2,
   "metadata": {
    "id": "hAwXlc9gs5fU"
   },
   "outputs": [],
   "source": [
    "import torch\n",
    "from typing import Annotated, TypedDict\n",
    "from langchain_community.tools import DuckDuckGoSearchRun\n",
    "from langchain_core.tools import tool\n",
    "from langgraph.prebuilt import ToolNode, tools_condition\n",
    "from langgraph.graph import StateGraph, START, END\n",
    "from langgraph.graph.message import add_messages\n",
    "from langchain_core.messages import SystemMessage, trim_messages, AIMessage, HumanMessage, ToolCall\n",
    "\n",
    "from langchain_huggingface.llms import HuggingFacePipeline\n",
    "from langchain_huggingface import ChatHuggingFace\n",
    "from langchain_core.prompts import PromptTemplate, ChatPromptTemplate\n",
    "from langchain_core.runnables import chain\n",
    "from uuid import uuid4\n",
    "import re\n",
    "import matplotlib.pyplot as plt\n",
    "\n",
    "from rdkit import Chem\n",
    "from rdkit.Chem import AllChem, QED\n",
    "from rdkit.Chem import Draw\n",
    "from rdkit import rdBase\n",
    "from rdkit.Chem import rdMolAlign\n",
    "import os\n",
    "from rdkit import RDConfig\n",
    "from rdkit.Chem.Features.ShowFeats import _featColors as featColors\n",
    "from rdkit.Chem.FeatMaps import FeatMaps\n",
    "\n",
    "fdef = AllChem.BuildFeatureFactory(os.path.join(RDConfig.RDDataDir,'BaseFeatures.fdef'))\n",
    "\n",
    "fmParams = {}\n",
    "for k in fdef.GetFeatureFamilies():\n",
    "    fparams = FeatMaps.FeatMapParams()\n",
    "    fmParams[k] = fparams\n",
    "\n",
    "device = \"cuda\" if torch.cuda.is_available() else \"cpu\""
   ]
  },
  {
   "cell_type": "code",
   "execution_count": 3,
   "metadata": {
    "colab": {
     "base_uri": "https://localhost:8080/",
     "height": 485,
     "referenced_widgets": [
      "b7fb9f7e28d54445af7b2a59a00a5c34",
      "11340b10e9f04396bd14cc26852476e4",
      "27449d95ac6b42bb86ff338361b001d9",
      "06da889601d949f390dd47d54c0e20b7",
      "46d20142d2bc414881674d49edd5363d",
      "07a257322b9b4ebc816213948bc310a9",
      "013034c983f14919b1cea64a58153036",
      "54b06bb89b4648769bec092af8c7ec76",
      "be4c43480ba84b17aecdf53c0efe177c",
      "e227824135b44d8da4d21ec902ca0f9b",
      "8303ef2913264753bda1849522c1c950",
      "2e29c959654147a6afbd2b282ea916be",
      "c2ea9cb3c75640bd944ed5c3d1a44cf4",
      "de34b9151365471ab928c998d631e6b9",
      "2cf54e58cd994086a3f8090eb7858d5f",
      "7994ab2cb9b948adbad0cb30b2b725c8",
      "b875468b60964eb48b834a7418b159a7",
      "4db33b83ff0f42379939e4f925eab8fa",
      "91545c36ab8843d0a5fc7621f3b6b166",
      "8d34655085fb41f28d9c1e487c0fb2b8",
      "66f131d2839e4df68deafe730c3e113e",
      "214ed38183f04a0eaba83acb48589229",
      "39139b13f0d845e7870bdace3cdae868",
      "fa1642c849784d32b205bd10ecb9d02a",
      "26703c06e98b4a0e93feab2fb3f0fc4e",
      "265afe17fbf84dc7962808db51ccee86",
      "290d03b04b384ba6aef91f89ecb1d81e",
      "4e392548a22a4917a06d1e4a40e23e3e",
      "24effe42912947d18236fe0f575a6089",
      "7ac5f117f857410086373a8016b62a25",
      "8a74896cfdbb4c67bfb9ef76da163fce",
      "a79f44052822467bab600deb3c4cb482",
      "89a3ff7e992d48a8a8152e1c0f6ddbfc",
      "4db225b553a44d99bbc93a91b087e872",
      "776256a45d1e4efdad01aade0fa91bcf",
      "4ca09254a6bd4e69b5ad5125770d472a",
      "0eaa831a72fc48c18f268bc4f4eaac4d",
      "d26b97b0faa440f489055b2f0030dca9",
      "fa30bb49d7b54c839832d3384959bf3c",
      "340f8db185d840c18db1a46f3f561781",
      "e23d471611ae4ce4833a64e925cc32e1",
      "9aab288b54104634a8eea8449d4a3053",
      "2960ac7a89ae40b6882fb8d241bd3bbc",
      "bf6b649f58e64d6280bcad3c5387c530",
      "3ba385f46d5244f48296b49ae1c7e715",
      "ce9ec5e43c334e15bb89337a85ccd559",
      "40158b7649dd4a27b9dc6d35c92501e3",
      "e2a74a9bbff64941b75d4b6e83b83c52",
      "f7f2ef8b2da64e9699d1de4e1a9f6e99",
      "549382d49b9b496eb7d02a6dbd62551f",
      "121d941a0d0a497f8732dfe977daadb0",
      "ad359fe3ec85486099a3ec2e6c0b593e",
      "2609782128fd4fdf817d3d638f8cc350",
      "59a215cea6dd46ca8db4b1ce5b4d795c",
      "cb5204b045b7437d8fa0678cd71ef241",
      "ff5482b1efda4e0d923346209a99b2cb",
      "a1bcde5e5d3d412b911dd0f07f94149a",
      "fdeac49c343d4148830c41be5128c5a5",
      "70abf7a34b35442695d8803dbf9a62f3",
      "fd744a71c168467ab0d2752fdb15db63",
      "3617b31026db4e379cee86c206778293",
      "0dfa528ee5ef4ef180b91f9b66125cd9",
      "fc9b3f49a4064889b2e59d4b6b94b3c1",
      "0f7b1aa1b4a44330b58ffb31697b97a8",
      "b05f73f020704235832238b24b8da47e",
      "4313cf3c05154b87ab6a01f3f1627d01",
      "079d7e4dcd7f4eab8cafd1cde7d46860",
      "933783914b4346f6862a39eaaf0d2e46",
      "da66af1301344c8687f59ce6457792a5",
      "ad405d7fe5b2437e944e50dbf4000a4e",
      "d248b48f8d614b1682f7129070220078",
      "bb654979ff9744988cef34596f765230",
      "8964c665ff0949c4883301bbbbd07fbb",
      "224a4634d3c34948844725caca7c6c7b",
      "0bf5229883ae4ecc83e6d01f1756854a",
      "2fed1de998584232b8afb2531ec43363",
      "65a895be37804c3495055533d95a1795",
      "66f5daabbbd64dd584e25a88d3ee82db",
      "b5353a74c06c4d249633abe612f9bebe",
      "0719a5851a6d44c98957765c9fc5719f",
      "2a453e1f536b4664a9e7ce70d65d947d",
      "4bd5a5f5c3db427d87fe08a8e2bf84b1",
      "af1433687e634264a0ee95ab2fb8bac4",
      "7dae5390428d43aba86606cc2a87679a",
      "24471157b1b245118dbd532031c1545e",
      "12b5506e57664711ba4dab9e800ec75a",
      "a77a1acc63ef46508a73f54973810c4e",
      "a520623c45e546748bf799821a0016bb",
      "48ab06ccb7834c2faebb06ec11943351",
      "7aeed59eed03472db72466762fd2c5ae",
      "a5da7125de3d4a709a31641b2e3301c1",
      "8b4b223fb13c4bdd9455dad875b564fd",
      "ef8afc35fe184a108b14bf6b9a29cf24",
      "08a0146cad1440a9bcdfc1bb9534a95c",
      "1cd511ec056a4cb89d6a0c1f79e02589",
      "6510f9925acf4294bb1d7ec8c29ca3f6",
      "47583f9340c8401f89045abfa6f798bc",
      "61223053764548fdb87778ae9911c53e",
      "7dc64bd8d8ef492db6006b3c2b56078c",
      "2b71962d5878439d97301d911a137f9f",
      "f2242d86bd5b4ce49af9393e5b4d0164",
      "303e63ab76c248bba005950b06fc3c0c",
      "e8dca751f3ed477fbd0500f365da990e",
      "9e3f1fc708d34c0fb9dc2cb90a69eba2",
      "926c9b2d602643a08b332934a4f768bc",
      "42708b26474b46dfb2066f6f5b2b2fe6",
      "cf436239bb4c4f9989afe580d3f9cf1a",
      "379234c0d0044baf94d63f3a3e9c5037",
      "e9023eadce484ab4a0c11110957b95ef",
      "d6cf4751da084c918d11b51de05b4b8b",
      "c36c2cf596fc4955bb0e6bf89e240dac",
      "c36bb45ef1044c608322e0aa91ad79f2",
      "9bfd0d3b7db4468bb81fb101e7f29714",
      "722a43aff6cd4d3b83b1f5dfaee6d731",
      "553b7151fe6047f8a5816cd8f5ed491c",
      "df3055ea610a4796939a4d33dee855e8",
      "39734c36604b43e6a87fa2f570ecb1fb",
      "ea17cf727a87465ba78d2bb40ddb972c",
      "a602a8a588474b4bb817a220d24b2890",
      "e72349d2f066499eb43321e1e0b4d7f1",
      "face30984f8f4f089d88dfba31d60d03",
      "dc0b0cd06c504dd9af54c31b90d89d37",
      "5503d7c077dc4549831238b2cd732ecd",
      "c3d114d342cd460a8cf686a5cdfc3cd6",
      "1082f0a2a0ff41c9bdf1635169bdba1b",
      "6026474ee1a24864906b9cba21873195",
      "948a2f91ae6e4972b6d28152110143c4",
      "810c44c3d0b24417a00026a9e17497d8",
      "da3d4bed92f449da9a831941734a5a39",
      "1fa94c77484b46f39e5e5d69f1817516",
      "c0f66063badb40a0b9bb135b3d6e3796",
      "8d115c4905e649b888e7e3da57eafe14",
      "80cbf4a8979241678bf139a64c40c440",
      "fdc81a7db98f4573b2a74f3da048e6a6",
      "436e41c771184cb9bc216ef0c8db05a7",
      "676e02865511432abb71c36ed5e33428",
      "d8f8fa2e6f2541aeb29561982282f067",
      "d56743797235492b990263b6f790768f",
      "a4e00e2ec7484fc2980b5ff5ad2379ff",
      "3e65f885f963458398508d27c7895a5b",
      "a798d7ea0c674818a4dafd644c3a8b77",
      "003a35ae8eec41ce8295c1af053d7024",
      "facd88576344465d885d37283800087c"
     ]
    },
    "id": "dIXksBtjtLyR",
    "outputId": "e526bf94-30b2-4909-e522-9f177bf83e32"
   },
   "outputs": [
    {
     "name": "stderr",
     "output_type": "stream",
     "text": [
      "/usr/local/lib/python3.12/dist-packages/torch_xla/experimental/gru.py:113: SyntaxWarning: invalid escape sequence '\\_'\n",
      "  * **h_n**: tensor of shape :math:`(D * \\text{num\\_layers}, H_{out})` or\n"
     ]
    },
    {
     "data": {
      "application/vnd.jupyter.widget-view+json": {
       "model_id": "b7fb9f7e28d54445af7b2a59a00a5c34",
       "version_major": 2,
       "version_minor": 0
      },
      "text/plain": [
       "tokenizer_config.json: 0.00B [00:00, ?B/s]"
      ]
     },
     "metadata": {},
     "output_type": "display_data"
    },
    {
     "data": {
      "application/vnd.jupyter.widget-view+json": {
       "model_id": "2e29c959654147a6afbd2b282ea916be",
       "version_major": 2,
       "version_minor": 0
      },
      "text/plain": [
       "vocab.json: 0.00B [00:00, ?B/s]"
      ]
     },
     "metadata": {},
     "output_type": "display_data"
    },
    {
     "data": {
      "application/vnd.jupyter.widget-view+json": {
       "model_id": "39139b13f0d845e7870bdace3cdae868",
       "version_major": 2,
       "version_minor": 0
      },
      "text/plain": [
       "merges.txt: 0.00B [00:00, ?B/s]"
      ]
     },
     "metadata": {},
     "output_type": "display_data"
    },
    {
     "data": {
      "application/vnd.jupyter.widget-view+json": {
       "model_id": "4db225b553a44d99bbc93a91b087e872",
       "version_major": 2,
       "version_minor": 0
      },
      "text/plain": [
       "tokenizer.json:   0%|          | 0.00/15.5M [00:00<?, ?B/s]"
      ]
     },
     "metadata": {},
     "output_type": "display_data"
    },
    {
     "data": {
      "application/vnd.jupyter.widget-view+json": {
       "model_id": "3ba385f46d5244f48296b49ae1c7e715",
       "version_major": 2,
       "version_minor": 0
      },
      "text/plain": [
       "added_tokens.json:   0%|          | 0.00/249 [00:00<?, ?B/s]"
      ]
     },
     "metadata": {},
     "output_type": "display_data"
    },
    {
     "data": {
      "application/vnd.jupyter.widget-view+json": {
       "model_id": "ff5482b1efda4e0d923346209a99b2cb",
       "version_major": 2,
       "version_minor": 0
      },
      "text/plain": [
       "special_tokens_map.json:   0%|          | 0.00/587 [00:00<?, ?B/s]"
      ]
     },
     "metadata": {},
     "output_type": "display_data"
    },
    {
     "data": {
      "application/vnd.jupyter.widget-view+json": {
       "model_id": "079d7e4dcd7f4eab8cafd1cde7d46860",
       "version_major": 2,
       "version_minor": 0
      },
      "text/plain": [
       "config.json: 0.00B [00:00, ?B/s]"
      ]
     },
     "metadata": {},
     "output_type": "display_data"
    },
    {
     "data": {
      "application/vnd.jupyter.widget-view+json": {
       "model_id": "66f5daabbbd64dd584e25a88d3ee82db",
       "version_major": 2,
       "version_minor": 0
      },
      "text/plain": [
       "model.safetensors.index.json: 0.00B [00:00, ?B/s]"
      ]
     },
     "metadata": {},
     "output_type": "display_data"
    },
    {
     "data": {
      "application/vnd.jupyter.widget-view+json": {
       "model_id": "48ab06ccb7834c2faebb06ec11943351",
       "version_major": 2,
       "version_minor": 0
      },
      "text/plain": [
       "Fetching 2 files:   0%|          | 0/2 [00:00<?, ?it/s]"
      ]
     },
     "metadata": {},
     "output_type": "display_data"
    },
    {
     "data": {
      "application/vnd.jupyter.widget-view+json": {
       "model_id": "2b71962d5878439d97301d911a137f9f",
       "version_major": 2,
       "version_minor": 0
      },
      "text/plain": [
       "model-00002-of-00002.safetensors:   0%|          | 0.00/2.77G [00:00<?, ?B/s]"
      ]
     },
     "metadata": {},
     "output_type": "display_data"
    },
    {
     "data": {
      "application/vnd.jupyter.widget-view+json": {
       "model_id": "c36c2cf596fc4955bb0e6bf89e240dac",
       "version_major": 2,
       "version_minor": 0
      },
      "text/plain": [
       "model-00001-of-00002.safetensors:   0%|          | 0.00/4.90G [00:00<?, ?B/s]"
      ]
     },
     "metadata": {},
     "output_type": "display_data"
    },
    {
     "data": {
      "application/vnd.jupyter.widget-view+json": {
       "model_id": "dc0b0cd06c504dd9af54c31b90d89d37",
       "version_major": 2,
       "version_minor": 0
      },
      "text/plain": [
       "Loading checkpoint shards:   0%|          | 0/2 [00:00<?, ?it/s]"
      ]
     },
     "metadata": {},
     "output_type": "display_data"
    },
    {
     "data": {
      "application/vnd.jupyter.widget-view+json": {
       "model_id": "80cbf4a8979241678bf139a64c40c440",
       "version_major": 2,
       "version_minor": 0
      },
      "text/plain": [
       "generation_config.json:   0%|          | 0.00/168 [00:00<?, ?B/s]"
      ]
     },
     "metadata": {},
     "output_type": "display_data"
    },
    {
     "name": "stderr",
     "output_type": "stream",
     "text": [
      "Device set to use cpu\n"
     ]
    }
   ],
   "source": [
    "hf = HuggingFacePipeline.from_model_id(\n",
    "    model_id=\"microsoft/Phi-4-mini-instruct\",\n",
    "    task=\"text-generation\",\n",
    "    pipeline_kwargs = {\"max_new_tokens\": 500, \"temperature\": 0.4})\n",
    "\n",
    "chat_model = ChatHuggingFace(llm=hf)"
   ]
  },
  {
   "cell_type": "markdown",
   "metadata": {
    "id": "tn0Qb6etSyQf"
   },
   "source": [
    "## Define Functions"
   ]
  },
  {
   "cell_type": "markdown",
   "metadata": {
    "id": "KH5j6oJWom_n"
   },
   "source": [
    "### Chemistry Functions"
   ]
  },
  {
   "cell_type": "code",
   "execution_count": 20,
   "metadata": {
    "id": "avbVzIINoo6s"
   },
   "outputs": [],
   "source": [
    "def substitution_tool(smiles: str) -> list:\n",
    "  '''\n",
    "    A simple substitution routine that looks for a substituent on a phenyl ring and\n",
    "    substitutes different fragments in that location. Returns a list of novel molecules and their\n",
    "    QED score (1 is most drug-like, 0 is least drug-like).\n",
    "\n",
    "      Args:\n",
    "        smiles: the input smiles string\n",
    "      Returns:\n",
    "        new_smiles_string: a string of novel molecules and their QED scores.\n",
    "  '''\n",
    "  new_fragments = [\"c(Cl)c\", \"c(F)c\", \"c(O)c\", \"c(C)c\", \"c(OC)c\", \"c([NH3+])c\",\n",
    "                   \"c(Br)c\", \"c(C(F)(F)(F))c\"]\n",
    "\n",
    "  new_smiles = []\n",
    "  for fragment in new_fragments:\n",
    "    m = re.findall(r\"c(\\D\\D*)c\", smiles)\n",
    "    if len(m) != 0:\n",
    "      for group in m:\n",
    "        #print(group)\n",
    "        if fragment not in group:\n",
    "          new_smile = smiles.replace(group[1:], fragment)\n",
    "          new_smiles.append(new_smile)\n",
    "\n",
    "  qeds = []\n",
    "  for new_smile in new_smiles:\n",
    "    qeds.append(get_qed(new_smile))\n",
    "\n",
    "  new_smiles_string = \"Novel Molecules or Analogues and QED values: \\n\"\n",
    "  for i in range(len(new_smiles)):\n",
    "    new_smiles_string += f\"SMILES: {new_smiles[i]}, QED: {qeds[i]:.3f}\\n\"\n",
    "\n",
    "  return new_smiles_string\n",
    "\n",
    "def get_qed(smiles):\n",
    "  '''\n",
    "    Helper function to compute QED for a given molecule.\n",
    "      Args:\n",
    "        smiles: the input smiles string\n",
    "      Returns:\n",
    "        qed: the QED score of the molecule.\n",
    "  '''\n",
    "  mol = Chem.MolFromSmiles(smiles)\n",
    "  qed = Chem.QED.default(mol)\n",
    "\n",
    "  return qed\n",
    "\n",
    "def lipinski_tool(smiles):\n",
    "  '''\n",
    "    A tool to calculate QED and other lipinski properties of a molecule.\n",
    "      Args:\n",
    "        smiles: the input smiles string\n",
    "      Returns:\n",
    "        props_string: a string of the QED and other lipinski properties of the molecule,\n",
    "                      including Molecular Weight, LogP, HBA, HBD, Polar Surface Area,\n",
    "                      Rotatable Bonds, Aromatic Rings and Undesireable Moieties.\n",
    "  '''\n",
    "  mol = Chem.MolFromSmiles(smiles)\n",
    "  qed = Chem.QED.default(mol)\n",
    "\n",
    "  p = Chem.QED.properties(mol)\n",
    "  mw = p[0]\n",
    "  logP = p[1]\n",
    "  hba = p[2]\n",
    "  hbd = p[3]\n",
    "  psa = p[4]\n",
    "  rb = p[5]\n",
    "  ar = p[6]\n",
    "  um = p[7]\n",
    "\n",
    "  props_string = f'''QED and other lipinski properties of the molecule:\n",
    "    SMILES: {smiles},\n",
    "    QED: {qed:.3f},\n",
    "    Molecular Weight: {mw:.3f},\n",
    "    LogP: {logP:.3f},\n",
    "    Hydrogen bond acceptors: {hba},\n",
    "    Hydrogen bond donors: {hbd},\n",
    "    Polar Surface Area: {psa:.3f},\n",
    "    Rotatable Bonds: {rb},\n",
    "    Aromatic Rings: {ar},\n",
    "    Undesireable moieties: {um}\n",
    "  '''\n",
    "\n",
    "  return props_string\n",
    "\n",
    "def pharm_feature_tool(known_smiles, test_smiles):\n",
    "  '''\n",
    "    A tool to compare the pharmacophore features of a query molecule against\n",
    "    a those of a reference molecule and report the pharmacophore features of both and the feature\n",
    "    score of the query molecule.\n",
    "\n",
    "      Args:\n",
    "        known_smiles: the reference smiles string\n",
    "        test_smiles: the query smiles string\n",
    "      Returns:\n",
    "        props_string: a string of the pharmacophore features of both molecules and the feature\n",
    "                      score of the query molecule.\n",
    "  '''\n",
    "  smiles = [known_smiles, test_smiles]\n",
    "  mols = [Chem.MolFromSmiles(x) for x in smiles]\n",
    "\n",
    "  mols = [Chem.AddHs(m) for m in mols]\n",
    "  ps = AllChem.ETKDGv3()\n",
    "\n",
    "  for m in mols:\n",
    "      AllChem.EmbedMolecule(m,ps)\n",
    "\n",
    "  o3d = rdMolAlign.GetO3A(mols[1],mols[0])\n",
    "  o3d.Align()\n",
    "\n",
    "  keep = ('Donor', 'Acceptor', 'NegIonizable', 'PosIonizable', 'ZnBinder', 'Aromatic', 'LumpedHydrophobe')\n",
    "  feat_hash = {'Donor': 'Hydrogen bond donors', 'Acceptor': 'Hydrogen bond acceptors',\n",
    "               'NegIonizable': 'Negatively ionizable groups', 'PosIonizable': 'Positively ionizable groups',\n",
    "               'ZnBinder': 'Zinc Binders', 'Aromatic': 'Aromatic rings', 'LumpedHydrophobe': 'Hydrophobic/non-polar groups' }\n",
    "\n",
    "  feat_vectors = []\n",
    "  for m in mols:\n",
    "      rawFeats = fdef.GetFeaturesForMol(m)\n",
    "      feat_vectors.append([f for f in rawFeats if f.GetFamily() in keep])\n",
    "\n",
    "  feat_maps = [FeatMaps.FeatMap(feats = x,weights=[1]*len(x),params=fmParams) for x in feat_vectors]\n",
    "  test_score = feat_maps[0].ScoreFeats(feat_maps[1].GetFeatures())/min(feat_maps[1].GetNumFeatures(),feat_maps[0].GetNumFeatures())\n",
    "\n",
    "  feats_known = {}\n",
    "  feats_test = {}\n",
    "  for feat in feat_vectors[0]:\n",
    "    if feat.GetFamily() not in feats_known.keys():\n",
    "      feats_known[feat.GetFamily()]  = 1\n",
    "    else:\n",
    "      feats_known[feat.GetFamily()] += 1\n",
    "\n",
    "  for feat in feat_vectors[1]:\n",
    "    if feat.GetFamily() not in feats_test.keys():\n",
    "      feats_test[feat.GetFamily()]  = 1\n",
    "    else:\n",
    "      feats_test[feat.GetFamily()] += 1\n",
    "\n",
    "  props_string = f\"The Pharmacophore Feature Overlap Score of the test molecule \\\n",
    "versus the reference molecule is {test_score:.3f}. \\n\\n\"\n",
    "\n",
    "  for feat in feats_known.keys():\n",
    "    props_string += f\"There are {feats_known[feat]} {feat_hash[feat]} in the reference molecule. \\n\"\n",
    "\n",
    "  for feat in feats_test.keys():\n",
    "    props_string += f\"There are {feats_test[feat]} {feat_hash[feat]} in the test molecule. \\n\"\n",
    "\n",
    "  return props_string"
   ]
  },
  {
   "cell_type": "markdown",
   "metadata": {
    "id": "TuoRkWeDpdFG"
   },
   "source": [
    "### Agent-related functions"
   ]
  },
  {
   "cell_type": "code",
   "execution_count": 12,
   "metadata": {
    "id": "pBUbWnNGtW8t"
   },
   "outputs": [],
   "source": [
    "class State(TypedDict):\n",
    "  '''\n",
    "    The state of the agent.\n",
    "  '''\n",
    "  messages: Annotated[list, add_messages]\n",
    "\n",
    "def first_node(state: State) -> State:\n",
    "  '''\n",
    "    The first node of the agent. This node receives the input and asks the LLM\n",
    "    to determine which is the best tool to use to answer the QUERY TASK.\n",
    "\n",
    "      Input: the initial prompt from the user. should contain only one of more of the following:\n",
    "\n",
    "             smiles: the smiles string, task: the query task, path: the path to the file,\n",
    "             reference: the reference smiles\n",
    "\n",
    "             the value should be separated from the name by a ':' and each field should\n",
    "             be separated from the previous one by a ','.\n",
    "\n",
    "      Output: the smiles string and the QUERY TASK.\n",
    "  '''\n",
    "  query_smiles = None\n",
    "  query_task = None\n",
    "  query_path = None\n",
    "  query_reference = None\n",
    "\n",
    "  raw_input = state[\"messages\"][-1].content\n",
    "  parts = raw_input.split(',')\n",
    "  for part in parts:\n",
    "    if 'smiles' in part:\n",
    "      query_smiles = part.split(':')[1]\n",
    "    if 'task' in part:\n",
    "      query_task = part.split(':')[1]\n",
    "    if 'path' in part:\n",
    "      query_path = part.split(':')[1]\n",
    "    if 'reference' in part:\n",
    "      query_reference = part.split(':')[1]\n",
    "  #print(query_smiles, query_task)\n",
    "\n",
    "  prompt = f'For the QUERY_TASK given below, determine if one of the tools descibed below \\\n",
    "can complete the task. If so, reply with only the tool name followed by \"#\". \\\n",
    "If the tools cannot complete the task, reply with \"None #\".\\n SMILES: {query_smiles}, \\\n",
    "QUERY_TASK: {query_task}.\\n \\\n",
    "Tools: \\n \\\n",
    "lipinski_tool: this tool can calculate the following properties: Quantitative \\\n",
    "Estimate of Drug-likeness (QED), Molecular weight, LogP (measures lipophilicity, higher is more lipophilic), \\\n",
    "HBA, HBD, Polar Surface Area, Rotatable Bonds, Aromatic Rings and Undesireable Moieties. \\n \\\n",
    "substitution_tool: this tool can generate analogues of the molecule by substituting \\\n",
    "different chemical groups on the original molecule. Returns a list of novel molecules and their \\\n",
    "QED score (1 is most drug-like, 0 is least drug-like). \\n \\\n",
    "pharm_feature_tool: this tool can compare the pharmacophore features of a query molecule against \\\n",
    "a those of a reference molecule and report the pharmacophore features of both and the feature \\\n",
    "score of the query molecule. This score tells how the common features score against each other, but \\\n",
    "does not inform about features unique to each molecule.'\n",
    "\n",
    "  res = chat_model.invoke(prompt)\n",
    "  #print(res)\n",
    "\n",
    "  tool = str(res).split('<|assistant|>')[1].split('#')[0].strip()\n",
    "  answer = f\"{tool}\"\n",
    "  if query_smiles is not None:\n",
    "    answer += f\", query smiles: {query_smiles}\"\n",
    "  if query_path is not None:\n",
    "    answer += f\", query path: {query_path}\"\n",
    "  if query_reference is not None:\n",
    "    answer += f\", query reference: {query_reference}\"\n",
    "\n",
    "  return {\"messages\": answer}\n",
    "\n",
    "def router_node(state: State) -> State:\n",
    "  '''\n",
    "    This is the second node of the agent. It takes the tool suggestion from the first\n",
    "    node and sends the appropriate data there. After receiving the response string,\n",
    "    it sends it back to the LLM in the next node.\n",
    "\n",
    "      Input: the tool suggestion from the first node.\n",
    "      Output: the response string from the selectd tool.\n",
    "  '''\n",
    "  raw_input = state[\"messages\"][-1].content\n",
    "  parts = raw_input.split(',')\n",
    "  tool_choice = raw_input.split(',')[0]\n",
    "  for part in parts[1:]:\n",
    "    if 'smiles' in part:\n",
    "      query_smiles = part.split(':')[1].strip()\n",
    "    if 'path' in part:\n",
    "      query_path = part.split(':')[1].strip()\n",
    "    if 'reference' in part:\n",
    "      query_reference = part.split(':')[1].strip()\n",
    "\n",
    "  #print(tool_choice)\n",
    "\n",
    "  if \"lipinski_tool\" in tool_choice:\n",
    "    props = lipinski_tool(query_smiles)\n",
    "  elif \"substitution_tool\" in tool_choice:\n",
    "    props = substitution_tool(query_smiles)\n",
    "  elif \"pharm_feature_tool\" in tool_choice:\n",
    "    props = pharm_feature_tool(query_reference, query_smiles)\n",
    "  else:\n",
    "    props = \"Nothing\"\n",
    "\n",
    "  return {\"messages\": props}\n",
    "\n",
    "def parser_node(state: State) -> State:\n",
    "  '''\n",
    "    This is the third node in the agent. It receives the output from the tool,\n",
    "    puts it into a prompt as CONTEXT, and asks the LLM to answer the original\n",
    "    query.\n",
    "\n",
    "      Input: the output from the tool.\n",
    "      Output: the answer to the original query.\n",
    "  '''\n",
    "  props_string = state[\"messages\"][-1].content\n",
    "\n",
    "  raw_input = state[\"messages\"][0].content\n",
    "  parts = raw_input.split(',')\n",
    "  for part in parts:\n",
    "    if 'task' in part:\n",
    "      query_task = part\n",
    "\n",
    "  prompt = f'Using the CONTEXT below, answer the original query, which \\\n",
    "was to answer the QUERY_TASK. End your answer with a \"#\" \\\n",
    "QUERY_TASK: {query_task}.\\n \\\n",
    "CONTEXT: {props_string}.\\n '\n",
    "\n",
    "  res = chat_model.invoke(prompt)\n",
    "  return {\"messages\": res}\n",
    "\n",
    "def reflect_node(state: State) -> State:\n",
    "  '''\n",
    "    This is the fourth node of the agent. It recieves the LLMs previous answer and\n",
    "    tries to improve it.\n",
    "\n",
    "      Input: the LLMs last answer.\n",
    "      Output: the improved answer.\n",
    "  '''\n",
    "  previous_answer = state[\"messages\"][-1].content\n",
    "\n",
    "  prompt = f'Look at the PREVIOUS ANSWER below which you provided. \\\n",
    "Write an improved answer based on the PREVIOUS ANSWER by adding additional \\\n",
    "clarifying and enriching information. End your new answer with a \"#\" \\\n",
    "PREVIOUS ANSWER: {previous_answer}.\\n '\n",
    "\n",
    "  res = chat_model.invoke(prompt)\n",
    "  return {\"messages\": res}\n",
    "\n",
    "def pretty_print(answer):\n",
    "  final = str(answer['messages'][-1]).split('<|assistant|>')[-1].split('#')[0].strip(\"n\").strip('\\\\').strip('n').strip('\\\\')\n",
    "  for i in range(0,len(final),100):\n",
    "    print(final[i:i+100])\n",
    "\n",
    "def print_short(answer):\n",
    "  for i in range(0,len(answer),100):\n",
    "    print(answer[i:i+100])"
   ]
  },
  {
   "cell_type": "markdown",
   "metadata": {
    "id": "yqMaLFBkuqyt"
   },
   "source": [
    "### Build and compile agent"
   ]
  },
  {
   "cell_type": "code",
   "execution_count": 13,
   "metadata": {
    "id": "bAfKLuF2wZke"
   },
   "outputs": [],
   "source": [
    "builder = StateGraph(State)\n",
    "builder.add_node(\"first_node\", first_node)\n",
    "builder.add_node(\"router_node\", router_node)\n",
    "builder.add_node(\"parser_node\", parser_node)\n",
    "builder.add_node(\"reflect_node\", reflect_node)\n",
    "\n",
    "builder.add_edge(START, \"first_node\")\n",
    "builder.add_edge(\"first_node\", \"router_node\")\n",
    "builder.add_edge(\"router_node\", \"parser_node\")\n",
    "builder.add_edge(\"parser_node\", \"reflect_node\")\n",
    "builder.add_edge(\"reflect_node\", END)\n",
    "\n",
    "graph = builder.compile()"
   ]
  },
  {
   "cell_type": "markdown",
   "metadata": {
    "id": "a9zpxc1ovP91"
   },
   "source": [
    "## Use Agent\n",
    "\n",
    "- the input prompt should contain only one of more of the following:\n",
    "\n",
    "    ```smiles: the smiles string, task: the query task, path: the path to the file, reference: the reference smiles```\n",
    "\n",
    "- the value should be separated from the name by a ':' and each field should\n",
    "  be separated from the previous one by a ','."
   ]
  },
  {
   "cell_type": "markdown",
   "metadata": {
    "id": "6izNELy6t1IR"
   },
   "source": [
    "### View graph image"
   ]
  },
  {
   "cell_type": "code",
   "execution_count": 16,
   "metadata": {
    "colab": {
     "base_uri": "https://localhost:8080/",
     "height": 548
    },
    "id": "ryJiLWVuyfVA",
    "outputId": "cc55d879-86c1-4f1a-c33b-9d46c25d5beb"
   },
   "outputs": [
    {
     "data": {
      "image/jpeg": "[encoded data removed]",
      "image/png": "[encoded data removed]",
      "text/plain": [
       "<PIL.PngImagePlugin.PngImageFile image mode=RGB size=136x531>"
      ]
     },
     "execution_count": 16,
     "metadata": {},
     "output_type": "execute_result"
    }
   ],
   "source": [
    "from PIL import Image\n",
    "import io\n",
    "\n",
    "img = graph.get_graph().draw_mermaid_png()\n",
    "image = Image.open(io.BytesIO(img))\n",
    "image"
   ]
  },
  {
   "cell_type": "markdown",
   "metadata": {
    "id": "FlW1vpOSt-lP"
   },
   "source": [
    "### Define prompt"
   ]
  },
  {
   "cell_type": "code",
   "execution_count": 10,
   "metadata": {
    "id": "GryqQxvtxBFh"
   },
   "outputs": [],
   "source": [
    "input = {\n",
    "    \"messages\": [\n",
    "        HumanMessage('smiles: c1ccc(F)cc1, task: pharmacophore evaluation, reference: O=C(O)[C@@](NN)(Cc1cc(O)c(O)cc1)C')\n",
    "    ]\n",
    "}"
   ]
  },
  {
   "cell_type": "markdown",
   "metadata": {
    "id": "RyoviteY0msH"
   },
   "source": [
    "### Get intermediate output"
   ]
  },
  {
   "cell_type": "code",
   "execution_count": 14,
   "metadata": {
    "colab": {
     "base_uri": "https://localhost:8080/"
    },
    "id": "vqLOeIokxQ-r",
    "outputId": "0afea3d7-5843-43b9-b3e2-1a059d1d0a49"
   },
   "outputs": [
    {
     "name": "stdout",
     "output_type": "stream",
     "text": [
      "pharm_feature_tool, query smiles:  c1ccc(F)cc1, query reference:  O=C(O)[C@@](NN)(Cc1cc(O)c(O)cc1)C\n",
      "===================================================\n",
      "The Pharmacophore Feature Overlap Score of the test molecule versus the reference molecule is 1.000.\n",
      " \n",
      "\n",
      "There are 5 Hydrogen bond donors in the reference molecule. \n",
      "There are 4 Hydrogen bond acceptors \n",
      "in the reference molecule. \n",
      "There are 1 Negatively ionizable groups in the reference molecule. \n",
      "Ther\n",
      "e are 1 Aromatic rings in the reference molecule. \n",
      "There are 1 Hydrophobic/non-polar groups in the r\n",
      "eference molecule. \n",
      "There are 1 Hydrogen bond acceptors in the test molecule. \n",
      "There are 1 Aromatic \n",
      "rings in the test molecule. \n",
      "There are 1 Hydrophobic/non-polar groups in the test molecule. \n",
      "\n",
      "===================================================\n",
      "Given the provided context, the pharmacophore evaluation indicates that the test molecule has a perf\n",
      "ect match with the reference molecule, as evidenced by the Pharmacophore Feature Overlap Score of 1.\n",
      "000. This means that all the key features of the reference molecule are present in the test molecule\n",
      ". Here is a detailed comparison of the features between the reference and test molecules:\\n\\nReferen\n",
      "ce Molecule:\\n- 5 Hydrogen bond donors\\n- 4 Hydrogen bond acceptors\\n- 1 Negatively ionizable group\\\n",
      "n- 1 Aromatic ring\\n- 1 Hydrophobic/non-polar group\\n\\nTest Molecule:\\n- 1 Hydrogen bond donor\\n- 1 \n",
      "Hydrogen bond acceptor\\n- 0 Negatively ionizable groups\\n- 1 Aromatic ring\\n- 1 Hydrophobic/non-pola\n",
      "r group\\n\\nThe test molecule has fewer hydrogen bond donors and acceptors, lacks negatively ionizabl\n",
      "e groups, but matches the reference molecule in terms of aromatic rings and hydrophobic/non-polar gr\n",
      "oups. The perfect overlap score suggests that despite these differences, the essential pharmacophori\n",
      "c features are present in the test molecule, making it likely to exhibit similar biological activity\n",
      " as the reference molecule.\\n\\n\n",
      "===================================================\n",
      "Given the provided context, the pharmacophore evaluation indicates that the test molecule has a perf\n",
      "ect match with the reference molecule, as evidenced by the Pharmacophore Feature Overlap Score of 1.\n",
      "000. This means that all the key features of the reference molecule are present in the test molecule\n",
      ". Here is a detailed comparison of the features between the reference and test molecules:\\n\\nReferen\n",
      "ce Molecule:\\n- 5 Hydrogen bond donors\\n- 4 Hydrogen bond acceptors\\n- 1 Negatively ionizable group\\\n",
      "n- 1 Aromatic ring\\n- 1 Hydrophobic/non-polar group\\n\\nTest Molecule:\\n- 1 Hydrogen bond donor\\n- 1 \n",
      "Hydrogen bond acceptor\\n- 0 Negatively ionizable groups\\n- 1 Aromatic ring\\n- 1 Hydrophobic/non-pola\n",
      "r group\\n\\nThe test molecule has fewer hydrogen bond donors and acceptors, lacks negatively ionizabl\n",
      "e groups, but matches the reference molecule in terms of aromatic rings and hydrophobic/non-polar gr\n",
      "oups. The perfect overlap score suggests that despite these differences, the essential pharmacophori\n",
      "c features are present in the test molecule, making it likely to exhibit similar biological activity\n",
      " as the reference molecule. The presence of key pharmacophoric features such as hydrogen bond donors\n",
      " and acceptors, aromatic rings, and hydrophobic/non-polar groups in the test molecule, even if in di\n",
      "fferent proportions, indicates that it can potentially interact with the same biological targets as \n",
      "the reference molecule. This perfect overlap score is highly significant in pharmacophore modeling, \n",
      "as it suggests that the test molecule may have similar or potentially superior therapeutic effects c\n",
      "ompared to the reference molecule.\\n\\n\n",
      "===================================================\n"
     ]
    }
   ],
   "source": [
    "cs = []\n",
    "for c in graph.stream(input): #, stream_mode='updates'):\n",
    "  m = re.findall(r'[a-z]+\\_node', str(c))\n",
    "  if len(m) != 0:\n",
    "    reply = c[str(m[0])]['messages']\n",
    "    if 'assistant' in str(reply):\n",
    "      reply = str(reply).split(\"<|assistant|>\")[-1].split('#')[0].strip()\n",
    "  print_short(reply)\n",
    "  cs.append(c)\n",
    "  print('===================================================')"
   ]
  },
  {
   "cell_type": "markdown",
   "metadata": {
    "id": "f5bDXbjK0pzg"
   },
   "source": [
    "### Get only final answer"
   ]
  },
  {
   "cell_type": "code",
   "execution_count": 15,
   "metadata": {
    "id": "DEjJAjlJXYlW"
   },
   "outputs": [],
   "source": [
    "input = {\n",
    "    \"messages\": [\n",
    "        HumanMessage('smiles: c1ccc(F)cc1, task: obeys lipinskis rules?')\n",
    "    ]\n",
    "}"
   ]
  },
  {
   "cell_type": "code",
   "execution_count": 16,
   "metadata": {
    "id": "hBVc0FK3xCeQ"
   },
   "outputs": [],
   "source": [
    "answer = graph.invoke(input)"
   ]
  },
  {
   "cell_type": "code",
   "execution_count": 17,
   "metadata": {
    "colab": {
     "base_uri": "https://localhost:8080/"
    },
    "id": "ZAoCq3D36GYV",
    "outputId": "f9be39ac-6f90-4917-e4f3-32b12edcbf35"
   },
   "outputs": [
    {
     "name": "stdout",
     "output_type": "stream",
     "text": [
      "The molecule described by the SMILES c1ccc(F)cc1 has a QED (Quantitative Estimate of Drug-likeness) \n",
      "value of 0.462. Lipinski\\'s Rule of Five states that, for a compound to have good oral bioavailabili\n",
      "ty, it should have no more than 5 hydrogen bond donors, no more than 10 hydrogen bond acceptors, a m\n",
      "olecular weight less than 500 g/mol, and a LogP (octanol-water partition coefficient) less than 5.\\n\n",
      "\\nThe molecule in question has:\\n- Molecular Weight: 96.10399999999998 (which is less than 500 g/mol\n",
      ")\\n- LogP: 1.826 (which is less than 5)\\n- Hydrogen bond acceptors: 0\\n- Hydrogen bond donors: 0\\n\\n\n",
      "Based on these properties, the molecule obeys Lipinski\\'s Rule of Five. Additionally, it has no pola\n",
      "r surface area, which is often considered in drug-likeness evaluations, and it has no rotatable bond\n",
      "s, which can impact the molecule\\'s flexibility and, consequently, its ability to bind to biological\n",
      " targets. The presence of one aromatic ring can also be favorable for binding interactions in some c\n",
      "ases. Overall, the molecule appears to meet the criteria set forth by Lipinski\\'s Rule of Five, sugg\n",
      "esting it has good potential for oral bioavailability.\n"
     ]
    }
   ],
   "source": [
    "pretty_print(answer)"
   ]
  },
  {
   "cell_type": "code",
   "execution_count": 18,
   "metadata": {
    "id": "e7gfqpPRXkfw"
   },
   "outputs": [],
   "source": [
    "input = {\n",
    "    \"messages\": [\n",
    "        HumanMessage('smiles: c1ccc(F)cc1, task: generate analogues')\n",
    "    ]\n",
    "}"
   ]
  },
  {
   "cell_type": "code",
   "execution_count": 19,
   "metadata": {
    "colab": {
     "base_uri": "https://localhost:8080/"
    },
    "id": "hBsTWts_XolA",
    "outputId": "0dc31ef5-3a79-42a1-d3ea-45d413934d5c"
   },
   "outputs": [
    {
     "name": "stdout",
     "output_type": "stream",
     "text": [
      "To generate analogues for the given SMILES and their corresponding QED values, we can consider subst\n",
      "ituting different functional groups or atoms in the existing molecules while maintaining a similar s\n",
      "tructural framework. Here are some analogues:\\n\\n1. SMILES: c1ccc(Cl)cc1, QED: 0.483\\n   - Analogue:\n",
      " c1ccc(Br)cc1, QED: 0.542 (already provided, but can be considered an analogue due to similar haloge\n",
      "n substitution)\\n\\n2. SMILES: c1ccc(O)cc1, QED: 0.515\\n   - Analogue: c1ccc(OH)cc1, QED: 0.510 (hydr\n",
      "oxyl group substitution)\\n\\n3. SMILES: c1ccc(C)cc1, QED: 0.459\\n   - Analogue: c1ccc(CF3)cc1, QED: 0\n",
      ".475 (trifluoromethyl group substitution)\\n\\n4. SMILES: c1ccc(OC)cc1, QED: 0.532\\n   - Analogue: c1c\n",
      "cc(OCH3)cc1, QED: 0.530 (methoxy group substitution)\\n\\n5. SMILES: c1ccc([NH3+])cc1, QED: 0.486\\n   \n",
      "- Analogue: c1ccc(NH2)cc1, QED: 0.490 (amino group substitution)\\n\\n6. SMILES: c1ccc(Br)cc1, QED: 0.\n",
      "542\\n   - Analogue: c1ccc(F)cc1, QED: 0.530 (fluorine substitution)\\n\\n7. SMILES: c1ccc(C(F)(F)(F))c\n",
      "c1, QED: 0.527\\n   - Analogue: c1ccc(CCl)(F)(F)cc1, QED: 0.560 (chlorine substitution)\\n\\nThese anal\n",
      "ogues maintain a similar structural framework while introducing different functional groups or atoms\n",
      ", potentially leading to variations in QED values. The exact QED values for these analogues would ne\n",
      "ed to be experimentally determined or calculated using computational chemistry methods. \n"
     ]
    }
   ],
   "source": [
    "answer = graph.invoke(input)\n",
    "pretty_print(answer)"
   ]
  },
  {
   "cell_type": "markdown",
   "metadata": {
    "id": "Cp9UzWavw0qc"
   },
   "source": [
    "## Use the model alone without the agentic ability"
   ]
  },
  {
   "cell_type": "code",
   "execution_count": null,
   "metadata": {
    "colab": {
     "base_uri": "https://localhost:8080/"
    },
    "id": "xtzSbILAxQNw",
    "outputId": "b04b53b9-8c38-40b1-f0e9-dfb064e42083"
   },
   "outputs": [
    {
     "data": {
      "text/plain": [
       "AIMessage(content='<|user|>What is the LogP of the molecule with the SMILES string c1ccc(O)cc1?<|end|><|assistant|>The LogP value of a molecule is a measure of its hydrophobicity, which is the tendency of a molecule to partition between a hydrophobic (nonpolar) phase and a hydrophobic phase. The SMILES string \"c1ccc(O)cc1\" represents 1,4-dimethylbenzene, also known as p-xylene.\\n\\nTo find the LogP value of 1,4-dimethylbenzene, we can use various chemical databases and software tools. According to the PubChem database, the LogP value of 1,4-dimethylbenzene is approximately 3.15.\\n\\nPlease note that the LogP value can vary slightly depending on the source and calculation method used.', additional_kwargs={}, response_metadata={}, id='run--d798b238-393f-4596-bd2d-b324328fd534-0')"
      ]
     },
     "execution_count": 33,
     "metadata": {},
     "output_type": "execute_result"
    }
   ],
   "source": [
    "chat_model.invoke(\"does the molecule c1ccc(Br)cc1 obey Lipinski's rules??\")"
   ]
  },
  {
   "cell_type": "code",
   "execution_count": null,
   "metadata": {
    "id": "T_nPOhBNRkjj"
   },
   "outputs": [],
   "source": []
  }
 ],
 "metadata": {
  "accelerator": "TPU",
  "colab": {
   "collapsed_sections": [
    "yqMaLFBkuqyt",
    "6izNELy6t1IR"
   ],
   "gpuType": "V28",
   "machine_shape": "hm",
   "provenance": []
  },
  "kernelspec": {
   "display_name": "Python 3",
   "language": "python",
   "name": "python3"
  },
  "language_info": {
   "codemirror_mode": {
    "name": "ipython",
    "version": 3
   },
   "file_extension": ".py",
   "mimetype": "text/x-python",
   "name": "python",
   "nbconvert_exporter": "python",
   "pygments_lexer": "ipython3",
   "version": "3.8.8"
  }
 },
 "nbformat": 4,
 "nbformat_minor": 1
}
