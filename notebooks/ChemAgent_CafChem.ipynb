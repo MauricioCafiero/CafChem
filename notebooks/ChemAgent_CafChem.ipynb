{
  "nbformat": 4,
  "nbformat_minor": 0,
  "metadata": {
    "colab": {
      "provenance": [],
      "collapsed_sections": [
        "cJ0e5Tt8Susd"
      ],
      "machine_shape": "hm",
      "gpuType": "V28"
    },
    "kernelspec": {
      "name": "python3",
      "display_name": "Python 3"
    },
    "language_info": {
      "name": "python"
    },
    "accelerator": "TPU",
    "widgets": {
      "application/vnd.jupyter.widget-state+json": {
        "be725db8f62248bb8f7184dc7a688bbc": {
          "model_module": "@jupyter-widgets/controls",
          "model_name": "HBoxModel",
          "model_module_version": "1.5.0",
          "state": {
            "_dom_classes": [],
            "_model_module": "@jupyter-widgets/controls",
            "_model_module_version": "1.5.0",
            "_model_name": "HBoxModel",
            "_view_count": null,
            "_view_module": "@jupyter-widgets/controls",
            "_view_module_version": "1.5.0",
            "_view_name": "HBoxView",
            "box_style": "",
            "children": [
              "IPY_MODEL_6e52c3970b8940f78fc4e0f105e8a862",
              "IPY_MODEL_226ecd1a3b434003a69a36db397a4648",
              "IPY_MODEL_7bc7d9e46b5c4d30999119515be76fe9"
            ],
            "layout": "IPY_MODEL_f6f92ca84314449da170796658abf6bb"
          }
        },
        "6e52c3970b8940f78fc4e0f105e8a862": {
          "model_module": "@jupyter-widgets/controls",
          "model_name": "HTMLModel",
          "model_module_version": "1.5.0",
          "state": {
            "_dom_classes": [],
            "_model_module": "@jupyter-widgets/controls",
            "_model_module_version": "1.5.0",
            "_model_name": "HTMLModel",
            "_view_count": null,
            "_view_module": "@jupyter-widgets/controls",
            "_view_module_version": "1.5.0",
            "_view_name": "HTMLView",
            "description": "",
            "description_tooltip": null,
            "layout": "IPY_MODEL_6ca5cd5e1b4b415585180d3e2ef22eb6",
            "placeholder": "​",
            "style": "IPY_MODEL_46ca9dc39c7f40e79a4ea1d1c2fd2f34",
            "value": "Loading checkpoint shards: 100%"
          }
        },
        "226ecd1a3b434003a69a36db397a4648": {
          "model_module": "@jupyter-widgets/controls",
          "model_name": "FloatProgressModel",
          "model_module_version": "1.5.0",
          "state": {
            "_dom_classes": [],
            "_model_module": "@jupyter-widgets/controls",
            "_model_module_version": "1.5.0",
            "_model_name": "FloatProgressModel",
            "_view_count": null,
            "_view_module": "@jupyter-widgets/controls",
            "_view_module_version": "1.5.0",
            "_view_name": "ProgressView",
            "bar_style": "success",
            "description": "",
            "description_tooltip": null,
            "layout": "IPY_MODEL_b70b5e37210948a18ff2dc5dc839def3",
            "max": 2,
            "min": 0,
            "orientation": "horizontal",
            "style": "IPY_MODEL_f0dc95317158452badfa1c51944bcfc6",
            "value": 2
          }
        },
        "7bc7d9e46b5c4d30999119515be76fe9": {
          "model_module": "@jupyter-widgets/controls",
          "model_name": "HTMLModel",
          "model_module_version": "1.5.0",
          "state": {
            "_dom_classes": [],
            "_model_module": "@jupyter-widgets/controls",
            "_model_module_version": "1.5.0",
            "_model_name": "HTMLModel",
            "_view_count": null,
            "_view_module": "@jupyter-widgets/controls",
            "_view_module_version": "1.5.0",
            "_view_name": "HTMLView",
            "description": "",
            "description_tooltip": null,
            "layout": "IPY_MODEL_6ccec4f40ca04b0fbe07b666035772ce",
            "placeholder": "​",
            "style": "IPY_MODEL_13a8f0e7409d452d929b165661bbfff3",
            "value": " 2/2 [00:01&lt;00:00,  1.25it/s]"
          }
        },
        "f6f92ca84314449da170796658abf6bb": {
          "model_module": "@jupyter-widgets/base",
          "model_name": "LayoutModel",
          "model_module_version": "1.2.0",
          "state": {
            "_model_module": "@jupyter-widgets/base",
            "_model_module_version": "1.2.0",
            "_model_name": "LayoutModel",
            "_view_count": null,
            "_view_module": "@jupyter-widgets/base",
            "_view_module_version": "1.2.0",
            "_view_name": "LayoutView",
            "align_content": null,
            "align_items": null,
            "align_self": null,
            "border": null,
            "bottom": null,
            "display": null,
            "flex": null,
            "flex_flow": null,
            "grid_area": null,
            "grid_auto_columns": null,
            "grid_auto_flow": null,
            "grid_auto_rows": null,
            "grid_column": null,
            "grid_gap": null,
            "grid_row": null,
            "grid_template_areas": null,
            "grid_template_columns": null,
            "grid_template_rows": null,
            "height": null,
            "justify_content": null,
            "justify_items": null,
            "left": null,
            "margin": null,
            "max_height": null,
            "max_width": null,
            "min_height": null,
            "min_width": null,
            "object_fit": null,
            "object_position": null,
            "order": null,
            "overflow": null,
            "overflow_x": null,
            "overflow_y": null,
            "padding": null,
            "right": null,
            "top": null,
            "visibility": null,
            "width": null
          }
        },
        "6ca5cd5e1b4b415585180d3e2ef22eb6": {
          "model_module": "@jupyter-widgets/base",
          "model_name": "LayoutModel",
          "model_module_version": "1.2.0",
          "state": {
            "_model_module": "@jupyter-widgets/base",
            "_model_module_version": "1.2.0",
            "_model_name": "LayoutModel",
            "_view_count": null,
            "_view_module": "@jupyter-widgets/base",
            "_view_module_version": "1.2.0",
            "_view_name": "LayoutView",
            "align_content": null,
            "align_items": null,
            "align_self": null,
            "border": null,
            "bottom": null,
            "display": null,
            "flex": null,
            "flex_flow": null,
            "grid_area": null,
            "grid_auto_columns": null,
            "grid_auto_flow": null,
            "grid_auto_rows": null,
            "grid_column": null,
            "grid_gap": null,
            "grid_row": null,
            "grid_template_areas": null,
            "grid_template_columns": null,
            "grid_template_rows": null,
            "height": null,
            "justify_content": null,
            "justify_items": null,
            "left": null,
            "margin": null,
            "max_height": null,
            "max_width": null,
            "min_height": null,
            "min_width": null,
            "object_fit": null,
            "object_position": null,
            "order": null,
            "overflow": null,
            "overflow_x": null,
            "overflow_y": null,
            "padding": null,
            "right": null,
            "top": null,
            "visibility": null,
            "width": null
          }
        },
        "46ca9dc39c7f40e79a4ea1d1c2fd2f34": {
          "model_module": "@jupyter-widgets/controls",
          "model_name": "DescriptionStyleModel",
          "model_module_version": "1.5.0",
          "state": {
            "_model_module": "@jupyter-widgets/controls",
            "_model_module_version": "1.5.0",
            "_model_name": "DescriptionStyleModel",
            "_view_count": null,
            "_view_module": "@jupyter-widgets/base",
            "_view_module_version": "1.2.0",
            "_view_name": "StyleView",
            "description_width": ""
          }
        },
        "b70b5e37210948a18ff2dc5dc839def3": {
          "model_module": "@jupyter-widgets/base",
          "model_name": "LayoutModel",
          "model_module_version": "1.2.0",
          "state": {
            "_model_module": "@jupyter-widgets/base",
            "_model_module_version": "1.2.0",
            "_model_name": "LayoutModel",
            "_view_count": null,
            "_view_module": "@jupyter-widgets/base",
            "_view_module_version": "1.2.0",
            "_view_name": "LayoutView",
            "align_content": null,
            "align_items": null,
            "align_self": null,
            "border": null,
            "bottom": null,
            "display": null,
            "flex": null,
            "flex_flow": null,
            "grid_area": null,
            "grid_auto_columns": null,
            "grid_auto_flow": null,
            "grid_auto_rows": null,
            "grid_column": null,
            "grid_gap": null,
            "grid_row": null,
            "grid_template_areas": null,
            "grid_template_columns": null,
            "grid_template_rows": null,
            "height": null,
            "justify_content": null,
            "justify_items": null,
            "left": null,
            "margin": null,
            "max_height": null,
            "max_width": null,
            "min_height": null,
            "min_width": null,
            "object_fit": null,
            "object_position": null,
            "order": null,
            "overflow": null,
            "overflow_x": null,
            "overflow_y": null,
            "padding": null,
            "right": null,
            "top": null,
            "visibility": null,
            "width": null
          }
        },
        "f0dc95317158452badfa1c51944bcfc6": {
          "model_module": "@jupyter-widgets/controls",
          "model_name": "ProgressStyleModel",
          "model_module_version": "1.5.0",
          "state": {
            "_model_module": "@jupyter-widgets/controls",
            "_model_module_version": "1.5.0",
            "_model_name": "ProgressStyleModel",
            "_view_count": null,
            "_view_module": "@jupyter-widgets/base",
            "_view_module_version": "1.2.0",
            "_view_name": "StyleView",
            "bar_color": null,
            "description_width": ""
          }
        },
        "6ccec4f40ca04b0fbe07b666035772ce": {
          "model_module": "@jupyter-widgets/base",
          "model_name": "LayoutModel",
          "model_module_version": "1.2.0",
          "state": {
            "_model_module": "@jupyter-widgets/base",
            "_model_module_version": "1.2.0",
            "_model_name": "LayoutModel",
            "_view_count": null,
            "_view_module": "@jupyter-widgets/base",
            "_view_module_version": "1.2.0",
            "_view_name": "LayoutView",
            "align_content": null,
            "align_items": null,
            "align_self": null,
            "border": null,
            "bottom": null,
            "display": null,
            "flex": null,
            "flex_flow": null,
            "grid_area": null,
            "grid_auto_columns": null,
            "grid_auto_flow": null,
            "grid_auto_rows": null,
            "grid_column": null,
            "grid_gap": null,
            "grid_row": null,
            "grid_template_areas": null,
            "grid_template_columns": null,
            "grid_template_rows": null,
            "height": null,
            "justify_content": null,
            "justify_items": null,
            "left": null,
            "margin": null,
            "max_height": null,
            "max_width": null,
            "min_height": null,
            "min_width": null,
            "object_fit": null,
            "object_position": null,
            "order": null,
            "overflow": null,
            "overflow_x": null,
            "overflow_y": null,
            "padding": null,
            "right": null,
            "top": null,
            "visibility": null,
            "width": null
          }
        },
        "13a8f0e7409d452d929b165661bbfff3": {
          "model_module": "@jupyter-widgets/controls",
          "model_name": "DescriptionStyleModel",
          "model_module_version": "1.5.0",
          "state": {
            "_model_module": "@jupyter-widgets/controls",
            "_model_module_version": "1.5.0",
            "_model_name": "DescriptionStyleModel",
            "_view_count": null,
            "_view_module": "@jupyter-widgets/base",
            "_view_module_version": "1.2.0",
            "_view_name": "StyleView",
            "description_width": ""
          }
        }
      }
    }
  },
  "cells": [
    {
      "cell_type": "markdown",
      "source": [
        "#CafChem tools for using a simple AI Agent to perform chemistry-related tasks using HuggingFace models.\n",
        "\n",
        "[![Open In Colab](https://colab.research.google.com/assets/colab-badge.svg)](https://colab.research.google.com/github/MauricioCafiero/CafChem/blob/main/notebooks/ChemAgent_CafChem.ipynb)\n",
        "\n",
        "## This notebook allows you to:\n",
        "- Load a model from HuggingFace\n",
        "- Create a simple Agent using Langchain.\n",
        "- View intermediate results of the Agent.\n",
        "- compare against using the unadorned model.\n",
        "\n",
        "## Switching between Phi-4-mini-instruct and Apertus-8B-instruct\n",
        "- Apertus uses '<|assistant_start|>' to start the AI message, where as others use '<|assistant|>' to start the AI message. This should be changed in 3 places\n",
        "\n",
        "## Requirements:\n",
        "- This notebook will install several langchain and langgraph libraries and rdkit.\n",
        "- Runs well on an L4 GPU (using a 7.67 GB model). Will run on the v2-8 TPU runtime, with only slightly slower inference imes. Cannot run on CPU. (Colab runtimes)"
      ],
      "metadata": {
        "id": "JbittvlsJsI6"
      }
    },
    {
      "cell_type": "markdown",
      "source": [
        "## Set-up"
      ],
      "metadata": {
        "id": "7aThlnzDSj5G"
      }
    },
    {
      "cell_type": "markdown",
      "source": [
        "### Install libraries"
      ],
      "metadata": {
        "id": "cJ0e5Tt8Susd"
      }
    },
    {
      "cell_type": "code",
      "execution_count": 1,
      "metadata": {
        "colab": {
          "base_uri": "https://localhost:8080/"
        },
        "id": "McVtr-Fbsx0j",
        "outputId": "e2c58863-6078-4ccd-b842-7e2aac08344a"
      },
      "outputs": [
        {
          "output_type": "stream",
          "name": "stdout",
          "text": [
            "\u001b[?25l   \u001b[90m━━━━━━━━━━━━━━━━━━━━━━━━━━━━━━━━━━━━━━━━\u001b[0m \u001b[32m0.0/5.3 MB\u001b[0m \u001b[31m?\u001b[0m eta \u001b[36m-:--:--\u001b[0m\r\u001b[2K   \u001b[91m━━━━━━━\u001b[0m\u001b[90m╺\u001b[0m\u001b[90m━━━━━━━━━━━━━━━━━━━━━━━━━━━━━━━━\u001b[0m \u001b[32m0.9/5.3 MB\u001b[0m \u001b[31m28.1 MB/s\u001b[0m eta \u001b[36m0:00:01\u001b[0m\r\u001b[2K   \u001b[91m━━━━━━━━━━━━━━━━━━━━━━━━━━━━━━━━━━━━━━━\u001b[0m\u001b[91m╸\u001b[0m \u001b[32m5.2/5.3 MB\u001b[0m \u001b[31m82.8 MB/s\u001b[0m eta \u001b[36m0:00:01\u001b[0m\r\u001b[2K   \u001b[90m━━━━━━━━━━━━━━━━━━━━━━━━━━━━━━━━━━━━━━━━\u001b[0m \u001b[32m5.3/5.3 MB\u001b[0m \u001b[31m57.9 MB/s\u001b[0m eta \u001b[36m0:00:00\u001b[0m\n",
            "\u001b[2K   \u001b[90m━━━━━━━━━━━━━━━━━━━━━━━━━━━━━━━━━━━━━━━━\u001b[0m \u001b[32m3.3/3.3 MB\u001b[0m \u001b[31m82.9 MB/s\u001b[0m eta \u001b[36m0:00:00\u001b[0m\n",
            "\u001b[2K     \u001b[90m━━━━━━━━━━━━━━━━━━━━━━━━━━━━━━━━━━━━━━━━\u001b[0m \u001b[32m41.9/41.9 kB\u001b[0m \u001b[31m1.6 MB/s\u001b[0m eta \u001b[36m0:00:00\u001b[0m\n",
            "\u001b[2K   \u001b[90m━━━━━━━━━━━━━━━━━━━━━━━━━━━━━━━━━━━━━━━━\u001b[0m \u001b[32m444.0/444.0 kB\u001b[0m \u001b[31m9.5 MB/s\u001b[0m eta \u001b[36m0:00:00\u001b[0m\n",
            "\u001b[2K   \u001b[90m━━━━━━━━━━━━━━━━━━━━━━━━━━━━━━━━━━━━━━━━\u001b[0m \u001b[32m384.8/384.8 kB\u001b[0m \u001b[31m21.7 MB/s\u001b[0m eta \u001b[36m0:00:00\u001b[0m\n",
            "\u001b[2K   \u001b[90m━━━━━━━━━━━━━━━━━━━━━━━━━━━━━━━━━━━━━━━━\u001b[0m \u001b[32m132.9/132.9 kB\u001b[0m \u001b[31m9.8 MB/s\u001b[0m eta \u001b[36m0:00:00\u001b[0m\n",
            "\u001b[2K   \u001b[90m━━━━━━━━━━━━━━━━━━━━━━━━━━━━━━━━━━━━━━━━\u001b[0m \u001b[32m54.5/54.5 kB\u001b[0m \u001b[31m4.0 MB/s\u001b[0m eta \u001b[36m0:00:00\u001b[0m\n",
            "\u001b[2K   \u001b[90m━━━━━━━━━━━━━━━━━━━━━━━━━━━━━━━━━━━━━━━━\u001b[0m \u001b[32m5.5/5.5 MB\u001b[0m \u001b[31m91.9 MB/s\u001b[0m eta \u001b[36m0:00:00\u001b[0m\n",
            "\u001b[2K     \u001b[90m━━━━━━━━━━━━━━━━━━━━━━━━━━━━━━━━━━━━━━━━\u001b[0m \u001b[32m73.9/73.9 kB\u001b[0m \u001b[31m2.8 MB/s\u001b[0m eta \u001b[36m0:00:00\u001b[0m\n",
            "\u001b[2K   \u001b[90m━━━━━━━━━━━━━━━━━━━━━━━━━━━━━━━━━━━━━━━━\u001b[0m \u001b[32m2.5/2.5 MB\u001b[0m \u001b[31m37.5 MB/s\u001b[0m eta \u001b[36m0:00:00\u001b[0m\n",
            "\u001b[2K   \u001b[90m━━━━━━━━━━━━━━━━━━━━━━━━━━━━━━━━━━━━━━━━\u001b[0m \u001b[32m1.7/1.7 MB\u001b[0m \u001b[31m65.3 MB/s\u001b[0m eta \u001b[36m0:00:00\u001b[0m\n",
            "\u001b[2K   \u001b[90m━━━━━━━━━━━━━━━━━━━━━━━━━━━━━━━━━━━━━━━━\u001b[0m \u001b[32m1.0/1.0 MB\u001b[0m \u001b[31m43.8 MB/s\u001b[0m eta \u001b[36m0:00:00\u001b[0m\n",
            "\u001b[2K   \u001b[90m━━━━━━━━━━━━━━━━━━━━━━━━━━━━━━━━━━━━━━━━\u001b[0m \u001b[32m45.2/45.2 kB\u001b[0m \u001b[31m3.0 MB/s\u001b[0m eta \u001b[36m0:00:00\u001b[0m\n",
            "\u001b[2K   \u001b[90m━━━━━━━━━━━━━━━━━━━━━━━━━━━━━━━━━━━━━━━━\u001b[0m \u001b[32m64.7/64.7 kB\u001b[0m \u001b[31m4.4 MB/s\u001b[0m eta \u001b[36m0:00:00\u001b[0m\n",
            "\u001b[2K   \u001b[90m━━━━━━━━━━━━━━━━━━━━━━━━━━━━━━━━━━━━━━━━\u001b[0m \u001b[32m3.3/3.3 MB\u001b[0m \u001b[31m84.5 MB/s\u001b[0m eta \u001b[36m0:00:00\u001b[0m\n",
            "\u001b[2K   \u001b[90m━━━━━━━━━━━━━━━━━━━━━━━━━━━━━━━━━━━━━━━━\u001b[0m \u001b[32m241.8/241.8 kB\u001b[0m \u001b[31m16.7 MB/s\u001b[0m eta \u001b[36m0:00:00\u001b[0m\n",
            "\u001b[2K   \u001b[90m━━━━━━━━━━━━━━━━━━━━━━━━━━━━━━━━━━━━━━━━\u001b[0m \u001b[32m607.6/607.6 kB\u001b[0m \u001b[31m30.9 MB/s\u001b[0m eta \u001b[36m0:00:00\u001b[0m\n",
            "\u001b[2K   \u001b[90m━━━━━━━━━━━━━━━━━━━━━━━━━━━━━━━━━━━━━━━━\u001b[0m \u001b[32m50.9/50.9 kB\u001b[0m \u001b[31m3.5 MB/s\u001b[0m eta \u001b[36m0:00:00\u001b[0m\n",
            "\u001b[2K   \u001b[90m━━━━━━━━━━━━━━━━━━━━━━━━━━━━━━━━━━━━━━━━\u001b[0m \u001b[32m224.4/224.4 kB\u001b[0m \u001b[31m16.5 MB/s\u001b[0m eta \u001b[36m0:00:00\u001b[0m\n",
            "\u001b[2K   \u001b[90m━━━━━━━━━━━━━━━━━━━━━━━━━━━━━━━━━━━━━━━━\u001b[0m \u001b[32m355.6/355.6 kB\u001b[0m \u001b[31m24.1 MB/s\u001b[0m eta \u001b[36m0:00:00\u001b[0m\n",
            "\u001b[?25h\u001b[31mERROR: pip's dependency resolver does not currently take into account all the packages that are installed. This behaviour is the source of the following dependency conflicts.\n",
            "google-colab 1.0.0 requires requests==2.32.4, but you have requests 2.32.5 which is incompatible.\u001b[0m\u001b[31m\n",
            "\u001b[2K     \u001b[90m━━━━━━━━━━━━━━━━━━━━━━━━━━━━━━━━━━━━━━━━\u001b[0m \u001b[32m43.7/43.7 kB\u001b[0m \u001b[31m2.0 MB/s\u001b[0m eta \u001b[36m0:00:00\u001b[0m\n",
            "\u001b[2K   \u001b[90m━━━━━━━━━━━━━━━━━━━━━━━━━━━━━━━━━━━━━━━━\u001b[0m \u001b[32m153.3/153.3 kB\u001b[0m \u001b[31m6.2 MB/s\u001b[0m eta \u001b[36m0:00:00\u001b[0m\n",
            "\u001b[2K   \u001b[90m━━━━━━━━━━━━━━━━━━━━━━━━━━━━━━━━━━━━━━━━\u001b[0m \u001b[32m43.9/43.9 kB\u001b[0m \u001b[31m3.1 MB/s\u001b[0m eta \u001b[36m0:00:00\u001b[0m\n",
            "\u001b[2K   \u001b[90m━━━━━━━━━━━━━━━━━━━━━━━━━━━━━━━━━━━━━━━━\u001b[0m \u001b[32m54.6/54.6 kB\u001b[0m \u001b[31m3.9 MB/s\u001b[0m eta \u001b[36m0:00:00\u001b[0m\n",
            "\u001b[2K   \u001b[90m━━━━━━━━━━━━━━━━━━━━━━━━━━━━━━━━━━━━━━━━\u001b[0m \u001b[32m194.4/194.4 kB\u001b[0m \u001b[31m12.9 MB/s\u001b[0m eta \u001b[36m0:00:00\u001b[0m\n",
            "\u001b[2K   \u001b[90m━━━━━━━━━━━━━━━━━━━━━━━━━━━━━━━━━━━━━━━━\u001b[0m \u001b[32m216.7/216.7 kB\u001b[0m \u001b[31m13.3 MB/s\u001b[0m eta \u001b[36m0:00:00\u001b[0m\n",
            "\u001b[2K   \u001b[90m━━━━━━━━━━━━━━━━━━━━━━━━━━━━━━━━━━━━━━━━\u001b[0m \u001b[32m36.1/36.1 MB\u001b[0m \u001b[31m41.8 MB/s\u001b[0m eta \u001b[36m0:00:00\u001b[0m\n",
            "\u001b[?25h"
          ]
        }
      ],
      "source": [
        "!pip install -U ddgs -q\n",
        "!pip install --upgrade --quiet  langchain-huggingface\n",
        "!pip install langchain_core --quiet\n",
        "! pip -q install langchain_community\n",
        "!pip install -q langgraph\n",
        "!pip install -q duckduckgo-search\n",
        "! pip install rdkit -q"
      ]
    },
    {
      "cell_type": "markdown",
      "source": [
        "### Import libraries and start the model"
      ],
      "metadata": {
        "id": "AtMrObKoSqVJ"
      }
    },
    {
      "cell_type": "code",
      "source": [
        "import torch\n",
        "from typing import Annotated, TypedDict, Literal\n",
        "from langchain_community.tools import DuckDuckGoSearchRun\n",
        "from langchain_core.tools import tool\n",
        "from langgraph.prebuilt import ToolNode, tools_condition\n",
        "from langgraph.graph import StateGraph, START, END\n",
        "from langgraph.graph.message import add_messages\n",
        "from langchain_core.messages import SystemMessage, trim_messages, AIMessage, HumanMessage, ToolCall\n",
        "\n",
        "from langchain_huggingface.llms import HuggingFacePipeline\n",
        "from langchain_huggingface import ChatHuggingFace\n",
        "from langchain_core.prompts import PromptTemplate, ChatPromptTemplate\n",
        "from langchain_core.runnables import chain\n",
        "from uuid import uuid4\n",
        "import re\n",
        "import matplotlib.pyplot as plt\n",
        "\n",
        "from rdkit import Chem\n",
        "from rdkit.Chem import AllChem, QED\n",
        "from rdkit.Chem import Draw\n",
        "from rdkit import rdBase\n",
        "from rdkit.Chem import rdMolAlign\n",
        "import os\n",
        "from rdkit import RDConfig\n",
        "from rdkit.Chem.Features.ShowFeats import _featColors as featColors\n",
        "from rdkit.Chem.FeatMaps import FeatMaps\n",
        "\n",
        "fdef = AllChem.BuildFeatureFactory(os.path.join(RDConfig.RDDataDir,'BaseFeatures.fdef'))\n",
        "\n",
        "fmParams = {}\n",
        "for k in fdef.GetFeatureFamilies():\n",
        "    fparams = FeatMaps.FeatMapParams()\n",
        "    fmParams[k] = fparams\n",
        "\n",
        "device = \"cuda\" if torch.cuda.is_available() else \"cpu\""
      ],
      "metadata": {
        "id": "hAwXlc9gs5fU"
      },
      "execution_count": 3,
      "outputs": []
    },
    {
      "cell_type": "code",
      "source": [
        "hf = HuggingFacePipeline.from_model_id(\n",
        "    #model_id= \"swiss-ai/Apertus-8B-Instruct-2509\",\n",
        "    model_id= \"microsoft/Phi-4-mini-instruct\",\n",
        "    task=\"text-generation\",\n",
        "    pipeline_kwargs = {\"max_new_tokens\": 500, \"temperature\": 0.4})\n",
        "\n",
        "chat_model = ChatHuggingFace(llm=hf)"
      ],
      "metadata": {
        "colab": {
          "base_uri": "https://localhost:8080/",
          "height": 66,
          "referenced_widgets": [
            "be725db8f62248bb8f7184dc7a688bbc",
            "6e52c3970b8940f78fc4e0f105e8a862",
            "226ecd1a3b434003a69a36db397a4648",
            "7bc7d9e46b5c4d30999119515be76fe9",
            "f6f92ca84314449da170796658abf6bb",
            "6ca5cd5e1b4b415585180d3e2ef22eb6",
            "46ca9dc39c7f40e79a4ea1d1c2fd2f34",
            "b70b5e37210948a18ff2dc5dc839def3",
            "f0dc95317158452badfa1c51944bcfc6",
            "6ccec4f40ca04b0fbe07b666035772ce",
            "13a8f0e7409d452d929b165661bbfff3"
          ]
        },
        "id": "dIXksBtjtLyR",
        "outputId": "d0060b85-ebe5-45a1-9594-2eaff958d662"
      },
      "execution_count": 4,
      "outputs": [
        {
          "output_type": "display_data",
          "data": {
            "text/plain": [
              "Loading checkpoint shards:   0%|          | 0/2 [00:00<?, ?it/s]"
            ],
            "application/vnd.jupyter.widget-view+json": {
              "version_major": 2,
              "version_minor": 0,
              "model_id": "be725db8f62248bb8f7184dc7a688bbc"
            }
          },
          "metadata": {}
        },
        {
          "output_type": "stream",
          "name": "stderr",
          "text": [
            "Device set to use cpu\n"
          ]
        }
      ]
    },
    {
      "cell_type": "markdown",
      "source": [
        "## Define Functions"
      ],
      "metadata": {
        "id": "tn0Qb6etSyQf"
      }
    },
    {
      "cell_type": "markdown",
      "source": [
        "### Chemistry Functions"
      ],
      "metadata": {
        "id": "KH5j6oJWom_n"
      }
    },
    {
      "cell_type": "code",
      "source": [
        "class State(TypedDict):\n",
        "  '''\n",
        "    The state of the agent.\n",
        "  '''\n",
        "  messages: Annotated[list, add_messages]\n",
        "  query_smiles: str\n",
        "  query_task: str\n",
        "  query_path: str\n",
        "  query_reference: str\n",
        "  tool_choice: Literal[\"lipinski_tool\", \"substitution_tool\", \"pharm_feature_tool\"]\n",
        "\n",
        "def substitution_node(state: State) -> State:\n",
        "  '''\n",
        "    A simple substitution routine that looks for a substituent on a phenyl ring and\n",
        "    substitutes different fragments in that location. Returns a list of novel molecules and their\n",
        "    QED score (1 is most drug-like, 0 is least drug-like).\n",
        "\n",
        "      Args:\n",
        "        smiles: the input smiles string\n",
        "      Returns:\n",
        "        new_smiles_string: a string of novel molecules and their QED scores.\n",
        "  '''\n",
        "  smiles = state[\"query_smiles\"]\n",
        "\n",
        "  new_fragments = [\"c(Cl)c\", \"c(F)c\", \"c(O)c\", \"c(C)c\", \"c(OC)c\", \"c([NH3+])c\",\n",
        "                   \"c(Br)c\", \"c(C(F)(F)(F))c\"]\n",
        "\n",
        "  new_smiles = []\n",
        "  for fragment in new_fragments:\n",
        "    m = re.findall(r\"c(\\D\\D*)c\", smiles)\n",
        "    if len(m) != 0:\n",
        "      for group in m:\n",
        "        #print(group)\n",
        "        if fragment not in group:\n",
        "          new_smile = smiles.replace(group[1:], fragment)\n",
        "          new_smiles.append(new_smile)\n",
        "\n",
        "  qeds = []\n",
        "  for new_smile in new_smiles:\n",
        "    qeds.append(get_qed(new_smile))\n",
        "\n",
        "  new_smiles_string = \"Novel Molecules or Analogues and QED values: \\n\"\n",
        "  for i in range(len(new_smiles)):\n",
        "    new_smiles_string += f\"SMILES: {new_smiles[i]}, QED: {qeds[i]:.3f}\\n\"\n",
        "\n",
        "  return {\"messages\": new_smiles_string}\n",
        "\n",
        "def get_qed(smiles):\n",
        "  '''\n",
        "    Helper function to compute QED for a given molecule.\n",
        "      Args:\n",
        "        smiles: the input smiles string\n",
        "      Returns:\n",
        "        qed: the QED score of the molecule.\n",
        "  '''\n",
        "  mol = Chem.MolFromSmiles(smiles)\n",
        "  qed = Chem.QED.default(mol)\n",
        "\n",
        "  return qed\n",
        "\n",
        "def lipinski_node(state: State) -> State:\n",
        "  '''\n",
        "    A tool to calculate QED and other lipinski properties of a molecule.\n",
        "      Args:\n",
        "        smiles: the input smiles string\n",
        "      Returns:\n",
        "        props_string: a string of the QED and other lipinski properties of the molecule,\n",
        "                      including Molecular Weight, LogP, HBA, HBD, Polar Surface Area,\n",
        "                      Rotatable Bonds, Aromatic Rings and Undesireable Moieties.\n",
        "  '''\n",
        "  smiles = state[\"query_smiles\"]\n",
        "\n",
        "  mol = Chem.MolFromSmiles(smiles)\n",
        "  qed = Chem.QED.default(mol)\n",
        "\n",
        "  p = Chem.QED.properties(mol)\n",
        "  mw = p[0]\n",
        "  logP = p[1]\n",
        "  hba = p[2]\n",
        "  hbd = p[3]\n",
        "  psa = p[4]\n",
        "  rb = p[5]\n",
        "  ar = p[6]\n",
        "  um = p[7]\n",
        "\n",
        "  props_string = f'''QED and other lipinski properties of the molecule:\n",
        "    SMILES: {smiles},\n",
        "    QED: {qed:.3f},\n",
        "    Molecular Weight: {mw:.3f},\n",
        "    LogP: {logP:.3f},\n",
        "    Hydrogen bond acceptors: {hba},\n",
        "    Hydrogen bond donors: {hbd},\n",
        "    Polar Surface Area: {psa:.3f},\n",
        "    Rotatable Bonds: {rb},\n",
        "    Aromatic Rings: {ar},\n",
        "    Undesireable moieties: {um}\n",
        "  '''\n",
        "\n",
        "  return {\"messages\": props_string}\n",
        "\n",
        "def pharmfeature_node(state: State) -> State:\n",
        "  '''\n",
        "    A tool to compare the pharmacophore features of a query molecule against\n",
        "    a those of a reference molecule and report the pharmacophore features of both and the feature\n",
        "    score of the query molecule.\n",
        "\n",
        "      Args:\n",
        "        known_smiles: the reference smiles string\n",
        "        test_smiles: the query smiles string\n",
        "      Returns:\n",
        "        props_string: a string of the pharmacophore features of both molecules and the feature\n",
        "                      score of the query molecule.\n",
        "  '''\n",
        "  test_smiles = state[\"query_smiles\"]\n",
        "  known_smiles = state[\"query_reference\"]\n",
        "\n",
        "  smiles = [known_smiles, test_smiles]\n",
        "  mols = [Chem.MolFromSmiles(x) for x in smiles]\n",
        "\n",
        "  mols = [Chem.AddHs(m) for m in mols]\n",
        "  ps = AllChem.ETKDGv3()\n",
        "\n",
        "  for m in mols:\n",
        "      AllChem.EmbedMolecule(m,ps)\n",
        "\n",
        "  o3d = rdMolAlign.GetO3A(mols[1],mols[0])\n",
        "  o3d.Align()\n",
        "\n",
        "  keep = ('Donor', 'Acceptor', 'NegIonizable', 'PosIonizable', 'ZnBinder', 'Aromatic', 'LumpedHydrophobe')\n",
        "  feat_hash = {'Donor': 'Hydrogen bond donors', 'Acceptor': 'Hydrogen bond acceptors',\n",
        "               'NegIonizable': 'Negatively ionizable groups', 'PosIonizable': 'Positively ionizable groups',\n",
        "               'ZnBinder': 'Zinc Binders', 'Aromatic': 'Aromatic rings', 'LumpedHydrophobe': 'Hydrophobic/non-polar groups' }\n",
        "\n",
        "  feat_vectors = []\n",
        "  for m in mols:\n",
        "      rawFeats = fdef.GetFeaturesForMol(m)\n",
        "      feat_vectors.append([f for f in rawFeats if f.GetFamily() in keep])\n",
        "\n",
        "  feat_maps = [FeatMaps.FeatMap(feats = x,weights=[1]*len(x),params=fmParams) for x in feat_vectors]\n",
        "  test_score = feat_maps[0].ScoreFeats(feat_maps[1].GetFeatures())/(feat_maps[0].GetNumFeatures())\n",
        "\n",
        "  feats_known = {}\n",
        "  feats_test = {}\n",
        "  for feat in feat_vectors[0]:\n",
        "    if feat.GetFamily() not in feats_known.keys():\n",
        "      feats_known[feat.GetFamily()]  = 1\n",
        "    else:\n",
        "      feats_known[feat.GetFamily()] += 1\n",
        "\n",
        "  for feat in feat_vectors[1]:\n",
        "    if feat.GetFamily() not in feats_test.keys():\n",
        "      feats_test[feat.GetFamily()]  = 1\n",
        "    else:\n",
        "      feats_test[feat.GetFamily()] += 1\n",
        "\n",
        "  props_string = f\"The Pharmacophore Feature Overlap Score of the test molecule \\\n",
        "versus the reference molecule is {test_score:.3f}. \\n\\n\"\n",
        "\n",
        "  for feat in feats_known.keys():\n",
        "    props_string += f\"There are {feats_known[feat]} {feat_hash[feat]} in the reference molecule. \\n\"\n",
        "\n",
        "  for feat in feats_test.keys():\n",
        "    props_string += f\"There are {feats_test[feat]} {feat_hash[feat]} in the test molecule. \\n\"\n",
        "\n",
        "  return {\"messages\": props_string}"
      ],
      "metadata": {
        "id": "avbVzIINoo6s"
      },
      "execution_count": 5,
      "outputs": []
    },
    {
      "cell_type": "markdown",
      "source": [
        "### Agent-related functions"
      ],
      "metadata": {
        "id": "TuoRkWeDpdFG"
      }
    },
    {
      "cell_type": "code",
      "source": [
        "def first_node(state: State) -> State:\n",
        "  '''\n",
        "    The first node of the agent. This node receives the input and asks the LLM\n",
        "    to determine which is the best tool to use to answer the QUERY TASK.\n",
        "\n",
        "      Input: the initial prompt from the user. should contain only one of more of the following:\n",
        "\n",
        "             smiles: the smiles string, task: the query task, path: the path to the file,\n",
        "             reference: the reference smiles\n",
        "\n",
        "             the value should be separated from the name by a ':' and each field should\n",
        "             be separated from the previous one by a ','.\n",
        "\n",
        "             All of these values are saved to the state\n",
        "\n",
        "      Output: the tool choice\n",
        "  '''\n",
        "  query_smiles = None\n",
        "  query_task = None\n",
        "  query_path = None\n",
        "  query_reference = None\n",
        "  tool_choice = None\n",
        "\n",
        "  raw_input = state[\"messages\"][-1].content\n",
        "  parts = raw_input.split(',')\n",
        "  for part in parts:\n",
        "    if 'smiles' in part:\n",
        "      query_smiles = part.split(':')[1]\n",
        "      state[\"query_smiles\"] = query_smiles\n",
        "    if 'task' in part:\n",
        "      query_task = part.split(':')[1]\n",
        "      state[\"query_task\"] = query_task\n",
        "    if 'path' in part:\n",
        "      query_path = part.split(':')[1]\n",
        "      state[\"query_path\"] = query_path\n",
        "    if 'reference' in part:\n",
        "      query_reference = part.split(':')[1]\n",
        "      state[\"query_reference\"] = query_reference\n",
        "  #print(query_smiles, query_task)\n",
        "\n",
        "  prompt = f'For the QUERY_TASK given below, determine if one of the tools descibed below \\\n",
        "can complete the task. If so, reply with only the tool name followed by \"#\". \\\n",
        "If the tools cannot complete the task, reply with \"None #\".\\n SMILES: {query_smiles}, \\\n",
        "QUERY_TASK: {query_task}.\\n \\\n",
        "Tools: \\n \\\n",
        "lipinski_tool: this tool can calculate the following properties: Quantitative \\\n",
        "Estimate of Drug-likeness (QED), Molecular weight, LogP (measures lipophilicity, higher is more lipophilic), \\\n",
        "HBA, HBD, Polar Surface Area, Rotatable Bonds, Aromatic Rings and Undesireable Moieties. \\n \\\n",
        "substitution_tool: this tool can generate analogues of the molecule by substituting \\\n",
        "different chemical groups on the original molecule. Returns a list of novel molecules and their \\\n",
        "QED score (1 is most drug-like, 0 is least drug-like). \\n \\\n",
        "pharm_feature_tool: this tool can compare the pharmacophore features of a query molecule against \\\n",
        "a those of a reference molecule and report the pharmacophore features of both and the feature \\\n",
        "score of the query molecule. This score tells how the common features score against each other, but \\\n",
        "does not inform about features unique to each molecule.'\n",
        "\n",
        "  res = chat_model.invoke(prompt)\n",
        "  #print(res)\n",
        "\n",
        "  tool_choice = str(res).split('<|assistant|>')[1].split('#')[0].strip()\n",
        "  state[\"tool_choice\"] = tool_choice\n",
        "\n",
        "  return state\n",
        "\n",
        "def parser_node(state: State) -> State:\n",
        "  '''\n",
        "    This is the third node in the agent. It receives the output from the tool,\n",
        "    puts it into a prompt as CONTEXT, and asks the LLM to answer the original\n",
        "    query.\n",
        "\n",
        "      Input: the output from the tool.\n",
        "      Output: the answer to the original query.\n",
        "  '''\n",
        "  props_string = state[\"messages\"][-1].content\n",
        "\n",
        "  query_task = state[\"query_task\"]\n",
        "\n",
        "  prompt = f'Using the CONTEXT below, answer the original query, which \\\n",
        "was to answer the QUERY_TASK. End your answer with a \"#\" \\\n",
        "QUERY_TASK: {query_task}.\\n \\\n",
        "CONTEXT: {props_string}.\\n '\n",
        "\n",
        "  res = chat_model.invoke(prompt)\n",
        "  return {\"messages\": res}\n",
        "\n",
        "def reflect_node(state: State) -> State:\n",
        "  '''\n",
        "    This is the fourth node of the agent. It recieves the LLMs previous answer and\n",
        "    tries to improve it.\n",
        "\n",
        "      Input: the LLMs last answer.\n",
        "      Output: the improved answer.\n",
        "  '''\n",
        "  previous_answer = state[\"messages\"][-1].content\n",
        "\n",
        "  prompt = f'Look at the PREVIOUS ANSWER below which you provided. \\\n",
        "Write an improved answer based on the PREVIOUS ANSWER by adding additional \\\n",
        "clarifying and enriching information. End your new answer with a \"#\" \\\n",
        "PREVIOUS ANSWER: {previous_answer}.\\n '\n",
        "\n",
        "  res = chat_model.invoke(prompt)\n",
        "  return {\"messages\": res}\n",
        "\n",
        "def get_chemtool(state):\n",
        "  return state[\"tool_choice\"]\n",
        "\n",
        "def pretty_print(answer):\n",
        "  final = str(answer['messages'][-1]).split('<|assistant|>')[-1].split('#')[0].strip(\"n\").strip('\\\\').strip('n').strip('\\\\')\n",
        "  for i in range(0,len(final),100):\n",
        "    print(final[i:i+100])\n",
        "\n",
        "def print_short(answer):\n",
        "  for i in range(0,len(answer),100):\n",
        "    print(answer[i:i+100])"
      ],
      "metadata": {
        "id": "pBUbWnNGtW8t"
      },
      "execution_count": 6,
      "outputs": []
    },
    {
      "cell_type": "markdown",
      "source": [
        "### Build and compile agent"
      ],
      "metadata": {
        "id": "yqMaLFBkuqyt"
      }
    },
    {
      "cell_type": "code",
      "source": [
        "builder = StateGraph(State)\n",
        "builder.add_node(\"first_node\", first_node)\n",
        "builder.add_node(\"substitution_node\", substitution_node)\n",
        "builder.add_node(\"lipinski_node\", lipinski_node)\n",
        "builder.add_node(\"pharmfeature_node\", pharmfeature_node)\n",
        "builder.add_node(\"parser_node\", parser_node)\n",
        "builder.add_node(\"reflect_node\", reflect_node)\n",
        "\n",
        "builder.add_edge(START, \"first_node\")\n",
        "builder.add_conditional_edges(\"first_node\", get_chemtool, {\n",
        "    \"substitution_tool\": \"substitution_node\",\n",
        "    \"lipinski_tool\": \"lipinski_node\",\n",
        "    \"pharm_feature_tool\": \"pharmfeature_node\"})\n",
        "\n",
        "builder.add_edge(\"lipinski_node\", \"parser_node\")\n",
        "builder.add_edge(\"substitution_node\", \"parser_node\")\n",
        "builder.add_edge(\"pharmfeature_node\", \"parser_node\")\n",
        "\n",
        "builder.add_edge(\"parser_node\", \"reflect_node\")\n",
        "builder.add_edge(\"reflect_node\", END)\n",
        "\n",
        "graph = builder.compile()"
      ],
      "metadata": {
        "id": "bAfKLuF2wZke"
      },
      "execution_count": 9,
      "outputs": []
    },
    {
      "cell_type": "markdown",
      "source": [
        "## Use Agent\n",
        "\n",
        "- the input prompt should contain only one of more of the following:\n",
        "\n",
        "    ```smiles: the smiles string, task: the query task, path: the path to the file, reference: the reference smiles```\n",
        "\n",
        "- the value should be separated from the name by a ':' and each field should\n",
        "  be separated from the previous one by a ','."
      ],
      "metadata": {
        "id": "a9zpxc1ovP91"
      }
    },
    {
      "cell_type": "markdown",
      "source": [
        "### View graph image"
      ],
      "metadata": {
        "id": "6izNELy6t1IR"
      }
    },
    {
      "cell_type": "code",
      "source": [
        "from PIL import Image\n",
        "import io\n",
        "\n",
        "img = graph.get_graph().draw_mermaid_png()\n",
        "image = Image.open(io.BytesIO(img))\n",
        "image"
      ],
      "metadata": {
        "colab": {
          "base_uri": "https://localhost:8080/",
          "height": 572
        },
        "id": "ryJiLWVuyfVA",
        "outputId": "978cc240-51c3-43a7-8a71-6c142a31451d"
      },
      "execution_count": 10,
      "outputs": [
        {
          "output_type": "execute_result",
          "data": {
            "text/plain": [
              "<PIL.PngImagePlugin.PngImageFile image mode=RGB size=564x555>"
            ],
            "image/png": "[encoded data removed]",
            "image/jpeg": "[encoded data removed]"
          },
          "metadata": {},
          "execution_count": 10
        }
      ]
    },
    {
      "cell_type": "markdown",
      "source": [
        "### Define prompt"
      ],
      "metadata": {
        "id": "FlW1vpOSt-lP"
      }
    },
    {
      "cell_type": "code",
      "source": [
        "input = {\n",
        "    \"messages\": [\n",
        "        HumanMessage('smiles: c1ccc(F)cc1, task: pharmacophore evaluation, reference: O=C(O)[C@@](NN)(Cc1cc(O)c(O)cc1)C')\n",
        "    ]\n",
        "}"
      ],
      "metadata": {
        "id": "GryqQxvtxBFh"
      },
      "execution_count": 11,
      "outputs": []
    },
    {
      "cell_type": "markdown",
      "source": [
        "### Get intermediate output"
      ],
      "metadata": {
        "id": "RyoviteY0msH"
      }
    },
    {
      "cell_type": "code",
      "source": [
        "cs = []\n",
        "for c in graph.stream(input): #, stream_mode='updates'):\n",
        "  m = re.findall(r'[a-z]+\\_node', str(c))\n",
        "  if len(m) != 0:\n",
        "    reply = c[str(m[0])]['messages']\n",
        "    if 'assistant' in str(reply):\n",
        "      reply = str(reply).split(\"<|assistant|>\")[-1].split('#')[0].strip()\n",
        "  print_short(reply)\n",
        "  cs.append(c)\n",
        "  print('===================================================')"
      ],
      "metadata": {
        "colab": {
          "base_uri": "https://localhost:8080/"
        },
        "id": "vqLOeIokxQ-r",
        "outputId": "3c955a7e-cb35-47df-aef2-59d32539a59a"
      },
      "execution_count": 14,
      "outputs": [
        {
          "output_type": "stream",
          "name": "stdout",
          "text": [
            "[HumanMessage(content='smiles: c1ccc(F)cc1, task: pharmacophore evaluation, reference: O=C(O)[C@@](NN)(Cc1cc(O)c(O)cc1)C', additional_kwargs={}, response_metadata={}, id='17c4e0a0-0ac4-4d02-937f-4e03dbab26aa')]\n",
            "===================================================\n",
            "The Pharmacophore Feature Overlap Score of the test molecule versus the reference molecule is 0.250.\n",
            " \n",
            "\n",
            "There are 5 Hydrogen bond donors in the reference molecule. \n",
            "There are 4 Hydrogen bond acceptors \n",
            "in the reference molecule. \n",
            "There are 1 Negatively ionizable groups in the reference molecule. \n",
            "Ther\n",
            "e are 1 Aromatic rings in the reference molecule. \n",
            "There are 1 Hydrophobic/non-polar groups in the r\n",
            "eference molecule. \n",
            "There are 1 Hydrogen bond acceptors in the test molecule. \n",
            "There are 1 Aromatic \n",
            "rings in the test molecule. \n",
            "There are 1 Hydrophobic/non-polar groups in the test molecule. \n",
            "\n",
            "===================================================\n",
            "The pharmacophore evaluation indicates that the test molecule has a partial similarity to the refere\n",
            "nce molecule with a score of 0.250. The reference molecule contains 5 hydrogen bond donors, 4 hydrog\n",
            "en bond acceptors, 1 negatively ionizable group, 1 aromatic ring, and 1 hydrophobic/non-polar group.\n",
            " The test molecule has 1 hydrogen bond acceptor, 1 aromatic ring, and 1 hydrophobic/non-polar group.\n",
            " The similarity score suggests that while there are some shared features, there are also notable dif\n",
            "ferences between the two molecules.\\n\\n\n",
            "===================================================\n",
            "The pharmacophore evaluation indicates that the test molecule has a partial similarity to the refere\n",
            "nce molecule with a score of 0.250. The reference molecule contains 5 hydrogen bond donors, 4 hydrog\n",
            "en bond acceptors, 1 negatively ionizable group, 1 aromatic ring, and 1 hydrophobic/non-polar group.\n",
            " The test molecule has 1 hydrogen bond acceptor, 1 aromatic ring, and 1 hydrophobic/non-polar group.\n",
            " The similarity score suggests that while there are some shared features, there are also notable dif\n",
            "ferences between the two molecules. The pharmacophore overlap score of 0.250 indicates that the test\n",
            " molecule shares some critical features with the reference molecule, such as the presence of an arom\n",
            "atic ring and a hydrophobic/non-polar group. However, the differences in the number of hydrogen bond\n",
            " donors and acceptors, as well as the absence of a negatively ionizable group in the test molecule, \n",
            "suggest that the test molecule may not fully replicate the binding characteristics of the reference \n",
            "molecule. This partial overlap could impact the binding affinity and specificity of the test molecul\n",
            "e to its target, necessitating further optimization to improve its pharmacophore features.\\n\\n\n",
            "===================================================\n"
          ]
        }
      ]
    },
    {
      "cell_type": "markdown",
      "source": [
        "### Get only final answer"
      ],
      "metadata": {
        "id": "f5bDXbjK0pzg"
      }
    },
    {
      "cell_type": "code",
      "source": [
        "input = {\n",
        "    \"messages\": [\n",
        "        HumanMessage('smiles: c1ccc(F)cc1, task: obeys lipinskis rules?')\n",
        "    ]\n",
        "}"
      ],
      "metadata": {
        "id": "DEjJAjlJXYlW"
      },
      "execution_count": 16,
      "outputs": []
    },
    {
      "cell_type": "code",
      "source": [
        "answer = graph.invoke(input)"
      ],
      "metadata": {
        "id": "hBVc0FK3xCeQ"
      },
      "execution_count": 17,
      "outputs": []
    },
    {
      "cell_type": "code",
      "source": [
        "pretty_print(answer)"
      ],
      "metadata": {
        "colab": {
          "base_uri": "https://localhost:8080/"
        },
        "id": "ZAoCq3D36GYV",
        "outputId": "63ed0b41-fdd0-427d-c76a-13437e78e876"
      },
      "execution_count": 18,
      "outputs": [
        {
          "output_type": "stream",
          "name": "stdout",
          "text": [
            "The query task asks if the molecule obeys Lipinski\\'s rules. Lipinski\\'s rules are a set of guidelin\n",
            "es used to evaluate the druglikeness of a compound, which include criteria such as molecular weight,\n",
            " logP, hydrogen bond donors, and hydrogen bond acceptors.\\n\\nThe given molecule has the following pr\n",
            "operties:\\n- Molecular Weight: 96.104\\n- LogP: 1.826\\n- Hydrogen bond donors: 0\\n- Hydrogen bond acc\n",
            "eptors: 0\\n\\nLipinski\\'s rules state:\\n1. The molecular weight should be less than 500 Daltons.\\n2. \n",
            "The logP should be less than 5.\\n3. The number of hydrogen bond donors should be 0 or 1.\\n4. The num\n",
            "ber of hydrogen bond acceptors should be 0 or 1.\\n\\nThe given molecule meets all these criteria:\\n1.\n",
            " Molecular weight is 96.104, which is less than 500.\\n2. LogP is 1.826, which is less than 5.\\n3. Hy\n",
            "drogen bond donors are 0, which is 0 or 1.\\n4. Hydrogen bond acceptors are 0, which is 0 or 1.\\n\\nTh\n",
            "erefore, the molecule obeys Lipinski\\'s rules.\n"
          ]
        }
      ]
    },
    {
      "cell_type": "code",
      "source": [
        "input = {\n",
        "    \"messages\": [\n",
        "        HumanMessage('smiles: c1ccc(F)cc1, task: generate analogues')\n",
        "    ]\n",
        "}"
      ],
      "metadata": {
        "id": "e7gfqpPRXkfw"
      },
      "execution_count": 21,
      "outputs": []
    },
    {
      "cell_type": "code",
      "source": [
        "cs = []\n",
        "for c in graph.stream(input): #, stream_mode='updates'):\n",
        "  m = re.findall(r'[a-z]+\\_node', str(c))\n",
        "  if len(m) != 0:\n",
        "    reply = c[str(m[0])]['messages']\n",
        "    if 'assistant' in str(reply):\n",
        "      reply = str(reply).split(\"<|assistant|>\")[-1].split('#')[0].strip()\n",
        "  print_short(reply)\n",
        "  cs.append(c)\n",
        "  print('===================================================')"
      ],
      "metadata": {
        "colab": {
          "base_uri": "https://localhost:8080/"
        },
        "id": "hBsTWts_XolA",
        "outputId": "935ee2f1-689f-4393-dd10-d8bc3f165a00"
      },
      "execution_count": 23,
      "outputs": [
        {
          "output_type": "stream",
          "name": "stdout",
          "text": [
            "[HumanMessage(content='smiles: c1ccc(F)cc1, task: substitutions', additional_kwargs={}, response_metadata={}, id='cd21b7f5-9742-450c-a5d2-c089869e0821')]\n",
            "===================================================\n",
            "Novel Molecules or Analogues and QED values: \n",
            "SMILES:  c1ccc(Cl)cc1, QED: 0.483\n",
            "SMILES:  c1ccc(O)cc1\n",
            ", QED: 0.515\n",
            "SMILES:  c1ccc(C)cc1, QED: 0.459\n",
            "SMILES:  c1ccc(OC)cc1, QED: 0.532\n",
            "SMILES:  c1ccc([NH3+\n",
            "])cc1, QED: 0.486\n",
            "SMILES:  c1ccc(Br)cc1, QED: 0.542\n",
            "SMILES:  c1ccc(C(F)(F)(F))cc1, QED: 0.527\n",
            "\n",
            "===================================================\n",
            "The SMILES string \"c1ccc(OC)cc1\" has a QED value of 0.532.\\n\\n\n",
            "===================================================\n",
            "The SMILES string \"c1ccc(OC)cc1\" corresponds to a compound where an oxygen atom is bonded to a carbo\n",
            "n atom within a phenyl ring. The QED (Quantitative Estimate of Drug-likeness) value for this molecul\n",
            "e is 0.532, which indicates a moderate level of drug-likeness according to the QED scoring system. T\n",
            "his value suggests that the molecule has a reasonable balance between desirable pharmacokinetic prop\n",
            "erties and potential toxicity, making it a potentially viable candidate for further drug development\n",
            ". The QED value is derived from a variety of molecular descriptors and provides a useful metric for \n",
            "comparing the drug-likeness of different molecules.\\n\\n\n",
            "===================================================\n"
          ]
        }
      ]
    },
    {
      "cell_type": "markdown",
      "source": [
        "## Use the model alone without the agentic ability"
      ],
      "metadata": {
        "id": "Cp9UzWavw0qc"
      }
    },
    {
      "cell_type": "code",
      "source": [
        "chat_model.invoke(\"does the molecule c1ccc(Br)cc1 obey Lipinski's rules??\")"
      ],
      "metadata": {
        "colab": {
          "base_uri": "https://localhost:8080/"
        },
        "id": "xtzSbILAxQNw",
        "outputId": "872d672f-ea68-4ccd-fbe1-eab46273644d"
      },
      "execution_count": null,
      "outputs": [
        {
          "output_type": "execute_result",
          "data": {
            "text/plain": [
              "AIMessage(content=\"<s><|system_start|>You are Apertus, a helpful assistant created by the SwissAI initiative.\\nKnowledge cutoff: 2024-04\\nCurrent date: 2025-09-06<|system_end|><|developer_start|>Deliberation: disabled\\nTool Capabilities: disabled<|developer_end|><|user_start|>does the molecule c1ccc(Br)cc1 obey Lipinski's rules??<|user_end|><|assistant_start|>To determine if the molecule C1CCC(Br)CC1 obeys Lipinski's rules, we need to evaluate it against the four criteria: \\n\\n1. Molecular Weight (MW) ≤ 500 Da\\n2. Number of Hydrogen Bond Donors (HBD) ≤ 5\\n3. Number of Hydrogen Bond Acceptors (HBA) ≤ 10\\n4. LogP ≤ 5\\n\\nLet's analyze each criterion:\\n\\n1. **Molecular Weight (MW)**: The molecular formula for C1CCC(Br)CC1 is C8H12Br, which has a molecular weight of approximately 165.84 g/mol. This is well below the 500 Da threshold.\\n\\n2. **Number of Hydrogen Bond Donors (HBD)**: The molecule has 8 hydrogen atoms. Each hydrogen atom can act as a hydrogen bond donor, so the maximum number of hydrogen bond donors is 8.\\n\\n3. **Number of Hydrogen Bond Acceptors (HBA)**: The molecule has 12 carbon atoms and 2 bromine atoms. Carbon atoms can act as hydrogen bond acceptors, and bromine atoms can also act as hydrogen bond acceptors. However, the exact number of hydrogen bond acceptors depends on the geometry of the molecule. For a linear molecule like this, we can estimate the number of hydrogen bond acceptors based on the number of carbon atoms and bromine atoms. A rough estimate would be around 12 (from the carbon atoms) plus 2 (from the bromine atoms), totaling 14. However, this is an approximation and the actual number could be slightly different.\\n\\n4. **LogP**: LogP is a measure of the lipophilicity of a molecule. A lower logP indicates a more hydrophilic molecule. For C1CCC(Br)CC1, we need to calculate the logP. This requires knowledge of the exact structure and the use of software or databases to estimate the logP. However, based on the structure, we can anticipate that the molecule is likely to have a relatively low logP due to the presence of bromine and the linear structure, which tends to make molecules more hydrophilic.\\n\\nGiven these analyses, the molecule C1CCC(Br)CC1 appears to meet all four criteria of Lipinski's rules:\\n\\n- Molecular Weight: ≤ 500 Da\\n- Number of Hydrogen Bond Donors: ≤ \", additional_kwargs={}, response_metadata={}, id='run--60f29821-afc7-4d3d-b500-55131a7edae1-0')"
            ]
          },
          "metadata": {},
          "execution_count": 17
        }
      ]
    },
    {
      "cell_type": "code",
      "source": [],
      "metadata": {
        "id": "T_nPOhBNRkjj"
      },
      "execution_count": null,
      "outputs": []
    }
  ]
}