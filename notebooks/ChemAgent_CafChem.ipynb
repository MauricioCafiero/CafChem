{
 "cells": [
  {
   "cell_type": "markdown",
   "metadata": {
    "id": "JbittvlsJsI6"
   },
   "source": [
    "#CafChem tools for using a simple AI Agent to perform chemistry-related tasks using HuggingFace models.\n",
    "\n",
    "[![Open In Colab](https://colab.research.google.com/assets/colab-badge.svg)](https://colab.research.google.com/github/MauricioCafiero/CafChem/blob/main/notebooks/ChemAgent_CafChem.ipynb)\n",
    "\n",
    "## This notebook allows you to:\n",
    "- Load a model from HuggingFace\n",
    "- Create a simple Agent using Langchain.\n",
    "- View intermediate results of the Agent.\n",
    "- compare against using the unadorned model.\n",
    "\n",
    "## Requirements:\n",
    "- This notebook will install several langchain and langgraph libraries and rdkit.\n",
    "- Runs well on an L4 GPU (using a 7.67 GB model). Will run on the v2-8 TPU runtime, with only slightly slower inference imes. Cannot run on CPU. (Colab runtimes)"
   ]
  },
  {
   "cell_type": "markdown",
   "metadata": {
    "id": "7aThlnzDSj5G"
   },
   "source": [
    "## Set-up"
   ]
  },
  {
   "cell_type": "markdown",
   "metadata": {
    "id": "cJ0e5Tt8Susd"
   },
   "source": [
    "### Install libraries"
   ]
  },
  {
   "cell_type": "code",
   "execution_count": 1,
   "metadata": {
    "colab": {
     "base_uri": "https://localhost:8080/"
    },
    "id": "McVtr-Fbsx0j",
    "outputId": "43d2f12a-ce39-46d4-a6e2-acd204148679"
   },
   "outputs": [
    {
     "name": "stdout",
     "output_type": "stream",
     "text": [
      "\u001b[?25l   \u001b[90m━━━━━━━━━━━━━━━━━━━━━━━━━━━━━━━━━━━━━━━━\u001b[0m \u001b[32m0.0/5.3 MB\u001b[0m \u001b[31m?\u001b[0m eta \u001b[36m-:--:--\u001b[0m\r",
      "\u001b[2K   \u001b[91m━━━━━━━━\u001b[0m\u001b[90m╺\u001b[0m\u001b[90m━━━━━━━━━━━━━━━━━━━━━━━━━━━━━━━\u001b[0m \u001b[32m1.1/5.3 MB\u001b[0m \u001b[31m32.6 MB/s\u001b[0m eta \u001b[36m0:00:01\u001b[0m\r",
      "\u001b[2K   \u001b[91m━━━━━━━━━━━━━━━━━━━━━━━━━━━━━━━━━━━━━━━\u001b[0m\u001b[91m╸\u001b[0m \u001b[32m5.2/5.3 MB\u001b[0m \u001b[31m87.9 MB/s\u001b[0m eta \u001b[36m0:00:01\u001b[0m\r",
      "\u001b[2K   \u001b[90m━━━━━━━━━━━━━━━━━━━━━━━━━━━━━━━━━━━━━━━━\u001b[0m \u001b[32m5.3/5.3 MB\u001b[0m \u001b[31m61.8 MB/s\u001b[0m eta \u001b[36m0:00:00\u001b[0m\n",
      "\u001b[2K   \u001b[90m━━━━━━━━━━━━━━━━━━━━━━━━━━━━━━━━━━━━━━━━\u001b[0m \u001b[32m3.3/3.3 MB\u001b[0m \u001b[31m92.9 MB/s\u001b[0m eta \u001b[36m0:00:00\u001b[0m\n",
      "\u001b[2K     \u001b[90m━━━━━━━━━━━━━━━━━━━━━━━━━━━━━━━━━━━━━━━━\u001b[0m \u001b[32m41.9/41.9 kB\u001b[0m \u001b[31m1.8 MB/s\u001b[0m eta \u001b[36m0:00:00\u001b[0m\n",
      "\u001b[2K   \u001b[90m━━━━━━━━━━━━━━━━━━━━━━━━━━━━━━━━━━━━━━━━\u001b[0m \u001b[32m444.0/444.0 kB\u001b[0m \u001b[31m10.5 MB/s\u001b[0m eta \u001b[36m0:00:00\u001b[0m\n",
      "\u001b[2K   \u001b[90m━━━━━━━━━━━━━━━━━━━━━━━━━━━━━━━━━━━━━━━━\u001b[0m \u001b[32m378.5/378.5 kB\u001b[0m \u001b[31m28.6 MB/s\u001b[0m eta \u001b[36m0:00:00\u001b[0m\n",
      "\u001b[2K   \u001b[90m━━━━━━━━━━━━━━━━━━━━━━━━━━━━━━━━━━━━━━━━\u001b[0m \u001b[32m132.9/132.9 kB\u001b[0m \u001b[31m12.3 MB/s\u001b[0m eta \u001b[36m0:00:00\u001b[0m\n",
      "\u001b[2K   \u001b[90m━━━━━━━━━━━━━━━━━━━━━━━━━━━━━━━━━━━━━━━━\u001b[0m \u001b[32m54.5/54.5 kB\u001b[0m \u001b[31m5.1 MB/s\u001b[0m eta \u001b[36m0:00:00\u001b[0m\n",
      "\u001b[2K   \u001b[90m━━━━━━━━━━━━━━━━━━━━━━━━━━━━━━━━━━━━━━━━\u001b[0m \u001b[32m5.5/5.5 MB\u001b[0m \u001b[31m100.5 MB/s\u001b[0m eta \u001b[36m0:00:00\u001b[0m\n",
      "\u001b[2K     \u001b[90m━━━━━━━━━━━━━━━━━━━━━━━━━━━━━━━━━━━━━━━━\u001b[0m \u001b[32m73.9/73.9 kB\u001b[0m \u001b[31m3.4 MB/s\u001b[0m eta \u001b[36m0:00:00\u001b[0m\n",
      "\u001b[2K   \u001b[90m━━━━━━━━━━━━━━━━━━━━━━━━━━━━━━━━━━━━━━━━\u001b[0m \u001b[32m2.5/2.5 MB\u001b[0m \u001b[31m41.1 MB/s\u001b[0m eta \u001b[36m0:00:00\u001b[0m\n",
      "\u001b[2K   \u001b[90m━━━━━━━━━━━━━━━━━━━━━━━━━━━━━━━━━━━━━━━━\u001b[0m \u001b[32m1.7/1.7 MB\u001b[0m \u001b[31m72.5 MB/s\u001b[0m eta \u001b[36m0:00:00\u001b[0m\n",
      "\u001b[2K   \u001b[90m━━━━━━━━━━━━━━━━━━━━━━━━━━━━━━━━━━━━━━━━\u001b[0m \u001b[32m1.0/1.0 MB\u001b[0m \u001b[31m47.7 MB/s\u001b[0m eta \u001b[36m0:00:00\u001b[0m\n",
      "\u001b[2K   \u001b[90m━━━━━━━━━━━━━━━━━━━━━━━━━━━━━━━━━━━━━━━━\u001b[0m \u001b[32m45.2/45.2 kB\u001b[0m \u001b[31m3.4 MB/s\u001b[0m eta \u001b[36m0:00:00\u001b[0m\n",
      "\u001b[2K   \u001b[90m━━━━━━━━━━━━━━━━━━━━━━━━━━━━━━━━━━━━━━━━\u001b[0m \u001b[32m64.7/64.7 kB\u001b[0m \u001b[31m5.7 MB/s\u001b[0m eta \u001b[36m0:00:00\u001b[0m\n",
      "\u001b[2K   \u001b[90m━━━━━━━━━━━━━━━━━━━━━━━━━━━━━━━━━━━━━━━━\u001b[0m \u001b[32m3.3/3.3 MB\u001b[0m \u001b[31m106.1 MB/s\u001b[0m eta \u001b[36m0:00:00\u001b[0m\n",
      "\u001b[2K   \u001b[90m━━━━━━━━━━━━━━━━━━━━━━━━━━━━━━━━━━━━━━━━\u001b[0m \u001b[32m241.8/241.8 kB\u001b[0m \u001b[31m20.2 MB/s\u001b[0m eta \u001b[36m0:00:00\u001b[0m\n",
      "\u001b[2K   \u001b[90m━━━━━━━━━━━━━━━━━━━━━━━━━━━━━━━━━━━━━━━━\u001b[0m \u001b[32m607.6/607.6 kB\u001b[0m \u001b[31m42.3 MB/s\u001b[0m eta \u001b[36m0:00:00\u001b[0m\n",
      "\u001b[2K   \u001b[90m━━━━━━━━━━━━━━━━━━━━━━━━━━━━━━━━━━━━━━━━\u001b[0m \u001b[32m50.9/50.9 kB\u001b[0m \u001b[31m4.5 MB/s\u001b[0m eta \u001b[36m0:00:00\u001b[0m\n",
      "\u001b[2K   \u001b[90m━━━━━━━━━━━━━━━━━━━━━━━━━━━━━━━━━━━━━━━━\u001b[0m \u001b[32m224.4/224.4 kB\u001b[0m \u001b[31m22.6 MB/s\u001b[0m eta \u001b[36m0:00:00\u001b[0m\n",
      "\u001b[2K   \u001b[90m━━━━━━━━━━━━━━━━━━━━━━━━━━━━━━━━━━━━━━━━\u001b[0m \u001b[32m355.6/355.6 kB\u001b[0m \u001b[31m30.6 MB/s\u001b[0m eta \u001b[36m0:00:00\u001b[0m\n",
      "\u001b[2K   \u001b[90m━━━━━━━━━━━━━━━━━━━━━━━━━━━━━━━━━━━━━━━━\u001b[0m \u001b[32m1.8/1.8 MB\u001b[0m \u001b[31m68.2 MB/s\u001b[0m eta \u001b[36m0:00:00\u001b[0m\n",
      "\u001b[?25h\u001b[31mERROR: pip's dependency resolver does not currently take into account all the packages that are installed. This behaviour is the source of the following dependency conflicts.\n",
      "google-colab 1.0.0 requires requests==2.32.4, but you have requests 2.32.5 which is incompatible.\u001b[0m\u001b[31m\n",
      "\u001b[0mCollecting duckduckgo-search\n",
      "  Downloading duckduckgo_search-8.1.1-py3-none-any.whl.metadata (16 kB)\n",
      "Requirement already satisfied: click>=8.1.8 in /usr/local/lib/python3.12/dist-packages (from duckduckgo-search) (8.2.1)\n",
      "Requirement already satisfied: primp>=0.15.0 in /usr/local/lib/python3.12/dist-packages (from duckduckgo-search) (0.15.0)\n",
      "Requirement already satisfied: lxml>=5.3.0 in /usr/local/lib/python3.12/dist-packages (from duckduckgo-search) (6.0.1)\n",
      "Downloading duckduckgo_search-8.1.1-py3-none-any.whl (18 kB)\n",
      "Installing collected packages: duckduckgo-search\n",
      "Successfully installed duckduckgo-search-8.1.1\n"
     ]
    }
   ],
   "source": [
    "!pip install -U ddgs -q\n",
    "!pip install --upgrade --quiet  langchain-huggingface\n",
    "!pip install langchain_core --quiet\n",
    "! pip -q install langchain_community\n",
    "!pip install -q langgraph\n",
    "!pip install duckduckgo-search\n",
    "! pip install rdkit -q"
   ]
  },
  {
   "cell_type": "markdown",
   "metadata": {
    "id": "AtMrObKoSqVJ"
   },
   "source": [
    "### Import libraries and start the model"
   ]
  },
  {
   "cell_type": "code",
   "execution_count": 2,
   "metadata": {
    "id": "hAwXlc9gs5fU"
   },
   "outputs": [],
   "source": [
    "import torch\n",
    "from typing import Annotated, TypedDict\n",
    "from langchain_community.tools import DuckDuckGoSearchRun\n",
    "from langchain_core.tools import tool\n",
    "from langgraph.prebuilt import ToolNode, tools_condition\n",
    "from langgraph.graph import StateGraph, START, END\n",
    "from langgraph.graph.message import add_messages\n",
    "from langchain_core.messages import SystemMessage, trim_messages, AIMessage, HumanMessage, ToolCall\n",
    "\n",
    "from langchain_huggingface.llms import HuggingFacePipeline\n",
    "from langchain_huggingface import ChatHuggingFace\n",
    "from langchain_core.prompts import PromptTemplate, ChatPromptTemplate\n",
    "from langchain_core.runnables import chain\n",
    "from uuid import uuid4\n",
    "import re\n",
    "import matplotlib.pyplot as plt\n",
    "\n",
    "from rdkit import Chem\n",
    "from rdkit.Chem import AllChem, QED\n",
    "from rdkit.Chem import Draw\n",
    "\n",
    "device = \"cuda\" if torch.cuda.is_available() else \"cpu\""
   ]
  },
  {
   "cell_type": "code",
   "execution_count": 3,
   "metadata": {
    "colab": {
     "base_uri": "https://localhost:8080/",
     "height": 485,
     "referenced_widgets": [
      "e474ea5aac8d47eaae3ca2d4b370f8de",
      "74ae744e460f4ae6bca34a62995f6f2a",
      "41f3a686853f495abc9859d79184cae7",
      "bac9138dd8d442119417ad4cd39a5b2a",
      "aee3988ab5ab48918ed355089cebf052",
      "da515c3429604340a114183884736190",
      "1cf5badbecdc410db12570e576e44c69",
      "84675174cc5f4f25a67c6e3a7f1c6fad",
      "a70dfb8cefd045d796707a944515f4fd",
      "1974b2c9feda4a3fb3bcf73ac0df04d9",
      "3bccca91133b4b349888ad030ee75c0c",
      "2b72991829da456485ebaf2103a13658",
      "edd6e64c45854a30aab0cd6a6b29e55d",
      "d119af8fdb3f40c598cc0c7906a6beab",
      "832a634be5e04da78d524d2dbafda687",
      "e050b2b647584490a1fb0d6a816c8638",
      "2b5e88d6cbb04266ab5799448dbca168",
      "1217b52af15942a194a0cb319b2f94eb",
      "356902769c2c406b9c8f7df9b2b3b38b",
      "f6ed02caebb444cb8b28a4bdaedec06c",
      "754abf1811444c1cbbdf3e4c694d4ab8",
      "7a4e2ca74eb5488082e363fe5924b5d9",
      "4c05a1d252b542c3aad3d4e4876351da",
      "7e5b167351214ebc99ee0b524e48cc24",
      "0429caf5b0da4d7aaa28067ceab69091",
      "0727b24bbe41477fabd6498a3cc5d950",
      "80189254c8d54872808e254f2120c420",
      "2c2614d711ac487396d090de7a614bf3",
      "98cd06d95ee54ccc9e51b52f6676e2d7",
      "18060c5403e244afa8f05d9becfef525",
      "c75c89d9c9cd4deebe697ae2a2680f8f",
      "79b31131be0741b98a594b936b464b7a",
      "9d67f4ad85364e16960ad54a9d9c2a63",
      "8ab5671d596a48cba9cfa38e098b6ef4",
      "c46409c5b39d42989ea5d1872e79e798",
      "08e234ec023547e88a9bddab7921a444",
      "6a6e0397dd4349e3aaab2fde20ce77ab",
      "1cff9c396cdd4ada90fbd2197fb346ae",
      "dd76c347df1b4568805a1659e8b2438b",
      "ba17e1074f724985a491465470bdd718",
      "5686e4b5cacd48c5ba2c2e1118bd6c09",
      "a91f4c4af00d477fbfdb2104065c7f32",
      "4b7eb767de684e059389f17d9e548141",
      "45af7ed2bd204401b7b871fea89e4a04",
      "979804e8922644e8b796d2f261ae1326",
      "e8a1600d4883450ab6b26b732817fc8d",
      "16cf7c8aa9984782a4d9c0b7e06de2c9",
      "069f845cc89d4d2097ad5d2b51a99803",
      "a7fc0c0d4a7d4b5c89a77a203342040d",
      "61d489319fc245b4b02312c0c8aa4b3c",
      "30ae49721400418796efdbdb881b23d3",
      "36c5e52a7414449799c881652b28f03a",
      "9b9c638a677d494b9b177234d91ba77d",
      "775a00201a1d4e798f663491a964d1a7",
      "1002675e351845a8bf43f2b34ba9565b",
      "e5dd12d73224439f86e2ad6a7d1e5a1e",
      "51a0b51aebdb497f8b691fd744e4cccb",
      "8395080c166e4f0d9ae9f45d6b4d7163",
      "3576b154549e4fcf9cbacdf2fa98fad4",
      "1f2809c16c7641fdbf47f20d9af83ffc",
      "fbd3d73653cb4cf8aeeb50d267bc2e1c",
      "3c12f8e0e3e64fec8d1ce4d24fe9bd07",
      "6a127750fa8c4eb5b428371c9ad001fb",
      "820094c566ff47e0be0d6fde84f6d733",
      "d0895b54218349e98442a9d8ffb38e27",
      "ac432d76812b4a5a95454ebd1d1304ff",
      "07fc31fc805c4964a3d92db031817311",
      "4fa75dee749c4ed9bc0926c7bcf76558",
      "f004b488d7b64301b68012def06a4159",
      "4d97b4f5d6454109b62ba0a24c0d0a08",
      "a2cc6c4beb5847648f4ee8c40a0823d9",
      "cf587ac4981e4cf681b717f093c2dcff",
      "477f254c1bc244ec83fdce60c1c63ff2",
      "de831e6437574c0199a638bf634a05db",
      "95e86b6006724ad1984f013fd52216e5",
      "b6b81e9b0e3f46b6bec57a9af8bf8de9",
      "17017741c5fc498abfe33bfe9ea76861",
      "1f2c0ab5e672422e9b81c3bcd6b17b2a",
      "323c627bc3ef4a42aae2b0a84c44e009",
      "ab4d412944ff44c383689686130bc044",
      "5df4b4d1e835406695b3f8422b0dd02e",
      "6aae11d173a84a8eb5f0e9fba3f6935f",
      "20e9122f8db541c597f4cd7158812c3f",
      "50ee6312ae9e4a52b2ed154bb06d889f",
      "dfd1ccec4f094ac7887ead3e4b53dde2",
      "4c83038838a24817b548c9d57d92d215",
      "b010d57db17146eb9a728ada15f84985",
      "1c72edfaca364bd3a3b89749aa7d9c0d",
      "11fbf785d2064714b4d2e7c57b931571",
      "3dea45eb4fea4e0f9e04a51684e668d4",
      "dbcd0f0125f94956b5a05f810edd5bc8",
      "9e72d9ed542f44d0a595f26b3e405af6",
      "969838eae6be49428193543a4f391b87",
      "4b6dcf7ee801439386feb2f062d8faea",
      "9b39658ae34d47ca8b15d37b2783a2b5",
      "5c2d5600ee0944389989333068429d9b",
      "9ffd41fa61d045a98d03eda0ab67b6e7",
      "ad8a496d21614519993aaec23b917a33",
      "8041b1408c16466cade88f31484f8989",
      "9cf9c97c41d744f6936b08b37c1d777d",
      "bc599823d4024a5b8008a390de9ab43f",
      "bc9d2712233a464981077e4f7c8194f9",
      "4e37e91d319349898f5b329c2a732117",
      "e5e9b90be4934a12aea9fef9b9d374a2",
      "49921c227a154c8e8edafc6062d6b272",
      "742acc8a367f43fb8c31bb298380bf0f",
      "100bf5eab4744b7ea97a899d70d2400d",
      "0e8af3d955d44231bf8a68d8445fae2c",
      "cacdce244b9547048677af4f2d2e8df0",
      "e4d92d7f69e94d7ca0e71fdbcff92c61",
      "16feb5f9681846c39f135605fc10ace0",
      "2defe5cf2753495caf79a25be9cce6b9",
      "d6ef3677ff994ddeb4bb9841ff4dca1d",
      "bb46342f65084a7a9f5afcc7e4d6615d",
      "97eaf2c519e648708052977e41f00321",
      "261fa253e7a54a79ba08501f2526b765",
      "ada877fc584349c3b0b90f004dc6aec0",
      "2e94ee005f3347eeb36a3b7f9d42afbc",
      "a84857b072f0465caa6691a5ab50200c",
      "a8003e95b1424bcea6b5d427a1ea91dd",
      "31776fd9029c495bb5c0578bc51d2781",
      "71b04eae6e4348959be439a170693ec6",
      "d01f965e6c054efca259caf1761b7581",
      "0b0d790f58c9429f8befc0d526e78697",
      "8e8f1b989040440284ee5d6fc6133c87",
      "16e9e25322c84ad69836219d2ea914f3",
      "84bc1c7593644623888b0d2df33aa40b",
      "be610a05a20f40be80f4af18c9312ba8",
      "c5ec2857d5254315b9a224ef8198c203",
      "b6fbc4bd0cc245f6975a120ee24e38f5",
      "7371af5a19ea4b0388d387a6a3d8d7a2",
      "009958539d2c477a90914a7d672c20cb",
      "f769a1cf701b41c9b685af7171824146",
      "838b5b798c8444418a920375a0282e69",
      "36ab7734a5834aa2aba9899e8c933d8c",
      "4d0ae59324524cef99435ab320adb212",
      "e2e3c0e2947f4af8a8c998bd9edc521a",
      "f05cd6243296408089c6f3e677099630",
      "40db75955c144208a4298d5398b37e91",
      "181d733981d343d1bb36da4756e26953",
      "26a72ee776854201882617fc319a020b",
      "db94ef086e984fadb1928e853e169b81",
      "5c2e815cf4904ef08d5bf23f2ab20a77"
     ]
    },
    "id": "dIXksBtjtLyR",
    "outputId": "94b0f024-6715-4f93-cdfd-c196cf2157aa"
   },
   "outputs": [
    {
     "name": "stderr",
     "output_type": "stream",
     "text": [
      "/usr/local/lib/python3.12/dist-packages/torch_xla/experimental/gru.py:113: SyntaxWarning: invalid escape sequence '\\_'\n",
      "  * **h_n**: tensor of shape :math:`(D * \\text{num\\_layers}, H_{out})` or\n"
     ]
    },
    {
     "data": {
      "application/vnd.jupyter.widget-view+json": {
       "model_id": "e474ea5aac8d47eaae3ca2d4b370f8de",
       "version_major": 2,
       "version_minor": 0
      },
      "text/plain": [
       "tokenizer_config.json: 0.00B [00:00, ?B/s]"
      ]
     },
     "metadata": {},
     "output_type": "display_data"
    },
    {
     "data": {
      "application/vnd.jupyter.widget-view+json": {
       "model_id": "2b72991829da456485ebaf2103a13658",
       "version_major": 2,
       "version_minor": 0
      },
      "text/plain": [
       "vocab.json: 0.00B [00:00, ?B/s]"
      ]
     },
     "metadata": {},
     "output_type": "display_data"
    },
    {
     "data": {
      "application/vnd.jupyter.widget-view+json": {
       "model_id": "4c05a1d252b542c3aad3d4e4876351da",
       "version_major": 2,
       "version_minor": 0
      },
      "text/plain": [
       "merges.txt: 0.00B [00:00, ?B/s]"
      ]
     },
     "metadata": {},
     "output_type": "display_data"
    },
    {
     "data": {
      "application/vnd.jupyter.widget-view+json": {
       "model_id": "8ab5671d596a48cba9cfa38e098b6ef4",
       "version_major": 2,
       "version_minor": 0
      },
      "text/plain": [
       "tokenizer.json:   0%|          | 0.00/15.5M [00:00<?, ?B/s]"
      ]
     },
     "metadata": {},
     "output_type": "display_data"
    },
    {
     "data": {
      "application/vnd.jupyter.widget-view+json": {
       "model_id": "979804e8922644e8b796d2f261ae1326",
       "version_major": 2,
       "version_minor": 0
      },
      "text/plain": [
       "added_tokens.json:   0%|          | 0.00/249 [00:00<?, ?B/s]"
      ]
     },
     "metadata": {},
     "output_type": "display_data"
    },
    {
     "data": {
      "application/vnd.jupyter.widget-view+json": {
       "model_id": "e5dd12d73224439f86e2ad6a7d1e5a1e",
       "version_major": 2,
       "version_minor": 0
      },
      "text/plain": [
       "special_tokens_map.json:   0%|          | 0.00/587 [00:00<?, ?B/s]"
      ]
     },
     "metadata": {},
     "output_type": "display_data"
    },
    {
     "data": {
      "application/vnd.jupyter.widget-view+json": {
       "model_id": "07fc31fc805c4964a3d92db031817311",
       "version_major": 2,
       "version_minor": 0
      },
      "text/plain": [
       "config.json: 0.00B [00:00, ?B/s]"
      ]
     },
     "metadata": {},
     "output_type": "display_data"
    },
    {
     "data": {
      "application/vnd.jupyter.widget-view+json": {
       "model_id": "1f2c0ab5e672422e9b81c3bcd6b17b2a",
       "version_major": 2,
       "version_minor": 0
      },
      "text/plain": [
       "model.safetensors.index.json: 0.00B [00:00, ?B/s]"
      ]
     },
     "metadata": {},
     "output_type": "display_data"
    },
    {
     "data": {
      "application/vnd.jupyter.widget-view+json": {
       "model_id": "11fbf785d2064714b4d2e7c57b931571",
       "version_major": 2,
       "version_minor": 0
      },
      "text/plain": [
       "Fetching 2 files:   0%|          | 0/2 [00:00<?, ?it/s]"
      ]
     },
     "metadata": {},
     "output_type": "display_data"
    },
    {
     "data": {
      "application/vnd.jupyter.widget-view+json": {
       "model_id": "9cf9c97c41d744f6936b08b37c1d777d",
       "version_major": 2,
       "version_minor": 0
      },
      "text/plain": [
       "model-00001-of-00002.safetensors:   0%|          | 0.00/4.90G [00:00<?, ?B/s]"
      ]
     },
     "metadata": {},
     "output_type": "display_data"
    },
    {
     "data": {
      "application/vnd.jupyter.widget-view+json": {
       "model_id": "16feb5f9681846c39f135605fc10ace0",
       "version_major": 2,
       "version_minor": 0
      },
      "text/plain": [
       "model-00002-of-00002.safetensors:   0%|          | 0.00/2.77G [00:00<?, ?B/s]"
      ]
     },
     "metadata": {},
     "output_type": "display_data"
    },
    {
     "data": {
      "application/vnd.jupyter.widget-view+json": {
       "model_id": "71b04eae6e4348959be439a170693ec6",
       "version_major": 2,
       "version_minor": 0
      },
      "text/plain": [
       "Loading checkpoint shards:   0%|          | 0/2 [00:00<?, ?it/s]"
      ]
     },
     "metadata": {},
     "output_type": "display_data"
    },
    {
     "data": {
      "application/vnd.jupyter.widget-view+json": {
       "model_id": "f769a1cf701b41c9b685af7171824146",
       "version_major": 2,
       "version_minor": 0
      },
      "text/plain": [
       "generation_config.json:   0%|          | 0.00/168 [00:00<?, ?B/s]"
      ]
     },
     "metadata": {},
     "output_type": "display_data"
    },
    {
     "name": "stderr",
     "output_type": "stream",
     "text": [
      "Device set to use cpu\n"
     ]
    }
   ],
   "source": [
    "hf = HuggingFacePipeline.from_model_id(\n",
    "    model_id=\"microsoft/Phi-4-mini-instruct\",\n",
    "    task=\"text-generation\",\n",
    "    pipeline_kwargs = {\"max_new_tokens\": 500, \"temperature\": 0.4})\n",
    "\n",
    "chat_model = ChatHuggingFace(llm=hf)"
   ]
  },
  {
   "cell_type": "markdown",
   "metadata": {
    "id": "tn0Qb6etSyQf"
   },
   "source": [
    "## Define Functions"
   ]
  },
  {
   "cell_type": "markdown",
   "metadata": {
    "id": "KH5j6oJWom_n"
   },
   "source": [
    "### Chemistry Functions"
   ]
  },
  {
   "cell_type": "code",
   "execution_count": 4,
   "metadata": {
    "id": "avbVzIINoo6s"
   },
   "outputs": [],
   "source": [
    "def substitution_tool(smiles: str) -> list:\n",
    "  '''\n",
    "    A simple substitution routine that looks for a substituent on a phenyl ring and\n",
    "    substitutes different fragments in that location. Returns a list of novel molecules and their\n",
    "    QED score (1 is most drug-like, 0 is least drug-like).\n",
    "\n",
    "      Args:\n",
    "        smiles: the input smiles string\n",
    "      Returns:\n",
    "        new_smiles_string: a string of novel molecules and their QED scores.\n",
    "  '''\n",
    "  new_fragments = [\"c(Cl)c\", \"c(F)c\", \"c(O)c\", \"c(C)c\", \"c(OC)c\", \"c([NH3+])c\",\n",
    "                   \"c(Br)c\", \"c(C(F)(F)(F))c\"]\n",
    "\n",
    "  new_smiles = []\n",
    "  for fragment in new_fragments:\n",
    "    m = re.findall(r\"c(\\D\\D*)c\", smiles)\n",
    "    if len(m) != 0:\n",
    "      for group in m:\n",
    "        #print(group)\n",
    "        if fragment not in group:\n",
    "          new_smile = smiles.replace(group[1:], fragment)\n",
    "          new_smiles.append(new_smile)\n",
    "\n",
    "  qeds = []\n",
    "  for new_smile in new_smiles:\n",
    "    qeds.append(get_qed(new_smile))\n",
    "\n",
    "  new_smiles_string = \"Novel Molecules or Analogues and QED values: \\n\"\n",
    "  for i in range(len(new_smiles)):\n",
    "    new_smiles_string += f\"SMILES: {new_smiles[i]}, QED: {qeds[i]:.3f}\\n\"\n",
    "\n",
    "  return new_smiles_string\n",
    "\n",
    "def get_qed(smiles):\n",
    "  '''\n",
    "    Helper function to compute QED for a given molecule.\n",
    "      Args:\n",
    "        smiles: the input smiles string\n",
    "      Returns:\n",
    "        qed: the QED score of the molecule.\n",
    "  '''\n",
    "  mol = Chem.MolFromSmiles(smiles)\n",
    "  qed = Chem.QED.default(mol)\n",
    "\n",
    "  return qed\n",
    "\n",
    "def lipinski_tool(smiles):\n",
    "  '''\n",
    "    A tool to calculate QED and other lipinski properties of a molecule.\n",
    "      Args:\n",
    "        smiles: the input smiles string\n",
    "      Returns:\n",
    "        props_string: a string of the QED and other lipinski properties of the molecule,\n",
    "                      including Molecular Weight, LogP, HBA, HBD, Polar Surface Area,\n",
    "                      Rotatable Bonds, Aromatic Rings and Undesireable Moieties.\n",
    "  '''\n",
    "  mol = Chem.MolFromSmiles(smiles)\n",
    "  qed = Chem.QED.default(mol)\n",
    "\n",
    "  p = Chem.QED.properties(mol)\n",
    "  mw = p[0]\n",
    "  logP = p[1]\n",
    "  hba = p[2]\n",
    "  hbd = p[3]\n",
    "  psa = p[4]\n",
    "  rb = p[5]\n",
    "  ar = p[6]\n",
    "  um = p[7]\n",
    "\n",
    "  props_string = f'''QED and other lipinski properties of the molecule:\n",
    "    SMILES: {smiles},\n",
    "    QED: {qed:.3f},\n",
    "    Molecular Weight: {mw},\n",
    "    LogP: {logP:.3f},\n",
    "    Hydrogen bond acceptors: {hba},\n",
    "    Hydrogen bond donors: {hbd},\n",
    "    Polar Surface Area: {psa:.3f},\n",
    "    Rotatable Bonds: {rb},\n",
    "    Aromatic Rings: {ar},\n",
    "    Undesireable moieties: {um}\n",
    "  '''\n",
    "\n",
    "  return props_string"
   ]
  },
  {
   "cell_type": "markdown",
   "metadata": {
    "id": "TuoRkWeDpdFG"
   },
   "source": [
    "### Agent-related functions"
   ]
  },
  {
   "cell_type": "code",
   "execution_count": 5,
   "metadata": {
    "id": "pBUbWnNGtW8t"
   },
   "outputs": [],
   "source": [
    "class State(TypedDict):\n",
    "  '''\n",
    "    The state of the agent.\n",
    "  '''\n",
    "  messages: Annotated[list, add_messages]\n",
    "\n",
    "def first_node(state: State) -> State:\n",
    "  '''\n",
    "    The first node of the agent. This node receives the input and asks the LLM\n",
    "    to determine which is the best tool to use to answer the QUERY TASK.\n",
    "\n",
    "      Input: the initial prompt from the user. should contain only one of more of the following:\n",
    "\n",
    "             smiles: the smiles string, task: the query task, path: the path to the file\n",
    "\n",
    "             the value should be separated from the name by a ':' and each field should\n",
    "             be separated from the previous one by a ','.\n",
    "\n",
    "      Output: the smiles string and the QUERY TASK.\n",
    "  '''\n",
    "  query_smiles = None\n",
    "  query_task = None\n",
    "  query_path = None\n",
    "\n",
    "  raw_input = state[\"messages\"][-1].content\n",
    "  parts = raw_input.split(',')\n",
    "  for part in parts:\n",
    "    if 'smiles' in part:\n",
    "      query_smiles = part.split(':')[1]\n",
    "    if 'task' in part:\n",
    "      query_task = part.split(':')[1]\n",
    "    if 'path' in part:\n",
    "      query_path = part.split(':')[1]\n",
    "  #print(query_smiles, query_task)\n",
    "\n",
    "  prompt = f'For the QUERY_TASK given below, determine if one of the tools descibed below \\\n",
    "can complete the task. If so, reply with only the tool name followed by \"#\". \\\n",
    "If the tools cannot complete the task, reply with \"None #\". SMILES: {query_smiles}, \\\n",
    "QUERY_TASK: {query_task}.\\n \\\n",
    "Tools: \\n \\\n",
    "lipinski_tool: this tool can calculate the following properties: Quantitative \\\n",
    "Estimate of Drug-likeness (QED), Molecular weight, LogP (measures lipophilicity, higher is more lipophilic), \\\n",
    "HBA, HBD, Polar Surface Area, Rotatable Bonds, Aromatic Rings and Undesireable Moieties. \\n \\\n",
    "substitution_tool: this tool can generate analogues of the molecule by substituting \\\n",
    "different chemical groups on the original molecule. Returns a list of novel molecules and their \\\n",
    "QED score (1 is most drug-like, 0 is least drug-like).'\n",
    "\n",
    "  res = chat_model.invoke(prompt)\n",
    "  #print(res)\n",
    "\n",
    "  tool = str(res).split('<|assistant|>')[1].split('#')[0].strip()\n",
    "  answer = f\"{tool}\"\n",
    "  if query_smiles is not None:\n",
    "    answer += f\", {query_smiles}\"\n",
    "  if query_path is not None:\n",
    "    answer += f\", {query_path}\"\n",
    "\n",
    "  return {\"messages\": answer}\n",
    "\n",
    "def router_node(state: State) -> State:\n",
    "  '''\n",
    "    This is the second node of the agent. It takes the tool suggestion from the first\n",
    "    node and sends the appropriate data there. After receiving the response string,\n",
    "    it sends it back to the LLM in the next node.\n",
    "\n",
    "      Input: the tool suggestion from the first node.\n",
    "      Output: the response string from the selectd tool.\n",
    "  '''\n",
    "  raw_input = state[\"messages\"][-1].content\n",
    "  query_smiles = raw_input.split(',')[1]\n",
    "  tool_choice = raw_input.split(',')[0]\n",
    "  #print(tool_choice)\n",
    "\n",
    "  if \"lipinski_tool\" in tool_choice:\n",
    "    props = lipinski_tool(query_smiles)\n",
    "  elif \"substitution_tool\" in tool_choice:\n",
    "    props = substitution_tool(query_smiles)\n",
    "  else:\n",
    "    props = \"Nothing\"\n",
    "\n",
    "  return {\"messages\": props}\n",
    "\n",
    "def parser_node(state: State) -> State:\n",
    "  '''\n",
    "    This is the third node in the agent. It receives the output from the tool,\n",
    "    puts it into a prompt as CONTEXT, and asks the LLM to answer the original\n",
    "    query.\n",
    "\n",
    "      Input: the output from the tool.\n",
    "      Output: the answer to the original query.\n",
    "  '''\n",
    "  props_string = state[\"messages\"][-1].content\n",
    "\n",
    "  raw_input = state[\"messages\"][0].content\n",
    "  parts = raw_input.split(',')\n",
    "  for part in parts:\n",
    "    if 'task' in part:\n",
    "      query_task = part\n",
    "\n",
    "  prompt = f'Using the CONTEXT below, answer the original query, which \\\n",
    "was to answer the QUERY_TASK. End your answer with a \"#\" \\\n",
    "QUERY_TASK: {query_task}.\\n \\\n",
    "CONTEXT: {props_string}.\\n '\n",
    "\n",
    "  res = chat_model.invoke(prompt)\n",
    "  return {\"messages\": res}\n",
    "\n",
    "def reflect_node(state: State) -> State:\n",
    "  '''\n",
    "    This is the fourth node of the agent. It recieves the LLMs previous answer and\n",
    "    tries to improve it.\n",
    "\n",
    "      Input: the LLMs last answer.\n",
    "      Output: the improved answer.\n",
    "  '''\n",
    "  previous_answer = state[\"messages\"][-1].content\n",
    "\n",
    "  prompt = f'Look at the PREVIOUS ANSWER below which you provided. \\\n",
    "Write an improved answer based on the PREVIOUS ANSWER by adding additional \\\n",
    "clarifying and enriching information. End your new answer with a \"#\" \\\n",
    "PREVIOUS ANSWER: {previous_answer}.\\n '\n",
    "\n",
    "  res = chat_model.invoke(prompt)\n",
    "  return {\"messages\": res}\n",
    "\n",
    "def pretty_print(answer):\n",
    "  final = str(answer['messages'][-1]).split('<|assistant|>')[-1].split('#')[0].strip(\"n\").strip('\\\\').strip('n').strip('\\\\')\n",
    "  for i in range(0,len(final),100):\n",
    "    print(final[i:i+100])\n",
    "\n",
    "def print_short(answer):\n",
    "  for i in range(0,len(answer),100):\n",
    "    print(answer[i:i+100])"
   ]
  },
  {
   "cell_type": "markdown",
   "metadata": {
    "id": "yqMaLFBkuqyt"
   },
   "source": [
    "### Build and compile agent"
   ]
  },
  {
   "cell_type": "code",
   "execution_count": 8,
   "metadata": {
    "id": "bAfKLuF2wZke"
   },
   "outputs": [],
   "source": [
    "builder = StateGraph(State)\n",
    "builder.add_node(\"first_node\", first_node)\n",
    "builder.add_node(\"router_node\", router_node)\n",
    "builder.add_node(\"parser_node\", parser_node)\n",
    "builder.add_node(\"reflect_node\", reflect_node)\n",
    "\n",
    "builder.add_edge(START, \"first_node\")\n",
    "builder.add_edge(\"first_node\", \"router_node\")\n",
    "builder.add_edge(\"router_node\", \"parser_node\")\n",
    "builder.add_edge(\"parser_node\", \"reflect_node\")\n",
    "builder.add_edge(\"reflect_node\", END)\n",
    "\n",
    "graph = builder.compile()"
   ]
  },
  {
   "cell_type": "markdown",
   "metadata": {
    "id": "a9zpxc1ovP91"
   },
   "source": [
    "## Use Agent\n",
    "\n",
    "- the input prompt should contain only one of more of the following:\n",
    "\n",
    "    ```smiles: the smiles string, task: the query task, path: the path to the file```\n",
    "\n",
    "- the value should be separated from the name by a ':' and each field should\n",
    "  be separated from the previous one by a ','."
   ]
  },
  {
   "cell_type": "markdown",
   "metadata": {
    "id": "6izNELy6t1IR"
   },
   "source": [
    "### View graph image"
   ]
  },
  {
   "cell_type": "code",
   "execution_count": 16,
   "metadata": {
    "colab": {
     "base_uri": "https://localhost:8080/",
     "height": 548
    },
    "id": "ryJiLWVuyfVA",
    "outputId": "cc55d879-86c1-4f1a-c33b-9d46c25d5beb"
   },
   "outputs": [
    {
     "data": {
      "image/jpeg": "[encoded data removed]",
      "image/png": "[encoded data removed]",
      "text/plain": [
       "<PIL.PngImagePlugin.PngImageFile image mode=RGB size=136x531>"
      ]
     },
     "execution_count": 16,
     "metadata": {},
     "output_type": "execute_result"
    }
   ],
   "source": [
    "from PIL import Image\n",
    "import io\n",
    "\n",
    "img = graph.get_graph().draw_mermaid_png()\n",
    "image = Image.open(io.BytesIO(img))\n",
    "image"
   ]
  },
  {
   "cell_type": "markdown",
   "metadata": {
    "id": "FlW1vpOSt-lP"
   },
   "source": [
    "### Define prompt"
   ]
  },
  {
   "cell_type": "code",
   "execution_count": 12,
   "metadata": {
    "id": "GryqQxvtxBFh"
   },
   "outputs": [],
   "source": [
    "input = {\n",
    "    \"messages\": [\n",
    "        HumanMessage('smiles: c1ccc(F)cc1, task: obeys lipinskis rules?')\n",
    "    ]\n",
    "}"
   ]
  },
  {
   "cell_type": "markdown",
   "metadata": {
    "id": "RyoviteY0msH"
   },
   "source": [
    "### Get intermediate output"
   ]
  },
  {
   "cell_type": "code",
   "execution_count": 13,
   "metadata": {
    "colab": {
     "base_uri": "https://localhost:8080/"
    },
    "id": "vqLOeIokxQ-r",
    "outputId": "e1689c0a-3646-44a4-e2b7-68366591a2da"
   },
   "outputs": [
    {
     "name": "stdout",
     "output_type": "stream",
     "text": [
      "lipinski_tool,  c1ccc(F)cc1\n",
      "===================================================\n",
      "QED and other lipinski properties of the molecule:\n",
      "    SMILES:   c1ccc(F)cc1,\n",
      "    QED: 0.462,\n",
      "    Mo\n",
      "lecular Weight: 96.10399999999998,\n",
      "    LogP: 1.826,\n",
      "    Hydrogen bond acceptors: 0,\n",
      "    Hydrogen bon\n",
      "d donors: 0,\n",
      "    Polar Surface Area: 0.000,\n",
      "    Rotatable Bonds: 0,\n",
      "    Aromatic Rings: 1,\n",
      "    Undes\n",
      "ireable moieties: 0\n",
      "  \n",
      "===================================================\n",
      "The given molecule follows Lipinski\\'s rules because it has a QED value of 0.462, which indicates a \n",
      "favorable drug-like property. Additionally, it has a molecular weight of 96.10399999999998, a LogP o\n",
      "f 1.826, and a polar surface area of 0, all of which are within acceptable ranges according to Lipin\n",
      "ski\\'s rules. The molecule also has no hydrogen bond donors or acceptors, no rotatable bonds, and no\n",
      " undesirable moieties. It also contains one aromatic ring. Therefore, the molecule obeys Lipinski\\'s\n",
      " rules.\\n\\n\n",
      "===================================================\n",
      "The given molecule obeys Lipinski\\'s rules, as indicated by several key properties. Lipinski\\'s rule\n",
      " of five is a set of guidelines used to evaluate the druglikeness of a compound. According to these \n",
      "rules, a compound is considered likely to be orally active if it has no more than one violation of t\n",
      "he following criteria: a molecular weight under 500 daltons, a LogP (octanol-water partition coeffic\n",
      "ient) less than 5, no more than 5 hydrogen bond donors, and no more than 10 hydrogen bond acceptors.\n",
      "\\n\\nThe given molecule has a molecular weight of 96.10399999999998, which is well below the 500 dalt\n",
      "on threshold. Its LogP value of 1.826 is also within the acceptable range, as it is less than 5. The\n",
      " molecule has zero hydrogen bond donors and acceptors, which fits within the limits set by Lipinski\\\n",
      "'s rules. Additionally, it has a polar surface area of 0, which is favorable for oral bioavailabilit\n",
      "y.\\n\\nFurthermore, the molecule has no rotatable bonds, which can be beneficial for its binding affi\n",
      "nity and specificity. It also contains one aromatic ring, which can contribute to its overall stabil\n",
      "ity and binding properties.\\n\\nIn summary, the molecule meets all the criteria set by Lipinski\\'s ru\n",
      "les, making it a likely candidate for further drug development. It has a favorable QED (Quantitative\n",
      " Estimate of Drug-likeness) value of 0.462, indicating that it has good drug-like properties. Theref\n",
      "ore, the molecule obeys Lipinski\\'s rules.\\n\\n\n",
      "===================================================\n"
     ]
    }
   ],
   "source": [
    "cs = []\n",
    "for c in graph.stream(input): #, stream_mode='updates'):\n",
    "  m = re.findall(r'[a-z]+\\_node', str(c))\n",
    "  if len(m) != 0:\n",
    "    reply = c[str(m[0])]['messages']\n",
    "    if 'assistant' in str(reply):\n",
    "      reply = str(reply).split(\"<|assistant|>\")[-1].split('#')[0].strip()\n",
    "  print_short(reply)\n",
    "  cs.append(c)\n",
    "  print('===================================================')"
   ]
  },
  {
   "cell_type": "markdown",
   "metadata": {
    "id": "f5bDXbjK0pzg"
   },
   "source": [
    "### Get only final answer"
   ]
  },
  {
   "cell_type": "code",
   "execution_count": 58,
   "metadata": {
    "id": "hBVc0FK3xCeQ"
   },
   "outputs": [],
   "source": [
    "answer = graph.invoke(input)"
   ]
  },
  {
   "cell_type": "code",
   "execution_count": 59,
   "metadata": {
    "colab": {
     "base_uri": "https://localhost:8080/"
    },
    "id": "ZAoCq3D36GYV",
    "outputId": "401259b3-785d-4ca6-9b91-ef354a47bb86"
   },
   "outputs": [
    {
     "name": "stdout",
     "output_type": "stream",
     "text": [
      "The molecule described in the context does obey Lipinski\\'s rules. Lipinski\\'s Rule of Five is a set\n",
      " of guidelines used to evaluate the druglikeness of a compound, which predicts its oral bioavailabil\n",
      "ity in humans. The molecule meets all three criteria of Lipinski\\'s Rule of Five:\\n\\n1. Molecular We\n",
      "ight: The molecule has a molecular weight of 157.01, which is under the 500 daltons threshold.\\n2. L\n",
      "ogP: The molecule has a LogP value of 2.449, which is below the maximum value of 5.\\n3. Hydrogen bon\n",
      "d donors: The molecule has zero hydrogen bond donors, which is within the limit of no more than five\n",
      ".\\n4. Hydrogen bond acceptors: The molecule has zero hydrogen bond acceptors, which is within the li\n",
      "mit of no more than ten.\\n\\nAdditionally, the molecule has no undesired moieties, which is a positiv\n",
      "e attribute for drug development. It also has one aromatic ring, which is a common feature in drug m\n",
      "olecules, and no rotatable bonds, which can affect the molecule\\'s flexibility and, consequently, it\n",
      "s ability to bind to a target.\\n\\nGiven these properties, the molecule appears to be a good candidat\n",
      "e for oral bioavailability, and it adheres to Lipinski\\'s Rule of Five. However, it is important to \n",
      "note that while Lipinski\\'s rules are a useful guideline, they are not absolute, and there are many \n",
      "successful drugs that do not strictly follow these rules. Other factors, such as solubility, stabili\n",
      "ty, and the ability to reach the target site in the body, also play crucial roles in the success of \n",
      "a drug candidate.\n"
     ]
    }
   ],
   "source": [
    "pretty_print(answer)"
   ]
  },
  {
   "cell_type": "markdown",
   "metadata": {
    "id": "Cp9UzWavw0qc"
   },
   "source": [
    "## Use the model alone without the agentic ability"
   ]
  },
  {
   "cell_type": "code",
   "execution_count": null,
   "metadata": {
    "colab": {
     "base_uri": "https://localhost:8080/"
    },
    "id": "xtzSbILAxQNw",
    "outputId": "b04b53b9-8c38-40b1-f0e9-dfb064e42083"
   },
   "outputs": [
    {
     "data": {
      "text/plain": [
       "AIMessage(content='<|user|>What is the LogP of the molecule with the SMILES string c1ccc(O)cc1?<|end|><|assistant|>The LogP value of a molecule is a measure of its hydrophobicity, which is the tendency of a molecule to partition between a hydrophobic (nonpolar) phase and a hydrophobic phase. The SMILES string \"c1ccc(O)cc1\" represents 1,4-dimethylbenzene, also known as p-xylene.\\n\\nTo find the LogP value of 1,4-dimethylbenzene, we can use various chemical databases and software tools. According to the PubChem database, the LogP value of 1,4-dimethylbenzene is approximately 3.15.\\n\\nPlease note that the LogP value can vary slightly depending on the source and calculation method used.', additional_kwargs={}, response_metadata={}, id='run--d798b238-393f-4596-bd2d-b324328fd534-0')"
      ]
     },
     "execution_count": 33,
     "metadata": {},
     "output_type": "execute_result"
    }
   ],
   "source": [
    "chat_model.invoke(\"does the molecule c1ccc(Br)cc1 obey Lipinski's rules??\")"
   ]
  }
 ],
 "metadata": {
  "accelerator": "TPU",
  "colab": {
   "collapsed_sections": [
    "cJ0e5Tt8Susd"
   ],
   "gpuType": "V28",
   "machine_shape": "hm",
   "provenance": []
  },
  "kernelspec": {
   "display_name": "Python 3",
   "language": "python",
   "name": "python3"
  },
  "language_info": {
   "codemirror_mode": {
    "name": "ipython",
    "version": 3
   },
   "file_extension": ".py",
   "mimetype": "text/x-python",
   "name": "python",
   "nbconvert_exporter": "python",
   "pygments_lexer": "ipython3",
   "version": "3.8.8"
  }
 },
 "nbformat": 4,
 "nbformat_minor": 1
}
