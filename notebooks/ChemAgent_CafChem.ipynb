{
 "cells": [
  {
   "cell_type": "markdown",
   "metadata": {
    "id": "JbittvlsJsI6"
   },
   "source": [
    "#CafChem tools for using a simple AI Agent to perform chemistry-related tasks using HuggingFace models.\n",
    "\n",
    "[![Open In Colab](https://colab.research.google.com/assets/colab-badge.svg)](https://colab.research.google.com/github/MauricioCafiero/CafChem/blob/main/notebooks/ChemAgent_CafChem.ipynb)\n",
    "\n",
    "## This notebook allows you to:\n",
    "- Load a model from HuggingFace\n",
    "- Create a simple Agent using Langchain.\n",
    "- View intermediate results of the Agent.\n",
    "- compare against using the unadorned model.\n",
    "\n",
    "## Switching between Phi-4-mini-instruct and Apertus-8B-instruct\n",
    "- Apertus uses '<|assistant_start|>' to start the AI message, where as others use '<|assistant|>' to start the AI message. This should be changed in 3 places\n",
    "\n",
    "## Requirements:\n",
    "- This notebook will install several langchain and langgraph libraries and rdkit.\n",
    "- Runs well on an L4 GPU (using a 7.67 GB model). Will run on the v2-8 TPU runtime, with only slightly slower inference imes. Cannot run on CPU. (Colab runtimes)"
   ]
  },
  {
   "cell_type": "markdown",
   "metadata": {
    "id": "7aThlnzDSj5G"
   },
   "source": [
    "## Set-up"
   ]
  },
  {
   "cell_type": "markdown",
   "metadata": {
    "id": "cJ0e5Tt8Susd"
   },
   "source": [
    "### Install libraries"
   ]
  },
  {
   "cell_type": "code",
   "execution_count": 1,
   "metadata": {
    "colab": {
     "base_uri": "https://localhost:8080/"
    },
    "id": "McVtr-Fbsx0j",
    "outputId": "6480dff1-f51f-41bd-8636-1ac1e9f3e04d"
   },
   "outputs": [
    {
     "name": "stdout",
     "output_type": "stream",
     "text": [
      "\u001b[?25l   \u001b[90m━━━━━━━━━━━━━━━━━━━━━━━━━━━━━━━━━━━━━━━━\u001b[0m \u001b[32m0.0/5.3 MB\u001b[0m \u001b[31m?\u001b[0m eta \u001b[36m-:--:--\u001b[0m\r",
      "\u001b[2K   \u001b[91m━━━━━━━━\u001b[0m\u001b[90m╺\u001b[0m\u001b[90m━━━━━━━━━━━━━━━━━━━━━━━━━━━━━━━\u001b[0m \u001b[32m1.1/5.3 MB\u001b[0m \u001b[31m32.3 MB/s\u001b[0m eta \u001b[36m0:00:01\u001b[0m\r",
      "\u001b[2K   \u001b[91m━━━━━━━━━━━━━━━━━━━━━━━━━━━━━━━━━━━━━━━\u001b[0m\u001b[91m╸\u001b[0m \u001b[32m5.2/5.3 MB\u001b[0m \u001b[31m89.5 MB/s\u001b[0m eta \u001b[36m0:00:01\u001b[0m\r",
      "\u001b[2K   \u001b[90m━━━━━━━━━━━━━━━━━━━━━━━━━━━━━━━━━━━━━━━━\u001b[0m \u001b[32m5.3/5.3 MB\u001b[0m \u001b[31m63.5 MB/s\u001b[0m eta \u001b[36m0:00:00\u001b[0m\n",
      "\u001b[2K   \u001b[90m━━━━━━━━━━━━━━━━━━━━━━━━━━━━━━━━━━━━━━━━\u001b[0m \u001b[32m3.3/3.3 MB\u001b[0m \u001b[31m103.6 MB/s\u001b[0m eta \u001b[36m0:00:00\u001b[0m\n",
      "\u001b[2K     \u001b[90m━━━━━━━━━━━━━━━━━━━━━━━━━━━━━━━━━━━━━━━━\u001b[0m \u001b[32m41.9/41.9 kB\u001b[0m \u001b[31m1.6 MB/s\u001b[0m eta \u001b[36m0:00:00\u001b[0m\n",
      "\u001b[2K   \u001b[90m━━━━━━━━━━━━━━━━━━━━━━━━━━━━━━━━━━━━━━━━\u001b[0m \u001b[32m444.0/444.0 kB\u001b[0m \u001b[31m8.2 MB/s\u001b[0m eta \u001b[36m0:00:00\u001b[0m\n",
      "\u001b[2K   \u001b[90m━━━━━━━━━━━━━━━━━━━━━━━━━━━━━━━━━━━━━━━━\u001b[0m \u001b[32m384.8/384.8 kB\u001b[0m \u001b[31m27.6 MB/s\u001b[0m eta \u001b[36m0:00:00\u001b[0m\n",
      "\u001b[2K   \u001b[90m━━━━━━━━━━━━━━━━━━━━━━━━━━━━━━━━━━━━━━━━\u001b[0m \u001b[32m132.9/132.9 kB\u001b[0m \u001b[31m11.5 MB/s\u001b[0m eta \u001b[36m0:00:00\u001b[0m\n",
      "\u001b[2K   \u001b[90m━━━━━━━━━━━━━━━━━━━━━━━━━━━━━━━━━━━━━━━━\u001b[0m \u001b[32m54.5/54.5 kB\u001b[0m \u001b[31m4.9 MB/s\u001b[0m eta \u001b[36m0:00:00\u001b[0m\n",
      "\u001b[2K   \u001b[90m━━━━━━━━━━━━━━━━━━━━━━━━━━━━━━━━━━━━━━━━\u001b[0m \u001b[32m5.5/5.5 MB\u001b[0m \u001b[31m91.0 MB/s\u001b[0m eta \u001b[36m0:00:00\u001b[0m\n",
      "\u001b[2K     \u001b[90m━━━━━━━━━━━━━━━━━━━━━━━━━━━━━━━━━━━━━━━━\u001b[0m \u001b[32m73.9/73.9 kB\u001b[0m \u001b[31m3.4 MB/s\u001b[0m eta \u001b[36m0:00:00\u001b[0m\n",
      "\u001b[2K   \u001b[90m━━━━━━━━━━━━━━━━━━━━━━━━━━━━━━━━━━━━━━━━\u001b[0m \u001b[32m2.5/2.5 MB\u001b[0m \u001b[31m39.2 MB/s\u001b[0m eta \u001b[36m0:00:00\u001b[0m\n",
      "\u001b[2K   \u001b[90m━━━━━━━━━━━━━━━━━━━━━━━━━━━━━━━━━━━━━━━━\u001b[0m \u001b[32m1.7/1.7 MB\u001b[0m \u001b[31m68.1 MB/s\u001b[0m eta \u001b[36m0:00:00\u001b[0m\n",
      "\u001b[2K   \u001b[90m━━━━━━━━━━━━━━━━━━━━━━━━━━━━━━━━━━━━━━━━\u001b[0m \u001b[32m1.0/1.0 MB\u001b[0m \u001b[31m45.1 MB/s\u001b[0m eta \u001b[36m0:00:00\u001b[0m\n",
      "\u001b[2K   \u001b[90m━━━━━━━━━━━━━━━━━━━━━━━━━━━━━━━━━━━━━━━━\u001b[0m \u001b[32m45.2/45.2 kB\u001b[0m \u001b[31m3.1 MB/s\u001b[0m eta \u001b[36m0:00:00\u001b[0m\n",
      "\u001b[2K   \u001b[90m━━━━━━━━━━━━━━━━━━━━━━━━━━━━━━━━━━━━━━━━\u001b[0m \u001b[32m64.7/64.7 kB\u001b[0m \u001b[31m5.3 MB/s\u001b[0m eta \u001b[36m0:00:00\u001b[0m\n",
      "\u001b[2K   \u001b[90m━━━━━━━━━━━━━━━━━━━━━━━━━━━━━━━━━━━━━━━━\u001b[0m \u001b[32m3.3/3.3 MB\u001b[0m \u001b[31m95.2 MB/s\u001b[0m eta \u001b[36m0:00:00\u001b[0m\n",
      "\u001b[2K   \u001b[90m━━━━━━━━━━━━━━━━━━━━━━━━━━━━━━━━━━━━━━━━\u001b[0m \u001b[32m241.8/241.8 kB\u001b[0m \u001b[31m19.2 MB/s\u001b[0m eta \u001b[36m0:00:00\u001b[0m\n",
      "\u001b[2K   \u001b[90m━━━━━━━━━━━━━━━━━━━━━━━━━━━━━━━━━━━━━━━━\u001b[0m \u001b[32m607.6/607.6 kB\u001b[0m \u001b[31m36.1 MB/s\u001b[0m eta \u001b[36m0:00:00\u001b[0m\n",
      "\u001b[2K   \u001b[90m━━━━━━━━━━━━━━━━━━━━━━━━━━━━━━━━━━━━━━━━\u001b[0m \u001b[32m50.9/50.9 kB\u001b[0m \u001b[31m3.9 MB/s\u001b[0m eta \u001b[36m0:00:00\u001b[0m\n",
      "\u001b[2K   \u001b[90m━━━━━━━━━━━━━━━━━━━━━━━━━━━━━━━━━━━━━━━━\u001b[0m \u001b[32m224.4/224.4 kB\u001b[0m \u001b[31m17.4 MB/s\u001b[0m eta \u001b[36m0:00:00\u001b[0m\n",
      "\u001b[2K   \u001b[90m━━━━━━━━━━━━━━━━━━━━━━━━━━━━━━━━━━━━━━━━\u001b[0m \u001b[32m355.6/355.6 kB\u001b[0m \u001b[31m26.7 MB/s\u001b[0m eta \u001b[36m0:00:00\u001b[0m\n",
      "\u001b[?25h\u001b[31mERROR: pip's dependency resolver does not currently take into account all the packages that are installed. This behaviour is the source of the following dependency conflicts.\n",
      "google-colab 1.0.0 requires requests==2.32.4, but you have requests 2.32.5 which is incompatible.\u001b[0m\u001b[31m\n",
      "\u001b[2K     \u001b[90m━━━━━━━━━━━━━━━━━━━━━━━━━━━━━━━━━━━━━━━━\u001b[0m \u001b[32m43.7/43.7 kB\u001b[0m \u001b[31m1.8 MB/s\u001b[0m eta \u001b[36m0:00:00\u001b[0m\n",
      "\u001b[2K   \u001b[90m━━━━━━━━━━━━━━━━━━━━━━━━━━━━━━━━━━━━━━━━\u001b[0m \u001b[32m153.3/153.3 kB\u001b[0m \u001b[31m5.9 MB/s\u001b[0m eta \u001b[36m0:00:00\u001b[0m\n",
      "\u001b[2K   \u001b[90m━━━━━━━━━━━━━━━━━━━━━━━━━━━━━━━━━━━━━━━━\u001b[0m \u001b[32m43.9/43.9 kB\u001b[0m \u001b[31m3.6 MB/s\u001b[0m eta \u001b[36m0:00:00\u001b[0m\n",
      "\u001b[2K   \u001b[90m━━━━━━━━━━━━━━━━━━━━━━━━━━━━━━━━━━━━━━━━\u001b[0m \u001b[32m54.6/54.6 kB\u001b[0m \u001b[31m5.0 MB/s\u001b[0m eta \u001b[36m0:00:00\u001b[0m\n",
      "\u001b[2K   \u001b[90m━━━━━━━━━━━━━━━━━━━━━━━━━━━━━━━━━━━━━━━━\u001b[0m \u001b[32m194.4/194.4 kB\u001b[0m \u001b[31m14.5 MB/s\u001b[0m eta \u001b[36m0:00:00\u001b[0m\n",
      "\u001b[2K   \u001b[90m━━━━━━━━━━━━━━━━━━━━━━━━━━━━━━━━━━━━━━━━\u001b[0m \u001b[32m216.7/216.7 kB\u001b[0m \u001b[31m17.8 MB/s\u001b[0m eta \u001b[36m0:00:00\u001b[0m\n",
      "\u001b[2K   \u001b[90m━━━━━━━━━━━━━━━━━━━━━━━━━━━━━━━━━━━━━━━━\u001b[0m \u001b[32m36.1/36.1 MB\u001b[0m \u001b[31m43.7 MB/s\u001b[0m eta \u001b[36m0:00:00\u001b[0m\n",
      "\u001b[?25h"
     ]
    }
   ],
   "source": [
    "!pip install -U ddgs -q\n",
    "!pip install --upgrade --quiet  langchain-huggingface\n",
    "!pip install langchain_core --quiet\n",
    "! pip -q install langchain_community\n",
    "!pip install -q langgraph\n",
    "!pip install -q duckduckgo-search\n",
    "! pip install rdkit -q"
   ]
  },
  {
   "cell_type": "markdown",
   "metadata": {
    "id": "AtMrObKoSqVJ"
   },
   "source": [
    "### Import libraries and start the model"
   ]
  },
  {
   "cell_type": "code",
   "execution_count": 1,
   "metadata": {
    "id": "hAwXlc9gs5fU"
   },
   "outputs": [],
   "source": [
    "import torch\n",
    "from typing import Annotated, TypedDict, Literal\n",
    "from langchain_community.tools import DuckDuckGoSearchRun\n",
    "from langchain_core.tools import tool\n",
    "from langgraph.prebuilt import ToolNode, tools_condition\n",
    "from langgraph.graph import StateGraph, START, END\n",
    "from langgraph.graph.message import add_messages\n",
    "from langchain_core.messages import SystemMessage, trim_messages, AIMessage, HumanMessage, ToolCall\n",
    "\n",
    "from langchain_huggingface.llms import HuggingFacePipeline\n",
    "from langchain_huggingface import ChatHuggingFace\n",
    "from langchain_core.prompts import PromptTemplate, ChatPromptTemplate\n",
    "from langchain_core.runnables import chain\n",
    "from uuid import uuid4\n",
    "import re\n",
    "import matplotlib.pyplot as plt\n",
    "\n",
    "from rdkit import Chem\n",
    "from rdkit.Chem import AllChem, QED\n",
    "from rdkit.Chem import Draw\n",
    "from rdkit import rdBase\n",
    "from rdkit.Chem import rdMolAlign\n",
    "import os\n",
    "from rdkit import RDConfig\n",
    "from rdkit.Chem.Features.ShowFeats import _featColors as featColors\n",
    "from rdkit.Chem.FeatMaps import FeatMaps\n",
    "\n",
    "fdef = AllChem.BuildFeatureFactory(os.path.join(RDConfig.RDDataDir,'BaseFeatures.fdef'))\n",
    "\n",
    "fmParams = {}\n",
    "for k in fdef.GetFeatureFamilies():\n",
    "    fparams = FeatMaps.FeatMapParams()\n",
    "    fmParams[k] = fparams\n",
    "\n",
    "device = \"cuda\" if torch.cuda.is_available() else \"cpu\""
   ]
  },
  {
   "cell_type": "code",
   "execution_count": 2,
   "metadata": {
    "colab": {
     "base_uri": "https://localhost:8080/",
     "height": 66,
     "referenced_widgets": [
      "9df926fdd8944c1ca5e39818748e3773",
      "0061a55bf6d54958a0a0c4e1d1411e86",
      "413d96e0d419412cadf1d810009ccf32",
      "466db91a4bb04e9894b663c3e15ebf0d",
      "277d7fc372174dc1bcae3533335290c5",
      "e9d24dd31e2345109c35d3491be5f891",
      "6fe19b11722d4c34b1961c6dc0c055b1",
      "a5e8124887c2493fa7358b82be378be4",
      "c8a08e0362bd4b338ba9d121317b2676",
      "ba72e4f3e0354fd483a86a96c0bc941c",
      "1f434ae509104c4aa9dfb566c1ea5845"
     ]
    },
    "id": "dIXksBtjtLyR",
    "outputId": "8cfadf3f-8a0c-43b0-f4b9-00ce30a68291"
   },
   "outputs": [
    {
     "data": {
      "application/vnd.jupyter.widget-view+json": {
       "model_id": "9df926fdd8944c1ca5e39818748e3773",
       "version_major": 2,
       "version_minor": 0
      },
      "text/plain": [
       "Loading checkpoint shards:   0%|          | 0/2 [00:00<?, ?it/s]"
      ]
     },
     "metadata": {},
     "output_type": "display_data"
    },
    {
     "name": "stderr",
     "output_type": "stream",
     "text": [
      "Device set to use cpu\n"
     ]
    }
   ],
   "source": [
    "hf = HuggingFacePipeline.from_model_id(\n",
    "    #model_id= \"swiss-ai/Apertus-8B-Instruct-2509\",\n",
    "    model_id= \"microsoft/Phi-4-mini-instruct\",\n",
    "    task=\"text-generation\",\n",
    "    pipeline_kwargs = {\"max_new_tokens\": 500, \"temperature\": 0.4})\n",
    "\n",
    "chat_model = ChatHuggingFace(llm=hf)"
   ]
  },
  {
   "cell_type": "markdown",
   "metadata": {
    "id": "tn0Qb6etSyQf"
   },
   "source": [
    "## Define Functions"
   ]
  },
  {
   "cell_type": "markdown",
   "metadata": {
    "id": "KH5j6oJWom_n"
   },
   "source": [
    "### Chemistry Functions"
   ]
  },
  {
   "cell_type": "code",
   "execution_count": 83,
   "metadata": {
    "id": "avbVzIINoo6s"
   },
   "outputs": [],
   "source": [
    "class State(TypedDict):\n",
    "  '''\n",
    "    The state of the agent.\n",
    "  '''\n",
    "  messages: Annotated[list, add_messages]\n",
    "  query_smiles: str\n",
    "  query_task: str\n",
    "  query_path: str\n",
    "  query_reference: str\n",
    "  tool_choice: tuple\n",
    "  which_tool: int\n",
    "  props_string: str\n",
    "  #(Literal[\"lipinski_tool\", \"substitution_tool\", \"pharm_feature_tool\"],\n",
    "  #                   Literal[\"lipinski_tool\", \"substitution_tool\", \"pharm_feature_tool\"])\n",
    "\n",
    "\n",
    "def substitution_node(state: State) -> State:\n",
    "  '''\n",
    "    A simple substitution routine that looks for a substituent on a phenyl ring and\n",
    "    substitutes different fragments in that location. Returns a list of novel molecules and their\n",
    "    QED score (1 is most drug-like, 0 is least drug-like).\n",
    "\n",
    "      Args:\n",
    "        smiles: the input smiles string\n",
    "      Returns:\n",
    "        new_smiles_string: a string of novel molecules and their QED scores.\n",
    "  '''\n",
    "  print(\"substituion tool\")\n",
    "  print('===================================================')\n",
    "\n",
    "  smiles = state[\"query_smiles\"]\n",
    "  current_props_string = state[\"props_string\"]\n",
    "\n",
    "  new_fragments = [\"c(Cl)c\", \"c(F)c\", \"c(O)c\", \"c(C)c\", \"c(OC)c\", \"c([NH3+])c\",\n",
    "                   \"c(Br)c\", \"c(C(F)(F)(F))c\"]\n",
    "\n",
    "  new_smiles = []\n",
    "  for fragment in new_fragments:\n",
    "    m = re.findall(r\"c(\\D\\D*)c\", smiles)\n",
    "    if len(m) != 0:\n",
    "      for group in m:\n",
    "        #print(group)\n",
    "        if fragment not in group:\n",
    "          new_smile = smiles.replace(group[1:], fragment)\n",
    "          new_smiles.append(new_smile)\n",
    "\n",
    "  qeds = []\n",
    "  for new_smile in new_smiles:\n",
    "    qeds.append(get_qed(new_smile))\n",
    "  original_qed = get_qed(smiles)\n",
    "\n",
    "  new_smiles_string = \"Substitution or Analogue creation tool results: \\n\"\n",
    "  new_smiles_string += f\"The original molecule SMILES was {smiles} with QED {original_qed}.\\n\"\n",
    "  new_smiles_string += \"Novel Molecules or Analogues and QED values: \\n\"\n",
    "  for i in range(len(new_smiles)):\n",
    "    new_smiles_string += f\"SMILES: {new_smiles[i]}, QED: {qeds[i]:.3f}\\n\"\n",
    "\n",
    "  current_props_string += new_smiles_string\n",
    "  state[\"props_string\"] = current_props_string\n",
    "  state[\"which_tool\"] += 1\n",
    "  return state\n",
    "\n",
    "def get_qed(smiles):\n",
    "  '''\n",
    "    Helper function to compute QED for a given molecule.\n",
    "      Args:\n",
    "        smiles: the input smiles string\n",
    "      Returns:\n",
    "        qed: the QED score of the molecule.\n",
    "  '''\n",
    "  mol = Chem.MolFromSmiles(smiles)\n",
    "  qed = Chem.QED.default(mol)\n",
    "\n",
    "  return qed\n",
    "\n",
    "def lipinski_node(state: State) -> State:\n",
    "  '''\n",
    "    A tool to calculate QED and other lipinski properties of a molecule.\n",
    "      Args:\n",
    "        smiles: the input smiles string\n",
    "      Returns:\n",
    "        props_string: a string of the QED and other lipinski properties of the molecule,\n",
    "                      including Molecular Weight, LogP, HBA, HBD, Polar Surface Area,\n",
    "                      Rotatable Bonds, Aromatic Rings and Undesireable Moieties.\n",
    "  '''\n",
    "  print(\"lipinski tool\")\n",
    "  print('===================================================')\n",
    "\n",
    "  smiles = state[\"query_smiles\"]\n",
    "  current_props_string = state[\"props_string\"]\n",
    "\n",
    "  mol = Chem.MolFromSmiles(smiles)\n",
    "  qed = Chem.QED.default(mol)\n",
    "\n",
    "  p = Chem.QED.properties(mol)\n",
    "  mw = p[0]\n",
    "  logP = p[1]\n",
    "  hba = p[2]\n",
    "  hbd = p[3]\n",
    "  psa = p[4]\n",
    "  rb = p[5]\n",
    "  ar = p[6]\n",
    "  um = p[7]\n",
    "\n",
    "  props_string = \"Lipinski tool results: \\n\"\n",
    "  props_string += f'''QED and other lipinski properties of the molecule:\n",
    "    SMILES: {smiles},\n",
    "    QED: {qed:.3f},\n",
    "    Molecular Weight: {mw:.3f},\n",
    "    LogP: {logP:.3f},\n",
    "    Hydrogen bond acceptors: {hba},\n",
    "    Hydrogen bond donors: {hbd},\n",
    "    Polar Surface Area: {psa:.3f},\n",
    "    Rotatable Bonds: {rb},\n",
    "    Aromatic Rings: {ar},\n",
    "    Undesireable moieties: {um}\n",
    "  '''\n",
    "\n",
    "  current_props_string += props_string\n",
    "  state[\"props_string\"] = current_props_string\n",
    "  state[\"which_tool\"] += 1\n",
    "  return state\n",
    "\n",
    "def pharmfeature_node(state: State) -> State:\n",
    "  '''\n",
    "    A tool to compare the pharmacophore features of a query molecule against\n",
    "    a those of a reference molecule and report the pharmacophore features of both and the feature\n",
    "    score of the query molecule.\n",
    "\n",
    "      Args:\n",
    "        known_smiles: the reference smiles string\n",
    "        test_smiles: the query smiles string\n",
    "      Returns:\n",
    "        props_string: a string of the pharmacophore features of both molecules and the feature\n",
    "                      score of the query molecule.\n",
    "  '''\n",
    "  print(\"pharmfeature tool\")\n",
    "  print('===================================================')\n",
    "\n",
    "  test_smiles = state[\"query_smiles\"]\n",
    "  known_smiles = state[\"query_reference\"]\n",
    "  current_props_string = state[\"props_string\"]\n",
    "\n",
    "  smiles = [known_smiles, test_smiles]\n",
    "  mols = [Chem.MolFromSmiles(x) for x in smiles]\n",
    "\n",
    "  mols = [Chem.AddHs(m) for m in mols]\n",
    "  ps = AllChem.ETKDGv3()\n",
    "\n",
    "  for m in mols:\n",
    "      AllChem.EmbedMolecule(m,ps)\n",
    "\n",
    "  o3d = rdMolAlign.GetO3A(mols[1],mols[0])\n",
    "  o3d.Align()\n",
    "\n",
    "  keep = ('Donor', 'Acceptor', 'NegIonizable', 'PosIonizable', 'ZnBinder', 'Aromatic', 'LumpedHydrophobe')\n",
    "  feat_hash = {'Donor': 'Hydrogen bond donors', 'Acceptor': 'Hydrogen bond acceptors',\n",
    "               'NegIonizable': 'Negatively ionizable groups', 'PosIonizable': 'Positively ionizable groups',\n",
    "               'ZnBinder': 'Zinc Binders', 'Aromatic': 'Aromatic rings', 'LumpedHydrophobe': 'Hydrophobic/non-polar groups' }\n",
    "\n",
    "  feat_vectors = []\n",
    "  for m in mols:\n",
    "      rawFeats = fdef.GetFeaturesForMol(m)\n",
    "      feat_vectors.append([f for f in rawFeats if f.GetFamily() in keep])\n",
    "\n",
    "  feat_maps = [FeatMaps.FeatMap(feats = x,weights=[1]*len(x),params=fmParams) for x in feat_vectors]\n",
    "  test_score = feat_maps[0].ScoreFeats(feat_maps[1].GetFeatures())/(feat_maps[0].GetNumFeatures())\n",
    "\n",
    "  feats_known = {}\n",
    "  feats_test = {}\n",
    "  for feat in feat_vectors[0]:\n",
    "    if feat.GetFamily() not in feats_known.keys():\n",
    "      feats_known[feat.GetFamily()]  = 1\n",
    "    else:\n",
    "      feats_known[feat.GetFamily()] += 1\n",
    "\n",
    "  for feat in feat_vectors[1]:\n",
    "    if feat.GetFamily() not in feats_test.keys():\n",
    "      feats_test[feat.GetFamily()]  = 1\n",
    "    else:\n",
    "      feats_test[feat.GetFamily()] += 1\n",
    "\n",
    "  props_string = \"PharmFeature tool results: \\n\"\n",
    "  props_string += f\"The Pharmacophore Feature Overlap Score of the test molecule \\\n",
    "versus the reference molecule is {test_score:.3f}. \\n\\n\"\n",
    "\n",
    "  for feat in feats_known.keys():\n",
    "    props_string += f\"There are {feats_known[feat]} {feat_hash[feat]} in the reference molecule. \\n\"\n",
    "\n",
    "  for feat in feats_test.keys():\n",
    "    props_string += f\"There are {feats_test[feat]} {feat_hash[feat]} in the test molecule. \\n\"\n",
    "\n",
    "  current_props_string += props_string\n",
    "  state[\"props_string\"] = current_props_string\n",
    "  state[\"which_tool\"] += 1\n",
    "  return state"
   ]
  },
  {
   "cell_type": "markdown",
   "metadata": {
    "id": "TuoRkWeDpdFG"
   },
   "source": [
    "### Agent-related functions"
   ]
  },
  {
   "cell_type": "code",
   "execution_count": 94,
   "metadata": {
    "id": "pBUbWnNGtW8t"
   },
   "outputs": [],
   "source": [
    "def first_node(state: State) -> State:\n",
    "  '''\n",
    "    The first node of the agent. This node receives the input and asks the LLM\n",
    "    to determine which is the best tool to use to answer the QUERY TASK.\n",
    "\n",
    "      Input: the initial prompt from the user. should contain only one of more of the following:\n",
    "\n",
    "             smiles: the smiles string, task: the query task, path: the path to the file,\n",
    "             reference: the reference smiles\n",
    "\n",
    "             the value should be separated from the name by a ':' and each field should\n",
    "             be separated from the previous one by a ','.\n",
    "\n",
    "             All of these values are saved to the state\n",
    "\n",
    "      Output: the tool choice\n",
    "  '''\n",
    "  query_smiles = None\n",
    "  query_task = None\n",
    "  query_path = None\n",
    "  query_reference = None\n",
    "  props_string = \"\"\n",
    "  state[\"props_string\"] = props_string\n",
    "\n",
    "  raw_input = state[\"messages\"][-1].content\n",
    "  parts = raw_input.split(',')\n",
    "  for part in parts:\n",
    "    if 'smiles' in part:\n",
    "      query_smiles = part.split(':')[1]\n",
    "      state[\"query_smiles\"] = query_smiles\n",
    "    if 'task' in part:\n",
    "      query_task = part.split(':')[1]\n",
    "      state[\"query_task\"] = query_task\n",
    "    if 'path' in part:\n",
    "      query_path = part.split(':')[1]\n",
    "      state[\"query_path\"] = query_path\n",
    "    if 'reference' in part:\n",
    "      query_reference = part.split(':')[1]\n",
    "      state[\"query_reference\"] = query_reference\n",
    "\n",
    "  prompt = f'For the QUERY_TASK given below, determine if one or two of the tools descibed below \\\n",
    "can complete the task. If so, reply with only the tool names followed by \"#\". If two tools \\\n",
    "are required, reply with both tool names separated by a comman and followed by \"#\". \\\n",
    "If the tools cannot complete the task, reply with \"None #\".\\n \\\n",
    "QUERY_TASK: {query_task}.\\n \\\n",
    "Tools: \\n \\\n",
    "lipinski_tool: this tool can calculate the following properties: Quantitative \\\n",
    "Estimate of Drug-likeness (QED), Molecular weight, LogP (measures lipophilicity, higher is more lipophilic), \\\n",
    "HBA, HBD, Polar Surface Area, Rotatable Bonds, Aromatic Rings and Undesireable Moieties. \\n \\\n",
    "substitution_tool: this tool can generate analogues of the molecule by substituting \\\n",
    "different chemical groups on the original molecule. Returns a list of novel molecules and their \\\n",
    "QED score (1 is most drug-like, 0 is least drug-like). \\n \\\n",
    "pharm_feature_tool: this tool can compare the pharmacophore features of a query molecule against \\\n",
    "a those of a reference molecule and report the pharmacophore features of both and the feature \\\n",
    "score of the query molecule. This score tells how the common features score against each other, but \\\n",
    "does not inform about features unique to each molecule.'\n",
    "\n",
    "  res = chat_model.invoke(prompt)\n",
    "\n",
    "  tool_choices = str(res).split('<|assistant|>')[1].split('#')[0].strip()\n",
    "  tool_choices = tool_choices.split(',')\n",
    "  if len(tool_choices) == 1:\n",
    "    tool_choice = (tool_choices[0].strip(), None)\n",
    "  elif len(tool_choices) == 2:\n",
    "    tool_choice = (tool_choices[0].strip(), tool_choices[1].strip())\n",
    "  state[\"tool_choice\"] = tool_choice\n",
    "  state[\"which_tool\"] = 0\n",
    "  print(f\"The chosen tools are: {tool_choice}\")\n",
    "\n",
    "  return state\n",
    "\n",
    "def loop_node(state: State) -> State:\n",
    "  '''\n",
    "    This node accepts the tool returns and decides if it needs to call another\n",
    "    tool or go on to the parser node.\n",
    "\n",
    "      Input: the tool returns.\n",
    "      Output: the next node to call.\n",
    "  '''\n",
    "  return state\n",
    "\n",
    "def parser_node(state: State) -> State:\n",
    "  '''\n",
    "    This is the third node in the agent. It receives the output from the tool,\n",
    "    puts it into a prompt as CONTEXT, and asks the LLM to answer the original\n",
    "    query.\n",
    "\n",
    "      Input: the output from the tool.\n",
    "      Output: the answer to the original query.\n",
    "  '''\n",
    "  props_string = state[\"props_string\"]\n",
    "  query_task = state[\"query_task\"]\n",
    "\n",
    "  prompt = f'Using the CONTEXT below, answer the original query, which \\\n",
    "was to answer the QUERY_TASK. End your answer with a \"#\" \\\n",
    "QUERY_TASK: {query_task}.\\n \\\n",
    "CONTEXT: {props_string}.\\n '\n",
    "\n",
    "  res = chat_model.invoke(prompt)\n",
    "  return {\"messages\": res}\n",
    "\n",
    "def reflect_node(state: State) -> State:\n",
    "  '''\n",
    "    This is the fourth node of the agent. It recieves the LLMs previous answer and\n",
    "    tries to improve it.\n",
    "\n",
    "      Input: the LLMs last answer.\n",
    "      Output: the improved answer.\n",
    "  '''\n",
    "  previous_answer = state[\"messages\"][-1].content\n",
    "  props_string = state[\"props_string\"]\n",
    "\n",
    "  prompt = f'Look at the PREVIOUS ANSWER below which you provided and the \\\n",
    "TOOL RESULTS. Write an improved answer based on the PREVIOUS ANSWER and the \\\n",
    "TOOL RESULTS by adding additional clarifying and enriching information. End \\\n",
    "your new answer with a \"#\" \\\n",
    "PREVIOUS ANSWER: {previous_answer}.\\n \\\n",
    "TOOL RESULTS: {props_string}. '\n",
    "\n",
    "  res = chat_model.invoke(prompt)\n",
    "  return {\"messages\": res}\n",
    "\n",
    "def get_chemtool(state):\n",
    "  '''\n",
    "  '''\n",
    "  which_tool = state[\"which_tool\"]\n",
    "  tool_choice = state[\"tool_choice\"]\n",
    "\n",
    "  if which_tool == 0 or which_tool == 1:\n",
    "    current_tool = tool_choice[which_tool]\n",
    "  elif which_tool > 1:\n",
    "    current_tool = None\n",
    "\n",
    "  return current_tool\n",
    "\n",
    "def pretty_print(answer):\n",
    "  final = str(answer['messages'][-1]).split('<|assistant|>')[-1].split('#')[0].strip(\"n\").strip('\\\\').strip('n').strip('\\\\')\n",
    "  for i in range(0,len(final),100):\n",
    "    print(final[i:i+100])\n",
    "\n",
    "def print_short(answer):\n",
    "  for i in range(0,len(answer),100):\n",
    "    print(answer[i:i+100])"
   ]
  },
  {
   "cell_type": "markdown",
   "metadata": {
    "id": "yqMaLFBkuqyt"
   },
   "source": [
    "### Build and compile agent"
   ]
  },
  {
   "cell_type": "code",
   "execution_count": 95,
   "metadata": {
    "id": "bAfKLuF2wZke"
   },
   "outputs": [],
   "source": [
    "builder = StateGraph(State)\n",
    "builder.add_node(\"first_node\", first_node)\n",
    "builder.add_node(\"substitution_node\", substitution_node)\n",
    "builder.add_node(\"lipinski_node\", lipinski_node)\n",
    "builder.add_node(\"pharmfeature_node\", pharmfeature_node)\n",
    "builder.add_node(\"loop_node\", loop_node)\n",
    "builder.add_node(\"parser_node\", parser_node)\n",
    "builder.add_node(\"reflect_node\", reflect_node)\n",
    "\n",
    "builder.add_edge(START, \"first_node\")\n",
    "builder.add_conditional_edges(\"first_node\", get_chemtool, {\n",
    "    \"substitution_tool\": \"substitution_node\",\n",
    "    \"lipinski_tool\": \"lipinski_node\",\n",
    "    \"pharm_feature_tool\": \"pharmfeature_node\",\n",
    "    None: \"parser_node\"})\n",
    "\n",
    "builder.add_edge(\"lipinski_node\", \"loop_node\")\n",
    "builder.add_edge(\"substitution_node\", \"loop_node\")\n",
    "builder.add_edge(\"pharmfeature_node\", \"loop_node\")\n",
    "\n",
    "builder.add_conditional_edges(\"loop_node\", get_chemtool, {\n",
    "    \"substitution_tool\": \"substitution_node\",\n",
    "    \"lipinski_tool\": \"lipinski_node\",\n",
    "    \"pharm_feature_tool\": \"pharmfeature_node\",\n",
    "    None: \"parser_node\"})\n",
    "\n",
    "builder.add_edge(\"parser_node\", \"reflect_node\")\n",
    "builder.add_edge(\"reflect_node\", END)\n",
    "\n",
    "graph = builder.compile()"
   ]
  },
  {
   "cell_type": "markdown",
   "metadata": {
    "id": "a9zpxc1ovP91"
   },
   "source": [
    "## Use Agent\n",
    "\n",
    "- the input prompt should contain only one of more of the following:\n",
    "\n",
    "    ```smiles: the smiles string, task: the query task, path: the path to the file, reference: the reference smiles```\n",
    "\n",
    "- the value should be separated from the name by a ':' and each field should\n",
    "  be separated from the previous one by a ','."
   ]
  },
  {
   "cell_type": "markdown",
   "metadata": {
    "id": "6izNELy6t1IR"
   },
   "source": [
    "### View graph image"
   ]
  },
  {
   "cell_type": "code",
   "execution_count": 79,
   "metadata": {
    "colab": {
     "base_uri": "https://localhost:8080/",
     "height": 719
    },
    "id": "ryJiLWVuyfVA",
    "outputId": "24b18785-8929-4775-8736-a4dc4749e095"
   },
   "outputs": [
    {
     "data": {
      "image/jpeg": "[encoded data removed]",
      "image/png": "[encoded data removed]",
      "text/plain": [
       "<PIL.PngImagePlugin.PngImageFile image mode=RGB size=647x702>"
      ]
     },
     "execution_count": 79,
     "metadata": {},
     "output_type": "execute_result"
    }
   ],
   "source": [
    "from PIL import Image\n",
    "import io\n",
    "\n",
    "img = graph.get_graph().draw_mermaid_png()\n",
    "image = Image.open(io.BytesIO(img))\n",
    "image"
   ]
  },
  {
   "cell_type": "markdown",
   "metadata": {
    "id": "FlW1vpOSt-lP"
   },
   "source": [
    "### Define prompt"
   ]
  },
  {
   "cell_type": "code",
   "execution_count": 88,
   "metadata": {
    "id": "GryqQxvtxBFh"
   },
   "outputs": [],
   "source": [
    "input = {\n",
    "    \"messages\": [\n",
    "        HumanMessage('smiles: c1ccc(F)cc1, task: evaluate the pharmacophore against the reference \\\n",
    "and then assess if the molecule obeys lipinskis rules, reference: O=C(O)[C@@](NN)(Cc1cc(O)c(O)cc1)C')\n",
    "    ]\n",
    "}"
   ]
  },
  {
   "cell_type": "markdown",
   "metadata": {
    "id": "RyoviteY0msH"
   },
   "source": [
    "### Get intermediate output"
   ]
  },
  {
   "cell_type": "code",
   "execution_count": 96,
   "metadata": {
    "colab": {
     "base_uri": "https://localhost:8080/"
    },
    "id": "vqLOeIokxQ-r",
    "outputId": "677d36ef-0e76-41c2-9707-69a5c12a6535"
   },
   "outputs": [
    {
     "name": "stdout",
     "output_type": "stream",
     "text": [
      "The chosen tools are: ('pharm_feature_tool', 'lipinski_tool')\n",
      "pharmfeature tool\n",
      "===================================================\n",
      "lipinski tool\n",
      "===================================================\n",
      "The Pharmacophore Feature Overlap Score of the test molecule versus the reference molecule is 0.250.\n",
      " \\n\\nThe reference molecule has 5 Hydrogen bond donors, 4 Hydrogen bond acceptors, 1 Negatively ioni\n",
      "zable group, 1 Aromatic ring, and 1 Hydrophobic/non-polar group. The test molecule has 1 Hydrogen bo\n",
      "nd acceptor, 1 Aromatic ring, and 1 Hydrophobic/non-polar group.\\n\\nLipinski\\'s rules are generally \n",
      "used to assess the drug-likeness of molecules, focusing on properties such as molecular weight, LogP\n",
      ", hydrogen bond donors and acceptors, and polar surface area. The Lipinski tool results for the test\n",
      " molecule show:\\n- Molecular Weight: 96.104 (within acceptable range)\\n- LogP: 1.826 (within accepta\n",
      "ble range)\\n- Hydrogen bond acceptors: 0\\n- Hydrogen bond donors: 0\\n- Polar Surface Area: 0.000\\n- \n",
      "Rotatable Bonds: 0\\n- Aromatic Rings: 1\\n- Undesirable moieties: 0\\n\\nThe test molecule appears to o\n",
      "bey Lipinski\\'s rules.\\n\\n\n",
      "===================================================\n",
      "The Pharmacophore Feature Overlap Score of the test molecule versus the reference molecule is 0.250.\n",
      " This indicates a moderate level of similarity between the pharmacophore features of the test molecu\n",
      "le and the reference molecule, suggesting that while there may be some common pharmacophoric element\n",
      "s, there are also notable differences.\\n\\nThe reference molecule has 5 Hydrogen bond donors, 4 Hydro\n",
      "gen bond acceptors, 1 Negatively ionizable group, 1 Aromatic ring, and 1 Hydrophobic/non-polar group\n",
      ". In contrast, the test molecule has 1 Hydrogen bond acceptor, 1 Aromatic ring, and 1 Hydrophobic/no\n",
      "n-polar group. The differences in hydrogen bond donors and acceptors between the two molecules are s\n",
      "ignificant, which may affect their binding affinity and interaction with biological targets.\\n\\nLipi\n",
      "nski\\'s rules are used to assess the drug-likeness of molecules, focusing on properties such as mole\n",
      "cular weight, LogP, hydrogen bond donors and acceptors, and polar surface area. The Lipinski tool re\n",
      "sults for the test molecule show:\\n- Molecular Weight: 96.104 (within acceptable range)\\n- LogP: 1.8\n",
      "26 (within acceptable range)\\n- Hydrogen bond acceptors: 0\\n- Hydrogen bond donors: 0\\n- Polar Surfa\n",
      "ce Area: 0.000\\n- Rotatable Bonds: 0\\n- Aromatic Rings: 1\\n- Undesirable moieties: 0\\n\\nThe test mol\n",
      "ecule appears to obey Lipinski\\'s rules, indicating that it has a favorable pharmacokinetic profile \n",
      "and is likely to have good absorption and permeability characteristics. The absence of hydrogen bond\n",
      " donors and acceptors, along with the low polar surface area, suggests that the molecule is less lik\n",
      "ely to form strong interactions with polar environments, which can be beneficial for oral bioavailab\n",
      "ility.\\n\\nIn summary, while the test molecule shows some pharmacophoric similarity to the reference \n",
      "molecule, it also has notable differences. Additionally, the test molecule adheres to Lipinski\\'s ru\n",
      "les, suggesting it may be a promising candidate for further drug development.\\n\\n\n",
      "===================================================\n"
     ]
    }
   ],
   "source": [
    "cs = []\n",
    "for c in graph.stream(input): #, stream_mode='updates'):\n",
    "  m = re.findall(r'[a-z]+\\_node', str(c))\n",
    "  if len(m) != 0:\n",
    "    reply = c[str(m[0])]['messages']\n",
    "    if 'assistant' in str(reply):\n",
    "      reply = str(reply).split(\"<|assistant|>\")[-1].split('#')[0].strip()\n",
    "      print_short(reply)\n",
    "      print('===================================================')\n",
    "    # elif \"HumanMessage\" in str(reply):\n",
    "    #   reply = str(reply).split(\"content='\")[1].split(\", additional_k\")[0]\n",
    "  cs.append(c)\n"
   ]
  },
  {
   "cell_type": "markdown",
   "metadata": {
    "id": "f5bDXbjK0pzg"
   },
   "source": [
    "### Get only final answer"
   ]
  },
  {
   "cell_type": "code",
   "execution_count": 97,
   "metadata": {
    "id": "DEjJAjlJXYlW"
   },
   "outputs": [],
   "source": [
    "input = {\n",
    "    \"messages\": [\n",
    "        HumanMessage('smiles: c1ccc(F)cc1, task: obeys lipinskis rules?')\n",
    "    ]\n",
    "}"
   ]
  },
  {
   "cell_type": "code",
   "execution_count": 98,
   "metadata": {
    "colab": {
     "base_uri": "https://localhost:8080/"
    },
    "id": "hBVc0FK3xCeQ",
    "outputId": "e9acb57a-7839-465f-a14b-50594ff14c71"
   },
   "outputs": [
    {
     "name": "stdout",
     "output_type": "stream",
     "text": [
      "The chosen tools are: ('lipinski_tool', None)\n",
      "lipinski tool\n",
      "===================================================\n"
     ]
    }
   ],
   "source": [
    "answer = graph.invoke(input)"
   ]
  },
  {
   "cell_type": "code",
   "execution_count": 99,
   "metadata": {
    "colab": {
     "base_uri": "https://localhost:8080/"
    },
    "id": "ZAoCq3D36GYV",
    "outputId": "871f0992-ffc8-4de9-8a7e-2c29dd68cae2"
   },
   "outputs": [
    {
     "name": "stdout",
     "output_type": "stream",
     "text": [
      "The Lipinski\\'s Rule of Five predicts that, in general, an orally active drug has no more than one v\n",
      "iolation of the following criteria:\\n1. No more than 5 hydrogen bond donors (the total number of nit\n",
      "rogen–hydrogen and oxygen–hydrogen bonds)\\n2. No more than 10 hydrogen bond acceptors (all nitrogen \n",
      "or oxygen atoms)\\n3. A molecular weight under 500 daltons\\n4. An octanol-water partition coefficient\n",
      " (LogP) not greater than 5\\n\\nIn this case, the molecule has:\\n- Molecular Weight: 96.104 (under 500\n",
      " daltons)\\n- LogP: 1.826 (less than 5)\\n- Hydrogen bond donors: 0 (no more than 5)\\n- Hydrogen bond \n",
      "acceptors: 0 (no more than 10)\\n\\nThe molecule has 0 violations of Lipinski\\'s rules. Therefore, the\n",
      " molecule obeys Lipinski\\'s rules.\\n\\nAdditionally, the molecule has:\\n- QED: 0.462 (a measure of dr\n",
      "ug-likeness, with values closer to 0 indicating higher drug-likeness)\\n- Polar Surface Area: 0.000 (\n",
      "indicating the molecule is likely to be more lipophilic)\\n- Rotatable Bonds: 0 (fewer rotatable bond\n",
      "s can indicate a more rigid structure, which might be favorable for binding to biological targets)\\n\n",
      "- Aromatic Rings: 1 (presence of aromatic rings can influence the molecule\\'s properties and interac\n",
      "tions)\\n\\nIn summary, the molecule not only obeys Lipinski\\'s rules but also exhibits properties tha\n",
      "t are generally favorable for drug-likeness and potential bioactivity.\n"
     ]
    }
   ],
   "source": [
    "pretty_print(answer)"
   ]
  },
  {
   "cell_type": "code",
   "execution_count": 100,
   "metadata": {
    "id": "e7gfqpPRXkfw"
   },
   "outputs": [],
   "source": [
    "input = {\n",
    "    \"messages\": [\n",
    "        HumanMessage('smiles: c1ccc(F)cc1, task: generate analogues of the original molecule and assess them according to QED')\n",
    "    ]\n",
    "}"
   ]
  },
  {
   "cell_type": "code",
   "execution_count": 101,
   "metadata": {
    "colab": {
     "base_uri": "https://localhost:8080/"
    },
    "id": "hBsTWts_XolA",
    "outputId": "23752590-e0c5-4d9e-daf3-05a5c64a413e"
   },
   "outputs": [
    {
     "name": "stdout",
     "output_type": "stream",
     "text": [
      "The chosen tools are: ('substitution_tool', 'lipinski_tool')\n",
      "substituion tool\n",
      "===================================================\n",
      "lipinski tool\n",
      "===================================================\n",
      "The original molecule c1ccc(F)cc1 has a QED value of 0.4618403302914615. Analogues of this molecule \n",
      "have been created and assessed according to their QED values. Here are the analogues and their respe\n",
      "ctive QED values:\\n\\n1. c1ccc(Cl)cc1, QED: 0.483\\n2. c1ccc(O)cc1, QED: 0.515\\n3. c1ccc(C)cc1, QED: 0\n",
      ".459\\n4. c1ccc(OC)cc1, QED: 0.532\\n5. c1ccc([NH3+])cc1, QED: 0.486\\n6. c1ccc(Br)cc1, QED: 0.542\\n7. \n",
      "c1ccc(C(F)(F)(F))cc1, QED: 0.527\\n\\nAmong these analogues, c1ccc(OC)cc1 has the highest QED value of\n",
      " 0.532, indicating it may have better drug-like properties compared to the original molecule. The or\n",
      "iginal molecule has a slightly lower QED value of 0.462 according to the Lipinski tool results, whic\n",
      "h also shows it has a molecular weight of 96.104, a LogP of 1.826, and no hydrogen bond donors or ac\n",
      "ceptors, as well as a polar surface area of 0.000 and no rotatable bonds. The original molecule also\n",
      " contains one aromatic ring and no undesirable moieties. These properties, along with the QED values\n",
      ", help in assessing the drug-likeness and potential efficacy of these analogues. \n"
     ]
    }
   ],
   "source": [
    "answer = graph.invoke(input)\n",
    "pretty_print(answer)"
   ]
  },
  {
   "cell_type": "markdown",
   "metadata": {
    "id": "Cp9UzWavw0qc"
   },
   "source": [
    "## Use the model alone without the agentic ability"
   ]
  },
  {
   "cell_type": "code",
   "execution_count": null,
   "metadata": {
    "colab": {
     "base_uri": "https://localhost:8080/"
    },
    "id": "xtzSbILAxQNw",
    "outputId": "872d672f-ea68-4ccd-fbe1-eab46273644d"
   },
   "outputs": [
    {
     "data": {
      "text/plain": [
       "AIMessage(content=\"<s><|system_start|>You are Apertus, a helpful assistant created by the SwissAI initiative.\\nKnowledge cutoff: 2024-04\\nCurrent date: 2025-09-06<|system_end|><|developer_start|>Deliberation: disabled\\nTool Capabilities: disabled<|developer_end|><|user_start|>does the molecule c1ccc(Br)cc1 obey Lipinski's rules??<|user_end|><|assistant_start|>To determine if the molecule C1CCC(Br)CC1 obeys Lipinski's rules, we need to evaluate it against the four criteria: \\n\\n1. Molecular Weight (MW) ≤ 500 Da\\n2. Number of Hydrogen Bond Donors (HBD) ≤ 5\\n3. Number of Hydrogen Bond Acceptors (HBA) ≤ 10\\n4. LogP ≤ 5\\n\\nLet's analyze each criterion:\\n\\n1. **Molecular Weight (MW)**: The molecular formula for C1CCC(Br)CC1 is C8H12Br, which has a molecular weight of approximately 165.84 g/mol. This is well below the 500 Da threshold.\\n\\n2. **Number of Hydrogen Bond Donors (HBD)**: The molecule has 8 hydrogen atoms. Each hydrogen atom can act as a hydrogen bond donor, so the maximum number of hydrogen bond donors is 8.\\n\\n3. **Number of Hydrogen Bond Acceptors (HBA)**: The molecule has 12 carbon atoms and 2 bromine atoms. Carbon atoms can act as hydrogen bond acceptors, and bromine atoms can also act as hydrogen bond acceptors. However, the exact number of hydrogen bond acceptors depends on the geometry of the molecule. For a linear molecule like this, we can estimate the number of hydrogen bond acceptors based on the number of carbon atoms and bromine atoms. A rough estimate would be around 12 (from the carbon atoms) plus 2 (from the bromine atoms), totaling 14. However, this is an approximation and the actual number could be slightly different.\\n\\n4. **LogP**: LogP is a measure of the lipophilicity of a molecule. A lower logP indicates a more hydrophilic molecule. For C1CCC(Br)CC1, we need to calculate the logP. This requires knowledge of the exact structure and the use of software or databases to estimate the logP. However, based on the structure, we can anticipate that the molecule is likely to have a relatively low logP due to the presence of bromine and the linear structure, which tends to make molecules more hydrophilic.\\n\\nGiven these analyses, the molecule C1CCC(Br)CC1 appears to meet all four criteria of Lipinski's rules:\\n\\n- Molecular Weight: ≤ 500 Da\\n- Number of Hydrogen Bond Donors: ≤ \", additional_kwargs={}, response_metadata={}, id='run--60f29821-afc7-4d3d-b500-55131a7edae1-0')"
      ]
     },
     "execution_count": 17,
     "metadata": {},
     "output_type": "execute_result"
    }
   ],
   "source": [
    "chat_model.invoke(\"does the molecule c1ccc(Br)cc1 obey Lipinski's rules??\")"
   ]
  },
  {
   "cell_type": "code",
   "execution_count": null,
   "metadata": {
    "id": "T_nPOhBNRkjj"
   },
   "outputs": [],
   "source": []
  }
 ],
 "metadata": {
  "accelerator": "TPU",
  "colab": {
   "collapsed_sections": [
    "cJ0e5Tt8Susd",
    "AtMrObKoSqVJ",
    "KH5j6oJWom_n"
   ],
   "gpuType": "V28",
   "machine_shape": "hm",
   "provenance": []
  },
  "kernelspec": {
   "display_name": "Python 3",
   "language": "python",
   "name": "python3"
  },
  "language_info": {
   "codemirror_mode": {
    "name": "ipython",
    "version": 3
   },
   "file_extension": ".py",
   "mimetype": "text/x-python",
   "name": "python",
   "nbconvert_exporter": "python",
   "pygments_lexer": "ipython3",
   "version": "3.8.8"
  }
 },
 "nbformat": 4,
 "nbformat_minor": 1
}
