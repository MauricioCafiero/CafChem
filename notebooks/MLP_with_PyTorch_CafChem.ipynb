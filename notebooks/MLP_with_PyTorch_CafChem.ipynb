{
 "cells": [
  {
   "cell_type": "markdown",
   "metadata": {
    "id": "a7ok80dPklu8"
   },
   "source": [
    "#CafChem tools for creating a Multi-Layer Perceptron with Pytorch and fitting to chemical data.\n",
    "\n",
    "[![Open In Colab](https://colab.research.google.com/assets/colab-badge.svg)](https://colab.research.google.com/github/MauricioCafiero/CafChem/blob/main/notebooks/MLP_with_PyTorch_CafChem.ipynb)\n",
    "\n",
    "## This notebook allows you to:\n",
    "- Read in a CSV file.\n",
    "- featurize data, remove NaNs, perform scaling. Split data into training and validation sets.\n",
    "- Create an MLP with a user defined number of hidden layers.\n",
    "- visualize predicted data.\n",
    "\n",
    "## Requirements:\n",
    "- This notebook will install deepchem and mordred\n",
    "- It will pull the CafChem tools from Github.\n",
    "- It will install all needed libraries."
   ]
  },
  {
   "cell_type": "markdown",
   "metadata": {
    "id": "eDYzKIJPlbLv"
   },
   "source": [
    "## Set-up"
   ]
  },
  {
   "cell_type": "markdown",
   "metadata": {
    "id": "LQNorGYSlX1K"
   },
   "source": [
    "### Install libraries"
   ]
  },
  {
   "cell_type": "code",
   "execution_count": 1,
   "metadata": {
    "colab": {
     "base_uri": "https://localhost:8080/",
     "height": 1000
    },
    "id": "nOM_Nd2RjCk5",
    "outputId": "73c1db55-34f4-4689-ee3a-28d1985e8057"
   },
   "outputs": [
    {
     "name": "stdout",
     "output_type": "stream",
     "text": [
      "Collecting deepchem\n",
      "  Downloading deepchem-2.8.0-py3-none-any.whl.metadata (2.0 kB)\n",
      "Requirement already satisfied: joblib in /usr/local/lib/python3.11/dist-packages (from deepchem) (1.5.1)\n",
      "Requirement already satisfied: numpy>=1.21 in /usr/local/lib/python3.11/dist-packages (from deepchem) (2.0.2)\n",
      "Requirement already satisfied: pandas in /usr/local/lib/python3.11/dist-packages (from deepchem) (2.2.2)\n",
      "Requirement already satisfied: scikit-learn in /usr/local/lib/python3.11/dist-packages (from deepchem) (1.6.1)\n",
      "Requirement already satisfied: sympy in /usr/local/lib/python3.11/dist-packages (from deepchem) (1.13.1)\n",
      "Requirement already satisfied: scipy>=1.10.1 in /usr/local/lib/python3.11/dist-packages (from deepchem) (1.16.0)\n",
      "Collecting rdkit (from deepchem)\n",
      "  Downloading rdkit-2025.3.5-cp311-cp311-manylinux_2_28_x86_64.whl.metadata (4.1 kB)\n",
      "Requirement already satisfied: python-dateutil>=2.8.2 in /usr/local/lib/python3.11/dist-packages (from pandas->deepchem) (2.9.0.post0)\n",
      "Requirement already satisfied: pytz>=2020.1 in /usr/local/lib/python3.11/dist-packages (from pandas->deepchem) (2025.2)\n",
      "Requirement already satisfied: tzdata>=2022.7 in /usr/local/lib/python3.11/dist-packages (from pandas->deepchem) (2025.2)\n",
      "Requirement already satisfied: Pillow in /usr/local/lib/python3.11/dist-packages (from rdkit->deepchem) (11.3.0)\n",
      "Requirement already satisfied: threadpoolctl>=3.1.0 in /usr/local/lib/python3.11/dist-packages (from scikit-learn->deepchem) (3.6.0)\n",
      "Requirement already satisfied: mpmath<1.4,>=1.1.0 in /usr/local/lib/python3.11/dist-packages (from sympy->deepchem) (1.3.0)\n",
      "Requirement already satisfied: six>=1.5 in /usr/local/lib/python3.11/dist-packages (from python-dateutil>=2.8.2->pandas->deepchem) (1.17.0)\n",
      "Downloading deepchem-2.8.0-py3-none-any.whl (1.0 MB)\n",
      "\u001b[2K   \u001b[90m━━━━━━━━━━━━━━━━━━━━━━━━━━━━━━━━━━━━━━━━\u001b[0m \u001b[32m1.0/1.0 MB\u001b[0m \u001b[31m21.8 MB/s\u001b[0m eta \u001b[36m0:00:00\u001b[0m\n",
      "\u001b[?25hDownloading rdkit-2025.3.5-cp311-cp311-manylinux_2_28_x86_64.whl (36.3 MB)\n",
      "\u001b[2K   \u001b[90m━━━━━━━━━━━━━━━━━━━━━━━━━━━━━━━━━━━━━━━━\u001b[0m \u001b[32m36.3/36.3 MB\u001b[0m \u001b[31m12.2 MB/s\u001b[0m eta \u001b[36m0:00:00\u001b[0m\n",
      "\u001b[?25hInstalling collected packages: rdkit, deepchem\n",
      "Successfully installed deepchem-2.8.0 rdkit-2025.3.5\n",
      "Collecting mordred\n",
      "  Downloading mordred-1.2.0.tar.gz (128 kB)\n",
      "\u001b[2K     \u001b[90m━━━━━━━━━━━━━━━━━━━━━━━━━━━━━━━━━━━━━━━\u001b[0m \u001b[32m128.8/128.8 kB\u001b[0m \u001b[31m1.8 MB/s\u001b[0m eta \u001b[36m0:00:00\u001b[0m\n",
      "\u001b[?25h  Preparing metadata (setup.py) ... \u001b[?25l\u001b[?25hdone\n",
      "Requirement already satisfied: six==1.* in /usr/local/lib/python3.11/dist-packages (from mordred) (1.17.0)\n",
      "Collecting numpy==1.* (from mordred)\n",
      "  Downloading numpy-1.26.4-cp311-cp311-manylinux_2_17_x86_64.manylinux2014_x86_64.whl.metadata (61 kB)\n",
      "\u001b[2K     \u001b[90m━━━━━━━━━━━━━━━━━━━━━━━━━━━━━━━━━━━━━━━━\u001b[0m \u001b[32m61.0/61.0 kB\u001b[0m \u001b[31m4.0 MB/s\u001b[0m eta \u001b[36m0:00:00\u001b[0m\n",
      "\u001b[?25hCollecting networkx==2.* (from mordred)\n",
      "  Downloading networkx-2.8.8-py3-none-any.whl.metadata (5.1 kB)\n",
      "Downloading networkx-2.8.8-py3-none-any.whl (2.0 MB)\n",
      "\u001b[2K   \u001b[90m━━━━━━━━━━━━━━━━━━━━━━━━━━━━━━━━━━━━━━━━\u001b[0m \u001b[32m2.0/2.0 MB\u001b[0m \u001b[31m45.0 MB/s\u001b[0m eta \u001b[36m0:00:00\u001b[0m\n",
      "\u001b[?25hDownloading numpy-1.26.4-cp311-cp311-manylinux_2_17_x86_64.manylinux2014_x86_64.whl (18.3 MB)\n",
      "\u001b[2K   \u001b[90m━━━━━━━━━━━━━━━━━━━━━━━━━━━━━━━━━━━━━━━━\u001b[0m \u001b[32m18.3/18.3 MB\u001b[0m \u001b[31m63.4 MB/s\u001b[0m eta \u001b[36m0:00:00\u001b[0m\n",
      "\u001b[?25hBuilding wheels for collected packages: mordred\n",
      "  Building wheel for mordred (setup.py) ... \u001b[?25l\u001b[?25hdone\n",
      "  Created wheel for mordred: filename=mordred-1.2.0-py3-none-any.whl size=176718 sha256=29e02f80a81abf01f6c9772485fe3632754ab361364151e62f9ae115bc36298e\n",
      "  Stored in directory: /root/.cache/pip/wheels/8b/30/0b/84e3f6775306e74cf5957ee4d16b10bf3927dcec44cc23d5f2\n",
      "Successfully built mordred\n",
      "Installing collected packages: numpy, networkx, mordred\n",
      "  Attempting uninstall: numpy\n",
      "    Found existing installation: numpy 2.0.2\n",
      "    Uninstalling numpy-2.0.2:\n",
      "      Successfully uninstalled numpy-2.0.2\n",
      "  Attempting uninstall: networkx\n",
      "    Found existing installation: networkx 3.5\n",
      "    Uninstalling networkx-3.5:\n",
      "      Successfully uninstalled networkx-3.5\n",
      "\u001b[31mERROR: pip's dependency resolver does not currently take into account all the packages that are installed. This behaviour is the source of the following dependency conflicts.\n",
      "opencv-python 4.12.0.88 requires numpy<2.3.0,>=2; python_version >= \"3.9\", but you have numpy 1.26.4 which is incompatible.\n",
      "scikit-image 0.25.2 requires networkx>=3.0, but you have networkx 2.8.8 which is incompatible.\n",
      "opencv-python-headless 4.12.0.88 requires numpy<2.3.0,>=2; python_version >= \"3.9\", but you have numpy 1.26.4 which is incompatible.\n",
      "opencv-contrib-python 4.12.0.88 requires numpy<2.3.0,>=2; python_version >= \"3.9\", but you have numpy 1.26.4 which is incompatible.\n",
      "nx-cugraph-cu12 25.6.0 requires networkx>=3.2, but you have networkx 2.8.8 which is incompatible.\n",
      "torch 2.6.0+cu124 requires nvidia-cublas-cu12==12.4.5.8; platform_system == \"Linux\" and platform_machine == \"x86_64\", but you have nvidia-cublas-cu12 12.5.3.2 which is incompatible.\n",
      "torch 2.6.0+cu124 requires nvidia-cuda-cupti-cu12==12.4.127; platform_system == \"Linux\" and platform_machine == \"x86_64\", but you have nvidia-cuda-cupti-cu12 12.5.82 which is incompatible.\n",
      "torch 2.6.0+cu124 requires nvidia-cuda-nvrtc-cu12==12.4.127; platform_system == \"Linux\" and platform_machine == \"x86_64\", but you have nvidia-cuda-nvrtc-cu12 12.5.82 which is incompatible.\n",
      "torch 2.6.0+cu124 requires nvidia-cuda-runtime-cu12==12.4.127; platform_system == \"Linux\" and platform_machine == \"x86_64\", but you have nvidia-cuda-runtime-cu12 12.5.82 which is incompatible.\n",
      "torch 2.6.0+cu124 requires nvidia-cudnn-cu12==9.1.0.70; platform_system == \"Linux\" and platform_machine == \"x86_64\", but you have nvidia-cudnn-cu12 9.3.0.75 which is incompatible.\n",
      "torch 2.6.0+cu124 requires nvidia-cufft-cu12==11.2.1.3; platform_system == \"Linux\" and platform_machine == \"x86_64\", but you have nvidia-cufft-cu12 11.2.3.61 which is incompatible.\n",
      "torch 2.6.0+cu124 requires nvidia-curand-cu12==10.3.5.147; platform_system == \"Linux\" and platform_machine == \"x86_64\", but you have nvidia-curand-cu12 10.3.6.82 which is incompatible.\n",
      "torch 2.6.0+cu124 requires nvidia-cusolver-cu12==11.6.1.9; platform_system == \"Linux\" and platform_machine == \"x86_64\", but you have nvidia-cusolver-cu12 11.6.3.83 which is incompatible.\n",
      "torch 2.6.0+cu124 requires nvidia-cusparse-cu12==12.3.1.170; platform_system == \"Linux\" and platform_machine == \"x86_64\", but you have nvidia-cusparse-cu12 12.5.1.3 which is incompatible.\n",
      "torch 2.6.0+cu124 requires nvidia-nvjitlink-cu12==12.4.127; platform_system == \"Linux\" and platform_machine == \"x86_64\", but you have nvidia-nvjitlink-cu12 12.5.82 which is incompatible.\n",
      "thinc 8.3.6 requires numpy<3.0.0,>=2.0.0, but you have numpy 1.26.4 which is incompatible.\u001b[0m\u001b[31m\n",
      "\u001b[0mSuccessfully installed mordred-1.2.0 networkx-2.8.8 numpy-1.26.4\n"
     ]
    },
    {
     "data": {
      "application/vnd.colab-display-data+json": {
       "id": "d737393132164b949852b02214be3d5b",
       "pip_warning": {
        "packages": [
         "numpy"
        ]
       }
      }
     },
     "metadata": {},
     "output_type": "display_data"
    }
   ],
   "source": [
    "!pip install deepchem\n",
    "!pip install mordred"
   ]
  },
  {
   "cell_type": "markdown",
   "metadata": {
    "id": "b4sKIeoplfH3"
   },
   "source": [
    "### Pull CafChem from Github and import libraries"
   ]
  },
  {
   "cell_type": "code",
   "execution_count": 15,
   "metadata": {
    "colab": {
     "base_uri": "https://localhost:8080/"
    },
    "id": "zc9xjcF9isvx",
    "outputId": "2e0698f4-086d-47c3-f724-7c9716ed84fb"
   },
   "outputs": [
    {
     "name": "stdout",
     "output_type": "stream",
     "text": [
      "Cloning into 'CafChem'...\n",
      "remote: Enumerating objects: 639, done.\u001b[K\n",
      "remote: Counting objects: 100% (216/216), done.\u001b[K\n",
      "remote: Compressing objects: 100% (171/171), done.\u001b[K\n",
      "remote: Total 639 (delta 151), reused 45 (delta 45), pack-reused 423 (from 1)\u001b[K\n",
      "Receiving objects: 100% (639/639), 41.79 MiB | 28.62 MiB/s, done.\n",
      "Resolving deltas: 100% (369/369), done.\n"
     ]
    }
   ],
   "source": [
    "!git clone https://github.com/MauricioCafiero/CafChem.git"
   ]
  },
  {
   "cell_type": "code",
   "execution_count": 2,
   "metadata": {
    "colab": {
     "base_uri": "https://localhost:8080/"
    },
    "id": "8OjsJgbtgnNh",
    "outputId": "fc0e0043-2dc2-4a27-89f6-0ba4f6a2c03a"
   },
   "outputs": [
    {
     "name": "stderr",
     "output_type": "stream",
     "text": [
      "WARNING:deepchem.feat.molecule_featurizers.rdkit_descriptors:No normalization for SPS. Feature removed!\n",
      "WARNING:deepchem.feat.molecule_featurizers.rdkit_descriptors:No normalization for AvgIpc. Feature removed!\n",
      "WARNING:deepchem.feat.molecule_featurizers.rdkit_descriptors:No normalization for NumAmideBonds. Feature removed!\n",
      "WARNING:deepchem.feat.molecule_featurizers.rdkit_descriptors:No normalization for NumAtomStereoCenters. Feature removed!\n",
      "WARNING:deepchem.feat.molecule_featurizers.rdkit_descriptors:No normalization for NumBridgeheadAtoms. Feature removed!\n",
      "WARNING:deepchem.feat.molecule_featurizers.rdkit_descriptors:No normalization for NumHeterocycles. Feature removed!\n",
      "WARNING:deepchem.feat.molecule_featurizers.rdkit_descriptors:No normalization for NumSpiroAtoms. Feature removed!\n",
      "WARNING:deepchem.feat.molecule_featurizers.rdkit_descriptors:No normalization for NumUnspecifiedAtomStereoCenters. Feature removed!\n",
      "WARNING:deepchem.feat.molecule_featurizers.rdkit_descriptors:No normalization for Phi. Feature removed!\n",
      "\u001b[34m\u001b[1mwandb\u001b[0m: \u001b[33mWARNING\u001b[0m W&B installed but not logged in.  Run `wandb login` or set the WANDB_API_KEY env variable.\n",
      "WARNING:tensorflow:From /usr/local/lib/python3.11/dist-packages/tensorflow/python/util/deprecation.py:588: calling function (from tensorflow.python.eager.polymorphic_function.polymorphic_function) with experimental_relax_shapes is deprecated and will be removed in a future version.\n",
      "Instructions for updating:\n",
      "experimental_relax_shapes is deprecated, use reduce_retracing instead\n",
      "\u001b[34m\u001b[1mwandb\u001b[0m: \u001b[33mWARNING\u001b[0m W&B installed but not logged in.  Run `wandb login` or set the WANDB_API_KEY env variable.\n",
      "WARNING:deepchem.models.torch_models:Skipped loading modules with pytorch-geometric dependency, missing a dependency. No module named 'torch_geometric'\n",
      "WARNING:deepchem.models:Skipped loading modules with pytorch-geometric dependency, missing a dependency. cannot import name 'DMPNN' from 'deepchem.models.torch_models' (/usr/local/lib/python3.11/dist-packages/deepchem/models/torch_models/__init__.py)\n",
      "WARNING:deepchem.models:Skipped loading modules with pytorch-lightning dependency, missing a dependency. No module named 'lightning'\n",
      "WARNING:deepchem.models:Skipped loading some Jax models, missing a dependency. No module named 'haiku'\n"
     ]
    }
   ],
   "source": [
    "import numpy as np\n",
    "import pandas as pd\n",
    "import time\n",
    "import torch\n",
    "import torch.nn as nn\n",
    "import torch.optim as optim\n",
    "from sklearn.preprocessing import StandardScaler\n",
    "from torchsummary import summary\n",
    "\n",
    "import CafChem.CafChemMLPPyTorch as ccmlp"
   ]
  },
  {
   "cell_type": "markdown",
   "metadata": {
    "id": "yA5GL1Rhlk__"
   },
   "source": [
    "## Read in data and featurize\n",
    "- Can choose RDKit descriptors, Mordred descriptors, or fingerprints"
   ]
  },
  {
   "cell_type": "code",
   "execution_count": 3,
   "metadata": {
    "colab": {
     "base_uri": "https://localhost:8080/",
     "height": 206
    },
    "id": "Y7UzwUAhjHQK",
    "outputId": "040bce07-7a94-451d-d633-a08f6e29a968"
   },
   "outputs": [
    {
     "data": {
      "application/vnd.google.colaboratory.intrinsic+json": {
       "summary": "{\n  \"name\": \"df\",\n  \"rows\": 1144,\n  \"fields\": [\n    {\n      \"column\": \"Compound ID\",\n      \"properties\": {\n        \"dtype\": \"string\",\n        \"num_unique_values\": 1143,\n        \"samples\": [\n          \"2,3,6-Trichlorophenol\",\n          \"tetrachloroguaiacol\",\n          \"3-Methyl-3-hexanol\"\n        ],\n        \"semantic_type\": \"\",\n        \"description\": \"\"\n      }\n    },\n    {\n      \"column\": \"measured log(solubility:mol/L)\",\n      \"properties\": {\n        \"dtype\": \"number\",\n        \"std\": 2.0965019290656026,\n        \"min\": -11.6,\n        \"max\": 1.58,\n        \"num_unique_values\": 743,\n        \"samples\": [\n          -1.7,\n          -6.62,\n          -3.324\n        ],\n        \"semantic_type\": \"\",\n        \"description\": \"\"\n      }\n    },\n    {\n      \"column\": \"ESOL predicted log(solubility:mol/L)\",\n      \"properties\": {\n        \"dtype\": \"number\",\n        \"std\": 1.6865201316927123,\n        \"min\": -9.702,\n        \"max\": 1.091,\n        \"num_unique_values\": 920,\n        \"samples\": [\n          -0.949,\n          -1.457,\n          -2.855\n        ],\n        \"semantic_type\": \"\",\n        \"description\": \"\"\n      }\n    },\n    {\n      \"column\": \"SMILES\",\n      \"properties\": {\n        \"dtype\": \"string\",\n        \"num_unique_values\": 1128,\n        \"samples\": [\n          \"CC(C)(C)Cc1ccccc1\",\n          \"CCCCC1C(=O)N(N(C1=O)c2ccc(O)cc2)c3ccccc3 \",\n          \"CCOP(=S)(OCC)Oc1nc(Cl)n(n1)C(C)C\"\n        ],\n        \"semantic_type\": \"\",\n        \"description\": \"\"\n      }\n    }\n  ]\n}",
       "type": "dataframe",
       "variable_name": "df"
      },
      "text/html": [
       "\n",
       "  <div id=\"df-f259bd06-5647-44db-8ad4-d63e4c6c3caa\" class=\"colab-df-container\">\n",
       "    <div>\n",
       "<style scoped>\n",
       "    .dataframe tbody tr th:only-of-type {\n",
       "        vertical-align: middle;\n",
       "    }\n",
       "\n",
       "    .dataframe tbody tr th {\n",
       "        vertical-align: top;\n",
       "    }\n",
       "\n",
       "    .dataframe thead th {\n",
       "        text-align: right;\n",
       "    }\n",
       "</style>\n",
       "<table border=\"1\" class=\"dataframe\">\n",
       "  <thead>\n",
       "    <tr style=\"text-align: right;\">\n",
       "      <th></th>\n",
       "      <th>Compound ID</th>\n",
       "      <th>measured log(solubility:mol/L)</th>\n",
       "      <th>ESOL predicted log(solubility:mol/L)</th>\n",
       "      <th>SMILES</th>\n",
       "    </tr>\n",
       "  </thead>\n",
       "  <tbody>\n",
       "    <tr>\n",
       "      <th>0</th>\n",
       "      <td>1,1,1,2-Tetrachloroethane</td>\n",
       "      <td>-2.18</td>\n",
       "      <td>-2.794</td>\n",
       "      <td>ClCC(Cl)(Cl)Cl</td>\n",
       "    </tr>\n",
       "    <tr>\n",
       "      <th>1</th>\n",
       "      <td>1,1,1-Trichloroethane</td>\n",
       "      <td>-2.00</td>\n",
       "      <td>-2.232</td>\n",
       "      <td>CC(Cl)(Cl)Cl</td>\n",
       "    </tr>\n",
       "    <tr>\n",
       "      <th>2</th>\n",
       "      <td>1,1,2,2-Tetrachloroethane</td>\n",
       "      <td>-1.74</td>\n",
       "      <td>-2.549</td>\n",
       "      <td>ClC(Cl)C(Cl)Cl</td>\n",
       "    </tr>\n",
       "    <tr>\n",
       "      <th>3</th>\n",
       "      <td>1,1,2-Trichloroethane</td>\n",
       "      <td>-1.48</td>\n",
       "      <td>-1.961</td>\n",
       "      <td>ClCC(Cl)Cl</td>\n",
       "    </tr>\n",
       "    <tr>\n",
       "      <th>4</th>\n",
       "      <td>1,1,2-Trichlorotrifluoroethane</td>\n",
       "      <td>-3.04</td>\n",
       "      <td>-3.077</td>\n",
       "      <td>FC(F)(Cl)C(F)(Cl)Cl</td>\n",
       "    </tr>\n",
       "  </tbody>\n",
       "</table>\n",
       "</div>\n",
       "    <div class=\"colab-df-buttons\">\n",
       "\n",
       "  <div class=\"colab-df-container\">\n",
       "    <button class=\"colab-df-convert\" onclick=\"convertToInteractive('df-f259bd06-5647-44db-8ad4-d63e4c6c3caa')\"\n",
       "            title=\"Convert this dataframe to an interactive table.\"\n",
       "            style=\"display:none;\">\n",
       "\n",
       "  <svg xmlns=\"http://www.w3.org/2000/svg\" height=\"24px\" viewBox=\"0 -960 960 960\">\n",
       "    <path d=\"M120-120v-720h720v720H120Zm60-500h600v-160H180v160Zm220 220h160v-160H400v160Zm0 220h160v-160H400v160ZM180-400h160v-160H180v160Zm440 0h160v-160H620v160ZM180-180h160v-160H180v160Zm440 0h160v-160H620v160Z\"/>\n",
       "  </svg>\n",
       "    </button>\n",
       "\n",
       "  <style>\n",
       "    .colab-df-container {\n",
       "      display:flex;\n",
       "      gap: 12px;\n",
       "    }\n",
       "\n",
       "    .colab-df-convert {\n",
       "      background-color: #E8F0FE;\n",
       "      border: none;\n",
       "      border-radius: 50%;\n",
       "      cursor: pointer;\n",
       "      display: none;\n",
       "      fill: #1967D2;\n",
       "      height: 32px;\n",
       "      padding: 0 0 0 0;\n",
       "      width: 32px;\n",
       "    }\n",
       "\n",
       "    .colab-df-convert:hover {\n",
       "      background-color: #E2EBFA;\n",
       "      box-shadow: 0px 1px 2px rgba(60, 64, 67, 0.3), 0px 1px 3px 1px rgba(60, 64, 67, 0.15);\n",
       "      fill: #174EA6;\n",
       "    }\n",
       "\n",
       "    .colab-df-buttons div {\n",
       "      margin-bottom: 4px;\n",
       "    }\n",
       "\n",
       "    [theme=dark] .colab-df-convert {\n",
       "      background-color: #3B4455;\n",
       "      fill: #D2E3FC;\n",
       "    }\n",
       "\n",
       "    [theme=dark] .colab-df-convert:hover {\n",
       "      background-color: #434B5C;\n",
       "      box-shadow: 0px 1px 3px 1px rgba(0, 0, 0, 0.15);\n",
       "      filter: drop-shadow(0px 1px 2px rgba(0, 0, 0, 0.3));\n",
       "      fill: #FFFFFF;\n",
       "    }\n",
       "  </style>\n",
       "\n",
       "    <script>\n",
       "      const buttonEl =\n",
       "        document.querySelector('#df-f259bd06-5647-44db-8ad4-d63e4c6c3caa button.colab-df-convert');\n",
       "      buttonEl.style.display =\n",
       "        google.colab.kernel.accessAllowed ? 'block' : 'none';\n",
       "\n",
       "      async function convertToInteractive(key) {\n",
       "        const element = document.querySelector('#df-f259bd06-5647-44db-8ad4-d63e4c6c3caa');\n",
       "        const dataTable =\n",
       "          await google.colab.kernel.invokeFunction('convertToInteractive',\n",
       "                                                    [key], {});\n",
       "        if (!dataTable) return;\n",
       "\n",
       "        const docLinkHtml = 'Like what you see? Visit the ' +\n",
       "          '<a target=\"_blank\" href=https://colab.research.google.com/notebooks/data_table.ipynb>data table notebook</a>'\n",
       "          + ' to learn more about interactive tables.';\n",
       "        element.innerHTML = '';\n",
       "        dataTable['output_type'] = 'display_data';\n",
       "        await google.colab.output.renderOutput(dataTable, element);\n",
       "        const docLink = document.createElement('div');\n",
       "        docLink.innerHTML = docLinkHtml;\n",
       "        element.appendChild(docLink);\n",
       "      }\n",
       "    </script>\n",
       "  </div>\n",
       "\n",
       "\n",
       "    <div id=\"df-28b394c1-edfc-47e1-879c-1332e2bb17dc\">\n",
       "      <button class=\"colab-df-quickchart\" onclick=\"quickchart('df-28b394c1-edfc-47e1-879c-1332e2bb17dc')\"\n",
       "                title=\"Suggest charts\"\n",
       "                style=\"display:none;\">\n",
       "\n",
       "<svg xmlns=\"http://www.w3.org/2000/svg\" height=\"24px\"viewBox=\"0 0 24 24\"\n",
       "     width=\"24px\">\n",
       "    <g>\n",
       "        <path d=\"M19 3H5c-1.1 0-2 .9-2 2v14c0 1.1.9 2 2 2h14c1.1 0 2-.9 2-2V5c0-1.1-.9-2-2-2zM9 17H7v-7h2v7zm4 0h-2V7h2v10zm4 0h-2v-4h2v4z\"/>\n",
       "    </g>\n",
       "</svg>\n",
       "      </button>\n",
       "\n",
       "<style>\n",
       "  .colab-df-quickchart {\n",
       "      --bg-color: #E8F0FE;\n",
       "      --fill-color: #1967D2;\n",
       "      --hover-bg-color: #E2EBFA;\n",
       "      --hover-fill-color: #174EA6;\n",
       "      --disabled-fill-color: #AAA;\n",
       "      --disabled-bg-color: #DDD;\n",
       "  }\n",
       "\n",
       "  [theme=dark] .colab-df-quickchart {\n",
       "      --bg-color: #3B4455;\n",
       "      --fill-color: #D2E3FC;\n",
       "      --hover-bg-color: #434B5C;\n",
       "      --hover-fill-color: #FFFFFF;\n",
       "      --disabled-bg-color: #3B4455;\n",
       "      --disabled-fill-color: #666;\n",
       "  }\n",
       "\n",
       "  .colab-df-quickchart {\n",
       "    background-color: var(--bg-color);\n",
       "    border: none;\n",
       "    border-radius: 50%;\n",
       "    cursor: pointer;\n",
       "    display: none;\n",
       "    fill: var(--fill-color);\n",
       "    height: 32px;\n",
       "    padding: 0;\n",
       "    width: 32px;\n",
       "  }\n",
       "\n",
       "  .colab-df-quickchart:hover {\n",
       "    background-color: var(--hover-bg-color);\n",
       "    box-shadow: 0 1px 2px rgba(60, 64, 67, 0.3), 0 1px 3px 1px rgba(60, 64, 67, 0.15);\n",
       "    fill: var(--button-hover-fill-color);\n",
       "  }\n",
       "\n",
       "  .colab-df-quickchart-complete:disabled,\n",
       "  .colab-df-quickchart-complete:disabled:hover {\n",
       "    background-color: var(--disabled-bg-color);\n",
       "    fill: var(--disabled-fill-color);\n",
       "    box-shadow: none;\n",
       "  }\n",
       "\n",
       "  .colab-df-spinner {\n",
       "    border: 2px solid var(--fill-color);\n",
       "    border-color: transparent;\n",
       "    border-bottom-color: var(--fill-color);\n",
       "    animation:\n",
       "      spin 1s steps(1) infinite;\n",
       "  }\n",
       "\n",
       "  @keyframes spin {\n",
       "    0% {\n",
       "      border-color: transparent;\n",
       "      border-bottom-color: var(--fill-color);\n",
       "      border-left-color: var(--fill-color);\n",
       "    }\n",
       "    20% {\n",
       "      border-color: transparent;\n",
       "      border-left-color: var(--fill-color);\n",
       "      border-top-color: var(--fill-color);\n",
       "    }\n",
       "    30% {\n",
       "      border-color: transparent;\n",
       "      border-left-color: var(--fill-color);\n",
       "      border-top-color: var(--fill-color);\n",
       "      border-right-color: var(--fill-color);\n",
       "    }\n",
       "    40% {\n",
       "      border-color: transparent;\n",
       "      border-right-color: var(--fill-color);\n",
       "      border-top-color: var(--fill-color);\n",
       "    }\n",
       "    60% {\n",
       "      border-color: transparent;\n",
       "      border-right-color: var(--fill-color);\n",
       "    }\n",
       "    80% {\n",
       "      border-color: transparent;\n",
       "      border-right-color: var(--fill-color);\n",
       "      border-bottom-color: var(--fill-color);\n",
       "    }\n",
       "    90% {\n",
       "      border-color: transparent;\n",
       "      border-bottom-color: var(--fill-color);\n",
       "    }\n",
       "  }\n",
       "</style>\n",
       "\n",
       "      <script>\n",
       "        async function quickchart(key) {\n",
       "          const quickchartButtonEl =\n",
       "            document.querySelector('#' + key + ' button');\n",
       "          quickchartButtonEl.disabled = true;  // To prevent multiple clicks.\n",
       "          quickchartButtonEl.classList.add('colab-df-spinner');\n",
       "          try {\n",
       "            const charts = await google.colab.kernel.invokeFunction(\n",
       "                'suggestCharts', [key], {});\n",
       "          } catch (error) {\n",
       "            console.error('Error during call to suggestCharts:', error);\n",
       "          }\n",
       "          quickchartButtonEl.classList.remove('colab-df-spinner');\n",
       "          quickchartButtonEl.classList.add('colab-df-quickchart-complete');\n",
       "        }\n",
       "        (() => {\n",
       "          let quickchartButtonEl =\n",
       "            document.querySelector('#df-28b394c1-edfc-47e1-879c-1332e2bb17dc button');\n",
       "          quickchartButtonEl.style.display =\n",
       "            google.colab.kernel.accessAllowed ? 'block' : 'none';\n",
       "        })();\n",
       "      </script>\n",
       "    </div>\n",
       "\n",
       "    </div>\n",
       "  </div>\n"
      ],
      "text/plain": [
       "                      Compound ID  measured log(solubility:mol/L)  \\\n",
       "0       1,1,1,2-Tetrachloroethane                           -2.18   \n",
       "1           1,1,1-Trichloroethane                           -2.00   \n",
       "2       1,1,2,2-Tetrachloroethane                           -1.74   \n",
       "3           1,1,2-Trichloroethane                           -1.48   \n",
       "4  1,1,2-Trichlorotrifluoroethane                           -3.04   \n",
       "\n",
       "   ESOL predicted log(solubility:mol/L)               SMILES  \n",
       "0                                -2.794       ClCC(Cl)(Cl)Cl  \n",
       "1                                -2.232         CC(Cl)(Cl)Cl  \n",
       "2                                -2.549       ClC(Cl)C(Cl)Cl  \n",
       "3                                -1.961           ClCC(Cl)Cl  \n",
       "4                                -3.077  FC(F)(Cl)C(F)(Cl)Cl  "
      ]
     },
     "execution_count": 3,
     "metadata": {},
     "output_type": "execute_result"
    }
   ],
   "source": [
    "df = pd.read_csv('/content/delaney.csv')\n",
    "df.head()"
   ]
  },
  {
   "cell_type": "code",
   "execution_count": 5,
   "metadata": {
    "colab": {
     "base_uri": "https://localhost:8080/"
    },
    "id": "0x0dIeIijsMZ",
    "outputId": "f02083c2-00b4-4661-ab5b-bd8d9d5ebf30"
   },
   "outputs": [
    {
     "name": "stdout",
     "output_type": "stream",
     "text": [
      "Old dimensions are: (1144, 217).\n",
      "New dimensions are: (1144, 217)\n"
     ]
    }
   ],
   "source": [
    "X, y, smiles = ccmlp.featurize(df['SMILES'], df['measured log(solubility:mol/L)'])"
   ]
  },
  {
   "cell_type": "markdown",
   "metadata": {
    "id": "Hk0gP7f51rmG"
   },
   "source": [
    "### Use if target data should be transformed with a log function"
   ]
  },
  {
   "cell_type": "code",
   "execution_count": 44,
   "metadata": {
    "id": "IfKDI8eMmgLL"
   },
   "outputs": [],
   "source": [
    "trans_y = []\n",
    "for i, val in enumerate(y):\n",
    "  try:\n",
    "    newval = np.log10(val)\n",
    "    trans_y.append(newval)\n",
    "  except:\n",
    "    print(f\"Could not transform {i}\")"
   ]
  },
  {
   "cell_type": "code",
   "execution_count": 59,
   "metadata": {
    "id": "Itx_isQTnnYe"
   },
   "outputs": [],
   "source": [
    "y = trans_y"
   ]
  },
  {
   "cell_type": "markdown",
   "metadata": {
    "id": "puXcdS-Qlvu7"
   },
   "source": [
    "## Prepare data\n",
    "- scale features\n",
    "- split into training and validation data\n",
    "- create Torch datasets and dataloaders"
   ]
  },
  {
   "cell_type": "code",
   "execution_count": 6,
   "metadata": {
    "id": "5Gd42mvNoPAb"
   },
   "outputs": [],
   "source": [
    "scaler = StandardScaler()\n",
    "X_scaled = scaler.fit_transform(X)"
   ]
  },
  {
   "cell_type": "code",
   "execution_count": 7,
   "metadata": {
    "id": "P-4CtmxIlyKs"
   },
   "outputs": [],
   "source": [
    "X_train, X_test, y_train, y_test = ccmlp.train_test_split(X_scaled, y, test_size=0.2, random_state=32)"
   ]
  },
  {
   "cell_type": "code",
   "execution_count": 8,
   "metadata": {
    "id": "AeNU28MjnvoP"
   },
   "outputs": [],
   "source": [
    "train_dataset, test_dataset, train_loader, test_loader = ccmlp.create_data_loader(X_train, y_train, X_test, y_test, batch_size=128)"
   ]
  },
  {
   "cell_type": "markdown",
   "metadata": {
    "id": "AF6as-Til5w4"
   },
   "source": [
    "## Create and train model\n",
    "- setup loss function and optimizer\n",
    "- create model with user defined numbers of neurons per layer, number of hidden layers\n",
    "- train model"
   ]
  },
  {
   "cell_type": "code",
   "execution_count": 9,
   "metadata": {
    "id": "F1jZsiQznLuU"
   },
   "outputs": [],
   "source": [
    "loss_function = nn.MSELoss()\n",
    "model = ccmlp.MLP_Model(neurons=400, input_dims=len(X_train[0]), num_hidden_layers=6)\n",
    "optimizer = optim.Adam(model.parameters(), lr=0.001, weight_decay=0.001)"
   ]
  },
  {
   "cell_type": "code",
   "execution_count": 10,
   "metadata": {
    "colab": {
     "base_uri": "https://localhost:8080/"
    },
    "id": "1AGJlIV7s0CI",
    "outputId": "b9aebf96-7591-4107-b695-9400b6fd18c8"
   },
   "outputs": [
    {
     "name": "stdout",
     "output_type": "stream",
     "text": [
      "Epoch 1\n",
      "-------------------------------\n",
      "Batch: 0, Loss: 14.2021427 [    0/  915]\n",
      "Batch: 2, Loss: 13.2881546 [  256/  915]\n",
      "Batch: 4, Loss: 11.9737911 [  512/  915]\n",
      "Batch: 6, Loss: 10.1018705 [  768/  915]\n",
      "Epoch 2\n",
      "-------------------------------\n",
      "Batch: 0, Loss: 3.4550323 [    0/  915]\n",
      "Batch: 2, Loss: 3.9007094 [  256/  915]\n",
      "Batch: 4, Loss: 4.5574532 [  512/  915]\n",
      "Batch: 6, Loss: 5.4709783 [  768/  915]\n",
      "Epoch 3\n",
      "-------------------------------\n",
      "Batch: 0, Loss: 4.6212354 [    0/  915]\n",
      "Batch: 2, Loss: 4.4124150 [  256/  915]\n",
      "Batch: 4, Loss: 3.4093308 [  512/  915]\n",
      "Batch: 6, Loss: 3.2954695 [  768/  915]\n",
      "Epoch 4\n",
      "-------------------------------\n",
      "Batch: 0, Loss: 1.6549163 [    0/  915]\n",
      "Batch: 2, Loss: 1.4250435 [  256/  915]\n",
      "Batch: 4, Loss: 1.5029166 [  512/  915]\n",
      "Batch: 6, Loss: 1.3498832 [  768/  915]\n",
      "Epoch 5\n",
      "-------------------------------\n",
      "Batch: 0, Loss: 0.9559766 [    0/  915]\n",
      "Batch: 2, Loss: 1.1357055 [  256/  915]\n",
      "Batch: 4, Loss: 1.1156681 [  512/  915]\n",
      "Batch: 6, Loss: 1.0010825 [  768/  915]\n",
      "Epoch 6\n",
      "-------------------------------\n",
      "Batch: 0, Loss: 0.7887514 [    0/  915]\n",
      "Batch: 2, Loss: 0.9369359 [  256/  915]\n",
      "Batch: 4, Loss: 0.8581365 [  512/  915]\n",
      "Batch: 6, Loss: 0.9735842 [  768/  915]\n",
      "Epoch 7\n",
      "-------------------------------\n",
      "Batch: 0, Loss: 0.5542206 [    0/  915]\n",
      "Batch: 2, Loss: 0.6904058 [  256/  915]\n",
      "Batch: 4, Loss: 0.7014448 [  512/  915]\n",
      "Batch: 6, Loss: 0.6796606 [  768/  915]\n",
      "Epoch 8\n",
      "-------------------------------\n",
      "Batch: 0, Loss: 0.5708682 [    0/  915]\n",
      "Batch: 2, Loss: 0.6413019 [  256/  915]\n",
      "Batch: 4, Loss: 0.6106437 [  512/  915]\n",
      "Batch: 6, Loss: 0.6363508 [  768/  915]\n",
      "Epoch 9\n",
      "-------------------------------\n",
      "Batch: 0, Loss: 0.7806832 [    0/  915]\n",
      "Batch: 2, Loss: 0.7362702 [  256/  915]\n",
      "Batch: 4, Loss: 0.6952697 [  512/  915]\n",
      "Batch: 6, Loss: 0.6351118 [  768/  915]\n",
      "Epoch 10\n",
      "-------------------------------\n",
      "Batch: 0, Loss: 0.8293924 [    0/  915]\n",
      "Batch: 2, Loss: 1.1095082 [  256/  915]\n",
      "Batch: 4, Loss: 0.8450079 [  512/  915]\n",
      "Batch: 6, Loss: 0.7608651 [  768/  915]\n",
      "Epoch 11\n",
      "-------------------------------\n",
      "Batch: 0, Loss: 0.4566222 [    0/  915]\n",
      "Batch: 2, Loss: 0.4845350 [  256/  915]\n",
      "Batch: 4, Loss: 0.4586454 [  512/  915]\n",
      "Batch: 6, Loss: 0.4610166 [  768/  915]\n",
      "Epoch 12\n",
      "-------------------------------\n",
      "Batch: 0, Loss: 0.4399298 [    0/  915]\n",
      "Batch: 2, Loss: 0.5401091 [  256/  915]\n",
      "Batch: 4, Loss: 0.4872676 [  512/  915]\n",
      "Batch: 6, Loss: 0.4455597 [  768/  915]\n",
      "Epoch 13\n",
      "-------------------------------\n",
      "Batch: 0, Loss: 0.4334761 [    0/  915]\n",
      "Batch: 2, Loss: 0.3849315 [  256/  915]\n",
      "Batch: 4, Loss: 0.4426395 [  512/  915]\n",
      "Batch: 6, Loss: 0.4322244 [  768/  915]\n",
      "Epoch 14\n",
      "-------------------------------\n",
      "Batch: 0, Loss: 0.5308008 [    0/  915]\n",
      "Batch: 2, Loss: 0.4220990 [  256/  915]\n",
      "Batch: 4, Loss: 0.4310161 [  512/  915]\n",
      "Batch: 6, Loss: 0.4217474 [  768/  915]\n",
      "Epoch 15\n",
      "-------------------------------\n",
      "Batch: 0, Loss: 0.5879763 [    0/  915]\n",
      "Batch: 2, Loss: 0.4468166 [  256/  915]\n",
      "Batch: 4, Loss: 0.4233521 [  512/  915]\n",
      "Batch: 6, Loss: 0.3905281 [  768/  915]\n",
      "Epoch 16\n",
      "-------------------------------\n",
      "Batch: 0, Loss: 0.2919472 [    0/  915]\n",
      "Batch: 2, Loss: 0.3127327 [  256/  915]\n",
      "Batch: 4, Loss: 0.4715610 [  512/  915]\n",
      "Batch: 6, Loss: 0.4493401 [  768/  915]\n",
      "Epoch 17\n",
      "-------------------------------\n",
      "Batch: 0, Loss: 0.5592642 [    0/  915]\n",
      "Batch: 2, Loss: 0.4111074 [  256/  915]\n",
      "Batch: 4, Loss: 0.4650285 [  512/  915]\n",
      "Batch: 6, Loss: 0.4302701 [  768/  915]\n",
      "Epoch 18\n",
      "-------------------------------\n",
      "Batch: 0, Loss: 0.4550110 [    0/  915]\n",
      "Batch: 2, Loss: 0.3839932 [  256/  915]\n",
      "Batch: 4, Loss: 0.3264835 [  512/  915]\n",
      "Batch: 6, Loss: 0.3344494 [  768/  915]\n",
      "Epoch 19\n",
      "-------------------------------\n",
      "Batch: 0, Loss: 0.3079665 [    0/  915]\n",
      "Batch: 2, Loss: 0.2387918 [  256/  915]\n",
      "Batch: 4, Loss: 0.2680269 [  512/  915]\n",
      "Batch: 6, Loss: 0.3004988 [  768/  915]\n",
      "Epoch 20\n",
      "-------------------------------\n",
      "Batch: 0, Loss: 0.3185319 [    0/  915]\n",
      "Batch: 2, Loss: 0.2991430 [  256/  915]\n",
      "Batch: 4, Loss: 0.3389197 [  512/  915]\n",
      "Batch: 6, Loss: 0.3506975 [  768/  915]\n",
      "Epoch 21\n",
      "-------------------------------\n",
      "Batch: 0, Loss: 0.2997530 [    0/  915]\n",
      "Batch: 2, Loss: 0.2821801 [  256/  915]\n",
      "Batch: 4, Loss: 0.3457249 [  512/  915]\n",
      "Batch: 6, Loss: 0.3522828 [  768/  915]\n",
      "Epoch 22\n",
      "-------------------------------\n",
      "Batch: 0, Loss: 0.2990067 [    0/  915]\n",
      "Batch: 2, Loss: 0.3386374 [  256/  915]\n",
      "Batch: 4, Loss: 0.2935812 [  512/  915]\n",
      "Batch: 6, Loss: 0.3037668 [  768/  915]\n",
      "Epoch 23\n",
      "-------------------------------\n",
      "Batch: 0, Loss: 0.2885974 [    0/  915]\n",
      "Batch: 2, Loss: 0.3114774 [  256/  915]\n",
      "Batch: 4, Loss: 0.3040459 [  512/  915]\n",
      "Batch: 6, Loss: 0.3229996 [  768/  915]\n",
      "Epoch 24\n",
      "-------------------------------\n",
      "Batch: 0, Loss: 0.2058823 [    0/  915]\n",
      "Batch: 2, Loss: 0.2476546 [  256/  915]\n",
      "Batch: 4, Loss: 0.2533259 [  512/  915]\n",
      "Batch: 6, Loss: 0.2713124 [  768/  915]\n",
      "Epoch 25\n",
      "-------------------------------\n",
      "Batch: 0, Loss: 0.2781805 [    0/  915]\n",
      "Batch: 2, Loss: 0.3219722 [  256/  915]\n",
      "Batch: 4, Loss: 0.3570301 [  512/  915]\n",
      "Batch: 6, Loss: 0.4208343 [  768/  915]\n",
      "Epoch 26\n",
      "-------------------------------\n",
      "Batch: 0, Loss: 0.3205623 [    0/  915]\n",
      "Batch: 2, Loss: 0.3419158 [  256/  915]\n",
      "Batch: 4, Loss: 0.3711955 [  512/  915]\n",
      "Batch: 6, Loss: 0.3427036 [  768/  915]\n",
      "Epoch 27\n",
      "-------------------------------\n",
      "Batch: 0, Loss: 0.1737463 [    0/  915]\n",
      "Batch: 2, Loss: 0.1959614 [  256/  915]\n",
      "Batch: 4, Loss: 0.1864783 [  512/  915]\n",
      "Batch: 6, Loss: 0.2099253 [  768/  915]\n",
      "Epoch 28\n",
      "-------------------------------\n",
      "Batch: 0, Loss: 0.3803089 [    0/  915]\n",
      "Batch: 2, Loss: 0.2543282 [  256/  915]\n",
      "Batch: 4, Loss: 0.4160677 [  512/  915]\n",
      "Batch: 6, Loss: 0.3813129 [  768/  915]\n",
      "Epoch 29\n",
      "-------------------------------\n",
      "Batch: 0, Loss: 0.5820813 [    0/  915]\n",
      "Batch: 2, Loss: 0.4085669 [  256/  915]\n",
      "Batch: 4, Loss: 0.4282703 [  512/  915]\n",
      "Batch: 6, Loss: 0.3821608 [  768/  915]\n",
      "Epoch 30\n",
      "-------------------------------\n",
      "Batch: 0, Loss: 2.0720448 [    0/  915]\n",
      "Batch: 2, Loss: 1.1479063 [  256/  915]\n",
      "Batch: 4, Loss: 1.0114005 [  512/  915]\n",
      "Batch: 6, Loss: 1.0310228 [  768/  915]\n",
      "Epoch 31\n",
      "-------------------------------\n",
      "Batch: 0, Loss: 0.2605884 [    0/  915]\n",
      "Batch: 2, Loss: 0.4610325 [  256/  915]\n",
      "Batch: 4, Loss: 0.3671407 [  512/  915]\n",
      "Batch: 6, Loss: 0.4017691 [  768/  915]\n",
      "Epoch 32\n",
      "-------------------------------\n",
      "Batch: 0, Loss: 0.3424357 [    0/  915]\n",
      "Batch: 2, Loss: 0.3157050 [  256/  915]\n",
      "Batch: 4, Loss: 0.4231660 [  512/  915]\n",
      "Batch: 6, Loss: 0.3768451 [  768/  915]\n",
      "Epoch 33\n",
      "-------------------------------\n",
      "Batch: 0, Loss: 0.5651388 [    0/  915]\n",
      "Batch: 2, Loss: 0.4201855 [  256/  915]\n",
      "Batch: 4, Loss: 0.4069619 [  512/  915]\n",
      "Batch: 6, Loss: 0.4435336 [  768/  915]\n",
      "Epoch 34\n",
      "-------------------------------\n",
      "Batch: 0, Loss: 0.2606170 [    0/  915]\n",
      "Batch: 2, Loss: 0.3352176 [  256/  915]\n",
      "Batch: 4, Loss: 0.3055353 [  512/  915]\n",
      "Batch: 6, Loss: 0.3397135 [  768/  915]\n",
      "Epoch 35\n",
      "-------------------------------\n",
      "Batch: 0, Loss: 0.2404130 [    0/  915]\n",
      "Batch: 2, Loss: 0.3535566 [  256/  915]\n",
      "Batch: 4, Loss: 0.4147987 [  512/  915]\n",
      "Batch: 6, Loss: 0.3785720 [  768/  915]\n",
      "Epoch 36\n",
      "-------------------------------\n",
      "Batch: 0, Loss: 0.1904894 [    0/  915]\n",
      "Batch: 2, Loss: 0.1594554 [  256/  915]\n",
      "Batch: 4, Loss: 0.2038919 [  512/  915]\n",
      "Batch: 6, Loss: 0.2174992 [  768/  915]\n",
      "Epoch 37\n",
      "-------------------------------\n",
      "Batch: 0, Loss: 0.1517105 [    0/  915]\n",
      "Batch: 2, Loss: 0.1902652 [  256/  915]\n",
      "Batch: 4, Loss: 0.1971967 [  512/  915]\n",
      "Batch: 6, Loss: 0.1880978 [  768/  915]\n",
      "Epoch 38\n",
      "-------------------------------\n",
      "Batch: 0, Loss: 0.1814712 [    0/  915]\n",
      "Batch: 2, Loss: 0.2715508 [  256/  915]\n",
      "Batch: 4, Loss: 0.2532443 [  512/  915]\n",
      "Batch: 6, Loss: 0.2379853 [  768/  915]\n",
      "Epoch 39\n",
      "-------------------------------\n",
      "Batch: 0, Loss: 0.1831129 [    0/  915]\n",
      "Batch: 2, Loss: 0.1917699 [  256/  915]\n",
      "Batch: 4, Loss: 0.2202364 [  512/  915]\n",
      "Batch: 6, Loss: 0.1998120 [  768/  915]\n",
      "Epoch 40\n",
      "-------------------------------\n",
      "Batch: 0, Loss: 0.1470730 [    0/  915]\n",
      "Batch: 2, Loss: 0.2269970 [  256/  915]\n",
      "Batch: 4, Loss: 0.2071565 [  512/  915]\n",
      "Batch: 6, Loss: 0.2080726 [  768/  915]\n",
      "Epoch 41\n",
      "-------------------------------\n",
      "Batch: 0, Loss: 0.6536582 [    0/  915]\n",
      "Batch: 2, Loss: 0.4586917 [  256/  915]\n",
      "Batch: 4, Loss: 0.3469902 [  512/  915]\n",
      "Batch: 6, Loss: 0.3026311 [  768/  915]\n",
      "Epoch 42\n",
      "-------------------------------\n",
      "Batch: 0, Loss: 0.2706600 [    0/  915]\n",
      "Batch: 2, Loss: 0.2170043 [  256/  915]\n",
      "Batch: 4, Loss: 0.2003138 [  512/  915]\n",
      "Batch: 6, Loss: 0.1920626 [  768/  915]\n",
      "Epoch 43\n",
      "-------------------------------\n",
      "Batch: 0, Loss: 0.2878663 [    0/  915]\n",
      "Batch: 2, Loss: 0.2438093 [  256/  915]\n",
      "Batch: 4, Loss: 0.2194515 [  512/  915]\n",
      "Batch: 6, Loss: 0.2011048 [  768/  915]\n",
      "Epoch 44\n",
      "-------------------------------\n",
      "Batch: 0, Loss: 0.2023734 [    0/  915]\n",
      "Batch: 2, Loss: 0.2444380 [  256/  915]\n",
      "Batch: 4, Loss: 0.2616370 [  512/  915]\n",
      "Batch: 6, Loss: 0.2516129 [  768/  915]\n",
      "Epoch 45\n",
      "-------------------------------\n",
      "Batch: 0, Loss: 0.1334265 [    0/  915]\n",
      "Batch: 2, Loss: 0.1338860 [  256/  915]\n",
      "Batch: 4, Loss: 0.1751093 [  512/  915]\n",
      "Batch: 6, Loss: 0.1708678 [  768/  915]\n",
      "Epoch 46\n",
      "-------------------------------\n",
      "Batch: 0, Loss: 0.1310369 [    0/  915]\n",
      "Batch: 2, Loss: 0.1462343 [  256/  915]\n",
      "Batch: 4, Loss: 0.1847027 [  512/  915]\n",
      "Batch: 6, Loss: 0.1771931 [  768/  915]\n",
      "Epoch 47\n",
      "-------------------------------\n",
      "Batch: 0, Loss: 0.5470539 [    0/  915]\n",
      "Batch: 2, Loss: 0.6209050 [  256/  915]\n",
      "Batch: 4, Loss: 0.4711727 [  512/  915]\n",
      "Batch: 6, Loss: 0.4785673 [  768/  915]\n",
      "Epoch 48\n",
      "-------------------------------\n",
      "Batch: 0, Loss: 0.2036166 [    0/  915]\n",
      "Batch: 2, Loss: 0.4546287 [  256/  915]\n",
      "Batch: 4, Loss: 0.3925189 [  512/  915]\n",
      "Batch: 6, Loss: 0.4046231 [  768/  915]\n",
      "Epoch 49\n",
      "-------------------------------\n",
      "Batch: 0, Loss: 0.2389302 [    0/  915]\n",
      "Batch: 2, Loss: 0.2414510 [  256/  915]\n",
      "Batch: 4, Loss: 0.2376108 [  512/  915]\n",
      "Batch: 6, Loss: 0.2175662 [  768/  915]\n",
      "Epoch 50\n",
      "-------------------------------\n",
      "Batch: 0, Loss: 0.1357780 [    0/  915]\n",
      "Batch: 2, Loss: 0.2313505 [  256/  915]\n",
      "Batch: 4, Loss: 0.2331609 [  512/  915]\n",
      "Batch: 6, Loss: 0.2438608 [  768/  915]\n",
      "Epoch 51\n",
      "-------------------------------\n",
      "Batch: 0, Loss: 0.2880566 [    0/  915]\n",
      "Batch: 2, Loss: 0.3178963 [  256/  915]\n",
      "Batch: 4, Loss: 0.3230450 [  512/  915]\n",
      "Batch: 6, Loss: 0.4425869 [  768/  915]\n",
      "Epoch 52\n",
      "-------------------------------\n",
      "Batch: 0, Loss: 0.3152169 [    0/  915]\n",
      "Batch: 2, Loss: 0.3765289 [  256/  915]\n",
      "Batch: 4, Loss: 0.4344220 [  512/  915]\n",
      "Batch: 6, Loss: 0.4404638 [  768/  915]\n",
      "Epoch 53\n",
      "-------------------------------\n",
      "Batch: 0, Loss: 0.2709450 [    0/  915]\n",
      "Batch: 2, Loss: 0.2462054 [  256/  915]\n",
      "Batch: 4, Loss: 0.3082700 [  512/  915]\n",
      "Batch: 6, Loss: 0.2712059 [  768/  915]\n",
      "Epoch 54\n",
      "-------------------------------\n",
      "Batch: 0, Loss: 0.1498276 [    0/  915]\n",
      "Batch: 2, Loss: 0.2325499 [  256/  915]\n",
      "Batch: 4, Loss: 0.2107756 [  512/  915]\n",
      "Batch: 6, Loss: 0.1878909 [  768/  915]\n",
      "Epoch 55\n",
      "-------------------------------\n",
      "Batch: 0, Loss: 0.2674805 [    0/  915]\n",
      "Batch: 2, Loss: 0.2076805 [  256/  915]\n",
      "Batch: 4, Loss: 0.2088334 [  512/  915]\n",
      "Batch: 6, Loss: 0.1931172 [  768/  915]\n",
      "Epoch 56\n",
      "-------------------------------\n",
      "Batch: 0, Loss: 0.2173327 [    0/  915]\n",
      "Batch: 2, Loss: 0.1759630 [  256/  915]\n",
      "Batch: 4, Loss: 0.2083025 [  512/  915]\n",
      "Batch: 6, Loss: 0.1854638 [  768/  915]\n",
      "Epoch 57\n",
      "-------------------------------\n",
      "Batch: 0, Loss: 0.1610621 [    0/  915]\n",
      "Batch: 2, Loss: 0.2307129 [  256/  915]\n",
      "Batch: 4, Loss: 0.2116183 [  512/  915]\n",
      "Batch: 6, Loss: 0.2225067 [  768/  915]\n",
      "Epoch 58\n",
      "-------------------------------\n",
      "Batch: 0, Loss: 0.1591036 [    0/  915]\n",
      "Batch: 2, Loss: 0.2105070 [  256/  915]\n",
      "Batch: 4, Loss: 0.2124204 [  512/  915]\n",
      "Batch: 6, Loss: 0.2080109 [  768/  915]\n",
      "Epoch 59\n",
      "-------------------------------\n",
      "Batch: 0, Loss: 0.1761540 [    0/  915]\n",
      "Batch: 2, Loss: 0.2085132 [  256/  915]\n",
      "Batch: 4, Loss: 0.2118075 [  512/  915]\n",
      "Batch: 6, Loss: 0.2079231 [  768/  915]\n",
      "Epoch 60\n",
      "-------------------------------\n",
      "Batch: 0, Loss: 0.2648725 [    0/  915]\n",
      "Batch: 2, Loss: 0.2444008 [  256/  915]\n",
      "Batch: 4, Loss: 0.2359152 [  512/  915]\n",
      "Batch: 6, Loss: 0.2174184 [  768/  915]\n",
      "Done!\n"
     ]
    }
   ],
   "source": [
    "epochs = 60\n",
    "for t in range(epochs):\n",
    "  print(f\"Epoch {t+1}\\n-------------------------------\")\n",
    "  model = ccmlp.train(train_loader, model, loss_function, optimizer)\n",
    "print(\"Done!\")"
   ]
  },
  {
   "cell_type": "markdown",
   "metadata": {
    "id": "6st4xUJlmJVa"
   },
   "source": [
    "## Evaluate model\n",
    "- calculate R2 for training and test data\n",
    "- use the model to serve predictions"
   ]
  },
  {
   "cell_type": "code",
   "execution_count": 11,
   "metadata": {
    "colab": {
     "base_uri": "https://localhost:8080/",
     "height": 484
    },
    "id": "u9ayKlCorTVH",
    "outputId": "1f5c7d3e-7e03-47a0-8b5b-b5dc21eb7533"
   },
   "outputs": [
    {
     "name": "stdout",
     "output_type": "stream",
     "text": [
      "Train R2 Score: 0.9722880361269082\n",
      "Test R2 Score: 0.897453689079754\n"
     ]
    },
    {
     "data": {
      "image/png": "[encoded data removed]",
      "text/plain": [
       "<Figure size 640x480 with 1 Axes>"
      ]
     },
     "metadata": {},
     "output_type": "display_data"
    }
   ],
   "source": [
    "r2_train, r2_test = ccmlp.evaluate_training(X_train, y_train, X_test, y_test, model)"
   ]
  },
  {
   "cell_type": "code",
   "execution_count": 12,
   "metadata": {
    "colab": {
     "base_uri": "https://localhost:8080/"
    },
    "id": "LhSpfuFoThgV",
    "outputId": "5b3a88dd-1469-4af7-f2e2-6b9684225c7b"
   },
   "outputs": [
    {
     "name": "stdout",
     "output_type": "stream",
     "text": [
      "Predicting value for ClC(Cl)(Cl)N(=O)=O\n",
      "Prediction: -2.0996994972229004, Truth: -2.0\n"
     ]
    }
   ],
   "source": [
    "which = 500\n",
    "prediction = ccmlp.predict_single_value(smiles[which], model, \"rdkit\", scaler, truth=y[which])"
   ]
  },
  {
   "cell_type": "markdown",
   "metadata": {
    "id": "J35G_qU72fFc"
   },
   "source": [
    "## Save the model"
   ]
  },
  {
   "cell_type": "code",
   "execution_count": 13,
   "metadata": {
    "id": "JQZJiua3HkvK"
   },
   "outputs": [],
   "source": [
    "torch.save(model.state_dict(), \"saved_model.pt\")"
   ]
  },
  {
   "cell_type": "markdown",
   "metadata": {
    "id": "P0ZZ1qre2hFw"
   },
   "source": [
    "## Load a saved model\n",
    "- needs two files from the previous model:\n",
    "  * the MLP_model_params.txt file\n",
    "  * the saved_model.pt file\n",
    "- Both should be in the current folder [(\"/content\") on Colab]"
   ]
  },
  {
   "cell_type": "code",
   "execution_count": 17,
   "metadata": {
    "id": "mV1fihvDuGaL"
   },
   "outputs": [],
   "source": [
    "new_model = ccmlp.load_model()"
   ]
  },
  {
   "cell_type": "code",
   "execution_count": 18,
   "metadata": {
    "colab": {
     "base_uri": "https://localhost:8080/"
    },
    "id": "hlaNgrNDtg1h",
    "outputId": "78fca327-41fc-4be7-dd9e-d7b815bd4d4c"
   },
   "outputs": [
    {
     "name": "stdout",
     "output_type": "stream",
     "text": [
      "Predicting value for ClC(Cl)(Cl)N(=O)=O\n",
      "Prediction: -2.0996994972229004, Truth: -2.0\n"
     ]
    }
   ],
   "source": [
    "prediction = ccmlp.predict_single_value(smiles[which], new_model, \"rdkit\", scaler, truth=y[which])"
   ]
  },
  {
   "cell_type": "code",
   "execution_count": null,
   "metadata": {
    "id": "IO9oWQnD0TKC"
   },
   "outputs": [],
   "source": []
  }
 ],
 "metadata": {
  "colab": {
   "provenance": []
  },
  "kernelspec": {
   "display_name": "Python 3",
   "language": "python",
   "name": "python3"
  },
  "language_info": {
   "codemirror_mode": {
    "name": "ipython",
    "version": 3
   },
   "file_extension": ".py",
   "mimetype": "text/x-python",
   "name": "python",
   "nbconvert_exporter": "python",
   "pygments_lexer": "ipython3",
   "version": "3.8.8"
  }
 },
 "nbformat": 4,
 "nbformat_minor": 1
}
