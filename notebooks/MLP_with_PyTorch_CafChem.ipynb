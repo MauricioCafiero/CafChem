{
 "cells": [
  {
   "cell_type": "markdown",
   "metadata": {
    "id": "a7ok80dPklu8"
   },
   "source": [
    "#CafChem tools for creating a Multi-Layer Perceptron with Pytorch and fitting to chemical data.\n",
    "\n",
    "[![Open In Colab](https://colab.research.google.com/assets/colab-badge.svg)](https://colab.research.google.com/github/MauricioCafiero/CafChem/blob/main/notebooks/MLP_with_PyTorch_CafChem.ipynb)\n",
    "\n",
    "## This notebook allows you to:\n",
    "- Read in a CSV file.\n",
    "- featurize data, remove NaNs, perform scaling. Split data into training and validation sets.\n",
    "- Create an MLP with a user defined number of hidden layers.\n",
    "- visualize predicted data.\n",
    "\n",
    "## Requirements:\n",
    "- This notebook will install deepchem and mordred\n",
    "- It will pull the CafChem tools from Github.\n",
    "- It will install all needed libraries."
   ]
  },
  {
   "cell_type": "markdown",
   "metadata": {
    "id": "eDYzKIJPlbLv"
   },
   "source": [
    "## Set-up"
   ]
  },
  {
   "cell_type": "markdown",
   "metadata": {
    "id": "LQNorGYSlX1K"
   },
   "source": [
    "### Install libraries"
   ]
  },
  {
   "cell_type": "code",
   "execution_count": 1,
   "metadata": {
    "colab": {
     "base_uri": "https://localhost:8080/",
     "height": 1000
    },
    "id": "nOM_Nd2RjCk5",
    "outputId": "4ad3875f-254c-446b-f8e3-f6e61007c552"
   },
   "outputs": [
    {
     "name": "stdout",
     "output_type": "stream",
     "text": [
      "Collecting deepchem\n",
      "  Downloading deepchem-2.5.0-py3-none-any.whl.metadata (1.1 kB)\n",
      "Requirement already satisfied: joblib in /usr/local/lib/python3.12/dist-packages (from deepchem) (1.5.1)\n",
      "Requirement already satisfied: numpy in /usr/local/lib/python3.12/dist-packages (from deepchem) (2.0.2)\n",
      "Requirement already satisfied: pandas in /usr/local/lib/python3.12/dist-packages (from deepchem) (2.2.2)\n",
      "Requirement already satisfied: scikit-learn in /usr/local/lib/python3.12/dist-packages (from deepchem) (1.6.1)\n",
      "Requirement already satisfied: scipy in /usr/local/lib/python3.12/dist-packages (from deepchem) (1.16.1)\n",
      "Requirement already satisfied: python-dateutil>=2.8.2 in /usr/local/lib/python3.12/dist-packages (from pandas->deepchem) (2.9.0.post0)\n",
      "Requirement already satisfied: pytz>=2020.1 in /usr/local/lib/python3.12/dist-packages (from pandas->deepchem) (2025.2)\n",
      "Requirement already satisfied: tzdata>=2022.7 in /usr/local/lib/python3.12/dist-packages (from pandas->deepchem) (2025.2)\n",
      "Requirement already satisfied: threadpoolctl>=3.1.0 in /usr/local/lib/python3.12/dist-packages (from scikit-learn->deepchem) (3.6.0)\n",
      "Requirement already satisfied: six>=1.5 in /usr/local/lib/python3.12/dist-packages (from python-dateutil>=2.8.2->pandas->deepchem) (1.17.0)\n",
      "Downloading deepchem-2.5.0-py3-none-any.whl (552 kB)\n",
      "\u001b[?25l   \u001b[90m━━━━━━━━━━━━━━━━━━━━━━━━━━━━━━━━━━━━━━━━\u001b[0m \u001b[32m0.0/552.4 kB\u001b[0m \u001b[31m?\u001b[0m eta \u001b[36m-:--:--\u001b[0m\r",
      "\u001b[2K   \u001b[90m━━━━━━━━━━━━━━━━━━━━━━━━━━━━━━━━━━━━━━━━\u001b[0m \u001b[32m552.4/552.4 kB\u001b[0m \u001b[31m21.0 MB/s\u001b[0m eta \u001b[36m0:00:00\u001b[0m\n",
      "\u001b[?25hInstalling collected packages: deepchem\n",
      "Successfully installed deepchem-2.5.0\n",
      "Collecting mordred\n",
      "  Downloading mordred-1.2.0.tar.gz (128 kB)\n",
      "\u001b[2K     \u001b[90m━━━━━━━━━━━━━━━━━━━━━━━━━━━━━━━━━━━━━━━\u001b[0m \u001b[32m128.8/128.8 kB\u001b[0m \u001b[31m8.6 MB/s\u001b[0m eta \u001b[36m0:00:00\u001b[0m\n",
      "\u001b[?25h  Preparing metadata (setup.py) ... \u001b[?25l\u001b[?25hdone\n",
      "Requirement already satisfied: six==1.* in /usr/local/lib/python3.12/dist-packages (from mordred) (1.17.0)\n",
      "Collecting numpy==1.* (from mordred)\n",
      "  Downloading numpy-1.26.4-cp312-cp312-manylinux_2_17_x86_64.manylinux2014_x86_64.whl.metadata (61 kB)\n",
      "\u001b[2K     \u001b[90m━━━━━━━━━━━━━━━━━━━━━━━━━━━━━━━━━━━━━━━━\u001b[0m \u001b[32m61.0/61.0 kB\u001b[0m \u001b[31m4.3 MB/s\u001b[0m eta \u001b[36m0:00:00\u001b[0m\n",
      "\u001b[?25hCollecting networkx==2.* (from mordred)\n",
      "  Downloading networkx-2.8.8-py3-none-any.whl.metadata (5.1 kB)\n",
      "Downloading networkx-2.8.8-py3-none-any.whl (2.0 MB)\n",
      "\u001b[2K   \u001b[90m━━━━━━━━━━━━━━━━━━━━━━━━━━━━━━━━━━━━━━━━\u001b[0m \u001b[32m2.0/2.0 MB\u001b[0m \u001b[31m72.4 MB/s\u001b[0m eta \u001b[36m0:00:00\u001b[0m\n",
      "\u001b[?25hDownloading numpy-1.26.4-cp312-cp312-manylinux_2_17_x86_64.manylinux2014_x86_64.whl (18.0 MB)\n",
      "\u001b[2K   \u001b[90m━━━━━━━━━━━━━━━━━━━━━━━━━━━━━━━━━━━━━━━━\u001b[0m \u001b[32m18.0/18.0 MB\u001b[0m \u001b[31m92.1 MB/s\u001b[0m eta \u001b[36m0:00:00\u001b[0m\n",
      "\u001b[?25hBuilding wheels for collected packages: mordred\n",
      "  Building wheel for mordred (setup.py) ... \u001b[?25l\u001b[?25hdone\n",
      "  Created wheel for mordred: filename=mordred-1.2.0-py3-none-any.whl size=176718 sha256=1db669b68f1f752d0841f876b900a82f3dd8fff62719f5041449e6becdd4f335\n",
      "  Stored in directory: /root/.cache/pip/wheels/e8/79/b8/f4f1dfbb736c2b8605cf5068cd633f4d2869defb89908aef93\n",
      "Successfully built mordred\n",
      "Installing collected packages: numpy, networkx, mordred\n",
      "  Attempting uninstall: numpy\n",
      "    Found existing installation: numpy 2.0.2\n",
      "    Uninstalling numpy-2.0.2:\n",
      "      Successfully uninstalled numpy-2.0.2\n",
      "  Attempting uninstall: networkx\n",
      "    Found existing installation: networkx 3.5\n",
      "    Uninstalling networkx-3.5:\n",
      "      Successfully uninstalled networkx-3.5\n",
      "\u001b[31mERROR: pip's dependency resolver does not currently take into account all the packages that are installed. This behaviour is the source of the following dependency conflicts.\n",
      "opencv-python 4.12.0.88 requires numpy<2.3.0,>=2; python_version >= \"3.9\", but you have numpy 1.26.4 which is incompatible.\n",
      "opencv-contrib-python 4.12.0.88 requires numpy<2.3.0,>=2; python_version >= \"3.9\", but you have numpy 1.26.4 which is incompatible.\n",
      "opencv-python-headless 4.12.0.88 requires numpy<2.3.0,>=2; python_version >= \"3.9\", but you have numpy 1.26.4 which is incompatible.\n",
      "scikit-image 0.25.2 requires networkx>=3.0, but you have networkx 2.8.8 which is incompatible.\n",
      "nx-cugraph-cu12 25.6.0 requires networkx>=3.2, but you have networkx 2.8.8 which is incompatible.\n",
      "thinc 8.3.6 requires numpy<3.0.0,>=2.0.0, but you have numpy 1.26.4 which is incompatible.\u001b[0m\u001b[31m\n",
      "\u001b[0mSuccessfully installed mordred-1.2.0 networkx-2.8.8 numpy-1.26.4\n"
     ]
    },
    {
     "data": {
      "application/vnd.colab-display-data+json": {
       "id": "41f3d1565d574ac981c5932af6b54465",
       "pip_warning": {
        "packages": [
         "numpy"
        ]
       }
      }
     },
     "metadata": {},
     "output_type": "display_data"
    }
   ],
   "source": [
    "!pip install deepchem\n",
    "!pip install mordred"
   ]
  },
  {
   "cell_type": "markdown",
   "metadata": {
    "id": "b4sKIeoplfH3"
   },
   "source": [
    "### Pull CafChem from Github and import libraries"
   ]
  },
  {
   "cell_type": "code",
   "execution_count": 5,
   "metadata": {
    "colab": {
     "base_uri": "https://localhost:8080/"
    },
    "id": "dqtOX_vUFya0",
    "outputId": "6a04995d-d46a-40bf-d9c3-4144e9acdd14"
   },
   "outputs": [
    {
     "name": "stdout",
     "output_type": "stream",
     "text": [
      "Collecting rdkit\n",
      "  Downloading rdkit-2025.3.5-cp312-cp312-manylinux_2_28_x86_64.whl.metadata (4.1 kB)\n",
      "Requirement already satisfied: numpy in /usr/local/lib/python3.12/dist-packages (from rdkit) (1.26.4)\n",
      "Requirement already satisfied: Pillow in /usr/local/lib/python3.12/dist-packages (from rdkit) (11.3.0)\n",
      "Downloading rdkit-2025.3.5-cp312-cp312-manylinux_2_28_x86_64.whl (36.2 MB)\n",
      "\u001b[2K   \u001b[90m━━━━━━━━━━━━━━━━━━━━━━━━━━━━━━━━━━━━━━━━\u001b[0m \u001b[32m36.2/36.2 MB\u001b[0m \u001b[31m48.7 MB/s\u001b[0m eta \u001b[36m0:00:00\u001b[0m\n",
      "\u001b[?25hInstalling collected packages: rdkit\n",
      "Successfully installed rdkit-2025.3.5\n"
     ]
    }
   ],
   "source": [
    "!pip install rdkit"
   ]
  },
  {
   "cell_type": "code",
   "execution_count": 71,
   "metadata": {
    "colab": {
     "base_uri": "https://localhost:8080/"
    },
    "id": "zc9xjcF9isvx",
    "outputId": "29770103-09e9-4eae-9c22-59acead5375a"
   },
   "outputs": [
    {
     "name": "stdout",
     "output_type": "stream",
     "text": [
      "Cloning into 'CafChem'...\n",
      "remote: Enumerating objects: 814, done.\u001b[K\n",
      "remote: Counting objects: 100% (243/243), done.\u001b[K\n",
      "remote: Compressing objects: 100% (189/189), done.\u001b[K\n",
      "remote: Total 814 (delta 180), reused 54 (delta 54), pack-reused 571 (from 2)\u001b[K\n",
      "Receiving objects: 100% (814/814), 43.03 MiB | 28.22 MiB/s, done.\n",
      "Resolving deltas: 100% (468/468), done.\n"
     ]
    }
   ],
   "source": [
    "!git clone https://github.com/MauricioCafiero/CafChem.git"
   ]
  },
  {
   "cell_type": "code",
   "execution_count": 2,
   "metadata": {
    "colab": {
     "base_uri": "https://localhost:8080/"
    },
    "id": "8OjsJgbtgnNh",
    "outputId": "6bb94e71-548e-4d9c-d603-e0aeb2f9bb3e"
   },
   "outputs": [
    {
     "name": "stderr",
     "output_type": "stream",
     "text": [
      "\u001b[34m\u001b[1mwandb\u001b[0m: \u001b[33mWARNING\u001b[0m W&B installed but not logged in.  Run `wandb login` or set the WANDB_API_KEY env variable.\n",
      "WARNING:tensorflow:From /usr/local/lib/python3.12/dist-packages/tensorflow/python/util/deprecation.py:588: calling function (from tensorflow.python.eager.polymorphic_function.polymorphic_function) with experimental_relax_shapes is deprecated and will be removed in a future version.\n",
      "Instructions for updating:\n",
      "experimental_relax_shapes is deprecated, use reduce_retracing instead\n",
      "\u001b[34m\u001b[1mwandb\u001b[0m: \u001b[33mWARNING\u001b[0m W&B installed but not logged in.  Run `wandb login` or set the WANDB_API_KEY env variable.\n"
     ]
    }
   ],
   "source": [
    "import numpy as np\n",
    "import pandas as pd\n",
    "import time\n",
    "import torch\n",
    "import torch.nn as nn\n",
    "import torch.optim as optim\n",
    "from torchsummary import summary\n",
    "\n",
    "import CafChem.CafChemMLPPyTorch as ccmlp"
   ]
  },
  {
   "cell_type": "markdown",
   "metadata": {
    "id": "yA5GL1Rhlk__"
   },
   "source": [
    "## Read in data and featurize\n",
    "- Can choose RDKit descriptors, Mordred descriptors, or fingerprints"
   ]
  },
  {
   "cell_type": "code",
   "execution_count": 3,
   "metadata": {
    "colab": {
     "base_uri": "https://localhost:8080/",
     "height": 206
    },
    "id": "Y7UzwUAhjHQK",
    "outputId": "48975b87-c0ce-449d-9b27-dfed95e0e01a"
   },
   "outputs": [
    {
     "data": {
      "application/vnd.google.colaboratory.intrinsic+json": {
       "summary": "{\n  \"name\": \"df\",\n  \"rows\": 905,\n  \"fields\": [\n    {\n      \"column\": \"Unnamed: 0\",\n      \"properties\": {\n        \"dtype\": \"number\",\n        \"std\": 422,\n        \"min\": 7,\n        \"max\": 1406,\n        \"num_unique_values\": 905,\n        \"samples\": [\n          128,\n          713,\n          324\n        ],\n        \"semantic_type\": \"\",\n        \"description\": \"\"\n      }\n    },\n    {\n      \"column\": \"Ligand SMILES\",\n      \"properties\": {\n        \"dtype\": \"string\",\n        \"num_unique_values\": 905,\n        \"samples\": [\n          \"CCC(C)(C)C(=O)O[C@H]1CC(C)(C)O[C@@H]2CC[C@H](C)[C@H](CC[C@@H]3C[C@@H](O)CC(=O)O3)C12\",\n          \"CC(C)=CCC\\\\C(C)=C\\\\CCC1=C[C@@H](OC1=O)c1cc(O)ccc1O\",\n          \"O[C@@H]1CC(CCc2c(Cl)cc(Cl)cc2Oc2ccccc2)OC(=O)C1\"\n        ],\n        \"semantic_type\": \"\",\n        \"description\": \"\"\n      }\n    },\n    {\n      \"column\": \"IC50 (nM)\",\n      \"properties\": {\n        \"dtype\": \"number\",\n        \"std\": 171051.13396676516,\n        \"min\": 0.106,\n        \"max\": 2488000.0,\n        \"num_unique_values\": 469,\n        \"samples\": [\n          79.0,\n          141.0,\n          44.0\n        ],\n        \"semantic_type\": \"\",\n        \"description\": \"\"\n      }\n    }\n  ]\n}",
       "type": "dataframe",
       "variable_name": "df"
      },
      "text/html": [
       "\n",
       "  <div id=\"df-9495ce8f-6fca-4298-87b9-1cb28d990f60\" class=\"colab-df-container\">\n",
       "    <div>\n",
       "<style scoped>\n",
       "    .dataframe tbody tr th:only-of-type {\n",
       "        vertical-align: middle;\n",
       "    }\n",
       "\n",
       "    .dataframe tbody tr th {\n",
       "        vertical-align: top;\n",
       "    }\n",
       "\n",
       "    .dataframe thead th {\n",
       "        text-align: right;\n",
       "    }\n",
       "</style>\n",
       "<table border=\"1\" class=\"dataframe\">\n",
       "  <thead>\n",
       "    <tr style=\"text-align: right;\">\n",
       "      <th></th>\n",
       "      <th>Unnamed: 0</th>\n",
       "      <th>Ligand SMILES</th>\n",
       "      <th>IC50 (nM)</th>\n",
       "    </tr>\n",
       "  </thead>\n",
       "  <tbody>\n",
       "    <tr>\n",
       "      <th>0</th>\n",
       "      <td>7</td>\n",
       "      <td>[Na+].CC(C)c1c(\\C=C\\[C@H](O)C[C@@H](O)CC([O-])...</td>\n",
       "      <td>0.106</td>\n",
       "    </tr>\n",
       "    <tr>\n",
       "      <th>1</th>\n",
       "      <td>8</td>\n",
       "      <td>CC(C)n1c(CC[C@@H](O)C[C@@H](O)CC([O-])=O)c(c(c...</td>\n",
       "      <td>0.200</td>\n",
       "    </tr>\n",
       "    <tr>\n",
       "      <th>2</th>\n",
       "      <td>10</td>\n",
       "      <td>CC(C)n1c(CC[C@@H](O)C[C@@H](O)CC([O-])=O)c(c(c...</td>\n",
       "      <td>0.300</td>\n",
       "    </tr>\n",
       "    <tr>\n",
       "      <th>3</th>\n",
       "      <td>11</td>\n",
       "      <td>CC(C)n1c(CC[C@@H](O)C[C@@H](O)CC([O-])=O)c(c2C...</td>\n",
       "      <td>0.300</td>\n",
       "    </tr>\n",
       "    <tr>\n",
       "      <th>4</th>\n",
       "      <td>12</td>\n",
       "      <td>COC(=O)C[C@H](O)C[C@H](O)\\C=C\\n1c(C(C)C)c(Br)c...</td>\n",
       "      <td>0.300</td>\n",
       "    </tr>\n",
       "  </tbody>\n",
       "</table>\n",
       "</div>\n",
       "    <div class=\"colab-df-buttons\">\n",
       "\n",
       "  <div class=\"colab-df-container\">\n",
       "    <button class=\"colab-df-convert\" onclick=\"convertToInteractive('df-9495ce8f-6fca-4298-87b9-1cb28d990f60')\"\n",
       "            title=\"Convert this dataframe to an interactive table.\"\n",
       "            style=\"display:none;\">\n",
       "\n",
       "  <svg xmlns=\"http://www.w3.org/2000/svg\" height=\"24px\" viewBox=\"0 -960 960 960\">\n",
       "    <path d=\"M120-120v-720h720v720H120Zm60-500h600v-160H180v160Zm220 220h160v-160H400v160Zm0 220h160v-160H400v160ZM180-400h160v-160H180v160Zm440 0h160v-160H620v160ZM180-180h160v-160H180v160Zm440 0h160v-160H620v160Z\"/>\n",
       "  </svg>\n",
       "    </button>\n",
       "\n",
       "  <style>\n",
       "    .colab-df-container {\n",
       "      display:flex;\n",
       "      gap: 12px;\n",
       "    }\n",
       "\n",
       "    .colab-df-convert {\n",
       "      background-color: #E8F0FE;\n",
       "      border: none;\n",
       "      border-radius: 50%;\n",
       "      cursor: pointer;\n",
       "      display: none;\n",
       "      fill: #1967D2;\n",
       "      height: 32px;\n",
       "      padding: 0 0 0 0;\n",
       "      width: 32px;\n",
       "    }\n",
       "\n",
       "    .colab-df-convert:hover {\n",
       "      background-color: #E2EBFA;\n",
       "      box-shadow: 0px 1px 2px rgba(60, 64, 67, 0.3), 0px 1px 3px 1px rgba(60, 64, 67, 0.15);\n",
       "      fill: #174EA6;\n",
       "    }\n",
       "\n",
       "    .colab-df-buttons div {\n",
       "      margin-bottom: 4px;\n",
       "    }\n",
       "\n",
       "    [theme=dark] .colab-df-convert {\n",
       "      background-color: #3B4455;\n",
       "      fill: #D2E3FC;\n",
       "    }\n",
       "\n",
       "    [theme=dark] .colab-df-convert:hover {\n",
       "      background-color: #434B5C;\n",
       "      box-shadow: 0px 1px 3px 1px rgba(0, 0, 0, 0.15);\n",
       "      filter: drop-shadow(0px 1px 2px rgba(0, 0, 0, 0.3));\n",
       "      fill: #FFFFFF;\n",
       "    }\n",
       "  </style>\n",
       "\n",
       "    <script>\n",
       "      const buttonEl =\n",
       "        document.querySelector('#df-9495ce8f-6fca-4298-87b9-1cb28d990f60 button.colab-df-convert');\n",
       "      buttonEl.style.display =\n",
       "        google.colab.kernel.accessAllowed ? 'block' : 'none';\n",
       "\n",
       "      async function convertToInteractive(key) {\n",
       "        const element = document.querySelector('#df-9495ce8f-6fca-4298-87b9-1cb28d990f60');\n",
       "        const dataTable =\n",
       "          await google.colab.kernel.invokeFunction('convertToInteractive',\n",
       "                                                    [key], {});\n",
       "        if (!dataTable) return;\n",
       "\n",
       "        const docLinkHtml = 'Like what you see? Visit the ' +\n",
       "          '<a target=\"_blank\" href=https://colab.research.google.com/notebooks/data_table.ipynb>data table notebook</a>'\n",
       "          + ' to learn more about interactive tables.';\n",
       "        element.innerHTML = '';\n",
       "        dataTable['output_type'] = 'display_data';\n",
       "        await google.colab.output.renderOutput(dataTable, element);\n",
       "        const docLink = document.createElement('div');\n",
       "        docLink.innerHTML = docLinkHtml;\n",
       "        element.appendChild(docLink);\n",
       "      }\n",
       "    </script>\n",
       "  </div>\n",
       "\n",
       "\n",
       "    <div id=\"df-468ff827-ff63-4b8b-9eca-622e26e8fd5f\">\n",
       "      <button class=\"colab-df-quickchart\" onclick=\"quickchart('df-468ff827-ff63-4b8b-9eca-622e26e8fd5f')\"\n",
       "                title=\"Suggest charts\"\n",
       "                style=\"display:none;\">\n",
       "\n",
       "<svg xmlns=\"http://www.w3.org/2000/svg\" height=\"24px\"viewBox=\"0 0 24 24\"\n",
       "     width=\"24px\">\n",
       "    <g>\n",
       "        <path d=\"M19 3H5c-1.1 0-2 .9-2 2v14c0 1.1.9 2 2 2h14c1.1 0 2-.9 2-2V5c0-1.1-.9-2-2-2zM9 17H7v-7h2v7zm4 0h-2V7h2v10zm4 0h-2v-4h2v4z\"/>\n",
       "    </g>\n",
       "</svg>\n",
       "      </button>\n",
       "\n",
       "<style>\n",
       "  .colab-df-quickchart {\n",
       "      --bg-color: #E8F0FE;\n",
       "      --fill-color: #1967D2;\n",
       "      --hover-bg-color: #E2EBFA;\n",
       "      --hover-fill-color: #174EA6;\n",
       "      --disabled-fill-color: #AAA;\n",
       "      --disabled-bg-color: #DDD;\n",
       "  }\n",
       "\n",
       "  [theme=dark] .colab-df-quickchart {\n",
       "      --bg-color: #3B4455;\n",
       "      --fill-color: #D2E3FC;\n",
       "      --hover-bg-color: #434B5C;\n",
       "      --hover-fill-color: #FFFFFF;\n",
       "      --disabled-bg-color: #3B4455;\n",
       "      --disabled-fill-color: #666;\n",
       "  }\n",
       "\n",
       "  .colab-df-quickchart {\n",
       "    background-color: var(--bg-color);\n",
       "    border: none;\n",
       "    border-radius: 50%;\n",
       "    cursor: pointer;\n",
       "    display: none;\n",
       "    fill: var(--fill-color);\n",
       "    height: 32px;\n",
       "    padding: 0;\n",
       "    width: 32px;\n",
       "  }\n",
       "\n",
       "  .colab-df-quickchart:hover {\n",
       "    background-color: var(--hover-bg-color);\n",
       "    box-shadow: 0 1px 2px rgba(60, 64, 67, 0.3), 0 1px 3px 1px rgba(60, 64, 67, 0.15);\n",
       "    fill: var(--button-hover-fill-color);\n",
       "  }\n",
       "\n",
       "  .colab-df-quickchart-complete:disabled,\n",
       "  .colab-df-quickchart-complete:disabled:hover {\n",
       "    background-color: var(--disabled-bg-color);\n",
       "    fill: var(--disabled-fill-color);\n",
       "    box-shadow: none;\n",
       "  }\n",
       "\n",
       "  .colab-df-spinner {\n",
       "    border: 2px solid var(--fill-color);\n",
       "    border-color: transparent;\n",
       "    border-bottom-color: var(--fill-color);\n",
       "    animation:\n",
       "      spin 1s steps(1) infinite;\n",
       "  }\n",
       "\n",
       "  @keyframes spin {\n",
       "    0% {\n",
       "      border-color: transparent;\n",
       "      border-bottom-color: var(--fill-color);\n",
       "      border-left-color: var(--fill-color);\n",
       "    }\n",
       "    20% {\n",
       "      border-color: transparent;\n",
       "      border-left-color: var(--fill-color);\n",
       "      border-top-color: var(--fill-color);\n",
       "    }\n",
       "    30% {\n",
       "      border-color: transparent;\n",
       "      border-left-color: var(--fill-color);\n",
       "      border-top-color: var(--fill-color);\n",
       "      border-right-color: var(--fill-color);\n",
       "    }\n",
       "    40% {\n",
       "      border-color: transparent;\n",
       "      border-right-color: var(--fill-color);\n",
       "      border-top-color: var(--fill-color);\n",
       "    }\n",
       "    60% {\n",
       "      border-color: transparent;\n",
       "      border-right-color: var(--fill-color);\n",
       "    }\n",
       "    80% {\n",
       "      border-color: transparent;\n",
       "      border-right-color: var(--fill-color);\n",
       "      border-bottom-color: var(--fill-color);\n",
       "    }\n",
       "    90% {\n",
       "      border-color: transparent;\n",
       "      border-bottom-color: var(--fill-color);\n",
       "    }\n",
       "  }\n",
       "</style>\n",
       "\n",
       "      <script>\n",
       "        async function quickchart(key) {\n",
       "          const quickchartButtonEl =\n",
       "            document.querySelector('#' + key + ' button');\n",
       "          quickchartButtonEl.disabled = true;  // To prevent multiple clicks.\n",
       "          quickchartButtonEl.classList.add('colab-df-spinner');\n",
       "          try {\n",
       "            const charts = await google.colab.kernel.invokeFunction(\n",
       "                'suggestCharts', [key], {});\n",
       "          } catch (error) {\n",
       "            console.error('Error during call to suggestCharts:', error);\n",
       "          }\n",
       "          quickchartButtonEl.classList.remove('colab-df-spinner');\n",
       "          quickchartButtonEl.classList.add('colab-df-quickchart-complete');\n",
       "        }\n",
       "        (() => {\n",
       "          let quickchartButtonEl =\n",
       "            document.querySelector('#df-468ff827-ff63-4b8b-9eca-622e26e8fd5f button');\n",
       "          quickchartButtonEl.style.display =\n",
       "            google.colab.kernel.accessAllowed ? 'block' : 'none';\n",
       "        })();\n",
       "      </script>\n",
       "    </div>\n",
       "\n",
       "    </div>\n",
       "  </div>\n"
      ],
      "text/plain": [
       "   Unnamed: 0                                      Ligand SMILES  IC50 (nM)\n",
       "0           7  [Na+].CC(C)c1c(\\C=C\\[C@H](O)C[C@@H](O)CC([O-])...      0.106\n",
       "1           8  CC(C)n1c(CC[C@@H](O)C[C@@H](O)CC([O-])=O)c(c(c...      0.200\n",
       "2          10  CC(C)n1c(CC[C@@H](O)C[C@@H](O)CC([O-])=O)c(c(c...      0.300\n",
       "3          11  CC(C)n1c(CC[C@@H](O)C[C@@H](O)CC([O-])=O)c(c2C...      0.300\n",
       "4          12  COC(=O)C[C@H](O)C[C@H](O)\\C=C\\n1c(C(C)C)c(Br)c...      0.300"
      ]
     },
     "execution_count": 3,
     "metadata": {},
     "output_type": "execute_result"
    }
   ],
   "source": [
    "df = pd.read_csv('/content/905-unique-statins.csv')\n",
    "df.head()"
   ]
  },
  {
   "cell_type": "code",
   "execution_count": 85,
   "metadata": {
    "colab": {
     "base_uri": "https://localhost:8080/"
    },
    "id": "0x0dIeIijsMZ",
    "outputId": "b5cdbe52-5283-4908-bf03-410382e84943"
   },
   "outputs": [
    {
     "name": "stdout",
     "output_type": "stream",
     "text": [
      "Old dimensions are: (905, 217).\n",
      "New dimensions are: (905, 217)\n"
     ]
    }
   ],
   "source": [
    "X, y, smiles = ccmlp.featurize(df['Ligand SMILES'], df['IC50 (nM)'])"
   ]
  },
  {
   "cell_type": "markdown",
   "metadata": {
    "id": "Hk0gP7f51rmG"
   },
   "source": [
    "### Use if target data should be transformed with a log function"
   ]
  },
  {
   "cell_type": "code",
   "execution_count": 86,
   "metadata": {
    "id": "IfKDI8eMmgLL"
   },
   "outputs": [],
   "source": [
    "trans_y = []\n",
    "for i, val in enumerate(y):\n",
    "  try:\n",
    "    newval = np.log10(val)\n",
    "    trans_y.append(newval)\n",
    "  except:\n",
    "    print(f\"Could not transform {i}\")"
   ]
  },
  {
   "cell_type": "code",
   "execution_count": 87,
   "metadata": {
    "id": "Itx_isQTnnYe"
   },
   "outputs": [],
   "source": [
    "y = trans_y"
   ]
  },
  {
   "cell_type": "markdown",
   "metadata": {
    "id": "puXcdS-Qlvu7"
   },
   "source": [
    "## Prepare data\n",
    "- scale features\n",
    "- split into training and validation data\n",
    "- create Torch datasets and dataloaders"
   ]
  },
  {
   "cell_type": "code",
   "execution_count": 88,
   "metadata": {
    "colab": {
     "base_uri": "https://localhost:8080/"
    },
    "id": "P-4CtmxIlyKs",
    "outputId": "2107c5b5-793d-454a-ff16-f3094c905614"
   },
   "outputs": [
    {
     "name": "stdout",
     "output_type": "stream",
     "text": [
      "prep data class initialized!\n"
     ]
    }
   ],
   "source": [
    "statins = ccmlp.prep_data(128)\n",
    "X_train, X_test, y_train, y_test, scaler = statins.scale_split(X, y, test_size=0.2, random_state=32)"
   ]
  },
  {
   "cell_type": "code",
   "execution_count": 89,
   "metadata": {
    "id": "AeNU28MjnvoP"
   },
   "outputs": [],
   "source": [
    "train_dataset, test_dataset, train_loader, test_loader = statins.create_data_loader()"
   ]
  },
  {
   "cell_type": "markdown",
   "metadata": {
    "id": "AF6as-Til5w4"
   },
   "source": [
    "## Create and train model\n",
    "- setup loss function and optimizer\n",
    "- create model with user defined numbers of neurons per layer, number of hidden layers\n",
    "- train model"
   ]
  },
  {
   "cell_type": "code",
   "execution_count": 90,
   "metadata": {
    "id": "F1jZsiQznLuU"
   },
   "outputs": [],
   "source": [
    "loss_function = nn.MSELoss()\n",
    "model = ccmlp.MLP_Model(neurons=400, input_dims=len(X_train[0]), num_hidden_layers=6)\n",
    "optimizer = optim.Adam(model.parameters(), lr=0.001, weight_decay=0.001)"
   ]
  },
  {
   "cell_type": "code",
   "execution_count": 91,
   "metadata": {
    "colab": {
     "base_uri": "https://localhost:8080/"
    },
    "id": "1AGJlIV7s0CI",
    "outputId": "5563c436-25c9-43b9-bd46-8f622c05ca32"
   },
   "outputs": [
    {
     "name": "stdout",
     "output_type": "stream",
     "text": [
      "Epoch 1\n",
      "-------------------------------\n",
      "Batch: 0, Loss: 7.1598096 [    0/  724]\n",
      "Batch: 2, Loss: 7.7720242 [  256/  724]\n",
      "Batch: 4, Loss: 7.2481818 [  512/  724]\n",
      "Epoch 2\n",
      "-------------------------------\n",
      "Batch: 0, Loss: 2.0424623 [    0/  724]\n",
      "Batch: 2, Loss: 3.7885571 [  256/  724]\n",
      "Batch: 4, Loss: 3.3218338 [  512/  724]\n",
      "Epoch 3\n",
      "-------------------------------\n",
      "Batch: 0, Loss: 4.4758482 [    0/  724]\n",
      "Batch: 2, Loss: 3.6565835 [  256/  724]\n",
      "Batch: 4, Loss: 2.9821405 [  512/  724]\n",
      "Epoch 4\n",
      "-------------------------------\n",
      "Batch: 0, Loss: 2.0979486 [    0/  724]\n",
      "Batch: 2, Loss: 1.7317084 [  256/  724]\n",
      "Batch: 4, Loss: 1.5416952 [  512/  724]\n",
      "Epoch 5\n",
      "-------------------------------\n",
      "Batch: 0, Loss: 1.5438302 [    0/  724]\n",
      "Batch: 2, Loss: 1.3253282 [  256/  724]\n",
      "Batch: 4, Loss: 1.2835451 [  512/  724]\n",
      "Epoch 6\n",
      "-------------------------------\n",
      "Batch: 0, Loss: 1.3368672 [    0/  724]\n",
      "Batch: 2, Loss: 1.1873881 [  256/  724]\n",
      "Batch: 4, Loss: 1.1556780 [  512/  724]\n",
      "Epoch 7\n",
      "-------------------------------\n",
      "Batch: 0, Loss: 0.9921914 [    0/  724]\n",
      "Batch: 2, Loss: 0.8651814 [  256/  724]\n",
      "Batch: 4, Loss: 0.9006327 [  512/  724]\n",
      "Epoch 8\n",
      "-------------------------------\n",
      "Batch: 0, Loss: 0.8611745 [    0/  724]\n",
      "Batch: 2, Loss: 0.8341104 [  256/  724]\n",
      "Batch: 4, Loss: 0.8551905 [  512/  724]\n",
      "Epoch 9\n",
      "-------------------------------\n",
      "Batch: 0, Loss: 0.7348842 [    0/  724]\n",
      "Batch: 2, Loss: 0.9260914 [  256/  724]\n",
      "Batch: 4, Loss: 0.8677858 [  512/  724]\n",
      "Epoch 10\n",
      "-------------------------------\n",
      "Batch: 0, Loss: 0.8381926 [    0/  724]\n",
      "Batch: 2, Loss: 0.8388036 [  256/  724]\n",
      "Batch: 4, Loss: 0.8710000 [  512/  724]\n",
      "Epoch 11\n",
      "-------------------------------\n",
      "Batch: 0, Loss: 1.0366266 [    0/  724]\n",
      "Batch: 2, Loss: 0.7501841 [  256/  724]\n",
      "Batch: 4, Loss: 0.6896746 [  512/  724]\n",
      "Epoch 12\n",
      "-------------------------------\n",
      "Batch: 0, Loss: 0.6047505 [    0/  724]\n",
      "Batch: 2, Loss: 0.6130674 [  256/  724]\n",
      "Batch: 4, Loss: 0.6278040 [  512/  724]\n",
      "Epoch 13\n",
      "-------------------------------\n",
      "Batch: 0, Loss: 0.5346225 [    0/  724]\n",
      "Batch: 2, Loss: 0.5508819 [  256/  724]\n",
      "Batch: 4, Loss: 0.5684124 [  512/  724]\n",
      "Epoch 14\n",
      "-------------------------------\n",
      "Batch: 0, Loss: 0.6108149 [    0/  724]\n",
      "Batch: 2, Loss: 0.6241695 [  256/  724]\n",
      "Batch: 4, Loss: 0.5579180 [  512/  724]\n",
      "Epoch 15\n",
      "-------------------------------\n",
      "Batch: 0, Loss: 0.5892371 [    0/  724]\n",
      "Batch: 2, Loss: 0.5685565 [  256/  724]\n",
      "Batch: 4, Loss: 0.5739230 [  512/  724]\n",
      "Epoch 16\n",
      "-------------------------------\n",
      "Batch: 0, Loss: 0.6984578 [    0/  724]\n",
      "Batch: 2, Loss: 0.6013288 [  256/  724]\n",
      "Batch: 4, Loss: 0.5767790 [  512/  724]\n",
      "Epoch 17\n",
      "-------------------------------\n",
      "Batch: 0, Loss: 0.4358141 [    0/  724]\n",
      "Batch: 2, Loss: 0.5310339 [  256/  724]\n",
      "Batch: 4, Loss: 0.5408432 [  512/  724]\n",
      "Epoch 18\n",
      "-------------------------------\n",
      "Batch: 0, Loss: 0.6144937 [    0/  724]\n",
      "Batch: 2, Loss: 0.4977513 [  256/  724]\n",
      "Batch: 4, Loss: 0.5030406 [  512/  724]\n",
      "Epoch 19\n",
      "-------------------------------\n",
      "Batch: 0, Loss: 0.3951233 [    0/  724]\n",
      "Batch: 2, Loss: 0.4683963 [  256/  724]\n",
      "Batch: 4, Loss: 0.4671931 [  512/  724]\n",
      "Epoch 20\n",
      "-------------------------------\n",
      "Batch: 0, Loss: 0.3767135 [    0/  724]\n",
      "Batch: 2, Loss: 0.4278952 [  256/  724]\n",
      "Batch: 4, Loss: 0.4471927 [  512/  724]\n",
      "Epoch 21\n",
      "-------------------------------\n",
      "Batch: 0, Loss: 0.3821970 [    0/  724]\n",
      "Batch: 2, Loss: 0.4400197 [  256/  724]\n",
      "Batch: 4, Loss: 0.4305552 [  512/  724]\n",
      "Epoch 22\n",
      "-------------------------------\n",
      "Batch: 0, Loss: 0.5010671 [    0/  724]\n",
      "Batch: 2, Loss: 0.4402162 [  256/  724]\n",
      "Batch: 4, Loss: 0.4102250 [  512/  724]\n",
      "Epoch 23\n",
      "-------------------------------\n",
      "Batch: 0, Loss: 0.3398422 [    0/  724]\n",
      "Batch: 2, Loss: 0.4913945 [  256/  724]\n",
      "Batch: 4, Loss: 0.4375834 [  512/  724]\n",
      "Epoch 24\n",
      "-------------------------------\n",
      "Batch: 0, Loss: 0.2346748 [    0/  724]\n",
      "Batch: 2, Loss: 0.3564882 [  256/  724]\n",
      "Batch: 4, Loss: 0.4925916 [  512/  724]\n",
      "Epoch 25\n",
      "-------------------------------\n",
      "Batch: 0, Loss: 0.4451576 [    0/  724]\n",
      "Batch: 2, Loss: 0.4476075 [  256/  724]\n",
      "Batch: 4, Loss: 0.3646008 [  512/  724]\n",
      "Epoch 26\n",
      "-------------------------------\n",
      "Batch: 0, Loss: 0.5063170 [    0/  724]\n",
      "Batch: 2, Loss: 0.4337263 [  256/  724]\n",
      "Batch: 4, Loss: 0.4061114 [  512/  724]\n",
      "Epoch 27\n",
      "-------------------------------\n",
      "Batch: 0, Loss: 0.5533867 [    0/  724]\n",
      "Batch: 2, Loss: 0.3926930 [  256/  724]\n",
      "Batch: 4, Loss: 0.3617639 [  512/  724]\n",
      "Epoch 28\n",
      "-------------------------------\n",
      "Batch: 0, Loss: 0.2952280 [    0/  724]\n",
      "Batch: 2, Loss: 0.3388962 [  256/  724]\n",
      "Batch: 4, Loss: 0.3504768 [  512/  724]\n",
      "Epoch 29\n",
      "-------------------------------\n",
      "Batch: 0, Loss: 0.2207944 [    0/  724]\n",
      "Batch: 2, Loss: 0.3298535 [  256/  724]\n",
      "Batch: 4, Loss: 0.3392481 [  512/  724]\n",
      "Epoch 30\n",
      "-------------------------------\n",
      "Batch: 0, Loss: 0.3338583 [    0/  724]\n",
      "Batch: 2, Loss: 0.3469865 [  256/  724]\n",
      "Batch: 4, Loss: 0.3180384 [  512/  724]\n",
      "Epoch 31\n",
      "-------------------------------\n",
      "Batch: 0, Loss: 0.2670243 [    0/  724]\n",
      "Batch: 2, Loss: 0.3519266 [  256/  724]\n",
      "Batch: 4, Loss: 0.3445854 [  512/  724]\n",
      "Epoch 32\n",
      "-------------------------------\n",
      "Batch: 0, Loss: 0.2458214 [    0/  724]\n",
      "Batch: 2, Loss: 0.3258158 [  256/  724]\n",
      "Batch: 4, Loss: 0.3095006 [  512/  724]\n",
      "Epoch 33\n",
      "-------------------------------\n",
      "Batch: 0, Loss: 0.2806373 [    0/  724]\n",
      "Batch: 2, Loss: 0.2438851 [  256/  724]\n",
      "Batch: 4, Loss: 0.2905373 [  512/  724]\n",
      "Epoch 34\n",
      "-------------------------------\n",
      "Batch: 0, Loss: 0.2664507 [    0/  724]\n",
      "Batch: 2, Loss: 0.3092793 [  256/  724]\n",
      "Batch: 4, Loss: 0.3482974 [  512/  724]\n",
      "Epoch 35\n",
      "-------------------------------\n",
      "Batch: 0, Loss: 0.3803434 [    0/  724]\n",
      "Batch: 2, Loss: 0.2967199 [  256/  724]\n",
      "Batch: 4, Loss: 0.3096358 [  512/  724]\n",
      "Epoch 36\n",
      "-------------------------------\n",
      "Batch: 0, Loss: 0.3158153 [    0/  724]\n",
      "Batch: 2, Loss: 0.2916726 [  256/  724]\n",
      "Batch: 4, Loss: 0.3213249 [  512/  724]\n",
      "Epoch 37\n",
      "-------------------------------\n",
      "Batch: 0, Loss: 0.2464105 [    0/  724]\n",
      "Batch: 2, Loss: 0.3049354 [  256/  724]\n",
      "Batch: 4, Loss: 0.3215122 [  512/  724]\n",
      "Epoch 38\n",
      "-------------------------------\n",
      "Batch: 0, Loss: 0.1935536 [    0/  724]\n",
      "Batch: 2, Loss: 0.2882467 [  256/  724]\n",
      "Batch: 4, Loss: 0.3019959 [  512/  724]\n",
      "Epoch 39\n",
      "-------------------------------\n",
      "Batch: 0, Loss: 0.4121407 [    0/  724]\n",
      "Batch: 2, Loss: 0.2623949 [  256/  724]\n",
      "Batch: 4, Loss: 0.2755668 [  512/  724]\n",
      "Epoch 40\n",
      "-------------------------------\n",
      "Batch: 0, Loss: 0.3292052 [    0/  724]\n",
      "Batch: 2, Loss: 0.2585648 [  256/  724]\n",
      "Batch: 4, Loss: 0.2623500 [  512/  724]\n",
      "Epoch 41\n",
      "-------------------------------\n",
      "Batch: 0, Loss: 0.3039444 [    0/  724]\n",
      "Batch: 2, Loss: 0.2396525 [  256/  724]\n",
      "Batch: 4, Loss: 0.2486498 [  512/  724]\n",
      "Epoch 42\n",
      "-------------------------------\n",
      "Batch: 0, Loss: 0.3400248 [    0/  724]\n",
      "Batch: 2, Loss: 0.2874359 [  256/  724]\n",
      "Batch: 4, Loss: 0.2626906 [  512/  724]\n",
      "Epoch 43\n",
      "-------------------------------\n",
      "Batch: 0, Loss: 0.2650437 [    0/  724]\n",
      "Batch: 2, Loss: 0.2666180 [  256/  724]\n",
      "Batch: 4, Loss: 0.2768579 [  512/  724]\n",
      "Epoch 44\n",
      "-------------------------------\n",
      "Batch: 0, Loss: 0.3045425 [    0/  724]\n",
      "Batch: 2, Loss: 0.3058225 [  256/  724]\n",
      "Batch: 4, Loss: 0.2720135 [  512/  724]\n",
      "Epoch 45\n",
      "-------------------------------\n",
      "Batch: 0, Loss: 0.2074994 [    0/  724]\n",
      "Batch: 2, Loss: 0.3164776 [  256/  724]\n",
      "Batch: 4, Loss: 0.2829466 [  512/  724]\n",
      "Epoch 46\n",
      "-------------------------------\n",
      "Batch: 0, Loss: 0.3026522 [    0/  724]\n",
      "Batch: 2, Loss: 0.2536105 [  256/  724]\n",
      "Batch: 4, Loss: 0.2366506 [  512/  724]\n",
      "Epoch 47\n",
      "-------------------------------\n",
      "Batch: 0, Loss: 0.2935877 [    0/  724]\n",
      "Batch: 2, Loss: 0.2721467 [  256/  724]\n",
      "Batch: 4, Loss: 0.2406498 [  512/  724]\n",
      "Epoch 48\n",
      "-------------------------------\n",
      "Batch: 0, Loss: 0.2214246 [    0/  724]\n",
      "Batch: 2, Loss: 0.1899557 [  256/  724]\n",
      "Batch: 4, Loss: 0.2063192 [  512/  724]\n",
      "Epoch 49\n",
      "-------------------------------\n",
      "Batch: 0, Loss: 0.1579319 [    0/  724]\n",
      "Batch: 2, Loss: 0.1689195 [  256/  724]\n",
      "Batch: 4, Loss: 0.2011193 [  512/  724]\n",
      "Epoch 50\n",
      "-------------------------------\n",
      "Batch: 0, Loss: 0.3206587 [    0/  724]\n",
      "Batch: 2, Loss: 0.3306666 [  256/  724]\n",
      "Batch: 4, Loss: 0.2854767 [  512/  724]\n",
      "Epoch 51\n",
      "-------------------------------\n",
      "Batch: 0, Loss: 0.2235557 [    0/  724]\n",
      "Batch: 2, Loss: 0.2376033 [  256/  724]\n",
      "Batch: 4, Loss: 0.2059750 [  512/  724]\n",
      "Epoch 52\n",
      "-------------------------------\n",
      "Batch: 0, Loss: 0.1974374 [    0/  724]\n",
      "Batch: 2, Loss: 0.1793224 [  256/  724]\n",
      "Batch: 4, Loss: 0.1886273 [  512/  724]\n",
      "Epoch 53\n",
      "-------------------------------\n",
      "Batch: 0, Loss: 0.2238805 [    0/  724]\n",
      "Batch: 2, Loss: 0.2078634 [  256/  724]\n",
      "Batch: 4, Loss: 0.1917221 [  512/  724]\n",
      "Epoch 54\n",
      "-------------------------------\n",
      "Batch: 0, Loss: 0.1740345 [    0/  724]\n",
      "Batch: 2, Loss: 0.1763339 [  256/  724]\n",
      "Batch: 4, Loss: 0.1799070 [  512/  724]\n",
      "Epoch 55\n",
      "-------------------------------\n",
      "Batch: 0, Loss: 0.1650496 [    0/  724]\n",
      "Batch: 2, Loss: 0.1843671 [  256/  724]\n",
      "Batch: 4, Loss: 0.1631270 [  512/  724]\n",
      "Epoch 56\n",
      "-------------------------------\n",
      "Batch: 0, Loss: 0.1470158 [    0/  724]\n",
      "Batch: 2, Loss: 0.1973077 [  256/  724]\n",
      "Batch: 4, Loss: 0.2139831 [  512/  724]\n",
      "Epoch 57\n",
      "-------------------------------\n",
      "Batch: 0, Loss: 0.1808065 [    0/  724]\n",
      "Batch: 2, Loss: 0.1769765 [  256/  724]\n",
      "Batch: 4, Loss: 0.1782502 [  512/  724]\n",
      "Epoch 58\n",
      "-------------------------------\n",
      "Batch: 0, Loss: 0.2964711 [    0/  724]\n",
      "Batch: 2, Loss: 0.2133309 [  256/  724]\n",
      "Batch: 4, Loss: 0.2033235 [  512/  724]\n",
      "Epoch 59\n",
      "-------------------------------\n",
      "Batch: 0, Loss: 0.1324442 [    0/  724]\n",
      "Batch: 2, Loss: 0.1689429 [  256/  724]\n",
      "Batch: 4, Loss: 0.1732015 [  512/  724]\n",
      "Epoch 60\n",
      "-------------------------------\n",
      "Batch: 0, Loss: 0.1190738 [    0/  724]\n",
      "Batch: 2, Loss: 0.1506466 [  256/  724]\n",
      "Batch: 4, Loss: 0.1394532 [  512/  724]\n",
      "Done!\n"
     ]
    }
   ],
   "source": [
    "epochs = 60\n",
    "for t in range(epochs):\n",
    "  print(f\"Epoch {t+1}\\n-------------------------------\")\n",
    "  model = ccmlp.train(train_loader, model, loss_function, optimizer)\n",
    "print(\"Done!\")"
   ]
  },
  {
   "cell_type": "markdown",
   "metadata": {
    "id": "6st4xUJlmJVa"
   },
   "source": [
    "## Evaluate model\n",
    "- calculate R2 for training and test data\n",
    "- use the model to serve predictions"
   ]
  },
  {
   "cell_type": "code",
   "execution_count": 92,
   "metadata": {
    "colab": {
     "base_uri": "https://localhost:8080/",
     "height": 484
    },
    "id": "u9ayKlCorTVH",
    "outputId": "9662c45c-71b8-466c-cf92-5ab4c8827758"
   },
   "outputs": [
    {
     "name": "stdout",
     "output_type": "stream",
     "text": [
      "Train R2 Score: 0.9486265182495117\n",
      "Test R2 Score: 0.7219864130020142\n"
     ]
    },
    {
     "data": {
      "image/png": "[encoded data removed]",
      "text/plain": [
       "<Figure size 640x480 with 1 Axes>"
      ]
     },
     "metadata": {},
     "output_type": "display_data"
    }
   ],
   "source": [
    "r2_train, r2_test = ccmlp.evaluate_regression(X_train, y_train, X_test, y_test, model)"
   ]
  },
  {
   "cell_type": "code",
   "execution_count": 93,
   "metadata": {
    "colab": {
     "base_uri": "https://localhost:8080/"
    },
    "id": "LhSpfuFoThgV",
    "outputId": "85062fe9-5959-4b6a-d679-2ddc837027ce"
   },
   "outputs": [
    {
     "name": "stdout",
     "output_type": "stream",
     "text": [
      "Predicting value for C[C@@H]1C[C@H](OC(=O)C=C(C)C)C2[C@@H](CC[C@@H]3C[C@@H](O)CC(=O)O3)[C@@H](C)C=CC2=C1\n",
      "Prediction: tensor([[1.3065]]), Truth: 1.4313637641589874\n",
      "Prediction: 1.306541085243225\n",
      "Truth: 1.4313637641589874\n"
     ]
    }
   ],
   "source": [
    "which = 40\n",
    "prediction = ccmlp.predict_single_value(smiles[which], model, \"rdkit\", scaler, truth=y[which])\n",
    "pred = prediction[0][0].item()\n",
    "print(f\"Prediction: {pred}\")\n",
    "print(f\"Truth: {y[which]}\")"
   ]
  },
  {
   "cell_type": "markdown",
   "metadata": {
    "id": "J35G_qU72fFc"
   },
   "source": [
    "## Save the model"
   ]
  },
  {
   "cell_type": "code",
   "execution_count": 94,
   "metadata": {
    "id": "JQZJiua3HkvK"
   },
   "outputs": [],
   "source": [
    "torch.save(model.state_dict(), \"saved_model.pt\")"
   ]
  },
  {
   "cell_type": "markdown",
   "metadata": {
    "id": "P0ZZ1qre2hFw"
   },
   "source": [
    "## Load a saved model\n",
    "- needs two files from the previous model:\n",
    "  * the MLP_model_params.txt file\n",
    "  * the saved_model.pt file\n",
    "- Both should be in the current folder [(\"/content\") on Colab]"
   ]
  },
  {
   "cell_type": "code",
   "execution_count": 95,
   "metadata": {
    "id": "mV1fihvDuGaL"
   },
   "outputs": [],
   "source": [
    "new_model = ccmlp.load_model()"
   ]
  },
  {
   "cell_type": "code",
   "execution_count": 96,
   "metadata": {
    "colab": {
     "base_uri": "https://localhost:8080/"
    },
    "id": "hlaNgrNDtg1h",
    "outputId": "f9d438a3-548b-42ee-e1f0-29311ff72ab7"
   },
   "outputs": [
    {
     "name": "stdout",
     "output_type": "stream",
     "text": [
      "Predicting value for C[C@@H]1C[C@H](OC(=O)C=C(C)C)C2[C@@H](CC[C@@H]3C[C@@H](O)CC(=O)O3)[C@@H](C)C=CC2=C1\n",
      "Prediction: tensor([[1.3065]]), Truth: 1.4313637641589874\n"
     ]
    }
   ],
   "source": [
    "prediction = ccmlp.predict_single_value(smiles[which], new_model, \"rdkit\", scaler, truth=y[which])"
   ]
  },
  {
   "cell_type": "markdown",
   "metadata": {
    "id": "mAhWbn7cSyNc"
   },
   "source": [
    "## Classifier\n",
    "- Read in a CSV and create your desired number of classes"
   ]
  },
  {
   "cell_type": "code",
   "execution_count": 97,
   "metadata": {
    "colab": {
     "base_uri": "https://localhost:8080/",
     "height": 223
    },
    "id": "IO9oWQnD0TKC",
    "outputId": "1364a8c7-170e-43a8-c5a1-64621249dba2"
   },
   "outputs": [
    {
     "name": "stdout",
     "output_type": "stream",
     "text": [
      "Samples per class: 301, total samples:905\n"
     ]
    },
    {
     "data": {
      "application/vnd.google.colaboratory.intrinsic+json": {
       "summary": "{\n  \"name\": \"class_df\",\n  \"rows\": 905,\n  \"fields\": [\n    {\n      \"column\": \"Unnamed: 0\",\n      \"properties\": {\n        \"dtype\": \"number\",\n        \"std\": 422,\n        \"min\": 7,\n        \"max\": 1406,\n        \"num_unique_values\": 905,\n        \"samples\": [\n          1063,\n          221,\n          1252\n        ],\n        \"semantic_type\": \"\",\n        \"description\": \"\"\n      }\n    },\n    {\n      \"column\": \"Ligand SMILES\",\n      \"properties\": {\n        \"dtype\": \"string\",\n        \"num_unique_values\": 904,\n        \"samples\": [\n          \"CC[C@@H](C)C(=O)O[C@H]1C[C@@H](C)C=C2C=C[C@H](C)[C@H](CC[C@@H]3C[C@@H](O)CC(=O)O3)C12\",\n          \"C[C@@H]1C[C@H](OC(=O)Oc2ccccc2)C2[C@@H](CC[C@@H]3C[C@@H](O)CC(=O)O3)[C@@H](C)C=CC2=C1\",\n          \"CC(C)c1nc(c(-c2cccc(Cl)c2)n1\\\\C=C\\\\[C@@H](O)C[C@@H](O)CC([O-])=O)-c1ccc(F)cc1\"\n        ],\n        \"semantic_type\": \"\",\n        \"description\": \"\"\n      }\n    },\n    {\n      \"column\": \"IC50 (nM)\",\n      \"properties\": {\n        \"dtype\": \"number\",\n        \"std\": 171051.13396676542,\n        \"min\": 0.106,\n        \"max\": 2488000.0,\n        \"num_unique_values\": 469,\n        \"samples\": [\n          6.5,\n          8.15,\n          3.8\n        ],\n        \"semantic_type\": \"\",\n        \"description\": \"\"\n      }\n    },\n    {\n      \"column\": \"class labels\",\n      \"properties\": {\n        \"dtype\": \"category\",\n        \"num_unique_values\": 3,\n        \"samples\": [\n          \"0.106 < 15.0\",\n          \"15.0 < 1000.0\",\n          \"1000.0 < 2488000.0\"\n        ],\n        \"semantic_type\": \"\",\n        \"description\": \"\"\n      }\n    },\n    {\n      \"column\": \"target\",\n      \"properties\": {\n        \"dtype\": \"number\",\n        \"std\": 0,\n        \"min\": 0,\n        \"max\": 2,\n        \"num_unique_values\": 3,\n        \"samples\": [\n          0,\n          1,\n          2\n        ],\n        \"semantic_type\": \"\",\n        \"description\": \"\"\n      }\n    }\n  ]\n}",
       "type": "dataframe",
       "variable_name": "class_df"
      },
      "text/html": [
       "\n",
       "  <div id=\"df-79f8a773-7a6d-470a-986c-6a7012fa618b\" class=\"colab-df-container\">\n",
       "    <div>\n",
       "<style scoped>\n",
       "    .dataframe tbody tr th:only-of-type {\n",
       "        vertical-align: middle;\n",
       "    }\n",
       "\n",
       "    .dataframe tbody tr th {\n",
       "        vertical-align: top;\n",
       "    }\n",
       "\n",
       "    .dataframe thead th {\n",
       "        text-align: right;\n",
       "    }\n",
       "</style>\n",
       "<table border=\"1\" class=\"dataframe\">\n",
       "  <thead>\n",
       "    <tr style=\"text-align: right;\">\n",
       "      <th></th>\n",
       "      <th>Unnamed: 0</th>\n",
       "      <th>Ligand SMILES</th>\n",
       "      <th>IC50 (nM)</th>\n",
       "      <th>class labels</th>\n",
       "      <th>target</th>\n",
       "    </tr>\n",
       "  </thead>\n",
       "  <tbody>\n",
       "    <tr>\n",
       "      <th>0</th>\n",
       "      <td>7</td>\n",
       "      <td>CC(C)c1c(\\C=C\\[C@H](O)C[C@@H](O)CC([O-])=O)c(c...</td>\n",
       "      <td>0.106</td>\n",
       "      <td>0.106 &lt; 15.0</td>\n",
       "      <td>0</td>\n",
       "    </tr>\n",
       "    <tr>\n",
       "      <th>1</th>\n",
       "      <td>8</td>\n",
       "      <td>CC(C)n1c(CC[C@@H](O)C[C@@H](O)CC([O-])=O)c(c(c...</td>\n",
       "      <td>0.200</td>\n",
       "      <td>0.106 &lt; 15.0</td>\n",
       "      <td>0</td>\n",
       "    </tr>\n",
       "    <tr>\n",
       "      <th>2</th>\n",
       "      <td>10</td>\n",
       "      <td>CC(C)n1c(CC[C@@H](O)C[C@@H](O)CC([O-])=O)c(c(c...</td>\n",
       "      <td>0.300</td>\n",
       "      <td>0.106 &lt; 15.0</td>\n",
       "      <td>0</td>\n",
       "    </tr>\n",
       "    <tr>\n",
       "      <th>3</th>\n",
       "      <td>11</td>\n",
       "      <td>CC(C)n1c(CC[C@@H](O)C[C@@H](O)CC([O-])=O)c(c2C...</td>\n",
       "      <td>0.300</td>\n",
       "      <td>0.106 &lt; 15.0</td>\n",
       "      <td>0</td>\n",
       "    </tr>\n",
       "    <tr>\n",
       "      <th>4</th>\n",
       "      <td>12</td>\n",
       "      <td>COC(=O)C[C@H](O)C[C@H](O)\\C=C\\n1c(C(C)C)c(Br)c...</td>\n",
       "      <td>0.300</td>\n",
       "      <td>0.106 &lt; 15.0</td>\n",
       "      <td>0</td>\n",
       "    </tr>\n",
       "  </tbody>\n",
       "</table>\n",
       "</div>\n",
       "    <div class=\"colab-df-buttons\">\n",
       "\n",
       "  <div class=\"colab-df-container\">\n",
       "    <button class=\"colab-df-convert\" onclick=\"convertToInteractive('df-79f8a773-7a6d-470a-986c-6a7012fa618b')\"\n",
       "            title=\"Convert this dataframe to an interactive table.\"\n",
       "            style=\"display:none;\">\n",
       "\n",
       "  <svg xmlns=\"http://www.w3.org/2000/svg\" height=\"24px\" viewBox=\"0 -960 960 960\">\n",
       "    <path d=\"M120-120v-720h720v720H120Zm60-500h600v-160H180v160Zm220 220h160v-160H400v160Zm0 220h160v-160H400v160ZM180-400h160v-160H180v160Zm440 0h160v-160H620v160ZM180-180h160v-160H180v160Zm440 0h160v-160H620v160Z\"/>\n",
       "  </svg>\n",
       "    </button>\n",
       "\n",
       "  <style>\n",
       "    .colab-df-container {\n",
       "      display:flex;\n",
       "      gap: 12px;\n",
       "    }\n",
       "\n",
       "    .colab-df-convert {\n",
       "      background-color: #E8F0FE;\n",
       "      border: none;\n",
       "      border-radius: 50%;\n",
       "      cursor: pointer;\n",
       "      display: none;\n",
       "      fill: #1967D2;\n",
       "      height: 32px;\n",
       "      padding: 0 0 0 0;\n",
       "      width: 32px;\n",
       "    }\n",
       "\n",
       "    .colab-df-convert:hover {\n",
       "      background-color: #E2EBFA;\n",
       "      box-shadow: 0px 1px 2px rgba(60, 64, 67, 0.3), 0px 1px 3px 1px rgba(60, 64, 67, 0.15);\n",
       "      fill: #174EA6;\n",
       "    }\n",
       "\n",
       "    .colab-df-buttons div {\n",
       "      margin-bottom: 4px;\n",
       "    }\n",
       "\n",
       "    [theme=dark] .colab-df-convert {\n",
       "      background-color: #3B4455;\n",
       "      fill: #D2E3FC;\n",
       "    }\n",
       "\n",
       "    [theme=dark] .colab-df-convert:hover {\n",
       "      background-color: #434B5C;\n",
       "      box-shadow: 0px 1px 3px 1px rgba(0, 0, 0, 0.15);\n",
       "      filter: drop-shadow(0px 1px 2px rgba(0, 0, 0, 0.3));\n",
       "      fill: #FFFFFF;\n",
       "    }\n",
       "  </style>\n",
       "\n",
       "    <script>\n",
       "      const buttonEl =\n",
       "        document.querySelector('#df-79f8a773-7a6d-470a-986c-6a7012fa618b button.colab-df-convert');\n",
       "      buttonEl.style.display =\n",
       "        google.colab.kernel.accessAllowed ? 'block' : 'none';\n",
       "\n",
       "      async function convertToInteractive(key) {\n",
       "        const element = document.querySelector('#df-79f8a773-7a6d-470a-986c-6a7012fa618b');\n",
       "        const dataTable =\n",
       "          await google.colab.kernel.invokeFunction('convertToInteractive',\n",
       "                                                    [key], {});\n",
       "        if (!dataTable) return;\n",
       "\n",
       "        const docLinkHtml = 'Like what you see? Visit the ' +\n",
       "          '<a target=\"_blank\" href=https://colab.research.google.com/notebooks/data_table.ipynb>data table notebook</a>'\n",
       "          + ' to learn more about interactive tables.';\n",
       "        element.innerHTML = '';\n",
       "        dataTable['output_type'] = 'display_data';\n",
       "        await google.colab.output.renderOutput(dataTable, element);\n",
       "        const docLink = document.createElement('div');\n",
       "        docLink.innerHTML = docLinkHtml;\n",
       "        element.appendChild(docLink);\n",
       "      }\n",
       "    </script>\n",
       "  </div>\n",
       "\n",
       "\n",
       "    <div id=\"df-4b480dda-03bd-4af9-a996-0d062dece2c3\">\n",
       "      <button class=\"colab-df-quickchart\" onclick=\"quickchart('df-4b480dda-03bd-4af9-a996-0d062dece2c3')\"\n",
       "                title=\"Suggest charts\"\n",
       "                style=\"display:none;\">\n",
       "\n",
       "<svg xmlns=\"http://www.w3.org/2000/svg\" height=\"24px\"viewBox=\"0 0 24 24\"\n",
       "     width=\"24px\">\n",
       "    <g>\n",
       "        <path d=\"M19 3H5c-1.1 0-2 .9-2 2v14c0 1.1.9 2 2 2h14c1.1 0 2-.9 2-2V5c0-1.1-.9-2-2-2zM9 17H7v-7h2v7zm4 0h-2V7h2v10zm4 0h-2v-4h2v4z\"/>\n",
       "    </g>\n",
       "</svg>\n",
       "      </button>\n",
       "\n",
       "<style>\n",
       "  .colab-df-quickchart {\n",
       "      --bg-color: #E8F0FE;\n",
       "      --fill-color: #1967D2;\n",
       "      --hover-bg-color: #E2EBFA;\n",
       "      --hover-fill-color: #174EA6;\n",
       "      --disabled-fill-color: #AAA;\n",
       "      --disabled-bg-color: #DDD;\n",
       "  }\n",
       "\n",
       "  [theme=dark] .colab-df-quickchart {\n",
       "      --bg-color: #3B4455;\n",
       "      --fill-color: #D2E3FC;\n",
       "      --hover-bg-color: #434B5C;\n",
       "      --hover-fill-color: #FFFFFF;\n",
       "      --disabled-bg-color: #3B4455;\n",
       "      --disabled-fill-color: #666;\n",
       "  }\n",
       "\n",
       "  .colab-df-quickchart {\n",
       "    background-color: var(--bg-color);\n",
       "    border: none;\n",
       "    border-radius: 50%;\n",
       "    cursor: pointer;\n",
       "    display: none;\n",
       "    fill: var(--fill-color);\n",
       "    height: 32px;\n",
       "    padding: 0;\n",
       "    width: 32px;\n",
       "  }\n",
       "\n",
       "  .colab-df-quickchart:hover {\n",
       "    background-color: var(--hover-bg-color);\n",
       "    box-shadow: 0 1px 2px rgba(60, 64, 67, 0.3), 0 1px 3px 1px rgba(60, 64, 67, 0.15);\n",
       "    fill: var(--button-hover-fill-color);\n",
       "  }\n",
       "\n",
       "  .colab-df-quickchart-complete:disabled,\n",
       "  .colab-df-quickchart-complete:disabled:hover {\n",
       "    background-color: var(--disabled-bg-color);\n",
       "    fill: var(--disabled-fill-color);\n",
       "    box-shadow: none;\n",
       "  }\n",
       "\n",
       "  .colab-df-spinner {\n",
       "    border: 2px solid var(--fill-color);\n",
       "    border-color: transparent;\n",
       "    border-bottom-color: var(--fill-color);\n",
       "    animation:\n",
       "      spin 1s steps(1) infinite;\n",
       "  }\n",
       "\n",
       "  @keyframes spin {\n",
       "    0% {\n",
       "      border-color: transparent;\n",
       "      border-bottom-color: var(--fill-color);\n",
       "      border-left-color: var(--fill-color);\n",
       "    }\n",
       "    20% {\n",
       "      border-color: transparent;\n",
       "      border-left-color: var(--fill-color);\n",
       "      border-top-color: var(--fill-color);\n",
       "    }\n",
       "    30% {\n",
       "      border-color: transparent;\n",
       "      border-left-color: var(--fill-color);\n",
       "      border-top-color: var(--fill-color);\n",
       "      border-right-color: var(--fill-color);\n",
       "    }\n",
       "    40% {\n",
       "      border-color: transparent;\n",
       "      border-right-color: var(--fill-color);\n",
       "      border-top-color: var(--fill-color);\n",
       "    }\n",
       "    60% {\n",
       "      border-color: transparent;\n",
       "      border-right-color: var(--fill-color);\n",
       "    }\n",
       "    80% {\n",
       "      border-color: transparent;\n",
       "      border-right-color: var(--fill-color);\n",
       "      border-bottom-color: var(--fill-color);\n",
       "    }\n",
       "    90% {\n",
       "      border-color: transparent;\n",
       "      border-bottom-color: var(--fill-color);\n",
       "    }\n",
       "  }\n",
       "</style>\n",
       "\n",
       "      <script>\n",
       "        async function quickchart(key) {\n",
       "          const quickchartButtonEl =\n",
       "            document.querySelector('#' + key + ' button');\n",
       "          quickchartButtonEl.disabled = true;  // To prevent multiple clicks.\n",
       "          quickchartButtonEl.classList.add('colab-df-spinner');\n",
       "          try {\n",
       "            const charts = await google.colab.kernel.invokeFunction(\n",
       "                'suggestCharts', [key], {});\n",
       "          } catch (error) {\n",
       "            console.error('Error during call to suggestCharts:', error);\n",
       "          }\n",
       "          quickchartButtonEl.classList.remove('colab-df-spinner');\n",
       "          quickchartButtonEl.classList.add('colab-df-quickchart-complete');\n",
       "        }\n",
       "        (() => {\n",
       "          let quickchartButtonEl =\n",
       "            document.querySelector('#df-4b480dda-03bd-4af9-a996-0d062dece2c3 button');\n",
       "          quickchartButtonEl.style.display =\n",
       "            google.colab.kernel.accessAllowed ? 'block' : 'none';\n",
       "        })();\n",
       "      </script>\n",
       "    </div>\n",
       "\n",
       "    </div>\n",
       "  </div>\n"
      ],
      "text/plain": [
       "   Unnamed: 0                                      Ligand SMILES  IC50 (nM)  \\\n",
       "0           7  CC(C)c1c(\\C=C\\[C@H](O)C[C@@H](O)CC([O-])=O)c(c...      0.106   \n",
       "1           8  CC(C)n1c(CC[C@@H](O)C[C@@H](O)CC([O-])=O)c(c(c...      0.200   \n",
       "2          10  CC(C)n1c(CC[C@@H](O)C[C@@H](O)CC([O-])=O)c(c(c...      0.300   \n",
       "3          11  CC(C)n1c(CC[C@@H](O)C[C@@H](O)CC([O-])=O)c(c2C...      0.300   \n",
       "4          12  COC(=O)C[C@H](O)C[C@H](O)\\C=C\\n1c(C(C)C)c(Br)c...      0.300   \n",
       "\n",
       "   class labels  target  \n",
       "0  0.106 < 15.0       0  \n",
       "1  0.106 < 15.0       0  \n",
       "2  0.106 < 15.0       0  \n",
       "3  0.106 < 15.0       0  \n",
       "4  0.106 < 15.0       0  "
      ]
     },
     "execution_count": 97,
     "metadata": {},
     "output_type": "execute_result"
    }
   ],
   "source": [
    "class_df, labels = ccmlp.make_classes(\"/content/905-unique-statins.csv\", \"IC50 (nM)\",3)\n",
    "class_df.head()"
   ]
  },
  {
   "cell_type": "code",
   "execution_count": 98,
   "metadata": {
    "id": "0rZpzxoGUc2X"
   },
   "outputs": [],
   "source": [
    "class_df.to_csv(\"class_df.csv\", index=False)"
   ]
  },
  {
   "cell_type": "markdown",
   "metadata": {
    "id": "AFfWavhP7uRA"
   },
   "source": [
    "- Featurize the data"
   ]
  },
  {
   "cell_type": "code",
   "execution_count": 99,
   "metadata": {
    "colab": {
     "base_uri": "https://localhost:8080/"
    },
    "id": "NIUojOOPTCYq",
    "outputId": "33a72c49-56d2-4ec9-d51d-ebb9ee4f5430"
   },
   "outputs": [
    {
     "name": "stdout",
     "output_type": "stream",
     "text": [
      "Old dimensions are: (905, 217).\n",
      "New dimensions are: (905, 217)\n"
     ]
    }
   ],
   "source": [
    "xc, yc, Xax = ccmlp.featurize(class_df['Ligand SMILES'], class_df['target'], classifier_flag=True)"
   ]
  },
  {
   "cell_type": "markdown",
   "metadata": {
    "id": "ou-3IrDg7zme"
   },
   "source": [
    "- Scale and split your data, and create Torch dataloaders"
   ]
  },
  {
   "cell_type": "code",
   "execution_count": 100,
   "metadata": {
    "colab": {
     "base_uri": "https://localhost:8080/"
    },
    "id": "3ucr8UewUGL6",
    "outputId": "47d6d191-808f-407d-8a0e-0a979441f115"
   },
   "outputs": [
    {
     "name": "stdout",
     "output_type": "stream",
     "text": [
      "prep data class initialized!\n"
     ]
    }
   ],
   "source": [
    "stat_class = ccmlp.prep_data(128, classifier_flag=True)\n",
    "X_train, X_test, y_train, y_test, scaler = stat_class.scale_split(xc, class_df['target'].to_list(), test_size=0.2, random_state=32)"
   ]
  },
  {
   "cell_type": "code",
   "execution_count": 101,
   "metadata": {
    "id": "2Ha0gxGEVMz9"
   },
   "outputs": [],
   "source": [
    "train_dataset, test_dataset, train_loader, test_loader = stat_class.create_data_loader()"
   ]
  },
  {
   "cell_type": "markdown",
   "metadata": {
    "id": "bZpdbHiq77As"
   },
   "source": [
    "- Set-up your Torch MLP model and train"
   ]
  },
  {
   "cell_type": "code",
   "execution_count": 102,
   "metadata": {
    "id": "pUafiUqCV2Rp"
   },
   "outputs": [],
   "source": [
    "loss_function = nn.NLLLoss()\n",
    "model = ccmlp.MLP_Model(neurons=400, input_dims=len(X_train[0]), num_hidden_layers=6, classifier_flag=True, num_classes=len(labels))\n",
    "optimizer = optim.Adam(model.parameters(), lr=0.001, weight_decay=0.001)"
   ]
  },
  {
   "cell_type": "code",
   "execution_count": 103,
   "metadata": {
    "colab": {
     "base_uri": "https://localhost:8080/"
    },
    "id": "lBCFn7_YW6PL",
    "outputId": "941336b0-7af8-4406-9f17-8de4bb3dff7e"
   },
   "outputs": [
    {
     "name": "stdout",
     "output_type": "stream",
     "text": [
      "Epoch 1\n",
      "-------------------------------\n",
      "Batch: 0, Loss: 1.0993708 [    0/  724]\n",
      "Batch: 2, Loss: 1.0983456 [  256/  724]\n",
      "Batch: 4, Loss: 1.0980175 [  512/  724]\n",
      "Epoch 2\n",
      "-------------------------------\n",
      "Batch: 0, Loss: 1.0855819 [    0/  724]\n",
      "Batch: 2, Loss: 1.0748811 [  256/  724]\n"
     ]
    },
    {
     "name": "stderr",
     "output_type": "stream",
     "text": [
      "/usr/local/lib/python3.12/dist-packages/torch/nn/modules/module.py:1773: UserWarning: Implicit dimension choice for log_softmax has been deprecated. Change the call to include dim=X as an argument.\n",
      "  return self._call_impl(*args, **kwargs)\n"
     ]
    },
    {
     "name": "stdout",
     "output_type": "stream",
     "text": [
      "Batch: 4, Loss: 1.0479970 [  512/  724]\n",
      "Epoch 3\n",
      "-------------------------------\n",
      "Batch: 0, Loss: 0.9175067 [    0/  724]\n",
      "Batch: 2, Loss: 0.8583894 [  256/  724]\n",
      "Batch: 4, Loss: 0.8266947 [  512/  724]\n",
      "Epoch 4\n",
      "-------------------------------\n",
      "Batch: 0, Loss: 0.6815588 [    0/  724]\n",
      "Batch: 2, Loss: 0.7205725 [  256/  724]\n",
      "Batch: 4, Loss: 0.6872815 [  512/  724]\n",
      "Epoch 5\n",
      "-------------------------------\n",
      "Batch: 0, Loss: 0.5607397 [    0/  724]\n",
      "Batch: 2, Loss: 0.5328741 [  256/  724]\n",
      "Batch: 4, Loss: 0.5748183 [  512/  724]\n",
      "Epoch 6\n",
      "-------------------------------\n",
      "Batch: 0, Loss: 0.6254057 [    0/  724]\n",
      "Batch: 2, Loss: 0.5056961 [  256/  724]\n",
      "Batch: 4, Loss: 0.5197856 [  512/  724]\n",
      "Epoch 7\n",
      "-------------------------------\n",
      "Batch: 0, Loss: 0.4420337 [    0/  724]\n",
      "Batch: 2, Loss: 0.4876806 [  256/  724]\n",
      "Batch: 4, Loss: 0.4973798 [  512/  724]\n",
      "Epoch 8\n",
      "-------------------------------\n",
      "Batch: 0, Loss: 0.4616315 [    0/  724]\n",
      "Batch: 2, Loss: 0.4929014 [  256/  724]\n",
      "Batch: 4, Loss: 0.4748685 [  512/  724]\n",
      "Epoch 9\n",
      "-------------------------------\n",
      "Batch: 0, Loss: 0.4537015 [    0/  724]\n",
      "Batch: 2, Loss: 0.4260325 [  256/  724]\n",
      "Batch: 4, Loss: 0.4448566 [  512/  724]\n",
      "Epoch 10\n",
      "-------------------------------\n",
      "Batch: 0, Loss: 0.4569360 [    0/  724]\n",
      "Batch: 2, Loss: 0.4254294 [  256/  724]\n",
      "Batch: 4, Loss: 0.4253911 [  512/  724]\n",
      "Epoch 11\n",
      "-------------------------------\n",
      "Batch: 0, Loss: 0.3933761 [    0/  724]\n",
      "Batch: 2, Loss: 0.3806678 [  256/  724]\n",
      "Batch: 4, Loss: 0.3947994 [  512/  724]\n",
      "Epoch 12\n",
      "-------------------------------\n",
      "Batch: 0, Loss: 0.2843910 [    0/  724]\n",
      "Batch: 2, Loss: 0.3341111 [  256/  724]\n",
      "Batch: 4, Loss: 0.3604661 [  512/  724]\n",
      "Epoch 13\n",
      "-------------------------------\n",
      "Batch: 0, Loss: 0.4046398 [    0/  724]\n",
      "Batch: 2, Loss: 0.3836437 [  256/  724]\n",
      "Batch: 4, Loss: 0.3613937 [  512/  724]\n",
      "Epoch 14\n",
      "-------------------------------\n",
      "Batch: 0, Loss: 0.4346765 [    0/  724]\n",
      "Batch: 2, Loss: 0.3900976 [  256/  724]\n",
      "Batch: 4, Loss: 0.3407825 [  512/  724]\n",
      "Epoch 15\n",
      "-------------------------------\n",
      "Batch: 0, Loss: 0.2931875 [    0/  724]\n",
      "Batch: 2, Loss: 0.2911590 [  256/  724]\n",
      "Batch: 4, Loss: 0.3358226 [  512/  724]\n",
      "Epoch 16\n",
      "-------------------------------\n",
      "Batch: 0, Loss: 0.2668301 [    0/  724]\n",
      "Batch: 2, Loss: 0.2996407 [  256/  724]\n",
      "Batch: 4, Loss: 0.3185362 [  512/  724]\n",
      "Epoch 17\n",
      "-------------------------------\n",
      "Batch: 0, Loss: 0.2917970 [    0/  724]\n",
      "Batch: 2, Loss: 0.3105400 [  256/  724]\n",
      "Batch: 4, Loss: 0.2843460 [  512/  724]\n",
      "Epoch 18\n",
      "-------------------------------\n",
      "Batch: 0, Loss: 0.2223710 [    0/  724]\n",
      "Batch: 2, Loss: 0.2470950 [  256/  724]\n",
      "Batch: 4, Loss: 0.2530723 [  512/  724]\n",
      "Epoch 19\n",
      "-------------------------------\n",
      "Batch: 0, Loss: 0.1709509 [    0/  724]\n",
      "Batch: 2, Loss: 0.1788082 [  256/  724]\n",
      "Batch: 4, Loss: 0.2350142 [  512/  724]\n",
      "Epoch 20\n",
      "-------------------------------\n",
      "Batch: 0, Loss: 0.2145401 [    0/  724]\n",
      "Batch: 2, Loss: 0.2222395 [  256/  724]\n",
      "Batch: 4, Loss: 0.2552751 [  512/  724]\n",
      "Epoch 21\n",
      "-------------------------------\n",
      "Batch: 0, Loss: 0.3470692 [    0/  724]\n",
      "Batch: 2, Loss: 0.2759904 [  256/  724]\n",
      "Batch: 4, Loss: 0.2758370 [  512/  724]\n",
      "Epoch 22\n",
      "-------------------------------\n",
      "Batch: 0, Loss: 0.1952208 [    0/  724]\n",
      "Batch: 2, Loss: 0.2168958 [  256/  724]\n",
      "Batch: 4, Loss: 0.2716317 [  512/  724]\n",
      "Epoch 23\n",
      "-------------------------------\n",
      "Batch: 0, Loss: 0.2434987 [    0/  724]\n",
      "Batch: 2, Loss: 0.2053270 [  256/  724]\n",
      "Batch: 4, Loss: 0.2303905 [  512/  724]\n",
      "Epoch 24\n",
      "-------------------------------\n",
      "Batch: 0, Loss: 0.3292944 [    0/  724]\n",
      "Batch: 2, Loss: 0.3030864 [  256/  724]\n",
      "Batch: 4, Loss: 0.3162968 [  512/  724]\n",
      "Epoch 25\n",
      "-------------------------------\n",
      "Batch: 0, Loss: 0.2728443 [    0/  724]\n",
      "Batch: 2, Loss: 0.2644776 [  256/  724]\n",
      "Batch: 4, Loss: 0.2518373 [  512/  724]\n",
      "Epoch 26\n",
      "-------------------------------\n",
      "Batch: 0, Loss: 0.2558519 [    0/  724]\n",
      "Batch: 2, Loss: 0.2247338 [  256/  724]\n",
      "Batch: 4, Loss: 0.2257664 [  512/  724]\n",
      "Epoch 27\n",
      "-------------------------------\n",
      "Batch: 0, Loss: 0.1424871 [    0/  724]\n",
      "Batch: 2, Loss: 0.1704029 [  256/  724]\n",
      "Batch: 4, Loss: 0.1920179 [  512/  724]\n",
      "Epoch 28\n",
      "-------------------------------\n",
      "Batch: 0, Loss: 0.1757882 [    0/  724]\n",
      "Batch: 2, Loss: 0.1832053 [  256/  724]\n",
      "Batch: 4, Loss: 0.1895993 [  512/  724]\n",
      "Epoch 29\n",
      "-------------------------------\n",
      "Batch: 0, Loss: 0.2538852 [    0/  724]\n",
      "Batch: 2, Loss: 0.1938047 [  256/  724]\n",
      "Batch: 4, Loss: 0.1980895 [  512/  724]\n",
      "Epoch 30\n",
      "-------------------------------\n",
      "Batch: 0, Loss: 0.1169986 [    0/  724]\n",
      "Batch: 2, Loss: 0.1369557 [  256/  724]\n",
      "Batch: 4, Loss: 0.1514813 [  512/  724]\n",
      "Epoch 31\n",
      "-------------------------------\n",
      "Batch: 0, Loss: 0.2399791 [    0/  724]\n",
      "Batch: 2, Loss: 0.1914368 [  256/  724]\n",
      "Batch: 4, Loss: 0.1825146 [  512/  724]\n",
      "Epoch 32\n",
      "-------------------------------\n",
      "Batch: 0, Loss: 0.2116672 [    0/  724]\n",
      "Batch: 2, Loss: 0.1461299 [  256/  724]\n",
      "Batch: 4, Loss: 0.1589459 [  512/  724]\n",
      "Epoch 33\n",
      "-------------------------------\n",
      "Batch: 0, Loss: 0.2219975 [    0/  724]\n",
      "Batch: 2, Loss: 0.1686600 [  256/  724]\n",
      "Batch: 4, Loss: 0.1540336 [  512/  724]\n",
      "Epoch 34\n",
      "-------------------------------\n",
      "Batch: 0, Loss: 0.1377559 [    0/  724]\n",
      "Batch: 2, Loss: 0.1463933 [  256/  724]\n",
      "Batch: 4, Loss: 0.1606449 [  512/  724]\n",
      "Epoch 35\n",
      "-------------------------------\n",
      "Batch: 0, Loss: 0.1238015 [    0/  724]\n",
      "Batch: 2, Loss: 0.1789914 [  256/  724]\n",
      "Batch: 4, Loss: 0.1603546 [  512/  724]\n",
      "Epoch 36\n",
      "-------------------------------\n",
      "Batch: 0, Loss: 0.1174558 [    0/  724]\n",
      "Batch: 2, Loss: 0.1428000 [  256/  724]\n",
      "Batch: 4, Loss: 0.1396579 [  512/  724]\n",
      "Epoch 37\n",
      "-------------------------------\n",
      "Batch: 0, Loss: 0.1704513 [    0/  724]\n",
      "Batch: 2, Loss: 0.1413625 [  256/  724]\n",
      "Batch: 4, Loss: 0.1667399 [  512/  724]\n",
      "Epoch 38\n",
      "-------------------------------\n",
      "Batch: 0, Loss: 0.1043499 [    0/  724]\n",
      "Batch: 2, Loss: 0.1264171 [  256/  724]\n",
      "Batch: 4, Loss: 0.1333448 [  512/  724]\n",
      "Epoch 39\n",
      "-------------------------------\n",
      "Batch: 0, Loss: 0.1468867 [    0/  724]\n",
      "Batch: 2, Loss: 0.1519450 [  256/  724]\n",
      "Batch: 4, Loss: 0.1420504 [  512/  724]\n",
      "Epoch 40\n",
      "-------------------------------\n",
      "Batch: 0, Loss: 0.1594379 [    0/  724]\n",
      "Batch: 2, Loss: 0.1619069 [  256/  724]\n",
      "Batch: 4, Loss: 0.1755495 [  512/  724]\n",
      "Epoch 41\n",
      "-------------------------------\n",
      "Batch: 0, Loss: 0.1132153 [    0/  724]\n",
      "Batch: 2, Loss: 0.1688330 [  256/  724]\n",
      "Batch: 4, Loss: 0.1558589 [  512/  724]\n",
      "Epoch 42\n",
      "-------------------------------\n",
      "Batch: 0, Loss: 0.1297323 [    0/  724]\n",
      "Batch: 2, Loss: 0.1009437 [  256/  724]\n",
      "Batch: 4, Loss: 0.1411465 [  512/  724]\n",
      "Epoch 43\n",
      "-------------------------------\n",
      "Batch: 0, Loss: 0.2063547 [    0/  724]\n",
      "Batch: 2, Loss: 0.1491263 [  256/  724]\n",
      "Batch: 4, Loss: 0.1541739 [  512/  724]\n",
      "Epoch 44\n",
      "-------------------------------\n",
      "Batch: 0, Loss: 0.1267634 [    0/  724]\n",
      "Batch: 2, Loss: 0.1606037 [  256/  724]\n",
      "Batch: 4, Loss: 0.1458925 [  512/  724]\n",
      "Epoch 45\n",
      "-------------------------------\n",
      "Batch: 0, Loss: 0.1613316 [    0/  724]\n",
      "Batch: 2, Loss: 0.1299695 [  256/  724]\n",
      "Batch: 4, Loss: 0.1286250 [  512/  724]\n",
      "Epoch 46\n",
      "-------------------------------\n",
      "Batch: 0, Loss: 0.1321943 [    0/  724]\n",
      "Batch: 2, Loss: 0.1024196 [  256/  724]\n",
      "Batch: 4, Loss: 0.1418208 [  512/  724]\n",
      "Epoch 47\n",
      "-------------------------------\n",
      "Batch: 0, Loss: 0.2340960 [    0/  724]\n",
      "Batch: 2, Loss: 0.1873617 [  256/  724]\n",
      "Batch: 4, Loss: 0.1554851 [  512/  724]\n",
      "Epoch 48\n",
      "-------------------------------\n",
      "Batch: 0, Loss: 0.1259271 [    0/  724]\n",
      "Batch: 2, Loss: 0.1200104 [  256/  724]\n",
      "Batch: 4, Loss: 0.1465287 [  512/  724]\n",
      "Epoch 49\n",
      "-------------------------------\n",
      "Batch: 0, Loss: 0.1261097 [    0/  724]\n",
      "Batch: 2, Loss: 0.1716464 [  256/  724]\n",
      "Batch: 4, Loss: 0.1801181 [  512/  724]\n",
      "Epoch 50\n",
      "-------------------------------\n",
      "Batch: 0, Loss: 0.1616248 [    0/  724]\n",
      "Batch: 2, Loss: 0.2583641 [  256/  724]\n",
      "Batch: 4, Loss: 0.2147830 [  512/  724]\n",
      "Epoch 51\n",
      "-------------------------------\n",
      "Batch: 0, Loss: 0.1850330 [    0/  724]\n",
      "Batch: 2, Loss: 0.1438518 [  256/  724]\n",
      "Batch: 4, Loss: 0.1577203 [  512/  724]\n",
      "Epoch 52\n",
      "-------------------------------\n",
      "Batch: 0, Loss: 0.1650587 [    0/  724]\n",
      "Batch: 2, Loss: 0.1832569 [  256/  724]\n",
      "Batch: 4, Loss: 0.1842218 [  512/  724]\n",
      "Epoch 53\n",
      "-------------------------------\n",
      "Batch: 0, Loss: 0.2365314 [    0/  724]\n",
      "Batch: 2, Loss: 0.1841667 [  256/  724]\n",
      "Batch: 4, Loss: 0.1615054 [  512/  724]\n",
      "Epoch 54\n",
      "-------------------------------\n",
      "Batch: 0, Loss: 0.0591276 [    0/  724]\n",
      "Batch: 2, Loss: 0.1139072 [  256/  724]\n",
      "Batch: 4, Loss: 0.1099926 [  512/  724]\n",
      "Epoch 55\n",
      "-------------------------------\n",
      "Batch: 0, Loss: 0.1061593 [    0/  724]\n",
      "Batch: 2, Loss: 0.1202604 [  256/  724]\n",
      "Batch: 4, Loss: 0.1282569 [  512/  724]\n",
      "Epoch 56\n",
      "-------------------------------\n",
      "Batch: 0, Loss: 0.1082558 [    0/  724]\n",
      "Batch: 2, Loss: 0.1165062 [  256/  724]\n",
      "Batch: 4, Loss: 0.1170231 [  512/  724]\n",
      "Epoch 57\n",
      "-------------------------------\n",
      "Batch: 0, Loss: 0.1370519 [    0/  724]\n",
      "Batch: 2, Loss: 0.1132071 [  256/  724]\n",
      "Batch: 4, Loss: 0.1007815 [  512/  724]\n",
      "Epoch 58\n",
      "-------------------------------\n",
      "Batch: 0, Loss: 0.0988947 [    0/  724]\n",
      "Batch: 2, Loss: 0.1380959 [  256/  724]\n",
      "Batch: 4, Loss: 0.1233735 [  512/  724]\n",
      "Epoch 59\n",
      "-------------------------------\n",
      "Batch: 0, Loss: 0.1360400 [    0/  724]\n",
      "Batch: 2, Loss: 0.1016080 [  256/  724]\n",
      "Batch: 4, Loss: 0.1318314 [  512/  724]\n",
      "Epoch 60\n",
      "-------------------------------\n",
      "Batch: 0, Loss: 0.0634132 [    0/  724]\n",
      "Batch: 2, Loss: 0.0911678 [  256/  724]\n",
      "Batch: 4, Loss: 0.0914456 [  512/  724]\n",
      "Done!\n"
     ]
    }
   ],
   "source": [
    "epochs = 60\n",
    "for t in range(epochs):\n",
    "  print(f\"Epoch {t+1}\\n-------------------------------\")\n",
    "  model = ccmlp.train(train_loader, model, loss_function, optimizer, classifier_flag=True, num_classes=len(labels))\n",
    "print(\"Done!\")"
   ]
  },
  {
   "cell_type": "markdown",
   "metadata": {
    "id": "J6NPVmuG-XAl"
   },
   "source": [
    "- Evaluate the classifier model"
   ]
  },
  {
   "cell_type": "code",
   "execution_count": 104,
   "metadata": {
    "colab": {
     "base_uri": "https://localhost:8080/"
    },
    "id": "pBK3K-85XAw8",
    "outputId": "5a627ab7-0a73-4e4a-f99b-d58a72516fa9"
   },
   "outputs": [
    {
     "name": "stdout",
     "output_type": "stream",
     "text": [
      "Predicting value for CC(C)n1c(CC[C@@H](O)C[C@@H](O)CC([O-])=O)c(c(c1C(=O)NCc1ccc(cc1)C#N)-c1ccccc1)-c1ccc(F)cc1\n",
      "Prediction: tensor([[-6.7828e-05, -9.5988e+00, -2.2379e+01]])\n",
      "Prediction: 0\n",
      "Truth: 0\n"
     ]
    },
    {
     "name": "stderr",
     "output_type": "stream",
     "text": [
      "/usr/local/lib/python3.12/dist-packages/torch/nn/modules/module.py:1773: UserWarning: Implicit dimension choice for log_softmax has been deprecated. Change the call to include dim=X as an argument.\n",
      "  return self._call_impl(*args, **kwargs)\n"
     ]
    }
   ],
   "source": [
    "which = 1\n",
    "targets = class_df['target'].to_list()\n",
    "prediction = ccmlp.predict_single_value(Xax[which], model, \"rdkit\", scaler)\n",
    "pred = np.argmax(prediction)\n",
    "print(f\"Prediction: {pred}\")\n",
    "print(f\"Truth: {targets[which]}\")"
   ]
  },
  {
   "cell_type": "code",
   "execution_count": 105,
   "metadata": {
    "id": "Y4mRV5s1m6Vs"
   },
   "outputs": [],
   "source": [
    "stat_eval = ccmlp.evaluate_class(model, labels, test_dataset )"
   ]
  },
  {
   "cell_type": "code",
   "execution_count": 106,
   "metadata": {
    "colab": {
     "base_uri": "https://localhost:8080/",
     "height": 619
    },
    "id": "WVdcPDmanOFX",
    "outputId": "22f50945-9b89-4d73-bbc1-581d86bd9604"
   },
   "outputs": [
    {
     "name": "stderr",
     "output_type": "stream",
     "text": [
      "/content/CafChem/CafChemMLPPyTorch.py:62: UserWarning: To copy construct from a tensor, it is recommended to use sourceTensor.detach().clone() or sourceTensor.detach().clone().requires_grad_(True), rather than torch.tensor(sourceTensor).\n",
      "  temp_tensor = torch.tensor(self.test_values, dtype=torch.float32)\n"
     ]
    },
    {
     "data": {
      "image/png": "[encoded data removed]",
      "text/plain": [
       "<Figure size 600x600 with 1 Axes>"
      ]
     },
     "metadata": {},
     "output_type": "display_data"
    }
   ],
   "source": [
    "stat_eval.confusion()"
   ]
  },
  {
   "cell_type": "code",
   "execution_count": 67,
   "metadata": {
    "id": "o4m9TvaHfg7E"
   },
   "outputs": [],
   "source": []
  },
  {
   "cell_type": "code",
   "execution_count": null,
   "metadata": {
    "id": "6p_AqZJTm5or"
   },
   "outputs": [],
   "source": []
  }
 ],
 "metadata": {
  "colab": {
   "collapsed_sections": [
    "eDYzKIJPlbLv",
    "LQNorGYSlX1K",
    "yA5GL1Rhlk__",
    "puXcdS-Qlvu7",
    "AF6as-Til5w4",
    "6st4xUJlmJVa",
    "J35G_qU72fFc",
    "P0ZZ1qre2hFw"
   ],
   "provenance": []
  },
  "kernelspec": {
   "display_name": "Python 3",
   "language": "python",
   "name": "python3"
  },
  "language_info": {
   "codemirror_mode": {
    "name": "ipython",
    "version": 3
   },
   "file_extension": ".py",
   "mimetype": "text/x-python",
   "name": "python",
   "nbconvert_exporter": "python",
   "pygments_lexer": "ipython3",
   "version": "3.8.8"
  }
 },
 "nbformat": 4,
 "nbformat_minor": 1
}
