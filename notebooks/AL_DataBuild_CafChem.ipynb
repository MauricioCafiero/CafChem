{
  "metadata": {
    "kernelspec": {
      "display_name": "Python 3",
      "name": "python3"
    },
    "language_info": {
      "name": "python",
      "version": "3.11.13",
      "mimetype": "text/x-python",
      "codemirror_mode": {
        "name": "ipython",
        "version": 3
      },
      "pygments_lexer": "ipython3",
      "nbconvert_exporter": "python",
      "file_extension": ".py"
    },
    "colab": {
      "provenance": []
    },
    "kaggle": {
      "accelerator": "none",
      "dataSources": [
        {
          "sourceId": 13054781,
          "sourceType": "datasetVersion",
          "datasetId": 8266836
        }
      ],
      "dockerImageVersionId": 31089,
      "isInternetEnabled": true,
      "language": "python",
      "sourceType": "notebook",
      "isGpuEnabled": false
    }
  },
  "nbformat_minor": 0,
  "nbformat": 4,
  "cells": [
    {
      "cell_type": "markdown",
      "source": [
        "#CafChem Active Learning dataset builder: find the minimal dataset to train a model to a specified threshold of accuracy.\n",
        "\n",
        "[![Open In Colab](https://colab.research.google.com/assets/colab-badge.svg)](https://colab.research.google.com/github/MauricioCafiero/CafChem/blob/main/notebooks/AL_DataBuild_CafChem.ipynb)\n",
        "\n",
        "## This notebook allows you to:\n",
        "- Read in a dataset, featurize with RDKit, and split into training and validation sets\n",
        "- Start an Active learner using a Gaussian Processes regressor\n",
        "- initiate the learner, and then loop through it until a desired threshold is reached for the R2 value of the validation set.\n",
        "- Save the total training set to a new CSV, view the training R2 value.\n",
        "\n",
        "## Requirements:\n",
        "- CPU, will run on your anaconda notebook or Colab or Kaggle."
      ],
      "metadata": {
        "id": "uhxIWD8-WWa6"
      }
    },
    {
      "cell_type": "markdown",
      "source": [
        "## Set-up"
      ],
      "metadata": {
        "id": "QFnXoZ5KCwDD"
      }
    },
    {
      "cell_type": "code",
      "source": [
        "!pip install rdkit\n",
        "!pip install git+https://github.com/modAL-python/modAL.git"
      ],
      "metadata": {
        "trusted": true,
        "id": "KHgOJCLpCwDE",
        "outputId": "a48ec15c-48f4-464d-cd54-ed4e871e4932",
        "colab": {
          "base_uri": "https://localhost:8080/"
        }
      },
      "outputs": [
        {
          "output_type": "stream",
          "name": "stdout",
          "text": [
            "Collecting rdkit\n",
            "  Downloading rdkit-2025.3.6-cp312-cp312-manylinux_2_28_x86_64.whl.metadata (4.1 kB)\n",
            "Requirement already satisfied: numpy in /usr/local/lib/python3.12/dist-packages (from rdkit) (2.0.2)\n",
            "Requirement already satisfied: Pillow in /usr/local/lib/python3.12/dist-packages (from rdkit) (11.3.0)\n",
            "Downloading rdkit-2025.3.6-cp312-cp312-manylinux_2_28_x86_64.whl (36.1 MB)\n",
            "\u001b[2K   \u001b[90m━━━━━━━━━━━━━━━━━━━━━━━━━━━━━━━━━━━━━━━━\u001b[0m \u001b[32m36.1/36.1 MB\u001b[0m \u001b[31m50.9 MB/s\u001b[0m eta \u001b[36m0:00:00\u001b[0m\n",
            "\u001b[?25hInstalling collected packages: rdkit\n",
            "Successfully installed rdkit-2025.3.6\n",
            "Collecting git+https://github.com/modAL-python/modAL.git\n",
            "  Cloning https://github.com/modAL-python/modAL.git to /tmp/pip-req-build-f127xygx\n",
            "  Running command git clone --filter=blob:none --quiet https://github.com/modAL-python/modAL.git /tmp/pip-req-build-f127xygx\n",
            "  Resolved https://github.com/modAL-python/modAL.git to commit bba6f6fd00dbb862b1e09259b78caf6cffa2e755\n",
            "  Preparing metadata (setup.py) ... \u001b[?25l\u001b[?25hdone\n",
            "Requirement already satisfied: numpy in /usr/local/lib/python3.12/dist-packages (from modAL-python==0.4.2) (2.0.2)\n",
            "Requirement already satisfied: scikit-learn>=0.18 in /usr/local/lib/python3.12/dist-packages (from modAL-python==0.4.2) (1.6.1)\n",
            "Requirement already satisfied: scipy>=0.18 in /usr/local/lib/python3.12/dist-packages (from modAL-python==0.4.2) (1.16.1)\n",
            "Requirement already satisfied: pandas>=1.1.0 in /usr/local/lib/python3.12/dist-packages (from modAL-python==0.4.2) (2.2.2)\n",
            "Collecting skorch==0.9.0 (from modAL-python==0.4.2)\n",
            "  Downloading skorch-0.9.0-py3-none-any.whl.metadata (8.3 kB)\n",
            "Requirement already satisfied: tabulate>=0.7.7 in /usr/local/lib/python3.12/dist-packages (from skorch==0.9.0->modAL-python==0.4.2) (0.9.0)\n",
            "Requirement already satisfied: tqdm>=4.14.0 in /usr/local/lib/python3.12/dist-packages (from skorch==0.9.0->modAL-python==0.4.2) (4.67.1)\n",
            "Requirement already satisfied: python-dateutil>=2.8.2 in /usr/local/lib/python3.12/dist-packages (from pandas>=1.1.0->modAL-python==0.4.2) (2.9.0.post0)\n",
            "Requirement already satisfied: pytz>=2020.1 in /usr/local/lib/python3.12/dist-packages (from pandas>=1.1.0->modAL-python==0.4.2) (2025.2)\n",
            "Requirement already satisfied: tzdata>=2022.7 in /usr/local/lib/python3.12/dist-packages (from pandas>=1.1.0->modAL-python==0.4.2) (2025.2)\n",
            "Requirement already satisfied: joblib>=1.2.0 in /usr/local/lib/python3.12/dist-packages (from scikit-learn>=0.18->modAL-python==0.4.2) (1.5.2)\n",
            "Requirement already satisfied: threadpoolctl>=3.1.0 in /usr/local/lib/python3.12/dist-packages (from scikit-learn>=0.18->modAL-python==0.4.2) (3.6.0)\n",
            "Requirement already satisfied: six>=1.5 in /usr/local/lib/python3.12/dist-packages (from python-dateutil>=2.8.2->pandas>=1.1.0->modAL-python==0.4.2) (1.17.0)\n",
            "Downloading skorch-0.9.0-py3-none-any.whl (125 kB)\n",
            "\u001b[2K   \u001b[90m━━━━━━━━━━━━━━━━━━━━━━━━━━━━━━━━━━━━━━━━\u001b[0m \u001b[32m125.8/125.8 kB\u001b[0m \u001b[31m3.8 MB/s\u001b[0m eta \u001b[36m0:00:00\u001b[0m\n",
            "\u001b[?25hBuilding wheels for collected packages: modAL-python\n",
            "  Building wheel for modAL-python (setup.py) ... \u001b[?25l\u001b[?25hdone\n",
            "  Created wheel for modAL-python: filename=modAL_python-0.4.2-py3-none-any.whl size=32646 sha256=ab2d6cae75dcab2effdbde4457e8a3e315acf0978345c4fb1f4171c68cc9e2c2\n",
            "  Stored in directory: /tmp/pip-ephem-wheel-cache-pchgpnrw/wheels/5a/f4/3d/82862c8f8da3e309feceabed046d87b2cd414bf11515b9061c\n",
            "Successfully built modAL-python\n",
            "Installing collected packages: skorch, modAL-python\n",
            "Successfully installed modAL-python-0.4.2 skorch-0.9.0\n"
          ]
        }
      ],
      "execution_count": null
    },
    {
      "cell_type": "code",
      "source": [
        "!git clone https://github.com/MauricioCafiero/CafChem.git"
      ],
      "metadata": {
        "trusted": true,
        "execution": {
          "iopub.status.busy": "2025-09-15T19:52:59.93433Z",
          "iopub.execute_input": "2025-09-15T19:52:59.936133Z",
          "iopub.status.idle": "2025-09-15T19:53:04.062133Z",
          "shell.execute_reply.started": "2025-09-15T19:52:59.936057Z",
          "shell.execute_reply": "2025-09-15T19:53:04.060677Z"
        },
        "id": "IWnETrzkCwDE",
        "outputId": "c189bbf4-0d29-40aa-a3d5-21fadbb3f797",
        "colab": {
          "base_uri": "https://localhost:8080/"
        }
      },
      "outputs": [
        {
          "output_type": "stream",
          "name": "stdout",
          "text": [
            "Cloning into 'CafChem'...\n",
            "remote: Enumerating objects: 933, done.\u001b[K\n",
            "remote: Counting objects: 100% (212/212), done.\u001b[K\n",
            "remote: Compressing objects: 100% (154/154), done.\u001b[K\n",
            "remote: Total 933 (delta 163), reused 58 (delta 58), pack-reused 721 (from 3)\u001b[K\n",
            "Receiving objects: 100% (933/933), 45.15 MiB | 28.75 MiB/s, done.\n",
            "Resolving deltas: 100% (537/537), done.\n"
          ]
        }
      ],
      "execution_count": null
    },
    {
      "cell_type": "code",
      "source": [
        "import matplotlib.pyplot as plt\n",
        "\n",
        "import numpy as np\n",
        "import pandas as pd\n",
        "import time\n",
        "import pickle as pkl\n",
        "from rdkit import Chem\n",
        "from rdkit.Chem import AllChem, Draw, Descriptors\n",
        "from sklearn.ensemble import RandomForestRegressor\n",
        "from sklearn.metrics import mean_squared_error, r2_score\n",
        "\n",
        "%env PYTHONWARNINGS=IGNORE::FutureWarning:sklearn\n",
        "\n",
        "import CafChem.CafChemALDataBuild as ccal"
      ],
      "metadata": {
        "trusted": true,
        "execution": {
          "iopub.status.busy": "2025-09-15T19:53:37.772658Z",
          "iopub.execute_input": "2025-09-15T19:53:37.773119Z",
          "iopub.status.idle": "2025-09-15T19:53:42.897617Z",
          "shell.execute_reply.started": "2025-09-15T19:53:37.773059Z",
          "shell.execute_reply": "2025-09-15T19:53:42.896329Z"
        },
        "id": "E8sWgx0JCwDF",
        "outputId": "161f43a6-5e48-4262-89e3-7e4a2775f5c8",
        "colab": {
          "base_uri": "https://localhost:8080/"
        }
      },
      "outputs": [
        {
          "output_type": "stream",
          "name": "stdout",
          "text": [
            "env: PYTHONWARNINGS=IGNORE::FutureWarning:sklearn\n"
          ]
        }
      ],
      "execution_count": null
    },
    {
      "cell_type": "markdown",
      "source": [
        "## Build dataset with active learning\n",
        "- Input is the CSV file location and the name of the target column\n",
        "- Can specify to apply log transformation to the target values\n",
        "- If R2 values are decreasing, restart with a different random seed"
      ],
      "metadata": {
        "id": "pB8nquv0CwDF"
      }
    },
    {
      "cell_type": "code",
      "source": [
        "maob_AL = ccal.build_data('/content/maobIC50_clean_FINAL.csv', 'IC50', True,\n",
        "                     0.8, 0.4, 0.10,random_seed=42)\n",
        "maob_AL.process_initial_data()"
      ],
      "metadata": {
        "trusted": true,
        "execution": {
          "iopub.status.busy": "2025-09-15T20:01:36.828434Z",
          "iopub.execute_input": "2025-09-15T20:01:36.828918Z",
          "iopub.status.idle": "2025-09-15T20:01:49.302935Z",
          "shell.execute_reply.started": "2025-09-15T20:01:36.828886Z",
          "shell.execute_reply": "2025-09-15T20:01:49.301835Z"
        },
        "id": "MGB_T4uXCwDF",
        "outputId": "548a9ee8-88f5-4cdd-cf43-2c483e3b0f6e",
        "colab": {
          "base_uri": "https://localhost:8080/"
        }
      },
      "outputs": [
        {
          "output_type": "stream",
          "name": "stdout",
          "text": [
            "Total number of molecules: 950\n",
            "Total number of descriptors per molecule: 217\n",
            "Data scaled\n",
            "Shape of X: (950, 217)\n",
            "Shape of y: (950,)\n",
            "Data split!\n",
            "Length of training set: 760\n",
            "Length of initial learning set: 304\n"
          ]
        }
      ],
      "execution_count": null
    },
    {
      "cell_type": "code",
      "source": [
        "maob_AL.make_learner()\n",
        "maob_AL.learning_loop()"
      ],
      "metadata": {
        "trusted": true,
        "execution": {
          "iopub.status.busy": "2025-09-15T20:01:51.809166Z",
          "iopub.execute_input": "2025-09-15T20:01:51.809637Z",
          "iopub.status.idle": "2025-09-15T20:03:58.117118Z",
          "shell.execute_reply.started": "2025-09-15T20:01:51.809593Z",
          "shell.execute_reply": "2025-09-15T20:03:58.114856Z"
        },
        "id": "WBrdOI4dCwDG",
        "outputId": "a9ab9257-25d5-4dc5-9a61-85d4989bd997",
        "colab": {
          "base_uri": "https://localhost:8080/",
          "height": 1000
        }
      },
      "outputs": [
        {
          "output_type": "stream",
          "name": "stdout",
          "text": [
            "Active Learner initiated!\n",
            "initial data holders set!\n"
          ]
        },
        {
          "output_type": "stream",
          "name": "stderr",
          "text": [
            "/usr/local/lib/python3.12/dist-packages/sklearn/utils/deprecation.py:151: FutureWarning: 'force_all_finite' was renamed to 'ensure_all_finite' in 1.6 and will be removed in 1.8.\n",
            "  warnings.warn(\n"
          ]
        },
        {
          "output_type": "stream",
          "name": "stdout",
          "text": [
            "completed step 0\n"
          ]
        },
        {
          "output_type": "stream",
          "name": "stdout",
          "text": [
            "completed step 5\n"
          ]
        },
        
        {
          "output_type": "stream",
          "name": "stdout",
          "text": [
            "completed step 10\n"
          ]
        },
       
        {
          "output_type": "stream",
          "name": "stdout",
          "text": [
            "completed step 15\n"
          ]
        },
        
        {
          "output_type": "stream",
          "name": "stdout",
          "text": [
            "completed step 20\n"
          ]
        },
        
        {
          "output_type": "stream",
          "name": "stdout",
          "text": [
            "completed step 25\n"
          ]
        },
        
        {
          "output_type": "stream",
          "name": "stdout",
          "text": [
            "completed step 30\n"
          ]
        },
        
        {
          "output_type": "stream",
          "name": "stdout",
          "text": [
            "completed step 35\n"
          ]
        },
        
        {
          "output_type": "stream",
          "name": "stdout",
          "text": [
            "completed step 40\n"
          ]
        },
        
        {
          "output_type": "stream",
          "name": "stdout",
          "text": [
            "Active learning with 45 datapoints complete\n",
            "Total of 45 added to previous 304 data points\n",
            "============================================\n",
            "MAE:               0.129\n",
            "Current Validation set R2 score =      0.388\n",
            "Current training set R2 score: 0.498\n",
            "============================================\n",
            "R2 score history:\n",
            "Train Score =   0.498, Val score =   0.388, Val MAE =   0.129, total datapoints =     349\n",
            "============================================\n"
          ]
        },
        {
          "output_type": "stream",
          "name": "stderr",
          "text": [
            "/usr/local/lib/python3.12/dist-packages/sklearn/utils/deprecation.py:151: FutureWarning: 'force_all_finite' was renamed to 'ensure_all_finite' in 1.6 and will be removed in 1.8.\n",
            "  warnings.warn(\n"
          ]
        },
        {
          "output_type": "stream",
          "name": "stdout",
          "text": [
            "completed step 0\n"
          ]
        },
        
        {
          "output_type": "stream",
          "name": "stdout",
          "text": [
            "completed step 5\n"
          ]
        },
        
        {
          "output_type": "stream",
          "name": "stdout",
          "text": [
            "completed step 10\n"
          ]
        },
        
        {
          "output_type": "stream",
          "name": "stdout",
          "text": [
            "completed step 15\n"
          ]
        },
        
        {
          "output_type": "stream",
          "name": "stdout",
          "text": [
            "completed step 20\n"
          ]
        },
       
        {
          "output_type": "stream",
          "name": "stdout",
          "text": [
            "completed step 25\n"
          ]
        },
       
        {
          "output_type": "stream",
          "name": "stdout",
          "text": [
            "completed step 30\n"
          ]
        },
       
        {
          "output_type": "stream",
          "name": "stdout",
          "text": [
            "completed step 35\n"
          ]
        },
        
        {
          "output_type": "stream",
          "name": "stdout",
          "text": [
            "completed step 40\n"
          ]
        },
       
        {
          "output_type": "stream",
          "name": "stdout",
          "text": [
            "Active learning with 45 datapoints complete\n",
            "Total of 45 added to previous 349 data points\n",
            "============================================\n",
            "MAE:               0.153\n",
            "Current Validation set R2 score =      0.414\n",
            "Current training set R2 score: 0.511\n",
            "============================================\n",
            "R2 score history:\n",
            "Train Score =   0.498, Val score =   0.388, Val MAE =   0.129, total datapoints =     349\n",
            "Train Score =   0.511, Val score =   0.414, Val MAE =   0.153, total datapoints =     394\n",
            "============================================\n"
          ]
        },
        {
          "output_type": "stream",
          "name": "stderr",
          "text": [
            "/usr/local/lib/python3.12/dist-packages/sklearn/utils/deprecation.py:151: FutureWarning: 'force_all_finite' was renamed to 'ensure_all_finite' in 1.6 and will be removed in 1.8.\n",
            "  warnings.warn(\n"
          ]
        },
        {
          "output_type": "stream",
          "name": "stdout",
          "text": [
            "completed step 0\n"
          ]
        },
        
        {
          "output_type": "stream",
          "name": "stdout",
          "text": [
            "completed step 5\n"
          ]
        },
        
        {
          "output_type": "stream",
          "name": "stdout",
          "text": [
            "completed step 10\n"
          ]
        },
       
        {
          "output_type": "stream",
          "name": "stdout",
          "text": [
            "completed step 15\n"
          ]
        },
        
        {
          "output_type": "stream",
          "name": "stdout",
          "text": [
            "completed step 20\n"
          ]
        },
       
        {
          "output_type": "stream",
          "name": "stdout",
          "text": [
            "completed step 25\n"
          ]
        },
        
        {
          "output_type": "stream",
          "name": "stdout",
          "text": [
            "completed step 30\n"
          ]
        },
        
        {
          "output_type": "stream",
          "name": "stdout",
          "text": [
            "completed step 35\n"
          ]
        },
        
        {
          "output_type": "stream",
          "name": "stdout",
          "text": [
            "completed step 40\n"
          ]
        },
        
        {
          "output_type": "stream",
          "name": "stdout",
          "text": [
            "Active learning with 45 datapoints complete\n",
            "Total of 45 added to previous 394 data points\n",
            "============================================\n",
            "MAE:               0.138\n",
            "Current Validation set R2 score =      0.451\n",
            "Current training set R2 score: 0.557\n",
            "============================================\n",
            "R2 score history:\n",
            "Train Score =   0.498, Val score =   0.388, Val MAE =   0.129, total datapoints =     349\n",
            "Train Score =   0.511, Val score =   0.414, Val MAE =   0.153, total datapoints =     394\n",
            "Train Score =   0.557, Val score =   0.451, Val MAE =   0.138, total datapoints =     439\n",
            "============================================\n"
          ]
        },
        {
          "output_type": "stream",
          "name": "stderr",
          "text": [
            "/usr/local/lib/python3.12/dist-packages/sklearn/utils/deprecation.py:151: FutureWarning: 'force_all_finite' was renamed to 'ensure_all_finite' in 1.6 and will be removed in 1.8.\n",
            "  warnings.warn(\n"
          ]
        },
        {
          "output_type": "stream",
          "name": "stdout",
          "text": [
            "completed step 0\n"
          ]
        },
        
        {
          "output_type": "stream",
          "name": "stdout",
          "text": [
            "completed step 5\n"
          ]
        },
        
        {
          "output_type": "stream",
          "name": "stdout",
          "text": [
            "completed step 10\n"
          ]
        },
        
        {
          "output_type": "stream",
          "name": "stdout",
          "text": [
            "completed step 15\n"
          ]
        },
        
        {
          "output_type": "stream",
          "name": "stdout",
          "text": [
            "completed step 20\n"
          ]
        },
        
        {
          "output_type": "stream",
          "name": "stdout",
          "text": [
            "completed step 25\n"
          ]
        },
        
        {
          "output_type": "stream",
          "name": "stdout",
          "text": [
            "completed step 30\n"
          ]
        },
        
        {
          "output_type": "stream",
          "name": "stdout",
          "text": [
            "completed step 35\n"
          ]
        },
        
        {
          "output_type": "stream",
          "name": "stdout",
          "text": [
            "completed step 40\n"
          ]
        },
        
        {
          "output_type": "stream",
          "name": "stdout",
          "text": [
            "Active learning with 45 datapoints complete\n",
            "Total of 45 added to previous 439 data points\n",
            "============================================\n",
            "MAE:               0.157\n",
            "Current Validation set R2 score =      0.461\n",
            "Current training set R2 score: 0.559\n",
            "============================================\n",
            "R2 score history:\n",
            "Train Score =   0.498, Val score =   0.388, Val MAE =   0.129, total datapoints =     349\n",
            "Train Score =   0.511, Val score =   0.414, Val MAE =   0.153, total datapoints =     394\n",
            "Train Score =   0.557, Val score =   0.451, Val MAE =   0.138, total datapoints =     439\n",
            "Train Score =   0.559, Val score =   0.461, Val MAE =   0.157, total datapoints =     484\n",
            "============================================\n"
          ]
        },
        {
          "output_type": "stream",
          "name": "stderr",
          "text": [
            "/usr/local/lib/python3.12/dist-packages/sklearn/utils/deprecation.py:151: FutureWarning: 'force_all_finite' was renamed to 'ensure_all_finite' in 1.6 and will be removed in 1.8.\n",
            "  warnings.warn(\n"
          ]
        },
        {
          "output_type": "stream",
          "name": "stdout",
          "text": [
            "completed step 0\n"
          ]
        },
        
        {
          "output_type": "stream",
          "name": "stdout",
          "text": [
            "completed step 5\n"
          ]
        },
       
        {
          "output_type": "stream",
          "name": "stdout",
          "text": [
            "completed step 10\n"
          ]
        },
       
        {
          "output_type": "stream",
          "name": "stdout",
          "text": [
            "completed step 15\n"
          ]
        },
        
        {
          "output_type": "stream",
          "name": "stdout",
          "text": [
            "completed step 20\n"
          ]
        },
        
        {
          "output_type": "stream",
          "name": "stdout",
          "text": [
            "completed step 25\n"
          ]
        },
        
        {
          "output_type": "stream",
          "name": "stdout",
          "text": [
            "completed step 30\n"
          ]
        },
        
        {
          "output_type": "stream",
          "name": "stdout",
          "text": [
            "completed step 35\n"
          ]
        },
        
        {
          "output_type": "stream",
          "name": "stdout",
          "text": [
            "completed step 40\n"
          ]
        },
        
        {
          "output_type": "stream",
          "name": "stdout",
          "text": [
            "Active learning with 45 datapoints complete\n",
            "Total of 45 added to previous 484 data points\n",
            "============================================\n",
            "MAE:               0.144\n",
            "Current Validation set R2 score =      0.497\n",
            "Current training set R2 score: 0.578\n",
            "============================================\n",
            "R2 score history:\n",
            "Train Score =   0.498, Val score =   0.388, Val MAE =   0.129, total datapoints =     349\n",
            "Train Score =   0.511, Val score =   0.414, Val MAE =   0.153, total datapoints =     394\n",
            "Train Score =   0.557, Val score =   0.451, Val MAE =   0.138, total datapoints =     439\n",
            "Train Score =   0.559, Val score =   0.461, Val MAE =   0.157, total datapoints =     484\n",
            "Train Score =   0.578, Val score =   0.497, Val MAE =   0.144, total datapoints =     529\n",
            "============================================\n"
          ]
        },
        {
          "output_type": "stream",
          "name": "stderr",
          "text": [
            "/usr/local/lib/python3.12/dist-packages/sklearn/utils/deprecation.py:151: FutureWarning: 'force_all_finite' was renamed to 'ensure_all_finite' in 1.6 and will be removed in 1.8.\n",
            "  warnings.warn(\n"
          ]
        },
        {
          "output_type": "stream",
          "name": "stdout",
          "text": [
            "completed step 0\n"
          ]
        },
        
        {
          "output_type": "stream",
          "name": "stdout",
          "text": [
            "completed step 5\n"
          ]
        },
        
        {
          "output_type": "stream",
          "name": "stdout",
          "text": [
            "completed step 10\n"
          ]
        },
       
        {
          "output_type": "stream",
          "name": "stdout",
          "text": [
            "completed step 15\n"
          ]
        },
        
        {
          "output_type": "stream",
          "name": "stdout",
          "text": [
            "completed step 20\n"
          ]
        },
        
        {
          "output_type": "stream",
          "name": "stdout",
          "text": [
            "completed step 25\n"
          ]
        },
       
        {
          "output_type": "stream",
          "name": "stdout",
          "text": [
            "completed step 30\n"
          ]
        },
       
        {
          "output_type": "stream",
          "name": "stdout",
          "text": [
            "completed step 35\n"
          ]
        },
        
        {
          "output_type": "stream",
          "name": "stdout",
          "text": [
            "completed step 40\n"
          ]
        },
       
        {
          "output_type": "stream",
          "name": "stdout",
          "text": [
            "Active learning with 45 datapoints complete\n",
            "Total of 45 added to previous 529 data points\n",
            "============================================\n",
            "MAE:               0.122\n",
            "Current Validation set R2 score =      0.523\n",
            "Current training set R2 score: 0.586\n",
            "============================================\n",
            "R2 score history:\n",
            "Train Score =   0.498, Val score =   0.388, Val MAE =   0.129, total datapoints =     349\n",
            "Train Score =   0.511, Val score =   0.414, Val MAE =   0.153, total datapoints =     394\n",
            "Train Score =   0.557, Val score =   0.451, Val MAE =   0.138, total datapoints =     439\n",
            "Train Score =   0.559, Val score =   0.461, Val MAE =   0.157, total datapoints =     484\n",
            "Train Score =   0.578, Val score =   0.497, Val MAE =   0.144, total datapoints =     529\n",
            "Train Score =   0.586, Val score =   0.523, Val MAE =   0.122, total datapoints =     574\n",
            "============================================\n"
          ]
        },
        {
          "output_type": "stream",
          "name": "stderr",
          "text": [
            "/usr/local/lib/python3.12/dist-packages/sklearn/utils/deprecation.py:151: FutureWarning: 'force_all_finite' was renamed to 'ensure_all_finite' in 1.6 and will be removed in 1.8.\n",
            "  warnings.warn(\n"
          ]
        },
        {
          "output_type": "stream",
          "name": "stdout",
          "text": [
            "completed step 0\n"
          ]
        },
        
        {
          "output_type": "stream",
          "name": "stdout",
          "text": [
            "completed step 5\n"
          ]
        },
       
        {
          "output_type": "stream",
          "name": "stdout",
          "text": [
            "completed step 10\n"
          ]
        },
       
        {
          "output_type": "stream",
          "name": "stdout",
          "text": [
            "completed step 15\n"
          ]
        },
       
        {
          "output_type": "stream",
          "name": "stdout",
          "text": [
            "completed step 20\n"
          ]
        },
       
        {
          "output_type": "stream",
          "name": "stdout",
          "text": [
            "completed step 25\n"
          ]
        },
       
        {
          "output_type": "stream",
          "name": "stdout",
          "text": [
            "completed step 30\n"
          ]
        },
       
        {
          "output_type": "stream",
          "name": "stdout",
          "text": [
            "completed step 35\n"
          ]
        },
       
        {
          "output_type": "stream",
          "name": "stdout",
          "text": [
            "completed step 40\n"
          ]
        },
        
        {
          "output_type": "stream",
          "name": "stdout",
          "text": [
            "Active learning with 45 datapoints complete\n",
            "Total of 45 added to previous 574 data points\n",
            "============================================\n",
            "MAE:               0.071\n",
            "Current Validation set R2 score =      0.558\n",
            "Current training set R2 score: 0.621\n",
            "============================================\n",
            "R2 score history:\n",
            "Train Score =   0.498, Val score =   0.388, Val MAE =   0.129, total datapoints =     349\n",
            "Train Score =   0.511, Val score =   0.414, Val MAE =   0.153, total datapoints =     394\n",
            "Train Score =   0.557, Val score =   0.451, Val MAE =   0.138, total datapoints =     439\n",
            "Train Score =   0.559, Val score =   0.461, Val MAE =   0.157, total datapoints =     484\n",
            "Train Score =   0.578, Val score =   0.497, Val MAE =   0.144, total datapoints =     529\n",
            "Train Score =   0.586, Val score =   0.523, Val MAE =   0.122, total datapoints =     574\n",
            "Train Score =   0.621, Val score =   0.558, Val MAE =   0.071, total datapoints =     619\n",
            "============================================\n"
          ]
        },
        {
          "output_type": "stream",
          "name": "stderr",
          "text": [
            "/usr/local/lib/python3.12/dist-packages/sklearn/utils/deprecation.py:151: FutureWarning: 'force_all_finite' was renamed to 'ensure_all_finite' in 1.6 and will be removed in 1.8.\n",
            "  warnings.warn(\n"
          ]
        },
        {
          "output_type": "stream",
          "name": "stdout",
          "text": [
            "completed step 0\n"
          ]
        },
       
        {
          "output_type": "stream",
          "name": "stdout",
          "text": [
            "completed step 5\n"
          ]
        },
        
        {
          "output_type": "stream",
          "name": "stdout",
          "text": [
            "completed step 10\n"
          ]
        },
       
        {
          "output_type": "stream",
          "name": "stdout",
          "text": [
            "completed step 15\n"
          ]
        },
       
        {
          "output_type": "stream",
          "name": "stdout",
          "text": [
            "completed step 20\n"
          ]
        },
        
        {
          "output_type": "stream",
          "name": "stdout",
          "text": [
            "completed step 25\n"
          ]
        },
       
        {
          "output_type": "stream",
          "name": "stdout",
          "text": [
            "completed step 30\n"
          ]
        },
        
        {
          "output_type": "stream",
          "name": "stdout",
          "text": [
            "completed step 35\n"
          ]
        },
       
        {
          "output_type": "stream",
          "name": "stdout",
          "text": [
            "completed step 40\n"
          ]
        },
        
        {
          "output_type": "stream",
          "name": "stdout",
          "text": [
            "Active learning with 45 datapoints complete\n",
            "Total of 45 added to previous 619 data points\n",
            "============================================\n",
            "MAE:               0.038\n",
            "Current Validation set R2 score =      0.579\n",
            "Current training set R2 score: 0.656\n",
            "============================================\n",
            "R2 score history:\n",
            "Train Score =   0.498, Val score =   0.388, Val MAE =   0.129, total datapoints =     349\n",
            "Train Score =   0.511, Val score =   0.414, Val MAE =   0.153, total datapoints =     394\n",
            "Train Score =   0.557, Val score =   0.451, Val MAE =   0.138, total datapoints =     439\n",
            "Train Score =   0.559, Val score =   0.461, Val MAE =   0.157, total datapoints =     484\n",
            "Train Score =   0.578, Val score =   0.497, Val MAE =   0.144, total datapoints =     529\n",
            "Train Score =   0.586, Val score =   0.523, Val MAE =   0.122, total datapoints =     574\n",
            "Train Score =   0.621, Val score =   0.558, Val MAE =   0.071, total datapoints =     619\n",
            "Train Score =   0.656, Val score =   0.579, Val MAE =   0.038, total datapoints =     664\n",
            "============================================\n"
          ]
        },
        {
          "output_type": "stream",
          "name": "stderr",
          "text": [
            "/usr/local/lib/python3.12/dist-packages/sklearn/utils/deprecation.py:151: FutureWarning: 'force_all_finite' was renamed to 'ensure_all_finite' in 1.6 and will be removed in 1.8.\n",
            "  warnings.warn(\n"
          ]
        },
        {
          "output_type": "stream",
          "name": "stdout",
          "text": [
            "completed step 0\n"
          ]
        },
       
        {
          "output_type": "stream",
          "name": "stdout",
          "text": [
            "completed step 5\n"
          ]
        },
      
        {
          "output_type": "stream",
          "name": "stdout",
          "text": [
            "completed step 10\n"
          ]
        },
        
        {
          "output_type": "stream",
          "name": "stdout",
          "text": [
            "completed step 15\n"
          ]
        },
       
        {
          "output_type": "stream",
          "name": "stdout",
          "text": [
            "completed step 20\n"
          ]
        },
        
        {
          "output_type": "stream",
          "name": "stdout",
          "text": [
            "completed step 25\n"
          ]
        },
        
        {
          "output_type": "stream",
          "name": "stdout",
          "text": [
            "completed step 30\n"
          ]
        },
       
        {
          "output_type": "stream",
          "name": "stdout",
          "text": [
            "completed step 35\n"
          ]
        },
       
        {
          "output_type": "stream",
          "name": "stdout",
          "text": [
            "completed step 40\n"
          ]
        },
       
        {
          "output_type": "stream",
          "name": "stdout",
          "text": [
            "Active learning with 45 datapoints complete\n",
            "Total of 45 added to previous 664 data points\n",
            "============================================\n",
            "MAE:               0.018\n",
            "Current Validation set R2 score =      0.593\n",
            "Current training set R2 score: 0.675\n",
            "============================================\n",
            "R2 score history:\n",
            "Train Score =   0.498, Val score =   0.388, Val MAE =   0.129, total datapoints =     349\n",
            "Train Score =   0.511, Val score =   0.414, Val MAE =   0.153, total datapoints =     394\n",
            "Train Score =   0.557, Val score =   0.451, Val MAE =   0.138, total datapoints =     439\n",
            "Train Score =   0.559, Val score =   0.461, Val MAE =   0.157, total datapoints =     484\n",
            "Train Score =   0.578, Val score =   0.497, Val MAE =   0.144, total datapoints =     529\n",
            "Train Score =   0.586, Val score =   0.523, Val MAE =   0.122, total datapoints =     574\n",
            "Train Score =   0.621, Val score =   0.558, Val MAE =   0.071, total datapoints =     619\n",
            "Train Score =   0.656, Val score =   0.579, Val MAE =   0.038, total datapoints =     664\n",
            "Train Score =   0.675, Val score =   0.593, Val MAE =   0.018, total datapoints =     709\n",
            "============================================\n"
          ]
        },
        {
          "output_type": "stream",
          "name": "stderr",
          "text": [
            "/usr/local/lib/python3.12/dist-packages/sklearn/utils/deprecation.py:151: FutureWarning: 'force_all_finite' was renamed to 'ensure_all_finite' in 1.6 and will be removed in 1.8.\n",
            "  warnings.warn(\n"
          ]
        },
        {
          "output_type": "stream",
          "name": "stdout",
          "text": [
            "completed step 0\n"
          ]
        },
       
        {
          "output_type": "stream",
          "name": "stdout",
          "text": [
            "completed step 5\n"
          ]
        },
        
        {
          "output_type": "stream",
          "name": "stdout",
          "text": [
            "completed step 10\n"
          ]
        },
        
        {
          "output_type": "stream",
          "name": "stdout",
          "text": [
            "completed step 15\n"
          ]
        },
       
        {
          "output_type": "stream",
          "name": "stdout",
          "text": [
            "completed step 20\n"
          ]
        },
        
        {
          "output_type": "stream",
          "name": "stdout",
          "text": [
            "completed step 25\n"
          ]
        },
       
        {
          "output_type": "stream",
          "name": "stdout",
          "text": [
            "completed step 30\n"
          ]
        },
       
        {
          "output_type": "stream",
          "name": "stdout",
          "text": [
            "completed step 35\n"
          ]
        },
       
        {
          "output_type": "stream",
          "name": "stdout",
          "text": [
            "completed step 40\n"
          ]
        },
       
        {
          "output_type": "stream",
          "name": "stdout",
          "text": [
            "Active learning with 45 datapoints complete\n",
            "Total of 45 added to previous 709 data points\n",
            "============================================\n",
            "MAE:               0.002\n",
            "Current Validation set R2 score =      0.600\n",
            "Current training set R2 score: 0.691\n",
            "============================================\n",
            "R2 score history:\n",
            "Train Score =   0.498, Val score =   0.388, Val MAE =   0.129, total datapoints =     349\n",
            "Train Score =   0.511, Val score =   0.414, Val MAE =   0.153, total datapoints =     394\n",
            "Train Score =   0.557, Val score =   0.451, Val MAE =   0.138, total datapoints =     439\n",
            "Train Score =   0.559, Val score =   0.461, Val MAE =   0.157, total datapoints =     484\n",
            "Train Score =   0.578, Val score =   0.497, Val MAE =   0.144, total datapoints =     529\n",
            "Train Score =   0.586, Val score =   0.523, Val MAE =   0.122, total datapoints =     574\n",
            "Train Score =   0.621, Val score =   0.558, Val MAE =   0.071, total datapoints =     619\n",
            "Train Score =   0.656, Val score =   0.579, Val MAE =   0.038, total datapoints =     664\n",
            "Train Score =   0.675, Val score =   0.593, Val MAE =   0.018, total datapoints =     709\n",
            "Train Score =   0.691, Val score =   0.600, Val MAE =   0.002, total datapoints =     754\n",
            "============================================\n",
            "Current training set R2 score: 0.691\n",
            "Built dataset with 754 data points\n",
            "Saved to CSV file.\n"
          ]
        },
        {
          "output_type": "display_data",
          "data": {
            "text/plain": [
              "<Figure size 640x480 with 1 Axes>"
            ],
            "image/png": "[encoded data removed]"
          },
          "metadata": {}
        }
      ],
      "execution_count": null
    },
    {
      "cell_type": "code",
      "source": [],
      "metadata": {
        "id": "7s9kbdwee-66"
      },
      "execution_count": null,
      "outputs": []
    }
  ]
}