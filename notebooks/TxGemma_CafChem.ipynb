{
 "cells": [
  {
   "cell_type": "markdown",
   "metadata": {
    "id": "EBw50oB3Sf8p"
   },
   "source": [
    "#CafChem tools running inference with the TxGemma model, or finetuning the TxGemma model on your own med chem dataset.\n",
    "\n",
    "[![Open In Colab](https://colab.research.google.com/assets/colab-badge.svg)](https://colab.research.google.com/github/MauricioCafiero/CafChem/blob/main/notebooks/TxGemma_CafChem.ipynb)\n",
    "\n",
    "## This notebook allows you to:\n",
    "- Explore some of the tasks that TxGemma has been trained for.\n",
    "- Formulate a prompt for a specific TxGemma task\n",
    "- Select any of the TxGemma models\n",
    "- Run inference.\n",
    "\n",
    "also:\n",
    "- Upload a classification dataset. Create a set of training prompts based on that dataset.\n",
    "- Prepare TxGemma for finetuning\n",
    "- Finetune TxGemma\n",
    "- inference with the finetuned model.\n",
    "- push the dataset and model to HF Hub.\n",
    "\n",
    "## Requirements:\n",
    "- This notebook will install rdit, bitsandbytes, and other libraries\n",
    "- It will pull the CafChem tools from Github.\n",
    "- It will install all needed libraries.\n",
    "- Can use any GPU runtime for inference on a small model. A100 recommended for larger model and for fine-tuning"
   ]
  },
  {
   "cell_type": "markdown",
   "metadata": {
    "id": "FvL9g_Wf90I7"
   },
   "source": [
    "## Set-up"
   ]
  },
  {
   "cell_type": "markdown",
   "metadata": {
    "id": "gsdrbbX28UFE"
   },
   "source": [
    "### Install libraries"
   ]
  },
  {
   "cell_type": "code",
   "execution_count": 1,
   "metadata": {
    "colab": {
     "base_uri": "https://localhost:8080/"
    },
    "id": "he_qfVhV5cDq",
    "outputId": "9855202d-c6af-47b8-bb19-5cbe5a75ce83"
   },
   "outputs": [
    {
     "name": "stdout",
     "output_type": "stream",
     "text": [
      "\u001b[2K     \u001b[90m━━━━━━━━━━━━━━━━━━━━━━━━━━━━━━━━━━━━━━━━\u001b[0m \u001b[32m40.9/40.9 kB\u001b[0m \u001b[31m1.9 MB/s\u001b[0m eta \u001b[36m0:00:00\u001b[0m\n",
      "\u001b[2K   \u001b[90m━━━━━━━━━━━━━━━━━━━━━━━━━━━━━━━━━━━━━━━━\u001b[0m \u001b[32m72.9/72.9 MB\u001b[0m \u001b[31m33.9 MB/s\u001b[0m eta \u001b[36m0:00:00\u001b[0m\n",
      "\u001b[2K   \u001b[90m━━━━━━━━━━━━━━━━━━━━━━━━━━━━━━━━━━━━━━━━\u001b[0m \u001b[32m515.3/515.3 kB\u001b[0m \u001b[31m38.8 MB/s\u001b[0m eta \u001b[36m0:00:00\u001b[0m\n",
      "\u001b[2K   \u001b[90m━━━━━━━━━━━━━━━━━━━━━━━━━━━━━━━━━━━━━━━━\u001b[0m \u001b[32m10.8/10.8 MB\u001b[0m \u001b[31m125.5 MB/s\u001b[0m eta \u001b[36m0:00:00\u001b[0m\n",
      "\u001b[2K   \u001b[90m━━━━━━━━━━━━━━━━━━━━━━━━━━━━━━━━━━━━━━━━\u001b[0m \u001b[32m363.4/363.4 MB\u001b[0m \u001b[31m2.9 MB/s\u001b[0m eta \u001b[36m0:00:00\u001b[0m\n",
      "\u001b[2K   \u001b[90m━━━━━━━━━━━━━━━━━━━━━━━━━━━━━━━━━━━━━━━━\u001b[0m \u001b[32m13.8/13.8 MB\u001b[0m \u001b[31m114.0 MB/s\u001b[0m eta \u001b[36m0:00:00\u001b[0m\n",
      "\u001b[2K   \u001b[90m━━━━━━━━━━━━━━━━━━━━━━━━━━━━━━━━━━━━━━━━\u001b[0m \u001b[32m24.6/24.6 MB\u001b[0m \u001b[31m96.1 MB/s\u001b[0m eta \u001b[36m0:00:00\u001b[0m\n",
      "\u001b[2K   \u001b[90m━━━━━━━━━━━━━━━━━━━━━━━━━━━━━━━━━━━━━━━━\u001b[0m \u001b[32m883.7/883.7 kB\u001b[0m \u001b[31m58.3 MB/s\u001b[0m eta \u001b[36m0:00:00\u001b[0m\n",
      "\u001b[2K   \u001b[90m━━━━━━━━━━━━━━━━━━━━━━━━━━━━━━━━━━━━━━━━\u001b[0m \u001b[32m664.8/664.8 MB\u001b[0m \u001b[31m1.7 MB/s\u001b[0m eta \u001b[36m0:00:00\u001b[0m\n",
      "\u001b[2K   \u001b[90m━━━━━━━━━━━━━━━━━━━━━━━━━━━━━━━━━━━━━━━━\u001b[0m \u001b[32m211.5/211.5 MB\u001b[0m \u001b[31m11.2 MB/s\u001b[0m eta \u001b[36m0:00:00\u001b[0m\n",
      "\u001b[2K   \u001b[90m━━━━━━━━━━━━━━━━━━━━━━━━━━━━━━━━━━━━━━━━\u001b[0m \u001b[32m56.3/56.3 MB\u001b[0m \u001b[31m41.9 MB/s\u001b[0m eta \u001b[36m0:00:00\u001b[0m\n",
      "\u001b[2K   \u001b[90m━━━━━━━━━━━━━━━━━━━━━━━━━━━━━━━━━━━━━━━━\u001b[0m \u001b[32m127.9/127.9 MB\u001b[0m \u001b[31m17.9 MB/s\u001b[0m eta \u001b[36m0:00:00\u001b[0m\n",
      "\u001b[2K   \u001b[90m━━━━━━━━━━━━━━━━━━━━━━━━━━━━━━━━━━━━━━━━\u001b[0m \u001b[32m207.5/207.5 MB\u001b[0m \u001b[31m4.8 MB/s\u001b[0m eta \u001b[36m0:00:00\u001b[0m\n",
      "\u001b[2K   \u001b[90m━━━━━━━━━━━━━━━━━━━━━━━━━━━━━━━━━━━━━━━━\u001b[0m \u001b[32m21.1/21.1 MB\u001b[0m \u001b[31m81.9 MB/s\u001b[0m eta \u001b[36m0:00:00\u001b[0m\n",
      "\u001b[?25hRequirement already satisfied: datasets in /usr/local/lib/python3.11/dist-packages (2.14.4)\n",
      "Collecting datasets\n",
      "  Downloading datasets-4.0.0-py3-none-any.whl.metadata (19 kB)\n",
      "Requirement already satisfied: filelock in /usr/local/lib/python3.11/dist-packages (from datasets) (3.18.0)\n",
      "Requirement already satisfied: numpy>=1.17 in /usr/local/lib/python3.11/dist-packages (from datasets) (2.0.2)\n",
      "Requirement already satisfied: pyarrow>=15.0.0 in /usr/local/lib/python3.11/dist-packages (from datasets) (18.1.0)\n",
      "Requirement already satisfied: dill<0.3.9,>=0.3.0 in /usr/local/lib/python3.11/dist-packages (from datasets) (0.3.7)\n",
      "Requirement already satisfied: pandas in /usr/local/lib/python3.11/dist-packages (from datasets) (2.2.2)\n",
      "Requirement already satisfied: requests>=2.32.2 in /usr/local/lib/python3.11/dist-packages (from datasets) (2.32.3)\n",
      "Requirement already satisfied: tqdm>=4.66.3 in /usr/local/lib/python3.11/dist-packages (from datasets) (4.67.1)\n",
      "Requirement already satisfied: xxhash in /usr/local/lib/python3.11/dist-packages (from datasets) (3.5.0)\n",
      "Requirement already satisfied: multiprocess<0.70.17 in /usr/local/lib/python3.11/dist-packages (from datasets) (0.70.15)\n",
      "Collecting fsspec<=2025.3.0,>=2023.1.0 (from fsspec[http]<=2025.3.0,>=2023.1.0->datasets)\n",
      "  Downloading fsspec-2025.3.0-py3-none-any.whl.metadata (11 kB)\n",
      "Requirement already satisfied: huggingface-hub>=0.24.0 in /usr/local/lib/python3.11/dist-packages (from datasets) (0.33.4)\n",
      "Requirement already satisfied: packaging in /usr/local/lib/python3.11/dist-packages (from datasets) (24.2)\n",
      "Requirement already satisfied: pyyaml>=5.1 in /usr/local/lib/python3.11/dist-packages (from datasets) (6.0.2)\n",
      "Requirement already satisfied: aiohttp!=4.0.0a0,!=4.0.0a1 in /usr/local/lib/python3.11/dist-packages (from fsspec[http]<=2025.3.0,>=2023.1.0->datasets) (3.11.15)\n",
      "Requirement already satisfied: typing-extensions>=3.7.4.3 in /usr/local/lib/python3.11/dist-packages (from huggingface-hub>=0.24.0->datasets) (4.14.1)\n",
      "Requirement already satisfied: hf-xet<2.0.0,>=1.1.2 in /usr/local/lib/python3.11/dist-packages (from huggingface-hub>=0.24.0->datasets) (1.1.5)\n",
      "Requirement already satisfied: charset-normalizer<4,>=2 in /usr/local/lib/python3.11/dist-packages (from requests>=2.32.2->datasets) (3.4.2)\n",
      "Requirement already satisfied: idna<4,>=2.5 in /usr/local/lib/python3.11/dist-packages (from requests>=2.32.2->datasets) (3.10)\n",
      "Requirement already satisfied: urllib3<3,>=1.21.1 in /usr/local/lib/python3.11/dist-packages (from requests>=2.32.2->datasets) (2.4.0)\n",
      "Requirement already satisfied: certifi>=2017.4.17 in /usr/local/lib/python3.11/dist-packages (from requests>=2.32.2->datasets) (2025.6.15)\n",
      "Requirement already satisfied: python-dateutil>=2.8.2 in /usr/local/lib/python3.11/dist-packages (from pandas->datasets) (2.9.0.post0)\n",
      "Requirement already satisfied: pytz>=2020.1 in /usr/local/lib/python3.11/dist-packages (from pandas->datasets) (2025.2)\n",
      "Requirement already satisfied: tzdata>=2022.7 in /usr/local/lib/python3.11/dist-packages (from pandas->datasets) (2025.2)\n",
      "Requirement already satisfied: aiohappyeyeballs>=2.3.0 in /usr/local/lib/python3.11/dist-packages (from aiohttp!=4.0.0a0,!=4.0.0a1->fsspec[http]<=2025.3.0,>=2023.1.0->datasets) (2.6.1)\n",
      "Requirement already satisfied: aiosignal>=1.1.2 in /usr/local/lib/python3.11/dist-packages (from aiohttp!=4.0.0a0,!=4.0.0a1->fsspec[http]<=2025.3.0,>=2023.1.0->datasets) (1.4.0)\n",
      "Requirement already satisfied: attrs>=17.3.0 in /usr/local/lib/python3.11/dist-packages (from aiohttp!=4.0.0a0,!=4.0.0a1->fsspec[http]<=2025.3.0,>=2023.1.0->datasets) (25.3.0)\n",
      "Requirement already satisfied: frozenlist>=1.1.1 in /usr/local/lib/python3.11/dist-packages (from aiohttp!=4.0.0a0,!=4.0.0a1->fsspec[http]<=2025.3.0,>=2023.1.0->datasets) (1.7.0)\n",
      "Requirement already satisfied: multidict<7.0,>=4.5 in /usr/local/lib/python3.11/dist-packages (from aiohttp!=4.0.0a0,!=4.0.0a1->fsspec[http]<=2025.3.0,>=2023.1.0->datasets) (6.6.3)\n",
      "Requirement already satisfied: propcache>=0.2.0 in /usr/local/lib/python3.11/dist-packages (from aiohttp!=4.0.0a0,!=4.0.0a1->fsspec[http]<=2025.3.0,>=2023.1.0->datasets) (0.3.2)\n",
      "Requirement already satisfied: yarl<2.0,>=1.17.0 in /usr/local/lib/python3.11/dist-packages (from aiohttp!=4.0.0a0,!=4.0.0a1->fsspec[http]<=2025.3.0,>=2023.1.0->datasets) (1.20.1)\n",
      "Requirement already satisfied: six>=1.5 in /usr/local/lib/python3.11/dist-packages (from python-dateutil>=2.8.2->pandas->datasets) (1.17.0)\n",
      "Downloading datasets-4.0.0-py3-none-any.whl (494 kB)\n",
      "\u001b[2K   \u001b[90m━━━━━━━━━━━━━━━━━━━━━━━━━━━━━━━━━━━━━━━━\u001b[0m \u001b[32m494.8/494.8 kB\u001b[0m \u001b[31m10.5 MB/s\u001b[0m eta \u001b[36m0:00:00\u001b[0m\n",
      "\u001b[?25hDownloading fsspec-2025.3.0-py3-none-any.whl (193 kB)\n",
      "\u001b[2K   \u001b[90m━━━━━━━━━━━━━━━━━━━━━━━━━━━━━━━━━━━━━━━━\u001b[0m \u001b[32m193.6/193.6 kB\u001b[0m \u001b[31m19.9 MB/s\u001b[0m eta \u001b[36m0:00:00\u001b[0m\n",
      "\u001b[?25hInstalling collected packages: fsspec, datasets\n",
      "  Attempting uninstall: fsspec\n",
      "    Found existing installation: fsspec 2025.3.2\n",
      "    Uninstalling fsspec-2025.3.2:\n",
      "      Successfully uninstalled fsspec-2025.3.2\n",
      "  Attempting uninstall: datasets\n",
      "    Found existing installation: datasets 2.14.4\n",
      "    Uninstalling datasets-2.14.4:\n",
      "      Successfully uninstalled datasets-2.14.4\n",
      "\u001b[31mERROR: pip's dependency resolver does not currently take into account all the packages that are installed. This behaviour is the source of the following dependency conflicts.\n",
      "gcsfs 2025.3.2 requires fsspec==2025.3.2, but you have fsspec 2025.3.0 which is incompatible.\u001b[0m\u001b[31m\n",
      "\u001b[0mSuccessfully installed datasets-4.0.0 fsspec-2025.3.0\n",
      "Collecting rdkit\n",
      "  Downloading rdkit-2025.3.3-cp311-cp311-manylinux_2_28_x86_64.whl.metadata (4.0 kB)\n",
      "Requirement already satisfied: numpy in /usr/local/lib/python3.11/dist-packages (from rdkit) (2.0.2)\n",
      "Requirement already satisfied: Pillow in /usr/local/lib/python3.11/dist-packages (from rdkit) (11.2.1)\n",
      "Downloading rdkit-2025.3.3-cp311-cp311-manylinux_2_28_x86_64.whl (34.9 MB)\n",
      "\u001b[2K   \u001b[90m━━━━━━━━━━━━━━━━━━━━━━━━━━━━━━━━━━━━━━━━\u001b[0m \u001b[32m34.9/34.9 MB\u001b[0m \u001b[31m71.4 MB/s\u001b[0m eta \u001b[36m0:00:00\u001b[0m\n",
      "\u001b[?25hInstalling collected packages: rdkit\n",
      "Successfully installed rdkit-2025.3.3\n",
      "\u001b[2K   \u001b[90m━━━━━━━━━━━━━━━━━━━━━━━━━━━━━━━━━━━━━━━━\u001b[0m \u001b[32m376.2/376.2 kB\u001b[0m \u001b[31m6.8 MB/s\u001b[0m eta \u001b[36m0:00:00\u001b[0m\n",
      "\u001b[?25h"
     ]
    }
   ],
   "source": [
    "! pip install --upgrade --quiet accelerate bitsandbytes huggingface_hub transformers\n",
    "! pip install --upgrade datasets\n",
    "! pip install rdkit\n",
    "! pip install --upgrade --quiet peft trl"
   ]
  },
  {
   "cell_type": "markdown",
   "metadata": {
    "id": "EYnbT2tt8ral"
   },
   "source": [
    "### Import libraries and set up some definitions\n",
    "- Pull the CafChem tools from Github\n",
    "- Import libraries"
   ]
  },
  {
   "cell_type": "code",
   "execution_count": 1,
   "metadata": {
    "colab": {
     "base_uri": "https://localhost:8080/"
    },
    "id": "xM1L0ucbMeQo",
    "outputId": "cea3e6ab-8c39-4bfd-e8b2-a00555e3954e"
   },
   "outputs": [
    {
     "name": "stdout",
     "output_type": "stream",
     "text": [
      "fatal: destination path 'CafChem' already exists and is not an empty directory.\n"
     ]
    }
   ],
   "source": [
    "!git clone https://github.com/MauricioCafiero/CafChem.git"
   ]
  },
  {
   "cell_type": "code",
   "execution_count": 2,
   "metadata": {
    "id": "Lb80bem18dM8"
   },
   "outputs": [],
   "source": [
    "import os\n",
    "import json\n",
    "from IPython.display import display, Markdown\n",
    "import torch\n",
    "from rdkit.Chem import AllChem, Draw, QED\n",
    "from rdkit import Chem\n",
    "\n",
    "import CafChem.CafChemTxGemma as cctxg"
   ]
  },
  {
   "cell_type": "markdown",
   "metadata": {
    "id": "U-HP_jKt9tc2"
   },
   "source": [
    "## Inference with TxGemma\n",
    "- First, set up your choice of model.\n",
    "- View suggested tasks\n",
    "- View the training prompts for those tasks\n",
    "- Make your own prompt based on the trainig prompt\n",
    "- Generate a response from TxGemma either in text or markdown format (markdown for chat models only)."
   ]
  },
  {
   "cell_type": "code",
   "execution_count": 5,
   "metadata": {
    "colab": {
     "base_uri": "https://localhost:8080/",
     "height": 327,
     "referenced_widgets": [
      "4c88f8f52eb140a78061f20c761faab8",
      "5dc2b7f0e88942c990880675cdf877b7",
      "feef3d5c17004767be970398e1927845",
      "c02ad71a9e37442c9541751435bedb34",
      "7b03c827611c49a581514d9860c1fdcf",
      "2e01c049e4784b71a0dc0092a4f5e4b4",
      "27d4783a16fd47be9f7348fa4840a5ae",
      "a97e5528a70a42b7ae661e47eed9aa3a",
      "1725b0f5ce8f4cd8a639f0f5891d3065",
      "f5b80741a93a46e8b97d054d892af5dd",
      "b6eb5a9a2bae49769e79a3c0f86a047f"
     ]
    },
    "id": "IOUNruei9s18",
    "outputId": "04a1330e-6a22-4bac-ec1a-839ab9169536"
   },
   "outputs": [
    {
     "data": {
      "application/vnd.jupyter.widget-view+json": {
       "model_id": "4c88f8f52eb140a78061f20c761faab8",
       "version_major": 2,
       "version_minor": 0
      },
      "text/plain": [
       "Loading checkpoint shards:   0%|          | 0/4 [00:00<?, ?it/s]"
      ]
     },
     "metadata": {},
     "output_type": "display_data"
    },
    {
     "name": "stderr",
     "output_type": "stream",
     "text": [
      "Device set to use cuda:0\n"
     ]
    },
    {
     "name": "stdout",
     "output_type": "stream",
     "text": [
      "LD50_Zhu\n",
      "logP_Morgan\n",
      "BindingDB_kd\n",
      "BindingDB_ic50\n",
      "BindingDB_ki\n",
      "Lipophilicity_AstraZeneca\n",
      "Solubility_AqSolDB\n",
      "Bioavailability_Ma\n",
      "BBB_Martins\n",
      "Skin_Reaction\n",
      "Carcinogens_Lagunin\n",
      "SARSCoV2_Vitro_Touret\n",
      "SARSCOV2_3CLPro_Diamond\n",
      "HIV\n",
      "ClinTox\n"
     ]
    }
   ],
   "source": [
    "model, tokenizer, pipe = cctxg.setup_txgemma(1)\n",
    "cctxg.get_some_tdc_tasks()"
   ]
  },
  {
   "cell_type": "code",
   "execution_count": 6,
   "metadata": {
    "colab": {
     "base_uri": "https://localhost:8080/"
    },
    "id": "stXgm0JK9rPG",
    "outputId": "4a2f79b6-4f34-4876-8883-dac1dbed69da"
   },
   "outputs": [
    {
     "name": "stdout",
     "output_type": "stream",
     "text": [
      "Instructions: Answer the following question about drug properties.\n",
      "Context: Humans are exposed to a variety of chemicals through food, household products, and medicines, some of which can be toxic, leading to over 30% of promising pharmaceuticals failing in human trials due to toxicity. Toxic drugs can be identified from clinical trials that failed due to toxicity, while non-toxic drugs can be identified from FDA approval status or from clinical trials that report no toxicity.\n",
      "Question: Given a drug SMILES string, predict whether it\n",
      "(A) is not toxic (B) is toxic\n",
      "Drug SMILES: {Drug SMILES}\n",
      "Answer:\n",
      "============================================================\n",
      "Parameters:\n",
      "Drug SMILES\n"
     ]
    }
   ],
   "source": [
    "parameters = cctxg.view_task_prompt('ClinTox')"
   ]
  },
  {
   "cell_type": "code",
   "execution_count": 7,
   "metadata": {
    "colab": {
     "base_uri": "https://localhost:8080/"
    },
    "id": "coe6UhGmCzIj",
    "outputId": "26c8f164-3aff-44ef-b455-803983d6e684"
   },
   "outputs": [
    {
     "data": {
      "text/plain": [
       "['{Drug SMILES}']"
      ]
     },
     "execution_count": 7,
     "metadata": {},
     "output_type": "execute_result"
    }
   ],
   "source": [
    "parameters"
   ]
  },
  {
   "cell_type": "code",
   "execution_count": 8,
   "metadata": {
    "id": "_WeEYok1EsXv"
   },
   "outputs": [],
   "source": [
    "prompt = cctxg.make_prompt('ClinTox',parameters, ['c1ccc(F)cc1'])"
   ]
  },
  {
   "cell_type": "code",
   "execution_count": 9,
   "metadata": {
    "colab": {
     "base_uri": "https://localhost:8080/",
     "height": 104
    },
    "id": "4j1XcDA_FVeJ",
    "outputId": "5d528efe-33a3-498c-a455-b18502d5380b"
   },
   "outputs": [
    {
     "data": {
      "application/vnd.google.colaboratory.intrinsic+json": {
       "type": "string"
      },
      "text/plain": [
       "'Instructions: Answer the following question about drug properties.\\nContext: Humans are exposed to a variety of chemicals through food, household products, and medicines, some of which can be toxic, leading to over 30% of promising pharmaceuticals failing in human trials due to toxicity. Toxic drugs can be identified from clinical trials that failed due to toxicity, while non-toxic drugs can be identified from FDA approval status or from clinical trials that report no toxicity.\\nQuestion: Given a drug SMILES string, predict whether it\\n(A) is not toxic (B) is toxic\\nDrug SMILES: c1ccc(F)cc1\\nAnswer:'"
      ]
     },
     "execution_count": 9,
     "metadata": {},
     "output_type": "execute_result"
    }
   ],
   "source": [
    "prompt"
   ]
  },
  {
   "cell_type": "code",
   "execution_count": 10,
   "metadata": {
    "colab": {
     "base_uri": "https://localhost:8080/"
    },
    "id": "EBZ_xRxTFWKN",
    "outputId": "e6f6c888-f698-4d39-ca63-a12ad6b6f99b"
   },
   "outputs": [
    {
     "name": "stderr",
     "output_type": "stream",
     "text": [
      "/usr/local/lib/python3.11/dist-packages/bitsandbytes/nn/modules.py:457: UserWarning: Input type into Linear4bit is torch.float16, but bnb_4bit_compute_dtype=torch.float32 (default). This will lead to slow inference or training speed.\n",
      "  warnings.warn(\n"
     ]
    }
   ],
   "source": [
    "answer, full = cctxg.generate_text(prompt, model, tokenizer)"
   ]
  },
  {
   "cell_type": "code",
   "execution_count": 11,
   "metadata": {
    "colab": {
     "base_uri": "https://localhost:8080/",
     "height": 35
    },
    "id": "4aIwSAFmGKMh",
    "outputId": "18f36253-0a48-453f-a214-95bacb0051aa"
   },
   "outputs": [
    {
     "data": {
      "application/vnd.google.colaboratory.intrinsic+json": {
       "type": "string"
      },
      "text/plain": [
       "' (A)'"
      ]
     },
     "execution_count": 11,
     "metadata": {},
     "output_type": "execute_result"
    }
   ],
   "source": [
    "answer"
   ]
  },
  {
   "cell_type": "code",
   "execution_count": 12,
   "metadata": {
    "colab": {
     "base_uri": "https://localhost:8080/",
     "height": 547
    },
    "id": "0PukxJALTIIz",
    "outputId": "82913c8b-780d-414b-c20f-0cba08df2855"
   },
   "outputs": [
    {
     "data": {
      "text/markdown": [
       "\n",
       "\n",
       "---\n",
       "\n"
      ],
      "text/plain": [
       "<IPython.core.display.Markdown object>"
      ]
     },
     "metadata": {},
     "output_type": "display_data"
    },
    {
     "data": {
      "text/markdown": [
       "**User:**\n",
       "\n",
       "Instructions: Answer the following question about drug properties.\n",
       "Context: Humans are exposed to a variety of chemicals through food, household products, and medicines, some of which can be toxic, leading to over 30% of promising pharmaceuticals failing in human trials due to toxicity. Toxic drugs can be identified from clinical trials that failed due to toxicity, while non-toxic drugs can be identified from FDA approval status or from clinical trials that report no toxicity.\n",
       "Question: Given a drug SMILES string, predict whether it\n",
       "(A) is not toxic (B) is toxic\n",
       "Drug SMILES: c1ccc(F)cc1\n",
       "Answer:\n",
       "\n",
       "---\n",
       "\n"
      ],
      "text/plain": [
       "<IPython.core.display.Markdown object>"
      ]
     },
     "metadata": {},
     "output_type": "display_data"
    },
    {
     "data": {
      "text/markdown": [
       "**TxGemma:**\n",
       "\n",
       "(A)\n",
       "\n",
       "---\n",
       "\n"
      ],
      "text/plain": [
       "<IPython.core.display.Markdown object>"
      ]
     },
     "metadata": {},
     "output_type": "display_data"
    },
    {
     "data": {
      "text/markdown": [
       "**User:**\n",
       "\n",
       "Explain your reasoning based on the molecule structure.\n",
       "\n",
       "---\n",
       "\n"
      ],
      "text/plain": [
       "<IPython.core.display.Markdown object>"
      ]
     },
     "metadata": {},
     "output_type": "display_data"
    },
    {
     "data": {
      "text/markdown": [
       "**TxGemma:**\n",
       "\n",
       "The molecule represented by the SMILES string \"c1ccc(F)cc1\" is **benzene with a fluorine atom attached**. \n",
       "\n",
       "* **Benzene (c1ccc1)** is a common aromatic hydrocarbon. While benzene itself is known to be toxic and carcinogenic, it's also a fundamental building block in many pharmaceuticals.  \n",
       "* **The fluorine atom (F)** is often introduced into molecules to modify their properties, including increasing metabolic stability and lipophilicity. Fluorine substitution can also change the molecule's overall toxicity profile compared to its non-fluorinated counterpart.\n",
       "\n",
       "**Reasoning:**\n",
       "\n",
       "Without further information about the specific context or other functional groups present in the molecule, it's impossible to definitively say whether this specific benzene derivative is toxic or not. \n",
       "\n",
       "* **Potentially Toxic:**  The presence of benzene raises concerns about potential carcinogenicity and other toxic effects. \n",
       "* **Potentially Non-Toxic:** The fluorine atom *could* potentially mitigate some of the toxicity of the benzene ring, depending on its position and the overall molecular structure. \n",
       "\n",
       "**Conclusion:**  More information is needed to make a reliable prediction about the toxicity of this molecule.  It's crucial to remember that toxicity is a complex property influenced by many factors beyond the simple structure of a molecule. \n",
       "\n",
       "\n",
       "---\n",
       "\n"
      ],
      "text/plain": [
       "<IPython.core.display.Markdown object>"
      ]
     },
     "metadata": {},
     "output_type": "display_data"
    }
   ],
   "source": [
    "cctxg.generate_chat(prompt, model, tokenizer)"
   ]
  },
  {
   "cell_type": "markdown",
   "metadata": {
    "id": "9HGgzGqv6upR"
   },
   "source": [
    "## Fine-tuning TxGemma"
   ]
  },
  {
   "cell_type": "markdown",
   "metadata": {
    "id": "OCn542GdACA4"
   },
   "source": [
    "### prepare dataset\n",
    "- Read in your datset\n",
    "- Create a training prompt\n",
    "- Fill the prompt from your datset"
   ]
  },
  {
   "cell_type": "code",
   "execution_count": 3,
   "metadata": {
    "colab": {
     "base_uri": "https://localhost:8080/"
    },
    "id": "K7_3ilduTKhS",
    "outputId": "759325ce-8783-433b-b5a7-5098a145fc5c"
   },
   "outputs": [
    {
     "name": "stdout",
     "output_type": "stream",
     "text": [
      "prepare dataset class initiated!\n"
     ]
    }
   ],
   "source": [
    "tyro = cctxg.prepare_dataset(\"/content/tyrosinase_3classes_aug.csv\")"
   ]
  },
  {
   "cell_type": "code",
   "execution_count": 4,
   "metadata": {
    "id": "8sYoNQGb7Cg_"
   },
   "outputs": [],
   "source": [
    "prompt_text = \"Drugs which act as inhibitors for Tyrosinase can be categoried by IC50, which is the \\n\\\n",
    "concentration at which they inhibit 50% of the Tyrosinase enzyme's activity. Given the drug SMILES string and molecular \\n\\\n",
    "properties below, tell which of the three categories the drug will be in: (A) IC50 less than \\n\\\n",
    "2.5 micromolar, (B) between 2.5 and 50 micromolar, or (C) above 50 micromolar.\\ndrug SMILES : DRUG_SMILES. \\n\\\n",
    "molecular properties: MOLECULAR_PROPERTIES. \\n\\\n",
    "\\nAnswer: \""
   ]
  },
  {
   "cell_type": "code",
   "execution_count": 5,
   "metadata": {
    "colab": {
     "base_uri": "https://localhost:8080/"
    },
    "id": "H46bFQCW66C2",
    "outputId": "1948783e-61dc-4fb1-c909-d08af7de0b20"
   },
   "outputs": [
    {
     "name": "stdout",
     "output_type": "stream",
     "text": [
      "{'input_text': \"Drugs which act as inhibitors for Tyrosinase can be categoried by IC50, which is the \\nconcentration at which they inhibit 50% of the Tyrosinase enzyme's activity. Given the drug SMILES string and molecular \\nproperties below, tell which of the three categories the drug will be in: (A) IC50 less than \\n2.5 micromolar, (B) between 2.5 and 50 micromolar, or (C) above 50 micromolar.\\ndrug SMILES : DRUG_SMILES. \\nmolecular properties: MOLECULAR_PROPERTIES. \\n\\nAnswer: \", 'output_text': 'ANSWER_TEXT'}\n"
     ]
    }
   ],
   "source": [
    "prompt_template = tyro.define_prompt_template(prompt_text)\n",
    "print(prompt_template)"
   ]
  },
  {
   "cell_type": "code",
   "execution_count": 6,
   "metadata": {
    "colab": {
     "base_uri": "https://localhost:8080/",
     "height": 66,
     "referenced_widgets": [
      "9e8d6fd028c44c0baed6f83d44ceb33d",
      "f8204c47568f4536b9063b85616958d9",
      "33833b02364d4a0f890b1224b3c90986",
      "c3ed4a8e674241c48a4cf4065a7323ce",
      "69503569d0d64b6ba81b35f80df888e0",
      "72b7363653bc4ffcab6d97d208146126",
      "cff372fe34ff40c2a892fbf373cff76d",
      "6bb650c419fa4143bb1015064193e9a1",
      "6d39af090b5c4e2db92aab3bed45bb1a",
      "86f0af9c96834efc9183dac5ba670a1a",
      "57d77aeef07c4926a06d82d976d73c2c"
     ]
    },
    "id": "_gxCghzY7cr_",
    "outputId": "d4140fcc-0512-4d39-b283-4e50d7971088"
   },
   "outputs": [
    {
     "data": {
      "application/vnd.jupyter.widget-view+json": {
       "model_id": "9e8d6fd028c44c0baed6f83d44ceb33d",
       "version_major": 2,
       "version_minor": 0
      },
      "text/plain": [
       "Generating train split: 0 examples [00:00, ? examples/s]"
      ]
     },
     "metadata": {},
     "output_type": "display_data"
    },
    {
     "name": "stdout",
     "output_type": "stream",
     "text": [
      "Dataset loaded!\n"
     ]
    }
   ],
   "source": [
    "training_prompts = tyro.fill_prompt_template(prompt_template, ['A','B','C'])"
   ]
  },
  {
   "cell_type": "code",
   "execution_count": 7,
   "metadata": {
    "colab": {
     "base_uri": "https://localhost:8080/"
    },
    "id": "VANYAfAj8PD2",
    "outputId": "7e287802-30cd-42f6-f650-0c416906cba1"
   },
   "outputs": [
    {
     "data": {
      "text/plain": [
       "{'input_text': \"Drugs which act as inhibitors for Tyrosinase can be categoried by IC50, which is the \\nconcentration at which they inhibit 50% of the Tyrosinase enzyme's activity. Given the drug SMILES string and molecular \\nproperties below, tell which of the three categories the drug will be in: (A) IC50 less than \\n2.5 micromolar, (B) between 2.5 and 50 micromolar, or (C) above 50 micromolar.\\ndrug SMILES : O=C(OCc1ccc(O)cc1)c1cc(O)c(O)c(O)c1. \\nmolecular properties: Molecular weight 276.24, partition coefficient: 1.87, Hydrgen-bond acceptors: 6, \\nHydrgen-bond donors: 4, Polariable Surface Area: 107.22, Rotatable bonds: 3,  Aromatic rings: 2. \\n\\nAnswer: \",\n",
       " 'output_text': 'B'}"
      ]
     },
     "execution_count": 7,
     "metadata": {},
     "output_type": "execute_result"
    }
   ],
   "source": [
    "training_prompts[\"train\"][700]"
   ]
  },
  {
   "cell_type": "markdown",
   "metadata": {
    "id": "5IBPM4qJAE6d"
   },
   "source": [
    "### Training\n",
    "- Setup a model (it is the 2B model for compute reasons)\n",
    "- Get the model and tokenizer\n",
    "- Test the model before finetuning\n",
    "- Set up quantization/Lora for the model\n",
    "- Train on your dataset\n",
    "- Test the model after finetuning"
   ]
  },
  {
   "cell_type": "code",
   "execution_count": 8,
   "metadata": {
    "colab": {
     "base_uri": "https://localhost:8080/"
    },
    "id": "7OgGVIo9AGbg",
    "outputId": "65ea4670-a6f5-4e6e-c6fe-be5ede406173"
   },
   "outputs": [
    {
     "name": "stdout",
     "output_type": "stream",
     "text": [
      "train_TxF2BPredict class initiated!\n"
     ]
    }
   ],
   "source": [
    "tyro_model = cctxg.train_TxF2BPredict(batch_size = 16, epochs = 10, trained_model_name = \"tyro_ft\", push = False)"
   ]
  },
  {
   "cell_type": "code",
   "execution_count": 9,
   "metadata": {
    "colab": {
     "base_uri": "https://localhost:8080/",
     "height": 401,
     "referenced_widgets": [
      "0a12d940623e4309a24d8cfd6e7d9dae",
      "325cbe0bd5d74129ba3cd339aa0164c6",
      "2fd712e7c43440eabfe585e53537eea2",
      "375a09ef40c749ac934400d56084ed59",
      "0df44036cf9e4f1f8baaa535aa91ebe0",
      "4f4efac0eed84b22884e1f32b06a66c3",
      "e4097fe9cfa94d36833a256101c0bfb2",
      "6fc5e525d8e04396b9ec60aa593dd8d3",
      "a4d2f5497ccd40959e652e9252e79a33",
      "ad5afd41143a47548cd430f19768ff6a",
      "8b4a94281d724d42915e089b2fe344dc",
      "6b8779934a054b58b4b70157d69b3227",
      "388ba8f15a0d4643a1b21b8cb523819b",
      "0c62bfee226344b6b68736c442bec1bf",
      "95cfac81455e4fe39fa10d769cb13ed3",
      "0a4f3fa3f52d413b8bb65d1515cc15c9",
      "ab6f78ad81b94e2fa3f0d6ad6206c376",
      "a72d28c316bc4c059121bd41651ddeda",
      "94e329d8355146808d7284515968c158",
      "a7031a07c75a4f5eaa74ac7a13fcbb84",
      "0f56ec0d68604d9c95cf5900b0ff0e57",
      "ce2a7a3a35eb4d8b85c4b64553ae8b8b",
      "2eb34c2210a7420abaedb9fbc794e564",
      "62d5561339e24b1996f962963ae37df9",
      "743bbbb85db54c1f9643b28c139926bb",
      "8a9cc763c3e3416283dae090a7337fea",
      "c6e0d0fa3a934620b88638b829708a14",
      "5f0d404553644e00a7cbccff6f23d5c1",
      "f2052f6ecee24c15b2ac4dca86387905",
      "3666f53803f14c4ab919f916ced34ba7",
      "5ae51d3221ce431caf22b93143c1f185",
      "bb53498444284290942104d88d4c99c3",
      "1a30e3a1b0aa41998fc171206252429c",
      "34a1f6fccbc04aca9a7c8edcc2e9220a",
      "a561bf38e83640428a78ca6f627c12cc",
      "c2af574d268041c39f4a6afda158f564",
      "06bf4e9a11bb4b0ea20f0154adabd2b9",
      "97e8fe2e0b834f3180c4f35f73f7d1af",
      "889d0f22a0c947d7813322d406cd0b51",
      "dba4810101e748d39159cf37d69a3c54",
      "047ba6a297854ab780d23a2cf1b416eb",
      "0a2938abcaf34c68941d014c49748d51",
      "e2d625c022df47d1b3cfdf09bff162ec",
      "f541b1e5428f4981b94de2bbc0382098",
      "731bd6a19415443bb464cad79a0d5c6a",
      "0574d66b559c4bfca21aaa993c4800a8",
      "cbb78b405b9d4fd4bdd1f1dd366d1721",
      "2f5da9661b394d4088d8dd2cfa25f704",
      "939a49a7ba55447b888fc41b995ecf3f",
      "3e139ae186d943679831f103f81a135f",
      "d61ff2ef489842ae90cf73a1860c5aeb",
      "a8545a190414466183eefc2a88d60c1d",
      "b3daffce98114188b77b499e30bdf098",
      "95ad9443a05a42659e32d04d74b5c42d",
      "a2c69195314a44f8bfbc82c90c59dbcb",
      "848f47595d64460c866fe17edd758d61",
      "8d21baacd1824959a36007e1c93ce6ba",
      "7cd79d9858d14a77b6c537580b019f01",
      "1435db82bad547e29fb12358174e1e0e",
      "2811ea42a06d4c6cb0623c71dfaf2b9d",
      "90a25bb2b2d64c3fbd422b1dd5bf5115",
      "25fdc50742824248a23eb19640cf9267",
      "a8fb1288d1134b2190c3adb654eadbbe",
      "51fe8e0d07504ef6ad5ad79b12c10edf",
      "df7c9b7adf7e4c0e9f71c3778827f326",
      "f4226dc75b4f47ba8f0797a74ed8300a",
      "b77f98f870384077b89cbecfa8d3763d",
      "de3f4a214e96402e98c741a12d59919d",
      "8a9336d3bd6744e08bd5b931df029669",
      "445dc41d0c3d4eada716fd8e48a0a6d5",
      "83c51b38c96d4714b95b7e616c322c78",
      "8b4c8a886b2748aca1bacc14dbbfb897",
      "deaa4275aef545fa85ad58e13e89bee7",
      "5429d816a83f43558095a0324bb25899",
      "a4ce39a69f424569962c75bc2ef40836",
      "273fdae07ea4495fa7eb8ce98bf6dd9d",
      "d7e50be1eae741cd8267428df187e688",
      "39656b93ebc243afb1bbe3b1baa4a2bb",
      "d7de655e95bc4d68b142c3de0c0f8967",
      "0488d4c875dd45a39aa233ac0cfea4c4",
      "e7a99872c7104c31b0d43501e1e7017e",
      "2fd1a60a18dd436892864dda121e31cf",
      "92ebb79c060a4910a600c418e30f482a",
      "56bbc67dc7e24b1da1a6d99346ebe1f1",
      "84f12fc77e8e4db5978f4e4a80f4a670",
      "ef5684d0f8814b83bcb71295183c8ea0",
      "744658854f594ed99e4d4b36930cd565",
      "bef55722b88f4d908f004e33fabc9951",
      "bedca98a4a994655b6766ed7a795b03c",
      "5de46aa72de144a78888a9a2fdea172d",
      "f2eec05615e945e7b6c22cc529fdfd76",
      "cc6ac1f700a44662b7d01f3d339acdfc",
      "d0674bbcbebc4f6d8a669366ba6a54a2",
      "41b31ee72f3c4060b2dbde763a46161b",
      "aa24416ad2024588a7fb2a8c8efc25bd",
      "ac3cc5b20d5a4b608dea2b9b2bfbaa6b",
      "236ddf538ee647e3a902a9d08a5d0d85",
      "475a9330389645fa8f3ee7222a033374",
      "dbc7e29e597140338b74eb66a99f2169",
      "73560815c62c4f05a4b23f7eb08e8ca3",
      "344dc7e5b3f5457cbc57ea037a0e9061",
      "30f1c12522804602a4c36ea5ce78f3fd",
      "f4aa4974d87f4160ba9540819737e845",
      "92a886c23c4c406380629a697ae806c9",
      "a9d85b6a43214c92913b52df847cc32f",
      "4851f89345fc42659da7bf8d7676f325",
      "053e0fbd66b74d799542ea9ca24163d6",
      "a17da54f11904262a3e7597f86026e9a",
      "3f7f7df4ea914fc3971b6c91c60e0dc8",
      "8d2eadbad1434c6580e533ae7bc19596",
      "1fcd934e3aa048b3a146d68c43f3feb3",
      "9c2e3f506e3f4f668caa943140c6392c",
      "e4b90e661bab4f629e995dd63b201b45",
      "a7900039c1f54d92b650fa0956ac6bf0",
      "561ae7d7479448d1bd4af08b297d337f",
      "fae861c1a8f2482aa5044aeb3efaf00a",
      "c229d4af7f42495d8f93405f41c4ca31",
      "cf9a914ab8f54cb7bdf49d3b839cd32c",
      "d34e31eca86e4827a87361bd836d4935",
      "d1b27cd333ac4a8e9351d6730ff4762a",
      "bbfe35efc6aa4ec68bd5543e87785982",
      "6c188570dfec49e993530e6eacbed34e",
      "a4286e8cc88d49e99a586c3d7c02b3d9",
      "19c50d85b8c74acbb1ad351b72e47d5f",
      "689b787d277b4a0e9cd2504c797deebf",
      "c493320376a849acb3bf1fe860ec9a2c",
      "cc68e318a0bb47f887fe95ca93b814f2",
      "88d4e65023d94c8f800f1bd034526991",
      "ec2429260cc148a4bd16a94082fc7612",
      "427768a289db43f7bf6fc50a9d5b25a3",
      "27db55c9c4e94c768b632477a0d90048",
      "7f8f0d1e93854044a82d238ed06d9983"
     ]
    },
    "id": "sCI7jQV9DMPw",
    "outputId": "7f98dd10-c0a1-45c1-92c1-f4e0990949cc"
   },
   "outputs": [
    {
     "data": {
      "application/vnd.jupyter.widget-view+json": {
       "model_id": "0a12d940623e4309a24d8cfd6e7d9dae",
       "version_major": 2,
       "version_minor": 0
      },
      "text/plain": [
       "tokenizer_config.json:   0%|          | 0.00/46.4k [00:00<?, ?B/s]"
      ]
     },
     "metadata": {},
     "output_type": "display_data"
    },
    {
     "data": {
      "application/vnd.jupyter.widget-view+json": {
       "model_id": "6b8779934a054b58b4b70157d69b3227",
       "version_major": 2,
       "version_minor": 0
      },
      "text/plain": [
       "tokenizer.model:   0%|          | 0.00/4.24M [00:00<?, ?B/s]"
      ]
     },
     "metadata": {},
     "output_type": "display_data"
    },
    {
     "data": {
      "application/vnd.jupyter.widget-view+json": {
       "model_id": "2eb34c2210a7420abaedb9fbc794e564",
       "version_major": 2,
       "version_minor": 0
      },
      "text/plain": [
       "tokenizer.json:   0%|          | 0.00/17.5M [00:00<?, ?B/s]"
      ]
     },
     "metadata": {},
     "output_type": "display_data"
    },
    {
     "data": {
      "application/vnd.jupyter.widget-view+json": {
       "model_id": "34a1f6fccbc04aca9a7c8edcc2e9220a",
       "version_major": 2,
       "version_minor": 0
      },
      "text/plain": [
       "special_tokens_map.json:   0%|          | 0.00/636 [00:00<?, ?B/s]"
      ]
     },
     "metadata": {},
     "output_type": "display_data"
    },
    {
     "data": {
      "application/vnd.jupyter.widget-view+json": {
       "model_id": "731bd6a19415443bb464cad79a0d5c6a",
       "version_major": 2,
       "version_minor": 0
      },
      "text/plain": [
       "config.json:   0%|          | 0.00/818 [00:00<?, ?B/s]"
      ]
     },
     "metadata": {},
     "output_type": "display_data"
    },
    {
     "data": {
      "application/vnd.jupyter.widget-view+json": {
       "model_id": "848f47595d64460c866fe17edd758d61",
       "version_major": 2,
       "version_minor": 0
      },
      "text/plain": [
       "model.safetensors.index.json:   0%|          | 0.00/24.2k [00:00<?, ?B/s]"
      ]
     },
     "metadata": {},
     "output_type": "display_data"
    },
    {
     "data": {
      "application/vnd.jupyter.widget-view+json": {
       "model_id": "b77f98f870384077b89cbecfa8d3763d",
       "version_major": 2,
       "version_minor": 0
      },
      "text/plain": [
       "Fetching 3 files:   0%|          | 0/3 [00:00<?, ?it/s]"
      ]
     },
     "metadata": {},
     "output_type": "display_data"
    },
    {
     "data": {
      "application/vnd.jupyter.widget-view+json": {
       "model_id": "39656b93ebc243afb1bbe3b1baa4a2bb",
       "version_major": 2,
       "version_minor": 0
      },
      "text/plain": [
       "model-00003-of-00003.safetensors:   0%|          | 0.00/481M [00:00<?, ?B/s]"
      ]
     },
     "metadata": {},
     "output_type": "display_data"
    },
    {
     "data": {
      "application/vnd.jupyter.widget-view+json": {
       "model_id": "bedca98a4a994655b6766ed7a795b03c",
       "version_major": 2,
       "version_minor": 0
      },
      "text/plain": [
       "model-00001-of-00003.safetensors:   0%|          | 0.00/4.99G [00:00<?, ?B/s]"
      ]
     },
     "metadata": {},
     "output_type": "display_data"
    },
    {
     "data": {
      "application/vnd.jupyter.widget-view+json": {
       "model_id": "73560815c62c4f05a4b23f7eb08e8ca3",
       "version_major": 2,
       "version_minor": 0
      },
      "text/plain": [
       "model-00002-of-00003.safetensors:   0%|          | 0.00/4.98G [00:00<?, ?B/s]"
      ]
     },
     "metadata": {},
     "output_type": "display_data"
    },
    {
     "data": {
      "application/vnd.jupyter.widget-view+json": {
       "model_id": "1fcd934e3aa048b3a146d68c43f3feb3",
       "version_major": 2,
       "version_minor": 0
      },
      "text/plain": [
       "Loading checkpoint shards:   0%|          | 0/3 [00:00<?, ?it/s]"
      ]
     },
     "metadata": {},
     "output_type": "display_data"
    },
    {
     "data": {
      "application/vnd.jupyter.widget-view+json": {
       "model_id": "6c188570dfec49e993530e6eacbed34e",
       "version_major": 2,
       "version_minor": 0
      },
      "text/plain": [
       "generation_config.json:   0%|          | 0.00/168 [00:00<?, ?B/s]"
      ]
     },
     "metadata": {},
     "output_type": "display_data"
    }
   ],
   "source": [
    "model, tokenizer = tyro_model.setup_model()"
   ]
  },
  {
   "cell_type": "code",
   "execution_count": 10,
   "metadata": {
    "colab": {
     "base_uri": "https://localhost:8080/"
    },
    "id": "LZrGETEz9osj",
    "outputId": "7b9cc673-2493-49d2-b388-fcdc85d70899"
   },
   "outputs": [
    {
     "name": "stdout",
     "output_type": "stream",
     "text": [
      "Drugs which act as inhibitors for Tyrosinase can be categoried by IC50, which is the \n",
      "concentration at which they inhibit 50% of the Tyrosinase enzyme's activity. Given the drug SMILES string and molecular \n",
      "properties below, tell which of the three categories the drug will be in: (A) IC50 less than \n",
      "2.5 micromolar, (B) between 2.5 and 50 micromolar, or (C) above 50 micromolar.\n",
      "drug SMILES : O=C(OCc1ccc(O)cc1)c1cc(O)c(O)c(O)c1. \n",
      "molecular properties: Molecular weight 276.24, partition coefficient: 1.87, Hydrgen-bond acceptors: 6, \n",
      "Hydrgen-bond donors: 4, Polariable Surface Area: 107.22, Rotatable bonds: 3,  Aromatic rings: 2. \n",
      "\n",
      "Answer:537\n"
     ]
    }
   ],
   "source": [
    "test_prompt = tyro_model.formatting_func(training_prompts[\"train\"][700])\n",
    "test_prompt = test_prompt[:-8]\n",
    "\n",
    "inputs = tokenizer(test_prompt, return_tensors=\"pt\").to(\"cuda\")\n",
    "\n",
    "outputs = model.generate(**inputs, max_new_tokens=8)\n",
    "print(tokenizer.decode(outputs[0], skip_special_tokens=True))"
   ]
  },
  {
   "cell_type": "code",
   "execution_count": 11,
   "metadata": {
    "id": "oNOlH4V5AAgk"
   },
   "outputs": [],
   "source": [
    "model, lora_config = tyro_model.set_up_peft(model)"
   ]
  },
  {
   "cell_type": "code",
   "execution_count": 12,
   "metadata": {
    "colab": {
     "base_uri": "https://localhost:8080/",
     "height": 699,
     "referenced_widgets": [
      "44319e8db7bf4a04883d6f570439ccbf",
      "3821c045af4349cca5403c622c3f85c5",
      "dd69b90671f0416a9e196b1061165c2f",
      "602f3bc742bf40c68546d12b220ece26",
      "b53f5792f63e43ebad0195ab04f4e3dc",
      "cbd117c1c3564774ba6a464dcccefa0c",
      "aaba6dad64f3404cadee228d861e3076",
      "9ee49313c03546889c7c66f222f783b3",
      "8611eaac85a14432b0be777ce82bfc91",
      "17a3106af145486da4d9390667d4848d",
      "1531d57196394b2c97583ebf70d95a62",
      "1ad3006075034d63a0794f49bb7ca1c9",
      "c8696677dd0c4e69b9156cb54fbea645",
      "2855176314c04ba4890bc18470c56f72",
      "69ebb66787fd4bd9939139c257d5d186",
      "70095fb64c88409e93498513798a8725",
      "9d02624b4c384c4bb73fedd512a32e81",
      "feebc13ddbbb4ebb9787a27a16b20484",
      "905729a11cc942be85805c534c8b8e35",
      "54a71503b7214bf3951a28915977cedf",
      "f42b0bbde9fa4202b9612a4e5e4342ee",
      "cad37f48b48c4ce7a67e7fbe4436aab2",
      "8dff3da81be84d71bfc1f475f262c4a2",
      "40395e65bee043e8bb6393c111acdf90",
      "cc0a3e7080874c5a91a55bc87570f887",
      "ce13f6c1707b41febf197cddde0c3d03",
      "cd06b76977cf4ff5919674eab3130f1c",
      "30aadec4106543fd935adb42fcb27767",
      "75e364b6bad6479e9311ffe352b98347",
      "23a43f752aef415d91a014c0be0bf6c8",
      "b75e58a452884b3e974a8d59492bdbbb",
      "ce89b6fa1abe4ae6922348b33126bfc6",
      "cc3651e132ed451d9b28c0420f716e68",
      "574d94cc8cc1478e991b95e50e220f16",
      "dbf32c0853b348809c2af4d4197ffd4a",
      "ac815ec4c7f04e2485d3ce1825a2d0b1",
      "92a854b21f20484392871da492dec637",
      "fdd297b68f1f4b9cac6be1b7e3e33e0e",
      "c9240610056446658df6af32cbc12eab",
      "930e48f6b66d4b9897bf1995e013c055",
      "d2582f350682463b98b1ae1cfd6f2f4e",
      "c47b4b62cbbc4ba38dd46788fa654fcc",
      "aaec698cafd140e68242283404348867",
      "5d85be87a7924f459ced448899be14a5",
      "008d53b975254a0fb5fccce778b5d6c8",
      "6c702f49107d4fa8a8ef37e7ffe60c57",
      "e4a1d01729754ead85841c3b44b2d09a",
      "e45ee02dc342456abc90404a61add2d0",
      "70aaca4a76c94f6f99984a863d326a8b",
      "bce0efe1302947419505af3d9733e16d",
      "f98ddd6a8f484f9daf2e39314bd365e0",
      "feb6e3956aa84ee396560695fc82141f",
      "e0bd7f04f013470e9a4f7f9a70a26a58",
      "8c5d4bdd1071403b8983e9e0b2a5eef4",
      "14c4f7dc4ffc480c8e14740354f6ea60",
      "c6ba0d98fb4248369860fc75b790c8ba",
      "d911463be02345929e989428f179126f",
      "792fb83ac1a748709aa26e89c59d7cf7",
      "0bc978a96a8344eaa6a7efd7d20a99dd",
      "7db9a4d56f2e4c65a98c0c82c79036f3",
      "1700d79d7f81427bb6f4efbb8af4bed9",
      "30ea554f45be46c9b97e15b3c21cf99f",
      "2922ebb8ef8b4abfbced03085a74eacb",
      "30b5e22e44604145b2bf1de8aa7ae66b",
      "13e2142b8e4c4b9ebefba4dcb7d39ec2",
      "55b403944d904ab7b1a7b43d733b1244",
      "d4ba82d5dfd14e32a80b1736db473ec2",
      "76ba953e2531494aa38aea28c4ded78c",
      "7335697ccefa435bb6ed9f4247a2ce23",
      "d8204369ca784f7f9e0fad1c29fcce2f",
      "df45b996a504469da1ba61bcf85dda9f",
      "b77081e7423747c198bfdcd72166e33d",
      "2b2d2e56ba904d8d995cfa7f0cb5c1a4",
      "c67c733aefe64b6d8cb4dee5bccf859e",
      "17194a86d46c4fb29bb9048114edb161",
      "db742ad3702849c9956098635009f20a",
      "c83e7c9e8ee245f496f3fd4c136c8208",
      "76de5681e5c04945b668d54d295d1867",
      "d3999e2601324849b0d877150ab754fd",
      "a546acaeb1b24ee3b7cbcedcc43f8f87",
      "01ca24d2221e45ea9860710907f26397",
      "4b32893717174192848810f1d8906ded",
      "6fa28868637b408dbc00f2a22b8aff48",
      "5a951fe24019407c944db11b7175adcc",
      "658677f57dad41848362dd4619267466",
      "45c604aa65a6405a85709e2685578724",
      "5440f1ca3d69427dba7abc6858f1066d",
      "373cff26a4b14b9ca410f0fdaa99d977"
     ]
    },
    "id": "ZlC6iUEmEKSg",
    "outputId": "6c93e550-81ef-451a-a7e4-b9361b7772c2"
   },
   "outputs": [
    {
     "data": {
      "application/vnd.jupyter.widget-view+json": {
       "model_id": "44319e8db7bf4a04883d6f570439ccbf",
       "version_major": 2,
       "version_minor": 0
      },
      "text/plain": [
       "Applying formatting function to train dataset:   0%|          | 0/1053 [00:00<?, ? examples/s]"
      ]
     },
     "metadata": {},
     "output_type": "display_data"
    },
    {
     "data": {
      "application/vnd.jupyter.widget-view+json": {
       "model_id": "1ad3006075034d63a0794f49bb7ca1c9",
       "version_major": 2,
       "version_minor": 0
      },
      "text/plain": [
       "Adding EOS to train dataset:   0%|          | 0/1053 [00:00<?, ? examples/s]"
      ]
     },
     "metadata": {},
     "output_type": "display_data"
    },
    {
     "data": {
      "application/vnd.jupyter.widget-view+json": {
       "model_id": "8dff3da81be84d71bfc1f475f262c4a2",
       "version_major": 2,
       "version_minor": 0
      },
      "text/plain": [
       "Tokenizing train dataset:   0%|          | 0/1053 [00:00<?, ? examples/s]"
      ]
     },
     "metadata": {},
     "output_type": "display_data"
    },
    {
     "data": {
      "application/vnd.jupyter.widget-view+json": {
       "model_id": "574d94cc8cc1478e991b95e50e220f16",
       "version_major": 2,
       "version_minor": 0
      },
      "text/plain": [
       "Truncating train dataset:   0%|          | 0/1053 [00:00<?, ? examples/s]"
      ]
     },
     "metadata": {},
     "output_type": "display_data"
    },
    {
     "data": {
      "application/vnd.jupyter.widget-view+json": {
       "model_id": "008d53b975254a0fb5fccce778b5d6c8",
       "version_major": 2,
       "version_minor": 0
      },
      "text/plain": [
       "Applying formatting function to eval dataset:   0%|          | 0/186 [00:00<?, ? examples/s]"
      ]
     },
     "metadata": {},
     "output_type": "display_data"
    },
    {
     "data": {
      "application/vnd.jupyter.widget-view+json": {
       "model_id": "c6ba0d98fb4248369860fc75b790c8ba",
       "version_major": 2,
       "version_minor": 0
      },
      "text/plain": [
       "Adding EOS to eval dataset:   0%|          | 0/186 [00:00<?, ? examples/s]"
      ]
     },
     "metadata": {},
     "output_type": "display_data"
    },
    {
     "data": {
      "application/vnd.jupyter.widget-view+json": {
       "model_id": "d4ba82d5dfd14e32a80b1736db473ec2",
       "version_major": 2,
       "version_minor": 0
      },
      "text/plain": [
       "Tokenizing eval dataset:   0%|          | 0/186 [00:00<?, ? examples/s]"
      ]
     },
     "metadata": {},
     "output_type": "display_data"
    },
    {
     "data": {
      "application/vnd.jupyter.widget-view+json": {
       "model_id": "76de5681e5c04945b668d54d295d1867",
       "version_major": 2,
       "version_minor": 0
      },
      "text/plain": [
       "Truncating eval dataset:   0%|          | 0/186 [00:00<?, ? examples/s]"
      ]
     },
     "metadata": {},
     "output_type": "display_data"
    },
    {
     "name": "stderr",
     "output_type": "stream",
     "text": [
      "No label_names provided for model class `PeftModelForCausalLM`. Since `PeftModel` hides base models input arguments, if label_names is not given, label_names can't be set automatically within `Trainer`. Note that empty label_names list will be used instead.\n",
      "`use_cache=True` is incompatible with gradient checkpointing. Setting `use_cache=False`.\n"
     ]
    },
    {
     "data": {
      "text/html": [
       "\n",
       "    <div>\n",
       "      \n",
       "      <progress value='170' max='170' style='width:300px; height:20px; vertical-align: middle;'></progress>\n",
       "      [170/170 13:27, Epoch 10/10]\n",
       "    </div>\n",
       "    <table border=\"1\" class=\"dataframe\">\n",
       "  <thead>\n",
       " <tr style=\"text-align: left;\">\n",
       "      <th>Epoch</th>\n",
       "      <th>Training Loss</th>\n",
       "      <th>Validation Loss</th>\n",
       "    </tr>\n",
       "  </thead>\n",
       "  <tbody>\n",
       "    <tr>\n",
       "      <td>1</td>\n",
       "      <td>5.676500</td>\n",
       "      <td>1.653417</td>\n",
       "    </tr>\n",
       "    <tr>\n",
       "      <td>2</td>\n",
       "      <td>0.804200</td>\n",
       "      <td>0.492384</td>\n",
       "    </tr>\n",
       "    <tr>\n",
       "      <td>3</td>\n",
       "      <td>0.420500</td>\n",
       "      <td>0.373542</td>\n",
       "    </tr>\n",
       "    <tr>\n",
       "      <td>4</td>\n",
       "      <td>0.332000</td>\n",
       "      <td>0.326129</td>\n",
       "    </tr>\n",
       "    <tr>\n",
       "      <td>5</td>\n",
       "      <td>0.285400</td>\n",
       "      <td>0.286634</td>\n",
       "    </tr>\n",
       "    <tr>\n",
       "      <td>6</td>\n",
       "      <td>0.247200</td>\n",
       "      <td>0.261297</td>\n",
       "    </tr>\n",
       "    <tr>\n",
       "      <td>7</td>\n",
       "      <td>0.219700</td>\n",
       "      <td>0.242341</td>\n",
       "    </tr>\n",
       "    <tr>\n",
       "      <td>8</td>\n",
       "      <td>0.200800</td>\n",
       "      <td>0.232703</td>\n",
       "    </tr>\n",
       "    <tr>\n",
       "      <td>9</td>\n",
       "      <td>0.188300</td>\n",
       "      <td>0.226801</td>\n",
       "    </tr>\n",
       "    <tr>\n",
       "      <td>10</td>\n",
       "      <td>0.180400</td>\n",
       "      <td>0.225766</td>\n",
       "    </tr>\n",
       "  </tbody>\n",
       "</table><p>"
      ],
      "text/plain": [
       "<IPython.core.display.HTML object>"
      ]
     },
     "metadata": {},
     "output_type": "display_data"
    }
   ],
   "source": [
    "model = tyro_model.train_model(model, tokenizer, lora_config, training_prompts)"
   ]
  },
  {
   "cell_type": "code",
   "execution_count": 13,
   "metadata": {
    "colab": {
     "base_uri": "https://localhost:8080/"
    },
    "id": "CGfZbJo9ERrG",
    "outputId": "28816d47-cdd6-4bfb-cc6c-b0b22b640916"
   },
   "outputs": [
    {
     "name": "stdout",
     "output_type": "stream",
     "text": [
      "Drugs which act as inhibitors for Tyrosinase can be categoried by IC50, which is the \n",
      "concentration at which they inhibit 50% of the Tyrosinase enzyme's activity. Given the drug SMILES string and molecular \n",
      "properties below, tell which of the three categories the drug will be in: (A) IC50 less than \n",
      "2.5 micromolar, (B) between 2.5 and 50 micromolar, or (C) above 50 micromolar.\n",
      "drug SMILES : O=C(OCc1ccc(O)cc1)c1cc(O)c(O)c(O)c1. \n",
      "molecular properties: Molecular weight 276.24, partition coefficient: 1.87, Hydrgen-bond acceptors: 6, \n",
      "Hydrgen-bond donors: 4, Polariable Surface Area: 107.22, Rotatable bonds: 3,  Aromatic rings: 2. \n",
      "\n",
      "Answer:  B\n"
     ]
    }
   ],
   "source": [
    "outputs = model.generate(**inputs, max_new_tokens=8)\n",
    "print(tokenizer.decode(outputs[0], skip_special_tokens=True))"
   ]
  },
  {
   "cell_type": "code",
   "execution_count": null,
   "metadata": {
    "id": "V0xkWSNrJ8Fs"
   },
   "outputs": [],
   "source": []
  }
 ],
 "metadata": {
  "accelerator": "GPU",
  "colab": {
   "gpuType": "A100",
   "machine_shape": "hm",
   "provenance": []
  },
  "kernelspec": {
   "display_name": "Python 3",
   "language": "python",
   "name": "python3"
  },
  "language_info": {
   "codemirror_mode": {
    "name": "ipython",
    "version": 3
   },
   "file_extension": ".py",
   "mimetype": "text/x-python",
   "name": "python",
   "nbconvert_exporter": "python",
   "pygments_lexer": "ipython3",
   "version": "3.8.8"
  }
 },
 "nbformat": 4,
 "nbformat_minor": 1
}
