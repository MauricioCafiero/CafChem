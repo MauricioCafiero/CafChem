{
  "metadata": {
    "kernelspec": {
      "language": "python",
      "display_name": "Python 3",
      "name": "python3"
    },
    "language_info": {
      "name": "python",
      "version": "3.11.13",
      "mimetype": "text/x-python",
      "codemirror_mode": {
        "name": "ipython",
        "version": 3
      },
      "pygments_lexer": "ipython3",
      "nbconvert_exporter": "python",
      "file_extension": ".py"
    },
    "kaggle": {
      "accelerator": "none",
      "dataSources": [
        {
          "sourceId": 13054781,
          "sourceType": "datasetVersion",
          "datasetId": 8266836
        },
        {
          "sourceId": 13070507,
          "sourceType": "datasetVersion",
          "datasetId": 8277711
        }
      ],
      "dockerImageVersionId": 31153,
      "isInternetEnabled": true,
      "language": "python",
      "sourceType": "notebook",
      "isGpuEnabled": false
    },
    "colab": {
      "provenance": []
    }
  },
  "nbformat_minor": 0,
  "nbformat": 4,
  "cells": [
    {
      "cell_type": "markdown",
      "source": [
        "#CafChem tools for using various gradient boosting machine learning models.\n",
        "\n",
        "[![Open In Colab](https://colab.research.google.com/assets/colab-badge.svg)](https://colab.research.google.com/github/MauricioCafiero/CafChem/blob/main/notebooks/Boost_CafChem.ipynb)\n",
        "\n",
        "## This notebook allows you to:\n",
        "- load a CSV and featurize a SMILES dataset with RDKit or Mordred descriptors or Fingerprints.\n",
        "- Fit a gradient boosting model with XGBoost, CatBoost or LightGBM.\n",
        "- Classification and Regression.\n",
        "- Perform gridsearch with CV.\n",
        "\n",
        "## Requirements:\n",
        "- This notebook will install rdkit.\n",
        "- Runs on CPU or your local runtime."
      ],
      "metadata": {
        "id": "NAcefxKDWIBV"
      }
    },
    {
      "cell_type": "markdown",
      "source": [
        "## Set-up\n",
        "- install rdkit\n",
        "- import libarries"
      ],
      "metadata": {
        "id": "LHrJ5GQBWIBY"
      }
    },
    {
      "cell_type": "code",
      "source": [
        "!pip install -q rdkit\n",
        "!pip install -q catboost\n",
        "!pip install -q deepchem\n",
        "!pip install -q mordred"
      ],
      "metadata": {
        "trusted": true,
        "execution": {
          "iopub.status.busy": "2025-10-26T15:30:06.454865Z",
          "iopub.execute_input": "2025-10-26T15:30:06.455239Z",
          "iopub.status.idle": "2025-10-26T15:30:31.166099Z",
          "shell.execute_reply.started": "2025-10-26T15:30:06.455206Z",
          "shell.execute_reply": "2025-10-26T15:30:31.164980Z"
        },
        "colab": {
          "base_uri": "https://localhost:8080/"
        },
        "id": "yMigL9LoWIBZ",
        "outputId": "3e300d72-025b-4110-ae7b-b08e5cf9760b"
      },
      "outputs": [
        {
          "output_type": "stream",
          "name": "stdout",
          "text": [
            "\u001b[2K   \u001b[90m━━━━━━━━━━━━━━━━━━━━━━━━━━━━━━━━━━━━━━━━\u001b[0m \u001b[32m36.2/36.2 MB\u001b[0m \u001b[31m48.8 MB/s\u001b[0m eta \u001b[36m0:00:00\u001b[0m\n",
            "\u001b[2K   \u001b[90m━━━━━━━━━━━━━━━━━━━━━━━━━━━━━━━━━━━━━━━━\u001b[0m \u001b[32m552.4/552.4 kB\u001b[0m \u001b[31m14.7 MB/s\u001b[0m eta \u001b[36m0:00:00\u001b[0m\n",
            "\u001b[2K     \u001b[90m━━━━━━━━━━━━━━━━━━━━━━━━━━━━━━━━━━━━━━━\u001b[0m \u001b[32m128.8/128.8 kB\u001b[0m \u001b[31m8.3 MB/s\u001b[0m eta \u001b[36m0:00:00\u001b[0m\n",
            "\u001b[?25h  Preparing metadata (setup.py) ... \u001b[?25l\u001b[?25hdone\n",
            "\u001b[2K     \u001b[90m━━━━━━━━━━━━━━━━━━━━━━━━━━━━━━━━━━━━━━━━\u001b[0m \u001b[32m61.0/61.0 kB\u001b[0m \u001b[31m4.0 MB/s\u001b[0m eta \u001b[36m0:00:00\u001b[0m\n",
            "\u001b[2K   \u001b[90m━━━━━━━━━━━━━━━━━━━━━━━━━━━━━━━━━━━━━━━━\u001b[0m \u001b[32m2.0/2.0 MB\u001b[0m \u001b[31m79.9 MB/s\u001b[0m eta \u001b[36m0:00:00\u001b[0m\n",
            "\u001b[2K   \u001b[90m━━━━━━━━━━━━━━━━━━━━━━━━━━━━━━━━━━━━━━━━\u001b[0m \u001b[32m18.0/18.0 MB\u001b[0m \u001b[31m97.1 MB/s\u001b[0m eta \u001b[36m0:00:00\u001b[0m\n",
            "\u001b[?25h  Building wheel for mordred (setup.py) ... \u001b[?25l\u001b[?25hdone\n",
            "\u001b[31mERROR: pip's dependency resolver does not currently take into account all the packages that are installed. This behaviour is the source of the following dependency conflicts.\n",
            "jaxlib 0.7.2 requires numpy>=2.0, but you have numpy 1.26.4 which is incompatible.\n",
            "opencv-contrib-python 4.12.0.88 requires numpy<2.3.0,>=2; python_version >= \"3.9\", but you have numpy 1.26.4 which is incompatible.\n",
            "jax 0.7.2 requires numpy>=2.0, but you have numpy 1.26.4 which is incompatible.\n",
            "opencv-python-headless 4.12.0.88 requires numpy<2.3.0,>=2; python_version >= \"3.9\", but you have numpy 1.26.4 which is incompatible.\n",
            "opencv-python 4.12.0.88 requires numpy<2.3.0,>=2; python_version >= \"3.9\", but you have numpy 1.26.4 which is incompatible.\n",
            "pytensor 2.35.1 requires numpy>=2.0, but you have numpy 1.26.4 which is incompatible.\n",
            "nx-cugraph-cu12 25.6.0 requires networkx>=3.2, but you have networkx 2.8.8 which is incompatible.\n",
            "scikit-image 0.25.2 requires networkx>=3.0, but you have networkx 2.8.8 which is incompatible.\n",
            "thinc 8.3.6 requires numpy<3.0.0,>=2.0.0, but you have numpy 1.26.4 which is incompatible.\u001b[0m\u001b[31m\n",
            "\u001b[0m"
          ]
        }
      ],
      "execution_count": 1
    },
    {
      "cell_type": "code",
      "metadata": {
        "colab": {
          "base_uri": "https://localhost:8080/",
          "height": 443
        },
        "id": "bf9c6479",
        "outputId": "c04beb55-b3e6-4965-a2fc-2949e07cebd6"
      },
      "source": [
        "## ONLY NEEDED ON CURRENT COLAB (OCTOBER 2025)\n",
        "!pip install \"numpy>=2.0.0,<2.3.0\" --force-reinstall"
      ],
      "execution_count": 5,
      "outputs": [
        {
          "output_type": "stream",
          "name": "stdout",
          "text": [
            "Collecting numpy<2.3.0,>=2.0.0\n",
            "  Downloading numpy-2.2.6-cp312-cp312-manylinux_2_17_x86_64.manylinux2014_x86_64.whl.metadata (62 kB)\n",
            "\u001b[?25l     \u001b[90m━━━━━━━━━━━━━━━━━━━━━━━━━━━━━━━━━━━━━━━━\u001b[0m \u001b[32m0.0/62.0 kB\u001b[0m \u001b[31m?\u001b[0m eta \u001b[36m-:--:--\u001b[0m\r\u001b[2K     \u001b[90m━━━━━━━━━━━━━━━━━━━━━━━━━━━━━━━━━━━━━━━━\u001b[0m \u001b[32m62.0/62.0 kB\u001b[0m \u001b[31m4.2 MB/s\u001b[0m eta \u001b[36m0:00:00\u001b[0m\n",
            "\u001b[?25hDownloading numpy-2.2.6-cp312-cp312-manylinux_2_17_x86_64.manylinux2014_x86_64.whl (16.5 MB)\n",
            "\u001b[2K   \u001b[90m━━━━━━━━━━━━━━━━━━━━━━━━━━━━━━━━━━━━━━━━\u001b[0m \u001b[32m16.5/16.5 MB\u001b[0m \u001b[31m111.4 MB/s\u001b[0m eta \u001b[36m0:00:00\u001b[0m\n",
            "\u001b[?25hInstalling collected packages: numpy\n",
            "  Attempting uninstall: numpy\n",
            "    Found existing installation: numpy 1.26.4\n",
            "    Uninstalling numpy-1.26.4:\n",
            "      Successfully uninstalled numpy-1.26.4\n",
            "\u001b[31mERROR: pip's dependency resolver does not currently take into account all the packages that are installed. This behaviour is the source of the following dependency conflicts.\n",
            "mordred 1.2.0 requires numpy==1.*, but you have numpy 2.2.6 which is incompatible.\n",
            "tensorflow 2.19.0 requires numpy<2.2.0,>=1.26.0, but you have numpy 2.2.6 which is incompatible.\n",
            "numba 0.60.0 requires numpy<2.1,>=1.22, but you have numpy 2.2.6 which is incompatible.\n",
            "nx-cugraph-cu12 25.6.0 requires networkx>=3.2, but you have networkx 2.8.8 which is incompatible.\n",
            "scikit-image 0.25.2 requires networkx>=3.0, but you have networkx 2.8.8 which is incompatible.\u001b[0m\u001b[31m\n",
            "\u001b[0mSuccessfully installed numpy-2.2.6\n"
          ]
        },
        {
          "output_type": "display_data",
          "data": {
            "application/vnd.colab-display-data+json": {
              "pip_warning": {
                "packages": [
                  "numpy"
                ]
              },
              "id": "8b5bc5fa7a0a4ed991de1e63bdca3ea4"
            }
          },
          "metadata": {}
        }
      ]
    },
    {
      "cell_type": "code",
      "source": [
        "!git clone https://github.com/MauricioCafiero/CafChem.git"
      ],
      "metadata": {
        "trusted": true,
        "execution": {
          "iopub.status.busy": "2025-10-26T15:38:17.194189Z",
          "iopub.execute_input": "2025-10-26T15:38:17.194572Z",
          "iopub.status.idle": "2025-10-26T15:38:20.884585Z",
          "shell.execute_reply.started": "2025-10-26T15:38:17.194541Z",
          "shell.execute_reply": "2025-10-26T15:38:20.883258Z"
        },
        "colab": {
          "base_uri": "https://localhost:8080/"
        },
        "id": "KxZPo9XNWIBb",
        "outputId": "d3a33d05-e045-4e9c-fdf2-abccfe3574b2"
      },
      "outputs": [
        {
          "output_type": "stream",
          "name": "stdout",
          "text": [
            "Cloning into 'CafChem'...\n",
            "remote: Enumerating objects: 1108, done.\u001b[K\n",
            "remote: Counting objects: 100% (430/430), done.\u001b[K\n",
            "remote: Compressing objects: 100% (173/173), done.\u001b[K\n",
            "remote: Total 1108 (delta 371), reused 257 (delta 257), pack-reused 678 (from 1)\u001b[K\n",
            "Receiving objects: 100% (1108/1108), 57.35 MiB | 12.38 MiB/s, done.\n",
            "Resolving deltas: 100% (652/652), done.\n",
            "Updating files: 100% (90/90), done.\n"
          ]
        }
      ],
      "execution_count": 2
    },
    {
      "cell_type": "code",
      "source": [
        "import numpy as np\n",
        "import pandas as pd\n",
        "from rdkit import Chem\n",
        "from rdkit.Chem import AllChem, Draw, Descriptors\n",
        "\n",
        "import CafChem.CafChemBoost as ccb"
      ],
      "metadata": {
        "_uuid": "8f2839f25d086af736a60e9eeb907d3b93b6e0e5",
        "_cell_guid": "b1076dfc-b9ad-4769-8c92-a6c4dae69d19",
        "trusted": true,
        "execution": {
          "iopub.status.busy": "2025-10-26T15:30:35.074542Z",
          "iopub.execute_input": "2025-10-26T15:30:35.074939Z",
          "iopub.status.idle": "2025-10-26T15:31:26.748344Z",
          "shell.execute_reply.started": "2025-10-26T15:30:35.074908Z",
          "shell.execute_reply": "2025-10-26T15:31:26.747081Z"
        },
        "id": "ELLJtUAJWIBc"
      },
      "outputs": [],
      "execution_count": 3
    },
    {
      "cell_type": "markdown",
      "source": [
        "## Classification"
      ],
      "metadata": {
        "id": "DKqNqBV2WIBd"
      }
    },
    {
      "cell_type": "markdown",
      "source": [
        "### Read data from CSV, featurize"
      ],
      "metadata": {
        "id": "IofYdWchWIBe"
      }
    },
    {
      "cell_type": "code",
      "source": [
        "df = ccb.make_classes('/content/905-unique-statins.csv', 'IC50 (nM)', 3)\n",
        "df.head()"
      ],
      "metadata": {
        "trusted": true,
        "execution": {
          "iopub.status.busy": "2025-10-26T15:48:38.404717Z",
          "iopub.execute_input": "2025-10-26T15:48:38.405852Z",
          "iopub.status.idle": "2025-10-26T15:48:38.426416Z",
          "shell.execute_reply.started": "2025-10-26T15:48:38.405818Z",
          "shell.execute_reply": "2025-10-26T15:48:38.425170Z"
        },
        "colab": {
          "base_uri": "https://localhost:8080/",
          "height": 224
        },
        "id": "4NNKTEabWIBf",
        "outputId": "b5d9f580-1d69-430f-c2b8-221f328f2128"
      },
      "outputs": [
        {
          "output_type": "stream",
          "name": "stdout",
          "text": [
            "Samples per class: 301, total samples:905\n"
          ]
        },
        {
          "output_type": "execute_result",
          "data": {
            "text/plain": [
              "   Unnamed: 0                                      Ligand SMILES  IC50 (nM)  \\\n",
              "0           7  CC(C)c1c(\\C=C\\[C@H](O)C[C@@H](O)CC([O-])=O)c(c...      0.106   \n",
              "1           8  CC(C)n1c(CC[C@@H](O)C[C@@H](O)CC([O-])=O)c(c(c...      0.200   \n",
              "2          10  CC(C)n1c(CC[C@@H](O)C[C@@H](O)CC([O-])=O)c(c(c...      0.300   \n",
              "3          11  CC(C)n1c(CC[C@@H](O)C[C@@H](O)CC([O-])=O)c(c2C...      0.300   \n",
              "4          12  COC(=O)C[C@H](O)C[C@H](O)\\C=C\\n1c(C(C)C)c(Br)c...      0.300   \n",
              "\n",
              "   class labels  \n",
              "0  0.106 < 15.0  \n",
              "1  0.106 < 15.0  \n",
              "2  0.106 < 15.0  \n",
              "3  0.106 < 15.0  \n",
              "4  0.106 < 15.0  "
            ],
            "text/html": [
              "\n",
              "  <div id=\"df-d1ffca66-7c38-4ef4-a8c9-5b85a8d3e22d\" class=\"colab-df-container\">\n",
              "    <div>\n",
              "<style scoped>\n",
              "    .dataframe tbody tr th:only-of-type {\n",
              "        vertical-align: middle;\n",
              "    }\n",
              "\n",
              "    .dataframe tbody tr th {\n",
              "        vertical-align: top;\n",
              "    }\n",
              "\n",
              "    .dataframe thead th {\n",
              "        text-align: right;\n",
              "    }\n",
              "</style>\n",
              "<table border=\"1\" class=\"dataframe\">\n",
              "  <thead>\n",
              "    <tr style=\"text-align: right;\">\n",
              "      <th></th>\n",
              "      <th>Unnamed: 0</th>\n",
              "      <th>Ligand SMILES</th>\n",
              "      <th>IC50 (nM)</th>\n",
              "      <th>class labels</th>\n",
              "    </tr>\n",
              "  </thead>\n",
              "  <tbody>\n",
              "    <tr>\n",
              "      <th>0</th>\n",
              "      <td>7</td>\n",
              "      <td>CC(C)c1c(\\C=C\\[C@H](O)C[C@@H](O)CC([O-])=O)c(c...</td>\n",
              "      <td>0.106</td>\n",
              "      <td>0.106 &lt; 15.0</td>\n",
              "    </tr>\n",
              "    <tr>\n",
              "      <th>1</th>\n",
              "      <td>8</td>\n",
              "      <td>CC(C)n1c(CC[C@@H](O)C[C@@H](O)CC([O-])=O)c(c(c...</td>\n",
              "      <td>0.200</td>\n",
              "      <td>0.106 &lt; 15.0</td>\n",
              "    </tr>\n",
              "    <tr>\n",
              "      <th>2</th>\n",
              "      <td>10</td>\n",
              "      <td>CC(C)n1c(CC[C@@H](O)C[C@@H](O)CC([O-])=O)c(c(c...</td>\n",
              "      <td>0.300</td>\n",
              "      <td>0.106 &lt; 15.0</td>\n",
              "    </tr>\n",
              "    <tr>\n",
              "      <th>3</th>\n",
              "      <td>11</td>\n",
              "      <td>CC(C)n1c(CC[C@@H](O)C[C@@H](O)CC([O-])=O)c(c2C...</td>\n",
              "      <td>0.300</td>\n",
              "      <td>0.106 &lt; 15.0</td>\n",
              "    </tr>\n",
              "    <tr>\n",
              "      <th>4</th>\n",
              "      <td>12</td>\n",
              "      <td>COC(=O)C[C@H](O)C[C@H](O)\\C=C\\n1c(C(C)C)c(Br)c...</td>\n",
              "      <td>0.300</td>\n",
              "      <td>0.106 &lt; 15.0</td>\n",
              "    </tr>\n",
              "  </tbody>\n",
              "</table>\n",
              "</div>\n",
              "    <div class=\"colab-df-buttons\">\n",
              "\n",
              "  <div class=\"colab-df-container\">\n",
              "    <button class=\"colab-df-convert\" onclick=\"convertToInteractive('df-d1ffca66-7c38-4ef4-a8c9-5b85a8d3e22d')\"\n",
              "            title=\"Convert this dataframe to an interactive table.\"\n",
              "            style=\"display:none;\">\n",
              "\n",
              "  <svg xmlns=\"http://www.w3.org/2000/svg\" height=\"24px\" viewBox=\"0 -960 960 960\">\n",
              "    <path d=\"M120-120v-720h720v720H120Zm60-500h600v-160H180v160Zm220 220h160v-160H400v160Zm0 220h160v-160H400v160ZM180-400h160v-160H180v160Zm440 0h160v-160H620v160ZM180-180h160v-160H180v160Zm440 0h160v-160H620v160Z\"/>\n",
              "  </svg>\n",
              "    </button>\n",
              "\n",
              "  <style>\n",
              "    .colab-df-container {\n",
              "      display:flex;\n",
              "      gap: 12px;\n",
              "    }\n",
              "\n",
              "    .colab-df-convert {\n",
              "      background-color: #E8F0FE;\n",
              "      border: none;\n",
              "      border-radius: 50%;\n",
              "      cursor: pointer;\n",
              "      display: none;\n",
              "      fill: #1967D2;\n",
              "      height: 32px;\n",
              "      padding: 0 0 0 0;\n",
              "      width: 32px;\n",
              "    }\n",
              "\n",
              "    .colab-df-convert:hover {\n",
              "      background-color: #E2EBFA;\n",
              "      box-shadow: 0px 1px 2px rgba(60, 64, 67, 0.3), 0px 1px 3px 1px rgba(60, 64, 67, 0.15);\n",
              "      fill: #174EA6;\n",
              "    }\n",
              "\n",
              "    .colab-df-buttons div {\n",
              "      margin-bottom: 4px;\n",
              "    }\n",
              "\n",
              "    [theme=dark] .colab-df-convert {\n",
              "      background-color: #3B4455;\n",
              "      fill: #D2E3FC;\n",
              "    }\n",
              "\n",
              "    [theme=dark] .colab-df-convert:hover {\n",
              "      background-color: #434B5C;\n",
              "      box-shadow: 0px 1px 3px 1px rgba(0, 0, 0, 0.15);\n",
              "      filter: drop-shadow(0px 1px 2px rgba(0, 0, 0, 0.3));\n",
              "      fill: #FFFFFF;\n",
              "    }\n",
              "  </style>\n",
              "\n",
              "    <script>\n",
              "      const buttonEl =\n",
              "        document.querySelector('#df-d1ffca66-7c38-4ef4-a8c9-5b85a8d3e22d button.colab-df-convert');\n",
              "      buttonEl.style.display =\n",
              "        google.colab.kernel.accessAllowed ? 'block' : 'none';\n",
              "\n",
              "      async function convertToInteractive(key) {\n",
              "        const element = document.querySelector('#df-d1ffca66-7c38-4ef4-a8c9-5b85a8d3e22d');\n",
              "        const dataTable =\n",
              "          await google.colab.kernel.invokeFunction('convertToInteractive',\n",
              "                                                    [key], {});\n",
              "        if (!dataTable) return;\n",
              "\n",
              "        const docLinkHtml = 'Like what you see? Visit the ' +\n",
              "          '<a target=\"_blank\" href=https://colab.research.google.com/notebooks/data_table.ipynb>data table notebook</a>'\n",
              "          + ' to learn more about interactive tables.';\n",
              "        element.innerHTML = '';\n",
              "        dataTable['output_type'] = 'display_data';\n",
              "        await google.colab.output.renderOutput(dataTable, element);\n",
              "        const docLink = document.createElement('div');\n",
              "        docLink.innerHTML = docLinkHtml;\n",
              "        element.appendChild(docLink);\n",
              "      }\n",
              "    </script>\n",
              "  </div>\n",
              "\n",
              "\n",
              "    <div id=\"df-0cc0bb2b-cfa5-4e97-8441-4620025a165e\">\n",
              "      <button class=\"colab-df-quickchart\" onclick=\"quickchart('df-0cc0bb2b-cfa5-4e97-8441-4620025a165e')\"\n",
              "                title=\"Suggest charts\"\n",
              "                style=\"display:none;\">\n",
              "\n",
              "<svg xmlns=\"http://www.w3.org/2000/svg\" height=\"24px\"viewBox=\"0 0 24 24\"\n",
              "     width=\"24px\">\n",
              "    <g>\n",
              "        <path d=\"M19 3H5c-1.1 0-2 .9-2 2v14c0 1.1.9 2 2 2h14c1.1 0 2-.9 2-2V5c0-1.1-.9-2-2-2zM9 17H7v-7h2v7zm4 0h-2V7h2v10zm4 0h-2v-4h2v4z\"/>\n",
              "    </g>\n",
              "</svg>\n",
              "      </button>\n",
              "\n",
              "<style>\n",
              "  .colab-df-quickchart {\n",
              "      --bg-color: #E8F0FE;\n",
              "      --fill-color: #1967D2;\n",
              "      --hover-bg-color: #E2EBFA;\n",
              "      --hover-fill-color: #174EA6;\n",
              "      --disabled-fill-color: #AAA;\n",
              "      --disabled-bg-color: #DDD;\n",
              "  }\n",
              "\n",
              "  [theme=dark] .colab-df-quickchart {\n",
              "      --bg-color: #3B4455;\n",
              "      --fill-color: #D2E3FC;\n",
              "      --hover-bg-color: #434B5C;\n",
              "      --hover-fill-color: #FFFFFF;\n",
              "      --disabled-bg-color: #3B4455;\n",
              "      --disabled-fill-color: #666;\n",
              "  }\n",
              "\n",
              "  .colab-df-quickchart {\n",
              "    background-color: var(--bg-color);\n",
              "    border: none;\n",
              "    border-radius: 50%;\n",
              "    cursor: pointer;\n",
              "    display: none;\n",
              "    fill: var(--fill-color);\n",
              "    height: 32px;\n",
              "    padding: 0;\n",
              "    width: 32px;\n",
              "  }\n",
              "\n",
              "  .colab-df-quickchart:hover {\n",
              "    background-color: var(--hover-bg-color);\n",
              "    box-shadow: 0 1px 2px rgba(60, 64, 67, 0.3), 0 1px 3px 1px rgba(60, 64, 67, 0.15);\n",
              "    fill: var(--button-hover-fill-color);\n",
              "  }\n",
              "\n",
              "  .colab-df-quickchart-complete:disabled,\n",
              "  .colab-df-quickchart-complete:disabled:hover {\n",
              "    background-color: var(--disabled-bg-color);\n",
              "    fill: var(--disabled-fill-color);\n",
              "    box-shadow: none;\n",
              "  }\n",
              "\n",
              "  .colab-df-spinner {\n",
              "    border: 2px solid var(--fill-color);\n",
              "    border-color: transparent;\n",
              "    border-bottom-color: var(--fill-color);\n",
              "    animation:\n",
              "      spin 1s steps(1) infinite;\n",
              "  }\n",
              "\n",
              "  @keyframes spin {\n",
              "    0% {\n",
              "      border-color: transparent;\n",
              "      border-bottom-color: var(--fill-color);\n",
              "      border-left-color: var(--fill-color);\n",
              "    }\n",
              "    20% {\n",
              "      border-color: transparent;\n",
              "      border-left-color: var(--fill-color);\n",
              "      border-top-color: var(--fill-color);\n",
              "    }\n",
              "    30% {\n",
              "      border-color: transparent;\n",
              "      border-left-color: var(--fill-color);\n",
              "      border-top-color: var(--fill-color);\n",
              "      border-right-color: var(--fill-color);\n",
              "    }\n",
              "    40% {\n",
              "      border-color: transparent;\n",
              "      border-right-color: var(--fill-color);\n",
              "      border-top-color: var(--fill-color);\n",
              "    }\n",
              "    60% {\n",
              "      border-color: transparent;\n",
              "      border-right-color: var(--fill-color);\n",
              "    }\n",
              "    80% {\n",
              "      border-color: transparent;\n",
              "      border-right-color: var(--fill-color);\n",
              "      border-bottom-color: var(--fill-color);\n",
              "    }\n",
              "    90% {\n",
              "      border-color: transparent;\n",
              "      border-bottom-color: var(--fill-color);\n",
              "    }\n",
              "  }\n",
              "</style>\n",
              "\n",
              "      <script>\n",
              "        async function quickchart(key) {\n",
              "          const quickchartButtonEl =\n",
              "            document.querySelector('#' + key + ' button');\n",
              "          quickchartButtonEl.disabled = true;  // To prevent multiple clicks.\n",
              "          quickchartButtonEl.classList.add('colab-df-spinner');\n",
              "          try {\n",
              "            const charts = await google.colab.kernel.invokeFunction(\n",
              "                'suggestCharts', [key], {});\n",
              "          } catch (error) {\n",
              "            console.error('Error during call to suggestCharts:', error);\n",
              "          }\n",
              "          quickchartButtonEl.classList.remove('colab-df-spinner');\n",
              "          quickchartButtonEl.classList.add('colab-df-quickchart-complete');\n",
              "        }\n",
              "        (() => {\n",
              "          let quickchartButtonEl =\n",
              "            document.querySelector('#df-0cc0bb2b-cfa5-4e97-8441-4620025a165e button');\n",
              "          quickchartButtonEl.style.display =\n",
              "            google.colab.kernel.accessAllowed ? 'block' : 'none';\n",
              "        })();\n",
              "      </script>\n",
              "    </div>\n",
              "\n",
              "    </div>\n",
              "  </div>\n"
            ],
            "application/vnd.google.colaboratory.intrinsic+json": {
              "type": "dataframe",
              "variable_name": "df",
              "summary": "{\n  \"name\": \"df\",\n  \"rows\": 905,\n  \"fields\": [\n    {\n      \"column\": \"Unnamed: 0\",\n      \"properties\": {\n        \"dtype\": \"number\",\n        \"std\": 422,\n        \"min\": 7,\n        \"max\": 1406,\n        \"num_unique_values\": 905,\n        \"samples\": [\n          1064,\n          221,\n          1254\n        ],\n        \"semantic_type\": \"\",\n        \"description\": \"\"\n      }\n    },\n    {\n      \"column\": \"Ligand SMILES\",\n      \"properties\": {\n        \"dtype\": \"string\",\n        \"num_unique_values\": 904,\n        \"samples\": [\n          \"CC[C@@H](C)C(=O)O[C@H]1C[C@@H](C)C=C2C=C[C@H](C)[C@H](CC[C@@H]3C[C@@H](O)CC(=O)O3)[C@@H]12\",\n          \"C[C@@H]1C[C@H](OC(=O)Oc2ccccc2)C2[C@@H](CC[C@@H]3C[C@@H](O)CC(=O)O3)[C@@H](C)C=CC2=C1\",\n          \"CC(C)c1nc(c(-c2cccc(Cl)c2)n1\\\\C=C\\\\[C@@H](O)C[C@@H](O)CC([O-])=O)-c1ccc(F)cc1\"\n        ],\n        \"semantic_type\": \"\",\n        \"description\": \"\"\n      }\n    },\n    {\n      \"column\": \"IC50 (nM)\",\n      \"properties\": {\n        \"dtype\": \"number\",\n        \"std\": 171051.13396676542,\n        \"min\": 0.106,\n        \"max\": 2488000.0,\n        \"num_unique_values\": 469,\n        \"samples\": [\n          6.5,\n          8.15,\n          3.8\n        ],\n        \"semantic_type\": \"\",\n        \"description\": \"\"\n      }\n    },\n    {\n      \"column\": \"class labels\",\n      \"properties\": {\n        \"dtype\": \"category\",\n        \"num_unique_values\": 3,\n        \"samples\": [\n          \"0.106 < 15.0\",\n          \"15.0 < 1000.0\",\n          \"1000.0 < 2488000.0\"\n        ],\n        \"semantic_type\": \"\",\n        \"description\": \"\"\n      }\n    }\n  ]\n}"
            }
          },
          "metadata": {},
          "execution_count": 4
        }
      ],
      "execution_count": 4
    },
    {
      "cell_type": "code",
      "source": [
        "X, y, smiles = ccb.featurize(df['Ligand SMILES'], df['class labels'])"
      ],
      "metadata": {
        "trusted": true,
        "execution": {
          "iopub.status.busy": "2025-10-26T15:31:26.814817Z",
          "iopub.execute_input": "2025-10-26T15:31:26.815109Z",
          "iopub.status.idle": "2025-10-26T15:31:44.566620Z",
          "shell.execute_reply.started": "2025-10-26T15:31:26.815086Z",
          "shell.execute_reply": "2025-10-26T15:31:44.565505Z"
        },
        "colab": {
          "base_uri": "https://localhost:8080/"
        },
        "id": "notusTk0WIBg",
        "outputId": "a394b503-fddd-419f-b483-d4b8e6c0f767"
      },
      "outputs": [
        {
          "output_type": "stream",
          "name": "stdout",
          "text": [
            "Old dimensions are: (905, 217).\n",
            "New dimensions are: (905, 217)\n"
          ]
        }
      ],
      "execution_count": 5
    },
    {
      "cell_type": "code",
      "source": [
        "X_train, X_test, y_train, y_test, smiles_train, smiles_test, pca, scaler = ccb.scale_pca_split(X,y, smiles)"
      ],
      "metadata": {
        "trusted": true,
        "execution": {
          "iopub.status.busy": "2025-10-26T15:31:44.567800Z",
          "iopub.execute_input": "2025-10-26T15:31:44.568206Z",
          "iopub.status.idle": "2025-10-26T15:31:44.604104Z",
          "shell.execute_reply.started": "2025-10-26T15:31:44.568167Z",
          "shell.execute_reply": "2025-10-26T15:31:44.602729Z"
        },
        "colab": {
          "base_uri": "https://localhost:8080/"
        },
        "id": "pS88cYHfWIBh",
        "outputId": "154c075d-5039-484a-aa93-28003d943211"
      },
      "outputs": [
        {
          "output_type": "stream",
          "name": "stdout",
          "text": [
            "target converted to ints\n",
            "Pre-processing done.\n"
          ]
        }
      ],
      "execution_count": 6
    },
    {
      "cell_type": "markdown",
      "source": [
        "### XGBoost single"
      ],
      "metadata": {
        "id": "i3PVlj8zWIBi"
      }
    },
    {
      "cell_type": "code",
      "source": [
        "xgb = ccb.Boost_methods('XGBoost', True)\n",
        "model, train_score, test_score = xgb.fit(X_train, X_test, y_train, y_test)"
      ],
      "metadata": {
        "trusted": true,
        "execution": {
          "iopub.status.busy": "2025-10-26T15:31:44.605600Z",
          "iopub.execute_input": "2025-10-26T15:31:44.606118Z",
          "iopub.status.idle": "2025-10-26T15:31:55.162803Z",
          "shell.execute_reply.started": "2025-10-26T15:31:44.606089Z",
          "shell.execute_reply": "2025-10-26T15:31:55.161732Z"
        },
        "colab": {
          "base_uri": "https://localhost:8080/"
        },
        "id": "UCb1EbdkWIBj",
        "outputId": "ef5dafd8-bca0-49c4-9f48-a040e1b9bba0"
      },
      "outputs": [
        {
          "output_type": "stream",
          "name": "stdout",
          "text": [
            "Gradient Boosting Regression (classification) class initialized.\n",
            "model selected:  XGBoost Classifier\n",
            "[16:32:52] INFO: /workspace/src/data/iterative_dmatrix.cc:56: Finished constructing the `IterativeDMatrix`: (814, 217, 176638).\n",
            "fit model in: 0.30464451191666625 minutes\n",
            "score for training set: 0.991\n",
            "score for validation set: 0.747\n",
            "======================================================================\n"
          ]
        }
      ],
      "execution_count": 7
    },
    {
      "cell_type": "markdown",
      "source": [
        "### XGBoost Grid search with CV"
      ],
      "metadata": {
        "id": "Jo-t3BXEWIBk"
      }
    },
    {
      "cell_type": "code",
      "source": [
        "search_grid = [\n",
        "    {'n_estimators': [100],\n",
        "     'learning_rate': [0.01, 1.0],\n",
        "     'max_depth': [20]\n",
        "    }\n",
        "]"
      ],
      "metadata": {
        "trusted": true,
        "execution": {
          "iopub.status.busy": "2025-10-26T15:35:04.190770Z",
          "iopub.execute_input": "2025-10-26T15:35:04.191937Z",
          "iopub.status.idle": "2025-10-26T15:35:04.197696Z",
          "shell.execute_reply.started": "2025-10-26T15:35:04.191890Z",
          "shell.execute_reply": "2025-10-26T15:35:04.196365Z"
        },
        "id": "lAtCLaKAWIBk"
      },
      "outputs": [],
      "execution_count": 8
    },
    {
      "cell_type": "code",
      "source": [
        "xgb = ccb.Boost_methods('XGBoost', True)\n",
        "best_params, best_score = xgb.grid_search(X, y, search_grid)"
      ],
      "metadata": {
        "trusted": true,
        "execution": {
          "iopub.status.busy": "2025-10-26T15:35:06.059134Z",
          "iopub.execute_input": "2025-10-26T15:35:06.059483Z",
          "iopub.status.idle": "2025-10-26T15:35:34.659502Z",
          "shell.execute_reply.started": "2025-10-26T15:35:06.059457Z",
          "shell.execute_reply": "2025-10-26T15:35:34.658171Z"
        },
        "colab": {
          "base_uri": "https://localhost:8080/"
        },
        "id": "LmLpjZAbWIBl",
        "outputId": "c9fd3395-379f-4985-a05e-8a7fbb522eac"
      },
      "outputs": [
        {
          "output_type": "stream",
          "name": "stdout",
          "text": [
            "Gradient Boosting Regression (classification) class initialized.\n",
            "Performing grid search on:  XGBoost Classifier\n",
            "target converted to ints\n",
            "[16:34:21] INFO: /workspace/src/data/iterative_dmatrix.cc:56: Finished constructing the `IterativeDMatrix`: (905, 217, 196385).\n",
            " Best parameters: {'learning_rate': 1.0, 'max_depth': 20, 'n_estimators': 100} and best score: 0.737.\n"
          ]
        }
      ],
      "execution_count": 9
    },
    {
      "cell_type": "markdown",
      "source": [
        "### Light GBM Single model"
      ],
      "metadata": {
        "id": "8EeHaaFUWIBl"
      }
    },
    {
      "cell_type": "code",
      "source": [
        "lgbm = ccb.Boost_methods('LightGBM', True)\n",
        "model, train_score, test_score = lgbm.fit(X_train, X_test, y_train, y_test)"
      ],
      "metadata": {
        "trusted": true,
        "execution": {
          "iopub.status.busy": "2025-10-26T15:38:28.410865Z",
          "iopub.execute_input": "2025-10-26T15:38:28.411212Z",
          "iopub.status.idle": "2025-10-26T15:38:29.756381Z",
          "shell.execute_reply.started": "2025-10-26T15:38:28.411176Z",
          "shell.execute_reply": "2025-10-26T15:38:29.755385Z"
        },
        "colab": {
          "base_uri": "https://localhost:8080/"
        },
        "id": "SX20bYlyWIBm",
        "outputId": "319f7525-0b31-4e6f-bb61-8d9081a73449"
      },
      "outputs": [
        {
          "output_type": "stream",
          "name": "stdout",
          "text": [
            "Gradient Boosting Regression (classification) class initialized.\n",
            "model selected:  LightGBM Classifier\n",
            "fit model in: 0.04341438466666811 minutes\n",
            "score for training set: 0.991\n",
            "score for validation set: 0.736\n",
            "======================================================================\n"
          ]
        },
        {
          "output_type": "stream",
          "name": "stderr",
          "text": [
            "/usr/local/lib/python3.12/dist-packages/sklearn/utils/validation.py:2739: UserWarning: X does not have valid feature names, but LGBMClassifier was fitted with feature names\n",
            "  warnings.warn(\n",
            "/usr/local/lib/python3.12/dist-packages/sklearn/utils/validation.py:2739: UserWarning: X does not have valid feature names, but LGBMClassifier was fitted with feature names\n",
            "  warnings.warn(\n"
          ]
        }
      ],
      "execution_count": 10
    },
    {
      "cell_type": "markdown",
      "source": [
        "### Light GBM Grid search with CV"
      ],
      "metadata": {
        "id": "Kky9mhU7WIBm"
      }
    },
    {
      "cell_type": "code",
      "source": [
        "search_grid = [\n",
        "    {'num_leaves': [32],\n",
        "     'feature_fraction': [0.5,1.0],\n",
        "     'min_data_in_leaf': [10, 50]\n",
        "    }\n",
        "]"
      ],
      "metadata": {
        "trusted": true,
        "execution": {
          "iopub.status.busy": "2025-10-26T15:40:04.021170Z",
          "iopub.execute_input": "2025-10-26T15:40:04.021566Z",
          "iopub.status.idle": "2025-10-26T15:40:04.029297Z",
          "shell.execute_reply.started": "2025-10-26T15:40:04.021541Z",
          "shell.execute_reply": "2025-10-26T15:40:04.027894Z"
        },
        "id": "01oif5Z7WIBn"
      },
      "outputs": [],
      "execution_count": 13
    },
    {
      "cell_type": "code",
      "source": [
        "lgbm = ccb.Boost_methods('LightGBM', True)\n",
        "best_params, best_score = lgbm.grid_search(X, y, search_grid)"
      ],
      "metadata": {
        "trusted": true,
        "execution": {
          "iopub.status.busy": "2025-10-26T15:41:03.644686Z",
          "iopub.execute_input": "2025-10-26T15:41:03.645843Z",
          "iopub.status.idle": "2025-10-26T15:41:45.091975Z",
          "shell.execute_reply.started": "2025-10-26T15:41:03.645807Z",
          "shell.execute_reply": "2025-10-26T15:41:45.090687Z"
        },
        "colab": {
          "base_uri": "https://localhost:8080/"
        },
        "id": "qBK45XhxWIBn",
        "outputId": "c6214e55-aa4f-4c84-cb00-9ffed206586b"
      },
      "outputs": [
        {
          "output_type": "stream",
          "name": "stdout",
          "text": [
            "Gradient Boosting Regression (classification) class initialized.\n",
            "Performing grid search on:  LightGBM Classifier\n",
            "target converted to ints\n",
            " Best parameters: {'feature_fraction': 0.5, 'min_data_in_leaf': 50, 'num_leaves': 32} and best score: 0.741.\n"
          ]
        }
      ],
      "execution_count": 14
    },
    {
      "cell_type": "markdown",
      "source": [
        "### CatBoost Single model"
      ],
      "metadata": {
        "id": "u46Fo8YzWIBn"
      }
    },
    {
      "cell_type": "code",
      "source": [
        "cb = ccb.Boost_methods('CatBoost', True)\n",
        "model, train_score, test_score = cb.fit(X_train, X_test, y_train, y_test)"
      ],
      "metadata": {
        "trusted": true,
        "execution": {
          "iopub.status.busy": "2025-10-26T15:42:16.112310Z",
          "iopub.execute_input": "2025-10-26T15:42:16.113411Z",
          "iopub.status.idle": "2025-10-26T15:42:19.084380Z",
          "shell.execute_reply.started": "2025-10-26T15:42:16.113361Z",
          "shell.execute_reply": "2025-10-26T15:42:19.083138Z"
        },
        "colab": {
          "base_uri": "https://localhost:8080/"
        },
        "id": "z6bC__vxWIBo",
        "outputId": "eeae782b-f9d3-47ef-dcfb-a499b51b72c2"
      },
      "outputs": [
        {
          "output_type": "stream",
          "name": "stdout",
          "text": [
            "Gradient Boosting Regression (classification) class initialized.\n",
            "model selected:  CatBoost Classifier\n",
            "fit model in: 0.08625689006666638 minutes\n",
            "score for training set: 0.867\n",
            "score for validation set: 0.725\n",
            "======================================================================\n"
          ]
        }
      ],
      "execution_count": 15
    },
    {
      "cell_type": "markdown",
      "source": [
        "### CatBoost Gridsearch with CV"
      ],
      "metadata": {
        "id": "xXp_omEMWIBo"
      }
    },
    {
      "cell_type": "code",
      "source": [
        "search_grid = [\n",
        "    {'iterations': [100],\n",
        "     'learning_rate': [0.01, 0.1],\n",
        "     'max_depth': [7]\n",
        "    }\n",
        "]"
      ],
      "metadata": {
        "trusted": true,
        "execution": {
          "iopub.status.busy": "2025-10-26T15:42:36.345858Z",
          "iopub.execute_input": "2025-10-26T15:42:36.346161Z",
          "iopub.status.idle": "2025-10-26T15:42:36.351128Z",
          "shell.execute_reply.started": "2025-10-26T15:42:36.346139Z",
          "shell.execute_reply": "2025-10-26T15:42:36.350202Z"
        },
        "id": "8-WVX4mDWIBo"
      },
      "outputs": [],
      "execution_count": 16
    },
    {
      "cell_type": "code",
      "source": [
        "cb = ccb.Boost_methods('CatBoost', True)\n",
        "best_params, best_score = cb.grid_search(X, y, search_grid)"
      ],
      "metadata": {
        "trusted": true,
        "execution": {
          "iopub.status.busy": "2025-10-26T15:42:39.465510Z",
          "iopub.execute_input": "2025-10-26T15:42:39.465888Z",
          "iopub.status.idle": "2025-10-26T15:43:35.945860Z",
          "shell.execute_reply.started": "2025-10-26T15:42:39.465862Z",
          "shell.execute_reply": "2025-10-26T15:43:35.944421Z"
        },
        "colab": {
          "base_uri": "https://localhost:8080/"
        },
        "id": "nGDrVuJCWIBo",
        "outputId": "52dec809-0d03-498c-d416-26b50c17fd3f"
      },
      "outputs": [
        {
          "output_type": "stream",
          "name": "stdout",
          "text": [
            "Gradient Boosting Regression (classification) class initialized.\n",
            "Performing grid search on:  CatBoost Classifier\n",
            "target converted to ints\n"
          ]
        },
        {
          "output_type": "stream",
          "name": "stderr",
          "text": [
            "/usr/local/lib/python3.12/dist-packages/joblib/externals/loky/process_executor.py:782: UserWarning: A worker stopped while some jobs were given to the executor. This can be caused by a too short worker timeout or by a memory leak.\n",
            "  warnings.warn(\n"
          ]
        },
        {
          "output_type": "stream",
          "name": "stdout",
          "text": [
            " Best parameters: {'iterations': 100, 'learning_rate': 0.1, 'max_depth': 7} and best score: 0.744.\n"
          ]
        }
      ],
      "execution_count": 17
    },
    {
      "cell_type": "markdown",
      "source": [
        "### Evaluate Classification"
      ],
      "metadata": {
        "id": "YDDcrHwcWIBp"
      }
    },
    {
      "cell_type": "code",
      "source": [
        "labels = df['class labels'].unique()\n",
        "labels = list(labels)\n",
        "print(labels)"
      ],
      "metadata": {
        "trusted": true,
        "execution": {
          "iopub.status.busy": "2025-10-26T15:45:27.244101Z",
          "iopub.execute_input": "2025-10-26T15:45:27.244438Z",
          "iopub.status.idle": "2025-10-26T15:45:27.250813Z",
          "shell.execute_reply.started": "2025-10-26T15:45:27.244410Z",
          "shell.execute_reply": "2025-10-26T15:45:27.249271Z"
        },
        "colab": {
          "base_uri": "https://localhost:8080/"
        },
        "id": "ak36cHPQWIBp",
        "outputId": "74369015-bb78-45a3-e441-9a499825ca85"
      },
      "outputs": [
        {
          "output_type": "stream",
          "name": "stdout",
          "text": [
            "['0.106 < 15.0', '15.0 < 1000.0', '1000.0 < 2488000.0']\n"
          ]
        }
      ],
      "execution_count": 11
    },
    {
      "cell_type": "code",
      "source": [
        "test_boost = ccb.evaluate(model, labels, X_test, y_test)\n",
        "test_boost.confusion()"
      ],
      "metadata": {
        "trusted": true,
        "execution": {
          "iopub.status.busy": "2025-10-26T15:46:33.310758Z",
          "iopub.execute_input": "2025-10-26T15:46:33.311106Z",
          "iopub.status.idle": "2025-10-26T15:46:33.566365Z",
          "shell.execute_reply.started": "2025-10-26T15:46:33.311080Z",
          "shell.execute_reply": "2025-10-26T15:46:33.565269Z"
        },
        "colab": {
          "base_uri": "https://localhost:8080/",
          "height": 620
        },
        "id": "t7SdbbnCWIBp",
        "outputId": "7b9377d7-d5bb-496a-ee89-802aa5f504ea"
      },
      "outputs": [
        {
          "output_type": "stream",
          "name": "stderr",
          "text": [
            "/usr/local/lib/python3.12/dist-packages/sklearn/utils/validation.py:2739: UserWarning: X does not have valid feature names, but LGBMClassifier was fitted with feature names\n",
            "  warnings.warn(\n"
          ]
        },
        {
          "output_type": "display_data",
          "data": {
            "text/plain": [
              "<Figure size 600x600 with 1 Axes>"
            ],
            "image/png": "[encoded data removed]"
          },
          "metadata": {}
        }
      ],
      "execution_count": 12
    },
    {
      "cell_type": "markdown",
      "source": [
        "## Regression"
      ],
      "metadata": {
        "id": "CFGYWsd8WIBq"
      }
    },
    {
      "cell_type": "code",
      "source": [
        "df = pd.read_csv(\"/content/905-unique-statins.csv\")\n",
        "df.head()"
      ],
      "metadata": {
        "trusted": true,
        "execution": {
          "iopub.status.busy": "2025-10-26T15:48:46.478735Z",
          "iopub.execute_input": "2025-10-26T15:48:46.480338Z",
          "iopub.status.idle": "2025-10-26T15:48:46.516300Z",
          "shell.execute_reply.started": "2025-10-26T15:48:46.480297Z",
          "shell.execute_reply": "2025-10-26T15:48:46.515041Z"
        },
        "colab": {
          "base_uri": "https://localhost:8080/",
          "height": 206
        },
        "id": "XNPW8swCWIBq",
        "outputId": "882020d9-79a2-41be-8464-a62bc3f97808"
      },
      "outputs": [
        {
          "output_type": "execute_result",
          "data": {
            "text/plain": [
              "   Unnamed: 0                                      Ligand SMILES  IC50 (nM)\n",
              "0           7  [Na+].CC(C)c1c(\\C=C\\[C@H](O)C[C@@H](O)CC([O-])...      0.106\n",
              "1           8  CC(C)n1c(CC[C@@H](O)C[C@@H](O)CC([O-])=O)c(c(c...      0.200\n",
              "2          10  CC(C)n1c(CC[C@@H](O)C[C@@H](O)CC([O-])=O)c(c(c...      0.300\n",
              "3          11  CC(C)n1c(CC[C@@H](O)C[C@@H](O)CC([O-])=O)c(c2C...      0.300\n",
              "4          12  COC(=O)C[C@H](O)C[C@H](O)\\C=C\\n1c(C(C)C)c(Br)c...      0.300"
            ],
            "text/html": [
              "\n",
              "  <div id=\"df-c6ff2715-4804-45a0-94ce-9f499f923a55\" class=\"colab-df-container\">\n",
              "    <div>\n",
              "<style scoped>\n",
              "    .dataframe tbody tr th:only-of-type {\n",
              "        vertical-align: middle;\n",
              "    }\n",
              "\n",
              "    .dataframe tbody tr th {\n",
              "        vertical-align: top;\n",
              "    }\n",
              "\n",
              "    .dataframe thead th {\n",
              "        text-align: right;\n",
              "    }\n",
              "</style>\n",
              "<table border=\"1\" class=\"dataframe\">\n",
              "  <thead>\n",
              "    <tr style=\"text-align: right;\">\n",
              "      <th></th>\n",
              "      <th>Unnamed: 0</th>\n",
              "      <th>Ligand SMILES</th>\n",
              "      <th>IC50 (nM)</th>\n",
              "    </tr>\n",
              "  </thead>\n",
              "  <tbody>\n",
              "    <tr>\n",
              "      <th>0</th>\n",
              "      <td>7</td>\n",
              "      <td>[Na+].CC(C)c1c(\\C=C\\[C@H](O)C[C@@H](O)CC([O-])...</td>\n",
              "      <td>0.106</td>\n",
              "    </tr>\n",
              "    <tr>\n",
              "      <th>1</th>\n",
              "      <td>8</td>\n",
              "      <td>CC(C)n1c(CC[C@@H](O)C[C@@H](O)CC([O-])=O)c(c(c...</td>\n",
              "      <td>0.200</td>\n",
              "    </tr>\n",
              "    <tr>\n",
              "      <th>2</th>\n",
              "      <td>10</td>\n",
              "      <td>CC(C)n1c(CC[C@@H](O)C[C@@H](O)CC([O-])=O)c(c(c...</td>\n",
              "      <td>0.300</td>\n",
              "    </tr>\n",
              "    <tr>\n",
              "      <th>3</th>\n",
              "      <td>11</td>\n",
              "      <td>CC(C)n1c(CC[C@@H](O)C[C@@H](O)CC([O-])=O)c(c2C...</td>\n",
              "      <td>0.300</td>\n",
              "    </tr>\n",
              "    <tr>\n",
              "      <th>4</th>\n",
              "      <td>12</td>\n",
              "      <td>COC(=O)C[C@H](O)C[C@H](O)\\C=C\\n1c(C(C)C)c(Br)c...</td>\n",
              "      <td>0.300</td>\n",
              "    </tr>\n",
              "  </tbody>\n",
              "</table>\n",
              "</div>\n",
              "    <div class=\"colab-df-buttons\">\n",
              "\n",
              "  <div class=\"colab-df-container\">\n",
              "    <button class=\"colab-df-convert\" onclick=\"convertToInteractive('df-c6ff2715-4804-45a0-94ce-9f499f923a55')\"\n",
              "            title=\"Convert this dataframe to an interactive table.\"\n",
              "            style=\"display:none;\">\n",
              "\n",
              "  <svg xmlns=\"http://www.w3.org/2000/svg\" height=\"24px\" viewBox=\"0 -960 960 960\">\n",
              "    <path d=\"M120-120v-720h720v720H120Zm60-500h600v-160H180v160Zm220 220h160v-160H400v160Zm0 220h160v-160H400v160ZM180-400h160v-160H180v160Zm440 0h160v-160H620v160ZM180-180h160v-160H180v160Zm440 0h160v-160H620v160Z\"/>\n",
              "  </svg>\n",
              "    </button>\n",
              "\n",
              "  <style>\n",
              "    .colab-df-container {\n",
              "      display:flex;\n",
              "      gap: 12px;\n",
              "    }\n",
              "\n",
              "    .colab-df-convert {\n",
              "      background-color: #E8F0FE;\n",
              "      border: none;\n",
              "      border-radius: 50%;\n",
              "      cursor: pointer;\n",
              "      display: none;\n",
              "      fill: #1967D2;\n",
              "      height: 32px;\n",
              "      padding: 0 0 0 0;\n",
              "      width: 32px;\n",
              "    }\n",
              "\n",
              "    .colab-df-convert:hover {\n",
              "      background-color: #E2EBFA;\n",
              "      box-shadow: 0px 1px 2px rgba(60, 64, 67, 0.3), 0px 1px 3px 1px rgba(60, 64, 67, 0.15);\n",
              "      fill: #174EA6;\n",
              "    }\n",
              "\n",
              "    .colab-df-buttons div {\n",
              "      margin-bottom: 4px;\n",
              "    }\n",
              "\n",
              "    [theme=dark] .colab-df-convert {\n",
              "      background-color: #3B4455;\n",
              "      fill: #D2E3FC;\n",
              "    }\n",
              "\n",
              "    [theme=dark] .colab-df-convert:hover {\n",
              "      background-color: #434B5C;\n",
              "      box-shadow: 0px 1px 3px 1px rgba(0, 0, 0, 0.15);\n",
              "      filter: drop-shadow(0px 1px 2px rgba(0, 0, 0, 0.3));\n",
              "      fill: #FFFFFF;\n",
              "    }\n",
              "  </style>\n",
              "\n",
              "    <script>\n",
              "      const buttonEl =\n",
              "        document.querySelector('#df-c6ff2715-4804-45a0-94ce-9f499f923a55 button.colab-df-convert');\n",
              "      buttonEl.style.display =\n",
              "        google.colab.kernel.accessAllowed ? 'block' : 'none';\n",
              "\n",
              "      async function convertToInteractive(key) {\n",
              "        const element = document.querySelector('#df-c6ff2715-4804-45a0-94ce-9f499f923a55');\n",
              "        const dataTable =\n",
              "          await google.colab.kernel.invokeFunction('convertToInteractive',\n",
              "                                                    [key], {});\n",
              "        if (!dataTable) return;\n",
              "\n",
              "        const docLinkHtml = 'Like what you see? Visit the ' +\n",
              "          '<a target=\"_blank\" href=https://colab.research.google.com/notebooks/data_table.ipynb>data table notebook</a>'\n",
              "          + ' to learn more about interactive tables.';\n",
              "        element.innerHTML = '';\n",
              "        dataTable['output_type'] = 'display_data';\n",
              "        await google.colab.output.renderOutput(dataTable, element);\n",
              "        const docLink = document.createElement('div');\n",
              "        docLink.innerHTML = docLinkHtml;\n",
              "        element.appendChild(docLink);\n",
              "      }\n",
              "    </script>\n",
              "  </div>\n",
              "\n",
              "\n",
              "    <div id=\"df-eb5e058d-c085-4652-85b8-993aecc64b7b\">\n",
              "      <button class=\"colab-df-quickchart\" onclick=\"quickchart('df-eb5e058d-c085-4652-85b8-993aecc64b7b')\"\n",
              "                title=\"Suggest charts\"\n",
              "                style=\"display:none;\">\n",
              "\n",
              "<svg xmlns=\"http://www.w3.org/2000/svg\" height=\"24px\"viewBox=\"0 0 24 24\"\n",
              "     width=\"24px\">\n",
              "    <g>\n",
              "        <path d=\"M19 3H5c-1.1 0-2 .9-2 2v14c0 1.1.9 2 2 2h14c1.1 0 2-.9 2-2V5c0-1.1-.9-2-2-2zM9 17H7v-7h2v7zm4 0h-2V7h2v10zm4 0h-2v-4h2v4z\"/>\n",
              "    </g>\n",
              "</svg>\n",
              "      </button>\n",
              "\n",
              "<style>\n",
              "  .colab-df-quickchart {\n",
              "      --bg-color: #E8F0FE;\n",
              "      --fill-color: #1967D2;\n",
              "      --hover-bg-color: #E2EBFA;\n",
              "      --hover-fill-color: #174EA6;\n",
              "      --disabled-fill-color: #AAA;\n",
              "      --disabled-bg-color: #DDD;\n",
              "  }\n",
              "\n",
              "  [theme=dark] .colab-df-quickchart {\n",
              "      --bg-color: #3B4455;\n",
              "      --fill-color: #D2E3FC;\n",
              "      --hover-bg-color: #434B5C;\n",
              "      --hover-fill-color: #FFFFFF;\n",
              "      --disabled-bg-color: #3B4455;\n",
              "      --disabled-fill-color: #666;\n",
              "  }\n",
              "\n",
              "  .colab-df-quickchart {\n",
              "    background-color: var(--bg-color);\n",
              "    border: none;\n",
              "    border-radius: 50%;\n",
              "    cursor: pointer;\n",
              "    display: none;\n",
              "    fill: var(--fill-color);\n",
              "    height: 32px;\n",
              "    padding: 0;\n",
              "    width: 32px;\n",
              "  }\n",
              "\n",
              "  .colab-df-quickchart:hover {\n",
              "    background-color: var(--hover-bg-color);\n",
              "    box-shadow: 0 1px 2px rgba(60, 64, 67, 0.3), 0 1px 3px 1px rgba(60, 64, 67, 0.15);\n",
              "    fill: var(--button-hover-fill-color);\n",
              "  }\n",
              "\n",
              "  .colab-df-quickchart-complete:disabled,\n",
              "  .colab-df-quickchart-complete:disabled:hover {\n",
              "    background-color: var(--disabled-bg-color);\n",
              "    fill: var(--disabled-fill-color);\n",
              "    box-shadow: none;\n",
              "  }\n",
              "\n",
              "  .colab-df-spinner {\n",
              "    border: 2px solid var(--fill-color);\n",
              "    border-color: transparent;\n",
              "    border-bottom-color: var(--fill-color);\n",
              "    animation:\n",
              "      spin 1s steps(1) infinite;\n",
              "  }\n",
              "\n",
              "  @keyframes spin {\n",
              "    0% {\n",
              "      border-color: transparent;\n",
              "      border-bottom-color: var(--fill-color);\n",
              "      border-left-color: var(--fill-color);\n",
              "    }\n",
              "    20% {\n",
              "      border-color: transparent;\n",
              "      border-left-color: var(--fill-color);\n",
              "      border-top-color: var(--fill-color);\n",
              "    }\n",
              "    30% {\n",
              "      border-color: transparent;\n",
              "      border-left-color: var(--fill-color);\n",
              "      border-top-color: var(--fill-color);\n",
              "      border-right-color: var(--fill-color);\n",
              "    }\n",
              "    40% {\n",
              "      border-color: transparent;\n",
              "      border-right-color: var(--fill-color);\n",
              "      border-top-color: var(--fill-color);\n",
              "    }\n",
              "    60% {\n",
              "      border-color: transparent;\n",
              "      border-right-color: var(--fill-color);\n",
              "    }\n",
              "    80% {\n",
              "      border-color: transparent;\n",
              "      border-right-color: var(--fill-color);\n",
              "      border-bottom-color: var(--fill-color);\n",
              "    }\n",
              "    90% {\n",
              "      border-color: transparent;\n",
              "      border-bottom-color: var(--fill-color);\n",
              "    }\n",
              "  }\n",
              "</style>\n",
              "\n",
              "      <script>\n",
              "        async function quickchart(key) {\n",
              "          const quickchartButtonEl =\n",
              "            document.querySelector('#' + key + ' button');\n",
              "          quickchartButtonEl.disabled = true;  // To prevent multiple clicks.\n",
              "          quickchartButtonEl.classList.add('colab-df-spinner');\n",
              "          try {\n",
              "            const charts = await google.colab.kernel.invokeFunction(\n",
              "                'suggestCharts', [key], {});\n",
              "          } catch (error) {\n",
              "            console.error('Error during call to suggestCharts:', error);\n",
              "          }\n",
              "          quickchartButtonEl.classList.remove('colab-df-spinner');\n",
              "          quickchartButtonEl.classList.add('colab-df-quickchart-complete');\n",
              "        }\n",
              "        (() => {\n",
              "          let quickchartButtonEl =\n",
              "            document.querySelector('#df-eb5e058d-c085-4652-85b8-993aecc64b7b button');\n",
              "          quickchartButtonEl.style.display =\n",
              "            google.colab.kernel.accessAllowed ? 'block' : 'none';\n",
              "        })();\n",
              "      </script>\n",
              "    </div>\n",
              "\n",
              "    </div>\n",
              "  </div>\n"
            ],
            "application/vnd.google.colaboratory.intrinsic+json": {
              "type": "dataframe",
              "variable_name": "df",
              "summary": "{\n  \"name\": \"df\",\n  \"rows\": 905,\n  \"fields\": [\n    {\n      \"column\": \"Unnamed: 0\",\n      \"properties\": {\n        \"dtype\": \"number\",\n        \"std\": 422,\n        \"min\": 7,\n        \"max\": 1406,\n        \"num_unique_values\": 905,\n        \"samples\": [\n          128,\n          713,\n          324\n        ],\n        \"semantic_type\": \"\",\n        \"description\": \"\"\n      }\n    },\n    {\n      \"column\": \"Ligand SMILES\",\n      \"properties\": {\n        \"dtype\": \"string\",\n        \"num_unique_values\": 905,\n        \"samples\": [\n          \"CCC(C)(C)C(=O)O[C@H]1CC(C)(C)O[C@@H]2CC[C@H](C)[C@H](CC[C@@H]3C[C@@H](O)CC(=O)O3)C12\",\n          \"CC(C)=CCC\\\\C(C)=C\\\\CCC1=C[C@@H](OC1=O)c1cc(O)ccc1O\",\n          \"O[C@@H]1CC(CCc2c(Cl)cc(Cl)cc2Oc2ccccc2)OC(=O)C1\"\n        ],\n        \"semantic_type\": \"\",\n        \"description\": \"\"\n      }\n    },\n    {\n      \"column\": \"IC50 (nM)\",\n      \"properties\": {\n        \"dtype\": \"number\",\n        \"std\": 171051.13396676516,\n        \"min\": 0.106,\n        \"max\": 2488000.0,\n        \"num_unique_values\": 469,\n        \"samples\": [\n          79.0,\n          141.0,\n          44.0\n        ],\n        \"semantic_type\": \"\",\n        \"description\": \"\"\n      }\n    }\n  ]\n}"
            }
          },
          "metadata": {},
          "execution_count": 18
        }
      ],
      "execution_count": 18
    },
    {
      "cell_type": "code",
      "source": [
        "X, y, smiles = ccb.featurize(df['Ligand SMILES'], df['IC50 (nM)'])"
      ],
      "metadata": {
        "trusted": true,
        "execution": {
          "iopub.status.busy": "2025-10-26T15:48:51.138749Z",
          "iopub.execute_input": "2025-10-26T15:48:51.139235Z",
          "iopub.status.idle": "2025-10-26T15:49:10.897719Z",
          "shell.execute_reply.started": "2025-10-26T15:48:51.139197Z",
          "shell.execute_reply": "2025-10-26T15:49:10.896287Z"
        },
        "colab": {
          "base_uri": "https://localhost:8080/"
        },
        "id": "PnGsITycWIBr",
        "outputId": "0f07e7b0-1169-429d-ecd0-346647342a26"
      },
      "outputs": [
        {
          "output_type": "stream",
          "name": "stdout",
          "text": [
            "Old dimensions are: (905, 217).\n",
            "New dimensions are: (905, 217)\n"
          ]
        }
      ],
      "execution_count": 19
    },
    {
      "cell_type": "code",
      "source": [
        "y = [np.log10(x) for x in y]"
      ],
      "metadata": {
        "trusted": true,
        "execution": {
          "iopub.status.busy": "2025-10-26T15:49:10.900449Z",
          "iopub.execute_input": "2025-10-26T15:49:10.900852Z",
          "iopub.status.idle": "2025-10-26T15:49:10.907541Z",
          "shell.execute_reply.started": "2025-10-26T15:49:10.900825Z",
          "shell.execute_reply": "2025-10-26T15:49:10.906500Z"
        },
        "id": "ydW-efrQWIBr"
      },
      "outputs": [],
      "execution_count": 20
    },
    {
      "cell_type": "code",
      "source": [
        "X_train, X_test, y_train, y_test, smiles_train, smiles_test, pca, scaler = ccb.scale_pca_split(X,y, smiles)"
      ],
      "metadata": {
        "trusted": true,
        "execution": {
          "iopub.status.busy": "2025-10-26T15:49:10.908481Z",
          "iopub.execute_input": "2025-10-26T15:49:10.908759Z",
          "iopub.status.idle": "2025-10-26T15:49:10.939280Z",
          "shell.execute_reply.started": "2025-10-26T15:49:10.908738Z",
          "shell.execute_reply": "2025-10-26T15:49:10.938303Z"
        },
        "colab": {
          "base_uri": "https://localhost:8080/"
        },
        "id": "_y6YSH6YWIBr",
        "outputId": "4ae5a2b7-e879-47fc-e6f3-f5d45032b7de"
      },
      "outputs": [
        {
          "output_type": "stream",
          "name": "stdout",
          "text": [
            "Pre-processing done.\n"
          ]
        }
      ],
      "execution_count": 21
    },
    {
      "cell_type": "markdown",
      "source": [
        "### XGBoost Regression"
      ],
      "metadata": {
        "id": "rWoHJI88WIBs"
      }
    },
    {
      "cell_type": "code",
      "source": [
        "xgb = ccb.Boost_methods('XGBoost', learning_rate = 0.1, max_depth=10, n_estimators=100)\n",
        "model, train_score, test_score = xgb.fit(X_train, X_test, y_train, y_test)"
      ],
      "metadata": {
        "trusted": true,
        "execution": {
          "iopub.status.busy": "2025-10-26T16:08:35.774843Z",
          "iopub.execute_input": "2025-10-26T16:08:35.776414Z",
          "iopub.status.idle": "2025-10-26T16:08:40.473840Z",
          "shell.execute_reply.started": "2025-10-26T16:08:35.776358Z",
          "shell.execute_reply": "2025-10-26T16:08:40.472393Z"
        },
        "colab": {
          "base_uri": "https://localhost:8080/"
        },
        "id": "CUx6LC8oWIBs",
        "outputId": "0218986c-40b8-4bfc-eabd-867d66f07887"
      },
      "outputs": [
        {
          "output_type": "stream",
          "name": "stdout",
          "text": [
            "Gradient Boosting Regression (classification) class initialized.\n",
            "model selected:  XGBoost Regressor\n",
            "[16:38:54] INFO: /workspace/src/data/iterative_dmatrix.cc:56: Finished constructing the `IterativeDMatrix`: (814, 217, 176638).\n",
            "fit model in: 0.14340912631666736 minutes\n",
            "score for training set: 0.998\n",
            "score for validation set: 0.654\n",
            "======================================================================\n"
          ]
        }
      ],
      "execution_count": 22
    },
    {
      "cell_type": "markdown",
      "source": [
        "### XGBoost gridsearch CV"
      ],
      "metadata": {
        "id": "9-BYwzu_WIBs"
      }
    },
    {
      "cell_type": "code",
      "source": [
        "search_grid = [\n",
        "    {'n_estimators': [100],\n",
        "     'learning_rate': [0.01, 0.1],\n",
        "     'max_depth': [25]\n",
        "    }\n",
        "]"
      ],
      "metadata": {
        "trusted": true,
        "execution": {
          "iopub.status.busy": "2025-10-26T16:10:51.088068Z",
          "iopub.execute_input": "2025-10-26T16:10:51.088498Z",
          "iopub.status.idle": "2025-10-26T16:10:51.094307Z",
          "shell.execute_reply.started": "2025-10-26T16:10:51.088466Z",
          "shell.execute_reply": "2025-10-26T16:10:51.093049Z"
        },
        "id": "EYsMJ19TWIBs"
      },
      "outputs": [],
      "execution_count": 23
    },
    {
      "cell_type": "code",
      "source": [
        "xgb = ccb.Boost_methods('XGBoost')\n",
        "best_params, best_score = xgb.grid_search(X, y, search_grid)\n",
        "print(f\"Running model with best parameters and Train/Test split =================\")\n",
        "xgb = ccb.Boost_methods('XGBoost', learning_rate = best_params['learning_rate'], max_depth=best_params['max_depth'],\n",
        "                        n_estimators=best_params['n_estimators'])\n",
        "model, train_score, test_score = xgb.fit(X_train, X_test, y_train, y_test)"
      ],
      "metadata": {
        "trusted": true,
        "execution": {
          "iopub.status.busy": "2025-10-26T16:12:03.623464Z",
          "iopub.execute_input": "2025-10-26T16:12:03.624832Z",
          "iopub.status.idle": "2025-10-26T16:13:06.667806Z",
          "shell.execute_reply.started": "2025-10-26T16:12:03.624792Z",
          "shell.execute_reply": "2025-10-26T16:13:06.666716Z"
        },
        "colab": {
          "base_uri": "https://localhost:8080/"
        },
        "id": "i6ZbiLbRWIBt",
        "outputId": "dd7e4f82-8724-413d-ed8d-7374e2da1eb2"
      },
      "outputs": [
        {
          "output_type": "stream",
          "name": "stdout",
          "text": [
            "Gradient Boosting Regression (classification) class initialized.\n",
            "Performing grid search on:  XGBoost Regressor\n",
            "[16:40:59] INFO: /workspace/src/data/iterative_dmatrix.cc:56: Finished constructing the `IterativeDMatrix`: (905, 217, 196385).\n",
            " Best parameters: {'learning_rate': 0.1, 'max_depth': 25, 'n_estimators': 100} and best score: -3.859.\n",
            "Running model with best parameters and Train/Test split =================\n",
            "Gradient Boosting Regression (classification) class initialized.\n",
            "model selected:  XGBoost Regressor\n",
            "[16:41:16] INFO: /workspace/src/data/iterative_dmatrix.cc:56: Finished constructing the `IterativeDMatrix`: (814, 217, 176638).\n",
            "fit model in: 0.2786077356166667 minutes\n",
            "score for training set: 0.998\n",
            "score for validation set: 0.626\n",
            "======================================================================\n"
          ]
        }
      ],
      "execution_count": 24
    },
    {
      "cell_type": "markdown",
      "source": [
        "### LightGBM Regression"
      ],
      "metadata": {
        "id": "hNEkSbzOWIB4"
      }
    },
    {
      "cell_type": "code",
      "source": [
        "lgbm = ccb.Boost_methods('LightGBM')\n",
        "model, train_score, test_score = lgbm.fit(X_train, X_test, y_train, y_test)"
      ],
      "metadata": {
        "trusted": true,
        "execution": {
          "iopub.status.busy": "2025-10-26T16:13:33.150165Z",
          "iopub.execute_input": "2025-10-26T16:13:33.150483Z",
          "iopub.status.idle": "2025-10-26T16:13:33.646352Z",
          "shell.execute_reply.started": "2025-10-26T16:13:33.150461Z",
          "shell.execute_reply": "2025-10-26T16:13:33.645269Z"
        },
        "colab": {
          "base_uri": "https://localhost:8080/"
        },
        "id": "gROdUFMlWIB5",
        "outputId": "4ea95189-55f2-4ee0-9cf3-1c7fed6c68da"
      },
      "outputs": [
        {
          "output_type": "stream",
          "name": "stdout",
          "text": [
            "Gradient Boosting Regression (classification) class initialized.\n",
            "model selected:  LightGBM Regressor\n",
            "fit model in: 0.014010836766666064 minutes\n",
            "score for training set: 0.989\n",
            "score for validation set: 0.689\n",
            "======================================================================\n"
          ]
        },
        {
          "output_type": "stream",
          "name": "stderr",
          "text": [
            "/usr/local/lib/python3.12/dist-packages/sklearn/utils/validation.py:2739: UserWarning: X does not have valid feature names, but LGBMRegressor was fitted with feature names\n",
            "  warnings.warn(\n",
            "/usr/local/lib/python3.12/dist-packages/sklearn/utils/validation.py:2739: UserWarning: X does not have valid feature names, but LGBMRegressor was fitted with feature names\n",
            "  warnings.warn(\n"
          ]
        }
      ],
      "execution_count": 25
    },
    {
      "cell_type": "markdown",
      "source": [
        "### LightGBM Gridsearch"
      ],
      "metadata": {
        "id": "_8hJk9PXWIB5"
      }
    },
    {
      "cell_type": "code",
      "source": [
        "search_grid = [\n",
        "    {'num_leaves': [32],\n",
        "     'feature_fraction': [0.5,1.0],\n",
        "     'min_data_in_leaf': [25]\n",
        "    }\n",
        "]"
      ],
      "metadata": {
        "trusted": true,
        "execution": {
          "iopub.status.busy": "2025-10-26T16:13:37.402372Z",
          "iopub.execute_input": "2025-10-26T16:13:37.402781Z",
          "iopub.status.idle": "2025-10-26T16:13:37.408668Z",
          "shell.execute_reply.started": "2025-10-26T16:13:37.402756Z",
          "shell.execute_reply": "2025-10-26T16:13:37.407454Z"
        },
        "id": "Pg2KdWmfWIB6"
      },
      "outputs": [],
      "execution_count": 26
    },
    {
      "cell_type": "code",
      "source": [
        "lgbm = ccb.Boost_methods('LightGBM')\n",
        "best_params, best_score = lgbm.grid_search(X, y, search_grid)\n",
        "print(f\"Running model with best parameters and Train/Test split =================\")\n",
        "lgbm = ccb.Boost_methods('LightGBM', num_leaves = best_params['num_leaves'], feature_fraction = best_params['feature_fraction'],\n",
        "                        min_data_in_leaf = best_params['min_data_in_leaf'])\n",
        "model, train_score, test_score = lgbm.fit(X_train, X_test, y_train, y_test)"
      ],
      "metadata": {
        "trusted": true,
        "execution": {
          "iopub.status.busy": "2025-10-26T16:14:03.632722Z",
          "iopub.execute_input": "2025-10-26T16:14:03.633140Z",
          "iopub.status.idle": "2025-10-26T16:14:34.463472Z",
          "shell.execute_reply.started": "2025-10-26T16:14:03.633110Z",
          "shell.execute_reply": "2025-10-26T16:14:34.462191Z"
        },
        "colab": {
          "base_uri": "https://localhost:8080/"
        },
        "id": "q2QrxmKfWIB6",
        "outputId": "3cd43a80-0834-4df2-ec3b-d0e8dcc19e61"
      },
      "outputs": [
        {
          "output_type": "stream",
          "name": "stdout",
          "text": [
            "Gradient Boosting Regression (classification) class initialized.\n",
            "Performing grid search on:  LightGBM Regressor\n",
            " Best parameters: {'feature_fraction': 1.0, 'min_data_in_leaf': 25, 'num_leaves': 32} and best score: -3.697.\n",
            "Running model with best parameters and Train/Test split =================\n",
            "Gradient Boosting Regression (classification) class initialized.\n",
            "model selected:  LightGBM Regressor\n",
            "fit model in: 0.011299944500001402 minutes\n",
            "score for training set: 0.982\n",
            "score for validation set: 0.673\n",
            "======================================================================\n"
          ]
        },
        {
          "output_type": "stream",
          "name": "stderr",
          "text": [
            "/usr/local/lib/python3.12/dist-packages/sklearn/utils/validation.py:2739: UserWarning: X does not have valid feature names, but LGBMRegressor was fitted with feature names\n",
            "  warnings.warn(\n",
            "/usr/local/lib/python3.12/dist-packages/sklearn/utils/validation.py:2739: UserWarning: X does not have valid feature names, but LGBMRegressor was fitted with feature names\n",
            "  warnings.warn(\n"
          ]
        }
      ],
      "execution_count": 27
    },
    {
      "cell_type": "markdown",
      "source": [
        "### Catboost regression"
      ],
      "metadata": {
        "id": "MziAi_I4WIB6"
      }
    },
    {
      "cell_type": "code",
      "source": [
        "cb = ccb.Boost_methods('CatBoost')\n",
        "model, train_score, test_score = cb.fit(X_train, X_test, y_train, y_test)"
      ],
      "metadata": {
        "trusted": true,
        "execution": {
          "iopub.status.busy": "2025-10-26T16:20:47.868799Z",
          "iopub.execute_input": "2025-10-26T16:20:47.869232Z",
          "iopub.status.idle": "2025-10-26T16:20:49.281784Z",
          "shell.execute_reply.started": "2025-10-26T16:20:47.869201Z",
          "shell.execute_reply": "2025-10-26T16:20:49.280372Z"
        },
        "colab": {
          "base_uri": "https://localhost:8080/"
        },
        "id": "B2W0qTSoWIB7",
        "outputId": "55627324-0a82-4233-cfe1-f3b662bd330e"
      },
      "outputs": [
        {
          "output_type": "stream",
          "name": "stdout",
          "text": [
            "Gradient Boosting Regression (classification) class initialized.\n",
            "model selected:  CatBoost Regressor\n",
            "fit model in: 0.03688429596666841 minutes\n",
            "score for training set: 0.839\n",
            "score for validation set: 0.720\n",
            "======================================================================\n"
          ]
        }
      ],
      "execution_count": 28
    },
    {
      "cell_type": "code",
      "source": [
        "search_grid = [\n",
        "    {'iterations': [100],\n",
        "     'learning_rate': [0.01, 0.1],\n",
        "     'max_depth': [7]\n",
        "    }\n",
        "]"
      ],
      "metadata": {
        "trusted": true,
        "execution": {
          "iopub.status.busy": "2025-10-26T16:20:52.005857Z",
          "iopub.execute_input": "2025-10-26T16:20:52.007087Z",
          "iopub.status.idle": "2025-10-26T16:20:52.012602Z",
          "shell.execute_reply.started": "2025-10-26T16:20:52.007045Z",
          "shell.execute_reply": "2025-10-26T16:20:52.011485Z"
        },
        "id": "os2QHvlqWIB7"
      },
      "outputs": [],
      "execution_count": 29
    },
    {
      "cell_type": "code",
      "source": [
        "cb = ccb.Boost_methods('CatBoost')\n",
        "best_params, best_score = cb.grid_search(X, y, search_grid)\n",
        "print(f\"Running model with best parameters and Train/Test split =================\")\n",
        "cb = ccb.Boost_methods('CatBoost', iterations = best_params['iterations'], learning_rate = best_params['learning_rate'],\n",
        "                        max_depth = best_params['max_depth'])\n",
        "model, train_score, test_score = cb.fit(X_train, X_test, y_train, y_test)"
      ],
      "metadata": {
        "trusted": true,
        "execution": {
          "iopub.status.busy": "2025-10-26T16:22:02.815669Z",
          "iopub.execute_input": "2025-10-26T16:22:02.816081Z",
          "iopub.status.idle": "2025-10-26T16:22:31.611933Z",
          "shell.execute_reply.started": "2025-10-26T16:22:02.816053Z",
          "shell.execute_reply": "2025-10-26T16:22:31.610693Z"
        },
        "colab": {
          "base_uri": "https://localhost:8080/"
        },
        "id": "M2X0LcBXWIB7",
        "outputId": "70c5eea8-9e73-4dcd-e7c4-54468c77ca50"
      },
      "outputs": [
        {
          "output_type": "stream",
          "name": "stdout",
          "text": [
            "Gradient Boosting Regression (classification) class initialized.\n",
            "Performing grid search on:  CatBoost Regressor\n",
            " Best parameters: {'iterations': 100, 'learning_rate': 0.1, 'max_depth': 7} and best score: -3.243.\n",
            "Running model with best parameters and Train/Test split =================\n",
            "Gradient Boosting Regression (classification) class initialized.\n",
            "model selected:  CatBoost Regressor\n",
            "fit model in: 0.036343264366666975 minutes\n",
            "score for training set: 0.914\n",
            "score for validation set: 0.741\n",
            "======================================================================\n"
          ]
        }
      ],
      "execution_count": 30
    },
    {
      "cell_type": "markdown",
      "source": [
        "### Evaluate regression"
      ],
      "metadata": {
        "id": "7LLZwzqkWIB8"
      }
    },
    {
      "cell_type": "code",
      "source": [
        "ccb.plot_predictions(model, X_train, y_train, X_test, y_test)"
      ],
      "metadata": {
        "trusted": true,
        "execution": {
          "iopub.status.busy": "2025-10-26T16:24:38.635145Z",
          "iopub.execute_input": "2025-10-26T16:24:38.635583Z",
          "iopub.status.idle": "2025-10-26T16:24:39.058187Z",
          "shell.execute_reply.started": "2025-10-26T16:24:38.635550Z",
          "shell.execute_reply": "2025-10-26T16:24:39.056885Z"
        },
        "colab": {
          "base_uri": "https://localhost:8080/",
          "height": 449
        },
        "id": "fdVXOks2WIB8",
        "outputId": "06350de5-1103-4681-d141-b2d444923adf"
      },
      "outputs": [
        {
          "output_type": "display_data",
          "data": {
            "text/plain": [
              "<Figure size 640x480 with 1 Axes>"
            ],
            "image/png": "[encoded data removed]"
          },
          "metadata": {}
        }
      ],
      "execution_count": 31
    },
    {
      "cell_type": "code",
      "source": [
        "pred = ccb.predict_with_model(['c1ccc(F)cc1'], model, \"rdkit\", scaler)\n",
        "pred = 10**pred\n",
        "print(f\"Prediction is {pred[0]}\")"
      ],
      "metadata": {
        "trusted": true,
        "execution": {
          "iopub.status.busy": "2025-10-26T16:24:43.750143Z",
          "iopub.execute_input": "2025-10-26T16:24:43.750524Z",
          "iopub.status.idle": "2025-10-26T16:24:43.771473Z",
          "shell.execute_reply.started": "2025-10-26T16:24:43.750495Z",
          "shell.execute_reply": "2025-10-26T16:24:43.770525Z"
        },
        "colab": {
          "base_uri": "https://localhost:8080/"
        },
        "id": "1i2dysV2WIB8",
        "outputId": "2e1953db-0c2a-49e6-e676-6f34dfb9a5b7"
      },
      "outputs": [
        {
          "output_type": "stream",
          "name": "stdout",
          "text": [
            "Prediction is 267092.82183628896\n"
          ]
        }
      ],
      "execution_count": 32
    },
    {
      "cell_type": "code",
      "source": [],
      "metadata": {
        "trusted": true,
        "id": "Nm5Dt_hpWIB8"
      },
      "outputs": [],
      "execution_count": null
    }
  ]
}