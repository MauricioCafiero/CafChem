{
 "cells": [
  {
   "cell_type": "markdown",
   "metadata": {
    "id": "mYtTV82W0-DH"
   },
   "source": [
    "#CafChem tools docking and rescoring with the UMA MLIP\n",
    "\n",
    "[![Open In Colab](https://colab.research.google.com/assets/colab-badge.svg)](https://colab.research.google.com/github/MauricioCafiero/CafChem/blob/main/notebooks/Rescore_Docking_UMA_CafChem.ipynb)\n",
    "\n",
    "## This notebook allows you to:\n",
    "- dock a single SMILES string, a list of string, or a CSV file with SMILES in one column.\n",
    "- save poses as SDF files.\n",
    "- Calculate the interaction between the ligand and the protein using Meta's UMA MLIP\n",
    "\n",
    "## Requirements:\n",
    "- This notebook will install deepchem, dockstring, openBabel, Fairchem and py3Dmol\n",
    "- It will pull the CafChem tools from Github.\n",
    "- It will install all needed libraries.\n",
    "- You need to have a HF_Token set as a secret to access the UMA MLIP."
   ]
  },
  {
   "cell_type": "markdown",
   "metadata": {
    "id": "c077b1b1-6f2a-4eaa-9381-b9a0cf413b8d"
   },
   "source": [
    "# set-up\n",
    "\n",
    "This block:\n",
    "\n",
    "- Loads all needed modules/libraries\n",
    "    \n",
    "\n",
    "    \n"
   ]
  },
  {
   "cell_type": "markdown",
   "metadata": {
    "id": "qHv8LGrBe534"
   },
   "source": [
    "### Install a few libraries"
   ]
  },
  {
   "cell_type": "code",
   "execution_count": 1,
   "metadata": {
    "colab": {
     "base_uri": "https://localhost:8080/"
    },
    "id": "GuZJmglTiaN8",
    "outputId": "c9be46ce-334f-4c01-a6c7-8eba805121b6"
   },
   "outputs": [
    {
     "name": "stdout",
     "output_type": "stream",
     "text": [
      "Collecting deepchem\n",
      "  Downloading deepchem-2.8.0-py3-none-any.whl.metadata (2.0 kB)\n",
      "Requirement already satisfied: joblib in /usr/local/lib/python3.11/dist-packages (from deepchem) (1.5.1)\n",
      "Requirement already satisfied: numpy>=1.21 in /usr/local/lib/python3.11/dist-packages (from deepchem) (2.0.2)\n",
      "Requirement already satisfied: pandas in /usr/local/lib/python3.11/dist-packages (from deepchem) (2.2.2)\n",
      "Requirement already satisfied: scikit-learn in /usr/local/lib/python3.11/dist-packages (from deepchem) (1.6.1)\n",
      "Requirement already satisfied: sympy in /usr/local/lib/python3.11/dist-packages (from deepchem) (1.13.1)\n",
      "Requirement already satisfied: scipy>=1.10.1 in /usr/local/lib/python3.11/dist-packages (from deepchem) (1.15.3)\n",
      "Collecting rdkit (from deepchem)\n",
      "  Downloading rdkit-2025.3.3-cp311-cp311-manylinux_2_28_x86_64.whl.metadata (4.0 kB)\n",
      "Requirement already satisfied: python-dateutil>=2.8.2 in /usr/local/lib/python3.11/dist-packages (from pandas->deepchem) (2.9.0.post0)\n",
      "Requirement already satisfied: pytz>=2020.1 in /usr/local/lib/python3.11/dist-packages (from pandas->deepchem) (2025.2)\n",
      "Requirement already satisfied: tzdata>=2022.7 in /usr/local/lib/python3.11/dist-packages (from pandas->deepchem) (2025.2)\n",
      "Requirement already satisfied: Pillow in /usr/local/lib/python3.11/dist-packages (from rdkit->deepchem) (11.2.1)\n",
      "Requirement already satisfied: threadpoolctl>=3.1.0 in /usr/local/lib/python3.11/dist-packages (from scikit-learn->deepchem) (3.6.0)\n",
      "Requirement already satisfied: mpmath<1.4,>=1.1.0 in /usr/local/lib/python3.11/dist-packages (from sympy->deepchem) (1.3.0)\n",
      "Requirement already satisfied: six>=1.5 in /usr/local/lib/python3.11/dist-packages (from python-dateutil>=2.8.2->pandas->deepchem) (1.17.0)\n",
      "Downloading deepchem-2.8.0-py3-none-any.whl (1.0 MB)\n",
      "\u001b[2K   \u001b[90m━━━━━━━━━━━━━━━━━━━━━━━━━━━━━━━━━━━━━━━━\u001b[0m \u001b[32m1.0/1.0 MB\u001b[0m \u001b[31m39.5 MB/s\u001b[0m eta \u001b[36m0:00:00\u001b[0m\n",
      "\u001b[?25hDownloading rdkit-2025.3.3-cp311-cp311-manylinux_2_28_x86_64.whl (34.9 MB)\n",
      "\u001b[2K   \u001b[90m━━━━━━━━━━━━━━━━━━━━━━━━━━━━━━━━━━━━━━━━\u001b[0m \u001b[32m34.9/34.9 MB\u001b[0m \u001b[31m46.1 MB/s\u001b[0m eta \u001b[36m0:00:00\u001b[0m\n",
      "\u001b[?25hInstalling collected packages: rdkit, deepchem\n",
      "Successfully installed deepchem-2.8.0 rdkit-2025.3.3\n",
      "Collecting dockstring\n",
      "  Downloading dockstring-0.3.4-py3-none-any.whl.metadata (19 kB)\n",
      "Downloading dockstring-0.3.4-py3-none-any.whl (4.4 MB)\n",
      "\u001b[2K   \u001b[90m━━━━━━━━━━━━━━━━━━━━━━━━━━━━━━━━━━━━━━━━\u001b[0m \u001b[32m4.4/4.4 MB\u001b[0m \u001b[31m2.2 MB/s\u001b[0m eta \u001b[36m0:00:00\u001b[0m\n",
      "\u001b[?25hInstalling collected packages: dockstring\n",
      "Successfully installed dockstring-0.3.4\n",
      "Collecting openbabel-wheel\n",
      "  Downloading openbabel_wheel-3.1.1.22-cp311-cp311-manylinux_2_17_x86_64.manylinux2014_x86_64.whl.metadata (20 kB)\n",
      "Downloading openbabel_wheel-3.1.1.22-cp311-cp311-manylinux_2_17_x86_64.manylinux2014_x86_64.whl (16.1 MB)\n",
      "\u001b[2K   \u001b[90m━━━━━━━━━━━━━━━━━━━━━━━━━━━━━━━━━━━━━━━━\u001b[0m \u001b[32m16.1/16.1 MB\u001b[0m \u001b[31m123.3 MB/s\u001b[0m eta \u001b[36m0:00:00\u001b[0m\n",
      "\u001b[?25hInstalling collected packages: openbabel-wheel\n",
      "Successfully installed openbabel-wheel-3.1.1.22\n"
     ]
    }
   ],
   "source": [
    "! pip install deepchem\n",
    "! pip install dockstring\n",
    "! pip install openbabel-wheel"
   ]
  },
  {
   "cell_type": "code",
   "execution_count": 2,
   "metadata": {
    "colab": {
     "base_uri": "https://localhost:8080/"
    },
    "id": "HWkR62lbgqjI",
    "outputId": "884a64ca-e67b-4fbe-ad13-124b74b834d3"
   },
   "outputs": [
    {
     "name": "stdout",
     "output_type": "stream",
     "text": [
      "Collecting py3Dmol\n",
      "  Downloading py3dmol-2.5.0-py2.py3-none-any.whl.metadata (2.1 kB)\n",
      "Downloading py3dmol-2.5.0-py2.py3-none-any.whl (7.2 kB)\n",
      "Installing collected packages: py3Dmol\n",
      "Successfully installed py3Dmol-2.5.0\n",
      "Collecting fairchem-core\n",
      "  Downloading fairchem_core-2.2.0-py3-none-any.whl.metadata (9.3 kB)\n",
      "Collecting ase-db-backends>=0.10.0 (from fairchem-core)\n",
      "  Downloading ase_db_backends-0.10.0-py3-none-any.whl.metadata (600 bytes)\n",
      "Collecting ase>=3.25.0 (from fairchem-core)\n",
      "  Downloading ase-3.25.0-py3-none-any.whl.metadata (4.2 kB)\n",
      "Collecting e3nn>=0.5 (from fairchem-core)\n",
      "  Downloading e3nn-0.5.6-py3-none-any.whl.metadata (5.4 kB)\n",
      "Requirement already satisfied: huggingface-hub>=0.27.1 in /usr/local/lib/python3.11/dist-packages (from fairchem-core) (0.33.0)\n",
      "Collecting hydra-core (from fairchem-core)\n",
      "  Downloading hydra_core-1.3.2-py3-none-any.whl.metadata (5.5 kB)\n",
      "Collecting lmdb (from fairchem-core)\n",
      "  Downloading lmdb-1.6.2-cp311-cp311-manylinux_2_17_x86_64.manylinux2014_x86_64.whl.metadata (1.1 kB)\n",
      "Collecting numba>=0.61.2 (from fairchem-core)\n",
      "  Downloading numba-0.61.2-cp311-cp311-manylinux2014_x86_64.manylinux_2_17_x86_64.whl.metadata (2.8 kB)\n",
      "Requirement already satisfied: numpy<2.3,>=2.0 in /usr/local/lib/python3.11/dist-packages (from fairchem-core) (2.0.2)\n",
      "Requirement already satisfied: orjson in /usr/local/lib/python3.11/dist-packages (from fairchem-core) (3.10.18)\n",
      "Collecting pymatgen>=2023.10.3 (from fairchem-core)\n",
      "  Downloading pymatgen-2025.6.14-cp311-cp311-manylinux_2_17_x86_64.manylinux2014_x86_64.whl.metadata (13 kB)\n",
      "Requirement already satisfied: pyyaml in /usr/local/lib/python3.11/dist-packages (from fairchem-core) (6.0.2)\n",
      "Requirement already satisfied: requests in /usr/local/lib/python3.11/dist-packages (from fairchem-core) (2.32.3)\n",
      "Collecting submitit (from fairchem-core)\n",
      "  Downloading submitit-1.5.3-py3-none-any.whl.metadata (7.9 kB)\n",
      "Requirement already satisfied: tensorboard in /usr/local/lib/python3.11/dist-packages (from fairchem-core) (2.18.0)\n",
      "Collecting torchtnt (from fairchem-core)\n",
      "  Downloading torchtnt-0.2.4-py3-none-any.whl.metadata (3.1 kB)\n",
      "Requirement already satisfied: torch~=2.6.0 in /usr/local/lib/python3.11/dist-packages (from fairchem-core) (2.6.0+cu124)\n",
      "Requirement already satisfied: tqdm in /usr/local/lib/python3.11/dist-packages (from fairchem-core) (4.67.1)\n",
      "Requirement already satisfied: wandb in /usr/local/lib/python3.11/dist-packages (from fairchem-core) (0.20.1)\n",
      "Requirement already satisfied: scipy>=1.6.0 in /usr/local/lib/python3.11/dist-packages (from ase>=3.25.0->fairchem-core) (1.15.3)\n",
      "Requirement already satisfied: matplotlib>=3.3.4 in /usr/local/lib/python3.11/dist-packages (from ase>=3.25.0->fairchem-core) (3.10.0)\n",
      "Collecting psycopg2-binary (from ase-db-backends>=0.10.0->fairchem-core)\n",
      "  Downloading psycopg2_binary-2.9.10-cp311-cp311-manylinux_2_17_x86_64.manylinux2014_x86_64.whl.metadata (4.9 kB)\n",
      "Collecting pymysql (from ase-db-backends>=0.10.0->fairchem-core)\n",
      "  Downloading PyMySQL-1.1.1-py3-none-any.whl.metadata (4.4 kB)\n",
      "Requirement already satisfied: cryptography in /usr/local/lib/python3.11/dist-packages (from ase-db-backends>=0.10.0->fairchem-core) (43.0.3)\n",
      "Requirement already satisfied: sympy in /usr/local/lib/python3.11/dist-packages (from e3nn>=0.5->fairchem-core) (1.13.1)\n",
      "Collecting opt_einsum_fx>=0.1.4 (from e3nn>=0.5->fairchem-core)\n",
      "  Downloading opt_einsum_fx-0.1.4-py3-none-any.whl.metadata (3.3 kB)\n",
      "Requirement already satisfied: filelock in /usr/local/lib/python3.11/dist-packages (from huggingface-hub>=0.27.1->fairchem-core) (3.18.0)\n",
      "Requirement already satisfied: fsspec>=2023.5.0 in /usr/local/lib/python3.11/dist-packages (from huggingface-hub>=0.27.1->fairchem-core) (2025.3.2)\n",
      "Requirement already satisfied: packaging>=20.9 in /usr/local/lib/python3.11/dist-packages (from huggingface-hub>=0.27.1->fairchem-core) (24.2)\n",
      "Requirement already satisfied: typing-extensions>=3.7.4.3 in /usr/local/lib/python3.11/dist-packages (from huggingface-hub>=0.27.1->fairchem-core) (4.14.0)\n",
      "Requirement already satisfied: hf-xet<2.0.0,>=1.1.2 in /usr/local/lib/python3.11/dist-packages (from huggingface-hub>=0.27.1->fairchem-core) (1.1.3)\n",
      "Collecting llvmlite<0.45,>=0.44.0dev0 (from numba>=0.61.2->fairchem-core)\n",
      "  Downloading llvmlite-0.44.0-cp311-cp311-manylinux_2_17_x86_64.manylinux2014_x86_64.whl.metadata (4.8 kB)\n",
      "Collecting bibtexparser>=1.4.0 (from pymatgen>=2023.10.3->fairchem-core)\n",
      "  Downloading bibtexparser-1.4.3.tar.gz (55 kB)\n",
      "\u001b[2K     \u001b[90m━━━━━━━━━━━━━━━━━━━━━━━━━━━━━━━━━━━━━━━━\u001b[0m \u001b[32m55.6/55.6 kB\u001b[0m \u001b[31m5.8 MB/s\u001b[0m eta \u001b[36m0:00:00\u001b[0m\n",
      "\u001b[?25h  Preparing metadata (setup.py) ... \u001b[?25l\u001b[?25hdone\n",
      "Requirement already satisfied: joblib>=1 in /usr/local/lib/python3.11/dist-packages (from pymatgen>=2023.10.3->fairchem-core) (1.5.1)\n",
      "Collecting monty>=2025.1.9 (from pymatgen>=2023.10.3->fairchem-core)\n",
      "  Downloading monty-2025.3.3-py3-none-any.whl.metadata (3.6 kB)\n",
      "Requirement already satisfied: networkx>=2.7 in /usr/local/lib/python3.11/dist-packages (from pymatgen>=2023.10.3->fairchem-core) (3.5)\n",
      "Collecting palettable>=3.3.3 (from pymatgen>=2023.10.3->fairchem-core)\n",
      "  Downloading palettable-3.3.3-py2.py3-none-any.whl.metadata (3.3 kB)\n",
      "Requirement already satisfied: pandas>=2 in /usr/local/lib/python3.11/dist-packages (from pymatgen>=2023.10.3->fairchem-core) (2.2.2)\n",
      "Requirement already satisfied: plotly>=5.0.0 in /usr/local/lib/python3.11/dist-packages (from pymatgen>=2023.10.3->fairchem-core) (5.24.1)\n",
      "Collecting ruamel.yaml>=0.17.0 (from pymatgen>=2023.10.3->fairchem-core)\n",
      "  Downloading ruamel.yaml-0.18.14-py3-none-any.whl.metadata (24 kB)\n",
      "Collecting spglib>=2.5 (from pymatgen>=2023.10.3->fairchem-core)\n",
      "  Downloading spglib-2.6.0-cp311-cp311-manylinux_2_17_x86_64.manylinux2014_x86_64.whl.metadata (4.2 kB)\n",
      "Requirement already satisfied: tabulate>=0.9 in /usr/local/lib/python3.11/dist-packages (from pymatgen>=2023.10.3->fairchem-core) (0.9.0)\n",
      "Collecting uncertainties>=3.1.4 (from pymatgen>=2023.10.3->fairchem-core)\n",
      "  Downloading uncertainties-3.2.3-py3-none-any.whl.metadata (7.0 kB)\n",
      "Requirement already satisfied: charset-normalizer<4,>=2 in /usr/local/lib/python3.11/dist-packages (from requests->fairchem-core) (3.4.2)\n",
      "Requirement already satisfied: idna<4,>=2.5 in /usr/local/lib/python3.11/dist-packages (from requests->fairchem-core) (3.10)\n",
      "Requirement already satisfied: urllib3<3,>=1.21.1 in /usr/local/lib/python3.11/dist-packages (from requests->fairchem-core) (2.4.0)\n",
      "Requirement already satisfied: certifi>=2017.4.17 in /usr/local/lib/python3.11/dist-packages (from requests->fairchem-core) (2025.6.15)\n",
      "Requirement already satisfied: jinja2 in /usr/local/lib/python3.11/dist-packages (from torch~=2.6.0->fairchem-core) (3.1.6)\n",
      "Collecting nvidia-cuda-nvrtc-cu12==12.4.127 (from torch~=2.6.0->fairchem-core)\n",
      "  Downloading nvidia_cuda_nvrtc_cu12-12.4.127-py3-none-manylinux2014_x86_64.whl.metadata (1.5 kB)\n",
      "Collecting nvidia-cuda-runtime-cu12==12.4.127 (from torch~=2.6.0->fairchem-core)\n",
      "  Downloading nvidia_cuda_runtime_cu12-12.4.127-py3-none-manylinux2014_x86_64.whl.metadata (1.5 kB)\n",
      "Collecting nvidia-cuda-cupti-cu12==12.4.127 (from torch~=2.6.0->fairchem-core)\n",
      "  Downloading nvidia_cuda_cupti_cu12-12.4.127-py3-none-manylinux2014_x86_64.whl.metadata (1.6 kB)\n",
      "Collecting nvidia-cudnn-cu12==9.1.0.70 (from torch~=2.6.0->fairchem-core)\n",
      "  Downloading nvidia_cudnn_cu12-9.1.0.70-py3-none-manylinux2014_x86_64.whl.metadata (1.6 kB)\n",
      "Collecting nvidia-cublas-cu12==12.4.5.8 (from torch~=2.6.0->fairchem-core)\n",
      "  Downloading nvidia_cublas_cu12-12.4.5.8-py3-none-manylinux2014_x86_64.whl.metadata (1.5 kB)\n",
      "Collecting nvidia-cufft-cu12==11.2.1.3 (from torch~=2.6.0->fairchem-core)\n",
      "  Downloading nvidia_cufft_cu12-11.2.1.3-py3-none-manylinux2014_x86_64.whl.metadata (1.5 kB)\n",
      "Collecting nvidia-curand-cu12==10.3.5.147 (from torch~=2.6.0->fairchem-core)\n",
      "  Downloading nvidia_curand_cu12-10.3.5.147-py3-none-manylinux2014_x86_64.whl.metadata (1.5 kB)\n",
      "Collecting nvidia-cusolver-cu12==11.6.1.9 (from torch~=2.6.0->fairchem-core)\n",
      "  Downloading nvidia_cusolver_cu12-11.6.1.9-py3-none-manylinux2014_x86_64.whl.metadata (1.6 kB)\n",
      "Collecting nvidia-cusparse-cu12==12.3.1.170 (from torch~=2.6.0->fairchem-core)\n",
      "  Downloading nvidia_cusparse_cu12-12.3.1.170-py3-none-manylinux2014_x86_64.whl.metadata (1.6 kB)\n",
      "Requirement already satisfied: nvidia-cusparselt-cu12==0.6.2 in /usr/local/lib/python3.11/dist-packages (from torch~=2.6.0->fairchem-core) (0.6.2)\n",
      "Requirement already satisfied: nvidia-nccl-cu12==2.21.5 in /usr/local/lib/python3.11/dist-packages (from torch~=2.6.0->fairchem-core) (2.21.5)\n",
      "Requirement already satisfied: nvidia-nvtx-cu12==12.4.127 in /usr/local/lib/python3.11/dist-packages (from torch~=2.6.0->fairchem-core) (12.4.127)\n",
      "Collecting nvidia-nvjitlink-cu12==12.4.127 (from torch~=2.6.0->fairchem-core)\n",
      "  Downloading nvidia_nvjitlink_cu12-12.4.127-py3-none-manylinux2014_x86_64.whl.metadata (1.5 kB)\n",
      "Requirement already satisfied: triton==3.2.0 in /usr/local/lib/python3.11/dist-packages (from torch~=2.6.0->fairchem-core) (3.2.0)\n",
      "Requirement already satisfied: mpmath<1.4,>=1.1.0 in /usr/local/lib/python3.11/dist-packages (from sympy->e3nn>=0.5->fairchem-core) (1.3.0)\n",
      "Requirement already satisfied: omegaconf<2.4,>=2.2 in /usr/local/lib/python3.11/dist-packages (from hydra-core->fairchem-core) (2.3.0)\n",
      "Requirement already satisfied: antlr4-python3-runtime==4.9.* in /usr/local/lib/python3.11/dist-packages (from hydra-core->fairchem-core) (4.9.3)\n",
      "Requirement already satisfied: cloudpickle>=1.2.1 in /usr/local/lib/python3.11/dist-packages (from submitit->fairchem-core) (3.1.1)\n",
      "Requirement already satisfied: absl-py>=0.4 in /usr/local/lib/python3.11/dist-packages (from tensorboard->fairchem-core) (1.4.0)\n",
      "Requirement already satisfied: grpcio>=1.48.2 in /usr/local/lib/python3.11/dist-packages (from tensorboard->fairchem-core) (1.73.0)\n",
      "Requirement already satisfied: markdown>=2.6.8 in /usr/local/lib/python3.11/dist-packages (from tensorboard->fairchem-core) (3.8)\n",
      "Requirement already satisfied: protobuf!=4.24.0,>=3.19.6 in /usr/local/lib/python3.11/dist-packages (from tensorboard->fairchem-core) (5.29.5)\n",
      "Requirement already satisfied: setuptools>=41.0.0 in /usr/local/lib/python3.11/dist-packages (from tensorboard->fairchem-core) (75.2.0)\n",
      "Requirement already satisfied: six>1.9 in /usr/local/lib/python3.11/dist-packages (from tensorboard->fairchem-core) (1.17.0)\n",
      "Requirement already satisfied: tensorboard-data-server<0.8.0,>=0.7.0 in /usr/local/lib/python3.11/dist-packages (from tensorboard->fairchem-core) (0.7.2)\n",
      "Requirement already satisfied: werkzeug>=1.0.1 in /usr/local/lib/python3.11/dist-packages (from tensorboard->fairchem-core) (3.1.3)\n",
      "Requirement already satisfied: psutil in /usr/local/lib/python3.11/dist-packages (from torchtnt->fairchem-core) (5.9.5)\n",
      "Collecting pyre-extensions (from torchtnt->fairchem-core)\n",
      "  Downloading pyre_extensions-0.0.32-py3-none-any.whl.metadata (4.0 kB)\n",
      "Requirement already satisfied: click!=8.0.0,>=7.1 in /usr/local/lib/python3.11/dist-packages (from wandb->fairchem-core) (8.2.1)\n",
      "Requirement already satisfied: gitpython!=3.1.29,>=1.0.0 in /usr/local/lib/python3.11/dist-packages (from wandb->fairchem-core) (3.1.44)\n",
      "Requirement already satisfied: platformdirs in /usr/local/lib/python3.11/dist-packages (from wandb->fairchem-core) (4.3.8)\n",
      "Requirement already satisfied: pydantic<3 in /usr/local/lib/python3.11/dist-packages (from wandb->fairchem-core) (2.11.7)\n",
      "Requirement already satisfied: sentry-sdk>=2.0.0 in /usr/local/lib/python3.11/dist-packages (from wandb->fairchem-core) (2.30.0)\n",
      "Requirement already satisfied: setproctitle in /usr/local/lib/python3.11/dist-packages (from wandb->fairchem-core) (1.3.6)\n",
      "Requirement already satisfied: pyparsing>=2.0.3 in /usr/local/lib/python3.11/dist-packages (from bibtexparser>=1.4.0->pymatgen>=2023.10.3->fairchem-core) (3.2.3)\n",
      "Requirement already satisfied: gitdb<5,>=4.0.1 in /usr/local/lib/python3.11/dist-packages (from gitpython!=3.1.29,>=1.0.0->wandb->fairchem-core) (4.0.12)\n",
      "Requirement already satisfied: contourpy>=1.0.1 in /usr/local/lib/python3.11/dist-packages (from matplotlib>=3.3.4->ase>=3.25.0->fairchem-core) (1.3.2)\n",
      "Requirement already satisfied: cycler>=0.10 in /usr/local/lib/python3.11/dist-packages (from matplotlib>=3.3.4->ase>=3.25.0->fairchem-core) (0.12.1)\n",
      "Requirement already satisfied: fonttools>=4.22.0 in /usr/local/lib/python3.11/dist-packages (from matplotlib>=3.3.4->ase>=3.25.0->fairchem-core) (4.58.4)\n",
      "Requirement already satisfied: kiwisolver>=1.3.1 in /usr/local/lib/python3.11/dist-packages (from matplotlib>=3.3.4->ase>=3.25.0->fairchem-core) (1.4.8)\n",
      "Requirement already satisfied: pillow>=8 in /usr/local/lib/python3.11/dist-packages (from matplotlib>=3.3.4->ase>=3.25.0->fairchem-core) (11.2.1)\n",
      "Requirement already satisfied: python-dateutil>=2.7 in /usr/local/lib/python3.11/dist-packages (from matplotlib>=3.3.4->ase>=3.25.0->fairchem-core) (2.9.0.post0)\n",
      "Requirement already satisfied: opt-einsum in /usr/local/lib/python3.11/dist-packages (from opt_einsum_fx>=0.1.4->e3nn>=0.5->fairchem-core) (3.4.0)\n",
      "Requirement already satisfied: pytz>=2020.1 in /usr/local/lib/python3.11/dist-packages (from pandas>=2->pymatgen>=2023.10.3->fairchem-core) (2025.2)\n",
      "Requirement already satisfied: tzdata>=2022.7 in /usr/local/lib/python3.11/dist-packages (from pandas>=2->pymatgen>=2023.10.3->fairchem-core) (2025.2)\n",
      "Requirement already satisfied: tenacity>=6.2.0 in /usr/local/lib/python3.11/dist-packages (from plotly>=5.0.0->pymatgen>=2023.10.3->fairchem-core) (9.1.2)\n",
      "Requirement already satisfied: annotated-types>=0.6.0 in /usr/local/lib/python3.11/dist-packages (from pydantic<3->wandb->fairchem-core) (0.7.0)\n",
      "Requirement already satisfied: pydantic-core==2.33.2 in /usr/local/lib/python3.11/dist-packages (from pydantic<3->wandb->fairchem-core) (2.33.2)\n",
      "Requirement already satisfied: typing-inspection>=0.4.0 in /usr/local/lib/python3.11/dist-packages (from pydantic<3->wandb->fairchem-core) (0.4.1)\n",
      "Collecting ruamel.yaml.clib>=0.2.7 (from ruamel.yaml>=0.17.0->pymatgen>=2023.10.3->fairchem-core)\n",
      "  Downloading ruamel.yaml.clib-0.2.12-cp311-cp311-manylinux_2_17_x86_64.manylinux2014_x86_64.whl.metadata (2.7 kB)\n",
      "Requirement already satisfied: MarkupSafe>=2.1.1 in /usr/local/lib/python3.11/dist-packages (from werkzeug>=1.0.1->tensorboard->fairchem-core) (3.0.2)\n",
      "Requirement already satisfied: cffi>=1.12 in /usr/local/lib/python3.11/dist-packages (from cryptography->ase-db-backends>=0.10.0->fairchem-core) (1.17.1)\n",
      "Collecting typing-inspect (from pyre-extensions->torchtnt->fairchem-core)\n",
      "  Downloading typing_inspect-0.9.0-py3-none-any.whl.metadata (1.5 kB)\n",
      "Requirement already satisfied: pycparser in /usr/local/lib/python3.11/dist-packages (from cffi>=1.12->cryptography->ase-db-backends>=0.10.0->fairchem-core) (2.22)\n",
      "Requirement already satisfied: smmap<6,>=3.0.1 in /usr/local/lib/python3.11/dist-packages (from gitdb<5,>=4.0.1->gitpython!=3.1.29,>=1.0.0->wandb->fairchem-core) (5.0.2)\n",
      "Collecting mypy-extensions>=0.3.0 (from typing-inspect->pyre-extensions->torchtnt->fairchem-core)\n",
      "  Downloading mypy_extensions-1.1.0-py3-none-any.whl.metadata (1.1 kB)\n",
      "Downloading fairchem_core-2.2.0-py3-none-any.whl (284 kB)\n",
      "\u001b[2K   \u001b[90m━━━━━━━━━━━━━━━━━━━━━━━━━━━━━━━━━━━━━━━━\u001b[0m \u001b[32m284.9/284.9 kB\u001b[0m \u001b[31m29.9 MB/s\u001b[0m eta \u001b[36m0:00:00\u001b[0m\n",
      "\u001b[?25hDownloading ase-3.25.0-py3-none-any.whl (3.0 MB)\n",
      "\u001b[2K   \u001b[90m━━━━━━━━━━━━━━━━━━━━━━━━━━━━━━━━━━━━━━━━\u001b[0m \u001b[32m3.0/3.0 MB\u001b[0m \u001b[31m73.6 MB/s\u001b[0m eta \u001b[36m0:00:00\u001b[0m\n",
      "\u001b[?25hDownloading ase_db_backends-0.10.0-py3-none-any.whl (42 kB)\n",
      "\u001b[2K   \u001b[90m━━━━━━━━━━━━━━━━━━━━━━━━━━━━━━━━━━━━━━━━\u001b[0m \u001b[32m42.9/42.9 kB\u001b[0m \u001b[31m4.0 MB/s\u001b[0m eta \u001b[36m0:00:00\u001b[0m\n",
      "\u001b[?25hDownloading e3nn-0.5.6-py3-none-any.whl (448 kB)\n",
      "\u001b[2K   \u001b[90m━━━━━━━━━━━━━━━━━━━━━━━━━━━━━━━━━━━━━━━━\u001b[0m \u001b[32m448.0/448.0 kB\u001b[0m \u001b[31m41.3 MB/s\u001b[0m eta \u001b[36m0:00:00\u001b[0m\n",
      "\u001b[?25hDownloading numba-0.61.2-cp311-cp311-manylinux2014_x86_64.manylinux_2_17_x86_64.whl (3.8 MB)\n",
      "\u001b[2K   \u001b[90m━━━━━━━━━━━━━━━━━━━━━━━━━━━━━━━━━━━━━━━━\u001b[0m \u001b[32m3.8/3.8 MB\u001b[0m \u001b[31m115.7 MB/s\u001b[0m eta \u001b[36m0:00:00\u001b[0m\n",
      "\u001b[?25hDownloading pymatgen-2025.6.14-cp311-cp311-manylinux_2_17_x86_64.manylinux2014_x86_64.whl (5.1 MB)\n",
      "\u001b[2K   \u001b[90m━━━━━━━━━━━━━━━━━━━━━━━━━━━━━━━━━━━━━━━━\u001b[0m \u001b[32m5.1/5.1 MB\u001b[0m \u001b[31m124.8 MB/s\u001b[0m eta \u001b[36m0:00:00\u001b[0m\n",
      "\u001b[?25hDownloading nvidia_cublas_cu12-12.4.5.8-py3-none-manylinux2014_x86_64.whl (363.4 MB)\n",
      "\u001b[2K   \u001b[90m━━━━━━━━━━━━━━━━━━━━━━━━━━━━━━━━━━━━━━━━\u001b[0m \u001b[32m363.4/363.4 MB\u001b[0m \u001b[31m4.3 MB/s\u001b[0m eta \u001b[36m0:00:00\u001b[0m\n",
      "\u001b[?25hDownloading nvidia_cuda_cupti_cu12-12.4.127-py3-none-manylinux2014_x86_64.whl (13.8 MB)\n",
      "\u001b[2K   \u001b[90m━━━━━━━━━━━━━━━━━━━━━━━━━━━━━━━━━━━━━━━━\u001b[0m \u001b[32m13.8/13.8 MB\u001b[0m \u001b[31m116.0 MB/s\u001b[0m eta \u001b[36m0:00:00\u001b[0m\n",
      "\u001b[?25hDownloading nvidia_cuda_nvrtc_cu12-12.4.127-py3-none-manylinux2014_x86_64.whl (24.6 MB)\n",
      "\u001b[2K   \u001b[90m━━━━━━━━━━━━━━━━━━━━━━━━━━━━━━━━━━━━━━━━\u001b[0m \u001b[32m24.6/24.6 MB\u001b[0m \u001b[31m94.5 MB/s\u001b[0m eta \u001b[36m0:00:00\u001b[0m\n",
      "\u001b[?25hDownloading nvidia_cuda_runtime_cu12-12.4.127-py3-none-manylinux2014_x86_64.whl (883 kB)\n",
      "\u001b[2K   \u001b[90m━━━━━━━━━━━━━━━━━━━━━━━━━━━━━━━━━━━━━━━━\u001b[0m \u001b[32m883.7/883.7 kB\u001b[0m \u001b[31m60.2 MB/s\u001b[0m eta \u001b[36m0:00:00\u001b[0m\n",
      "\u001b[?25hDownloading nvidia_cudnn_cu12-9.1.0.70-py3-none-manylinux2014_x86_64.whl (664.8 MB)\n",
      "\u001b[2K   \u001b[90m━━━━━━━━━━━━━━━━━━━━━━━━━━━━━━━━━━━━━━━━\u001b[0m \u001b[32m664.8/664.8 MB\u001b[0m \u001b[31m2.0 MB/s\u001b[0m eta \u001b[36m0:00:00\u001b[0m\n",
      "\u001b[?25hDownloading nvidia_cufft_cu12-11.2.1.3-py3-none-manylinux2014_x86_64.whl (211.5 MB)\n",
      "\u001b[2K   \u001b[90m━━━━━━━━━━━━━━━━━━━━━━━━━━━━━━━━━━━━━━━━\u001b[0m \u001b[32m211.5/211.5 MB\u001b[0m \u001b[31m5.4 MB/s\u001b[0m eta \u001b[36m0:00:00\u001b[0m\n",
      "\u001b[?25hDownloading nvidia_curand_cu12-10.3.5.147-py3-none-manylinux2014_x86_64.whl (56.3 MB)\n",
      "\u001b[2K   \u001b[90m━━━━━━━━━━━━━━━━━━━━━━━━━━━━━━━━━━━━━━━━\u001b[0m \u001b[32m56.3/56.3 MB\u001b[0m \u001b[31m18.4 MB/s\u001b[0m eta \u001b[36m0:00:00\u001b[0m\n",
      "\u001b[?25hDownloading nvidia_cusolver_cu12-11.6.1.9-py3-none-manylinux2014_x86_64.whl (127.9 MB)\n",
      "\u001b[2K   \u001b[90m━━━━━━━━━━━━━━━━━━━━━━━━━━━━━━━━━━━━━━━━\u001b[0m \u001b[32m127.9/127.9 MB\u001b[0m \u001b[31m7.4 MB/s\u001b[0m eta \u001b[36m0:00:00\u001b[0m\n",
      "\u001b[?25hDownloading nvidia_cusparse_cu12-12.3.1.170-py3-none-manylinux2014_x86_64.whl (207.5 MB)\n",
      "\u001b[2K   \u001b[90m━━━━━━━━━━━━━━━━━━━━━━━━━━━━━━━━━━━━━━━━\u001b[0m \u001b[32m207.5/207.5 MB\u001b[0m \u001b[31m5.5 MB/s\u001b[0m eta \u001b[36m0:00:00\u001b[0m\n",
      "\u001b[?25hDownloading nvidia_nvjitlink_cu12-12.4.127-py3-none-manylinux2014_x86_64.whl (21.1 MB)\n",
      "\u001b[2K   \u001b[90m━━━━━━━━━━━━━━━━━━━━━━━━━━━━━━━━━━━━━━━━\u001b[0m \u001b[32m21.1/21.1 MB\u001b[0m \u001b[31m73.4 MB/s\u001b[0m eta \u001b[36m0:00:00\u001b[0m\n",
      "\u001b[?25hDownloading hydra_core-1.3.2-py3-none-any.whl (154 kB)\n",
      "\u001b[2K   \u001b[90m━━━━━━━━━━━━━━━━━━━━━━━━━━━━━━━━━━━━━━━━\u001b[0m \u001b[32m154.5/154.5 kB\u001b[0m \u001b[31m14.6 MB/s\u001b[0m eta \u001b[36m0:00:00\u001b[0m\n",
      "\u001b[?25hDownloading lmdb-1.6.2-cp311-cp311-manylinux_2_17_x86_64.manylinux2014_x86_64.whl (297 kB)\n",
      "\u001b[2K   \u001b[90m━━━━━━━━━━━━━━━━━━━━━━━━━━━━━━━━━━━━━━━━\u001b[0m \u001b[32m297.8/297.8 kB\u001b[0m \u001b[31m24.2 MB/s\u001b[0m eta \u001b[36m0:00:00\u001b[0m\n",
      "\u001b[?25hDownloading submitit-1.5.3-py3-none-any.whl (75 kB)\n",
      "\u001b[2K   \u001b[90m━━━━━━━━━━━━━━━━━━━━━━━━━━━━━━━━━━━━━━━━\u001b[0m \u001b[32m75.5/75.5 kB\u001b[0m \u001b[31m7.3 MB/s\u001b[0m eta \u001b[36m0:00:00\u001b[0m\n",
      "\u001b[?25hDownloading torchtnt-0.2.4-py3-none-any.whl (163 kB)\n",
      "\u001b[2K   \u001b[90m━━━━━━━━━━━━━━━━━━━━━━━━━━━━━━━━━━━━━━━━\u001b[0m \u001b[32m163.5/163.5 kB\u001b[0m \u001b[31m15.6 MB/s\u001b[0m eta \u001b[36m0:00:00\u001b[0m\n",
      "\u001b[?25hDownloading llvmlite-0.44.0-cp311-cp311-manylinux_2_17_x86_64.manylinux2014_x86_64.whl (42.4 MB)\n",
      "\u001b[2K   \u001b[90m━━━━━━━━━━━━━━━━━━━━━━━━━━━━━━━━━━━━━━━━\u001b[0m \u001b[32m42.4/42.4 MB\u001b[0m \u001b[31m15.4 MB/s\u001b[0m eta \u001b[36m0:00:00\u001b[0m\n",
      "\u001b[?25hDownloading monty-2025.3.3-py3-none-any.whl (51 kB)\n",
      "\u001b[2K   \u001b[90m━━━━━━━━━━━━━━━━━━━━━━━━━━━━━━━━━━━━━━━━\u001b[0m \u001b[32m51.9/51.9 kB\u001b[0m \u001b[31m4.8 MB/s\u001b[0m eta \u001b[36m0:00:00\u001b[0m\n",
      "\u001b[?25hDownloading opt_einsum_fx-0.1.4-py3-none-any.whl (13 kB)\n",
      "Downloading palettable-3.3.3-py2.py3-none-any.whl (332 kB)\n",
      "\u001b[2K   \u001b[90m━━━━━━━━━━━━━━━━━━━━━━━━━━━━━━━━━━━━━━━━\u001b[0m \u001b[32m332.3/332.3 kB\u001b[0m \u001b[31m25.9 MB/s\u001b[0m eta \u001b[36m0:00:00\u001b[0m\n",
      "\u001b[?25hDownloading ruamel.yaml-0.18.14-py3-none-any.whl (118 kB)\n",
      "\u001b[2K   \u001b[90m━━━━━━━━━━━━━━━━━━━━━━━━━━━━━━━━━━━━━━━━\u001b[0m \u001b[32m118.6/118.6 kB\u001b[0m \u001b[31m12.1 MB/s\u001b[0m eta \u001b[36m0:00:00\u001b[0m\n",
      "\u001b[?25hDownloading spglib-2.6.0-cp311-cp311-manylinux_2_17_x86_64.manylinux2014_x86_64.whl (809 kB)\n",
      "\u001b[2K   \u001b[90m━━━━━━━━━━━━━━━━━━━━━━━━━━━━━━━━━━━━━━━━\u001b[0m \u001b[32m809.0/809.0 kB\u001b[0m \u001b[31m45.9 MB/s\u001b[0m eta \u001b[36m0:00:00\u001b[0m\n",
      "\u001b[?25hDownloading uncertainties-3.2.3-py3-none-any.whl (60 kB)\n",
      "\u001b[2K   \u001b[90m━━━━━━━━━━━━━━━━━━━━━━━━━━━━━━━━━━━━━━━━\u001b[0m \u001b[32m60.1/60.1 kB\u001b[0m \u001b[31m5.3 MB/s\u001b[0m eta \u001b[36m0:00:00\u001b[0m\n",
      "\u001b[?25hDownloading psycopg2_binary-2.9.10-cp311-cp311-manylinux_2_17_x86_64.manylinux2014_x86_64.whl (3.0 MB)\n",
      "\u001b[2K   \u001b[90m━━━━━━━━━━━━━━━━━━━━━━━━━━━━━━━━━━━━━━━━\u001b[0m \u001b[32m3.0/3.0 MB\u001b[0m \u001b[31m76.6 MB/s\u001b[0m eta \u001b[36m0:00:00\u001b[0m\n",
      "\u001b[?25hDownloading PyMySQL-1.1.1-py3-none-any.whl (44 kB)\n",
      "\u001b[2K   \u001b[90m━━━━━━━━━━━━━━━━━━━━━━━━━━━━━━━━━━━━━━━━\u001b[0m \u001b[32m45.0/45.0 kB\u001b[0m \u001b[31m4.6 MB/s\u001b[0m eta \u001b[36m0:00:00\u001b[0m\n",
      "\u001b[?25hDownloading pyre_extensions-0.0.32-py3-none-any.whl (12 kB)\n",
      "Downloading ruamel.yaml.clib-0.2.12-cp311-cp311-manylinux_2_17_x86_64.manylinux2014_x86_64.whl (739 kB)\n",
      "\u001b[2K   \u001b[90m━━━━━━━━━━━━━━━━━━━━━━━━━━━━━━━━━━━━━━━━\u001b[0m \u001b[32m739.1/739.1 kB\u001b[0m \u001b[31m53.1 MB/s\u001b[0m eta \u001b[36m0:00:00\u001b[0m\n",
      "\u001b[?25hDownloading typing_inspect-0.9.0-py3-none-any.whl (8.8 kB)\n",
      "Downloading mypy_extensions-1.1.0-py3-none-any.whl (5.0 kB)\n",
      "Building wheels for collected packages: bibtexparser\n",
      "  Building wheel for bibtexparser (setup.py) ... \u001b[?25l\u001b[?25hdone\n",
      "  Created wheel for bibtexparser: filename=bibtexparser-1.4.3-py3-none-any.whl size=43549 sha256=43d4512abc862c7c39d61acc682c0d495321d5b484548b4bcf939e9bb126b590\n",
      "  Stored in directory: /root/.cache/pip/wheels/16/fb/76/306387739cf9d53b1c39b0c8aadbbb17dc05f256756d8fd915\n",
      "Successfully built bibtexparser\n",
      "Installing collected packages: lmdb, uncertainties, submitit, spglib, ruamel.yaml.clib, pymysql, psycopg2-binary, palettable, nvidia-nvjitlink-cu12, nvidia-curand-cu12, nvidia-cufft-cu12, nvidia-cuda-runtime-cu12, nvidia-cuda-nvrtc-cu12, nvidia-cuda-cupti-cu12, nvidia-cublas-cu12, mypy-extensions, llvmlite, bibtexparser, typing-inspect, ruamel.yaml, nvidia-cusparse-cu12, nvidia-cudnn-cu12, numba, hydra-core, pyre-extensions, nvidia-cusolver-cu12, monty, ase, pymatgen, ase-db-backends, torchtnt, opt_einsum_fx, e3nn, fairchem-core\n",
      "  Attempting uninstall: nvidia-nvjitlink-cu12\n",
      "    Found existing installation: nvidia-nvjitlink-cu12 12.5.82\n",
      "    Uninstalling nvidia-nvjitlink-cu12-12.5.82:\n",
      "      Successfully uninstalled nvidia-nvjitlink-cu12-12.5.82\n",
      "  Attempting uninstall: nvidia-curand-cu12\n",
      "    Found existing installation: nvidia-curand-cu12 10.3.6.82\n",
      "    Uninstalling nvidia-curand-cu12-10.3.6.82:\n",
      "      Successfully uninstalled nvidia-curand-cu12-10.3.6.82\n",
      "  Attempting uninstall: nvidia-cufft-cu12\n",
      "    Found existing installation: nvidia-cufft-cu12 11.2.3.61\n",
      "    Uninstalling nvidia-cufft-cu12-11.2.3.61:\n",
      "      Successfully uninstalled nvidia-cufft-cu12-11.2.3.61\n",
      "  Attempting uninstall: nvidia-cuda-runtime-cu12\n",
      "    Found existing installation: nvidia-cuda-runtime-cu12 12.5.82\n",
      "    Uninstalling nvidia-cuda-runtime-cu12-12.5.82:\n",
      "      Successfully uninstalled nvidia-cuda-runtime-cu12-12.5.82\n",
      "  Attempting uninstall: nvidia-cuda-nvrtc-cu12\n",
      "    Found existing installation: nvidia-cuda-nvrtc-cu12 12.5.82\n",
      "    Uninstalling nvidia-cuda-nvrtc-cu12-12.5.82:\n",
      "      Successfully uninstalled nvidia-cuda-nvrtc-cu12-12.5.82\n",
      "  Attempting uninstall: nvidia-cuda-cupti-cu12\n",
      "    Found existing installation: nvidia-cuda-cupti-cu12 12.5.82\n",
      "    Uninstalling nvidia-cuda-cupti-cu12-12.5.82:\n",
      "      Successfully uninstalled nvidia-cuda-cupti-cu12-12.5.82\n",
      "  Attempting uninstall: nvidia-cublas-cu12\n",
      "    Found existing installation: nvidia-cublas-cu12 12.5.3.2\n",
      "    Uninstalling nvidia-cublas-cu12-12.5.3.2:\n",
      "      Successfully uninstalled nvidia-cublas-cu12-12.5.3.2\n",
      "  Attempting uninstall: llvmlite\n",
      "    Found existing installation: llvmlite 0.43.0\n",
      "    Uninstalling llvmlite-0.43.0:\n",
      "      Successfully uninstalled llvmlite-0.43.0\n",
      "  Attempting uninstall: nvidia-cusparse-cu12\n",
      "    Found existing installation: nvidia-cusparse-cu12 12.5.1.3\n",
      "    Uninstalling nvidia-cusparse-cu12-12.5.1.3:\n",
      "      Successfully uninstalled nvidia-cusparse-cu12-12.5.1.3\n",
      "  Attempting uninstall: nvidia-cudnn-cu12\n",
      "    Found existing installation: nvidia-cudnn-cu12 9.3.0.75\n",
      "    Uninstalling nvidia-cudnn-cu12-9.3.0.75:\n",
      "      Successfully uninstalled nvidia-cudnn-cu12-9.3.0.75\n",
      "  Attempting uninstall: numba\n",
      "    Found existing installation: numba 0.60.0\n",
      "    Uninstalling numba-0.60.0:\n",
      "      Successfully uninstalled numba-0.60.0\n",
      "  Attempting uninstall: nvidia-cusolver-cu12\n",
      "    Found existing installation: nvidia-cusolver-cu12 11.6.3.83\n",
      "    Uninstalling nvidia-cusolver-cu12-11.6.3.83:\n",
      "      Successfully uninstalled nvidia-cusolver-cu12-11.6.3.83\n",
      "\u001b[31mERROR: pip's dependency resolver does not currently take into account all the packages that are installed. This behaviour is the source of the following dependency conflicts.\n",
      "cudf-cu12 25.2.1 requires numba<0.61.0a0,>=0.59.1, but you have numba 0.61.2 which is incompatible.\n",
      "cuml-cu12 25.2.1 requires numba<0.61.0a0,>=0.59.1, but you have numba 0.61.2 which is incompatible.\n",
      "dask-cuda 25.2.0 requires numba<0.61.0a0,>=0.59.1, but you have numba 0.61.2 which is incompatible.\n",
      "distributed-ucxx-cu12 0.42.0 requires numba<0.61.0a0,>=0.59.1, but you have numba 0.61.2 which is incompatible.\u001b[0m\u001b[31m\n",
      "\u001b[0mSuccessfully installed ase-3.25.0 ase-db-backends-0.10.0 bibtexparser-1.4.3 e3nn-0.5.6 fairchem-core-2.2.0 hydra-core-1.3.2 llvmlite-0.44.0 lmdb-1.6.2 monty-2025.3.3 mypy-extensions-1.1.0 numba-0.61.2 nvidia-cublas-cu12-12.4.5.8 nvidia-cuda-cupti-cu12-12.4.127 nvidia-cuda-nvrtc-cu12-12.4.127 nvidia-cuda-runtime-cu12-12.4.127 nvidia-cudnn-cu12-9.1.0.70 nvidia-cufft-cu12-11.2.1.3 nvidia-curand-cu12-10.3.5.147 nvidia-cusolver-cu12-11.6.1.9 nvidia-cusparse-cu12-12.3.1.170 nvidia-nvjitlink-cu12-12.4.127 opt_einsum_fx-0.1.4 palettable-3.3.3 psycopg2-binary-2.9.10 pymatgen-2025.6.14 pymysql-1.1.1 pyre-extensions-0.0.32 ruamel.yaml-0.18.14 ruamel.yaml.clib-0.2.12 spglib-2.6.0 submitit-1.5.3 torchtnt-0.2.4 typing-inspect-0.9.0 uncertainties-3.2.3\n"
     ]
    }
   ],
   "source": [
    "! pip install py3Dmol\n",
    "! pip install fairchem-core"
   ]
  },
  {
   "cell_type": "markdown",
   "metadata": {
    "id": "5VmO2vg3e_Bz"
   },
   "source": [
    "### Import libraries, pull CafChem from Github"
   ]
  },
  {
   "cell_type": "code",
   "execution_count": 3,
   "metadata": {
    "colab": {
     "base_uri": "https://localhost:8080/"
    },
    "id": "8z14e6RLgA0w",
    "outputId": "d11930de-c0a9-44fd-bd11-ef70643d787a"
   },
   "outputs": [
    {
     "name": "stdout",
     "output_type": "stream",
     "text": [
      "Cloning into 'CafChem'...\n",
      "remote: Enumerating objects: 80, done.\u001b[K\n",
      "remote: Counting objects: 100% (80/80), done.\u001b[K\n",
      "remote: Compressing objects: 100% (76/76), done.\u001b[K\n",
      "remote: Total 80 (delta 35), reused 0 (delta 0), pack-reused 0 (from 0)\u001b[K\n",
      "Receiving objects: 100% (80/80), 1.38 MiB | 7.15 MiB/s, done.\n",
      "Resolving deltas: 100% (35/35), done.\n"
     ]
    }
   ],
   "source": [
    "!git clone https://github.com/MauricioCafiero/CafChem.git"
   ]
  },
  {
   "cell_type": "code",
   "execution_count": 5,
   "metadata": {
    "colab": {
     "base_uri": "https://localhost:8080/"
    },
    "id": "3a76e239-bd0e-4783-9c3e-7eb5ca48caa4",
    "outputId": "04f2155b-9026-48d3-89a6-383e7f72d470"
   },
   "outputs": [
    {
     "name": "stdout",
     "output_type": "stream",
     "text": [
      "2\n"
     ]
    }
   ],
   "source": [
    "import torch\n",
    "import os\n",
    "import numpy as np\n",
    "import pandas as pd\n",
    "import matplotlib.pyplot as plt\n",
    "from google.colab import files\n",
    "from fairchem.core import FAIRChemCalculator, pretrained_mlip\n",
    "import CafChem.CafChemReDock as ccr\n",
    "\n",
    "cpuCount = os.cpu_count()\n",
    "print(cpuCount)"
   ]
  },
  {
   "cell_type": "markdown",
   "metadata": {
    "id": "TgKnUxauwpRz"
   },
   "source": [
    "## Set-up Fairchem\n",
    "- Must have HF_TOKEN saved as a secret"
   ]
  },
  {
   "cell_type": "code",
   "execution_count": 6,
   "metadata": {
    "colab": {
     "base_uri": "https://localhost:8080/",
     "height": 0,
     "referenced_widgets": [
      "7997184f43e94344b788311cf62b9614",
      "7ca5df1479084338aee437b98f21cc89",
      "4958cac61a2b40e6b13d92f8bc563916",
      "f133078e23384673acc931df250a5016",
      "f0c04096577d4ffd955779b650776273",
      "cd8176207dc04e32ab1ba79d51372649",
      "fe725e893be7468f9a4c2e02e0a5a4af",
      "ea7151f18f724d008681de3689dac71e",
      "9a64b503b56d4cf8a0f24a6b02b2fa28",
      "ea69b856ada5408cb7d79137a8eac967",
      "603da44d666249d2a5b8605fc0caa1f3"
     ]
    },
    "id": "sgzL6rV-5VGH",
    "outputId": "1578f26a-4911-4ec7-85df-2c2f118287b9"
   },
   "outputs": [
    {
     "data": {
      "application/vnd.jupyter.widget-view+json": {
       "model_id": "7997184f43e94344b788311cf62b9614",
       "version_major": 2,
       "version_minor": 0
      },
      "text/plain": [
       "checkpoints/uma-s-1.pt:   0%|          | 0.00/1.17G [00:00<?, ?B/s]"
      ]
     },
     "metadata": {},
     "output_type": "display_data"
    }
   ],
   "source": [
    "device = \"cuda\" if torch.cuda.is_available() else \"cpu\"\n",
    "\n",
    "predictor = pretrained_mlip.get_predict_unit(\"uma-s-1\", device=device)\n",
    "calculator = FAIRChemCalculator(predictor, task_name=\"omol\")\n",
    "model = \"UMA-OMOL\""
   ]
  },
  {
   "cell_type": "markdown",
   "metadata": {
    "id": "S2Ka4_RitpSL"
   },
   "source": [
    "# Calculations"
   ]
  },
  {
   "cell_type": "markdown",
   "metadata": {
    "id": "eBwY3jy1D0D9"
   },
   "source": [
    "## Dock molecules\n",
    "- tools available include ccr.dock_dataframe, ccr.dock_list and ccr.dock_smiles\n",
    "- for each you must supply as arguments the SMILES input (either a filename, a list, or a SMILES string), the target protein, and the number of CPU cores to use. For ccr.dock_dataframe, you must also provide the key for the SMILES column in the CSV file.\n",
    "- xyz structures can be visualized via the ccr.visualize_molecule tool. This accepts an XYZ string as an argument. This may be easily extracted from an XYZ file as seen below."
   ]
  },
  {
   "cell_type": "code",
   "execution_count": null,
   "metadata": {
    "colab": {
     "base_uri": "https://localhost:8080/"
    },
    "id": "sP4K9p3rj3dD",
    "outputId": "6faf2ec1-4603-44aa-d7af-36437358ce7e"
   },
   "outputs": [
    {
     "name": "stdout",
     "output_type": "stream",
     "text": [
      "===============================================\n",
      "Docking 1 molecules in HMGCR.\n",
      "Docking molecule 1.\n",
      "SDF file written for score -4.5\n",
      "[-4.5]\n"
     ]
    }
   ],
   "source": [
    "scores = ccr.dock_dataframe(\"file.csv\",\"HMGCR\",cpuCount, \"smiles\",)\n",
    "print(scores)"
   ]
  },
  {
   "cell_type": "code",
   "execution_count": null,
   "metadata": {
    "colab": {
     "base_uri": "https://localhost:8080/"
    },
    "id": "GUbcx-UAoLsK",
    "outputId": "251cd615-9606-4826-f090-f0d84701e09a"
   },
   "outputs": [
    {
     "name": "stdout",
     "output_type": "stream",
     "text": [
      "===============================================\n",
      "Docking 1 molecules in HMGCR.\n",
      "Docking molecule 1.\n",
      "SDF file written for score -4.5\n",
      "[-4.5]\n"
     ]
    }
   ],
   "source": [
    "df = pd.read_csv(\"file.csv\")\n",
    "smiles_list = df[\"smiles\"].tolist()\n",
    "scores = ccr.dock_list(smiles_list,\"HMGCR\",cpuCount)\n",
    "print(scores)"
   ]
  },
  {
   "cell_type": "code",
   "execution_count": 7,
   "metadata": {
    "colab": {
     "base_uri": "https://localhost:8080/"
    },
    "id": "DJK3mXwijJWx",
    "outputId": "ac22ff8e-517b-4dd2-9e56-dc2609825d1d"
   },
   "outputs": [
    {
     "name": "stdout",
     "output_type": "stream",
     "text": [
      "===============================================\n",
      "Docking molecule.\n",
      "SDF file written for score -8.1\n",
      "score: -8.1\n"
     ]
    }
   ],
   "source": [
    "statin = \"OC(=O)C[C@H](O)C[C@H](O)\\C=C\\c1c(C(C)C)nc(N(C)S(=O)(=O)C)nc1c2ccc(F)cc2\"\n",
    "score = ccr.dock_smiles(statin,\"HMGCR\",cpuCount)\n",
    "print(f\"score: {score}\")"
   ]
  },
  {
   "cell_type": "markdown",
   "metadata": {
    "id": "UjG9tFVIfwVk"
   },
   "source": [
    "## Calculate interaction energies between a docking pose and the protein using Meta's UMA MLIP\n",
    "- If CafChem has an XYZ QM active site pepared for the protein, then the interaction between a ligand (SDF file) and the protein active site (from the library) may be calculated using Meta's UMA MLIP.\n",
    "- supply as arguments the name of the SDF file (without .sdf), the protein information (in the form ccr.[your protein]_data), the ASE calculator, ans the charge and spin multiplicty of the ligand.\n",
    "- returns a list of XYZ strings for the ligands in the input SDF files.\n",
    "- the XYZ strings may be visualized with the ccr.visualize_molecule tool, which accepts as its argument the XYZ string.\n",
    "- the complex XYZ file can be transformed into a G16 counterpoise input file using complexG16, which takes as its arguments the complex XYZ file, the target object, the ligand charge and the ligand spin multiplicity.\n",
    "- Test data: docking Rosuvastatin (\"OC(=O)C[C@H](O)C[C@H](O)\\C=C\\c1c(C(C)C)nc(N(C)S(=O)(=O)C)nc1c2ccc(F)cc2\") should give a score of -8.1. passing that SDF into the uma_interaction function with optimzation on should give an energy of -285 kcal/mol. Making a G16 file and running that as is (wB87XD/def2-tzvpp) should give a CP corrected interaction of -275 kcal/mol; a difference of only 3.5%."
   ]
  },
  {
   "cell_type": "code",
   "execution_count": null,
   "metadata": {
    "colab": {
     "base_uri": "https://localhost:8080/"
    },
    "id": "y22TbFguxAGo",
    "outputId": "c2b223ae-fdcb-4742-cab9-de5318a0f895"
   },
   "outputs": [
    {
     "name": "stdout",
     "output_type": "stream",
     "text": [
      "The size of the complex is: 391\n",
      "Energy of complex is: -9727.851 ha\n",
      "The size of the ligand is: 60\n",
      "Energy of ligand is: -1968.269 ha\n",
      "The size of the active site is: 331\n",
      "Energy of active site is: -7759.170 ha\n",
      "===========================================================\n",
      "Energy difference is: -258.817 kcal/mol\n"
     ]
    }
   ],
   "source": [
    "total_xyz = ccr.uma_interaction(\"trial_S\", ccr.HMGCR_data, calculator, -1, 1, False)"
   ]
  },
  {
   "cell_type": "code",
   "execution_count": 8,
   "metadata": {
    "colab": {
     "base_uri": "https://localhost:8080/"
    },
    "id": "6mi4OAes4gVK",
    "outputId": "defacec5-5367-4717-a1d1-43d9beefab3d"
   },
   "outputs": [
    {
     "name": "stdout",
     "output_type": "stream",
     "text": [
      "The size of the complex is: 391\n",
      "      Step     Time          Energy          fmax\n",
      "BFGS:    0 19:14:47  -264708.476048       23.289714\n",
      "BFGS:    1 19:14:48  -264716.883977        3.016549\n",
      "BFGS:    2 19:14:49  -264719.107904        2.636233\n",
      "BFGS:    3 19:14:50  -264721.137780        1.891752\n",
      "BFGS:    4 19:14:51  -264722.848358        1.699315\n",
      "BFGS:    5 19:14:52  -264723.877274        1.298434\n",
      "BFGS:    6 19:14:54  -264724.565382        1.454350\n",
      "BFGS:    7 19:14:56  -264725.092390        1.539927\n",
      "BFGS:    8 19:14:57  -264725.797421        2.001561\n",
      "BFGS:    9 19:14:58  -264726.766555        2.980357\n",
      "BFGS:   10 19:14:59  -264728.034142        5.362298\n",
      "BFGS:   11 19:15:00  -264730.205465        6.490514\n",
      "BFGS:   12 19:15:01  -264731.983682        3.913967\n",
      "BFGS:   13 19:15:03  -264733.616760        3.754091\n",
      "BFGS:   14 19:15:04  -264735.337526        2.116248\n",
      "BFGS:   15 19:15:05  -264736.365909        2.891035\n",
      "BFGS:   16 19:15:06  -264736.980214        1.363588\n",
      "BFGS:   17 19:15:08  -264737.303257        1.330555\n",
      "BFGS:   18 19:15:09  -264737.521429        1.271981\n",
      "BFGS:   19 19:15:10  -264737.733849        0.979738\n",
      "BFGS:   20 19:15:11  -264737.950603        0.719923\n",
      "BFGS:   21 19:15:12  -264738.168903        0.935184\n",
      "BFGS:   22 19:15:13  -264738.362883        1.383071\n",
      "BFGS:   23 19:15:15  -264738.562681        0.748650\n",
      "BFGS:   24 19:15:16  -264738.734404        0.860624\n",
      "BFGS:   25 19:15:17  -264738.892082        0.663424\n",
      "BFGS:   26 19:15:18  -264739.079760        0.772095\n",
      "BFGS:   27 19:15:20  -264739.289910        0.802344\n",
      "BFGS:   28 19:15:21  -264739.476647        0.748563\n",
      "BFGS:   29 19:15:22  -264739.669123        0.892706\n",
      "BFGS:   30 19:15:24  -264739.861933        0.708942\n",
      "BFGS:   31 19:15:25  -264740.018856        0.874673\n",
      "BFGS:   32 19:15:26  -264740.122500        1.339179\n",
      "BFGS:   33 19:15:27  -264740.246880        1.405550\n",
      "BFGS:   34 19:15:28  -264740.373204        0.713609\n",
      "BFGS:   35 19:15:29  -264740.478171        0.442565\n",
      "BFGS:   36 19:15:30  -264740.592467        0.638353\n",
      "BFGS:   37 19:15:31  -264740.685313        0.495108\n",
      "BFGS:   38 19:15:34  -264740.781290        0.520288\n",
      "BFGS:   39 19:15:35  -264740.880699        0.616724\n",
      "BFGS:   40 19:15:36  -264740.979367        0.621629\n",
      "BFGS:   41 19:15:37  -264741.082651        0.524517\n",
      "BFGS:   42 19:15:38  -264741.189245        0.480503\n",
      "BFGS:   43 19:15:39  -264741.297619        0.558907\n",
      "BFGS:   44 19:15:40  -264741.390101        0.527323\n",
      "BFGS:   45 19:15:41  -264741.475239        0.699173\n",
      "BFGS:   46 19:15:42  -264741.559420        0.759171\n",
      "BFGS:   47 19:15:43  -264741.665169        0.462001\n",
      "BFGS:   48 19:15:46  -264741.757075        0.426856\n",
      "BFGS:   49 19:15:47  -264741.837950        0.472428\n",
      "BFGS:   50 19:15:48  -264741.911665        0.462212\n",
      "BFGS:   51 19:15:50  -264741.984421        0.464532\n",
      "BFGS:   52 19:15:51  -264742.057316        0.508530\n",
      "BFGS:   53 19:15:52  -264742.133002        0.410797\n",
      "BFGS:   54 19:15:53  -264742.201708        0.344643\n",
      "BFGS:   55 19:15:54  -264742.269243        0.390953\n",
      "BFGS:   56 19:15:55  -264742.325894        0.352059\n",
      "BFGS:   57 19:15:56  -264742.375963        0.273742\n",
      "BFGS:   58 19:15:59  -264742.423430        0.272213\n",
      "BFGS:   59 19:16:00  -264742.460451        0.401623\n",
      "BFGS:   60 19:16:01  -264742.497414        0.318242\n",
      "BFGS:   61 19:16:02  -264742.531946        0.369332\n",
      "BFGS:   62 19:16:03  -264742.564631        0.274157\n",
      "BFGS:   63 19:16:04  -264742.600306        0.305509\n",
      "BFGS:   64 19:16:05  -264742.636311        0.276231\n",
      "BFGS:   65 19:16:06  -264742.671284        0.205631\n",
      "BFGS:   66 19:16:08  -264742.708588        0.245055\n",
      "BFGS:   67 19:16:09  -264742.749094        0.267078\n",
      "BFGS:   68 19:16:11  -264742.790306        0.404673\n",
      "BFGS:   69 19:16:12  -264742.837462        0.284705\n",
      "BFGS:   70 19:16:13  -264742.882969        0.330214\n",
      "BFGS:   71 19:16:14  -264742.935316        0.269419\n",
      "BFGS:   72 19:16:16  -264742.984884        0.614243\n",
      "BFGS:   73 19:16:17  -264743.034672        0.317100\n",
      "BFGS:   74 19:16:18  -264743.066988        1.004482\n",
      "BFGS:   75 19:16:19  -264743.114409        0.318167\n",
      "BFGS:   76 19:16:20  -264743.156004        0.223052\n",
      "BFGS:   77 19:16:21  -264743.203741        0.281324\n",
      "BFGS:   78 19:16:23  -264743.249691        0.356191\n",
      "BFGS:   79 19:16:25  -264743.292103        0.220621\n",
      "BFGS:   80 19:16:26  -264743.333821        0.771190\n",
      "BFGS:   81 19:16:27  -264743.344197        1.192747\n",
      "BFGS:   82 19:16:28  -264743.404536        0.266162\n",
      "BFGS:   83 19:16:29  -264743.436220        0.412628\n",
      "BFGS:   84 19:16:30  -264743.478689        0.480950\n",
      "BFGS:   85 19:16:31  -264743.512749        0.345218\n",
      "BFGS:   86 19:16:32  -264743.549715        0.219488\n",
      "BFGS:   87 19:16:33  -264743.578343        0.324577\n",
      "BFGS:   88 19:16:36  -264743.595499        0.341768\n",
      "BFGS:   89 19:16:37  -264743.614908        0.555595\n",
      "BFGS:   90 19:16:38  -264743.635622        0.203738\n",
      "BFGS:   91 19:16:39  -264743.654444        0.162726\n",
      "BFGS:   92 19:16:41  -264743.667565        0.258847\n",
      "BFGS:   93 19:16:42  -264743.683533        0.191522\n",
      "BFGS:   94 19:16:43  -264743.697689        0.151478\n",
      "BFGS:   95 19:16:44  -264743.708830        0.191518\n",
      "BFGS:   96 19:16:45  -264743.720017        0.206399\n",
      "BFGS:   97 19:16:46  -264743.732901        0.129158\n",
      "BFGS:   98 19:16:49  -264743.745466        0.138311\n",
      "BFGS:   99 19:16:50  -264743.757107        0.156812\n",
      "BFGS:  100 19:16:51  -264743.768639        0.183927\n",
      "BFGS:  101 19:16:52  -264743.780327        0.158713\n",
      "BFGS:  102 19:16:53  -264743.791880        0.114782\n",
      "BFGS:  103 19:16:54  -264743.803410        0.165389\n",
      "BFGS:  104 19:16:55  -264743.815298        0.136974\n",
      "BFGS:  105 19:16:57  -264743.826554        0.101738\n",
      "BFGS:  106 19:16:58  -264743.836848        0.116842\n",
      "BFGS:  107 19:16:59  -264743.845824        0.155590\n",
      "BFGS:  108 19:17:01  -264743.855047        0.119454\n",
      "BFGS:  109 19:17:03  -264743.864336        0.132380\n",
      "BFGS:  110 19:17:04  -264743.873913        0.109431\n",
      "BFGS:  111 19:17:05  -264743.883806        0.144188\n",
      "BFGS:  112 19:17:06  -264743.894032        0.135120\n",
      "BFGS:  113 19:17:07  -264743.904284        0.138440\n",
      "BFGS:  114 19:17:08  -264743.914932        0.106582\n",
      "BFGS:  115 19:17:09  -264743.926180        0.134827\n",
      "BFGS:  116 19:17:10  -264743.938528        0.144047\n",
      "BFGS:  117 19:17:12  -264743.951454        0.141942\n",
      "BFGS:  118 19:17:14  -264743.964318        0.162177\n",
      "BFGS:  119 19:17:15  -264743.975409        0.191737\n",
      "BFGS:  120 19:17:16  -264743.984144        0.301326\n",
      "BFGS:  121 19:17:17  -264743.995165        0.128440\n",
      "BFGS:  122 19:17:18  -264744.006457        0.152883\n",
      "BFGS:  123 19:17:19  -264744.015637        0.157768\n",
      "BFGS:  124 19:17:21  -264744.025572        0.081091\n",
      "Optimized energy of complex is: -9729.158 ha\n",
      "The size of the ligand is: 60\n",
      "Energy of ligand is: -1968.341 ha\n",
      "The size of the active site is: 331\n",
      "Energy of active site is: -7760.362 ha\n",
      "===========================================================\n",
      "Energy difference is: -285.665 kcal/mol\n"
     ]
    }
   ],
   "source": [
    "total_xyz = ccr.uma_interaction(\"trial_1\", ccr.HMGCR_data, calculator, -1, 1, True)"
   ]
  },
  {
   "cell_type": "code",
   "execution_count": 15,
   "metadata": {
    "id": "hc45E9Y1BCV8"
   },
   "outputs": [],
   "source": [
    "ccr.complexG16(\"optimized_complex.xyz\",ccr.HMGCR_data,-1,1)"
   ]
  },
  {
   "cell_type": "code",
   "execution_count": null,
   "metadata": {
    "colab": {
     "base_uri": "https://localhost:8080/",
     "height": 417
    },
    "id": "NBBO9vnmry1d",
    "outputId": "bee9cf44-2ec0-4dcb-bcd2-24b728db81c8"
   },
   "outputs": [
    {
     "data": {
      "application/3dmoljs_load.v0": "<div id=\"3dmolviewer_17503990430048087\"  style=\"position: relative; width: 800px; height: 400px;\">\n        <p id=\"3dmolwarning_17503990430048087\" style=\"background-color:#ffcccc;color:black\">3Dmol.js failed to load for some reason.  Please check your browser console for error messages.<br></p>\n        </div>\n<script>\n\nvar loadScriptAsync = function(uri){\n  return new Promise((resolve, reject) => {\n    //this is to ignore the existence of requirejs amd\n    var savedexports, savedmodule;\n    if (typeof exports !== 'undefined') savedexports = exports;\n    else exports = {}\n    if (typeof module !== 'undefined') savedmodule = module;\n    else module = {}\n\n    var tag = document.createElement('script');\n    tag.src = uri;\n    tag.async = true;\n    tag.onload = () => {\n        exports = savedexports;\n        module = savedmodule;\n        resolve();\n    };\n  var firstScriptTag = document.getElementsByTagName('script')[0];\n  firstScriptTag.parentNode.insertBefore(tag, firstScriptTag);\n});\n};\n\nif(typeof $3Dmolpromise === 'undefined') {\n$3Dmolpromise = null;\n  $3Dmolpromise = loadScriptAsync('https://cdn.jsdelivr.net/npm/3dmol@2.5.0/build/3Dmol-min.js');\n}\n\nvar viewer_17503990430048087 = null;\nvar warn = document.getElementById(\"3dmolwarning_17503990430048087\");\nif(warn) {\n    warn.parentNode.removeChild(warn);\n}\n$3Dmolpromise.then(function() {\nviewer_17503990430048087 = $3Dmol.createViewer(document.getElementById(\"3dmolviewer_17503990430048087\"),{backgroundColor:\"white\"});\nviewer_17503990430048087.zoomTo();\n\tviewer_17503990430048087.addModel(\"60\\n\\nC -14.107420488042223 7.60574391366406 45.35150030904837\\nC -14.908244538409848 6.455280521629463 45.55867839316417\\nN -15.838283658202926 6.462296931505277 46.55014239027989\\nC -16.04591873995992 7.563676610989764 47.307033495094075\\nN -15.292918417674557 8.664555820860517 47.13085254555357\\nC -14.336854821336734 8.716179021009994 46.18775328397603\\nN -16.995489141784894 7.550350788784882 48.354962979411134\\nC -17.63342102019925 8.819734953474976 48.69297146356827\\nC -13.595464275726894 9.965942552011054 46.08712779830234\\nC -14.041813086128938 10.974520364464075 45.22406461623831\\nC -13.370083800369864 12.197239038490023 45.17798494864673\\nC -12.265681492235403 12.417781824061871 46.005943465898156\\nC -11.840593055626009 11.424607865184734 46.892615445254265\\nC -12.511398165114713 10.201677265781248 46.94192979578615\\nF -11.60640568405633 13.597325307642775 45.95025575207023\\nS -16.63141056462787 6.470687696039392 49.64100768112127\\nO -17.32398706467478 5.156808680066196 49.42505667200682\\nO -15.141679120938146 6.288395452534089 49.70477339768796\\nC -17.165468538700562 7.198089535068927 51.16704629354703\\nC -14.754211639075747 5.187631195425525 44.74655772288795\\nC -14.14139873975124 4.08413344551046 45.61067667519379\\nC -16.107974084957807 4.748185521054522 44.17575426483087\\nC -13.376859852815922 7.737577260962544 43.01570263528672\\nC -13.0554551303283 7.64706818984953 44.31146634487198\\nC -12.33502148537869 7.679784861601957 41.9170113227052\\nO -11.705948501922206 6.417990051357074 41.92053078541192\\nC -12.945034490068375 7.965068775740612 40.51317939564967\\nC -12.48296193126287 9.287945563184028 39.85255024682633\\nO -12.796265361186572 9.263393001552906 38.47560227185498\\nC -13.051174589900828 10.558642812493297 40.53469359724585\\nC -13.877171201899793 11.372057556276173 39.58992394098083\\nO -13.320346460851354 12.126724831127792 38.74768416541801\\nO -15.246640856790455 11.186902790600339 39.56596590418139\\nH -16.944693281503483 9.452626292765258 49.291900409939636\\nH -17.90953405180672 9.36889489107628 47.766803361954196\\nH -18.572780972509225 8.639920318684531 49.2543755164352\\nH -14.900503545707227 10.810512500292884 44.5841489874836\\nH -13.703891952457194 12.971962022230324 44.49974819434766\\nH -10.992665118405181 11.602550915405157 47.54143344961903\\nH -12.183324532690897 9.438587674324738 47.63742151128403\\nH -16.88081560094742 6.529500982755319 52.005420398228004\\nH -18.26831198884329 7.31542337315898 51.17033589597869\\nH -16.674571401593667 8.181167412919496 51.31763523239591\\nH -14.076776056240101 5.335733538907291 43.88263527843642\\nH -14.800439565480938 3.8439591809720426 46.472960453020725\\nH -13.150993578762344 4.409251969698284 45.995712783389024\\nH -13.993666031821013 3.163132186339764 45.00713842171986\\nH -15.976042637634164 3.8554822748016937 43.52768374426766\\nH -16.821323361648293 4.492363948541791 44.988677177313036\\nH -16.54215610629282 5.563460403143013 43.55797564388696\\nH -14.425650260584709 7.811170237836999 42.7505556717646\\nH -12.016495836965316 7.615342546010099 44.61527761193875\\nH -11.560233008260207 8.444122948481008 42.14395226936159\\nH -12.410402742892996 5.731980795368701 41.77595858282152\\nH -12.648170474650083 7.141082118953762 39.82634579501028\\nH -14.056546753673844 7.938661207156337 40.53464193569807\\nH -11.373765078556218 9.327353555189756 39.92546624474493\\nH -13.752669687225756 9.011269661124865 38.379748979616615\\nH -12.213021958540372 11.186944420592 40.90769723889348\\nH -13.670746578234326 10.294546300116153 41.419130876685756\\n\",\"xyz\");\n\tviewer_17503990430048087.setStyle({\"stick\": {}, \"sphere\": {\"radius\": 0.5}});\n\tviewer_17503990430048087.zoomTo();\nviewer_17503990430048087.render();\n});\n</script>",
      "text/html": [
       "<div id=\"3dmolviewer_17503990430048087\"  style=\"position: relative; width: 800px; height: 400px;\">\n",
       "        <p id=\"3dmolwarning_17503990430048087\" style=\"background-color:#ffcccc;color:black\">3Dmol.js failed to load for some reason.  Please check your browser console for error messages.<br></p>\n",
       "        </div>\n",
       "<script>\n",
       "\n",
       "var loadScriptAsync = function(uri){\n",
       "  return new Promise((resolve, reject) => {\n",
       "    //this is to ignore the existence of requirejs amd\n",
       "    var savedexports, savedmodule;\n",
       "    if (typeof exports !== 'undefined') savedexports = exports;\n",
       "    else exports = {}\n",
       "    if (typeof module !== 'undefined') savedmodule = module;\n",
       "    else module = {}\n",
       "\n",
       "    var tag = document.createElement('script');\n",
       "    tag.src = uri;\n",
       "    tag.async = true;\n",
       "    tag.onload = () => {\n",
       "        exports = savedexports;\n",
       "        module = savedmodule;\n",
       "        resolve();\n",
       "    };\n",
       "  var firstScriptTag = document.getElementsByTagName('script')[0];\n",
       "  firstScriptTag.parentNode.insertBefore(tag, firstScriptTag);\n",
       "});\n",
       "};\n",
       "\n",
       "if(typeof $3Dmolpromise === 'undefined') {\n",
       "$3Dmolpromise = null;\n",
       "  $3Dmolpromise = loadScriptAsync('https://cdn.jsdelivr.net/npm/3dmol@2.5.0/build/3Dmol-min.js');\n",
       "}\n",
       "\n",
       "var viewer_17503990430048087 = null;\n",
       "var warn = document.getElementById(\"3dmolwarning_17503990430048087\");\n",
       "if(warn) {\n",
       "    warn.parentNode.removeChild(warn);\n",
       "}\n",
       "$3Dmolpromise.then(function() {\n",
       "viewer_17503990430048087 = $3Dmol.createViewer(document.getElementById(\"3dmolviewer_17503990430048087\"),{backgroundColor:\"white\"});\n",
       "viewer_17503990430048087.zoomTo();\n",
       "\tviewer_17503990430048087.addModel(\"60\\n\\nC -14.107420488042223 7.60574391366406 45.35150030904837\\nC -14.908244538409848 6.455280521629463 45.55867839316417\\nN -15.838283658202926 6.462296931505277 46.55014239027989\\nC -16.04591873995992 7.563676610989764 47.307033495094075\\nN -15.292918417674557 8.664555820860517 47.13085254555357\\nC -14.336854821336734 8.716179021009994 46.18775328397603\\nN -16.995489141784894 7.550350788784882 48.354962979411134\\nC -17.63342102019925 8.819734953474976 48.69297146356827\\nC -13.595464275726894 9.965942552011054 46.08712779830234\\nC -14.041813086128938 10.974520364464075 45.22406461623831\\nC -13.370083800369864 12.197239038490023 45.17798494864673\\nC -12.265681492235403 12.417781824061871 46.005943465898156\\nC -11.840593055626009 11.424607865184734 46.892615445254265\\nC -12.511398165114713 10.201677265781248 46.94192979578615\\nF -11.60640568405633 13.597325307642775 45.95025575207023\\nS -16.63141056462787 6.470687696039392 49.64100768112127\\nO -17.32398706467478 5.156808680066196 49.42505667200682\\nO -15.141679120938146 6.288395452534089 49.70477339768796\\nC -17.165468538700562 7.198089535068927 51.16704629354703\\nC -14.754211639075747 5.187631195425525 44.74655772288795\\nC -14.14139873975124 4.08413344551046 45.61067667519379\\nC -16.107974084957807 4.748185521054522 44.17575426483087\\nC -13.376859852815922 7.737577260962544 43.01570263528672\\nC -13.0554551303283 7.64706818984953 44.31146634487198\\nC -12.33502148537869 7.679784861601957 41.9170113227052\\nO -11.705948501922206 6.417990051357074 41.92053078541192\\nC -12.945034490068375 7.965068775740612 40.51317939564967\\nC -12.48296193126287 9.287945563184028 39.85255024682633\\nO -12.796265361186572 9.263393001552906 38.47560227185498\\nC -13.051174589900828 10.558642812493297 40.53469359724585\\nC -13.877171201899793 11.372057556276173 39.58992394098083\\nO -13.320346460851354 12.126724831127792 38.74768416541801\\nO -15.246640856790455 11.186902790600339 39.56596590418139\\nH -16.944693281503483 9.452626292765258 49.291900409939636\\nH -17.90953405180672 9.36889489107628 47.766803361954196\\nH -18.572780972509225 8.639920318684531 49.2543755164352\\nH -14.900503545707227 10.810512500292884 44.5841489874836\\nH -13.703891952457194 12.971962022230324 44.49974819434766\\nH -10.992665118405181 11.602550915405157 47.54143344961903\\nH -12.183324532690897 9.438587674324738 47.63742151128403\\nH -16.88081560094742 6.529500982755319 52.005420398228004\\nH -18.26831198884329 7.31542337315898 51.17033589597869\\nH -16.674571401593667 8.181167412919496 51.31763523239591\\nH -14.076776056240101 5.335733538907291 43.88263527843642\\nH -14.800439565480938 3.8439591809720426 46.472960453020725\\nH -13.150993578762344 4.409251969698284 45.995712783389024\\nH -13.993666031821013 3.163132186339764 45.00713842171986\\nH -15.976042637634164 3.8554822748016937 43.52768374426766\\nH -16.821323361648293 4.492363948541791 44.988677177313036\\nH -16.54215610629282 5.563460403143013 43.55797564388696\\nH -14.425650260584709 7.811170237836999 42.7505556717646\\nH -12.016495836965316 7.615342546010099 44.61527761193875\\nH -11.560233008260207 8.444122948481008 42.14395226936159\\nH -12.410402742892996 5.731980795368701 41.77595858282152\\nH -12.648170474650083 7.141082118953762 39.82634579501028\\nH -14.056546753673844 7.938661207156337 40.53464193569807\\nH -11.373765078556218 9.327353555189756 39.92546624474493\\nH -13.752669687225756 9.011269661124865 38.379748979616615\\nH -12.213021958540372 11.186944420592 40.90769723889348\\nH -13.670746578234326 10.294546300116153 41.419130876685756\\n\",\"xyz\");\n",
       "\tviewer_17503990430048087.setStyle({\"stick\": {}, \"sphere\": {\"radius\": 0.5}});\n",
       "\tviewer_17503990430048087.zoomTo();\n",
       "viewer_17503990430048087.render();\n",
       "});\n",
       "</script>"
      ]
     },
     "metadata": {},
     "output_type": "display_data"
    }
   ],
   "source": [
    "ccr.visualize_molecule(total_xyz[0])"
   ]
  },
  {
   "cell_type": "code",
   "execution_count": null,
   "metadata": {
    "colab": {
     "base_uri": "https://localhost:8080/",
     "height": 417
    },
    "id": "mgPDPjwvCVfX",
    "outputId": "8ba37526-805e-4113-8e9e-b3ea78ed3712"
   },
   "outputs": [
    {
     "data": {
      "application/3dmoljs_load.v0": "<div id=\"3dmolviewer_17503990484254034\"  style=\"position: relative; width: 800px; height: 400px;\">\n        <p id=\"3dmolwarning_17503990484254034\" style=\"background-color:#ffcccc;color:black\">3Dmol.js failed to load for some reason.  Please check your browser console for error messages.<br></p>\n        </div>\n<script>\n\nvar loadScriptAsync = function(uri){\n  return new Promise((resolve, reject) => {\n    //this is to ignore the existence of requirejs amd\n    var savedexports, savedmodule;\n    if (typeof exports !== 'undefined') savedexports = exports;\n    else exports = {}\n    if (typeof module !== 'undefined') savedmodule = module;\n    else module = {}\n\n    var tag = document.createElement('script');\n    tag.src = uri;\n    tag.async = true;\n    tag.onload = () => {\n        exports = savedexports;\n        module = savedmodule;\n        resolve();\n    };\n  var firstScriptTag = document.getElementsByTagName('script')[0];\n  firstScriptTag.parentNode.insertBefore(tag, firstScriptTag);\n});\n};\n\nif(typeof $3Dmolpromise === 'undefined') {\n$3Dmolpromise = null;\n  $3Dmolpromise = loadScriptAsync('https://cdn.jsdelivr.net/npm/3dmol@2.5.0/build/3Dmol-min.js');\n}\n\nvar viewer_17503990484254034 = null;\nvar warn = document.getElementById(\"3dmolwarning_17503990484254034\");\nif(warn) {\n    warn.parentNode.removeChild(warn);\n}\n$3Dmolpromise.then(function() {\nviewer_17503990484254034 = $3Dmol.createViewer(document.getElementById(\"3dmolviewer_17503990484254034\"),{backgroundColor:\"white\"});\nviewer_17503990484254034.zoomTo();\n\tviewer_17503990484254034.addModel(\"391\\n\\nN      -9.241053293863278     -1.068055448504521     45.215017018579488\\nC      -9.582000000000001      0.272000000000000     45.667999999999999\\nC     -10.627962547368199      0.252824185152457     46.779649561610150\\nO     -11.745026054295096     -0.227621876997158     46.612220289313363\\nC     -10.124715796165107      1.088567704254511     44.478381129999818\\nC     -10.528053692624736      2.532967568208532     44.791516323726533\\nC     -10.886578148782895      3.389027165143013     43.558478322656136\\nO     -10.475984187695989      3.037631637355346     42.429597221595280\\nO     -11.573542480035057      4.436807784118474     43.775049624424348\\nH     -10.084611407113739     -1.550927824381545     44.927086497063016\\nN     -10.251363507489755      0.768470115026309     47.970900245522905\\nC     -11.172000000000001      0.804000000000000     49.081000000000003\\nC     -12.493040599132465      1.448127000407257     48.661208550234790\\nO     -12.523787621778276      2.450054136344928     47.974158100396373\\nH      -9.373286725022931      1.250536575478787     48.036491294127657\\nN     -13.597925985773095      0.814162036571773     49.120916669636671\\nC     -14.945000000000000      1.339000000000000     49.020000000000003\\nC     -15.605210174789235      1.161814714944580     47.648874228911438\\nO     -16.792668471829327      1.435415322429207     47.520044447485233\\nC     -15.089613954178130      2.796867585810906     49.449885316761502\\nS     -14.525782417476703      2.988512762854639     51.169243155218304\\nH     -13.466260839684123     -0.024218986938774     49.658856134284214\\nH     -14.287708885665864      4.303189455679747     51.065525691960175\\nN     -14.891678083393218      0.685748501579115     46.610144523522663\\nC     -15.548000000000000      0.614000000000000     45.307000000000002\\nC     -16.809272793207768     -0.223303813979432     45.406038977630899\\nO     -17.765548189499423     -0.050851102251056     44.695121490858426\\nC     -14.561675038726825      0.026753040645573     44.296998451659448\\nC     -15.076689628988159     -0.094868658616097     42.862167144155677\\nC     -15.735170578412527      1.199495847648611     42.387798220317308\\nC     -13.920018783554827     -0.494202809577983     41.947951992347647\\nH     -13.899039713322162      0.491479967841840     46.695406041097804\\nN     -19.907630089968688      1.043764057248338     47.433623274765175\\nC     -20.289000000000001      2.229000000000000     46.682000000000002\\nC     -21.159082928145967      1.823938983875466     45.516599820839907\\nO     -22.046988674842542      2.497372340057825     45.065637354133571\\nC     -19.055475853711361      2.979663721566265     46.125022576792198\\nO     -19.358867180426223      4.049424413261508     45.231924853234041\\nH     -19.113396653574242      1.250401712606500     48.029448424920368\\nH     -19.977864226666679      4.645871166334690     45.665085833066840\\nN     -19.709117827588290     18.760143854754300     35.825780194084743\\nC     -18.672999999999998     17.742000000000001     35.859000000000002\\nC     -18.602564286870933     17.076507997788472     34.501987311997510\\nO     -17.593411995677211     16.595267679886533     34.044050419476640\\nC     -18.878988962734581     16.677235140573313     36.954379293563001\\nC     -17.772862398766645     15.632610818774234     37.078754011049725\\nC     -18.046580182241453     14.651791519293367     38.217866321973155\\nC     -17.054923318164505     13.500458952806703     38.300586711157031\\nN     -15.677441468952361     13.968297353174219     38.596087256186223\\nH     -20.593682126496965     18.424588811238618     36.185491900903983\\nH     -15.684629406540800     14.605763449487503     39.399557506156277\\nH     -15.263410805468494     14.497844441626590     37.813284672901119\\nH     -15.001849944428217     13.173384054388821     38.811518061173999\\nN     -18.387099707473897      9.671572957997993     35.525224117114547\\nC     -17.431999999999999      9.933999999999999     36.579999999999998\\nC     -16.362297020855909      8.880193538355831     36.794830188699024\\nO     -15.210340940393927      9.186226539055326     37.066769414276436\\nC     -18.150461134425903     10.141712640830715     37.911403278235696\\nH     -19.167718686035361      9.091110553483913     35.794221134537501\\nN     -16.714684019825743      7.575000959544167     36.734520841261407\\nC     -15.693000000000000      6.564000000000000     36.948999999999998\\nC     -16.073581315520659      5.287157643274189     36.226617824023059\\nO     -15.957024208648907      4.200712287767288     36.722544673967576\\nC     -15.348236495332992      6.331325358796393     38.417378470402625\\nC     -16.393976601897574      5.668777856863028     39.253187936862382\\nC     -17.749940260210359      5.717118905388327     39.263046844079064\\nN     -16.035535525910319      4.892153955163313     40.339466040884197\\nC     -17.120537703687418      4.477730578023695     40.979680876240920\\nN     -18.175890624995557      4.966061767985260     40.343074471255726\\nH     -17.617542480333082      7.336018399911775     36.357832967940176\\nH     -15.068270883427013      4.640006428081733     40.614916754941149\\nN     -13.317923837236499      2.482462814644663     36.761962077837843\\nC     -13.452000000000000      1.589000000000000     37.899000000000001\\nC     -14.339284975418561      0.433088971779471     37.471155058634366\\nO     -15.248406924653084      0.015348048678708     38.138753314805861\\nC     -13.972286470411591      2.189021873838160     39.197884895838214\\nC     -13.031843723025746      3.191583621474289     39.807846980956178\\nN     -13.420257461961038      3.710520380320095     41.024773300013280\\nO     -12.034145443374969      3.589447757185643     39.229222559998369\\nH     -14.213664074807436      2.867808715533212     36.493761529202679\\nH     -13.866638959843129      3.040759666905255     41.639405191366535\\nH     -12.699669572220390      4.262931840028246     41.491313077830903\\nN     -21.144090030519887      7.356038661395995     43.420583421993911\\nC     -20.103000000000002      8.369999999999999     43.363999999999997\\nC     -20.647868796246510      9.696128146798650     42.877793839865369\\nO     -20.518914996835843     10.759486990619353     43.433853847515884\\nC     -18.987452843041371      7.923079049405253     42.421275266509248\\nC     -17.795707387780055      8.878896763052163     42.351293691847701\\nC     -17.109040854052665      9.051440988376880     43.703293416587051\\nC     -16.791045147539023      8.381142854270353     41.323359738682726\\nH     -21.620831570389235      7.241713608715220     42.533311300172016\\nN     -21.950410478283676     10.938362374757036     46.231517530587801\\nC     -21.003000000000000     11.444000000000001     47.207999999999998\\nC     -20.342772770649397     12.797900189605034     46.903703231483732\\nO     -19.862774582656627     13.481178980956884     47.791829585943276\\nC     -19.881892228103769     10.436994458899449     47.410228088009319\\nH     -21.500473798772759     10.742389716490885     45.347744490114465\\nN     -20.252284465808966     13.167742215552904     45.597007381476892\\nC     -19.501000000000001     14.348000000000001     45.219000000000001\\nC     -20.275837751867403     15.626995177269162     45.514398918902273\\nO     -19.881381742385283     16.710883727483807     45.179204076323309\\nC     -19.067554621535397     14.290921955038570     43.756041565223882\\nC     -17.971786897448457     13.267828332817686     43.438636338607147\\nC     -17.792686838027450     13.154108688435047     41.924609455545728\\nH     -20.602293372884301     12.555939360546247     44.877461467315477\\nN      -5.937790110155245     16.968260355440059     41.291436015647314\\nC      -7.371559094962212     17.062993254383038     41.477187928100307\\nC      -7.874000000000000     18.327999999999999     40.802999999999997\\nO      -7.271775658562733     18.891369315517071     39.930290203949035\\nC      -7.718994832203971     17.036907542613417     42.975909939670956\\nC      -9.202626785844910     16.937993701249010     43.358504754859574\\nC      -9.734505269353411     15.526218881047207     43.568103563784270\\nN      -9.808823937610120     14.797103900107015     42.301106631545757\\nC      -9.802425386831851     13.465275634895448     42.138052132227195\\nN      -9.568864834506870     12.656730750409611     43.176088795758524\\nN     -10.022677637357329     12.948943252796674     40.939092981011029\\nH      -9.431493352885310     12.998361068611880     44.119653212614196\\nH      -9.511639002237679     11.666341318811217     43.001776537917401\\nH     -10.152026362368217     13.597106349410369     40.179105695469381\\nH      -9.824570999864379     11.916061424518885     40.674986429094197\\nH     -10.121479715603741     15.331400923366441     41.505799564509253\\nN      -6.608898812966324     15.051492163614169     47.214765193610418\\nC      -7.987400224069207     15.449516709874692     47.490243923010063\\nC      -8.167607784989414     16.099607514738402     48.854511454230419\\nO      -8.860435830000000     17.057230680000000     49.062773610000001\\nC      -8.876460668066009     14.206600534770994     47.334845873845929\\nO      -8.575655669598273     13.571674892408941     46.097379521304823\\nH      -6.152235943250301     14.656043675795946     48.030238918574014\\nH      -7.606540906243196     13.628029665969652     46.031952789438932\\nN     -15.509011215309924     17.997631324743924     44.700925691161459\\nC     -14.052731621317262     18.092037839886601     44.842804439901634\\nC     -13.359121102651336     17.584249783336691     43.575869494290266\\nO     -12.207000000000001     17.856999999999999     43.280999999999999\\nC     -13.602626445809124     17.288804469812682     46.080508802504227\\nC     -13.896165448857881     15.795387989569091     45.942354125901126\\nC     -12.134777031451181     17.523243142229717     46.417406962757994\\nH     -15.945530687327629     17.916798535291367     45.611231450298327\\nN     -14.146292801360064     16.790791940765157     42.797373170817181\\nC     -13.764313918582124     16.426956649091387     41.451488196610271\\nC     -14.899404817907955     16.994550009250851     40.626072343846261\\nO     -15.847797659999999     16.356009400000001     40.236141920000001\\nC     -13.506890767634907     14.942543036848702     41.272896606724075\\nO     -12.960532048975995     14.741637896571874     39.982933679477405\\nH     -15.104274864760459     16.707926166439542     43.122057693885985\\nH     -13.033624539066972     13.781467006206052     39.772207801390230\\nN     -13.933477316154695     15.945566023461524     37.002447092443695\\nC     -13.385875887881101     15.518251221044656     35.716932428019035\\nC     -12.279464171149193     16.421465455741728     35.165419994295306\\nO     -11.939071139999999     16.441327139999999     34.015469570000000\\nC     -14.483896884759869     15.340110276668140     34.684586960849032\\nC     -15.334312333516610     14.116057777444629     34.933027876053714\\nN     -16.367945166830289     13.952965319014707     34.090623563745304\\nO     -15.078309522651818     13.291166594984134     35.813257422749331\\nH     -13.254447855798244     15.855581578035887     37.753646141520520\\nH     -16.696150660001585     14.725042832365478     33.529226689084261\\nH     -16.987599984234794     13.172190284613086     34.234118221709288\\nN      -8.822140683323717     12.062986755619219     35.759026554016145\\nC      -8.871558824938822     10.891163664597034     36.637612537828900\\nC      -9.729815725737746      9.799845229130094     36.003188731895634\\nO     -10.956000000000000      9.875999999999999     35.969999999999999\\nC      -9.389496108769082     11.286275087519627     38.014817855252190\\nC      -9.313044060002870     10.161301255810738     39.056941165792409\\nO      -9.081809667211978      9.015848376295549     38.648159842152502\\nO      -9.533585154200560     10.494900287042583     40.265785157020943\\nH      -9.758833719561009     12.360320751760954     35.509358264963893\\nN      -9.081687921597682      8.822333082004880     35.325640840997764\\nC      -9.773558862123132      7.614740479265032     34.865788612282103\\nC     -10.765834047236222      7.860863252266469     33.716089416492260\\nO     -11.654999999999999      7.058000000000000     33.463999999999999\\nC     -10.408690270314521      6.853872757099017     36.024772772182899\\nC      -9.358124131702978      6.354882331884512     37.011298529343769\\nC     -10.010328441480700      5.927250113926727     38.314484186064554\\nC      -9.010292205247636      5.384446893435141     39.321501893688037\\nN      -9.746081800760264      4.786096184881885     40.467958994571312\\nH      -8.098559309606225      8.729614537769582     35.522474804298135\\nH     -10.470325732751924      4.134250690418827     40.135479376772892\\nH     -10.293446267324482      5.494489509236144     40.993282920464644\\nH      -9.196062174184302      4.257325692117549     41.146761624660726\\nN     -10.538304430493248      8.976920138954878     32.985205168561087\\nC     -11.224568174570502      9.256675999188019     31.746214938436680\\nC     -10.281770155982276      9.971809896198666     30.791023661689451\\nO      -9.259758919999999     10.507233540000000     31.130057900000001\\nC     -12.460225799905333     10.166428609552478     31.877062569225721\\nC     -13.640230160617918      9.592240269119875     32.666668125383055\\nC     -13.545775865870445      9.625493857728811     34.194348129729043\\nC     -13.329034947316842     11.028140937172461     34.732600189494207\\nN     -13.348639311868357     11.052430022922339     36.222996116586771\\nH      -9.719606841735667      9.533936171527085     33.186526599907047\\nH     -12.473627981315664     10.630498581749391     36.579996306445956\\nH     -14.134896472561442     10.502663837360085     36.598400880158160\\nH     -13.462718328070258     11.999906811225957     36.583659021411897\\nH     -10.992951785437015      0.549107833755385     44.088881674803609\\nH      -9.371323896455950      1.073127477314421     43.691184486714015\\nH      -9.695413522295093      3.053118680827685     45.280897209963108\\nH     -11.360849915057500      2.589904321700677     45.499083541279440\\nH      -8.666817264687818      0.746724154399624     46.038260271222875\\nH      -8.825864232592521     -1.618796670428022     45.957225355393803\\nH     -10.746309955421927      1.410913814293409     49.878664269013605\\nH     -11.339440623618083     -0.204510829560913     49.467270111696337\\nH     -16.137101343509354      3.070310803136421     49.355324622150583\\nH     -14.498106018434049      3.439246557938981     48.808135762220566\\nH     -15.559823801896771      0.727221157771342     49.686494234385478\\nH     -14.225843515603183     -0.955866553589005     44.644246482099383\\nH     -13.677326908286851      0.676734094793841     44.310685150522104\\nH     -15.834843873392371     -0.882393266884386     42.819027129066384\\nH     -15.912313818057482      1.172711589413380     41.309993548569345\\nH     -15.078636272737240      2.044343566728511     42.628475973424443\\nH     -16.687211994544896      1.367927882186952     42.894518304720627\\nH     -14.281084468076738     -0.654319830878618     40.929719082153476\\nH     -13.443242157131538     -1.417153510585996     42.285353759168515\\nH     -13.140709831202848      0.278359605802174     41.936130536921169\\nH     -15.864733450926334      1.618996438897458     45.008537247727268\\nH     -18.448076148840794      2.279011817406265     45.551513876113418\\nH     -18.454659697536879      3.333280665953007     46.967962730809390\\nH     -20.874458677423373      2.907047413863973     47.311672936861584\\nH     -19.588414749849818      0.325830654073928     46.789019600617301\\nH     -19.838509758188923     16.175316324642704     36.779917922841832\\nH     -18.980767143739829     17.214979509865778     37.901044352485528\\nH     -16.816236110860828     16.140363392997923     37.243107164812244\\nH     -17.671875616534518     15.078961757001210     36.142131998476074\\nH     -19.041726330954678     14.215854152035265     38.087776620024606\\nH     -18.064025072979771     15.187767304697015     39.171382110301870\\nH     -17.005137125944479     12.952011460896133     37.360263495262906\\nH     -17.323309427972784     12.800671106407256     39.090844130332755\\nH     -17.703284994055313     18.223318318771540     36.015113278862657\\nH     -19.449238239600430     19.585707332981954     36.345726208043409\\nH     -17.430993356837810     10.369018290646244     38.700700402749931\\nH     -18.867061471223526     10.957067460420513     37.811294381262279\\nH     -18.703030057418129      9.236509459677711     38.184257395623781\\nH     -16.870740165313773     10.842253055270946     36.335938622067289\\nH     -17.990449991551152      9.368631677557262     34.647276371420169\\nH     -15.113194091781745      7.298636677997608     38.864124216912607\\nH     -14.433272360119169      5.735941079686585     38.462159338748187\\nH     -18.444793616102341      6.236374974038657     38.629659191859716\\nH     -19.131273859393552      4.828554287036803     40.639523985894606\\nH     -17.140447983966595      3.858103617632770     41.860283803946402\\nH     -14.776733819012987      6.925624416080976     36.464136500476428\\nH     -14.173253184598082      1.393359193064548     39.916832982810142\\nH     -14.937227160539882      2.674097602779482     39.014466512295542\\nH     -12.463335953290686      1.150144741069712     38.086155418103388\\nH     -12.677023169873735      3.235493094946496     36.971920524952530\\nH     -19.417718289862673      7.800547500472068     41.413956942455691\\nH     -18.656854319790018      6.931541981029246     42.756575584702340\\nH     -18.148389813461584      9.862496929145204     42.016485676470047\\nH     -16.171340823075607      9.590273358713972     43.566295280657158\\nH     -16.866635025243426      8.080234168828747     44.144914818384663\\nH     -17.710313370386881      9.609440916593854     44.421694944682869\\nH     -15.955985151274881      9.073966190577513     41.220933948188019\\nH     -16.402486801627269      7.400864057131164     41.624122986082902\\nH     -17.251214782109987      8.278870016577775     40.336365851521997\\nH     -19.699189720010644      8.519468966861796     44.367097312611882\\nH     -21.843014813808082      7.556133077054089     44.124898499351517\\nH     -19.184114885369155     10.812968295340641     48.155393670859922\\nH     -20.290080660280591      9.481194576829999     47.737008206900661\\nH     -19.339366382128944     10.281264324320418     46.471257693390100\\nH     -21.522993695524548     11.592016433729098     48.156170326885302\\nH     -22.712943316726708     11.582071267613083     46.069204507759672\\nH     -18.718739089539824     15.290061933745289     43.481170769587841\\nH     -19.950172339525388     14.087177956578014     43.138517422359293\\nH     -18.284852648830014     12.288264450513370     43.819526596326043\\nH     -17.018896910139198     12.422465232211023     41.670210784083586\\nH     -17.493363808744157     14.123155477930846     41.505870811121788\\nH     -18.724158748878487     12.851192110920509     41.437994758238275\\nH     -18.623716333180916     14.408321385726930     45.873150479700783\\nH      -7.277886198300490     17.932771510179240     43.419659066318040\\nH      -7.169253903051467     16.196727706244740     43.409383164712338\\nH      -9.850748688639523     17.455779948699572     42.646373370109210\\nH      -9.366757533378129     17.464950327898567     44.300813738213250\\nH     -10.728608730866878     15.572397632812335     44.020503346410010\\nH      -9.083421485834277     14.982478562352117     44.253885227952694\\nH      -7.918535337359817     16.246596681581515     40.973332638151348\\nH      -5.646309649460989     17.550817696174562     40.514806035178971\\nH      -5.625343576737533     16.023134491368189     41.125258880368818\\nH      -9.927536868849312     14.496333227640607     47.330549145682603\\nH      -8.711007509801302     13.504997347455138     48.165890678416162\\nH      -8.292006700738067     16.180243263826867     46.738816140313119\\nH      -6.048586424205129     15.825647554844604     46.885225574931731\\nH     -14.199021635855077     17.692237990858040     46.907599870022864\\nH     -13.676777358874231     15.283921055810550     46.881111195118990\\nH     -14.935472362046809     15.593935164948613     45.678932530298155\\nH     -13.258677259234489     15.351779337183856     45.172831586171036\\nH     -11.885519374036331     17.038276569658375     47.362593534988903\\nH     -11.488282755790692     17.113707356721402     45.638331420597751\\nH     -11.911579060045288     18.586514652728567     46.521247159245476\\nH     -13.702627333683129     19.123882042581954     44.959303151272159\\nH     -15.894312868678149     18.830765883970862     44.274837584610204\\nH     -14.435078373267373     14.371264339148150     41.410541542110373\\nH     -12.803908959193247     14.631264355262042     42.055635199765128\\nH     -12.845748597479865     16.977672540532939     41.230347035194896\\nH     -14.039397529942953     15.252083434956475     33.690419891450233\\nH     -15.136324163364575     16.217305892398905     34.646786489159638\\nH     -12.907756041932107     14.545443831367638     35.877974741438869\\nH     -14.236633523428079     16.913754133284147     36.962799536907156\\nH     -10.438102189738609     11.600717064786306     37.952107368357701\\nH      -8.813770029433178     12.146958846278929     38.361210879410926\\nH      -7.853256938168321     10.518981283237762     36.756830345983367\\nH      -8.322122769366198     11.871368599449500     34.898004710751337\\nH     -10.979146359397204      6.021367116336081     35.610308892321591\\nH     -11.110048734321763      7.515146634559662     36.540133425826461\\nH      -8.645213607597661      7.150036698509657     37.234980712009211\\nH      -8.807301143475962      5.515643812931632     36.571779416370610\\nH     -10.764980124779136      5.164045580366240     38.113201307304166\\nH     -10.513370444595727      6.797623788738663     38.746944095001581\\nH      -8.369523584181021      6.181908976472026     39.697114430709590\\nH      -8.384315383117533      4.606201827142459     38.883624970388659\\nH      -8.995884418575971      6.982927966388770     34.422841584064606\\nH     -12.810067334016578     10.377522017589346     30.862020073968576\\nH     -12.138969754663025     11.127367593324397     32.289742277880912\\nH     -13.802705191487828      8.558922567435010     32.353932232408702\\nH     -14.532907014643563     10.154952484931043     32.373307773085330\\nH     -12.764132262803303      8.968846839465806     34.565684821251246\\nH     -14.489085822101128      9.241231046230647     34.593593528575738\\nH     -14.105153961677853     11.706177846190609     34.383383530497525\\nH     -12.355496362280750     11.410488933648825     34.432342313279776\\nH     -11.534145166850017      8.308230469146073     31.296944755335353\\nH      -7.589573384960437     15.625240019350734     49.676600352321046\\nH      -8.846177631626983     18.718008567484738     41.158176966579639\\nH     -14.874654844620629     18.088758473580832     40.487199159777447\\nH     -19.554178223835027     17.046101582514698     33.939672252786330\\nH     -11.784674633348935     17.063449643198588     35.922736272153301\\nH     -10.636925769049368     10.030687312912406     29.745881174102824\\nH     -21.221148249133339     15.494674990500538     46.073183933388968\\nC     -16.641716081633383     13.641858640414434     44.088593973709088\\nH     -15.861786467410241     12.932871245908759     43.799826217315321\\nH     -16.326431701810680     14.640658557358087     43.765026776879886\\nH     -16.691819065139228     13.644786182219987     45.178615816644758\\nH     -20.885550202740259      0.850714941591053     45.053356662914013\\nH     -16.777506934112822     -1.041667746429350     46.150970434181417\\nH     -21.223803095215221      9.635149506003124     41.929035636930138\\nH     -14.097567850223541      0.003333680512942     36.481843345071262\\nH     -16.455759867542902      5.412423945477623     35.195839535395805\\nC     -14.032490791518189      7.757887917519919     45.349877209958620\\nC     -14.732995916699938      6.577524732000180     45.658697789104984\\nN     -15.607584949325847      6.554557815597500     46.660427062480032\\nC     -15.746787294139665      7.649983493086252     47.387320806346480\\nN     -15.109324519990723      8.801432654911411     47.219884587227860\\nC     -14.258309575827038      8.843717559378968     46.196202738596000\\nN     -16.662317333094169      7.585310102404322     48.440448336999729\\nC     -17.291904411569163      8.808433045595249     48.919508809573664\\nC     -13.511161678052053     10.121965300153684     46.018470431916199\\nC     -13.812432915343409     10.991214585082407     44.977307640403147\\nC     -13.115842479568899     12.180252026571658     44.823690996041286\\nC     -12.107923394654449     12.464694933243125     45.720126266024216\\nC     -11.766844583954756     11.618870086802751     46.755494823659802\\nC     -12.491032587064911     10.445434184557255     46.906491341103802\\nF     -11.425272875203904     13.624202670364244     45.567971898255863\\nS     -16.671977716023775      6.179886512356642     49.344572219451535\\nO     -17.726476359913605      5.312532575387504     48.913820598560029\\nO     -15.318985101852409      5.703146507108187     49.377363325477646\\nC     -17.066758156699773      6.756810531635807     50.965589151898357\\nC     -14.574337466611883      5.263293508010354     44.928542271321675\\nC     -14.276938536446872      4.129924409720269     45.908591052094394\\nC     -15.850005903881019      4.959153603629463     44.134943808593100\\nC     -13.319650897634373      7.451883020480747     43.001560448428357\\nC     -13.080325346155066      7.888229482991915     44.230703549795123\\nC     -12.314163681676501      7.446552882761560     41.892086745347619\\nO     -11.760375543443606      6.127296822310311     41.778790322214299\\nC     -12.935791046734890      7.811113501893057     40.531419593476670\\nC     -12.500754419300385      9.142477292247573     39.915844063147219\\nO     -12.850925254087036      9.155315044402951     38.530919597711339\\nC     -13.040339400775864     10.405984772696115     40.644408662486342\\nC     -14.065796927715867     11.169667603412865     39.803694626657560\\nO     -13.689483462437966     12.265219521549840     39.249335264069849\\nO     -15.208464425252961     10.699689108002495     39.675784284127730\\nH     -16.727117432237257      9.298085724724279     49.714888750914788\\nH     -17.351473207024512      9.491608106731769     48.079560829242432\\nH     -18.305203936849242      8.594258692053085     49.253042492102438\\nH     -14.602064707052588     10.741960207609427     44.280871524315586\\nH     -13.345173353088802     12.881351360256648     44.030996809705044\\nH     -10.956039175739406     11.874750489465784     47.423897699430043\\nH     -12.254537280382870      9.763671049897260     47.713792743231195\\nH     -16.986784619064103      5.863246923615094     51.584410851314551\\nH     -18.079974980121460      7.143668018924799     51.007971651707869\\nH     -16.334156190909432      7.495155508859573     51.280057580607703\\nH     -13.727014352998165      5.331691434023631     44.249903436492652\\nH     -15.129149673017668      3.948373533926302     46.567638886717617\\nH     -13.398916262960359      4.341466006149363     46.517293184377309\\nH     -14.050056491172141      3.218909002376086     45.348065135197430\\nH     -15.732212275354781      3.995499633810235     43.627239285471155\\nH     -16.719390373867817      4.889217642920893     44.794696253596115\\nH     -16.057411134607488      5.727600325553314     43.379753455834745\\nH     -14.280491347114657      6.989197223407299     42.787234394268133\\nH     -12.136376572883480      8.384130106380598     44.445546643472639\\nH     -11.507989304558027      8.148843173389899     42.135612542280228\\nH     -11.670230597280806      5.634710460438371     42.657479405408147\\nH     -12.638420114548246      7.033119294032351     39.824308383922094\\nH     -14.029910712065371      7.791064747173317     40.609916432298306\\nH     -11.413441537257469      9.180447435076710     39.935182667555090\\nH     -13.816741134684252      9.149429291039997     38.469901493545350\\nH     -12.205000005415053     11.064788637778481     40.878459920538504\\nH     -13.532084345352962     10.113734316619269     41.578088004128489\\n\",\"xyz\");\n\tviewer_17503990484254034.setStyle({\"stick\": {}, \"sphere\": {\"radius\": 0.5}});\n\tviewer_17503990484254034.zoomTo();\nviewer_17503990484254034.render();\n});\n</script>",
      "text/html": [
       "<div id=\"3dmolviewer_17503990484254034\"  style=\"position: relative; width: 800px; height: 400px;\">\n",
       "        <p id=\"3dmolwarning_17503990484254034\" style=\"background-color:#ffcccc;color:black\">3Dmol.js failed to load for some reason.  Please check your browser console for error messages.<br></p>\n",
       "        </div>\n",
       "<script>\n",
       "\n",
       "var loadScriptAsync = function(uri){\n",
       "  return new Promise((resolve, reject) => {\n",
       "    //this is to ignore the existence of requirejs amd\n",
       "    var savedexports, savedmodule;\n",
       "    if (typeof exports !== 'undefined') savedexports = exports;\n",
       "    else exports = {}\n",
       "    if (typeof module !== 'undefined') savedmodule = module;\n",
       "    else module = {}\n",
       "\n",
       "    var tag = document.createElement('script');\n",
       "    tag.src = uri;\n",
       "    tag.async = true;\n",
       "    tag.onload = () => {\n",
       "        exports = savedexports;\n",
       "        module = savedmodule;\n",
       "        resolve();\n",
       "    };\n",
       "  var firstScriptTag = document.getElementsByTagName('script')[0];\n",
       "  firstScriptTag.parentNode.insertBefore(tag, firstScriptTag);\n",
       "});\n",
       "};\n",
       "\n",
       "if(typeof $3Dmolpromise === 'undefined') {\n",
       "$3Dmolpromise = null;\n",
       "  $3Dmolpromise = loadScriptAsync('https://cdn.jsdelivr.net/npm/3dmol@2.5.0/build/3Dmol-min.js');\n",
       "}\n",
       "\n",
       "var viewer_17503990484254034 = null;\n",
       "var warn = document.getElementById(\"3dmolwarning_17503990484254034\");\n",
       "if(warn) {\n",
       "    warn.parentNode.removeChild(warn);\n",
       "}\n",
       "$3Dmolpromise.then(function() {\n",
       "viewer_17503990484254034 = $3Dmol.createViewer(document.getElementById(\"3dmolviewer_17503990484254034\"),{backgroundColor:\"white\"});\n",
       "viewer_17503990484254034.zoomTo();\n",
       "\tviewer_17503990484254034.addModel(\"391\\n\\nN      -9.241053293863278     -1.068055448504521     45.215017018579488\\nC      -9.582000000000001      0.272000000000000     45.667999999999999\\nC     -10.627962547368199      0.252824185152457     46.779649561610150\\nO     -11.745026054295096     -0.227621876997158     46.612220289313363\\nC     -10.124715796165107      1.088567704254511     44.478381129999818\\nC     -10.528053692624736      2.532967568208532     44.791516323726533\\nC     -10.886578148782895      3.389027165143013     43.558478322656136\\nO     -10.475984187695989      3.037631637355346     42.429597221595280\\nO     -11.573542480035057      4.436807784118474     43.775049624424348\\nH     -10.084611407113739     -1.550927824381545     44.927086497063016\\nN     -10.251363507489755      0.768470115026309     47.970900245522905\\nC     -11.172000000000001      0.804000000000000     49.081000000000003\\nC     -12.493040599132465      1.448127000407257     48.661208550234790\\nO     -12.523787621778276      2.450054136344928     47.974158100396373\\nH      -9.373286725022931      1.250536575478787     48.036491294127657\\nN     -13.597925985773095      0.814162036571773     49.120916669636671\\nC     -14.945000000000000      1.339000000000000     49.020000000000003\\nC     -15.605210174789235      1.161814714944580     47.648874228911438\\nO     -16.792668471829327      1.435415322429207     47.520044447485233\\nC     -15.089613954178130      2.796867585810906     49.449885316761502\\nS     -14.525782417476703      2.988512762854639     51.169243155218304\\nH     -13.466260839684123     -0.024218986938774     49.658856134284214\\nH     -14.287708885665864      4.303189455679747     51.065525691960175\\nN     -14.891678083393218      0.685748501579115     46.610144523522663\\nC     -15.548000000000000      0.614000000000000     45.307000000000002\\nC     -16.809272793207768     -0.223303813979432     45.406038977630899\\nO     -17.765548189499423     -0.050851102251056     44.695121490858426\\nC     -14.561675038726825      0.026753040645573     44.296998451659448\\nC     -15.076689628988159     -0.094868658616097     42.862167144155677\\nC     -15.735170578412527      1.199495847648611     42.387798220317308\\nC     -13.920018783554827     -0.494202809577983     41.947951992347647\\nH     -13.899039713322162      0.491479967841840     46.695406041097804\\nN     -19.907630089968688      1.043764057248338     47.433623274765175\\nC     -20.289000000000001      2.229000000000000     46.682000000000002\\nC     -21.159082928145967      1.823938983875466     45.516599820839907\\nO     -22.046988674842542      2.497372340057825     45.065637354133571\\nC     -19.055475853711361      2.979663721566265     46.125022576792198\\nO     -19.358867180426223      4.049424413261508     45.231924853234041\\nH     -19.113396653574242      1.250401712606500     48.029448424920368\\nH     -19.977864226666679      4.645871166334690     45.665085833066840\\nN     -19.709117827588290     18.760143854754300     35.825780194084743\\nC     -18.672999999999998     17.742000000000001     35.859000000000002\\nC     -18.602564286870933     17.076507997788472     34.501987311997510\\nO     -17.593411995677211     16.595267679886533     34.044050419476640\\nC     -18.878988962734581     16.677235140573313     36.954379293563001\\nC     -17.772862398766645     15.632610818774234     37.078754011049725\\nC     -18.046580182241453     14.651791519293367     38.217866321973155\\nC     -17.054923318164505     13.500458952806703     38.300586711157031\\nN     -15.677441468952361     13.968297353174219     38.596087256186223\\nH     -20.593682126496965     18.424588811238618     36.185491900903983\\nH     -15.684629406540800     14.605763449487503     39.399557506156277\\nH     -15.263410805468494     14.497844441626590     37.813284672901119\\nH     -15.001849944428217     13.173384054388821     38.811518061173999\\nN     -18.387099707473897      9.671572957997993     35.525224117114547\\nC     -17.431999999999999      9.933999999999999     36.579999999999998\\nC     -16.362297020855909      8.880193538355831     36.794830188699024\\nO     -15.210340940393927      9.186226539055326     37.066769414276436\\nC     -18.150461134425903     10.141712640830715     37.911403278235696\\nH     -19.167718686035361      9.091110553483913     35.794221134537501\\nN     -16.714684019825743      7.575000959544167     36.734520841261407\\nC     -15.693000000000000      6.564000000000000     36.948999999999998\\nC     -16.073581315520659      5.287157643274189     36.226617824023059\\nO     -15.957024208648907      4.200712287767288     36.722544673967576\\nC     -15.348236495332992      6.331325358796393     38.417378470402625\\nC     -16.393976601897574      5.668777856863028     39.253187936862382\\nC     -17.749940260210359      5.717118905388327     39.263046844079064\\nN     -16.035535525910319      4.892153955163313     40.339466040884197\\nC     -17.120537703687418      4.477730578023695     40.979680876240920\\nN     -18.175890624995557      4.966061767985260     40.343074471255726\\nH     -17.617542480333082      7.336018399911775     36.357832967940176\\nH     -15.068270883427013      4.640006428081733     40.614916754941149\\nN     -13.317923837236499      2.482462814644663     36.761962077837843\\nC     -13.452000000000000      1.589000000000000     37.899000000000001\\nC     -14.339284975418561      0.433088971779471     37.471155058634366\\nO     -15.248406924653084      0.015348048678708     38.138753314805861\\nC     -13.972286470411591      2.189021873838160     39.197884895838214\\nC     -13.031843723025746      3.191583621474289     39.807846980956178\\nN     -13.420257461961038      3.710520380320095     41.024773300013280\\nO     -12.034145443374969      3.589447757185643     39.229222559998369\\nH     -14.213664074807436      2.867808715533212     36.493761529202679\\nH     -13.866638959843129      3.040759666905255     41.639405191366535\\nH     -12.699669572220390      4.262931840028246     41.491313077830903\\nN     -21.144090030519887      7.356038661395995     43.420583421993911\\nC     -20.103000000000002      8.369999999999999     43.363999999999997\\nC     -20.647868796246510      9.696128146798650     42.877793839865369\\nO     -20.518914996835843     10.759486990619353     43.433853847515884\\nC     -18.987452843041371      7.923079049405253     42.421275266509248\\nC     -17.795707387780055      8.878896763052163     42.351293691847701\\nC     -17.109040854052665      9.051440988376880     43.703293416587051\\nC     -16.791045147539023      8.381142854270353     41.323359738682726\\nH     -21.620831570389235      7.241713608715220     42.533311300172016\\nN     -21.950410478283676     10.938362374757036     46.231517530587801\\nC     -21.003000000000000     11.444000000000001     47.207999999999998\\nC     -20.342772770649397     12.797900189605034     46.903703231483732\\nO     -19.862774582656627     13.481178980956884     47.791829585943276\\nC     -19.881892228103769     10.436994458899449     47.410228088009319\\nH     -21.500473798772759     10.742389716490885     45.347744490114465\\nN     -20.252284465808966     13.167742215552904     45.597007381476892\\nC     -19.501000000000001     14.348000000000001     45.219000000000001\\nC     -20.275837751867403     15.626995177269162     45.514398918902273\\nO     -19.881381742385283     16.710883727483807     45.179204076323309\\nC     -19.067554621535397     14.290921955038570     43.756041565223882\\nC     -17.971786897448457     13.267828332817686     43.438636338607147\\nC     -17.792686838027450     13.154108688435047     41.924609455545728\\nH     -20.602293372884301     12.555939360546247     44.877461467315477\\nN      -5.937790110155245     16.968260355440059     41.291436015647314\\nC      -7.371559094962212     17.062993254383038     41.477187928100307\\nC      -7.874000000000000     18.327999999999999     40.802999999999997\\nO      -7.271775658562733     18.891369315517071     39.930290203949035\\nC      -7.718994832203971     17.036907542613417     42.975909939670956\\nC      -9.202626785844910     16.937993701249010     43.358504754859574\\nC      -9.734505269353411     15.526218881047207     43.568103563784270\\nN      -9.808823937610120     14.797103900107015     42.301106631545757\\nC      -9.802425386831851     13.465275634895448     42.138052132227195\\nN      -9.568864834506870     12.656730750409611     43.176088795758524\\nN     -10.022677637357329     12.948943252796674     40.939092981011029\\nH      -9.431493352885310     12.998361068611880     44.119653212614196\\nH      -9.511639002237679     11.666341318811217     43.001776537917401\\nH     -10.152026362368217     13.597106349410369     40.179105695469381\\nH      -9.824570999864379     11.916061424518885     40.674986429094197\\nH     -10.121479715603741     15.331400923366441     41.505799564509253\\nN      -6.608898812966324     15.051492163614169     47.214765193610418\\nC      -7.987400224069207     15.449516709874692     47.490243923010063\\nC      -8.167607784989414     16.099607514738402     48.854511454230419\\nO      -8.860435830000000     17.057230680000000     49.062773610000001\\nC      -8.876460668066009     14.206600534770994     47.334845873845929\\nO      -8.575655669598273     13.571674892408941     46.097379521304823\\nH      -6.152235943250301     14.656043675795946     48.030238918574014\\nH      -7.606540906243196     13.628029665969652     46.031952789438932\\nN     -15.509011215309924     17.997631324743924     44.700925691161459\\nC     -14.052731621317262     18.092037839886601     44.842804439901634\\nC     -13.359121102651336     17.584249783336691     43.575869494290266\\nO     -12.207000000000001     17.856999999999999     43.280999999999999\\nC     -13.602626445809124     17.288804469812682     46.080508802504227\\nC     -13.896165448857881     15.795387989569091     45.942354125901126\\nC     -12.134777031451181     17.523243142229717     46.417406962757994\\nH     -15.945530687327629     17.916798535291367     45.611231450298327\\nN     -14.146292801360064     16.790791940765157     42.797373170817181\\nC     -13.764313918582124     16.426956649091387     41.451488196610271\\nC     -14.899404817907955     16.994550009250851     40.626072343846261\\nO     -15.847797659999999     16.356009400000001     40.236141920000001\\nC     -13.506890767634907     14.942543036848702     41.272896606724075\\nO     -12.960532048975995     14.741637896571874     39.982933679477405\\nH     -15.104274864760459     16.707926166439542     43.122057693885985\\nH     -13.033624539066972     13.781467006206052     39.772207801390230\\nN     -13.933477316154695     15.945566023461524     37.002447092443695\\nC     -13.385875887881101     15.518251221044656     35.716932428019035\\nC     -12.279464171149193     16.421465455741728     35.165419994295306\\nO     -11.939071139999999     16.441327139999999     34.015469570000000\\nC     -14.483896884759869     15.340110276668140     34.684586960849032\\nC     -15.334312333516610     14.116057777444629     34.933027876053714\\nN     -16.367945166830289     13.952965319014707     34.090623563745304\\nO     -15.078309522651818     13.291166594984134     35.813257422749331\\nH     -13.254447855798244     15.855581578035887     37.753646141520520\\nH     -16.696150660001585     14.725042832365478     33.529226689084261\\nH     -16.987599984234794     13.172190284613086     34.234118221709288\\nN      -8.822140683323717     12.062986755619219     35.759026554016145\\nC      -8.871558824938822     10.891163664597034     36.637612537828900\\nC      -9.729815725737746      9.799845229130094     36.003188731895634\\nO     -10.956000000000000      9.875999999999999     35.969999999999999\\nC      -9.389496108769082     11.286275087519627     38.014817855252190\\nC      -9.313044060002870     10.161301255810738     39.056941165792409\\nO      -9.081809667211978      9.015848376295549     38.648159842152502\\nO      -9.533585154200560     10.494900287042583     40.265785157020943\\nH      -9.758833719561009     12.360320751760954     35.509358264963893\\nN      -9.081687921597682      8.822333082004880     35.325640840997764\\nC      -9.773558862123132      7.614740479265032     34.865788612282103\\nC     -10.765834047236222      7.860863252266469     33.716089416492260\\nO     -11.654999999999999      7.058000000000000     33.463999999999999\\nC     -10.408690270314521      6.853872757099017     36.024772772182899\\nC      -9.358124131702978      6.354882331884512     37.011298529343769\\nC     -10.010328441480700      5.927250113926727     38.314484186064554\\nC      -9.010292205247636      5.384446893435141     39.321501893688037\\nN      -9.746081800760264      4.786096184881885     40.467958994571312\\nH      -8.098559309606225      8.729614537769582     35.522474804298135\\nH     -10.470325732751924      4.134250690418827     40.135479376772892\\nH     -10.293446267324482      5.494489509236144     40.993282920464644\\nH      -9.196062174184302      4.257325692117549     41.146761624660726\\nN     -10.538304430493248      8.976920138954878     32.985205168561087\\nC     -11.224568174570502      9.256675999188019     31.746214938436680\\nC     -10.281770155982276      9.971809896198666     30.791023661689451\\nO      -9.259758919999999     10.507233540000000     31.130057900000001\\nC     -12.460225799905333     10.166428609552478     31.877062569225721\\nC     -13.640230160617918      9.592240269119875     32.666668125383055\\nC     -13.545775865870445      9.625493857728811     34.194348129729043\\nC     -13.329034947316842     11.028140937172461     34.732600189494207\\nN     -13.348639311868357     11.052430022922339     36.222996116586771\\nH      -9.719606841735667      9.533936171527085     33.186526599907047\\nH     -12.473627981315664     10.630498581749391     36.579996306445956\\nH     -14.134896472561442     10.502663837360085     36.598400880158160\\nH     -13.462718328070258     11.999906811225957     36.583659021411897\\nH     -10.992951785437015      0.549107833755385     44.088881674803609\\nH      -9.371323896455950      1.073127477314421     43.691184486714015\\nH      -9.695413522295093      3.053118680827685     45.280897209963108\\nH     -11.360849915057500      2.589904321700677     45.499083541279440\\nH      -8.666817264687818      0.746724154399624     46.038260271222875\\nH      -8.825864232592521     -1.618796670428022     45.957225355393803\\nH     -10.746309955421927      1.410913814293409     49.878664269013605\\nH     -11.339440623618083     -0.204510829560913     49.467270111696337\\nH     -16.137101343509354      3.070310803136421     49.355324622150583\\nH     -14.498106018434049      3.439246557938981     48.808135762220566\\nH     -15.559823801896771      0.727221157771342     49.686494234385478\\nH     -14.225843515603183     -0.955866553589005     44.644246482099383\\nH     -13.677326908286851      0.676734094793841     44.310685150522104\\nH     -15.834843873392371     -0.882393266884386     42.819027129066384\\nH     -15.912313818057482      1.172711589413380     41.309993548569345\\nH     -15.078636272737240      2.044343566728511     42.628475973424443\\nH     -16.687211994544896      1.367927882186952     42.894518304720627\\nH     -14.281084468076738     -0.654319830878618     40.929719082153476\\nH     -13.443242157131538     -1.417153510585996     42.285353759168515\\nH     -13.140709831202848      0.278359605802174     41.936130536921169\\nH     -15.864733450926334      1.618996438897458     45.008537247727268\\nH     -18.448076148840794      2.279011817406265     45.551513876113418\\nH     -18.454659697536879      3.333280665953007     46.967962730809390\\nH     -20.874458677423373      2.907047413863973     47.311672936861584\\nH     -19.588414749849818      0.325830654073928     46.789019600617301\\nH     -19.838509758188923     16.175316324642704     36.779917922841832\\nH     -18.980767143739829     17.214979509865778     37.901044352485528\\nH     -16.816236110860828     16.140363392997923     37.243107164812244\\nH     -17.671875616534518     15.078961757001210     36.142131998476074\\nH     -19.041726330954678     14.215854152035265     38.087776620024606\\nH     -18.064025072979771     15.187767304697015     39.171382110301870\\nH     -17.005137125944479     12.952011460896133     37.360263495262906\\nH     -17.323309427972784     12.800671106407256     39.090844130332755\\nH     -17.703284994055313     18.223318318771540     36.015113278862657\\nH     -19.449238239600430     19.585707332981954     36.345726208043409\\nH     -17.430993356837810     10.369018290646244     38.700700402749931\\nH     -18.867061471223526     10.957067460420513     37.811294381262279\\nH     -18.703030057418129      9.236509459677711     38.184257395623781\\nH     -16.870740165313773     10.842253055270946     36.335938622067289\\nH     -17.990449991551152      9.368631677557262     34.647276371420169\\nH     -15.113194091781745      7.298636677997608     38.864124216912607\\nH     -14.433272360119169      5.735941079686585     38.462159338748187\\nH     -18.444793616102341      6.236374974038657     38.629659191859716\\nH     -19.131273859393552      4.828554287036803     40.639523985894606\\nH     -17.140447983966595      3.858103617632770     41.860283803946402\\nH     -14.776733819012987      6.925624416080976     36.464136500476428\\nH     -14.173253184598082      1.393359193064548     39.916832982810142\\nH     -14.937227160539882      2.674097602779482     39.014466512295542\\nH     -12.463335953290686      1.150144741069712     38.086155418103388\\nH     -12.677023169873735      3.235493094946496     36.971920524952530\\nH     -19.417718289862673      7.800547500472068     41.413956942455691\\nH     -18.656854319790018      6.931541981029246     42.756575584702340\\nH     -18.148389813461584      9.862496929145204     42.016485676470047\\nH     -16.171340823075607      9.590273358713972     43.566295280657158\\nH     -16.866635025243426      8.080234168828747     44.144914818384663\\nH     -17.710313370386881      9.609440916593854     44.421694944682869\\nH     -15.955985151274881      9.073966190577513     41.220933948188019\\nH     -16.402486801627269      7.400864057131164     41.624122986082902\\nH     -17.251214782109987      8.278870016577775     40.336365851521997\\nH     -19.699189720010644      8.519468966861796     44.367097312611882\\nH     -21.843014813808082      7.556133077054089     44.124898499351517\\nH     -19.184114885369155     10.812968295340641     48.155393670859922\\nH     -20.290080660280591      9.481194576829999     47.737008206900661\\nH     -19.339366382128944     10.281264324320418     46.471257693390100\\nH     -21.522993695524548     11.592016433729098     48.156170326885302\\nH     -22.712943316726708     11.582071267613083     46.069204507759672\\nH     -18.718739089539824     15.290061933745289     43.481170769587841\\nH     -19.950172339525388     14.087177956578014     43.138517422359293\\nH     -18.284852648830014     12.288264450513370     43.819526596326043\\nH     -17.018896910139198     12.422465232211023     41.670210784083586\\nH     -17.493363808744157     14.123155477930846     41.505870811121788\\nH     -18.724158748878487     12.851192110920509     41.437994758238275\\nH     -18.623716333180916     14.408321385726930     45.873150479700783\\nH      -7.277886198300490     17.932771510179240     43.419659066318040\\nH      -7.169253903051467     16.196727706244740     43.409383164712338\\nH      -9.850748688639523     17.455779948699572     42.646373370109210\\nH      -9.366757533378129     17.464950327898567     44.300813738213250\\nH     -10.728608730866878     15.572397632812335     44.020503346410010\\nH      -9.083421485834277     14.982478562352117     44.253885227952694\\nH      -7.918535337359817     16.246596681581515     40.973332638151348\\nH      -5.646309649460989     17.550817696174562     40.514806035178971\\nH      -5.625343576737533     16.023134491368189     41.125258880368818\\nH      -9.927536868849312     14.496333227640607     47.330549145682603\\nH      -8.711007509801302     13.504997347455138     48.165890678416162\\nH      -8.292006700738067     16.180243263826867     46.738816140313119\\nH      -6.048586424205129     15.825647554844604     46.885225574931731\\nH     -14.199021635855077     17.692237990858040     46.907599870022864\\nH     -13.676777358874231     15.283921055810550     46.881111195118990\\nH     -14.935472362046809     15.593935164948613     45.678932530298155\\nH     -13.258677259234489     15.351779337183856     45.172831586171036\\nH     -11.885519374036331     17.038276569658375     47.362593534988903\\nH     -11.488282755790692     17.113707356721402     45.638331420597751\\nH     -11.911579060045288     18.586514652728567     46.521247159245476\\nH     -13.702627333683129     19.123882042581954     44.959303151272159\\nH     -15.894312868678149     18.830765883970862     44.274837584610204\\nH     -14.435078373267373     14.371264339148150     41.410541542110373\\nH     -12.803908959193247     14.631264355262042     42.055635199765128\\nH     -12.845748597479865     16.977672540532939     41.230347035194896\\nH     -14.039397529942953     15.252083434956475     33.690419891450233\\nH     -15.136324163364575     16.217305892398905     34.646786489159638\\nH     -12.907756041932107     14.545443831367638     35.877974741438869\\nH     -14.236633523428079     16.913754133284147     36.962799536907156\\nH     -10.438102189738609     11.600717064786306     37.952107368357701\\nH      -8.813770029433178     12.146958846278929     38.361210879410926\\nH      -7.853256938168321     10.518981283237762     36.756830345983367\\nH      -8.322122769366198     11.871368599449500     34.898004710751337\\nH     -10.979146359397204      6.021367116336081     35.610308892321591\\nH     -11.110048734321763      7.515146634559662     36.540133425826461\\nH      -8.645213607597661      7.150036698509657     37.234980712009211\\nH      -8.807301143475962      5.515643812931632     36.571779416370610\\nH     -10.764980124779136      5.164045580366240     38.113201307304166\\nH     -10.513370444595727      6.797623788738663     38.746944095001581\\nH      -8.369523584181021      6.181908976472026     39.697114430709590\\nH      -8.384315383117533      4.606201827142459     38.883624970388659\\nH      -8.995884418575971      6.982927966388770     34.422841584064606\\nH     -12.810067334016578     10.377522017589346     30.862020073968576\\nH     -12.138969754663025     11.127367593324397     32.289742277880912\\nH     -13.802705191487828      8.558922567435010     32.353932232408702\\nH     -14.532907014643563     10.154952484931043     32.373307773085330\\nH     -12.764132262803303      8.968846839465806     34.565684821251246\\nH     -14.489085822101128      9.241231046230647     34.593593528575738\\nH     -14.105153961677853     11.706177846190609     34.383383530497525\\nH     -12.355496362280750     11.410488933648825     34.432342313279776\\nH     -11.534145166850017      8.308230469146073     31.296944755335353\\nH      -7.589573384960437     15.625240019350734     49.676600352321046\\nH      -8.846177631626983     18.718008567484738     41.158176966579639\\nH     -14.874654844620629     18.088758473580832     40.487199159777447\\nH     -19.554178223835027     17.046101582514698     33.939672252786330\\nH     -11.784674633348935     17.063449643198588     35.922736272153301\\nH     -10.636925769049368     10.030687312912406     29.745881174102824\\nH     -21.221148249133339     15.494674990500538     46.073183933388968\\nC     -16.641716081633383     13.641858640414434     44.088593973709088\\nH     -15.861786467410241     12.932871245908759     43.799826217315321\\nH     -16.326431701810680     14.640658557358087     43.765026776879886\\nH     -16.691819065139228     13.644786182219987     45.178615816644758\\nH     -20.885550202740259      0.850714941591053     45.053356662914013\\nH     -16.777506934112822     -1.041667746429350     46.150970434181417\\nH     -21.223803095215221      9.635149506003124     41.929035636930138\\nH     -14.097567850223541      0.003333680512942     36.481843345071262\\nH     -16.455759867542902      5.412423945477623     35.195839535395805\\nC     -14.032490791518189      7.757887917519919     45.349877209958620\\nC     -14.732995916699938      6.577524732000180     45.658697789104984\\nN     -15.607584949325847      6.554557815597500     46.660427062480032\\nC     -15.746787294139665      7.649983493086252     47.387320806346480\\nN     -15.109324519990723      8.801432654911411     47.219884587227860\\nC     -14.258309575827038      8.843717559378968     46.196202738596000\\nN     -16.662317333094169      7.585310102404322     48.440448336999729\\nC     -17.291904411569163      8.808433045595249     48.919508809573664\\nC     -13.511161678052053     10.121965300153684     46.018470431916199\\nC     -13.812432915343409     10.991214585082407     44.977307640403147\\nC     -13.115842479568899     12.180252026571658     44.823690996041286\\nC     -12.107923394654449     12.464694933243125     45.720126266024216\\nC     -11.766844583954756     11.618870086802751     46.755494823659802\\nC     -12.491032587064911     10.445434184557255     46.906491341103802\\nF     -11.425272875203904     13.624202670364244     45.567971898255863\\nS     -16.671977716023775      6.179886512356642     49.344572219451535\\nO     -17.726476359913605      5.312532575387504     48.913820598560029\\nO     -15.318985101852409      5.703146507108187     49.377363325477646\\nC     -17.066758156699773      6.756810531635807     50.965589151898357\\nC     -14.574337466611883      5.263293508010354     44.928542271321675\\nC     -14.276938536446872      4.129924409720269     45.908591052094394\\nC     -15.850005903881019      4.959153603629463     44.134943808593100\\nC     -13.319650897634373      7.451883020480747     43.001560448428357\\nC     -13.080325346155066      7.888229482991915     44.230703549795123\\nC     -12.314163681676501      7.446552882761560     41.892086745347619\\nO     -11.760375543443606      6.127296822310311     41.778790322214299\\nC     -12.935791046734890      7.811113501893057     40.531419593476670\\nC     -12.500754419300385      9.142477292247573     39.915844063147219\\nO     -12.850925254087036      9.155315044402951     38.530919597711339\\nC     -13.040339400775864     10.405984772696115     40.644408662486342\\nC     -14.065796927715867     11.169667603412865     39.803694626657560\\nO     -13.689483462437966     12.265219521549840     39.249335264069849\\nO     -15.208464425252961     10.699689108002495     39.675784284127730\\nH     -16.727117432237257      9.298085724724279     49.714888750914788\\nH     -17.351473207024512      9.491608106731769     48.079560829242432\\nH     -18.305203936849242      8.594258692053085     49.253042492102438\\nH     -14.602064707052588     10.741960207609427     44.280871524315586\\nH     -13.345173353088802     12.881351360256648     44.030996809705044\\nH     -10.956039175739406     11.874750489465784     47.423897699430043\\nH     -12.254537280382870      9.763671049897260     47.713792743231195\\nH     -16.986784619064103      5.863246923615094     51.584410851314551\\nH     -18.079974980121460      7.143668018924799     51.007971651707869\\nH     -16.334156190909432      7.495155508859573     51.280057580607703\\nH     -13.727014352998165      5.331691434023631     44.249903436492652\\nH     -15.129149673017668      3.948373533926302     46.567638886717617\\nH     -13.398916262960359      4.341466006149363     46.517293184377309\\nH     -14.050056491172141      3.218909002376086     45.348065135197430\\nH     -15.732212275354781      3.995499633810235     43.627239285471155\\nH     -16.719390373867817      4.889217642920893     44.794696253596115\\nH     -16.057411134607488      5.727600325553314     43.379753455834745\\nH     -14.280491347114657      6.989197223407299     42.787234394268133\\nH     -12.136376572883480      8.384130106380598     44.445546643472639\\nH     -11.507989304558027      8.148843173389899     42.135612542280228\\nH     -11.670230597280806      5.634710460438371     42.657479405408147\\nH     -12.638420114548246      7.033119294032351     39.824308383922094\\nH     -14.029910712065371      7.791064747173317     40.609916432298306\\nH     -11.413441537257469      9.180447435076710     39.935182667555090\\nH     -13.816741134684252      9.149429291039997     38.469901493545350\\nH     -12.205000005415053     11.064788637778481     40.878459920538504\\nH     -13.532084345352962     10.113734316619269     41.578088004128489\\n\",\"xyz\");\n",
       "\tviewer_17503990484254034.setStyle({\"stick\": {}, \"sphere\": {\"radius\": 0.5}});\n",
       "\tviewer_17503990484254034.zoomTo();\n",
       "viewer_17503990484254034.render();\n",
       "});\n",
       "</script>"
      ]
     },
     "metadata": {},
     "output_type": "display_data"
    }
   ],
   "source": [
    "f = open(\"/content/optimized_complex.xyz\",\"r\")\n",
    "structure = f.read()\n",
    "f.close()\n",
    "\n",
    "ccr.visualize_molecule(structure)"
   ]
  },
  {
   "cell_type": "markdown",
   "metadata": {
    "id": "I9JJBTGr6gnP"
   },
   "source": [
    "## Generate a constraints list"
   ]
  },
  {
   "cell_type": "code",
   "execution_count": null,
   "metadata": {
    "colab": {
     "base_uri": "https://localhost:8080/"
    },
    "id": "ECKdLDq3q7h4",
    "outputId": "b06a3bfe-e17b-42bc-f2e9-2f02b40d5c14"
   },
   "outputs": [
    {
     "name": "stdout",
     "output_type": "stream",
     "text": [
      "[1, 11, 16, 24, 33, 41, 54, 60, 72, 83, 92, 98, 107, 124, 132, 140, 148, 159, 168, 181]\n"
     ]
    }
   ],
   "source": [
    "f = open(\"/content/HMGCR_dude_QM_site.pdb\",\"r\")\n",
    "lines = f.readlines()\n",
    "f.close()\n",
    "\n",
    "constraints = []\n",
    "for line in lines:\n",
    "  parts = line.split()\n",
    "  if len(parts) > 1 and parts[2] == \"CA\":\n",
    "    constraints.append(int(parts[1])-1)\n",
    "\n",
    "print(constraints)"
   ]
  },
  {
   "cell_type": "code",
   "execution_count": null,
   "metadata": {
    "colab": {
     "base_uri": "https://localhost:8080/"
    },
    "id": "6TRm8SKHsBr9",
    "outputId": "2fa85f7b-babd-4a3e-ddbb-25e9019e962b"
   },
   "outputs": [
    {
     "name": "stdout",
     "output_type": "stream",
     "text": [
      "20\n"
     ]
    }
   ],
   "source": [
    "print(len(constraints))"
   ]
  }
 ],
 "metadata": {
  "accelerator": "GPU",
  "colab": {
   "collapsed_sections": [
    "qHv8LGrBe534"
   ],
   "gpuType": "T4",
   "provenance": []
  },
  "kernelspec": {
   "display_name": "Python 3",
   "language": "python",
   "name": "python3"
  },
  "language_info": {
   "codemirror_mode": {
    "name": "ipython",
    "version": 3
   },
   "file_extension": ".py",
   "mimetype": "text/x-python",
   "name": "python",
   "nbconvert_exporter": "python",
   "pygments_lexer": "ipython3",
   "version": "3.8.8"
  }
 },
 "nbformat": 4,
 "nbformat_minor": 1
}
