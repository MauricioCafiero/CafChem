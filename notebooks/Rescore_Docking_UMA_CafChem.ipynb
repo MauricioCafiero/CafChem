{
 "cells": [
  {
   "cell_type": "markdown",
   "metadata": {
    "id": "mYtTV82W0-DH"
   },
   "source": [
    "#CafChem tools docking and rescoring with the UMA MLIP\n",
    "\n",
    "[![Open In Colab](https://colab.research.google.com/assets/colab-badge.svg)](https://colab.research.google.com/github/MauricioCafiero/CafChem/blob/main/notebooks/Rescore_Docking_UMA_CafChem.ipynb)\n",
    "\n",
    "## This notebook allows you to:\n",
    "- dock a single SMILES string, a list of string, or a CSV file with SMILES in one column.\n",
    "- save poses as SDF files.\n",
    "- Calculate the interaction between the ligand and the protein using Meta's UMA MLIP\n",
    "\n",
    "## Requirements:\n",
    "- This notebook will install deepchem, dockstring, openBabel, Fairchem and py3Dmol\n",
    "- It will pull the CafChem tools from Github.\n",
    "- It will install all needed libraries.\n",
    "- You need to have a HF_Token set as a secret to access the UMA MLIP."
   ]
  },
  {
   "cell_type": "markdown",
   "metadata": {
    "id": "c077b1b1-6f2a-4eaa-9381-b9a0cf413b8d"
   },
   "source": [
    "# set-up\n",
    "\n",
    "This block:\n",
    "\n",
    "- Loads all needed modules/libraries\n",
    "    \n",
    "\n",
    "    \n"
   ]
  },
  {
   "cell_type": "markdown",
   "metadata": {
    "id": "qHv8LGrBe534"
   },
   "source": [
    "### Install a few libraries"
   ]
  },
  {
   "cell_type": "code",
   "execution_count": 1,
   "metadata": {
    "colab": {
     "base_uri": "https://localhost:8080/"
    },
    "id": "GuZJmglTiaN8",
    "outputId": "79f98663-e1ab-4239-e737-9be6db144aaa"
   },
   "outputs": [
    {
     "name": "stdout",
     "output_type": "stream",
     "text": [
      "Collecting deepchem\n",
      "  Downloading deepchem-2.8.0-py3-none-any.whl.metadata (2.0 kB)\n",
      "Requirement already satisfied: joblib in /usr/local/lib/python3.11/dist-packages (from deepchem) (1.5.1)\n",
      "Requirement already satisfied: numpy>=1.21 in /usr/local/lib/python3.11/dist-packages (from deepchem) (2.0.2)\n",
      "Requirement already satisfied: pandas in /usr/local/lib/python3.11/dist-packages (from deepchem) (2.2.2)\n",
      "Requirement already satisfied: scikit-learn in /usr/local/lib/python3.11/dist-packages (from deepchem) (1.6.1)\n",
      "Requirement already satisfied: sympy in /usr/local/lib/python3.11/dist-packages (from deepchem) (1.13.1)\n",
      "Requirement already satisfied: scipy>=1.10.1 in /usr/local/lib/python3.11/dist-packages (from deepchem) (1.16.0)\n",
      "Collecting rdkit (from deepchem)\n",
      "  Downloading rdkit-2025.3.5-cp311-cp311-manylinux_2_28_x86_64.whl.metadata (4.1 kB)\n",
      "Requirement already satisfied: python-dateutil>=2.8.2 in /usr/local/lib/python3.11/dist-packages (from pandas->deepchem) (2.9.0.post0)\n",
      "Requirement already satisfied: pytz>=2020.1 in /usr/local/lib/python3.11/dist-packages (from pandas->deepchem) (2025.2)\n",
      "Requirement already satisfied: tzdata>=2022.7 in /usr/local/lib/python3.11/dist-packages (from pandas->deepchem) (2025.2)\n",
      "Requirement already satisfied: Pillow in /usr/local/lib/python3.11/dist-packages (from rdkit->deepchem) (11.3.0)\n",
      "Requirement already satisfied: threadpoolctl>=3.1.0 in /usr/local/lib/python3.11/dist-packages (from scikit-learn->deepchem) (3.6.0)\n",
      "Requirement already satisfied: mpmath<1.4,>=1.1.0 in /usr/local/lib/python3.11/dist-packages (from sympy->deepchem) (1.3.0)\n",
      "Requirement already satisfied: six>=1.5 in /usr/local/lib/python3.11/dist-packages (from python-dateutil>=2.8.2->pandas->deepchem) (1.17.0)\n",
      "Downloading deepchem-2.8.0-py3-none-any.whl (1.0 MB)\n",
      "\u001b[2K   \u001b[90m━━━━━━━━━━━━━━━━━━━━━━━━━━━━━━━━━━━━━━━━\u001b[0m \u001b[32m1.0/1.0 MB\u001b[0m \u001b[31m29.0 MB/s\u001b[0m eta \u001b[36m0:00:00\u001b[0m\n",
      "\u001b[?25hDownloading rdkit-2025.3.5-cp311-cp311-manylinux_2_28_x86_64.whl (36.3 MB)\n",
      "\u001b[2K   \u001b[90m━━━━━━━━━━━━━━━━━━━━━━━━━━━━━━━━━━━━━━━━\u001b[0m \u001b[32m36.3/36.3 MB\u001b[0m \u001b[31m62.5 MB/s\u001b[0m eta \u001b[36m0:00:00\u001b[0m\n",
      "\u001b[?25hInstalling collected packages: rdkit, deepchem\n",
      "Successfully installed deepchem-2.8.0 rdkit-2025.3.5\n",
      "Collecting dockstring\n",
      "  Downloading dockstring-0.3.4-py3-none-any.whl.metadata (19 kB)\n",
      "Downloading dockstring-0.3.4-py3-none-any.whl (4.4 MB)\n",
      "\u001b[2K   \u001b[90m━━━━━━━━━━━━━━━━━━━━━━━━━━━━━━━━━━━━━━━━\u001b[0m \u001b[32m4.4/4.4 MB\u001b[0m \u001b[31m6.3 MB/s\u001b[0m eta \u001b[36m0:00:00\u001b[0m\n",
      "\u001b[?25hInstalling collected packages: dockstring\n",
      "Successfully installed dockstring-0.3.4\n",
      "Collecting openbabel-wheel\n",
      "  Downloading openbabel_wheel-3.1.1.22-cp311-cp311-manylinux_2_17_x86_64.manylinux2014_x86_64.whl.metadata (20 kB)\n",
      "Downloading openbabel_wheel-3.1.1.22-cp311-cp311-manylinux_2_17_x86_64.manylinux2014_x86_64.whl (16.1 MB)\n",
      "\u001b[2K   \u001b[90m━━━━━━━━━━━━━━━━━━━━━━━━━━━━━━━━━━━━━━━━\u001b[0m \u001b[32m16.1/16.1 MB\u001b[0m \u001b[31m95.1 MB/s\u001b[0m eta \u001b[36m0:00:00\u001b[0m\n",
      "\u001b[?25hInstalling collected packages: openbabel-wheel\n",
      "Successfully installed openbabel-wheel-3.1.1.22\n"
     ]
    }
   ],
   "source": [
    "! pip install deepchem\n",
    "! pip install dockstring\n",
    "! pip install openbabel-wheel"
   ]
  },
  {
   "cell_type": "code",
   "execution_count": 2,
   "metadata": {
    "colab": {
     "base_uri": "https://localhost:8080/"
    },
    "id": "HWkR62lbgqjI",
    "outputId": "044f27ab-3e7c-4610-aea0-fbcc9a9ee29b"
   },
   "outputs": [
    {
     "name": "stdout",
     "output_type": "stream",
     "text": [
      "Collecting py3Dmol\n",
      "  Downloading py3dmol-2.5.2-py2.py3-none-any.whl.metadata (2.1 kB)\n",
      "Downloading py3dmol-2.5.2-py2.py3-none-any.whl (7.2 kB)\n",
      "Installing collected packages: py3Dmol\n",
      "Successfully installed py3Dmol-2.5.2\n",
      "Collecting fairchem-core\n",
      "  Downloading fairchem_core-2.3.0-py3-none-any.whl.metadata (8.6 kB)\n",
      "Collecting ase-db-backends>=0.10.0 (from fairchem-core)\n",
      "  Downloading ase_db_backends-0.10.0-py3-none-any.whl.metadata (600 bytes)\n",
      "Collecting ase>=3.25.0 (from fairchem-core)\n",
      "  Downloading ase-3.25.0-py3-none-any.whl.metadata (4.2 kB)\n",
      "Collecting clusterscope (from fairchem-core)\n",
      "  Downloading clusterscope-0.0.10-py3-none-any.whl.metadata (3.1 kB)\n",
      "Collecting e3nn>=0.5 (from fairchem-core)\n",
      "  Downloading e3nn-0.5.6-py3-none-any.whl.metadata (5.4 kB)\n",
      "Requirement already satisfied: huggingface-hub>=0.27.1 in /usr/local/lib/python3.11/dist-packages (from fairchem-core) (0.34.1)\n",
      "Collecting hydra-core (from fairchem-core)\n",
      "  Downloading hydra_core-1.3.2-py3-none-any.whl.metadata (5.5 kB)\n",
      "Collecting lmdb (from fairchem-core)\n",
      "  Downloading lmdb-1.7.3-cp311-cp311-manylinux_2_17_x86_64.manylinux2014_x86_64.whl.metadata (1.3 kB)\n",
      "Collecting numba>=0.61.2 (from fairchem-core)\n",
      "  Downloading numba-0.61.2-cp311-cp311-manylinux2014_x86_64.manylinux_2_17_x86_64.whl.metadata (2.8 kB)\n",
      "Requirement already satisfied: numpy<2.3,>=2.0 in /usr/local/lib/python3.11/dist-packages (from fairchem-core) (2.0.2)\n",
      "Requirement already satisfied: orjson in /usr/local/lib/python3.11/dist-packages (from fairchem-core) (3.11.1)\n",
      "Collecting pymatgen>=2023.10.3 (from fairchem-core)\n",
      "  Downloading pymatgen-2025.6.14-cp311-cp311-manylinux_2_17_x86_64.manylinux2014_x86_64.whl.metadata (13 kB)\n",
      "Requirement already satisfied: pyyaml in /usr/local/lib/python3.11/dist-packages (from fairchem-core) (6.0.2)\n",
      "Requirement already satisfied: requests in /usr/local/lib/python3.11/dist-packages (from fairchem-core) (2.32.3)\n",
      "Collecting submitit (from fairchem-core)\n",
      "  Downloading submitit-1.5.3-py3-none-any.whl.metadata (7.9 kB)\n",
      "Requirement already satisfied: tensorboard in /usr/local/lib/python3.11/dist-packages (from fairchem-core) (2.18.0)\n",
      "Collecting torchtnt (from fairchem-core)\n",
      "  Downloading torchtnt-0.2.4-py3-none-any.whl.metadata (3.1 kB)\n",
      "Requirement already satisfied: torch~=2.6.0 in /usr/local/lib/python3.11/dist-packages (from fairchem-core) (2.6.0+cu124)\n",
      "Requirement already satisfied: tqdm in /usr/local/lib/python3.11/dist-packages (from fairchem-core) (4.67.1)\n",
      "Requirement already satisfied: wandb in /usr/local/lib/python3.11/dist-packages (from fairchem-core) (0.21.0)\n",
      "Requirement already satisfied: scipy>=1.6.0 in /usr/local/lib/python3.11/dist-packages (from ase>=3.25.0->fairchem-core) (1.16.0)\n",
      "Requirement already satisfied: matplotlib>=3.3.4 in /usr/local/lib/python3.11/dist-packages (from ase>=3.25.0->fairchem-core) (3.10.0)\n",
      "Collecting psycopg2-binary (from ase-db-backends>=0.10.0->fairchem-core)\n",
      "  Downloading psycopg2_binary-2.9.10-cp311-cp311-manylinux_2_17_x86_64.manylinux2014_x86_64.whl.metadata (4.9 kB)\n",
      "Collecting pymysql (from ase-db-backends>=0.10.0->fairchem-core)\n",
      "  Downloading PyMySQL-1.1.1-py3-none-any.whl.metadata (4.4 kB)\n",
      "Requirement already satisfied: cryptography in /usr/local/lib/python3.11/dist-packages (from ase-db-backends>=0.10.0->fairchem-core) (43.0.3)\n",
      "Requirement already satisfied: sympy in /usr/local/lib/python3.11/dist-packages (from e3nn>=0.5->fairchem-core) (1.13.1)\n",
      "Collecting opt_einsum_fx>=0.1.4 (from e3nn>=0.5->fairchem-core)\n",
      "  Downloading opt_einsum_fx-0.1.4-py3-none-any.whl.metadata (3.3 kB)\n",
      "Requirement already satisfied: filelock in /usr/local/lib/python3.11/dist-packages (from huggingface-hub>=0.27.1->fairchem-core) (3.18.0)\n",
      "Requirement already satisfied: fsspec>=2023.5.0 in /usr/local/lib/python3.11/dist-packages (from huggingface-hub>=0.27.1->fairchem-core) (2025.3.0)\n",
      "Requirement already satisfied: packaging>=20.9 in /usr/local/lib/python3.11/dist-packages (from huggingface-hub>=0.27.1->fairchem-core) (25.0)\n",
      "Requirement already satisfied: typing-extensions>=3.7.4.3 in /usr/local/lib/python3.11/dist-packages (from huggingface-hub>=0.27.1->fairchem-core) (4.14.1)\n",
      "Requirement already satisfied: hf-xet<2.0.0,>=1.1.3 in /usr/local/lib/python3.11/dist-packages (from huggingface-hub>=0.27.1->fairchem-core) (1.1.5)\n",
      "Collecting llvmlite<0.45,>=0.44.0dev0 (from numba>=0.61.2->fairchem-core)\n",
      "  Downloading llvmlite-0.44.0-cp311-cp311-manylinux_2_17_x86_64.manylinux2014_x86_64.whl.metadata (4.8 kB)\n",
      "Collecting bibtexparser>=1.4.0 (from pymatgen>=2023.10.3->fairchem-core)\n",
      "  Downloading bibtexparser-1.4.3.tar.gz (55 kB)\n",
      "\u001b[2K     \u001b[90m━━━━━━━━━━━━━━━━━━━━━━━━━━━━━━━━━━━━━━━━\u001b[0m \u001b[32m55.6/55.6 kB\u001b[0m \u001b[31m7.8 MB/s\u001b[0m eta \u001b[36m0:00:00\u001b[0m\n",
      "\u001b[?25h  Preparing metadata (setup.py) ... \u001b[?25l\u001b[?25hdone\n",
      "Requirement already satisfied: joblib>=1 in /usr/local/lib/python3.11/dist-packages (from pymatgen>=2023.10.3->fairchem-core) (1.5.1)\n",
      "Collecting monty>=2025.1.9 (from pymatgen>=2023.10.3->fairchem-core)\n",
      "  Downloading monty-2025.3.3-py3-none-any.whl.metadata (3.6 kB)\n",
      "Requirement already satisfied: networkx>=2.7 in /usr/local/lib/python3.11/dist-packages (from pymatgen>=2023.10.3->fairchem-core) (3.5)\n",
      "Collecting palettable>=3.3.3 (from pymatgen>=2023.10.3->fairchem-core)\n",
      "  Downloading palettable-3.3.3-py2.py3-none-any.whl.metadata (3.3 kB)\n",
      "Requirement already satisfied: pandas>=2 in /usr/local/lib/python3.11/dist-packages (from pymatgen>=2023.10.3->fairchem-core) (2.2.2)\n",
      "Requirement already satisfied: plotly>=5.0.0 in /usr/local/lib/python3.11/dist-packages (from pymatgen>=2023.10.3->fairchem-core) (5.24.1)\n",
      "Collecting ruamel.yaml>=0.17.0 (from pymatgen>=2023.10.3->fairchem-core)\n",
      "  Downloading ruamel.yaml-0.18.14-py3-none-any.whl.metadata (24 kB)\n",
      "Collecting spglib>=2.5 (from pymatgen>=2023.10.3->fairchem-core)\n",
      "  Downloading spglib-2.6.0-cp311-cp311-manylinux_2_17_x86_64.manylinux2014_x86_64.whl.metadata (4.2 kB)\n",
      "Requirement already satisfied: tabulate>=0.9 in /usr/local/lib/python3.11/dist-packages (from pymatgen>=2023.10.3->fairchem-core) (0.9.0)\n",
      "Collecting uncertainties>=3.1.4 (from pymatgen>=2023.10.3->fairchem-core)\n",
      "  Downloading uncertainties-3.2.3-py3-none-any.whl.metadata (7.0 kB)\n",
      "Requirement already satisfied: charset-normalizer<4,>=2 in /usr/local/lib/python3.11/dist-packages (from requests->fairchem-core) (3.4.2)\n",
      "Requirement already satisfied: idna<4,>=2.5 in /usr/local/lib/python3.11/dist-packages (from requests->fairchem-core) (3.10)\n",
      "Requirement already satisfied: urllib3<3,>=1.21.1 in /usr/local/lib/python3.11/dist-packages (from requests->fairchem-core) (2.5.0)\n",
      "Requirement already satisfied: certifi>=2017.4.17 in /usr/local/lib/python3.11/dist-packages (from requests->fairchem-core) (2025.7.14)\n",
      "Requirement already satisfied: jinja2 in /usr/local/lib/python3.11/dist-packages (from torch~=2.6.0->fairchem-core) (3.1.6)\n",
      "Collecting nvidia-cuda-nvrtc-cu12==12.4.127 (from torch~=2.6.0->fairchem-core)\n",
      "  Downloading nvidia_cuda_nvrtc_cu12-12.4.127-py3-none-manylinux2014_x86_64.whl.metadata (1.5 kB)\n",
      "Collecting nvidia-cuda-runtime-cu12==12.4.127 (from torch~=2.6.0->fairchem-core)\n",
      "  Downloading nvidia_cuda_runtime_cu12-12.4.127-py3-none-manylinux2014_x86_64.whl.metadata (1.5 kB)\n",
      "Collecting nvidia-cuda-cupti-cu12==12.4.127 (from torch~=2.6.0->fairchem-core)\n",
      "  Downloading nvidia_cuda_cupti_cu12-12.4.127-py3-none-manylinux2014_x86_64.whl.metadata (1.6 kB)\n",
      "Collecting nvidia-cudnn-cu12==9.1.0.70 (from torch~=2.6.0->fairchem-core)\n",
      "  Downloading nvidia_cudnn_cu12-9.1.0.70-py3-none-manylinux2014_x86_64.whl.metadata (1.6 kB)\n",
      "Collecting nvidia-cublas-cu12==12.4.5.8 (from torch~=2.6.0->fairchem-core)\n",
      "  Downloading nvidia_cublas_cu12-12.4.5.8-py3-none-manylinux2014_x86_64.whl.metadata (1.5 kB)\n",
      "Collecting nvidia-cufft-cu12==11.2.1.3 (from torch~=2.6.0->fairchem-core)\n",
      "  Downloading nvidia_cufft_cu12-11.2.1.3-py3-none-manylinux2014_x86_64.whl.metadata (1.5 kB)\n",
      "Collecting nvidia-curand-cu12==10.3.5.147 (from torch~=2.6.0->fairchem-core)\n",
      "  Downloading nvidia_curand_cu12-10.3.5.147-py3-none-manylinux2014_x86_64.whl.metadata (1.5 kB)\n",
      "Collecting nvidia-cusolver-cu12==11.6.1.9 (from torch~=2.6.0->fairchem-core)\n",
      "  Downloading nvidia_cusolver_cu12-11.6.1.9-py3-none-manylinux2014_x86_64.whl.metadata (1.6 kB)\n",
      "Collecting nvidia-cusparse-cu12==12.3.1.170 (from torch~=2.6.0->fairchem-core)\n",
      "  Downloading nvidia_cusparse_cu12-12.3.1.170-py3-none-manylinux2014_x86_64.whl.metadata (1.6 kB)\n",
      "Requirement already satisfied: nvidia-cusparselt-cu12==0.6.2 in /usr/local/lib/python3.11/dist-packages (from torch~=2.6.0->fairchem-core) (0.6.2)\n",
      "Requirement already satisfied: nvidia-nccl-cu12==2.21.5 in /usr/local/lib/python3.11/dist-packages (from torch~=2.6.0->fairchem-core) (2.21.5)\n",
      "Requirement already satisfied: nvidia-nvtx-cu12==12.4.127 in /usr/local/lib/python3.11/dist-packages (from torch~=2.6.0->fairchem-core) (12.4.127)\n",
      "Collecting nvidia-nvjitlink-cu12==12.4.127 (from torch~=2.6.0->fairchem-core)\n",
      "  Downloading nvidia_nvjitlink_cu12-12.4.127-py3-none-manylinux2014_x86_64.whl.metadata (1.5 kB)\n",
      "Requirement already satisfied: triton==3.2.0 in /usr/local/lib/python3.11/dist-packages (from torch~=2.6.0->fairchem-core) (3.2.0)\n",
      "Requirement already satisfied: mpmath<1.4,>=1.1.0 in /usr/local/lib/python3.11/dist-packages (from sympy->e3nn>=0.5->fairchem-core) (1.3.0)\n",
      "Requirement already satisfied: omegaconf<2.4,>=2.2 in /usr/local/lib/python3.11/dist-packages (from hydra-core->fairchem-core) (2.3.0)\n",
      "Requirement already satisfied: antlr4-python3-runtime==4.9.* in /usr/local/lib/python3.11/dist-packages (from hydra-core->fairchem-core) (4.9.3)\n",
      "Requirement already satisfied: cloudpickle>=1.2.1 in /usr/local/lib/python3.11/dist-packages (from submitit->fairchem-core) (3.1.1)\n",
      "Requirement already satisfied: absl-py>=0.4 in /usr/local/lib/python3.11/dist-packages (from tensorboard->fairchem-core) (1.4.0)\n",
      "Requirement already satisfied: grpcio>=1.48.2 in /usr/local/lib/python3.11/dist-packages (from tensorboard->fairchem-core) (1.74.0)\n",
      "Requirement already satisfied: markdown>=2.6.8 in /usr/local/lib/python3.11/dist-packages (from tensorboard->fairchem-core) (3.8.2)\n",
      "Requirement already satisfied: protobuf!=4.24.0,>=3.19.6 in /usr/local/lib/python3.11/dist-packages (from tensorboard->fairchem-core) (5.29.5)\n",
      "Requirement already satisfied: setuptools>=41.0.0 in /usr/local/lib/python3.11/dist-packages (from tensorboard->fairchem-core) (75.2.0)\n",
      "Requirement already satisfied: six>1.9 in /usr/local/lib/python3.11/dist-packages (from tensorboard->fairchem-core) (1.17.0)\n",
      "Requirement already satisfied: tensorboard-data-server<0.8.0,>=0.7.0 in /usr/local/lib/python3.11/dist-packages (from tensorboard->fairchem-core) (0.7.2)\n",
      "Requirement already satisfied: werkzeug>=1.0.1 in /usr/local/lib/python3.11/dist-packages (from tensorboard->fairchem-core) (3.1.3)\n",
      "Requirement already satisfied: psutil in /usr/local/lib/python3.11/dist-packages (from torchtnt->fairchem-core) (5.9.5)\n",
      "Collecting pyre-extensions (from torchtnt->fairchem-core)\n",
      "  Downloading pyre_extensions-0.0.32-py3-none-any.whl.metadata (4.0 kB)\n",
      "Requirement already satisfied: click!=8.0.0,>=7.1 in /usr/local/lib/python3.11/dist-packages (from wandb->fairchem-core) (8.2.1)\n",
      "Requirement already satisfied: gitpython!=3.1.29,>=1.0.0 in /usr/local/lib/python3.11/dist-packages (from wandb->fairchem-core) (3.1.45)\n",
      "Requirement already satisfied: platformdirs in /usr/local/lib/python3.11/dist-packages (from wandb->fairchem-core) (4.3.8)\n",
      "Requirement already satisfied: pydantic<3 in /usr/local/lib/python3.11/dist-packages (from wandb->fairchem-core) (2.11.7)\n",
      "Requirement already satisfied: sentry-sdk>=2.0.0 in /usr/local/lib/python3.11/dist-packages (from wandb->fairchem-core) (2.33.2)\n",
      "Requirement already satisfied: pyparsing>=2.0.3 in /usr/local/lib/python3.11/dist-packages (from bibtexparser>=1.4.0->pymatgen>=2023.10.3->fairchem-core) (3.2.3)\n",
      "Requirement already satisfied: gitdb<5,>=4.0.1 in /usr/local/lib/python3.11/dist-packages (from gitpython!=3.1.29,>=1.0.0->wandb->fairchem-core) (4.0.12)\n",
      "Requirement already satisfied: contourpy>=1.0.1 in /usr/local/lib/python3.11/dist-packages (from matplotlib>=3.3.4->ase>=3.25.0->fairchem-core) (1.3.2)\n",
      "Requirement already satisfied: cycler>=0.10 in /usr/local/lib/python3.11/dist-packages (from matplotlib>=3.3.4->ase>=3.25.0->fairchem-core) (0.12.1)\n",
      "Requirement already satisfied: fonttools>=4.22.0 in /usr/local/lib/python3.11/dist-packages (from matplotlib>=3.3.4->ase>=3.25.0->fairchem-core) (4.59.0)\n",
      "Requirement already satisfied: kiwisolver>=1.3.1 in /usr/local/lib/python3.11/dist-packages (from matplotlib>=3.3.4->ase>=3.25.0->fairchem-core) (1.4.8)\n",
      "Requirement already satisfied: pillow>=8 in /usr/local/lib/python3.11/dist-packages (from matplotlib>=3.3.4->ase>=3.25.0->fairchem-core) (11.3.0)\n",
      "Requirement already satisfied: python-dateutil>=2.7 in /usr/local/lib/python3.11/dist-packages (from matplotlib>=3.3.4->ase>=3.25.0->fairchem-core) (2.9.0.post0)\n",
      "Requirement already satisfied: opt-einsum in /usr/local/lib/python3.11/dist-packages (from opt_einsum_fx>=0.1.4->e3nn>=0.5->fairchem-core) (3.4.0)\n",
      "Requirement already satisfied: pytz>=2020.1 in /usr/local/lib/python3.11/dist-packages (from pandas>=2->pymatgen>=2023.10.3->fairchem-core) (2025.2)\n",
      "Requirement already satisfied: tzdata>=2022.7 in /usr/local/lib/python3.11/dist-packages (from pandas>=2->pymatgen>=2023.10.3->fairchem-core) (2025.2)\n",
      "Requirement already satisfied: tenacity>=6.2.0 in /usr/local/lib/python3.11/dist-packages (from plotly>=5.0.0->pymatgen>=2023.10.3->fairchem-core) (8.5.0)\n",
      "Requirement already satisfied: annotated-types>=0.6.0 in /usr/local/lib/python3.11/dist-packages (from pydantic<3->wandb->fairchem-core) (0.7.0)\n",
      "Requirement already satisfied: pydantic-core==2.33.2 in /usr/local/lib/python3.11/dist-packages (from pydantic<3->wandb->fairchem-core) (2.33.2)\n",
      "Requirement already satisfied: typing-inspection>=0.4.0 in /usr/local/lib/python3.11/dist-packages (from pydantic<3->wandb->fairchem-core) (0.4.1)\n",
      "Collecting ruamel.yaml.clib>=0.2.7 (from ruamel.yaml>=0.17.0->pymatgen>=2023.10.3->fairchem-core)\n",
      "  Downloading ruamel.yaml.clib-0.2.12-cp311-cp311-manylinux_2_17_x86_64.manylinux2014_x86_64.whl.metadata (2.7 kB)\n",
      "Requirement already satisfied: MarkupSafe>=2.1.1 in /usr/local/lib/python3.11/dist-packages (from werkzeug>=1.0.1->tensorboard->fairchem-core) (3.0.2)\n",
      "Requirement already satisfied: cffi>=1.12 in /usr/local/lib/python3.11/dist-packages (from cryptography->ase-db-backends>=0.10.0->fairchem-core) (1.17.1)\n",
      "Collecting typing-inspect (from pyre-extensions->torchtnt->fairchem-core)\n",
      "  Downloading typing_inspect-0.9.0-py3-none-any.whl.metadata (1.5 kB)\n",
      "Requirement already satisfied: pycparser in /usr/local/lib/python3.11/dist-packages (from cffi>=1.12->cryptography->ase-db-backends>=0.10.0->fairchem-core) (2.22)\n",
      "Requirement already satisfied: smmap<6,>=3.0.1 in /usr/local/lib/python3.11/dist-packages (from gitdb<5,>=4.0.1->gitpython!=3.1.29,>=1.0.0->wandb->fairchem-core) (5.0.2)\n",
      "Collecting mypy-extensions>=0.3.0 (from typing-inspect->pyre-extensions->torchtnt->fairchem-core)\n",
      "  Downloading mypy_extensions-1.1.0-py3-none-any.whl.metadata (1.1 kB)\n",
      "Downloading fairchem_core-2.3.0-py3-none-any.whl (289 kB)\n",
      "\u001b[2K   \u001b[90m━━━━━━━━━━━━━━━━━━━━━━━━━━━━━━━━━━━━━━━━\u001b[0m \u001b[32m289.8/289.8 kB\u001b[0m \u001b[31m17.0 MB/s\u001b[0m eta \u001b[36m0:00:00\u001b[0m\n",
      "\u001b[?25hDownloading ase-3.25.0-py3-none-any.whl (3.0 MB)\n",
      "\u001b[2K   \u001b[90m━━━━━━━━━━━━━━━━━━━━━━━━━━━━━━━━━━━━━━━━\u001b[0m \u001b[32m3.0/3.0 MB\u001b[0m \u001b[31m33.2 MB/s\u001b[0m eta \u001b[36m0:00:00\u001b[0m\n",
      "\u001b[?25hDownloading ase_db_backends-0.10.0-py3-none-any.whl (42 kB)\n",
      "\u001b[2K   \u001b[90m━━━━━━━━━━━━━━━━━━━━━━━━━━━━━━━━━━━━━━━━\u001b[0m \u001b[32m42.9/42.9 kB\u001b[0m \u001b[31m5.8 MB/s\u001b[0m eta \u001b[36m0:00:00\u001b[0m\n",
      "\u001b[?25hDownloading e3nn-0.5.6-py3-none-any.whl (448 kB)\n",
      "\u001b[2K   \u001b[90m━━━━━━━━━━━━━━━━━━━━━━━━━━━━━━━━━━━━━━━━\u001b[0m \u001b[32m448.0/448.0 kB\u001b[0m \u001b[31m49.4 MB/s\u001b[0m eta \u001b[36m0:00:00\u001b[0m\n",
      "\u001b[?25hDownloading numba-0.61.2-cp311-cp311-manylinux2014_x86_64.manylinux_2_17_x86_64.whl (3.8 MB)\n",
      "\u001b[2K   \u001b[90m━━━━━━━━━━━━━━━━━━━━━━━━━━━━━━━━━━━━━━━━\u001b[0m \u001b[32m3.8/3.8 MB\u001b[0m \u001b[31m108.2 MB/s\u001b[0m eta \u001b[36m0:00:00\u001b[0m\n",
      "\u001b[?25hDownloading pymatgen-2025.6.14-cp311-cp311-manylinux_2_17_x86_64.manylinux2014_x86_64.whl (5.1 MB)\n",
      "\u001b[2K   \u001b[90m━━━━━━━━━━━━━━━━━━━━━━━━━━━━━━━━━━━━━━━━\u001b[0m \u001b[32m5.1/5.1 MB\u001b[0m \u001b[31m62.6 MB/s\u001b[0m eta \u001b[36m0:00:00\u001b[0m\n",
      "\u001b[?25hDownloading nvidia_cublas_cu12-12.4.5.8-py3-none-manylinux2014_x86_64.whl (363.4 MB)\n",
      "\u001b[2K   \u001b[90m━━━━━━━━━━━━━━━━━━━━━━━━━━━━━━━━━━━━━━━━\u001b[0m \u001b[32m363.4/363.4 MB\u001b[0m \u001b[31m3.9 MB/s\u001b[0m eta \u001b[36m0:00:00\u001b[0m\n",
      "\u001b[?25hDownloading nvidia_cuda_cupti_cu12-12.4.127-py3-none-manylinux2014_x86_64.whl (13.8 MB)\n",
      "\u001b[2K   \u001b[90m━━━━━━━━━━━━━━━━━━━━━━━━━━━━━━━━━━━━━━━━\u001b[0m \u001b[32m13.8/13.8 MB\u001b[0m \u001b[31m108.6 MB/s\u001b[0m eta \u001b[36m0:00:00\u001b[0m\n",
      "\u001b[?25hDownloading nvidia_cuda_nvrtc_cu12-12.4.127-py3-none-manylinux2014_x86_64.whl (24.6 MB)\n",
      "\u001b[2K   \u001b[90m━━━━━━━━━━━━━━━━━━━━━━━━━━━━━━━━━━━━━━━━\u001b[0m \u001b[32m24.6/24.6 MB\u001b[0m \u001b[31m41.7 MB/s\u001b[0m eta \u001b[36m0:00:00\u001b[0m\n",
      "\u001b[?25hDownloading nvidia_cuda_runtime_cu12-12.4.127-py3-none-manylinux2014_x86_64.whl (883 kB)\n",
      "\u001b[2K   \u001b[90m━━━━━━━━━━━━━━━━━━━━━━━━━━━━━━━━━━━━━━━━\u001b[0m \u001b[32m883.7/883.7 kB\u001b[0m \u001b[31m63.1 MB/s\u001b[0m eta \u001b[36m0:00:00\u001b[0m\n",
      "\u001b[?25hDownloading nvidia_cudnn_cu12-9.1.0.70-py3-none-manylinux2014_x86_64.whl (664.8 MB)\n",
      "\u001b[2K   \u001b[90m━━━━━━━━━━━━━━━━━━━━━━━━━━━━━━━━━━━━━━━━\u001b[0m \u001b[32m664.8/664.8 MB\u001b[0m \u001b[31m3.4 MB/s\u001b[0m eta \u001b[36m0:00:00\u001b[0m\n",
      "\u001b[?25hDownloading nvidia_cufft_cu12-11.2.1.3-py3-none-manylinux2014_x86_64.whl (211.5 MB)\n",
      "\u001b[2K   \u001b[90m━━━━━━━━━━━━━━━━━━━━━━━━━━━━━━━━━━━━━━━━\u001b[0m \u001b[32m211.5/211.5 MB\u001b[0m \u001b[31m5.4 MB/s\u001b[0m eta \u001b[36m0:00:00\u001b[0m\n",
      "\u001b[?25hDownloading nvidia_curand_cu12-10.3.5.147-py3-none-manylinux2014_x86_64.whl (56.3 MB)\n",
      "\u001b[2K   \u001b[90m━━━━━━━━━━━━━━━━━━━━━━━━━━━━━━━━━━━━━━━━\u001b[0m \u001b[32m56.3/56.3 MB\u001b[0m \u001b[31m17.5 MB/s\u001b[0m eta \u001b[36m0:00:00\u001b[0m\n",
      "\u001b[?25hDownloading nvidia_cusolver_cu12-11.6.1.9-py3-none-manylinux2014_x86_64.whl (127.9 MB)\n",
      "\u001b[2K   \u001b[90m━━━━━━━━━━━━━━━━━━━━━━━━━━━━━━━━━━━━━━━━\u001b[0m \u001b[32m127.9/127.9 MB\u001b[0m \u001b[31m8.2 MB/s\u001b[0m eta \u001b[36m0:00:00\u001b[0m\n",
      "\u001b[?25hDownloading nvidia_cusparse_cu12-12.3.1.170-py3-none-manylinux2014_x86_64.whl (207.5 MB)\n",
      "\u001b[2K   \u001b[90m━━━━━━━━━━━━━━━━━━━━━━━━━━━━━━━━━━━━━━━━\u001b[0m \u001b[32m207.5/207.5 MB\u001b[0m \u001b[31m5.5 MB/s\u001b[0m eta \u001b[36m0:00:00\u001b[0m\n",
      "\u001b[?25hDownloading nvidia_nvjitlink_cu12-12.4.127-py3-none-manylinux2014_x86_64.whl (21.1 MB)\n",
      "\u001b[2K   \u001b[90m━━━━━━━━━━━━━━━━━━━━━━━━━━━━━━━━━━━━━━━━\u001b[0m \u001b[32m21.1/21.1 MB\u001b[0m \u001b[31m81.0 MB/s\u001b[0m eta \u001b[36m0:00:00\u001b[0m\n",
      "\u001b[?25hDownloading clusterscope-0.0.10-py3-none-any.whl (10 kB)\n",
      "Downloading hydra_core-1.3.2-py3-none-any.whl (154 kB)\n",
      "\u001b[2K   \u001b[90m━━━━━━━━━━━━━━━━━━━━━━━━━━━━━━━━━━━━━━━━\u001b[0m \u001b[32m154.5/154.5 kB\u001b[0m \u001b[31m20.3 MB/s\u001b[0m eta \u001b[36m0:00:00\u001b[0m\n",
      "\u001b[?25hDownloading lmdb-1.7.3-cp311-cp311-manylinux_2_17_x86_64.manylinux2014_x86_64.whl (299 kB)\n",
      "\u001b[2K   \u001b[90m━━━━━━━━━━━━━━━━━━━━━━━━━━━━━━━━━━━━━━━━\u001b[0m \u001b[32m299.6/299.6 kB\u001b[0m \u001b[31m34.5 MB/s\u001b[0m eta \u001b[36m0:00:00\u001b[0m\n",
      "\u001b[?25hDownloading submitit-1.5.3-py3-none-any.whl (75 kB)\n",
      "\u001b[2K   \u001b[90m━━━━━━━━━━━━━━━━━━━━━━━━━━━━━━━━━━━━━━━━\u001b[0m \u001b[32m75.5/75.5 kB\u001b[0m \u001b[31m10.5 MB/s\u001b[0m eta \u001b[36m0:00:00\u001b[0m\n",
      "\u001b[?25hDownloading torchtnt-0.2.4-py3-none-any.whl (163 kB)\n",
      "\u001b[2K   \u001b[90m━━━━━━━━━━━━━━━━━━━━━━━━━━━━━━━━━━━━━━━━\u001b[0m \u001b[32m163.5/163.5 kB\u001b[0m \u001b[31m21.1 MB/s\u001b[0m eta \u001b[36m0:00:00\u001b[0m\n",
      "\u001b[?25hDownloading llvmlite-0.44.0-cp311-cp311-manylinux_2_17_x86_64.manylinux2014_x86_64.whl (42.4 MB)\n",
      "\u001b[2K   \u001b[90m━━━━━━━━━━━━━━━━━━━━━━━━━━━━━━━━━━━━━━━━\u001b[0m \u001b[32m42.4/42.4 MB\u001b[0m \u001b[31m14.0 MB/s\u001b[0m eta \u001b[36m0:00:00\u001b[0m\n",
      "\u001b[?25hDownloading monty-2025.3.3-py3-none-any.whl (51 kB)\n",
      "\u001b[2K   \u001b[90m━━━━━━━━━━━━━━━━━━━━━━━━━━━━━━━━━━━━━━━━\u001b[0m \u001b[32m51.9/51.9 kB\u001b[0m \u001b[31m6.2 MB/s\u001b[0m eta \u001b[36m0:00:00\u001b[0m\n",
      "\u001b[?25hDownloading opt_einsum_fx-0.1.4-py3-none-any.whl (13 kB)\n",
      "Downloading palettable-3.3.3-py2.py3-none-any.whl (332 kB)\n",
      "\u001b[2K   \u001b[90m━━━━━━━━━━━━━━━━━━━━━━━━━━━━━━━━━━━━━━━━\u001b[0m \u001b[32m332.3/332.3 kB\u001b[0m \u001b[31m37.8 MB/s\u001b[0m eta \u001b[36m0:00:00\u001b[0m\n",
      "\u001b[?25hDownloading ruamel.yaml-0.18.14-py3-none-any.whl (118 kB)\n",
      "\u001b[2K   \u001b[90m━━━━━━━━━━━━━━━━━━━━━━━━━━━━━━━━━━━━━━━━\u001b[0m \u001b[32m118.6/118.6 kB\u001b[0m \u001b[31m15.6 MB/s\u001b[0m eta \u001b[36m0:00:00\u001b[0m\n",
      "\u001b[?25hDownloading spglib-2.6.0-cp311-cp311-manylinux_2_17_x86_64.manylinux2014_x86_64.whl (809 kB)\n",
      "\u001b[2K   \u001b[90m━━━━━━━━━━━━━━━━━━━━━━━━━━━━━━━━━━━━━━━━\u001b[0m \u001b[32m809.0/809.0 kB\u001b[0m \u001b[31m51.9 MB/s\u001b[0m eta \u001b[36m0:00:00\u001b[0m\n",
      "\u001b[?25hDownloading uncertainties-3.2.3-py3-none-any.whl (60 kB)\n",
      "\u001b[2K   \u001b[90m━━━━━━━━━━━━━━━━━━━━━━━━━━━━━━━━━━━━━━━━\u001b[0m \u001b[32m60.1/60.1 kB\u001b[0m \u001b[31m7.9 MB/s\u001b[0m eta \u001b[36m0:00:00\u001b[0m\n",
      "\u001b[?25hDownloading psycopg2_binary-2.9.10-cp311-cp311-manylinux_2_17_x86_64.manylinux2014_x86_64.whl (3.0 MB)\n",
      "\u001b[2K   \u001b[90m━━━━━━━━━━━━━━━━━━━━━━━━━━━━━━━━━━━━━━━━\u001b[0m \u001b[32m3.0/3.0 MB\u001b[0m \u001b[31m109.5 MB/s\u001b[0m eta \u001b[36m0:00:00\u001b[0m\n",
      "\u001b[?25hDownloading PyMySQL-1.1.1-py3-none-any.whl (44 kB)\n",
      "\u001b[2K   \u001b[90m━━━━━━━━━━━━━━━━━━━━━━━━━━━━━━━━━━━━━━━━\u001b[0m \u001b[32m45.0/45.0 kB\u001b[0m \u001b[31m6.0 MB/s\u001b[0m eta \u001b[36m0:00:00\u001b[0m\n",
      "\u001b[?25hDownloading pyre_extensions-0.0.32-py3-none-any.whl (12 kB)\n",
      "Downloading ruamel.yaml.clib-0.2.12-cp311-cp311-manylinux_2_17_x86_64.manylinux2014_x86_64.whl (739 kB)\n",
      "\u001b[2K   \u001b[90m━━━━━━━━━━━━━━━━━━━━━━━━━━━━━━━━━━━━━━━━\u001b[0m \u001b[32m739.1/739.1 kB\u001b[0m \u001b[31m64.9 MB/s\u001b[0m eta \u001b[36m0:00:00\u001b[0m\n",
      "\u001b[?25hDownloading typing_inspect-0.9.0-py3-none-any.whl (8.8 kB)\n",
      "Downloading mypy_extensions-1.1.0-py3-none-any.whl (5.0 kB)\n",
      "Building wheels for collected packages: bibtexparser\n",
      "  Building wheel for bibtexparser (setup.py) ... \u001b[?25l\u001b[?25hdone\n",
      "  Created wheel for bibtexparser: filename=bibtexparser-1.4.3-py3-none-any.whl size=43549 sha256=25625bad91d4875ec45e0df76a09e1eb49346f03f5adc417d576ee8befbb8ced\n",
      "  Stored in directory: /root/.cache/pip/wheels/16/fb/76/306387739cf9d53b1c39b0c8aadbbb17dc05f256756d8fd915\n",
      "Successfully built bibtexparser\n",
      "Installing collected packages: lmdb, uncertainties, submitit, spglib, ruamel.yaml.clib, pymysql, psycopg2-binary, palettable, nvidia-nvjitlink-cu12, nvidia-curand-cu12, nvidia-cufft-cu12, nvidia-cuda-runtime-cu12, nvidia-cuda-nvrtc-cu12, nvidia-cuda-cupti-cu12, nvidia-cublas-cu12, mypy-extensions, llvmlite, clusterscope, bibtexparser, typing-inspect, ruamel.yaml, nvidia-cusparse-cu12, nvidia-cudnn-cu12, numba, hydra-core, pyre-extensions, nvidia-cusolver-cu12, monty, ase, pymatgen, ase-db-backends, torchtnt, opt_einsum_fx, e3nn, fairchem-core\n",
      "  Attempting uninstall: nvidia-nvjitlink-cu12\n",
      "    Found existing installation: nvidia-nvjitlink-cu12 12.5.82\n",
      "    Uninstalling nvidia-nvjitlink-cu12-12.5.82:\n",
      "      Successfully uninstalled nvidia-nvjitlink-cu12-12.5.82\n",
      "  Attempting uninstall: nvidia-curand-cu12\n",
      "    Found existing installation: nvidia-curand-cu12 10.3.6.82\n",
      "    Uninstalling nvidia-curand-cu12-10.3.6.82:\n",
      "      Successfully uninstalled nvidia-curand-cu12-10.3.6.82\n",
      "  Attempting uninstall: nvidia-cufft-cu12\n",
      "    Found existing installation: nvidia-cufft-cu12 11.2.3.61\n",
      "    Uninstalling nvidia-cufft-cu12-11.2.3.61:\n",
      "      Successfully uninstalled nvidia-cufft-cu12-11.2.3.61\n",
      "  Attempting uninstall: nvidia-cuda-runtime-cu12\n",
      "    Found existing installation: nvidia-cuda-runtime-cu12 12.5.82\n",
      "    Uninstalling nvidia-cuda-runtime-cu12-12.5.82:\n",
      "      Successfully uninstalled nvidia-cuda-runtime-cu12-12.5.82\n",
      "  Attempting uninstall: nvidia-cuda-nvrtc-cu12\n",
      "    Found existing installation: nvidia-cuda-nvrtc-cu12 12.5.82\n",
      "    Uninstalling nvidia-cuda-nvrtc-cu12-12.5.82:\n",
      "      Successfully uninstalled nvidia-cuda-nvrtc-cu12-12.5.82\n",
      "  Attempting uninstall: nvidia-cuda-cupti-cu12\n",
      "    Found existing installation: nvidia-cuda-cupti-cu12 12.5.82\n",
      "    Uninstalling nvidia-cuda-cupti-cu12-12.5.82:\n",
      "      Successfully uninstalled nvidia-cuda-cupti-cu12-12.5.82\n",
      "  Attempting uninstall: nvidia-cublas-cu12\n",
      "    Found existing installation: nvidia-cublas-cu12 12.5.3.2\n",
      "    Uninstalling nvidia-cublas-cu12-12.5.3.2:\n",
      "      Successfully uninstalled nvidia-cublas-cu12-12.5.3.2\n",
      "  Attempting uninstall: llvmlite\n",
      "    Found existing installation: llvmlite 0.43.0\n",
      "    Uninstalling llvmlite-0.43.0:\n",
      "      Successfully uninstalled llvmlite-0.43.0\n",
      "  Attempting uninstall: nvidia-cusparse-cu12\n",
      "    Found existing installation: nvidia-cusparse-cu12 12.5.1.3\n",
      "    Uninstalling nvidia-cusparse-cu12-12.5.1.3:\n",
      "      Successfully uninstalled nvidia-cusparse-cu12-12.5.1.3\n",
      "  Attempting uninstall: nvidia-cudnn-cu12\n",
      "    Found existing installation: nvidia-cudnn-cu12 9.3.0.75\n",
      "    Uninstalling nvidia-cudnn-cu12-9.3.0.75:\n",
      "      Successfully uninstalled nvidia-cudnn-cu12-9.3.0.75\n",
      "  Attempting uninstall: numba\n",
      "    Found existing installation: numba 0.60.0\n",
      "    Uninstalling numba-0.60.0:\n",
      "      Successfully uninstalled numba-0.60.0\n",
      "  Attempting uninstall: nvidia-cusolver-cu12\n",
      "    Found existing installation: nvidia-cusolver-cu12 11.6.3.83\n",
      "    Uninstalling nvidia-cusolver-cu12-11.6.3.83:\n",
      "      Successfully uninstalled nvidia-cusolver-cu12-11.6.3.83\n",
      "Successfully installed ase-3.25.0 ase-db-backends-0.10.0 bibtexparser-1.4.3 clusterscope-0.0.10 e3nn-0.5.6 fairchem-core-2.3.0 hydra-core-1.3.2 llvmlite-0.44.0 lmdb-1.7.3 monty-2025.3.3 mypy-extensions-1.1.0 numba-0.61.2 nvidia-cublas-cu12-12.4.5.8 nvidia-cuda-cupti-cu12-12.4.127 nvidia-cuda-nvrtc-cu12-12.4.127 nvidia-cuda-runtime-cu12-12.4.127 nvidia-cudnn-cu12-9.1.0.70 nvidia-cufft-cu12-11.2.1.3 nvidia-curand-cu12-10.3.5.147 nvidia-cusolver-cu12-11.6.1.9 nvidia-cusparse-cu12-12.3.1.170 nvidia-nvjitlink-cu12-12.4.127 opt_einsum_fx-0.1.4 palettable-3.3.3 psycopg2-binary-2.9.10 pymatgen-2025.6.14 pymysql-1.1.1 pyre-extensions-0.0.32 ruamel.yaml-0.18.14 ruamel.yaml.clib-0.2.12 spglib-2.6.0 submitit-1.5.3 torchtnt-0.2.4 typing-inspect-0.9.0 uncertainties-3.2.3\n"
     ]
    }
   ],
   "source": [
    "! pip install py3Dmol\n",
    "! pip install fairchem-core"
   ]
  },
  {
   "cell_type": "markdown",
   "metadata": {
    "id": "5VmO2vg3e_Bz"
   },
   "source": [
    "### Import libraries, pull CafChem from Github"
   ]
  },
  {
   "cell_type": "code",
   "execution_count": 13,
   "metadata": {
    "colab": {
     "base_uri": "https://localhost:8080/"
    },
    "id": "8z14e6RLgA0w",
    "outputId": "6b71c2c1-6ea7-4277-dc16-0a4535827adc"
   },
   "outputs": [
    {
     "name": "stdout",
     "output_type": "stream",
     "text": [
      "Cloning into 'CafChem'...\n",
      "remote: Enumerating objects: 610, done.\u001b[K\n",
      "remote: Counting objects: 100% (187/187), done.\u001b[K\n",
      "remote: Compressing objects: 100% (142/142), done.\u001b[K\n",
      "remote: Total 610 (delta 134), reused 45 (delta 45), pack-reused 423 (from 1)\u001b[K\n",
      "Receiving objects: 100% (610/610), 40.80 MiB | 33.27 MiB/s, done.\n",
      "Resolving deltas: 100% (352/352), done.\n"
     ]
    }
   ],
   "source": [
    "!git clone https://github.com/MauricioCafiero/CafChem.git"
   ]
  },
  {
   "cell_type": "code",
   "execution_count": 4,
   "metadata": {
    "colab": {
     "base_uri": "https://localhost:8080/"
    },
    "id": "3a76e239-bd0e-4783-9c3e-7eb5ca48caa4",
    "outputId": "6e7730fa-8064-430f-b4d0-d63d1f7ef0ca"
   },
   "outputs": [
    {
     "name": "stderr",
     "output_type": "stream",
     "text": [
      "WARNING:deepchem.feat.molecule_featurizers.rdkit_descriptors:No normalization for SPS. Feature removed!\n",
      "WARNING:deepchem.feat.molecule_featurizers.rdkit_descriptors:No normalization for AvgIpc. Feature removed!\n",
      "WARNING:deepchem.feat.molecule_featurizers.rdkit_descriptors:No normalization for NumAmideBonds. Feature removed!\n",
      "WARNING:deepchem.feat.molecule_featurizers.rdkit_descriptors:No normalization for NumAtomStereoCenters. Feature removed!\n",
      "WARNING:deepchem.feat.molecule_featurizers.rdkit_descriptors:No normalization for NumBridgeheadAtoms. Feature removed!\n",
      "WARNING:deepchem.feat.molecule_featurizers.rdkit_descriptors:No normalization for NumHeterocycles. Feature removed!\n",
      "WARNING:deepchem.feat.molecule_featurizers.rdkit_descriptors:No normalization for NumSpiroAtoms. Feature removed!\n",
      "WARNING:deepchem.feat.molecule_featurizers.rdkit_descriptors:No normalization for NumUnspecifiedAtomStereoCenters. Feature removed!\n",
      "WARNING:deepchem.feat.molecule_featurizers.rdkit_descriptors:No normalization for Phi. Feature removed!\n",
      "\u001b[34m\u001b[1mwandb\u001b[0m: \u001b[33mWARNING\u001b[0m W&B installed but not logged in.  Run `wandb login` or set the WANDB_API_KEY env variable.\n",
      "WARNING:tensorflow:From /usr/local/lib/python3.11/dist-packages/tensorflow/python/util/deprecation.py:588: calling function (from tensorflow.python.eager.polymorphic_function.polymorphic_function) with experimental_relax_shapes is deprecated and will be removed in a future version.\n",
      "Instructions for updating:\n",
      "experimental_relax_shapes is deprecated, use reduce_retracing instead\n",
      "\u001b[34m\u001b[1mwandb\u001b[0m: \u001b[33mWARNING\u001b[0m W&B installed but not logged in.  Run `wandb login` or set the WANDB_API_KEY env variable.\n",
      "WARNING:deepchem.models.torch_models:Skipped loading modules with pytorch-geometric dependency, missing a dependency. No module named 'torch_geometric'\n",
      "WARNING:deepchem.models:Skipped loading modules with pytorch-geometric dependency, missing a dependency. cannot import name 'DMPNN' from 'deepchem.models.torch_models' (/usr/local/lib/python3.11/dist-packages/deepchem/models/torch_models/__init__.py)\n",
      "WARNING:deepchem.models:Skipped loading modules with pytorch-lightning dependency, missing a dependency. No module named 'lightning'\n",
      "WARNING:deepchem.models:Skipped loading some Jax models, missing a dependency. No module named 'haiku'\n"
     ]
    },
    {
     "name": "stdout",
     "output_type": "stream",
     "text": [
      "2\n"
     ]
    }
   ],
   "source": [
    "import torch\n",
    "import os\n",
    "import numpy as np\n",
    "import pandas as pd\n",
    "import matplotlib.pyplot as plt\n",
    "from google.colab import files\n",
    "from fairchem.core import FAIRChemCalculator, pretrained_mlip\n",
    "import CafChem.CafChemReDock as ccr\n",
    "\n",
    "cpuCount = os.cpu_count()\n",
    "print(cpuCount)"
   ]
  },
  {
   "cell_type": "markdown",
   "metadata": {
    "id": "TgKnUxauwpRz"
   },
   "source": [
    "## Set-up Fairchem\n",
    "- Must have HF_TOKEN saved as a secret"
   ]
  },
  {
   "cell_type": "code",
   "execution_count": 5,
   "metadata": {
    "colab": {
     "base_uri": "https://localhost:8080/",
     "height": 0,
     "referenced_widgets": [
      "ed8e42b4dbf348abb0be9ac04a58b653",
      "e56b2f9ef44644f5a40968302588c9ef",
      "0df5718674124b02a9a4b3cb8a31195f",
      "e8c3f7f258a94d53a37990025efb08d9",
      "2e9588f5131a4017b98f47c35e13daed",
      "491cda66410147d9b33e4ada8f83a19a",
      "ed0bd69c57c944d2bced921e4e91ac03",
      "5801ddbe437d4d2d8552e323be4b14c0",
      "19241f7e9d624bb58a54ce87737bb498",
      "a5d6e5c44f214546b57c89f6eb777800",
      "3c84bc4bd9e84794a22f62d8760bd504",
      "b07c305311264313aa73095b95a10b19",
      "36417ed41d7d42c9b7501347ca45efa3",
      "eabbfa6746644bf496af74584eb69bd9",
      "eea2ac11269c40b9be390f28aabf3bc0",
      "98d730f2a97340d79343092fcf3f91cc",
      "ed7671db30ef484eaef8a776cd832f02",
      "55ab0a188a9d407ebe1a58278a4c0e20",
      "5882d71c1fba4095899a0bff306c370f",
      "509dcf51c59749e5af1fc741d2e38584",
      "f291cd40cd584e2baa6a69a70bf2af4e",
      "b304c3d745f14fc7820dfcc40a8de68a"
     ]
    },
    "id": "sgzL6rV-5VGH",
    "outputId": "ae1f66ce-fe68-42ad-ed7a-0c84665254a2"
   },
   "outputs": [
    {
     "data": {
      "application/vnd.jupyter.widget-view+json": {
       "model_id": "ed8e42b4dbf348abb0be9ac04a58b653",
       "version_major": 2,
       "version_minor": 0
      },
      "text/plain": [
       "checkpoints/uma-s-1.pt:   0%|          | 0.00/1.17G [00:00<?, ?B/s]"
      ]
     },
     "metadata": {},
     "output_type": "display_data"
    },
    {
     "data": {
      "application/vnd.jupyter.widget-view+json": {
       "model_id": "b07c305311264313aa73095b95a10b19",
       "version_major": 2,
       "version_minor": 0
      },
      "text/plain": [
       "iso_atom_elem_refs.yaml:   0%|          | 0.00/9.00k [00:00<?, ?B/s]"
      ]
     },
     "metadata": {},
     "output_type": "display_data"
    }
   ],
   "source": [
    "device = \"cuda\" if torch.cuda.is_available() else \"cpu\"\n",
    "\n",
    "predictor = pretrained_mlip.get_predict_unit(\"uma-s-1\", device=device)\n",
    "calculator = FAIRChemCalculator(predictor, task_name=\"omol\")\n",
    "model = \"UMA-OMOL\""
   ]
  },
  {
   "cell_type": "markdown",
   "metadata": {
    "id": "S2Ka4_RitpSL"
   },
   "source": [
    "# Calculations"
   ]
  },
  {
   "cell_type": "markdown",
   "metadata": {
    "id": "eBwY3jy1D0D9"
   },
   "source": [
    "## Dock molecules\n",
    "- tools available include ccr.dock_dataframe, ccr.dock_list and ccr.dock_smiles\n",
    "- for each you must supply as arguments the SMILES input (either a filename, a list, or a SMILES string), the target protein, and the number of CPU cores to use. For ccr.dock_dataframe, you must also provide the key for the SMILES column in the CSV file.\n",
    "- xyz structures can be visualized via the ccr.visualize_molecule tool. This accepts an XYZ string as an argument. This may be easily extracted from an XYZ file as seen below."
   ]
  },
  {
   "cell_type": "code",
   "execution_count": null,
   "metadata": {
    "colab": {
     "base_uri": "https://localhost:8080/"
    },
    "id": "sP4K9p3rj3dD",
    "outputId": "6faf2ec1-4603-44aa-d7af-36437358ce7e"
   },
   "outputs": [
    {
     "name": "stdout",
     "output_type": "stream",
     "text": [
      "===============================================\n",
      "Docking 1 molecules in HMGCR.\n",
      "Docking molecule 1.\n",
      "SDF file written for score -4.5\n",
      "[-4.5]\n"
     ]
    }
   ],
   "source": [
    "scores = ccr.dock_dataframe(\"file.csv\",\"HMGCR\",cpuCount, \"smiles\",)\n",
    "print(scores)"
   ]
  },
  {
   "cell_type": "code",
   "execution_count": null,
   "metadata": {
    "colab": {
     "base_uri": "https://localhost:8080/"
    },
    "id": "GUbcx-UAoLsK",
    "outputId": "251cd615-9606-4826-f090-f0d84701e09a"
   },
   "outputs": [
    {
     "name": "stdout",
     "output_type": "stream",
     "text": [
      "===============================================\n",
      "Docking 1 molecules in HMGCR.\n",
      "Docking molecule 1.\n",
      "SDF file written for score -4.5\n",
      "[-4.5]\n"
     ]
    }
   ],
   "source": [
    "df = pd.read_csv(\"file.csv\")\n",
    "smiles_list = df[\"smiles\"].tolist()\n",
    "scores = ccr.dock_list(smiles_list,\"HMGCR\",cpuCount)\n",
    "print(scores)"
   ]
  },
  {
   "cell_type": "code",
   "execution_count": 9,
   "metadata": {
    "colab": {
     "base_uri": "https://localhost:8080/"
    },
    "id": "DJK3mXwijJWx",
    "outputId": "b0041766-f1c3-4064-ac9f-061911158b93"
   },
   "outputs": [
    {
     "name": "stdout",
     "output_type": "stream",
     "text": [
      "===============================================\n",
      "Docking molecule.\n",
      "SDF file written for score -8.5\n",
      "score: -8.5\n"
     ]
    }
   ],
   "source": [
    "statin = \"OC(=O)C[C@H](O)C[C@H](O)\\C=C\\c1c(C(C)C)nc(N(C)S(=O)(=O)C)nc1c2ccc(F)cc2\"\n",
    "resveratrol  =\"Oc1ccc(cc1)\\C=C\\c2cc(O)cc(O)c2\"\n",
    "score = ccr.dock_smiles(resveratrol,\"DRD2\",cpuCount)\n",
    "print(f\"score: {score}\")"
   ]
  },
  {
   "cell_type": "markdown",
   "metadata": {
    "id": "UjG9tFVIfwVk"
   },
   "source": [
    "## Calculate interaction energies between a docking pose and the protein using Meta's UMA MLIP\n",
    "- If CafChem has an XYZ QM active site pepared for the protein, then the interaction between a ligand (SDF file) and the protein active site (from the library) may be calculated using Meta's UMA MLIP.\n",
    "- supply as arguments the name of the SDF file (without .sdf), the protein information (in the form ccr.[your protein]_data), the ASE calculator, ans the charge and spin multiplicty of the ligand.\n",
    "- returns a list of XYZ strings for the ligands in the input SDF files.\n",
    "- the XYZ strings may be visualized with the ccr.visualize_molecule tool, which accepts as its argument the XYZ string.\n",
    "- the complex XYZ file can be transformed into a G16 counterpoise input file using complexG16, which takes as its arguments the complex XYZ file, the target object, the ligand charge and the ligand spin multiplicity.\n",
    "- Test data: docking Rosuvastatin (\"OC(=O)C[C@H](O)C[C@H](O)\\C=C\\c1c(C(C)C)nc(N(C)S(=O)(=O)C)nc1c2ccc(F)cc2\") should give a score of -8.1. passing that SDF into the uma_interaction function with optimzation on should give an energy of -285 kcal/mol. Making a G16 file and running that as is (wB87XD/def2-tzvpp) should give a CP corrected interaction of -275 kcal/mol; a difference of only 3.5%."
   ]
  },
  {
   "cell_type": "code",
   "execution_count": null,
   "metadata": {
    "colab": {
     "base_uri": "https://localhost:8080/"
    },
    "id": "y22TbFguxAGo",
    "outputId": "05e74ee3-72d7-4e24-aa96-bb0970b3aa3a"
   },
   "outputs": [
    {
     "name": "stdout",
     "output_type": "stream",
     "text": [
      "The size of the complex is: 245\n",
      "Energy of complex is: -6116.220 ha\n",
      "The size of the ligand is: 29\n",
      "Energy of ligand is: -766.377 ha\n",
      "The size of the active site is: 216\n",
      "Energy of active site is: -5349.794 ha\n",
      "===========================================================\n",
      "Energy difference is: -30.501 kcal/mol\n"
     ]
    }
   ],
   "source": [
    "total_xyz = ccr.uma_interaction(\"trial_1\", ccr.DRD2_data, calculator, 0, 1, False)"
   ]
  },
  {
   "cell_type": "code",
   "execution_count": null,
   "metadata": {
    "colab": {
     "base_uri": "https://localhost:8080/"
    },
    "id": "6mi4OAes4gVK",
    "outputId": "690df3ee-03c5-431d-be48-138c92a7578f"
   },
   "outputs": [
    {
     "name": "stdout",
     "output_type": "stream",
     "text": [
      "The size of the complex is: 245\n",
      "      Step     Time          Energy          fmax\n",
      "BFGS:    0 15:45:15  -166430.928651        4.866301\n",
      "BFGS:    1 15:45:15  -166432.582790        6.651774\n",
      "BFGS:    2 15:45:16  -166434.612979        1.908395\n",
      "BFGS:    3 15:45:16  -166435.247077        1.086299\n",
      "BFGS:    4 15:45:17  -166436.100641        1.691052\n",
      "BFGS:    5 15:45:17  -166436.586570        1.570512\n",
      "BFGS:    6 15:45:18  -166436.911283        1.904616\n",
      "BFGS:    7 15:45:18  -166437.335115        2.254813\n",
      "BFGS:    8 15:45:19  -166438.167941        3.363757\n",
      "BFGS:    9 15:45:19  -166438.890375        3.532845\n",
      "BFGS:   10 15:45:20  -166440.174909        8.536960\n",
      "BFGS:   11 15:45:20  -166441.228078        2.831573\n",
      "BFGS:   12 15:45:20  -166441.778791        3.241074\n",
      "BFGS:   13 15:45:21  -166442.140051        1.445429\n",
      "BFGS:   14 15:45:21  -166442.305537        0.773789\n",
      "BFGS:   15 15:45:22  -166442.413109        0.773316\n",
      "BFGS:   16 15:45:22  -166442.463093        0.939834\n",
      "BFGS:   17 15:45:24  -166442.519748        0.915040\n",
      "BFGS:   18 15:45:24  -166442.598051        0.492082\n",
      "BFGS:   19 15:45:25  -166442.652459        0.559158\n",
      "BFGS:   20 15:45:26  -166442.729077        0.781989\n",
      "BFGS:   21 15:45:26  -166442.824124        1.167475\n",
      "BFGS:   22 15:45:26  -166442.923980        0.976535\n",
      "BFGS:   23 15:45:27  -166443.013002        0.627057\n",
      "BFGS:   24 15:45:27  -166443.085932        0.610182\n",
      "BFGS:   25 15:45:28  -166443.152011        0.722534\n",
      "BFGS:   26 15:45:28  -166443.213562        0.809435\n",
      "BFGS:   27 15:45:29  -166443.261403        0.649506\n",
      "BFGS:   28 15:45:29  -166443.292959        0.403428\n",
      "BFGS:   29 15:45:30  -166443.321554        0.363568\n",
      "BFGS:   30 15:45:30  -166443.356574        0.431469\n",
      "BFGS:   31 15:45:31  -166443.386237        0.478965\n",
      "BFGS:   32 15:45:31  -166443.419398        0.458502\n",
      "BFGS:   33 15:45:31  -166443.453328        0.413972\n",
      "BFGS:   34 15:45:32  -166443.493716        0.466576\n",
      "BFGS:   35 15:45:32  -166443.542972        0.496842\n",
      "BFGS:   36 15:45:33  -166443.600811        0.647499\n",
      "BFGS:   37 15:45:33  -166443.644285        0.723402\n",
      "BFGS:   38 15:45:34  -166443.705748        0.434507\n",
      "BFGS:   39 15:45:34  -166443.772687        0.573138\n",
      "BFGS:   40 15:45:35  -166443.819200        0.710851\n",
      "BFGS:   41 15:45:35  -166443.871360        0.410187\n",
      "BFGS:   42 15:45:37  -166443.913470        0.320779\n",
      "BFGS:   43 15:45:38  -166443.951017        0.494345\n",
      "BFGS:   44 15:45:38  -166443.978276        0.572701\n",
      "BFGS:   45 15:45:38  -166443.984321        0.943535\n",
      "BFGS:   46 15:45:39  -166444.033643        0.355356\n",
      "BFGS:   47 15:45:39  -166444.057289        0.227728\n",
      "BFGS:   48 15:45:40  -166444.092182        0.300949\n",
      "BFGS:   49 15:45:40  -166444.116052        0.330518\n",
      "BFGS:   50 15:45:41  -166444.143627        0.355791\n",
      "BFGS:   51 15:45:42  -166444.176094        0.349242\n",
      "BFGS:   52 15:45:42  -166444.198520        0.303879\n",
      "BFGS:   53 15:45:42  -166444.222925        0.387888\n",
      "BFGS:   54 15:45:43  -166444.244117        0.354281\n",
      "BFGS:   55 15:45:43  -166444.263258        0.386316\n",
      "BFGS:   56 15:45:44  -166444.281151        0.284211\n",
      "BFGS:   57 15:45:44  -166444.298286        0.217489\n",
      "BFGS:   58 15:45:45  -166444.312008        0.176999\n",
      "BFGS:   59 15:45:45  -166444.326097        0.196586\n",
      "BFGS:   60 15:45:46  -166444.342443        0.155519\n",
      "BFGS:   61 15:45:46  -166444.357990        0.280779\n",
      "BFGS:   62 15:45:47  -166444.371109        0.297852\n",
      "BFGS:   63 15:45:47  -166444.383798        0.187311\n",
      "BFGS:   64 15:45:47  -166444.397522        0.190538\n",
      "BFGS:   65 15:45:48  -166444.408209        0.229730\n",
      "BFGS:   66 15:45:49  -166444.420339        0.173190\n",
      "BFGS:   67 15:45:50  -166444.433136        0.146734\n",
      "BFGS:   68 15:45:51  -166444.442043        0.159144\n",
      "BFGS:   69 15:45:51  -166444.454593        0.152397\n",
      "BFGS:   70 15:45:51  -166444.468729        0.203682\n",
      "BFGS:   71 15:45:52  -166444.483503        0.244588\n",
      "BFGS:   72 15:45:53  -166444.498951        0.178228\n",
      "BFGS:   73 15:45:53  -166444.513059        0.201072\n",
      "BFGS:   74 15:45:54  -166444.524257        0.289626\n",
      "BFGS:   75 15:45:54  -166444.537271        0.174043\n",
      "BFGS:   76 15:45:55  -166444.553083        0.283264\n",
      "BFGS:   77 15:45:55  -166444.567144        0.247012\n",
      "BFGS:   78 15:45:56  -166444.578789        0.253798\n",
      "BFGS:   79 15:45:56  -166444.591850        0.127474\n",
      "BFGS:   80 15:45:56  -166444.601063        0.357032\n",
      "BFGS:   81 15:45:57  -166444.610996        0.241946\n",
      "BFGS:   82 15:45:57  -166444.619007        0.280567\n",
      "BFGS:   83 15:45:58  -166444.628879        0.183321\n",
      "BFGS:   84 15:45:58  -166444.634725        0.178601\n",
      "BFGS:   85 15:45:59  -166444.641918        0.127809\n",
      "BFGS:   86 15:45:59  -166444.649097        0.138291\n",
      "BFGS:   87 15:46:00  -166444.654779        0.145827\n",
      "BFGS:   88 15:46:00  -166444.660303        0.161046\n",
      "BFGS:   89 15:46:01  -166444.665922        0.163417\n",
      "BFGS:   90 15:46:02  -166444.671282        0.125716\n",
      "BFGS:   91 15:46:03  -166444.677210        0.086923\n",
      "Optimized energy of complex is: -6116.725 ha\n",
      "The size of the ligand is: 29\n",
      "Energy of ligand is: -766.402 ha\n",
      "The size of the active site is: 216\n",
      "Energy of active site is: -5350.253 ha\n",
      "===========================================================\n",
      "Energy difference is: -44.422 kcal/mol\n"
     ]
    }
   ],
   "source": [
    "total_xyz = ccr.uma_interaction(\"trial_1\", ccr.DRD2_data, calculator, 0, 1, True)"
   ]
  },
  {
   "cell_type": "code",
   "execution_count": null,
   "metadata": {
    "id": "hc45E9Y1BCV8"
   },
   "outputs": [],
   "source": [
    "ccr.complexG16(\"optimized_complex.xyz\",ccr.DRD2_data,0,1)"
   ]
  },
  {
   "cell_type": "code",
   "execution_count": null,
   "metadata": {
    "colab": {
     "base_uri": "https://localhost:8080/",
     "height": 417
    },
    "id": "NBBO9vnmry1d",
    "outputId": "8aa2112f-bc98-4b69-b5ff-5e4ea0bcf496"
   },
   "outputs": [
    {
     "data": {
      "application/3dmoljs_load.v0": "<div id=\"3dmolviewer_17511256170851383\"  style=\"position: relative; width: 800px; height: 400px;\">\n        <p id=\"3dmolwarning_17511256170851383\" style=\"background-color:#ffcccc;color:black\">3Dmol.js failed to load for some reason.  Please check your browser console for error messages.<br></p>\n        </div>\n<script>\n\nvar loadScriptAsync = function(uri){\n  return new Promise((resolve, reject) => {\n    //this is to ignore the existence of requirejs amd\n    var savedexports, savedmodule;\n    if (typeof exports !== 'undefined') savedexports = exports;\n    else exports = {}\n    if (typeof module !== 'undefined') savedmodule = module;\n    else module = {}\n\n    var tag = document.createElement('script');\n    tag.src = uri;\n    tag.async = true;\n    tag.onload = () => {\n        exports = savedexports;\n        module = savedmodule;\n        resolve();\n    };\n  var firstScriptTag = document.getElementsByTagName('script')[0];\n  firstScriptTag.parentNode.insertBefore(tag, firstScriptTag);\n});\n};\n\nif(typeof $3Dmolpromise === 'undefined') {\n$3Dmolpromise = null;\n  $3Dmolpromise = loadScriptAsync('https://cdn.jsdelivr.net/npm/3dmol@2.5.1/build/3Dmol-min.js');\n}\n\nvar viewer_17511256170851383 = null;\nvar warn = document.getElementById(\"3dmolwarning_17511256170851383\");\nif(warn) {\n    warn.parentNode.removeChild(warn);\n}\n$3Dmolpromise.then(function() {\nviewer_17511256170851383 = $3Dmol.createViewer(document.getElementById(\"3dmolviewer_17511256170851383\"),{backgroundColor:\"white\"});\nviewer_17511256170851383.zoomTo();\n\tviewer_17511256170851383.addModel(\"29\\n\\nC 10.74582570099977 7.1809968363470675 -6.808059553958607\\nC 11.116849304273385 7.748643506052474 -7.967668335699916\\nC 11.88627281090968 8.679323198578617 -2.9729257365527197\\nC 11.607378471155053 9.571572348824306 -4.012526608575533\\nC 11.233510603296578 9.091496117766388 -5.266616094273318\\nC 11.141525553319633 7.709917464188742 -5.494903788270954\\nC 11.395794641245853 6.817376395019736 -4.440334525312084\\nC 11.777241767672955 7.301497206379699 -3.186089779909849\\nO 12.268992997605322 9.158844781382777 -1.7261320775906106\\nC 10.686003025647171 7.227580695176818 -9.284276097003325\\nC 11.35871722707505 7.62317324368364 -10.453620570351251\\nC 10.94435514052388 7.145749952449015 -11.703409219992592\\nC 9.855320655161853 6.2732148200893025 -11.793736318940109\\nC 9.177871972504287 5.8836963778087314 -10.640667042608673\\nC 9.580922178524707 6.365094460885731 -9.396134648371099\\nO 11.623738379341233 7.543669027217028 -12.849058820783991\\nO 8.095679570743606 5.018153568149967 -10.741840781805372\\nH 10.23251521037993 6.230278990130723 -6.8013145520506555\\nH 11.760101970034983 8.620412324642858 -7.9541537801325335\\nH 11.679468883688486 10.639468840632235 -3.8493576051416927\\nH 11.006419159963677 9.801750139075335 -6.0515637013132775\\nH 11.315471402148553 5.74788475757079 -4.593173287267652\\nH 11.985895610233818 6.608423315408915 -2.3810236055164635\\nH 12.355640827983546 10.151691456690218 -1.5421578570563137\\nH 12.20472087003618 8.297437150470293 -10.395019009451286\\nH 9.535124861799872 5.899888797237505 -12.75849818193703\\nH 8.99116184749856 6.081820561731241 -8.537026943351588\\nH 11.350619401953585 7.216676203715029 -13.76856873681186\\nH 7.578578294689536 4.713654642601207 -9.925151389534735\\n\",\"xyz\");\n\tviewer_17511256170851383.setStyle({\"stick\": {}, \"sphere\": {\"radius\": 0.5}});\n\tviewer_17511256170851383.zoomTo();\nviewer_17511256170851383.render();\n});\n</script>",
      "text/html": [
       "<div id=\"3dmolviewer_17511256170851383\"  style=\"position: relative; width: 800px; height: 400px;\">\n",
       "        <p id=\"3dmolwarning_17511256170851383\" style=\"background-color:#ffcccc;color:black\">3Dmol.js failed to load for some reason.  Please check your browser console for error messages.<br></p>\n",
       "        </div>\n",
       "<script>\n",
       "\n",
       "var loadScriptAsync = function(uri){\n",
       "  return new Promise((resolve, reject) => {\n",
       "    //this is to ignore the existence of requirejs amd\n",
       "    var savedexports, savedmodule;\n",
       "    if (typeof exports !== 'undefined') savedexports = exports;\n",
       "    else exports = {}\n",
       "    if (typeof module !== 'undefined') savedmodule = module;\n",
       "    else module = {}\n",
       "\n",
       "    var tag = document.createElement('script');\n",
       "    tag.src = uri;\n",
       "    tag.async = true;\n",
       "    tag.onload = () => {\n",
       "        exports = savedexports;\n",
       "        module = savedmodule;\n",
       "        resolve();\n",
       "    };\n",
       "  var firstScriptTag = document.getElementsByTagName('script')[0];\n",
       "  firstScriptTag.parentNode.insertBefore(tag, firstScriptTag);\n",
       "});\n",
       "};\n",
       "\n",
       "if(typeof $3Dmolpromise === 'undefined') {\n",
       "$3Dmolpromise = null;\n",
       "  $3Dmolpromise = loadScriptAsync('https://cdn.jsdelivr.net/npm/3dmol@2.5.1/build/3Dmol-min.js');\n",
       "}\n",
       "\n",
       "var viewer_17511256170851383 = null;\n",
       "var warn = document.getElementById(\"3dmolwarning_17511256170851383\");\n",
       "if(warn) {\n",
       "    warn.parentNode.removeChild(warn);\n",
       "}\n",
       "$3Dmolpromise.then(function() {\n",
       "viewer_17511256170851383 = $3Dmol.createViewer(document.getElementById(\"3dmolviewer_17511256170851383\"),{backgroundColor:\"white\"});\n",
       "viewer_17511256170851383.zoomTo();\n",
       "\tviewer_17511256170851383.addModel(\"29\\n\\nC 10.74582570099977 7.1809968363470675 -6.808059553958607\\nC 11.116849304273385 7.748643506052474 -7.967668335699916\\nC 11.88627281090968 8.679323198578617 -2.9729257365527197\\nC 11.607378471155053 9.571572348824306 -4.012526608575533\\nC 11.233510603296578 9.091496117766388 -5.266616094273318\\nC 11.141525553319633 7.709917464188742 -5.494903788270954\\nC 11.395794641245853 6.817376395019736 -4.440334525312084\\nC 11.777241767672955 7.301497206379699 -3.186089779909849\\nO 12.268992997605322 9.158844781382777 -1.7261320775906106\\nC 10.686003025647171 7.227580695176818 -9.284276097003325\\nC 11.35871722707505 7.62317324368364 -10.453620570351251\\nC 10.94435514052388 7.145749952449015 -11.703409219992592\\nC 9.855320655161853 6.2732148200893025 -11.793736318940109\\nC 9.177871972504287 5.8836963778087314 -10.640667042608673\\nC 9.580922178524707 6.365094460885731 -9.396134648371099\\nO 11.623738379341233 7.543669027217028 -12.849058820783991\\nO 8.095679570743606 5.018153568149967 -10.741840781805372\\nH 10.23251521037993 6.230278990130723 -6.8013145520506555\\nH 11.760101970034983 8.620412324642858 -7.9541537801325335\\nH 11.679468883688486 10.639468840632235 -3.8493576051416927\\nH 11.006419159963677 9.801750139075335 -6.0515637013132775\\nH 11.315471402148553 5.74788475757079 -4.593173287267652\\nH 11.985895610233818 6.608423315408915 -2.3810236055164635\\nH 12.355640827983546 10.151691456690218 -1.5421578570563137\\nH 12.20472087003618 8.297437150470293 -10.395019009451286\\nH 9.535124861799872 5.899888797237505 -12.75849818193703\\nH 8.99116184749856 6.081820561731241 -8.537026943351588\\nH 11.350619401953585 7.216676203715029 -13.76856873681186\\nH 7.578578294689536 4.713654642601207 -9.925151389534735\\n\",\"xyz\");\n",
       "\tviewer_17511256170851383.setStyle({\"stick\": {}, \"sphere\": {\"radius\": 0.5}});\n",
       "\tviewer_17511256170851383.zoomTo();\n",
       "viewer_17511256170851383.render();\n",
       "});\n",
       "</script>"
      ]
     },
     "metadata": {},
     "output_type": "display_data"
    }
   ],
   "source": [
    "ccr.visualize_molecule(total_xyz[1][0])"
   ]
  },
  {
   "cell_type": "code",
   "execution_count": null,
   "metadata": {
    "colab": {
     "base_uri": "https://localhost:8080/",
     "height": 417
    },
    "id": "mgPDPjwvCVfX",
    "outputId": "6fced8ec-790a-4580-b44d-8ede64ee0605"
   },
   "outputs": [
    {
     "data": {
      "application/3dmoljs_load.v0": "<div id=\"3dmolviewer_17511256252499053\"  style=\"position: relative; width: 800px; height: 400px;\">\n        <p id=\"3dmolwarning_17511256252499053\" style=\"background-color:#ffcccc;color:black\">3Dmol.js failed to load for some reason.  Please check your browser console for error messages.<br></p>\n        </div>\n<script>\n\nvar loadScriptAsync = function(uri){\n  return new Promise((resolve, reject) => {\n    //this is to ignore the existence of requirejs amd\n    var savedexports, savedmodule;\n    if (typeof exports !== 'undefined') savedexports = exports;\n    else exports = {}\n    if (typeof module !== 'undefined') savedmodule = module;\n    else module = {}\n\n    var tag = document.createElement('script');\n    tag.src = uri;\n    tag.async = true;\n    tag.onload = () => {\n        exports = savedexports;\n        module = savedmodule;\n        resolve();\n    };\n  var firstScriptTag = document.getElementsByTagName('script')[0];\n  firstScriptTag.parentNode.insertBefore(tag, firstScriptTag);\n});\n};\n\nif(typeof $3Dmolpromise === 'undefined') {\n$3Dmolpromise = null;\n  $3Dmolpromise = loadScriptAsync('https://cdn.jsdelivr.net/npm/3dmol@2.5.1/build/3Dmol-min.js');\n}\n\nvar viewer_17511256252499053 = null;\nvar warn = document.getElementById(\"3dmolwarning_17511256252499053\");\nif(warn) {\n    warn.parentNode.removeChild(warn);\n}\n$3Dmolpromise.then(function() {\nviewer_17511256252499053 = $3Dmol.createViewer(document.getElementById(\"3dmolviewer_17511256252499053\"),{backgroundColor:\"white\"});\nviewer_17511256252499053.zoomTo();\n\tviewer_17511256252499053.addModel(\"245\\n\\nN       3.751000000000000     11.117000000000001     -7.674000000000000\\nC       4.656000000000000      9.978999999999999     -7.455000000000000\\nC       5.892000000000000     10.350000000000000     -6.680000000000000\\nO       6.132521350000000      9.795731130000000     -5.576140380000000\\nC       4.970000000000000      9.236000000000001     -8.766999999999999\\nC       6.026000000000000      8.173000000000000     -8.554000000000000\\nO       5.829000000000000      7.343000000000000     -7.691000000000000\\nO       7.058000000000000      8.276999999999999     -9.183999999999999\\nH       3.509000000000000     11.327999999999999     -8.631000000000000\\nN       6.407000000000000      9.744999999999999     -2.397000000000000\\nC       7.599000000000000      8.946000000000000     -2.081000000000000\\nC       8.692000000000000      9.727000000000000     -1.355000000000000\\nO       9.358000000000001      9.217000000000001     -0.476000000000000\\nC       8.153000000000000      8.247999999999999     -3.336000000000000\\nS       7.066000000000000      6.892000000000000     -3.908000000000000\\nH       6.328000000000000     10.103999999999999     -3.339000000000000\\nH       6.775000000000000      7.380000000000000     -5.119000000000000\\nN       8.891999999999999     11.012000000000000     -1.725000000000000\\nC       9.788000000000000     11.949000000000000     -1.022000000000000\\nC       9.337999999999999     12.156000000000001      0.413000000000000\\nO      10.186590320000001     12.174698540000000      1.342040040000000\\nC       9.951000000000001     13.323000000000000     -1.731000000000000\\nC      11.022000000000000     14.201000000000001     -1.055000000000000\\nO      10.385999999999999     13.150000000000000     -3.076000000000000\\nH       8.319000000000001     11.394000000000000     -2.463000000000000\\nH       9.685000000000000     12.712000000000000     -3.594000000000000\\nN      10.520000000000000      9.361000000000001      2.555000000000000\\nC      11.954000000000001      9.573000000000000      2.830000000000000\\nC      12.215000000000000     10.596000000000000      3.929000000000000\\nO      13.006719750000000     10.322449910000000      4.868106350000000\\nC      12.721000000000000      9.962999999999999      1.544000000000000\\nH      10.204000000000001      9.561000000000000      1.616000000000000\\nN       9.071999999999999     13.058000000000000    -16.983000000000001\\nC       9.827999999999999     11.798000000000000    -16.952999999999999\\nC      10.733000000000001     11.603000000000000    -18.164999999999999\\nO      11.809972510000000     10.962403780000001    -18.049512979999999\\nC       8.912000000000001     10.581000000000000    -16.673999999999999\\nC       9.709000000000000      9.470000000000001    -15.946000000000000\\nC       8.182000000000000     10.054000000000000    -17.934000000000001\\nC       8.814000000000000      8.358000000000001    -15.369000000000000\\nH       8.066000000000001     13.010999999999999    -17.027999999999999\\nN      15.581000000000000     14.494999999999999    -15.087999999999999\\nC      14.613000000000000     13.951000000000001    -14.117000000000001\\nC      15.215000000000000     12.900000000000000    -13.202999999999999\\nO      15.037285839999999     12.971423970000000    -11.959260940000000\\nC      13.324999999999999     13.414000000000000    -14.781000000000001\\nC      12.396000000000001     12.739000000000001    -13.784000000000001\\nC      11.696000000000000     13.506000000000000    -12.871000000000000\\nC      12.282000000000000     11.347000000000000    -13.746000000000000\\nC      10.884000000000000     12.898999999999999    -11.913000000000000\\nC      11.474000000000000     10.734999999999999    -12.789000000000000\\nC      10.773999999999999     11.510999999999999    -11.872999999999999\\nH      15.352000000000000     14.409000000000001    -16.068000000000001\\nN      15.551000000000000     13.827999999999999     -3.909000000000000\\nC      14.458000000000000     13.095000000000001     -3.253000000000000\\nC      14.877000000000001     11.839000000000000     -2.506000000000000\\nO      14.087723770000000     11.301614300000001     -1.686347510000000\\nC      13.307000000000000     12.741000000000000     -4.212000000000000\\nO      12.728999999999999     13.930999999999999     -4.742000000000000\\nH      15.619999999999999     13.765000000000001     -4.914000000000000\\nH      12.209000000000000     14.327000000000000     -4.017000000000000\\nN      13.909000000000001      0.331000000000000     -1.999000000000000\\nC      14.146000000000001      1.367000000000000     -3.018000000000000\\nC      15.528000000000000      1.285000000000000     -3.644000000000000\\nO      15.721964050000000      1.737277560000000     -4.802185440000000\\nC      13.875000000000000      2.794000000000000     -2.491000000000000\\nC      12.395000000000000      3.104000000000000     -2.539000000000000\\nC      11.609999999999999      3.219000000000000     -1.410000000000000\\nC      11.529000000000000      3.307000000000000     -3.665000000000000\\nC      10.284000000000001      3.549000000000000     -3.153000000000000\\nC      11.722000000000000      3.240000000000000     -5.051000000000000\\nN      10.300000000000001      3.464000000000000     -1.807000000000000\\nC       9.173999999999999      3.776000000000000     -3.957000000000000\\nC      10.613000000000000      3.447000000000000     -5.881000000000000\\nC       9.345000000000001      3.718000000000000     -5.342000000000000\\nH      14.113000000000000      0.564000000000000     -1.037000000000000\\nH       9.484000000000000      3.416000000000000     -1.213000000000000\\nN      16.114000000000001     -0.316000000000000     -7.186000000000000\\nC      15.554000000000000      0.660000000000000     -8.140000000000001\\nC      16.558000000000000      1.720000000000000     -8.557000000000000\\nO      16.808000000000000      1.951000000000000     -9.723000000000001\\nC      14.252000000000001      1.306000000000000     -7.606000000000000\\nC      13.648000000000000      2.328000000000000     -8.547000000000001\\nC      12.955000000000000      1.907000000000000     -9.680000000000000\\nC      13.784000000000001      3.695000000000000     -8.287000000000001\\nC      12.406000000000001      2.848000000000000    -10.547000000000001\\nC      13.222000000000000      4.634000000000000     -9.148999999999999\\nC      12.531000000000001      4.208000000000000    -10.279999999999999\\nN      17.103000000000002      2.450000000000000     -7.562000000000000\\nC      18.074999999999999      3.519000000000000     -7.804000000000000\\nC      19.405000000000001      3.025000000000000     -8.332000000000001\\nO      20.069293340000002      3.737136630000000     -9.128960690000000\\nC      18.274000000000001      4.433000000000000     -6.585000000000000\\nC      17.036000000000001      5.258000000000000     -6.300000000000000\\nC      16.770000000000000      6.389000000000000     -7.067000000000000\\nC      16.140000000000001      4.878000000000000     -5.307000000000000\\nC      15.612000000000000      7.133000000000000     -6.855000000000000\\nC      14.962000000000000      5.595000000000000     -5.116000000000000\\nC      14.699000000000000      6.726000000000000     -5.885000000000000\\nH      16.866000000000000      2.235000000000000     -6.605000000000000\\nN      10.856000000000000     -1.209000000000000     -9.602000000000000\\nC       9.852000000000000     -0.157000000000000     -9.414000000000000\\nC       8.750999999999999     -0.609000000000000     -8.455000000000000\\nO       8.453951340000000      0.100305230000000     -7.458898220000000\\nC       9.257000000000000      0.337000000000000    -10.757000000000000\\nC       8.432000000000000      1.619000000000000    -10.535000000000000\\nO      10.287000000000001      0.654000000000000    -11.702000000000000\\nH      10.913000000000000     -1.646000000000000    -10.510999999999999\\nH      10.789000000000000     -0.143000000000000    -11.954000000000001\\nN       7.355000000000000      0.507000000000000     -4.430000000000000\\nC       5.953000000000000      0.723000000000000     -4.024000000000000\\nC       5.447000000000000     -0.235000000000000     -2.951000000000000\\nO       4.560596420000000      0.139809850000000     -2.140212210000000\\nC       4.987000000000000      0.690000000000000     -5.225000000000000\\nC       5.230000000000000      1.791000000000000     -6.249000000000000\\nC       5.258000000000000      3.134000000000000     -5.864000000000000\\nC       5.365000000000000      1.466000000000000     -7.599000000000000\\nC       5.419000000000000      4.137000000000000     -6.817000000000000\\nC       5.512000000000000      2.470000000000000     -8.553000000000001\\nC       5.540000000000000      3.806000000000000     -8.166000000000000\\nO       5.662000000000000      4.772000000000000     -9.119999999999999\\nH       5.723000000000000      5.654000000000000     -8.707000000000001\\nH       5.398303800000000      9.959301210000000     -9.429035660000000\\nH       4.074170910000000      8.720914240000001     -9.044627280000000\\nH       4.129775340000000      9.287650650000000     -6.830481240000000\\nH       2.890199430000000     10.855034420000001     -7.237655620000000\\nH       9.073088600000000      7.788625290000000     -3.040514210000000\\nH       8.147548810000000      8.983152179999999     -4.113445530000000\\nH       7.270014330000000      8.197541180000000     -1.390726270000000\\nH       5.636525480000000      9.116184700000000     -2.292308400000000\\nH       8.989941809999999     13.790352260000001     -1.677623730000000\\nH      11.304356050000001     14.992532420000000     -1.717307700000000\\nH      10.625153450000001     14.615922870000000     -0.152087030000000\\nH      11.880109520000000     13.604159559999999     -0.826243500000000\\nH      10.751970770000000     11.484854710000000     -1.037149470000000\\nH      13.618419790000001     10.482623170000000      1.807684430000000\\nH      12.969053810000000      9.078904359999999      0.994687510000000\\nH      12.105922460000000     10.597165380000000      0.940332960000000\\nH      12.321425209999999      8.633637300000000      3.187066430000000\\nH      10.371195710000000      8.379901320000000      2.678703950000000\\nH       8.128369160000000     10.916384669999999    -16.027208049999999\\nH       7.467155280000000      9.268549650000001    -18.064248849999998\\nH       8.802028549999999      9.208951989999999    -17.718689860000001\\nH       7.351510740000000     10.477721460000000    -17.408978370000000\\nH      10.170725980000000      9.942511170000000    -15.104309850000000\\nH      10.313247140000000      9.002377660000001    -16.695075920000001\\nH       9.297515830000000      7.411386060000000    -15.491615240000000\\nH       8.645165380000000      8.540104930000000    -14.328215360000000\\nH       7.877323610000000      8.349706060000001    -15.886173630000000\\nH      10.498468830000000     11.871839939999999    -16.122386250000002\\nH       9.269188890000001     13.496214650000001    -16.106025389999999\\nH      13.637513830000000     12.649418630000000    -15.461184120000000\\nH      12.798332690000001     14.271312150000000    -15.145056889999999\\nH      12.816692520000000     10.748704699999999    -14.453846479999999\\nH      11.777765490000000     14.572488690000000    -12.899570440000000\\nH      11.392827680000000      9.668484830000001    -12.759735030000000\\nH      10.345957130000000     13.499176080000000    -11.209296549999999\\nH      10.151949869999999     11.043337290000000    -11.138666810000000\\nH      14.338945389999999     14.789058140000000    -13.510821290000001\\nH      16.408537440000000     13.947195510000000    -14.965150370000000\\nH      12.549855020000001     12.269062269999999     -3.621317120000000\\nH      13.744822980000000     12.218948120000000     -5.037029020000000\\nH      14.115573290000000     13.799050449999999     -2.523646240000000\\nH      15.364475860000001     14.792544830000001     -3.722286250000000\\nH      14.349848550000001      3.466755370000000     -3.174241590000000\\nH      14.153611610000000      2.795636630000000     -1.457911000000000\\nH      11.951633540000000      3.133999790000000     -0.399573610000000\\nH      12.688200080000000      3.036673080000000     -5.463329450000000\\nH      10.733931150000000      3.397843950000000     -6.943007220000000\\nH       8.217059230000000      3.988822830000000     -3.528198400000000\\nH       8.510457680000000      3.879938530000000     -5.991780760000000\\nH      13.433927080000000      1.160880350000000     -3.789600190000000\\nH      12.922935239999999      0.166220640000000     -2.021892130000000\\nH      14.533467790000000      1.847910410000000     -6.727359580000000\\nH      13.537773890000000      0.512085210000000     -7.539064400000000\\nH      12.844882999999999      0.862314630000000     -9.883486420000001\\nH      14.322304630000000      4.021479370000000     -7.421818320000000\\nH      11.885048919999999      2.523618460000000    -11.423519590000000\\nH      13.321097090000000      5.679198960000000     -8.942508110000000\\nH      12.096231130000000      4.925943660000000    -10.943651210000001\\nH      15.308511590000000      0.103058940000000     -9.020029600000001\\nH      17.051015150000001     -0.009508890000000     -7.018471480000000\\nH      15.947097990000000     -1.210998980000000     -7.599667200000000\\nH      19.043320930000000      5.127162720000000     -6.851802200000000\\nH      18.405340679999998      3.786592150000000     -5.742499840000000\\nH      17.461542489999999      6.689338790000000     -7.826253310000000\\nH      16.356384850000001      4.032407150000000     -4.688089400000000\\nH      15.424583340000000      8.012852170000000     -7.434340270000000\\nH      14.257099050000001      5.276417940000000     -4.376730000000000\\nH      13.797359830000000      7.281173170000000     -5.730961820000000\\nH      17.635340820000000      4.107462140000000     -8.582018070000000\\nH       8.645533320000000     -0.455103670000000    -11.135919890000000\\nH       8.466499410000001      2.222678430000000    -11.417769590000001\\nH       7.416741790000000      1.357268370000000    -10.321347670000000\\nH       8.839765900000000      2.167449430000000     -9.711695570000000\\nH      10.356060890000000      0.677273300000000     -8.972626370000000\\nH      11.736554040000000     -0.751212160000000     -9.479301670000000\\nH       4.014094820000000      0.877780010000000     -4.821150790000000\\nH       5.186638510000000     -0.229857970000000     -5.733827850000000\\nH       5.155155830000000      3.393400180000000     -4.831026320000000\\nH       5.355556210000000      0.440145310000000     -7.903027900000000\\nH       5.449852520000000      5.162592730000000     -6.513507540000000\\nH       5.603754070000000      2.212805260000000     -9.587568539999999\\nH       5.963157890000000      1.702227420000000     -3.592826630000000\\nH       7.656824430000000     -0.290361410000000     -3.907394230000000\\nH       7.803102740000000      1.391000730000000     -4.296783480000000\\nH      15.790619690000000     12.098136430000000    -13.616009419999999\\nH      10.452198500000000     12.010881230000001    -19.113516430000001\\nH      15.843019480000001     11.411908739999999     -2.677170740000000\\nH       8.299278989999999     12.286002060000000      0.634490710000000\\nH       6.566057170000000     11.085000010000000     -7.067713720000000\\nH      11.725064679999999     11.546863190000000      3.902119320000000\\nH      16.336325550000002      0.842687560000000     -3.100061110000000\\nH       5.845629250000000     -1.225937780000000     -2.887462250000000\\nH      19.780218609999999      2.070315740000000     -8.027551369999999\\nH       8.232819500000000     -1.528535700000000     -8.630621959999999\\nC      10.745825700999770      7.180996836347068     -6.808059553958607\\nC      11.116849304273385      7.748643506052474     -7.967668335699916\\nC      11.886272810909681      8.679323198578617     -2.972925736552720\\nC      11.607378471155053      9.571572348824306     -4.012526608575533\\nC      11.233510603296578      9.091496117766388     -5.266616094273318\\nC      11.141525553319633      7.709917464188742     -5.494903788270954\\nC      11.395794641245853      6.817376395019736     -4.440334525312084\\nC      11.777241767672955      7.301497206379699     -3.186089779909849\\nO      12.268992997605322      9.158844781382777     -1.726132077590611\\nC      10.686003025647171      7.227580695176818     -9.284276097003325\\nC      11.358717227075051      7.623173243683640    -10.453620570351251\\nC      10.944355140523880      7.145749952449015    -11.703409219992592\\nC       9.855320655161853      6.273214820089303    -11.793736318940109\\nC       9.177871972504287      5.883696377808731    -10.640667042608673\\nC       9.580922178524707      6.365094460885731     -9.396134648371099\\nO      11.623738379341233      7.543669027217028    -12.849058820783991\\nO       8.095679570743606      5.018153568149967    -10.741840781805372\\nH      10.232515210379930      6.230278990130723     -6.801314552050655\\nH      11.760101970034983      8.620412324642858     -7.954153780132533\\nH      11.679468883688486     10.639468840632235     -3.849357605141693\\nH      11.006419159963677      9.801750139075335     -6.051563701313277\\nH      11.315471402148553      5.747884757570790     -4.593173287267652\\nH      11.985895610233818      6.608423315408915     -2.381023605516464\\nH      12.355640827983546     10.151691456690218     -1.542157857056314\\nH      12.204720870036180      8.297437150470293    -10.395019009451286\\nH       9.535124861799872      5.899888797237505    -12.758498181937030\\nH       8.991161847498560      6.081820561731241     -8.537026943351588\\nH      11.350619401953585      7.216676203715029    -13.768568736811860\\nH       7.578578294689536      4.713654642601207     -9.925151389534735\\n\",\"xyz\");\n\tviewer_17511256252499053.setStyle({\"stick\": {}, \"sphere\": {\"radius\": 0.5}});\n\tviewer_17511256252499053.zoomTo();\nviewer_17511256252499053.render();\n});\n</script>",
      "text/html": [
       "<div id=\"3dmolviewer_17511256252499053\"  style=\"position: relative; width: 800px; height: 400px;\">\n",
       "        <p id=\"3dmolwarning_17511256252499053\" style=\"background-color:#ffcccc;color:black\">3Dmol.js failed to load for some reason.  Please check your browser console for error messages.<br></p>\n",
       "        </div>\n",
       "<script>\n",
       "\n",
       "var loadScriptAsync = function(uri){\n",
       "  return new Promise((resolve, reject) => {\n",
       "    //this is to ignore the existence of requirejs amd\n",
       "    var savedexports, savedmodule;\n",
       "    if (typeof exports !== 'undefined') savedexports = exports;\n",
       "    else exports = {}\n",
       "    if (typeof module !== 'undefined') savedmodule = module;\n",
       "    else module = {}\n",
       "\n",
       "    var tag = document.createElement('script');\n",
       "    tag.src = uri;\n",
       "    tag.async = true;\n",
       "    tag.onload = () => {\n",
       "        exports = savedexports;\n",
       "        module = savedmodule;\n",
       "        resolve();\n",
       "    };\n",
       "  var firstScriptTag = document.getElementsByTagName('script')[0];\n",
       "  firstScriptTag.parentNode.insertBefore(tag, firstScriptTag);\n",
       "});\n",
       "};\n",
       "\n",
       "if(typeof $3Dmolpromise === 'undefined') {\n",
       "$3Dmolpromise = null;\n",
       "  $3Dmolpromise = loadScriptAsync('https://cdn.jsdelivr.net/npm/3dmol@2.5.1/build/3Dmol-min.js');\n",
       "}\n",
       "\n",
       "var viewer_17511256252499053 = null;\n",
       "var warn = document.getElementById(\"3dmolwarning_17511256252499053\");\n",
       "if(warn) {\n",
       "    warn.parentNode.removeChild(warn);\n",
       "}\n",
       "$3Dmolpromise.then(function() {\n",
       "viewer_17511256252499053 = $3Dmol.createViewer(document.getElementById(\"3dmolviewer_17511256252499053\"),{backgroundColor:\"white\"});\n",
       "viewer_17511256252499053.zoomTo();\n",
       "\tviewer_17511256252499053.addModel(\"245\\n\\nN       3.751000000000000     11.117000000000001     -7.674000000000000\\nC       4.656000000000000      9.978999999999999     -7.455000000000000\\nC       5.892000000000000     10.350000000000000     -6.680000000000000\\nO       6.132521350000000      9.795731130000000     -5.576140380000000\\nC       4.970000000000000      9.236000000000001     -8.766999999999999\\nC       6.026000000000000      8.173000000000000     -8.554000000000000\\nO       5.829000000000000      7.343000000000000     -7.691000000000000\\nO       7.058000000000000      8.276999999999999     -9.183999999999999\\nH       3.509000000000000     11.327999999999999     -8.631000000000000\\nN       6.407000000000000      9.744999999999999     -2.397000000000000\\nC       7.599000000000000      8.946000000000000     -2.081000000000000\\nC       8.692000000000000      9.727000000000000     -1.355000000000000\\nO       9.358000000000001      9.217000000000001     -0.476000000000000\\nC       8.153000000000000      8.247999999999999     -3.336000000000000\\nS       7.066000000000000      6.892000000000000     -3.908000000000000\\nH       6.328000000000000     10.103999999999999     -3.339000000000000\\nH       6.775000000000000      7.380000000000000     -5.119000000000000\\nN       8.891999999999999     11.012000000000000     -1.725000000000000\\nC       9.788000000000000     11.949000000000000     -1.022000000000000\\nC       9.337999999999999     12.156000000000001      0.413000000000000\\nO      10.186590320000001     12.174698540000000      1.342040040000000\\nC       9.951000000000001     13.323000000000000     -1.731000000000000\\nC      11.022000000000000     14.201000000000001     -1.055000000000000\\nO      10.385999999999999     13.150000000000000     -3.076000000000000\\nH       8.319000000000001     11.394000000000000     -2.463000000000000\\nH       9.685000000000000     12.712000000000000     -3.594000000000000\\nN      10.520000000000000      9.361000000000001      2.555000000000000\\nC      11.954000000000001      9.573000000000000      2.830000000000000\\nC      12.215000000000000     10.596000000000000      3.929000000000000\\nO      13.006719750000000     10.322449910000000      4.868106350000000\\nC      12.721000000000000      9.962999999999999      1.544000000000000\\nH      10.204000000000001      9.561000000000000      1.616000000000000\\nN       9.071999999999999     13.058000000000000    -16.983000000000001\\nC       9.827999999999999     11.798000000000000    -16.952999999999999\\nC      10.733000000000001     11.603000000000000    -18.164999999999999\\nO      11.809972510000000     10.962403780000001    -18.049512979999999\\nC       8.912000000000001     10.581000000000000    -16.673999999999999\\nC       9.709000000000000      9.470000000000001    -15.946000000000000\\nC       8.182000000000000     10.054000000000000    -17.934000000000001\\nC       8.814000000000000      8.358000000000001    -15.369000000000000\\nH       8.066000000000001     13.010999999999999    -17.027999999999999\\nN      15.581000000000000     14.494999999999999    -15.087999999999999\\nC      14.613000000000000     13.951000000000001    -14.117000000000001\\nC      15.215000000000000     12.900000000000000    -13.202999999999999\\nO      15.037285839999999     12.971423970000000    -11.959260940000000\\nC      13.324999999999999     13.414000000000000    -14.781000000000001\\nC      12.396000000000001     12.739000000000001    -13.784000000000001\\nC      11.696000000000000     13.506000000000000    -12.871000000000000\\nC      12.282000000000000     11.347000000000000    -13.746000000000000\\nC      10.884000000000000     12.898999999999999    -11.913000000000000\\nC      11.474000000000000     10.734999999999999    -12.789000000000000\\nC      10.773999999999999     11.510999999999999    -11.872999999999999\\nH      15.352000000000000     14.409000000000001    -16.068000000000001\\nN      15.551000000000000     13.827999999999999     -3.909000000000000\\nC      14.458000000000000     13.095000000000001     -3.253000000000000\\nC      14.877000000000001     11.839000000000000     -2.506000000000000\\nO      14.087723770000000     11.301614300000001     -1.686347510000000\\nC      13.307000000000000     12.741000000000000     -4.212000000000000\\nO      12.728999999999999     13.930999999999999     -4.742000000000000\\nH      15.619999999999999     13.765000000000001     -4.914000000000000\\nH      12.209000000000000     14.327000000000000     -4.017000000000000\\nN      13.909000000000001      0.331000000000000     -1.999000000000000\\nC      14.146000000000001      1.367000000000000     -3.018000000000000\\nC      15.528000000000000      1.285000000000000     -3.644000000000000\\nO      15.721964050000000      1.737277560000000     -4.802185440000000\\nC      13.875000000000000      2.794000000000000     -2.491000000000000\\nC      12.395000000000000      3.104000000000000     -2.539000000000000\\nC      11.609999999999999      3.219000000000000     -1.410000000000000\\nC      11.529000000000000      3.307000000000000     -3.665000000000000\\nC      10.284000000000001      3.549000000000000     -3.153000000000000\\nC      11.722000000000000      3.240000000000000     -5.051000000000000\\nN      10.300000000000001      3.464000000000000     -1.807000000000000\\nC       9.173999999999999      3.776000000000000     -3.957000000000000\\nC      10.613000000000000      3.447000000000000     -5.881000000000000\\nC       9.345000000000001      3.718000000000000     -5.342000000000000\\nH      14.113000000000000      0.564000000000000     -1.037000000000000\\nH       9.484000000000000      3.416000000000000     -1.213000000000000\\nN      16.114000000000001     -0.316000000000000     -7.186000000000000\\nC      15.554000000000000      0.660000000000000     -8.140000000000001\\nC      16.558000000000000      1.720000000000000     -8.557000000000000\\nO      16.808000000000000      1.951000000000000     -9.723000000000001\\nC      14.252000000000001      1.306000000000000     -7.606000000000000\\nC      13.648000000000000      2.328000000000000     -8.547000000000001\\nC      12.955000000000000      1.907000000000000     -9.680000000000000\\nC      13.784000000000001      3.695000000000000     -8.287000000000001\\nC      12.406000000000001      2.848000000000000    -10.547000000000001\\nC      13.222000000000000      4.634000000000000     -9.148999999999999\\nC      12.531000000000001      4.208000000000000    -10.279999999999999\\nN      17.103000000000002      2.450000000000000     -7.562000000000000\\nC      18.074999999999999      3.519000000000000     -7.804000000000000\\nC      19.405000000000001      3.025000000000000     -8.332000000000001\\nO      20.069293340000002      3.737136630000000     -9.128960690000000\\nC      18.274000000000001      4.433000000000000     -6.585000000000000\\nC      17.036000000000001      5.258000000000000     -6.300000000000000\\nC      16.770000000000000      6.389000000000000     -7.067000000000000\\nC      16.140000000000001      4.878000000000000     -5.307000000000000\\nC      15.612000000000000      7.133000000000000     -6.855000000000000\\nC      14.962000000000000      5.595000000000000     -5.116000000000000\\nC      14.699000000000000      6.726000000000000     -5.885000000000000\\nH      16.866000000000000      2.235000000000000     -6.605000000000000\\nN      10.856000000000000     -1.209000000000000     -9.602000000000000\\nC       9.852000000000000     -0.157000000000000     -9.414000000000000\\nC       8.750999999999999     -0.609000000000000     -8.455000000000000\\nO       8.453951340000000      0.100305230000000     -7.458898220000000\\nC       9.257000000000000      0.337000000000000    -10.757000000000000\\nC       8.432000000000000      1.619000000000000    -10.535000000000000\\nO      10.287000000000001      0.654000000000000    -11.702000000000000\\nH      10.913000000000000     -1.646000000000000    -10.510999999999999\\nH      10.789000000000000     -0.143000000000000    -11.954000000000001\\nN       7.355000000000000      0.507000000000000     -4.430000000000000\\nC       5.953000000000000      0.723000000000000     -4.024000000000000\\nC       5.447000000000000     -0.235000000000000     -2.951000000000000\\nO       4.560596420000000      0.139809850000000     -2.140212210000000\\nC       4.987000000000000      0.690000000000000     -5.225000000000000\\nC       5.230000000000000      1.791000000000000     -6.249000000000000\\nC       5.258000000000000      3.134000000000000     -5.864000000000000\\nC       5.365000000000000      1.466000000000000     -7.599000000000000\\nC       5.419000000000000      4.137000000000000     -6.817000000000000\\nC       5.512000000000000      2.470000000000000     -8.553000000000001\\nC       5.540000000000000      3.806000000000000     -8.166000000000000\\nO       5.662000000000000      4.772000000000000     -9.119999999999999\\nH       5.723000000000000      5.654000000000000     -8.707000000000001\\nH       5.398303800000000      9.959301210000000     -9.429035660000000\\nH       4.074170910000000      8.720914240000001     -9.044627280000000\\nH       4.129775340000000      9.287650650000000     -6.830481240000000\\nH       2.890199430000000     10.855034420000001     -7.237655620000000\\nH       9.073088600000000      7.788625290000000     -3.040514210000000\\nH       8.147548810000000      8.983152179999999     -4.113445530000000\\nH       7.270014330000000      8.197541180000000     -1.390726270000000\\nH       5.636525480000000      9.116184700000000     -2.292308400000000\\nH       8.989941809999999     13.790352260000001     -1.677623730000000\\nH      11.304356050000001     14.992532420000000     -1.717307700000000\\nH      10.625153450000001     14.615922870000000     -0.152087030000000\\nH      11.880109520000000     13.604159559999999     -0.826243500000000\\nH      10.751970770000000     11.484854710000000     -1.037149470000000\\nH      13.618419790000001     10.482623170000000      1.807684430000000\\nH      12.969053810000000      9.078904359999999      0.994687510000000\\nH      12.105922460000000     10.597165380000000      0.940332960000000\\nH      12.321425209999999      8.633637300000000      3.187066430000000\\nH      10.371195710000000      8.379901320000000      2.678703950000000\\nH       8.128369160000000     10.916384669999999    -16.027208049999999\\nH       7.467155280000000      9.268549650000001    -18.064248849999998\\nH       8.802028549999999      9.208951989999999    -17.718689860000001\\nH       7.351510740000000     10.477721460000000    -17.408978370000000\\nH      10.170725980000000      9.942511170000000    -15.104309850000000\\nH      10.313247140000000      9.002377660000001    -16.695075920000001\\nH       9.297515830000000      7.411386060000000    -15.491615240000000\\nH       8.645165380000000      8.540104930000000    -14.328215360000000\\nH       7.877323610000000      8.349706060000001    -15.886173630000000\\nH      10.498468830000000     11.871839939999999    -16.122386250000002\\nH       9.269188890000001     13.496214650000001    -16.106025389999999\\nH      13.637513830000000     12.649418630000000    -15.461184120000000\\nH      12.798332690000001     14.271312150000000    -15.145056889999999\\nH      12.816692520000000     10.748704699999999    -14.453846479999999\\nH      11.777765490000000     14.572488690000000    -12.899570440000000\\nH      11.392827680000000      9.668484830000001    -12.759735030000000\\nH      10.345957130000000     13.499176080000000    -11.209296549999999\\nH      10.151949869999999     11.043337290000000    -11.138666810000000\\nH      14.338945389999999     14.789058140000000    -13.510821290000001\\nH      16.408537440000000     13.947195510000000    -14.965150370000000\\nH      12.549855020000001     12.269062269999999     -3.621317120000000\\nH      13.744822980000000     12.218948120000000     -5.037029020000000\\nH      14.115573290000000     13.799050449999999     -2.523646240000000\\nH      15.364475860000001     14.792544830000001     -3.722286250000000\\nH      14.349848550000001      3.466755370000000     -3.174241590000000\\nH      14.153611610000000      2.795636630000000     -1.457911000000000\\nH      11.951633540000000      3.133999790000000     -0.399573610000000\\nH      12.688200080000000      3.036673080000000     -5.463329450000000\\nH      10.733931150000000      3.397843950000000     -6.943007220000000\\nH       8.217059230000000      3.988822830000000     -3.528198400000000\\nH       8.510457680000000      3.879938530000000     -5.991780760000000\\nH      13.433927080000000      1.160880350000000     -3.789600190000000\\nH      12.922935239999999      0.166220640000000     -2.021892130000000\\nH      14.533467790000000      1.847910410000000     -6.727359580000000\\nH      13.537773890000000      0.512085210000000     -7.539064400000000\\nH      12.844882999999999      0.862314630000000     -9.883486420000001\\nH      14.322304630000000      4.021479370000000     -7.421818320000000\\nH      11.885048919999999      2.523618460000000    -11.423519590000000\\nH      13.321097090000000      5.679198960000000     -8.942508110000000\\nH      12.096231130000000      4.925943660000000    -10.943651210000001\\nH      15.308511590000000      0.103058940000000     -9.020029600000001\\nH      17.051015150000001     -0.009508890000000     -7.018471480000000\\nH      15.947097990000000     -1.210998980000000     -7.599667200000000\\nH      19.043320930000000      5.127162720000000     -6.851802200000000\\nH      18.405340679999998      3.786592150000000     -5.742499840000000\\nH      17.461542489999999      6.689338790000000     -7.826253310000000\\nH      16.356384850000001      4.032407150000000     -4.688089400000000\\nH      15.424583340000000      8.012852170000000     -7.434340270000000\\nH      14.257099050000001      5.276417940000000     -4.376730000000000\\nH      13.797359830000000      7.281173170000000     -5.730961820000000\\nH      17.635340820000000      4.107462140000000     -8.582018070000000\\nH       8.645533320000000     -0.455103670000000    -11.135919890000000\\nH       8.466499410000001      2.222678430000000    -11.417769590000001\\nH       7.416741790000000      1.357268370000000    -10.321347670000000\\nH       8.839765900000000      2.167449430000000     -9.711695570000000\\nH      10.356060890000000      0.677273300000000     -8.972626370000000\\nH      11.736554040000000     -0.751212160000000     -9.479301670000000\\nH       4.014094820000000      0.877780010000000     -4.821150790000000\\nH       5.186638510000000     -0.229857970000000     -5.733827850000000\\nH       5.155155830000000      3.393400180000000     -4.831026320000000\\nH       5.355556210000000      0.440145310000000     -7.903027900000000\\nH       5.449852520000000      5.162592730000000     -6.513507540000000\\nH       5.603754070000000      2.212805260000000     -9.587568539999999\\nH       5.963157890000000      1.702227420000000     -3.592826630000000\\nH       7.656824430000000     -0.290361410000000     -3.907394230000000\\nH       7.803102740000000      1.391000730000000     -4.296783480000000\\nH      15.790619690000000     12.098136430000000    -13.616009419999999\\nH      10.452198500000000     12.010881230000001    -19.113516430000001\\nH      15.843019480000001     11.411908739999999     -2.677170740000000\\nH       8.299278989999999     12.286002060000000      0.634490710000000\\nH       6.566057170000000     11.085000010000000     -7.067713720000000\\nH      11.725064679999999     11.546863190000000      3.902119320000000\\nH      16.336325550000002      0.842687560000000     -3.100061110000000\\nH       5.845629250000000     -1.225937780000000     -2.887462250000000\\nH      19.780218609999999      2.070315740000000     -8.027551369999999\\nH       8.232819500000000     -1.528535700000000     -8.630621959999999\\nC      10.745825700999770      7.180996836347068     -6.808059553958607\\nC      11.116849304273385      7.748643506052474     -7.967668335699916\\nC      11.886272810909681      8.679323198578617     -2.972925736552720\\nC      11.607378471155053      9.571572348824306     -4.012526608575533\\nC      11.233510603296578      9.091496117766388     -5.266616094273318\\nC      11.141525553319633      7.709917464188742     -5.494903788270954\\nC      11.395794641245853      6.817376395019736     -4.440334525312084\\nC      11.777241767672955      7.301497206379699     -3.186089779909849\\nO      12.268992997605322      9.158844781382777     -1.726132077590611\\nC      10.686003025647171      7.227580695176818     -9.284276097003325\\nC      11.358717227075051      7.623173243683640    -10.453620570351251\\nC      10.944355140523880      7.145749952449015    -11.703409219992592\\nC       9.855320655161853      6.273214820089303    -11.793736318940109\\nC       9.177871972504287      5.883696377808731    -10.640667042608673\\nC       9.580922178524707      6.365094460885731     -9.396134648371099\\nO      11.623738379341233      7.543669027217028    -12.849058820783991\\nO       8.095679570743606      5.018153568149967    -10.741840781805372\\nH      10.232515210379930      6.230278990130723     -6.801314552050655\\nH      11.760101970034983      8.620412324642858     -7.954153780132533\\nH      11.679468883688486     10.639468840632235     -3.849357605141693\\nH      11.006419159963677      9.801750139075335     -6.051563701313277\\nH      11.315471402148553      5.747884757570790     -4.593173287267652\\nH      11.985895610233818      6.608423315408915     -2.381023605516464\\nH      12.355640827983546     10.151691456690218     -1.542157857056314\\nH      12.204720870036180      8.297437150470293    -10.395019009451286\\nH       9.535124861799872      5.899888797237505    -12.758498181937030\\nH       8.991161847498560      6.081820561731241     -8.537026943351588\\nH      11.350619401953585      7.216676203715029    -13.768568736811860\\nH       7.578578294689536      4.713654642601207     -9.925151389534735\\n\",\"xyz\");\n",
       "\tviewer_17511256252499053.setStyle({\"stick\": {}, \"sphere\": {\"radius\": 0.5}});\n",
       "\tviewer_17511256252499053.zoomTo();\n",
       "viewer_17511256252499053.render();\n",
       "});\n",
       "</script>"
      ]
     },
     "metadata": {},
     "output_type": "display_data"
    }
   ],
   "source": [
    "f = open(\"/content/total_complex.xyz\",\"r\")\n",
    "structure = f.read()\n",
    "f.close()\n",
    "\n",
    "ccr.visualize_molecule(structure)"
   ]
  },
  {
   "cell_type": "markdown",
   "metadata": {
    "id": "akl5abZ1BmjF"
   },
   "source": [
    "# Solvation"
   ]
  },
  {
   "cell_type": "markdown",
   "metadata": {
    "id": "U8ei-4J9JUkA"
   },
   "source": [
    "## Create a new molecule from SMILES and solvate\n",
    "- Creates the new atoms object\n",
    "- creates a solvation instance and then solvates the atoms object\n",
    "- saves atoms to an XYZ file and visualizes\n",
    "- optimizes solvated molecule and visualizes again"
   ]
  },
  {
   "cell_type": "code",
   "execution_count": null,
   "metadata": {
    "id": "m6ihlYvfCEpD"
   },
   "outputs": [],
   "source": [
    "atoms = ccr.smiles_to_atoms(\"c1cc(F)ccc1\")"
   ]
  },
  {
   "cell_type": "code",
   "execution_count": null,
   "metadata": {
    "id": "KDtIHUL2DaHW"
   },
   "outputs": [],
   "source": [
    "ccr.atoms_to_xyz(atoms,\"test\")"
   ]
  },
  {
   "cell_type": "code",
   "execution_count": null,
   "metadata": {
    "colab": {
     "base_uri": "https://localhost:8080/"
    },
    "id": "dRH8Yri1Dpf0",
    "outputId": "8407e718-83ec-432e-b502-b0d7dd68a086"
   },
   "outputs": [
    {
     "name": "stdout",
     "output_type": "stream",
     "text": [
      "add_waters class initialized\n"
     ]
    }
   ],
   "source": [
    "solvate = ccr.solvation(\"test.xyz\",2)"
   ]
  },
  {
   "cell_type": "code",
   "execution_count": null,
   "metadata": {
    "colab": {
     "base_uri": "https://localhost:8080/"
    },
    "id": "w1rivp7CD1af",
    "outputId": "4da22a79-f5f9-42b4-fb69-9457f7d3dc1a"
   },
   "outputs": [
    {
     "name": "stdout",
     "output_type": "stream",
     "text": [
      "Maximum dimensions after augmentation are:\n",
      "x - Max: 5.747877792534911, Min: -3.658880771899452\n",
      "y - Max: 6.049240354686117, Min: -3.878139181087324\n",
      "z - Max: 3.605391383716146, Min: -3.451909003884898\n",
      "Volume is 659.0422031891669 A^3\n",
      "Added 14/20 waters.\n",
      "==================================================\n"
     ]
    }
   ],
   "source": [
    "solvated = solvate.add_waters(20)"
   ]
  },
  {
   "cell_type": "code",
   "execution_count": null,
   "metadata": {
    "colab": {
     "base_uri": "https://localhost:8080/",
     "height": 417
    },
    "id": "FYE-1WMhFtfT",
    "outputId": "8849b031-ce90-444b-dbfa-f15be86cf07c"
   },
   "outputs": [
    {
     "data": {
      "application/3dmoljs_load.v0": "<div id=\"3dmolviewer_17511256743220515\"  style=\"position: relative; width: 800px; height: 400px;\">\n        <p id=\"3dmolwarning_17511256743220515\" style=\"background-color:#ffcccc;color:black\">3Dmol.js failed to load for some reason.  Please check your browser console for error messages.<br></p>\n        </div>\n<script>\n\nvar loadScriptAsync = function(uri){\n  return new Promise((resolve, reject) => {\n    //this is to ignore the existence of requirejs amd\n    var savedexports, savedmodule;\n    if (typeof exports !== 'undefined') savedexports = exports;\n    else exports = {}\n    if (typeof module !== 'undefined') savedmodule = module;\n    else module = {}\n\n    var tag = document.createElement('script');\n    tag.src = uri;\n    tag.async = true;\n    tag.onload = () => {\n        exports = savedexports;\n        module = savedmodule;\n        resolve();\n    };\n  var firstScriptTag = document.getElementsByTagName('script')[0];\n  firstScriptTag.parentNode.insertBefore(tag, firstScriptTag);\n});\n};\n\nif(typeof $3Dmolpromise === 'undefined') {\n$3Dmolpromise = null;\n  $3Dmolpromise = loadScriptAsync('https://cdn.jsdelivr.net/npm/3dmol@2.5.1/build/3Dmol-min.js');\n}\n\nvar viewer_17511256743220515 = null;\nvar warn = document.getElementById(\"3dmolwarning_17511256743220515\");\nif(warn) {\n    warn.parentNode.removeChild(warn);\n}\n$3Dmolpromise.then(function() {\nviewer_17511256743220515 = $3Dmol.createViewer(document.getElementById(\"3dmolviewer_17511256743220515\"),{backgroundColor:\"white\"});\nviewer_17511256743220515.zoomTo();\n\tviewer_17511256743220515.addModel(\"54\\n\\nC       1.322683376971667     -0.478139181087324      0.064181068811218\\nC       1.057060553154756      0.889997739271281      0.115326140554882\\nC      -0.258880771899452      1.335019096266264      0.049931501494129\\nF      -0.513728496179215      2.649240354686117      0.099085077343169\\nC      -1.314368878491758      0.436911831155878     -0.065697456951999\\nC      -1.049363190355113     -0.931342774809446     -0.116898183912953\\nC       0.269129843455584     -1.387872711874708     -0.051909003884898\\nH       2.347877792534911     -0.835792198520366      0.114582096876573\\nH       1.863891715551982      1.609884561814042      0.205391383716146\\nH      -2.332770309966104      0.808069206766239     -0.114954908174827\\nH      -1.867552440424304     -1.641192686747114     -0.207224914186803\\nH       0.476020805646908     -2.454783236921115     -0.091812801684152\\nO -0.07471113305503874   -1.587702252398413    -2.2801379650267437\\nH 0.36489070132073803   -1.5391829277439895    -3.1271628468912205\\nH -0.13778776088179628   -0.6829066979060568    -1.979436465625968\\nO 1.5436161877453252   -0.07055168951036883    1.7113827931208152\\nH 2.1299034416701477   0.20924812101283868    1.010644346861822\\nH 0.8379725173802548   -0.5426224586008781    1.272895338804267\\nO 4.2361930419515526   0.48389689456251794    -2.357678666419212\\nH 4.938920369724855   0.47785543957817245    -3.00512970840715\\nH 3.4369236262896385   0.3206554114104539    -2.8552484278746055\\nO 2.499302646129914   2.2845143534791275    -3.0320056616608615\\nH 3.4079129228880185   2.3842978434105313    -2.7535713457878526\\nH 2.352418843559266   1.3411496218443566    -3.071288988900848\\nO 4.252634663173576   -1.7350825409631554    1.6733706105242248\\nH 4.686813197631132   -2.510435278560954    2.0246143729811386\\nH 3.4225881806922613   -1.679300032560315    2.1434410274041675\\nO -2.494629048987797   5.187757934024663    1.4095230403729437\\nH -2.705077487688964   5.421424971917921    2.3118346374387424\\nH -2.73725252660701   5.9525080532043395    0.8905373455107143\\nO 4.692254376437957   4.52565914309853    -1.3247236629691503\\nH 4.928697834442677   5.0911329657476285    -2.057791801148942\\nH 4.935334900571152   3.6438631079170403    -1.6011339726074438\\nO -3.4550854495616075   -2.538446510667722    -0.21672086375165822\\nH -2.687355125168644   -2.0930670094204675    0.13723152997555232\\nH -4.186603793968429   -1.9473745825172453    -0.04769442884344155\\nO 1.418767546068051   4.8614547756703    1.1714604504684796\\nH 2.267137185701742   4.487786728177896    1.4031848405960972\\nH 1.2546093916656211   5.534941268267713    1.829125329248716\\nO 3.392591844091511   2.1681957699566867    -0.49926938110697794\\nH 2.8097288165432097   2.868197098878933    -0.21061062275497777\\nH 4.0338741750759635   2.594658761992056    -1.064902952016969\\nO 0.4555200724676478   3.4028124167428215    1.3467275582642686\\nH 0.02725989753471547   3.078509405067056    2.136965387865865\\nH -0.1981235273047015   3.9502423812159266    0.9153048808090616\\nO -1.0631611933842127   -1.7781764809106573    1.390315014405331\\nH -0.5758211951706484   -1.0911190879899586    0.9391976093728762\\nH -1.9759151774936443   -1.639810318645948    1.1437586967383617\\nO 5.038832072861687   -0.10759515981732326    2.7946369311262633\\nH 4.285657893195011   0.002457236810040328    2.216993292514183\\nH 5.762890141985026   -0.3453270199815796    2.218200877995282\\nO -2.113795559647782   -3.5701509429753413    -2.177180212042094\\nH -2.7136890523687773   -2.8362491382924206    -2.297890553865638\\nH -1.4281722054079509   -3.2397113808015514    -1.5994386088834527\\n\",\"xyz\");\n\tviewer_17511256743220515.setStyle({\"stick\": {}, \"sphere\": {\"radius\": 0.5}});\n\tviewer_17511256743220515.zoomTo();\nviewer_17511256743220515.render();\n});\n</script>",
      "text/html": [
       "<div id=\"3dmolviewer_17511256743220515\"  style=\"position: relative; width: 800px; height: 400px;\">\n",
       "        <p id=\"3dmolwarning_17511256743220515\" style=\"background-color:#ffcccc;color:black\">3Dmol.js failed to load for some reason.  Please check your browser console for error messages.<br></p>\n",
       "        </div>\n",
       "<script>\n",
       "\n",
       "var loadScriptAsync = function(uri){\n",
       "  return new Promise((resolve, reject) => {\n",
       "    //this is to ignore the existence of requirejs amd\n",
       "    var savedexports, savedmodule;\n",
       "    if (typeof exports !== 'undefined') savedexports = exports;\n",
       "    else exports = {}\n",
       "    if (typeof module !== 'undefined') savedmodule = module;\n",
       "    else module = {}\n",
       "\n",
       "    var tag = document.createElement('script');\n",
       "    tag.src = uri;\n",
       "    tag.async = true;\n",
       "    tag.onload = () => {\n",
       "        exports = savedexports;\n",
       "        module = savedmodule;\n",
       "        resolve();\n",
       "    };\n",
       "  var firstScriptTag = document.getElementsByTagName('script')[0];\n",
       "  firstScriptTag.parentNode.insertBefore(tag, firstScriptTag);\n",
       "});\n",
       "};\n",
       "\n",
       "if(typeof $3Dmolpromise === 'undefined') {\n",
       "$3Dmolpromise = null;\n",
       "  $3Dmolpromise = loadScriptAsync('https://cdn.jsdelivr.net/npm/3dmol@2.5.1/build/3Dmol-min.js');\n",
       "}\n",
       "\n",
       "var viewer_17511256743220515 = null;\n",
       "var warn = document.getElementById(\"3dmolwarning_17511256743220515\");\n",
       "if(warn) {\n",
       "    warn.parentNode.removeChild(warn);\n",
       "}\n",
       "$3Dmolpromise.then(function() {\n",
       "viewer_17511256743220515 = $3Dmol.createViewer(document.getElementById(\"3dmolviewer_17511256743220515\"),{backgroundColor:\"white\"});\n",
       "viewer_17511256743220515.zoomTo();\n",
       "\tviewer_17511256743220515.addModel(\"54\\n\\nC       1.322683376971667     -0.478139181087324      0.064181068811218\\nC       1.057060553154756      0.889997739271281      0.115326140554882\\nC      -0.258880771899452      1.335019096266264      0.049931501494129\\nF      -0.513728496179215      2.649240354686117      0.099085077343169\\nC      -1.314368878491758      0.436911831155878     -0.065697456951999\\nC      -1.049363190355113     -0.931342774809446     -0.116898183912953\\nC       0.269129843455584     -1.387872711874708     -0.051909003884898\\nH       2.347877792534911     -0.835792198520366      0.114582096876573\\nH       1.863891715551982      1.609884561814042      0.205391383716146\\nH      -2.332770309966104      0.808069206766239     -0.114954908174827\\nH      -1.867552440424304     -1.641192686747114     -0.207224914186803\\nH       0.476020805646908     -2.454783236921115     -0.091812801684152\\nO -0.07471113305503874   -1.587702252398413    -2.2801379650267437\\nH 0.36489070132073803   -1.5391829277439895    -3.1271628468912205\\nH -0.13778776088179628   -0.6829066979060568    -1.979436465625968\\nO 1.5436161877453252   -0.07055168951036883    1.7113827931208152\\nH 2.1299034416701477   0.20924812101283868    1.010644346861822\\nH 0.8379725173802548   -0.5426224586008781    1.272895338804267\\nO 4.2361930419515526   0.48389689456251794    -2.357678666419212\\nH 4.938920369724855   0.47785543957817245    -3.00512970840715\\nH 3.4369236262896385   0.3206554114104539    -2.8552484278746055\\nO 2.499302646129914   2.2845143534791275    -3.0320056616608615\\nH 3.4079129228880185   2.3842978434105313    -2.7535713457878526\\nH 2.352418843559266   1.3411496218443566    -3.071288988900848\\nO 4.252634663173576   -1.7350825409631554    1.6733706105242248\\nH 4.686813197631132   -2.510435278560954    2.0246143729811386\\nH 3.4225881806922613   -1.679300032560315    2.1434410274041675\\nO -2.494629048987797   5.187757934024663    1.4095230403729437\\nH -2.705077487688964   5.421424971917921    2.3118346374387424\\nH -2.73725252660701   5.9525080532043395    0.8905373455107143\\nO 4.692254376437957   4.52565914309853    -1.3247236629691503\\nH 4.928697834442677   5.0911329657476285    -2.057791801148942\\nH 4.935334900571152   3.6438631079170403    -1.6011339726074438\\nO -3.4550854495616075   -2.538446510667722    -0.21672086375165822\\nH -2.687355125168644   -2.0930670094204675    0.13723152997555232\\nH -4.186603793968429   -1.9473745825172453    -0.04769442884344155\\nO 1.418767546068051   4.8614547756703    1.1714604504684796\\nH 2.267137185701742   4.487786728177896    1.4031848405960972\\nH 1.2546093916656211   5.534941268267713    1.829125329248716\\nO 3.392591844091511   2.1681957699566867    -0.49926938110697794\\nH 2.8097288165432097   2.868197098878933    -0.21061062275497777\\nH 4.0338741750759635   2.594658761992056    -1.064902952016969\\nO 0.4555200724676478   3.4028124167428215    1.3467275582642686\\nH 0.02725989753471547   3.078509405067056    2.136965387865865\\nH -0.1981235273047015   3.9502423812159266    0.9153048808090616\\nO -1.0631611933842127   -1.7781764809106573    1.390315014405331\\nH -0.5758211951706484   -1.0911190879899586    0.9391976093728762\\nH -1.9759151774936443   -1.639810318645948    1.1437586967383617\\nO 5.038832072861687   -0.10759515981732326    2.7946369311262633\\nH 4.285657893195011   0.002457236810040328    2.216993292514183\\nH 5.762890141985026   -0.3453270199815796    2.218200877995282\\nO -2.113795559647782   -3.5701509429753413    -2.177180212042094\\nH -2.7136890523687773   -2.8362491382924206    -2.297890553865638\\nH -1.4281722054079509   -3.2397113808015514    -1.5994386088834527\\n\",\"xyz\");\n",
       "\tviewer_17511256743220515.setStyle({\"stick\": {}, \"sphere\": {\"radius\": 0.5}});\n",
       "\tviewer_17511256743220515.zoomTo();\n",
       "viewer_17511256743220515.render();\n",
       "});\n",
       "</script>"
      ]
     },
     "metadata": {},
     "output_type": "display_data"
    }
   ],
   "source": [
    "ccr.visualize_molecule(solvated)"
   ]
  },
  {
   "cell_type": "code",
   "execution_count": null,
   "metadata": {
    "id": "l0054vupKhks"
   },
   "outputs": [],
   "source": [
    "f = open(\"test_solvated.xyz\",\"w\")\n",
    "f.write(solvated)\n",
    "f.close()"
   ]
  },
  {
   "cell_type": "code",
   "execution_count": null,
   "metadata": {
    "id": "3QSSaANWJtKk"
   },
   "outputs": [],
   "source": [
    "atoms2 = ccr.XYZ_to_atoms(\"test_solvated.xyz\")"
   ]
  },
  {
   "cell_type": "code",
   "execution_count": null,
   "metadata": {
    "colab": {
     "base_uri": "https://localhost:8080/"
    },
    "id": "K9-291TZJ7Qu",
    "outputId": "bbe1f803-0a4d-49cf-ab1b-4818ba045577"
   },
   "outputs": [
    {
     "name": "stdout",
     "output_type": "stream",
     "text": [
      "Initial energy: -1400.640732 ha\n",
      "      Step     Time          Energy          fmax\n",
      "BFGS:    0 15:48:13   -38113.398945       13.268503\n",
      "BFGS:    1 15:48:13   -38123.124885        9.154819\n",
      "BFGS:    2 15:48:13   -38128.399667        6.077850\n",
      "BFGS:    3 15:48:14   -38131.936663        3.101922\n",
      "BFGS:    4 15:48:14   -38133.472583        4.246012\n",
      "BFGS:    5 15:48:14   -38134.874689        1.945612\n",
      "BFGS:    6 15:48:14   -38136.354073        2.073375\n",
      "BFGS:    7 15:48:14   -38137.098312        1.943051\n",
      "BFGS:    8 15:48:14   -38137.702662        1.251167\n",
      "BFGS:    9 15:48:14   -38138.149193        1.486121\n",
      "BFGS:   10 15:48:15   -38138.481368        1.434557\n",
      "BFGS:   11 15:48:15   -38138.759452        1.351181\n",
      "BFGS:   12 15:48:15   -38138.972488        1.280200\n",
      "BFGS:   13 15:48:15   -38139.189689        1.161082\n",
      "BFGS:   14 15:48:15   -38139.382103        0.980640\n",
      "BFGS:   15 15:48:15   -38139.541806        0.899366\n",
      "BFGS:   16 15:48:16   -38139.643345        0.729426\n",
      "BFGS:   17 15:48:16   -38139.763653        0.783487\n",
      "BFGS:   18 15:48:16   -38139.866762        0.728602\n",
      "BFGS:   19 15:48:16   -38139.979456        0.717796\n",
      "BFGS:   20 15:48:16   -38140.035528        0.850570\n",
      "BFGS:   21 15:48:16   -38140.135725        0.619095\n",
      "BFGS:   22 15:48:16   -38140.201222        0.537913\n",
      "BFGS:   23 15:48:17   -38140.278336        0.655773\n",
      "BFGS:   24 15:48:17   -38140.338363        0.664530\n",
      "BFGS:   25 15:48:17   -38140.419969        0.770427\n",
      "BFGS:   26 15:48:17   -38140.468530        0.751640\n",
      "BFGS:   27 15:48:17   -38140.526651        0.805905\n",
      "BFGS:   28 15:48:17   -38140.579160        0.555221\n",
      "BFGS:   29 15:48:17   -38140.632671        0.463538\n",
      "BFGS:   30 15:48:18   -38140.669459        0.395135\n",
      "BFGS:   31 15:48:18   -38140.710982        0.370538\n",
      "BFGS:   32 15:48:18   -38140.742174        0.530708\n",
      "BFGS:   33 15:48:18   -38140.769709        0.430822\n",
      "BFGS:   34 15:48:18   -38140.807704        0.389313\n",
      "BFGS:   35 15:48:18   -38140.852063        0.477919\n",
      "BFGS:   36 15:48:19   -38140.878068        0.516296\n",
      "BFGS:   37 15:48:19   -38140.911822        0.407918\n",
      "BFGS:   38 15:48:19   -38140.946500        0.387991\n",
      "BFGS:   39 15:48:19   -38140.968786        0.432965\n",
      "BFGS:   40 15:48:19   -38140.999120        0.387889\n",
      "BFGS:   41 15:48:19   -38141.035769        0.365262\n",
      "BFGS:   42 15:48:20   -38141.055670        0.282335\n",
      "BFGS:   43 15:48:20   -38141.087140        0.425760\n",
      "BFGS:   44 15:48:20   -38141.119774        0.391702\n",
      "BFGS:   45 15:48:20   -38141.148158        0.408844\n",
      "BFGS:   46 15:48:21   -38141.177852        0.300531\n",
      "BFGS:   47 15:48:21   -38141.191881        0.230879\n",
      "BFGS:   48 15:48:21   -38141.206301        0.198555\n",
      "BFGS:   49 15:48:22   -38141.216423        0.312464\n",
      "BFGS:   50 15:48:22   -38141.231669        0.301717\n",
      "BFGS:   51 15:48:22   -38141.260640        0.311505\n",
      "BFGS:   52 15:48:22   -38141.277669        0.281596\n",
      "BFGS:   53 15:48:22   -38141.293923        0.316541\n",
      "BFGS:   54 15:48:22   -38141.307853        0.327730\n",
      "BFGS:   55 15:48:23   -38141.324406        0.393697\n",
      "BFGS:   56 15:48:23   -38141.344731        0.333804\n",
      "BFGS:   57 15:48:23   -38141.361430        0.324936\n",
      "BFGS:   58 15:48:23   -38141.387528        0.314300\n",
      "BFGS:   59 15:48:23   -38141.410438        0.260228\n",
      "BFGS:   60 15:48:23   -38141.430488        0.272262\n",
      "BFGS:   61 15:48:24   -38141.450949        0.338143\n",
      "BFGS:   62 15:48:24   -38141.470203        0.431623\n",
      "BFGS:   63 15:48:24   -38141.492899        0.466290\n",
      "BFGS:   64 15:48:24   -38141.514878        0.277803\n",
      "BFGS:   65 15:48:24   -38141.531654        0.193832\n",
      "BFGS:   66 15:48:24   -38141.538561        0.190561\n",
      "BFGS:   67 15:48:24   -38141.558587        0.235147\n",
      "BFGS:   68 15:48:25   -38141.579783        0.222220\n",
      "BFGS:   69 15:48:25   -38141.597479        0.293829\n",
      "BFGS:   70 15:48:25   -38141.612031        0.367850\n",
      "BFGS:   71 15:48:25   -38141.625428        0.508174\n",
      "BFGS:   72 15:48:25   -38141.643887        0.228713\n",
      "BFGS:   73 15:48:25   -38141.661507        0.230169\n",
      "BFGS:   74 15:48:25   -38141.675929        0.328418\n",
      "BFGS:   75 15:48:26   -38141.698335        0.334341\n",
      "BFGS:   76 15:48:26   -38141.726079        0.493355\n",
      "BFGS:   77 15:48:26   -38141.767347        0.377067\n",
      "BFGS:   78 15:48:26   -38141.791115        0.579955\n",
      "BFGS:   79 15:48:26   -38141.817845        0.434349\n",
      "BFGS:   80 15:48:26   -38141.829868        0.274232\n",
      "BFGS:   81 15:48:27   -38141.844829        0.271553\n",
      "BFGS:   82 15:48:27   -38141.862245        0.397013\n",
      "BFGS:   83 15:48:27   -38141.883261        0.401012\n",
      "BFGS:   84 15:48:27   -38141.906570        0.370570\n",
      "BFGS:   85 15:48:27   -38141.933097        0.262236\n",
      "BFGS:   86 15:48:27   -38141.951851        0.299332\n",
      "BFGS:   87 15:48:27   -38141.968557        0.323241\n",
      "BFGS:   88 15:48:28   -38141.986111        0.334221\n",
      "BFGS:   89 15:48:28   -38142.003378        0.363607\n",
      "BFGS:   90 15:48:28   -38142.027603        0.428038\n",
      "BFGS:   91 15:48:28   -38142.049718        0.294246\n",
      "BFGS:   92 15:48:28   -38142.073703        0.283454\n",
      "BFGS:   93 15:48:28   -38142.095738        0.291503\n",
      "BFGS:   94 15:48:28   -38142.120860        0.259804\n",
      "BFGS:   95 15:48:29   -38142.150782        0.345967\n",
      "BFGS:   96 15:48:29   -38142.182015        0.339949\n",
      "BFGS:   97 15:48:29   -38142.208045        0.525926\n",
      "BFGS:   98 15:48:29   -38142.238651        0.356257\n",
      "BFGS:   99 15:48:29   -38142.274584        0.579926\n",
      "BFGS:  100 15:48:29   -38142.303650        0.448575\n",
      "BFGS:  101 15:48:30   -38142.326575        0.271716\n",
      "BFGS:  102 15:48:30   -38142.348632        0.463344\n",
      "BFGS:  103 15:48:30   -38142.368538        0.358369\n",
      "BFGS:  104 15:48:30   -38142.388652        0.292667\n",
      "BFGS:  105 15:48:30   -38142.412461        0.275258\n",
      "BFGS:  106 15:48:30   -38142.432603        0.308613\n",
      "BFGS:  107 15:48:30   -38142.453779        0.446765\n",
      "BFGS:  108 15:48:31   -38142.485503        0.330056\n",
      "BFGS:  109 15:48:31   -38142.521853        0.412293\n",
      "BFGS:  110 15:48:31   -38142.551335        0.421436\n",
      "BFGS:  111 15:48:31   -38142.578465        0.355393\n",
      "BFGS:  112 15:48:31   -38142.599083        0.250108\n",
      "BFGS:  113 15:48:31   -38142.612947        0.229565\n",
      "BFGS:  114 15:48:31   -38142.628018        0.236731\n",
      "BFGS:  115 15:48:32   -38142.639869        0.322273\n",
      "BFGS:  116 15:48:32   -38142.651242        0.212193\n",
      "BFGS:  117 15:48:32   -38142.663474        0.177014\n",
      "BFGS:  118 15:48:32   -38142.671288        0.307846\n",
      "BFGS:  119 15:48:32   -38142.683506        0.413197\n",
      "BFGS:  120 15:48:32   -38142.698202        0.249544\n",
      "BFGS:  121 15:48:33   -38142.712194        0.247720\n",
      "BFGS:  122 15:48:33   -38142.723523        0.201025\n",
      "BFGS:  123 15:48:34   -38142.737167        0.265840\n",
      "BFGS:  124 15:48:34   -38142.749529        0.296235\n",
      "BFGS:  125 15:48:34   -38142.758222        0.230389\n",
      "BFGS:  126 15:48:35   -38142.765536        0.205103\n",
      "BFGS:  127 15:48:35   -38142.772551        0.236962\n",
      "BFGS:  128 15:48:35   -38142.780786        0.303784\n",
      "BFGS:  129 15:48:35   -38142.789475        0.174045\n",
      "BFGS:  130 15:48:35   -38142.797040        0.170427\n",
      "BFGS:  131 15:48:35   -38142.805997        0.261275\n",
      "BFGS:  132 15:48:36   -38142.814078        0.326955\n",
      "BFGS:  133 15:48:36   -38142.823586        0.184221\n",
      "BFGS:  134 15:48:36   -38142.834051        0.240679\n",
      "BFGS:  135 15:48:36   -38142.843374        0.340171\n",
      "BFGS:  136 15:48:36   -38142.852905        0.237633\n",
      "BFGS:  137 15:48:36   -38142.862157        0.196728\n",
      "BFGS:  138 15:48:36   -38142.872958        0.213692\n",
      "BFGS:  139 15:48:37   -38142.881244        0.186480\n",
      "BFGS:  140 15:48:37   -38142.888935        0.212590\n",
      "BFGS:  141 15:48:37   -38142.895771        0.207251\n",
      "BFGS:  142 15:48:37   -38142.903434        0.249259\n",
      "BFGS:  143 15:48:37   -38142.916807        0.346530\n",
      "BFGS:  144 15:48:37   -38142.931618        0.268487\n",
      "BFGS:  145 15:48:37   -38142.943287        0.329174\n",
      "BFGS:  146 15:48:38   -38142.950033        0.235275\n",
      "BFGS:  147 15:48:38   -38142.955522        0.227677\n",
      "BFGS:  148 15:48:38   -38142.960500        0.133196\n",
      "BFGS:  149 15:48:38   -38142.966121        0.178827\n",
      "BFGS:  150 15:48:38   -38142.972313        0.153668\n",
      "BFGS:  151 15:48:38   -38142.979190        0.157106\n",
      "BFGS:  152 15:48:39   -38142.985356        0.157712\n",
      "BFGS:  153 15:48:39   -38142.990887        0.127607\n",
      "BFGS:  154 15:48:39   -38142.996964        0.162003\n",
      "BFGS:  155 15:48:39   -38143.003648        0.203441\n",
      "BFGS:  156 15:48:39   -38143.009856        0.202848\n",
      "BFGS:  157 15:48:39   -38143.015812        0.299020\n",
      "BFGS:  158 15:48:39   -38143.022807        0.184331\n",
      "BFGS:  159 15:48:40   -38143.030694        0.139288\n",
      "BFGS:  160 15:48:40   -38143.038966        0.160103\n",
      "BFGS:  161 15:48:40   -38143.046382        0.237729\n",
      "BFGS:  162 15:48:40   -38143.054215        0.210947\n",
      "BFGS:  163 15:48:40   -38143.063415        0.243328\n",
      "BFGS:  164 15:48:40   -38143.078272        0.228304\n",
      "BFGS:  165 15:48:40   -38143.089284        0.256952\n",
      "BFGS:  166 15:48:41   -38143.097142        0.197516\n",
      "BFGS:  167 15:48:41   -38143.100870        0.369757\n",
      "BFGS:  168 15:48:41   -38143.104878        0.426443\n",
      "BFGS:  169 15:48:41   -38143.109824        0.226193\n",
      "BFGS:  170 15:48:41   -38143.114079        0.140699\n",
      "BFGS:  171 15:48:41   -38143.119156        0.148267\n",
      "BFGS:  172 15:48:42   -38143.125470        0.153089\n",
      "BFGS:  173 15:48:42   -38143.133518        0.209932\n",
      "BFGS:  174 15:48:42   -38143.144137        0.198196\n",
      "BFGS:  175 15:48:42   -38143.154112        0.274108\n",
      "BFGS:  176 15:48:42   -38143.162007        0.206908\n",
      "BFGS:  177 15:48:42   -38143.169168        0.255116\n",
      "BFGS:  178 15:48:42   -38143.174658        0.188839\n",
      "BFGS:  179 15:48:43   -38143.181286        0.193130\n",
      "BFGS:  180 15:48:43   -38143.190565        0.176293\n",
      "BFGS:  181 15:48:43   -38143.195743        0.152706\n",
      "BFGS:  182 15:48:43   -38143.200592        0.145371\n",
      "BFGS:  183 15:48:43   -38143.204729        0.096883\n",
      "Final energy: -1401.736074 ha\n",
      "Energy difference: -1.095342 ha\n"
     ]
    }
   ],
   "source": [
    "energy = ccr.opt_energy(atoms2[0],calculator)"
   ]
  },
  {
   "cell_type": "code",
   "execution_count": null,
   "metadata": {
    "id": "hk7_5XHHKQva"
   },
   "outputs": [],
   "source": [
    "ccr.atoms_to_xyz(atoms2[0],\"test_solv_opt\")"
   ]
  },
  {
   "cell_type": "code",
   "execution_count": null,
   "metadata": {
    "colab": {
     "base_uri": "https://localhost:8080/",
     "height": 417
    },
    "id": "94n3cLZNK_5N",
    "outputId": "4589ed1a-7afd-4db4-9bf8-529e2350ce26"
   },
   "outputs": [
    {
     "data": {
      "application/3dmoljs_load.v0": "<div id=\"3dmolviewer_17511257389665341\"  style=\"position: relative; width: 800px; height: 400px;\">\n        <p id=\"3dmolwarning_17511257389665341\" style=\"background-color:#ffcccc;color:black\">3Dmol.js failed to load for some reason.  Please check your browser console for error messages.<br></p>\n        </div>\n<script>\n\nvar loadScriptAsync = function(uri){\n  return new Promise((resolve, reject) => {\n    //this is to ignore the existence of requirejs amd\n    var savedexports, savedmodule;\n    if (typeof exports !== 'undefined') savedexports = exports;\n    else exports = {}\n    if (typeof module !== 'undefined') savedmodule = module;\n    else module = {}\n\n    var tag = document.createElement('script');\n    tag.src = uri;\n    tag.async = true;\n    tag.onload = () => {\n        exports = savedexports;\n        module = savedmodule;\n        resolve();\n    };\n  var firstScriptTag = document.getElementsByTagName('script')[0];\n  firstScriptTag.parentNode.insertBefore(tag, firstScriptTag);\n});\n};\n\nif(typeof $3Dmolpromise === 'undefined') {\n$3Dmolpromise = null;\n  $3Dmolpromise = loadScriptAsync('https://cdn.jsdelivr.net/npm/3dmol@2.5.1/build/3Dmol-min.js');\n}\n\nvar viewer_17511257389665341 = null;\nvar warn = document.getElementById(\"3dmolwarning_17511257389665341\");\nif(warn) {\n    warn.parentNode.removeChild(warn);\n}\n$3Dmolpromise.then(function() {\nviewer_17511257389665341 = $3Dmol.createViewer(document.getElementById(\"3dmolviewer_17511257389665341\"),{backgroundColor:\"white\"});\nviewer_17511257389665341.zoomTo();\n\tviewer_17511257389665341.addModel(\"54\\n\\nC       1.143301430546669     -0.026740213347254     -0.577268021781431\\nC       0.606475334277099      1.252795046420315     -0.551356924877090\\nC      -0.769133747957614      1.381663284093593     -0.537725540872396\\nF      -1.301015160879886      2.634669695483427     -0.507211927310777\\nC      -1.632309350544982      0.306696443732376     -0.550620297184555\\nC      -1.078449408785270     -0.969623177053791     -0.557405255535191\\nC       0.303245516740958     -1.137916568638658     -0.570870840687366\\nH       2.214398030593880     -0.164996768204373     -0.588135077475217\\nH       1.233840873727472      2.133409548284653     -0.502992946704083\\nH      -2.703745386241812      0.461079360102220     -0.550094007231061\\nH      -1.742864410684420     -1.821386329340830     -0.526750759868757\\nH       0.734291879853875     -2.132771112874658     -0.560332817071761\\nO      -0.471600453800832     -2.145282456840154     -3.580779462893112\\nH       0.296349041654479     -2.585840314551803     -3.957202201316375\\nH      -0.131536944491885     -1.606539861334666     -2.854130097507033\\nO       2.169288632205758      1.080358008078834      2.770613302259330\\nH       2.666799380026572      1.003189975650407      1.937953786991886\\nH       1.494849682519217      0.379041014631656      2.738948796207483\\nO       4.271800255639942      0.198596570480891     -1.801094009291807\\nH       5.160527214701995      0.059463300333468     -2.139876192112386\\nH       3.841389894984584      0.831230654721888     -2.414248014690060\\nO       3.033414635973747      2.229877965731136     -3.193369342584714\\nH       3.155012122078388      2.930967687045864     -2.523309103616900\\nH       2.094085521933996      2.200385257295373     -3.395820701649612\\nO       3.010390150360538     -1.761875896586366      1.545570960595039\\nH       3.796697070733034     -1.283122426953091      1.873463932675466\\nH       2.517071051880573     -1.988776148917840      2.339002340785122\\nO      -1.386875730627728      4.658926557890308      1.679439142243409\\nH      -2.321097752501039      4.871661984254772      1.751892169924707\\nH      -1.321728903625653      3.998144277088727      0.977516077048059\\nO       3.817463916491531      3.963649388261115     -1.172006926539012\\nH       3.241185454541138      4.568611357697620     -0.639828555304210\\nH       4.613072204982058      4.458089585616686     -1.393396571538270\\nO      -3.874033509144614     -2.582000361999710     -0.120604696348842\\nH      -3.615577590496292     -2.957611635206844     -0.981036890495204\\nH      -4.174640261770456     -3.330154252091682      0.402346922774314\\nO       2.238869323187490      5.289282277985381      0.472721706118402\\nH       1.821669905784088      4.632126201821724      1.082000766861870\\nH       1.540418245367149      5.907901149789124      0.246876209309844\\nO       4.013169994228730      1.585833860426109      0.574015988203854\\nH       4.004784487816713      2.482385592941398      0.205794024917997\\nH       4.198303961612971      1.023011709591560     -0.206472171120700\\nO       1.081429344408895      3.487405678274480      2.060116302661144\\nH       1.422271008978892      2.648232084118131      2.440741753555929\\nH       0.314437066747406      3.779091954854477      2.566997266850548\\nO      -0.028249035747919     -0.757804341328692      2.649050480719308\\nH       0.027414473460410     -1.130669732981667      1.757467441772897\\nH      -0.836149039981782     -0.232898205886273      2.644262654108298\\nO       5.061076726147019     -0.087199077574182      2.589107063790260\\nH       4.510762198798488      0.185218930137633      3.333041247754016\\nH       4.938345112821163      0.639358813483276      1.951139592481158\\nO      -2.855613214820274     -3.410465022972156     -2.675958278147556\\nH      -3.452185848487507     -3.392231388196019     -3.428705424883018\\nH      -2.025029093268697     -3.018040312531635     -2.999148604069021\\n\",\"xyz\");\n\tviewer_17511257389665341.setStyle({\"stick\": {}, \"sphere\": {\"radius\": 0.5}});\n\tviewer_17511257389665341.zoomTo();\nviewer_17511257389665341.render();\n});\n</script>",
      "text/html": [
       "<div id=\"3dmolviewer_17511257389665341\"  style=\"position: relative; width: 800px; height: 400px;\">\n",
       "        <p id=\"3dmolwarning_17511257389665341\" style=\"background-color:#ffcccc;color:black\">3Dmol.js failed to load for some reason.  Please check your browser console for error messages.<br></p>\n",
       "        </div>\n",
       "<script>\n",
       "\n",
       "var loadScriptAsync = function(uri){\n",
       "  return new Promise((resolve, reject) => {\n",
       "    //this is to ignore the existence of requirejs amd\n",
       "    var savedexports, savedmodule;\n",
       "    if (typeof exports !== 'undefined') savedexports = exports;\n",
       "    else exports = {}\n",
       "    if (typeof module !== 'undefined') savedmodule = module;\n",
       "    else module = {}\n",
       "\n",
       "    var tag = document.createElement('script');\n",
       "    tag.src = uri;\n",
       "    tag.async = true;\n",
       "    tag.onload = () => {\n",
       "        exports = savedexports;\n",
       "        module = savedmodule;\n",
       "        resolve();\n",
       "    };\n",
       "  var firstScriptTag = document.getElementsByTagName('script')[0];\n",
       "  firstScriptTag.parentNode.insertBefore(tag, firstScriptTag);\n",
       "});\n",
       "};\n",
       "\n",
       "if(typeof $3Dmolpromise === 'undefined') {\n",
       "$3Dmolpromise = null;\n",
       "  $3Dmolpromise = loadScriptAsync('https://cdn.jsdelivr.net/npm/3dmol@2.5.1/build/3Dmol-min.js');\n",
       "}\n",
       "\n",
       "var viewer_17511257389665341 = null;\n",
       "var warn = document.getElementById(\"3dmolwarning_17511257389665341\");\n",
       "if(warn) {\n",
       "    warn.parentNode.removeChild(warn);\n",
       "}\n",
       "$3Dmolpromise.then(function() {\n",
       "viewer_17511257389665341 = $3Dmol.createViewer(document.getElementById(\"3dmolviewer_17511257389665341\"),{backgroundColor:\"white\"});\n",
       "viewer_17511257389665341.zoomTo();\n",
       "\tviewer_17511257389665341.addModel(\"54\\n\\nC       1.143301430546669     -0.026740213347254     -0.577268021781431\\nC       0.606475334277099      1.252795046420315     -0.551356924877090\\nC      -0.769133747957614      1.381663284093593     -0.537725540872396\\nF      -1.301015160879886      2.634669695483427     -0.507211927310777\\nC      -1.632309350544982      0.306696443732376     -0.550620297184555\\nC      -1.078449408785270     -0.969623177053791     -0.557405255535191\\nC       0.303245516740958     -1.137916568638658     -0.570870840687366\\nH       2.214398030593880     -0.164996768204373     -0.588135077475217\\nH       1.233840873727472      2.133409548284653     -0.502992946704083\\nH      -2.703745386241812      0.461079360102220     -0.550094007231061\\nH      -1.742864410684420     -1.821386329340830     -0.526750759868757\\nH       0.734291879853875     -2.132771112874658     -0.560332817071761\\nO      -0.471600453800832     -2.145282456840154     -3.580779462893112\\nH       0.296349041654479     -2.585840314551803     -3.957202201316375\\nH      -0.131536944491885     -1.606539861334666     -2.854130097507033\\nO       2.169288632205758      1.080358008078834      2.770613302259330\\nH       2.666799380026572      1.003189975650407      1.937953786991886\\nH       1.494849682519217      0.379041014631656      2.738948796207483\\nO       4.271800255639942      0.198596570480891     -1.801094009291807\\nH       5.160527214701995      0.059463300333468     -2.139876192112386\\nH       3.841389894984584      0.831230654721888     -2.414248014690060\\nO       3.033414635973747      2.229877965731136     -3.193369342584714\\nH       3.155012122078388      2.930967687045864     -2.523309103616900\\nH       2.094085521933996      2.200385257295373     -3.395820701649612\\nO       3.010390150360538     -1.761875896586366      1.545570960595039\\nH       3.796697070733034     -1.283122426953091      1.873463932675466\\nH       2.517071051880573     -1.988776148917840      2.339002340785122\\nO      -1.386875730627728      4.658926557890308      1.679439142243409\\nH      -2.321097752501039      4.871661984254772      1.751892169924707\\nH      -1.321728903625653      3.998144277088727      0.977516077048059\\nO       3.817463916491531      3.963649388261115     -1.172006926539012\\nH       3.241185454541138      4.568611357697620     -0.639828555304210\\nH       4.613072204982058      4.458089585616686     -1.393396571538270\\nO      -3.874033509144614     -2.582000361999710     -0.120604696348842\\nH      -3.615577590496292     -2.957611635206844     -0.981036890495204\\nH      -4.174640261770456     -3.330154252091682      0.402346922774314\\nO       2.238869323187490      5.289282277985381      0.472721706118402\\nH       1.821669905784088      4.632126201821724      1.082000766861870\\nH       1.540418245367149      5.907901149789124      0.246876209309844\\nO       4.013169994228730      1.585833860426109      0.574015988203854\\nH       4.004784487816713      2.482385592941398      0.205794024917997\\nH       4.198303961612971      1.023011709591560     -0.206472171120700\\nO       1.081429344408895      3.487405678274480      2.060116302661144\\nH       1.422271008978892      2.648232084118131      2.440741753555929\\nH       0.314437066747406      3.779091954854477      2.566997266850548\\nO      -0.028249035747919     -0.757804341328692      2.649050480719308\\nH       0.027414473460410     -1.130669732981667      1.757467441772897\\nH      -0.836149039981782     -0.232898205886273      2.644262654108298\\nO       5.061076726147019     -0.087199077574182      2.589107063790260\\nH       4.510762198798488      0.185218930137633      3.333041247754016\\nH       4.938345112821163      0.639358813483276      1.951139592481158\\nO      -2.855613214820274     -3.410465022972156     -2.675958278147556\\nH      -3.452185848487507     -3.392231388196019     -3.428705424883018\\nH      -2.025029093268697     -3.018040312531635     -2.999148604069021\\n\",\"xyz\");\n",
       "\tviewer_17511257389665341.setStyle({\"stick\": {}, \"sphere\": {\"radius\": 0.5}});\n",
       "\tviewer_17511257389665341.zoomTo();\n",
       "viewer_17511257389665341.render();\n",
       "});\n",
       "</script>"
      ]
     },
     "metadata": {},
     "output_type": "display_data"
    }
   ],
   "source": [
    "f = open(\"test_solv_opt.xyz\",\"r\")\n",
    "solv_text = f.read()\n",
    "f.close()\n",
    "\n",
    "ccr.visualize_molecule(solv_text)"
   ]
  },
  {
   "cell_type": "markdown",
   "metadata": {
    "id": "30nLseUkJxLe"
   },
   "source": [
    "## Dock a molecule, then solvate the ligand\n",
    "- Docks molecule\n",
    "- solvates ligand and visualizes\n",
    "- optmizes solvated ligand and visualizes again"
   ]
  },
  {
   "cell_type": "code",
   "execution_count": null,
   "metadata": {
    "colab": {
     "base_uri": "https://localhost:8080/"
    },
    "id": "i2t2JohJJ41G",
    "outputId": "1b2c6257-d4c2-4bd5-e1c5-92597b748596"
   },
   "outputs": [
    {
     "name": "stdout",
     "output_type": "stream",
     "text": [
      "===============================================\n",
      "Docking molecule.\n",
      "SDF file written for score -5.1\n"
     ]
    }
   ],
   "source": [
    "score = ccr.dock_smiles(\"c1cc(F)ccc1\", \"MAOB\", cpuCount)"
   ]
  },
  {
   "cell_type": "code",
   "execution_count": null,
   "metadata": {
    "id": "JymcNohEKLpl"
   },
   "outputs": [],
   "source": [
    "xyz_string = ccr.sdf_to_xyz(\"trial_1.sdf\", \"new.xyz\")"
   ]
  },
  {
   "cell_type": "code",
   "execution_count": null,
   "metadata": {
    "colab": {
     "base_uri": "https://localhost:8080/"
    },
    "id": "USoh4_PvKeIm",
    "outputId": "1c27aa4c-4163-41e0-812a-3de324869807"
   },
   "outputs": [
    {
     "name": "stdout",
     "output_type": "stream",
     "text": [
      "add_waters class initialized\n"
     ]
    }
   ],
   "source": [
    "solvate = ccr.solvation(\"new.xyz\",2)"
   ]
  },
  {
   "cell_type": "code",
   "execution_count": null,
   "metadata": {
    "colab": {
     "base_uri": "https://localhost:8080/"
    },
    "id": "i-RWeC2sKqdc",
    "outputId": "65a7c482-652d-4742-db8e-6efb7611d1bc"
   },
   "outputs": [
    {
     "name": "stdout",
     "output_type": "stream",
     "text": [
      "Maximum dimensions after augmentation are:\n",
      "x - Max: 51.66445280344513, Min: 43.82454562980532\n",
      "y - Max: 165.85770858406514, Min: 154.28602574341997\n",
      "z - Max: 37.36743850242533, Min: 25.875391636810598\n",
      "Volume is 1042.5690564419203 A^3\n",
      "Added 14/20 waters.\n",
      "==================================================\n"
     ]
    }
   ],
   "source": [
    "new_string = solvate.add_waters(20)"
   ]
  },
  {
   "cell_type": "code",
   "execution_count": null,
   "metadata": {
    "colab": {
     "base_uri": "https://localhost:8080/",
     "height": 417
    },
    "id": "k1ydbYqiKufx",
    "outputId": "b50d1bbe-f3a2-4af7-c373-6c3f1a819eb3"
   },
   "outputs": [
    {
     "data": {
      "application/3dmoljs_load.v0": "<div id=\"3dmolviewer_17511257716206675\"  style=\"position: relative; width: 800px; height: 400px;\">\n        <p id=\"3dmolwarning_17511257716206675\" style=\"background-color:#ffcccc;color:black\">3Dmol.js failed to load for some reason.  Please check your browser console for error messages.<br></p>\n        </div>\n<script>\n\nvar loadScriptAsync = function(uri){\n  return new Promise((resolve, reject) => {\n    //this is to ignore the existence of requirejs amd\n    var savedexports, savedmodule;\n    if (typeof exports !== 'undefined') savedexports = exports;\n    else exports = {}\n    if (typeof module !== 'undefined') savedmodule = module;\n    else module = {}\n\n    var tag = document.createElement('script');\n    tag.src = uri;\n    tag.async = true;\n    tag.onload = () => {\n        exports = savedexports;\n        module = savedmodule;\n        resolve();\n    };\n  var firstScriptTag = document.getElementsByTagName('script')[0];\n  firstScriptTag.parentNode.insertBefore(tag, firstScriptTag);\n});\n};\n\nif(typeof $3Dmolpromise === 'undefined') {\n$3Dmolpromise = null;\n  $3Dmolpromise = loadScriptAsync('https://cdn.jsdelivr.net/npm/3dmol@2.5.1/build/3Dmol-min.js');\n}\n\nvar viewer_17511257716206675 = null;\nvar warn = document.getElementById(\"3dmolwarning_17511257716206675\");\nif(warn) {\n    warn.parentNode.removeChild(warn);\n}\n$3Dmolpromise.then(function() {\nviewer_17511257716206675 = $3Dmol.createViewer(document.getElementById(\"3dmolviewer_17511257716206675\"),{backgroundColor:\"white\"});\nviewer_17511257716206675.zoomTo();\n\tviewer_17511257716206675.addModel(\"54\\n\\nF 47.475681770439415 158.11235678860908 29.710899855312533\\nC 47.607983221459605 159.0767530240058 30.65099698805621\\nC 47.45135151158699 160.4209030673647 30.298669396763486\\nC 47.588207575597615 161.41684167318894 31.270093326683842\\nC 47.88120054374834 161.06772899865362 32.592639502009796\\nC 48.037679977803705 159.72274676933506 32.94395470555919\\nC 47.900895399364344 158.7266696788427 31.97274622561494\\nH 47.22454562980532 160.6912912448193 29.275391636810596\\nH 47.46736636168948 162.45770858406513 30.999049889964574\\nH 47.987050844201626 161.8388839754572 33.3446895024801\\nH 48.26445280344513 159.45343898043998 33.96743850242533\\nH 48.021949453458646 157.68602574341998 32.24488286761383\\nO 45.61497401880006   162.10950186159488    27.237384310736033\\nH 45.63370378595006   162.13738589240083    26.282435765107778\\nH 45.813702006447585   163.00130801810138    27.517105626140566\\nO 48.156519234242914   160.04662391407666    37.0305652501052\\nH 48.844725735835915   160.65547710475033    36.76841138017264\\nH 47.96676323223466   159.5323485355849    36.24789766873491\\nO 48.44628043397001   165.1831158313508    33.210835735744716\\nH 47.96880871996095   164.35575660949235    33.187329811468835\\nH 48.62073113308247   165.3967350093979    32.29596478938198\\nO 49.529616074303696   163.35482743183428    26.699594952450873\\nH 50.0342686826247   162.6003887670625    26.99826382287626\\nH 49.59885288965295   163.34006841570084    25.74668179639096\\nO 49.16898997728584   164.95433049303054    36.28944801772105\\nH 48.943304972677026   164.0818423281013    36.60707315668536\\nH 49.80315552114567   165.29285498078426    36.91896392881548\\nO 45.255262715342255   159.77374896954262    26.703869583777823\\nH 45.35454002318528   159.53165674759373    25.78485357718801\\nH 45.652200712039324   159.05673385764223    27.195178655781962\\nO 44.25038892145487   163.84136484296673    34.108914472315035\\nH 45.01936771179743   163.28251011260488    34.01191932550609\\nH 43.55257505349211   163.25737740158212    34.40058127216189\\nO 45.35672572348209   163.57858926386893    29.580990035178758\\nH 45.4252155119079   162.6659227607807    29.85558801618203\\nH 45.65527861165016   164.0883238705113    30.332050520031117\\nO 44.98873758177801   161.86725782056038    31.97591564372168\\nH 44.99423548915283   162.8044741947799    31.78976976260077\\nH 44.915334874048646   161.44368505225552    31.122538118474182\\nO 46.848994389118594   156.4408421652627    31.931017639283187\\nH 47.640352334383664   155.9959759035651    31.63285382555314\\nH 46.487772423072684   156.85749004948877    31.150647035041303\\nO 48.27635360512102   162.62667968679588    28.05518388309002\\nH 47.57298032958678   163.2178386992981    27.792787036023185\\nH 48.94969680391702   163.19108166491108    28.430835838873328\\nO 50.11843075474046   164.16058133864536    30.919751571720848\\nH 49.21219855021691   163.95700873935965    31.14415397022286\\nH 50.32629334112524   164.95161166225955    31.413835795768982\\nO 44.34821015016811   163.9517695404837    37.364824562817354\\nH 44.119127989408085   163.23288766504956    36.77849252297746\\nH 44.56485101271488   164.68353351964254    36.78980868161963\\nO 50.05657003882728   155.2698683960256    30.134593742537092\\nH 50.61758925379196   155.0227064600077    29.401638446510592\\nH 49.850176673388674   156.19176245344335    29.991177656445725\\n\",\"xyz\");\n\tviewer_17511257716206675.setStyle({\"stick\": {}, \"sphere\": {\"radius\": 0.5}});\n\tviewer_17511257716206675.zoomTo();\nviewer_17511257716206675.render();\n});\n</script>",
      "text/html": [
       "<div id=\"3dmolviewer_17511257716206675\"  style=\"position: relative; width: 800px; height: 400px;\">\n",
       "        <p id=\"3dmolwarning_17511257716206675\" style=\"background-color:#ffcccc;color:black\">3Dmol.js failed to load for some reason.  Please check your browser console for error messages.<br></p>\n",
       "        </div>\n",
       "<script>\n",
       "\n",
       "var loadScriptAsync = function(uri){\n",
       "  return new Promise((resolve, reject) => {\n",
       "    //this is to ignore the existence of requirejs amd\n",
       "    var savedexports, savedmodule;\n",
       "    if (typeof exports !== 'undefined') savedexports = exports;\n",
       "    else exports = {}\n",
       "    if (typeof module !== 'undefined') savedmodule = module;\n",
       "    else module = {}\n",
       "\n",
       "    var tag = document.createElement('script');\n",
       "    tag.src = uri;\n",
       "    tag.async = true;\n",
       "    tag.onload = () => {\n",
       "        exports = savedexports;\n",
       "        module = savedmodule;\n",
       "        resolve();\n",
       "    };\n",
       "  var firstScriptTag = document.getElementsByTagName('script')[0];\n",
       "  firstScriptTag.parentNode.insertBefore(tag, firstScriptTag);\n",
       "});\n",
       "};\n",
       "\n",
       "if(typeof $3Dmolpromise === 'undefined') {\n",
       "$3Dmolpromise = null;\n",
       "  $3Dmolpromise = loadScriptAsync('https://cdn.jsdelivr.net/npm/3dmol@2.5.1/build/3Dmol-min.js');\n",
       "}\n",
       "\n",
       "var viewer_17511257716206675 = null;\n",
       "var warn = document.getElementById(\"3dmolwarning_17511257716206675\");\n",
       "if(warn) {\n",
       "    warn.parentNode.removeChild(warn);\n",
       "}\n",
       "$3Dmolpromise.then(function() {\n",
       "viewer_17511257716206675 = $3Dmol.createViewer(document.getElementById(\"3dmolviewer_17511257716206675\"),{backgroundColor:\"white\"});\n",
       "viewer_17511257716206675.zoomTo();\n",
       "\tviewer_17511257716206675.addModel(\"54\\n\\nF 47.475681770439415 158.11235678860908 29.710899855312533\\nC 47.607983221459605 159.0767530240058 30.65099698805621\\nC 47.45135151158699 160.4209030673647 30.298669396763486\\nC 47.588207575597615 161.41684167318894 31.270093326683842\\nC 47.88120054374834 161.06772899865362 32.592639502009796\\nC 48.037679977803705 159.72274676933506 32.94395470555919\\nC 47.900895399364344 158.7266696788427 31.97274622561494\\nH 47.22454562980532 160.6912912448193 29.275391636810596\\nH 47.46736636168948 162.45770858406513 30.999049889964574\\nH 47.987050844201626 161.8388839754572 33.3446895024801\\nH 48.26445280344513 159.45343898043998 33.96743850242533\\nH 48.021949453458646 157.68602574341998 32.24488286761383\\nO 45.61497401880006   162.10950186159488    27.237384310736033\\nH 45.63370378595006   162.13738589240083    26.282435765107778\\nH 45.813702006447585   163.00130801810138    27.517105626140566\\nO 48.156519234242914   160.04662391407666    37.0305652501052\\nH 48.844725735835915   160.65547710475033    36.76841138017264\\nH 47.96676323223466   159.5323485355849    36.24789766873491\\nO 48.44628043397001   165.1831158313508    33.210835735744716\\nH 47.96880871996095   164.35575660949235    33.187329811468835\\nH 48.62073113308247   165.3967350093979    32.29596478938198\\nO 49.529616074303696   163.35482743183428    26.699594952450873\\nH 50.0342686826247   162.6003887670625    26.99826382287626\\nH 49.59885288965295   163.34006841570084    25.74668179639096\\nO 49.16898997728584   164.95433049303054    36.28944801772105\\nH 48.943304972677026   164.0818423281013    36.60707315668536\\nH 49.80315552114567   165.29285498078426    36.91896392881548\\nO 45.255262715342255   159.77374896954262    26.703869583777823\\nH 45.35454002318528   159.53165674759373    25.78485357718801\\nH 45.652200712039324   159.05673385764223    27.195178655781962\\nO 44.25038892145487   163.84136484296673    34.108914472315035\\nH 45.01936771179743   163.28251011260488    34.01191932550609\\nH 43.55257505349211   163.25737740158212    34.40058127216189\\nO 45.35672572348209   163.57858926386893    29.580990035178758\\nH 45.4252155119079   162.6659227607807    29.85558801618203\\nH 45.65527861165016   164.0883238705113    30.332050520031117\\nO 44.98873758177801   161.86725782056038    31.97591564372168\\nH 44.99423548915283   162.8044741947799    31.78976976260077\\nH 44.915334874048646   161.44368505225552    31.122538118474182\\nO 46.848994389118594   156.4408421652627    31.931017639283187\\nH 47.640352334383664   155.9959759035651    31.63285382555314\\nH 46.487772423072684   156.85749004948877    31.150647035041303\\nO 48.27635360512102   162.62667968679588    28.05518388309002\\nH 47.57298032958678   163.2178386992981    27.792787036023185\\nH 48.94969680391702   163.19108166491108    28.430835838873328\\nO 50.11843075474046   164.16058133864536    30.919751571720848\\nH 49.21219855021691   163.95700873935965    31.14415397022286\\nH 50.32629334112524   164.95161166225955    31.413835795768982\\nO 44.34821015016811   163.9517695404837    37.364824562817354\\nH 44.119127989408085   163.23288766504956    36.77849252297746\\nH 44.56485101271488   164.68353351964254    36.78980868161963\\nO 50.05657003882728   155.2698683960256    30.134593742537092\\nH 50.61758925379196   155.0227064600077    29.401638446510592\\nH 49.850176673388674   156.19176245344335    29.991177656445725\\n\",\"xyz\");\n",
       "\tviewer_17511257716206675.setStyle({\"stick\": {}, \"sphere\": {\"radius\": 0.5}});\n",
       "\tviewer_17511257716206675.zoomTo();\n",
       "viewer_17511257716206675.render();\n",
       "});\n",
       "</script>"
      ]
     },
     "metadata": {},
     "output_type": "display_data"
    }
   ],
   "source": [
    "ccr.visualize_molecule(new_string)"
   ]
  },
  {
   "cell_type": "code",
   "execution_count": null,
   "metadata": {
    "colab": {
     "base_uri": "https://localhost:8080/"
    },
    "id": "8I9mMqrjLA4L",
    "outputId": "ac6030d4-08c1-4ccb-8935-13f12752e174"
   },
   "outputs": [
    {
     "name": "stdout",
     "output_type": "stream",
     "text": [
      "Initial energy: -1401.475109 ha\n",
      "      Step     Time          Energy          fmax\n",
      "BFGS:    0 15:49:45   -38136.103530        5.542143\n",
      "BFGS:    1 15:49:45   -38136.849682        3.265410\n",
      "BFGS:    2 15:49:45   -38137.608087        1.941174\n",
      "BFGS:    3 15:49:45   -38138.081427        1.360634\n",
      "BFGS:    4 15:49:45   -38138.315323        0.820210\n",
      "BFGS:    5 15:49:45   -38138.514705        1.143375\n",
      "BFGS:    6 15:49:45   -38138.754487        1.174291\n",
      "BFGS:    7 15:49:46   -38138.962992        0.922679\n",
      "BFGS:    8 15:49:46   -38139.124187        0.980227\n",
      "BFGS:    9 15:49:46   -38139.256009        1.187606\n",
      "BFGS:   10 15:49:46   -38138.956460        3.957392\n",
      "BFGS:   11 15:49:46   -38139.402984        0.657055\n",
      "BFGS:   12 15:49:46   -38139.478624        0.483265\n",
      "BFGS:   13 15:49:46   -38139.523238        2.322676\n",
      "BFGS:   14 15:49:47   -38139.662148        0.443250\n",
      "BFGS:   15 15:49:47   -38139.705490        0.381057\n",
      "BFGS:   16 15:49:47   -38139.744717        1.654108\n",
      "BFGS:   17 15:49:47   -38139.827123        0.587328\n",
      "BFGS:   18 15:49:47   -38139.876363        0.445868\n",
      "BFGS:   19 15:49:47   -38139.967633        1.267419\n",
      "BFGS:   20 15:49:48   -38140.013913        0.477416\n",
      "BFGS:   21 15:49:48   -38140.061109        0.444299\n",
      "BFGS:   22 15:49:48   -38140.041409        2.142991\n",
      "BFGS:   23 15:49:48   -38140.162361        0.605968\n",
      "BFGS:   24 15:49:48   -38140.203843        0.447483\n",
      "BFGS:   25 15:49:48   -38139.908086        3.309359\n",
      "BFGS:   26 15:49:49   -38140.275156        0.338903\n",
      "BFGS:   27 15:49:49   -38140.318203        0.343643\n",
      "BFGS:   28 15:49:49   -38140.116305        2.458283\n",
      "BFGS:   29 15:49:49   -38140.407434        0.327159\n",
      "BFGS:   30 15:49:49   -38140.452469        0.324154\n",
      "BFGS:   31 15:49:49   -38140.403654        1.945300\n",
      "BFGS:   32 15:49:49   -38140.545634        0.345762\n",
      "BFGS:   33 15:49:50   -38140.583525        0.343386\n",
      "BFGS:   34 15:49:50   -38140.631306        1.368735\n",
      "BFGS:   35 15:49:50   -38140.695635        0.260831\n",
      "BFGS:   36 15:49:50   -38140.725683        0.289401\n",
      "BFGS:   37 15:49:50   -38140.776969        0.541125\n",
      "BFGS:   38 15:49:50   -38140.800053        0.354886\n",
      "BFGS:   39 15:49:51   -38140.830046        0.287475\n",
      "BFGS:   40 15:49:51   -38140.865373        0.291906\n",
      "BFGS:   41 15:49:51   -38140.896718        0.479632\n",
      "BFGS:   42 15:49:51   -38140.920706        0.863425\n",
      "BFGS:   43 15:49:51   -38140.969534        0.688543\n",
      "BFGS:   44 15:49:51   -38141.006617        0.489555\n",
      "BFGS:   45 15:49:51   -38141.036458        0.380974\n",
      "BFGS:   46 15:49:52   -38141.052832        0.228454\n",
      "BFGS:   47 15:49:52   -38141.072163        0.641330\n",
      "BFGS:   48 15:49:52   -38141.094592        0.436795\n",
      "BFGS:   49 15:49:52   -38141.116418        0.268188\n",
      "BFGS:   50 15:49:52   -38141.148407        0.259863\n",
      "BFGS:   51 15:49:52   -38141.169246        0.333101\n",
      "BFGS:   52 15:49:52   -38141.191180        0.380153\n",
      "BFGS:   53 15:49:53   -38141.204964        0.541745\n",
      "BFGS:   54 15:49:53   -38141.223037        0.229244\n",
      "BFGS:   55 15:49:53   -38141.243516        0.434990\n",
      "BFGS:   56 15:49:53   -38141.257919        0.445321\n",
      "BFGS:   57 15:49:53   -38141.275721        0.338829\n",
      "BFGS:   58 15:49:53   -38141.294558        0.248660\n",
      "BFGS:   59 15:49:54   -38141.315908        0.242761\n",
      "BFGS:   60 15:49:54   -38141.332683        0.433389\n",
      "BFGS:   61 15:49:54   -38141.348799        0.398252\n",
      "BFGS:   62 15:49:54   -38141.365184        0.248891\n",
      "BFGS:   63 15:49:54   -38141.384022        0.224998\n",
      "BFGS:   64 15:49:55   -38141.396170        0.272489\n",
      "BFGS:   65 15:49:55   -38141.410638        0.248426\n",
      "BFGS:   66 15:49:56   -38141.424900        0.287182\n",
      "BFGS:   67 15:49:56   -38141.437249        0.425580\n",
      "BFGS:   68 15:49:56   -38141.455403        0.470357\n",
      "BFGS:   69 15:49:57   -38141.469574        0.193518\n",
      "BFGS:   70 15:49:57   -38141.482292        0.276877\n",
      "BFGS:   71 15:49:57   -38141.495623        0.345436\n",
      "BFGS:   72 15:49:57   -38141.511376        0.324061\n",
      "BFGS:   73 15:49:57   -38141.524656        0.435574\n",
      "BFGS:   74 15:49:57   -38141.541062        0.420073\n",
      "BFGS:   75 15:49:57   -38141.558705        0.322637\n",
      "BFGS:   76 15:49:58   -38141.579059        0.354107\n",
      "BFGS:   77 15:49:58   -38141.594111        0.329699\n",
      "BFGS:   78 15:49:58   -38141.605744        0.320519\n",
      "BFGS:   79 15:49:58   -38141.620552        0.467524\n",
      "BFGS:   80 15:49:58   -38141.641845        0.450612\n",
      "BFGS:   81 15:49:58   -38141.658407        0.325643\n",
      "BFGS:   82 15:49:59   -38141.682891        0.333030\n",
      "BFGS:   83 15:49:59   -38141.704110        0.374847\n",
      "BFGS:   84 15:49:59   -38141.720992        0.370501\n",
      "BFGS:   85 15:49:59   -38141.737235        0.213559\n",
      "BFGS:   86 15:49:59   -38141.754360        0.246314\n",
      "BFGS:   87 15:49:59   -38141.767713        0.250242\n",
      "BFGS:   88 15:49:59   -38141.783193        0.297059\n",
      "BFGS:   89 15:50:00   -38141.797044        0.237867\n",
      "BFGS:   90 15:50:00   -38141.810118        0.229941\n",
      "BFGS:   91 15:50:00   -38141.821053        0.191721\n",
      "BFGS:   92 15:50:00   -38141.829359        0.145779\n",
      "BFGS:   93 15:50:00   -38141.837850        0.149686\n",
      "BFGS:   94 15:50:00   -38141.846151        0.160768\n",
      "BFGS:   95 15:50:00   -38141.855235        0.341873\n",
      "BFGS:   96 15:50:01   -38141.868229        0.250284\n",
      "BFGS:   97 15:50:01   -38141.886118        0.212138\n",
      "BFGS:   98 15:50:01   -38141.906312        0.250500\n",
      "BFGS:   99 15:50:01   -38141.923986        0.204582\n",
      "BFGS:  100 15:50:01   -38141.947937        0.403912\n",
      "BFGS:  101 15:50:01   -38141.970208        0.488419\n",
      "BFGS:  102 15:50:01   -38141.987979        0.674139\n",
      "BFGS:  103 15:50:02   -38142.016219        0.762289\n",
      "BFGS:  104 15:50:02   -38142.047172        0.445347\n",
      "BFGS:  105 15:50:02   -38142.076877        0.448876\n",
      "BFGS:  106 15:50:02   -38142.121848        0.661513\n",
      "BFGS:  107 15:50:02   -38142.148157        0.491824\n",
      "BFGS:  108 15:50:02   -38142.180305        0.458505\n",
      "BFGS:  109 15:50:03   -38142.225127        0.492989\n",
      "BFGS:  110 15:50:03   -38142.248698        0.645380\n",
      "BFGS:  111 15:50:03   -38142.230887        1.670118\n",
      "BFGS:  112 15:50:03   -38142.295663        0.283337\n",
      "BFGS:  113 15:50:03   -38142.312156        0.403471\n",
      "BFGS:  114 15:50:03   -38142.339431        0.572484\n",
      "BFGS:  115 15:50:03   -38142.369107        0.350290\n",
      "BFGS:  116 15:50:04   -38142.389953        0.353284\n",
      "BFGS:  117 15:50:04   -38142.411986        0.321582\n",
      "BFGS:  118 15:50:04   -38142.424070        0.276641\n",
      "BFGS:  119 15:50:04   -38142.437856        0.426138\n",
      "BFGS:  120 15:50:04   -38142.452684        0.296549\n",
      "BFGS:  121 15:50:04   -38142.471672        0.187423\n",
      "BFGS:  122 15:50:04   -38142.485707        0.400339\n",
      "BFGS:  123 15:50:05   -38142.500836        0.372251\n",
      "BFGS:  124 15:50:05   -38142.518429        0.275521\n",
      "BFGS:  125 15:50:05   -38142.531907        0.179947\n",
      "BFGS:  126 15:50:05   -38142.541513        0.130654\n",
      "BFGS:  127 15:50:05   -38142.548407        0.126868\n",
      "BFGS:  128 15:50:05   -38142.553723        0.179460\n",
      "BFGS:  129 15:50:06   -38142.558406        0.164749\n",
      "BFGS:  130 15:50:06   -38142.563054        0.158712\n",
      "BFGS:  131 15:50:06   -38142.568670        0.156772\n",
      "BFGS:  132 15:50:06   -38142.573958        0.153515\n",
      "BFGS:  133 15:50:06   -38142.580681        0.192633\n",
      "BFGS:  134 15:50:06   -38142.586832        0.130918\n",
      "BFGS:  135 15:50:07   -38142.592417        0.179200\n",
      "BFGS:  136 15:50:07   -38142.598412        0.168533\n",
      "BFGS:  137 15:50:07   -38142.608608        0.283694\n",
      "BFGS:  138 15:50:08   -38142.618423        0.318953\n",
      "BFGS:  139 15:50:08   -38142.628167        0.249713\n",
      "BFGS:  140 15:50:09   -38142.634379        0.389853\n",
      "BFGS:  141 15:50:09   -38142.642315        0.219038\n",
      "BFGS:  142 15:50:09   -38142.650690        0.181353\n",
      "BFGS:  143 15:50:09   -38142.660792        0.188035\n",
      "BFGS:  144 15:50:10   -38142.669470        0.338676\n",
      "BFGS:  145 15:50:10   -38142.677854        0.219729\n",
      "BFGS:  146 15:50:10   -38142.684497        0.543429\n",
      "BFGS:  147 15:50:10   -38142.698784        0.254259\n",
      "BFGS:  148 15:50:10   -38142.714816        0.209531\n",
      "BFGS:  149 15:50:10   -38142.723169        0.206288\n",
      "BFGS:  150 15:50:10   -38142.729257        0.274172\n",
      "BFGS:  151 15:50:11   -38142.733747        0.170139\n",
      "BFGS:  152 15:50:11   -38142.738404        0.379163\n",
      "BFGS:  153 15:50:11   -38142.745315        0.141499\n",
      "BFGS:  154 15:50:11   -38142.753669        0.173217\n",
      "BFGS:  155 15:50:11   -38142.761144        0.207459\n",
      "BFGS:  156 15:50:11   -38142.768439        0.213764\n",
      "BFGS:  157 15:50:11   -38142.775289        0.182369\n",
      "BFGS:  158 15:50:12   -38142.780888        0.283984\n",
      "BFGS:  159 15:50:12   -38142.785153        0.170388\n",
      "BFGS:  160 15:50:12   -38142.790388        0.215071\n",
      "BFGS:  161 15:50:12   -38142.797434        0.251147\n",
      "BFGS:  162 15:50:12   -38142.807884        0.245658\n",
      "BFGS:  163 15:50:12   -38142.816123        0.254894\n",
      "BFGS:  164 15:50:13   -38142.825165        0.232693\n",
      "BFGS:  165 15:50:13   -38142.831719        0.242267\n",
      "BFGS:  166 15:50:13   -38142.838644        0.465807\n",
      "BFGS:  167 15:50:13   -38142.847619        0.205248\n",
      "BFGS:  168 15:50:13   -38142.853666        0.247937\n",
      "BFGS:  169 15:50:13   -38142.860907        0.154652\n",
      "BFGS:  170 15:50:13   -38142.867504        0.125845\n",
      "BFGS:  171 15:50:14   -38142.874962        0.146809\n",
      "BFGS:  172 15:50:14   -38142.879903        0.139813\n",
      "BFGS:  173 15:50:14   -38142.885398        0.138412\n",
      "BFGS:  174 15:50:14   -38142.891692        0.207421\n",
      "BFGS:  175 15:50:14   -38142.898931        0.195134\n",
      "BFGS:  176 15:50:14   -38142.902133        0.555476\n",
      "BFGS:  177 15:50:15   -38142.913527        0.196129\n",
      "BFGS:  178 15:50:15   -38142.921891        0.173980\n",
      "BFGS:  179 15:50:15   -38142.935255        0.241792\n",
      "BFGS:  180 15:50:15   -38142.942976        0.276646\n",
      "BFGS:  181 15:50:15   -38142.953870        0.208567\n",
      "BFGS:  182 15:50:15   -38142.968449        0.209201\n",
      "BFGS:  183 15:50:15   -38142.976980        0.277507\n",
      "BFGS:  184 15:50:16   -38142.983306        0.411376\n",
      "BFGS:  185 15:50:16   -38142.993493        0.201388\n",
      "BFGS:  186 15:50:16   -38143.004581        0.260761\n",
      "BFGS:  187 15:50:16   -38143.012768        0.210159\n",
      "BFGS:  188 15:50:17   -38143.022188        0.202343\n",
      "BFGS:  189 15:50:17   -38143.033653        0.257889\n",
      "BFGS:  190 15:50:17   -38143.043874        0.186189\n",
      "BFGS:  191 15:50:17   -38143.053028        0.266998\n",
      "BFGS:  192 15:50:17   -38143.066851        0.281608\n",
      "BFGS:  193 15:50:17   -38143.081700        0.396237\n",
      "BFGS:  194 15:50:18   -38143.096915        0.378645\n",
      "BFGS:  195 15:50:18   -38143.109094        0.363923\n",
      "BFGS:  196 15:50:18   -38143.123480        0.342685\n",
      "BFGS:  197 15:50:18   -38143.137354        0.342849\n",
      "BFGS:  198 15:50:18   -38143.155629        0.249880\n",
      "BFGS:  199 15:50:18   -38143.167743        0.262518\n",
      "BFGS:  200 15:50:19   -38143.178970        0.192889\n",
      "BFGS:  201 15:50:19   -38143.187695        0.189242\n",
      "BFGS:  202 15:50:19   -38143.196217        0.242907\n",
      "BFGS:  203 15:50:19   -38143.205265        0.259618\n",
      "BFGS:  204 15:50:19   -38143.211998        0.184808\n",
      "BFGS:  205 15:50:20   -38143.218050        0.247841\n",
      "BFGS:  206 15:50:20   -38143.222907        0.199617\n",
      "BFGS:  207 15:50:20   -38143.229054        0.202604\n",
      "BFGS:  208 15:50:21   -38143.234207        0.151847\n",
      "BFGS:  209 15:50:21   -38143.237376        0.103465\n",
      "BFGS:  210 15:50:21   -38143.240464        0.118312\n",
      "BFGS:  211 15:50:22   -38143.243488        0.108106\n",
      "BFGS:  212 15:50:22   -38143.245790        0.109275\n",
      "BFGS:  213 15:50:22   -38143.247524        0.085998\n",
      "Final energy: -1401.737646 ha\n",
      "Energy difference: -0.262537 ha\n"
     ]
    }
   ],
   "source": [
    "f = open(\"mol_to_opt.xyz\",\"w\")\n",
    "f.write(new_string)\n",
    "f.close()\n",
    "\n",
    "atoms3 = ccr.XYZ_to_atoms(\"mol_to_opt.xyz\")\n",
    "energy = ccr.opt_energy(atoms3[0],calculator)"
   ]
  },
  {
   "cell_type": "code",
   "execution_count": null,
   "metadata": {
    "colab": {
     "base_uri": "https://localhost:8080/",
     "height": 417
    },
    "id": "eBTFqpIxLUit",
    "outputId": "32aecc5e-1207-45d7-b7b8-d2afc1309fff"
   },
   "outputs": [
    {
     "data": {
      "application/3dmoljs_load.v0": "<div id=\"3dmolviewer_17511258339910426\"  style=\"position: relative; width: 800px; height: 400px;\">\n        <p id=\"3dmolwarning_17511258339910426\" style=\"background-color:#ffcccc;color:black\">3Dmol.js failed to load for some reason.  Please check your browser console for error messages.<br></p>\n        </div>\n<script>\n\nvar loadScriptAsync = function(uri){\n  return new Promise((resolve, reject) => {\n    //this is to ignore the existence of requirejs amd\n    var savedexports, savedmodule;\n    if (typeof exports !== 'undefined') savedexports = exports;\n    else exports = {}\n    if (typeof module !== 'undefined') savedmodule = module;\n    else module = {}\n\n    var tag = document.createElement('script');\n    tag.src = uri;\n    tag.async = true;\n    tag.onload = () => {\n        exports = savedexports;\n        module = savedmodule;\n        resolve();\n    };\n  var firstScriptTag = document.getElementsByTagName('script')[0];\n  firstScriptTag.parentNode.insertBefore(tag, firstScriptTag);\n});\n};\n\nif(typeof $3Dmolpromise === 'undefined') {\n$3Dmolpromise = null;\n  $3Dmolpromise = loadScriptAsync('https://cdn.jsdelivr.net/npm/3dmol@2.5.1/build/3Dmol-min.js');\n}\n\nvar viewer_17511258339910426 = null;\nvar warn = document.getElementById(\"3dmolwarning_17511258339910426\");\nif(warn) {\n    warn.parentNode.removeChild(warn);\n}\n$3Dmolpromise.then(function() {\nviewer_17511258339910426 = $3Dmol.createViewer(document.getElementById(\"3dmolviewer_17511258339910426\"),{backgroundColor:\"white\"});\nviewer_17511258339910426.zoomTo();\n\tviewer_17511258339910426.addModel(\"54\\n\\nF      47.361474567195941    158.607692212620691     29.568311273114354\\nC      47.643961011994115    159.402937691745137     30.664044870073468\\nC      47.953608471782957    160.724208169737267     30.435034422105371\\nC      48.234708609316066    161.514540142743698     31.542142891223502\\nC      48.186709783806073    160.967628953890966     32.818154683631818\\nC      47.864434831316345    159.628080403116144     33.001381653117129\\nC      47.589057850503238    158.816342025112220     31.908370307404493\\nH      47.956011818082850    161.132777060932966     29.432839048173616\\nH      48.473908378304657    162.559876382966195     31.400067009446893\\nH      48.396481779625233    161.585335976256516     33.679367151078658\\nH      47.826407000513704    159.227519206200952     34.005113803604608\\nH      47.327515906031508    157.770988797872036     32.016019351681805\\nO      45.905938848122496    162.042070995618531     27.027699127161370\\nH      45.739046540727557    161.077566880917999     27.068800912179558\\nH      45.192844785432065    162.423129671142732     26.505943451296222\\nO      48.210256858965018    160.627376391641377     36.173775071385151\\nH      48.498506780477783    161.531121024089259     35.979180557219870\\nH      47.320417089265042    160.753379281095761     36.517579894685426\\nO      48.412585490833713    164.752478066931275     33.060026598563780\\nH      48.395511656306972    164.275264115289190     33.911142673173572\\nH      47.511830507193608    164.744683468674879     32.719736995493641\\nO      48.501265249969613    163.129550905675615     26.773376831695231\\nH      49.161602934889281    162.453446404864991     26.600958594708302\\nH      47.635410674630869    162.683545274575010     26.745289950675708\\nO      48.446774385978166    163.467051660652629     35.560242141204540\\nH      47.520988306335070    163.578524180225884     35.890829999056542\\nH      49.016044321238248    163.964168004325671     36.155522796375742\\nO      45.631366062759540    159.329656710619105     27.351809857895905\\nH      45.972166600741872    158.716768809290869     26.692830877700523\\nH      46.035183354774340    159.059176569565579     28.188182920321136\\nO      44.155486271852226    163.604132086276849     34.194866936451852\\nH      44.482803310664913    163.180003718445647     33.364807269675744\\nH      43.261660275756448    163.273191209947356     34.315352676215397\\nO      45.761904437013278    163.432721681264184     29.624250685751829\\nH      45.733272846080482    162.889670312475630     28.823360846659696\\nH      46.640472490292481    163.870646282414782     29.591039997794724\\nO      45.088778666306467    162.352624112405351     32.005628680218123\\nH      45.322896850630400    162.735783862935534     31.125293217992144\\nH      45.779534948886734    161.710280710500712     32.200936394291205\\nO      47.101544943582709    155.495637759688464     31.671788856800887\\nH      47.724253999159771    155.494131234849988     30.927027905786030\\nH      46.530007686787656    154.736082750460724     31.538658361627387\\nO      48.275371533295612    164.490244165789193     29.265293141232807\\nH      48.507770795598390    164.086360014735760     28.411376071337575\\nH      49.073199489265612    164.452401623212467     29.824079702918603\\nO      50.371761630848674    164.436085602379649     31.166475252022437\\nH      49.766390910709902    164.603038677220468     31.917655868907680\\nH      50.943475662713524    165.207195652366039     31.116707102938122\\nO      45.855403306796873    163.644508472689154     36.294466607860990\\nH      45.219494156138161    163.614073422299981     35.538306932133551\\nH      45.586930258669788    164.403498779879811     36.820637179197078\\nO      48.955465773534485    156.122628840536407     29.582294817348309\\nH      49.842673454645137    156.279533326113864     29.923859929615997\\nH      48.559648630076310    156.995836141034260     29.465239176438946\\n\",\"xyz\");\n\tviewer_17511258339910426.setStyle({\"stick\": {}, \"sphere\": {\"radius\": 0.5}});\n\tviewer_17511258339910426.zoomTo();\nviewer_17511258339910426.render();\n});\n</script>",
      "text/html": [
       "<div id=\"3dmolviewer_17511258339910426\"  style=\"position: relative; width: 800px; height: 400px;\">\n",
       "        <p id=\"3dmolwarning_17511258339910426\" style=\"background-color:#ffcccc;color:black\">3Dmol.js failed to load for some reason.  Please check your browser console for error messages.<br></p>\n",
       "        </div>\n",
       "<script>\n",
       "\n",
       "var loadScriptAsync = function(uri){\n",
       "  return new Promise((resolve, reject) => {\n",
       "    //this is to ignore the existence of requirejs amd\n",
       "    var savedexports, savedmodule;\n",
       "    if (typeof exports !== 'undefined') savedexports = exports;\n",
       "    else exports = {}\n",
       "    if (typeof module !== 'undefined') savedmodule = module;\n",
       "    else module = {}\n",
       "\n",
       "    var tag = document.createElement('script');\n",
       "    tag.src = uri;\n",
       "    tag.async = true;\n",
       "    tag.onload = () => {\n",
       "        exports = savedexports;\n",
       "        module = savedmodule;\n",
       "        resolve();\n",
       "    };\n",
       "  var firstScriptTag = document.getElementsByTagName('script')[0];\n",
       "  firstScriptTag.parentNode.insertBefore(tag, firstScriptTag);\n",
       "});\n",
       "};\n",
       "\n",
       "if(typeof $3Dmolpromise === 'undefined') {\n",
       "$3Dmolpromise = null;\n",
       "  $3Dmolpromise = loadScriptAsync('https://cdn.jsdelivr.net/npm/3dmol@2.5.1/build/3Dmol-min.js');\n",
       "}\n",
       "\n",
       "var viewer_17511258339910426 = null;\n",
       "var warn = document.getElementById(\"3dmolwarning_17511258339910426\");\n",
       "if(warn) {\n",
       "    warn.parentNode.removeChild(warn);\n",
       "}\n",
       "$3Dmolpromise.then(function() {\n",
       "viewer_17511258339910426 = $3Dmol.createViewer(document.getElementById(\"3dmolviewer_17511258339910426\"),{backgroundColor:\"white\"});\n",
       "viewer_17511258339910426.zoomTo();\n",
       "\tviewer_17511258339910426.addModel(\"54\\n\\nF      47.361474567195941    158.607692212620691     29.568311273114354\\nC      47.643961011994115    159.402937691745137     30.664044870073468\\nC      47.953608471782957    160.724208169737267     30.435034422105371\\nC      48.234708609316066    161.514540142743698     31.542142891223502\\nC      48.186709783806073    160.967628953890966     32.818154683631818\\nC      47.864434831316345    159.628080403116144     33.001381653117129\\nC      47.589057850503238    158.816342025112220     31.908370307404493\\nH      47.956011818082850    161.132777060932966     29.432839048173616\\nH      48.473908378304657    162.559876382966195     31.400067009446893\\nH      48.396481779625233    161.585335976256516     33.679367151078658\\nH      47.826407000513704    159.227519206200952     34.005113803604608\\nH      47.327515906031508    157.770988797872036     32.016019351681805\\nO      45.905938848122496    162.042070995618531     27.027699127161370\\nH      45.739046540727557    161.077566880917999     27.068800912179558\\nH      45.192844785432065    162.423129671142732     26.505943451296222\\nO      48.210256858965018    160.627376391641377     36.173775071385151\\nH      48.498506780477783    161.531121024089259     35.979180557219870\\nH      47.320417089265042    160.753379281095761     36.517579894685426\\nO      48.412585490833713    164.752478066931275     33.060026598563780\\nH      48.395511656306972    164.275264115289190     33.911142673173572\\nH      47.511830507193608    164.744683468674879     32.719736995493641\\nO      48.501265249969613    163.129550905675615     26.773376831695231\\nH      49.161602934889281    162.453446404864991     26.600958594708302\\nH      47.635410674630869    162.683545274575010     26.745289950675708\\nO      48.446774385978166    163.467051660652629     35.560242141204540\\nH      47.520988306335070    163.578524180225884     35.890829999056542\\nH      49.016044321238248    163.964168004325671     36.155522796375742\\nO      45.631366062759540    159.329656710619105     27.351809857895905\\nH      45.972166600741872    158.716768809290869     26.692830877700523\\nH      46.035183354774340    159.059176569565579     28.188182920321136\\nO      44.155486271852226    163.604132086276849     34.194866936451852\\nH      44.482803310664913    163.180003718445647     33.364807269675744\\nH      43.261660275756448    163.273191209947356     34.315352676215397\\nO      45.761904437013278    163.432721681264184     29.624250685751829\\nH      45.733272846080482    162.889670312475630     28.823360846659696\\nH      46.640472490292481    163.870646282414782     29.591039997794724\\nO      45.088778666306467    162.352624112405351     32.005628680218123\\nH      45.322896850630400    162.735783862935534     31.125293217992144\\nH      45.779534948886734    161.710280710500712     32.200936394291205\\nO      47.101544943582709    155.495637759688464     31.671788856800887\\nH      47.724253999159771    155.494131234849988     30.927027905786030\\nH      46.530007686787656    154.736082750460724     31.538658361627387\\nO      48.275371533295612    164.490244165789193     29.265293141232807\\nH      48.507770795598390    164.086360014735760     28.411376071337575\\nH      49.073199489265612    164.452401623212467     29.824079702918603\\nO      50.371761630848674    164.436085602379649     31.166475252022437\\nH      49.766390910709902    164.603038677220468     31.917655868907680\\nH      50.943475662713524    165.207195652366039     31.116707102938122\\nO      45.855403306796873    163.644508472689154     36.294466607860990\\nH      45.219494156138161    163.614073422299981     35.538306932133551\\nH      45.586930258669788    164.403498779879811     36.820637179197078\\nO      48.955465773534485    156.122628840536407     29.582294817348309\\nH      49.842673454645137    156.279533326113864     29.923859929615997\\nH      48.559648630076310    156.995836141034260     29.465239176438946\\n\",\"xyz\");\n",
       "\tviewer_17511258339910426.setStyle({\"stick\": {}, \"sphere\": {\"radius\": 0.5}});\n",
       "\tviewer_17511258339910426.zoomTo();\n",
       "viewer_17511258339910426.render();\n",
       "});\n",
       "</script>"
      ]
     },
     "metadata": {},
     "output_type": "display_data"
    }
   ],
   "source": [
    "ccr.atoms_to_xyz(atoms3[0],\"mol_opt\")\n",
    "f = open(\"mol_opt.xyz\",\"r\")\n",
    "solv_text = f.read()\n",
    "f.close()\n",
    "\n",
    "ccr.visualize_molecule(solv_text)"
   ]
  },
  {
   "cell_type": "markdown",
   "metadata": {
    "id": "u5Q__GQcXH-h"
   },
   "source": [
    "# Calculate ligand strain energy\n",
    "- Calculates the difference between the bound ligand structure and the relaxed ligand structure (in gas phase).\n",
    "- strain = bound - relaxed"
   ]
  },
  {
   "cell_type": "code",
   "execution_count": 15,
   "metadata": {
    "colab": {
     "base_uri": "https://localhost:8080/"
    },
    "id": "xvPDant6XnK8",
    "outputId": "4146a22c-ae0b-4a60-dba0-6dbc574ccdb8"
   },
   "outputs": [
    {
     "name": "stdout",
     "output_type": "stream",
     "text": [
      "      Step     Time          Energy          fmax\n",
      "BFGS:    0 10:44:04   -20854.201998        2.637528\n",
      "BFGS:    1 10:44:04   -20854.471429        1.125575\n",
      "BFGS:    2 10:44:04   -20854.637658        1.152140\n",
      "BFGS:    3 10:44:04   -20854.785260        1.087608\n",
      "BFGS:    4 10:44:04   -20854.841045        0.557638\n",
      "BFGS:    5 10:44:04   -20854.887277        0.417100\n",
      "BFGS:    6 10:44:04   -20854.906212        0.298064\n",
      "BFGS:    7 10:44:05   -20854.913521        0.209430\n",
      "BFGS:    8 10:44:05   -20854.918678        0.151998\n",
      "BFGS:    9 10:44:05   -20854.922812        0.147228\n",
      "BFGS:   10 10:44:05   -20854.925831        0.107107\n",
      "BFGS:   11 10:44:05   -20854.927489        0.072066\n",
      "BFGS:   12 10:44:05   -20854.928734        0.076378\n",
      "BFGS:   13 10:44:05   -20854.930015        0.100502\n",
      "BFGS:   14 10:44:06   -20854.931247        0.089114\n",
      "BFGS:   15 10:44:06   -20854.932100        0.056821\n",
      "BFGS:   16 10:44:06   -20854.932615        0.041458\n",
      "===========================================================\n",
      "Strain energy is: 16.848 kcal/mol\n"
     ]
    }
   ],
   "source": [
    "strain = ccr.ligand_relaxation(\"/content/trial_1\",\"DRD2\",calculator, 0, 1)"
   ]
  },
  {
   "cell_type": "markdown",
   "metadata": {
    "id": "T5Ezmk4wZAEI"
   },
   "source": [
    "## Loop over a set of files and calculate all strain energies"
   ]
  },
  {
   "cell_type": "code",
   "execution_count": 16,
   "metadata": {
    "colab": {
     "base_uri": "https://localhost:8080/"
    },
    "id": "BhOyIvWLYlVp",
    "outputId": "90b087ae-77c9-4f7c-e0e4-32ece2358326"
   },
   "outputs": [
    {
     "name": "stdout",
     "output_type": "stream",
     "text": [
      "      Step     Time          Energy          fmax\n",
      "BFGS:    0 10:46:22   -20854.201998        2.637528\n",
      "BFGS:    1 10:46:22   -20854.471429        1.125575\n",
      "BFGS:    2 10:46:22   -20854.637658        1.152140\n",
      "BFGS:    3 10:46:22   -20854.785260        1.087605\n",
      "BFGS:    4 10:46:22   -20854.841045        0.557604\n",
      "BFGS:    5 10:46:22   -20854.887277        0.417118\n",
      "BFGS:    6 10:46:23   -20854.906211        0.298071\n",
      "BFGS:    7 10:46:23   -20854.913522        0.209422\n",
      "BFGS:    8 10:46:23   -20854.918677        0.151998\n",
      "BFGS:    9 10:46:23   -20854.922812        0.147243\n",
      "BFGS:   10 10:46:23   -20854.925830        0.107080\n",
      "BFGS:   11 10:46:23   -20854.927490        0.072175\n",
      "BFGS:   12 10:46:23   -20854.928734        0.076367\n",
      "BFGS:   13 10:46:24   -20854.930014        0.100584\n",
      "BFGS:   14 10:46:24   -20854.931248        0.089139\n",
      "BFGS:   15 10:46:24   -20854.932100        0.056782\n",
      "BFGS:   16 10:46:24   -20854.932615        0.041476\n",
      "===========================================================\n",
      "Strain energy is: 16.848 kcal/mol\n",
      "Strain energies:\n",
      "16.848279650550335\n"
     ]
    }
   ],
   "source": [
    "strains = []\n",
    "for i in range(1):\n",
    "  strain = ccr.ligand_relaxation(f\"/content/trial_{i+1}\",\"DRD2\",calculator, 0, 1)\n",
    "  strains.append(strain)\n",
    "\n",
    "print(\"Strain energies:\")\n",
    "for strain in strains:\n",
    "  print(strain)"
   ]
  },
  {
   "cell_type": "markdown",
   "metadata": {
    "id": "I9JJBTGr6gnP"
   },
   "source": [
    "# Generate a constraints list"
   ]
  },
  {
   "cell_type": "code",
   "execution_count": null,
   "metadata": {
    "colab": {
     "base_uri": "https://localhost:8080/"
    },
    "id": "ECKdLDq3q7h4",
    "outputId": "b06a3bfe-e17b-42bc-f2e9-2f02b40d5c14"
   },
   "outputs": [
    {
     "name": "stdout",
     "output_type": "stream",
     "text": [
      "[1, 11, 16, 24, 33, 41, 54, 60, 72, 83, 92, 98, 107, 124, 132, 140, 148, 159, 168, 181]\n"
     ]
    }
   ],
   "source": [
    "f = open(\"/content/HMGCR_dude_QM_site.pdb\",\"r\")\n",
    "lines = f.readlines()\n",
    "f.close()\n",
    "\n",
    "constraints = []\n",
    "for line in lines:\n",
    "  parts = line.split()\n",
    "  if len(parts) > 1 and parts[2] == \"CA\":\n",
    "    constraints.append(int(parts[1])-1)\n",
    "\n",
    "print(constraints)"
   ]
  },
  {
   "cell_type": "code",
   "execution_count": null,
   "metadata": {
    "colab": {
     "base_uri": "https://localhost:8080/"
    },
    "id": "6TRm8SKHsBr9",
    "outputId": "2fa85f7b-babd-4a3e-ddbb-25e9019e962b"
   },
   "outputs": [
    {
     "name": "stdout",
     "output_type": "stream",
     "text": [
      "20\n"
     ]
    }
   ],
   "source": [
    "print(len(constraints))"
   ]
  }
 ],
 "metadata": {
  "accelerator": "GPU",
  "colab": {
   "collapsed_sections": [
    "c077b1b1-6f2a-4eaa-9381-b9a0cf413b8d",
    "qHv8LGrBe534",
    "TgKnUxauwpRz",
    "UjG9tFVIfwVk",
    "akl5abZ1BmjF",
    "U8ei-4J9JUkA",
    "30nLseUkJxLe",
    "u5Q__GQcXH-h",
    "I9JJBTGr6gnP"
   ],
   "gpuType": "T4",
   "provenance": []
  },
  "kernelspec": {
   "display_name": "Python 3",
   "language": "python",
   "name": "python3"
  },
  "language_info": {
   "codemirror_mode": {
    "name": "ipython",
    "version": 3
   },
   "file_extension": ".py",
   "mimetype": "text/x-python",
   "name": "python",
   "nbconvert_exporter": "python",
   "pygments_lexer": "ipython3",
   "version": "3.8.8"
  }
 },
 "nbformat": 4,
 "nbformat_minor": 1
}
