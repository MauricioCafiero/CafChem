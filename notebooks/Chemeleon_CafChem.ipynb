{
 "cells": [
  {
   "cell_type": "markdown",
   "metadata": {
    "id": "qnJ2YdFg2SXN"
   },
   "source": [
    "#CafChem tools for finetuning the Chemeleon GNN foundation model.\n",
    "\n",
    "[![Open In Colab](https://colab.research.google.com/assets/colab-badge.svg)](https://colab.research.google.com/github/MauricioCafiero/CafChem/blob/main/notebooks/Chemeleon_CafChem.ipynb)\n",
    "\n",
    "## This notebook allows you to:\n",
    "- Load a CSV and create chemprop datasets and dataloaders\n",
    "- Finetune Chemeleon on your data.\n",
    "- Aanalyze the testing set\n",
    "- Save or load a trained model\n",
    "- analysis for non-transformed data\n",
    "\n",
    "\n",
    "## Requirements:\n",
    "- This notebook will install Chemprop/Chemeleon\n",
    "- It will pull the CafChem tools from Github.\n",
    "- It will install all needed libraries.\n",
    "- Can run on a CPU but is much faster on an L4 GPU."
   ]
  },
  {
   "cell_type": "markdown",
   "metadata": {
    "id": "esom5EbQFN9f"
   },
   "source": [
    "## Set-up"
   ]
  },
  {
   "cell_type": "markdown",
   "metadata": {
    "id": "c_qEdVBpE45r"
   },
   "source": [
    "### Clone Chemeleon from Githib and import libraries"
   ]
  },
  {
   "cell_type": "code",
   "execution_count": 1,
   "metadata": {
    "colab": {
     "base_uri": "https://localhost:8080/"
    },
    "id": "sDxCVPLKEV2c",
    "outputId": "26de8005-35e6-4f78-c8ca-89426e76b5c8"
   },
   "outputs": [
    {
     "name": "stdout",
     "output_type": "stream",
     "text": [
      "Cloning into 'chemprop'...\n",
      "remote: Enumerating objects: 25138, done.\u001b[K\n",
      "remote: Counting objects: 100% (7/7), done.\u001b[K\n",
      "remote: Compressing objects: 100% (7/7), done.\u001b[K\n",
      "remote: Total 25138 (delta 0), reused 0 (delta 0), pack-reused 25131 (from 1)\u001b[K\n",
      "Receiving objects: 100% (25138/25138), 863.28 MiB | 26.74 MiB/s, done.\n",
      "Resolving deltas: 100% (18100/18100), done.\n",
      "Updating files: 100% (326/326), done.\n",
      "/content/chemprop\n",
      "Processing /content/chemprop\n",
      "  Installing build dependencies ... \u001b[?25l\u001b[?25hdone\n",
      "  Getting requirements to build wheel ... \u001b[?25l\u001b[?25hdone\n",
      "  Preparing metadata (pyproject.toml) ... \u001b[?25l\u001b[?25hdone\n",
      "Collecting lightning>=2.0 (from chemprop==2.2.0)\n",
      "  Downloading lightning-2.5.2-py3-none-any.whl.metadata (38 kB)\n",
      "Requirement already satisfied: numpy in /usr/local/lib/python3.11/dist-packages (from chemprop==2.2.0) (2.0.2)\n",
      "Requirement already satisfied: pandas in /usr/local/lib/python3.11/dist-packages (from chemprop==2.2.0) (2.2.2)\n",
      "Collecting rdkit (from chemprop==2.2.0)\n",
      "  Downloading rdkit-2025.3.3-cp311-cp311-manylinux_2_28_x86_64.whl.metadata (4.0 kB)\n",
      "Requirement already satisfied: scikit-learn in /usr/local/lib/python3.11/dist-packages (from chemprop==2.2.0) (1.6.1)\n",
      "Requirement already satisfied: scipy in /usr/local/lib/python3.11/dist-packages (from chemprop==2.2.0) (1.15.3)\n",
      "Requirement already satisfied: torch>=2.1 in /usr/local/lib/python3.11/dist-packages (from chemprop==2.2.0) (2.6.0+cu124)\n",
      "Collecting astartes[molecules] (from chemprop==2.2.0)\n",
      "  Downloading astartes-1.3.1-py3-none-any.whl.metadata (26 kB)\n",
      "Collecting ConfigArgParse (from chemprop==2.2.0)\n",
      "  Downloading configargparse-1.7.1-py3-none-any.whl.metadata (24 kB)\n",
      "Requirement already satisfied: rich in /usr/local/lib/python3.11/dist-packages (from chemprop==2.2.0) (13.9.4)\n",
      "Collecting descriptastorus (from chemprop==2.2.0)\n",
      "  Downloading descriptastorus-2.8.0-py3-none-any.whl.metadata (364 bytes)\n",
      "Requirement already satisfied: PyYAML<8.0,>=5.4 in /usr/local/lib/python3.11/dist-packages (from lightning>=2.0->chemprop==2.2.0) (6.0.2)\n",
      "Requirement already satisfied: fsspec<2027.0,>=2022.5.0 in /usr/local/lib/python3.11/dist-packages (from fsspec[http]<2027.0,>=2022.5.0->lightning>=2.0->chemprop==2.2.0) (2025.3.2)\n",
      "Collecting lightning-utilities<2.0,>=0.10.0 (from lightning>=2.0->chemprop==2.2.0)\n",
      "  Downloading lightning_utilities-0.14.3-py3-none-any.whl.metadata (5.6 kB)\n",
      "Requirement already satisfied: packaging<27.0,>=20.0 in /usr/local/lib/python3.11/dist-packages (from lightning>=2.0->chemprop==2.2.0) (24.2)\n",
      "Collecting torchmetrics<3.0,>=0.7.0 (from lightning>=2.0->chemprop==2.2.0)\n",
      "  Downloading torchmetrics-1.7.3-py3-none-any.whl.metadata (21 kB)\n",
      "Requirement already satisfied: tqdm<6.0,>=4.57.0 in /usr/local/lib/python3.11/dist-packages (from lightning>=2.0->chemprop==2.2.0) (4.67.1)\n",
      "Requirement already satisfied: typing-extensions<6.0,>=4.4.0 in /usr/local/lib/python3.11/dist-packages (from lightning>=2.0->chemprop==2.2.0) (4.14.0)\n",
      "Collecting pytorch-lightning (from lightning>=2.0->chemprop==2.2.0)\n",
      "  Downloading pytorch_lightning-2.5.2-py3-none-any.whl.metadata (21 kB)\n",
      "Requirement already satisfied: filelock in /usr/local/lib/python3.11/dist-packages (from torch>=2.1->chemprop==2.2.0) (3.18.0)\n",
      "Requirement already satisfied: networkx in /usr/local/lib/python3.11/dist-packages (from torch>=2.1->chemprop==2.2.0) (3.5)\n",
      "Requirement already satisfied: jinja2 in /usr/local/lib/python3.11/dist-packages (from torch>=2.1->chemprop==2.2.0) (3.1.6)\n",
      "Collecting nvidia-cuda-nvrtc-cu12==12.4.127 (from torch>=2.1->chemprop==2.2.0)\n",
      "  Downloading nvidia_cuda_nvrtc_cu12-12.4.127-py3-none-manylinux2014_x86_64.whl.metadata (1.5 kB)\n",
      "Collecting nvidia-cuda-runtime-cu12==12.4.127 (from torch>=2.1->chemprop==2.2.0)\n",
      "  Downloading nvidia_cuda_runtime_cu12-12.4.127-py3-none-manylinux2014_x86_64.whl.metadata (1.5 kB)\n",
      "Collecting nvidia-cuda-cupti-cu12==12.4.127 (from torch>=2.1->chemprop==2.2.0)\n",
      "  Downloading nvidia_cuda_cupti_cu12-12.4.127-py3-none-manylinux2014_x86_64.whl.metadata (1.6 kB)\n",
      "Collecting nvidia-cudnn-cu12==9.1.0.70 (from torch>=2.1->chemprop==2.2.0)\n",
      "  Downloading nvidia_cudnn_cu12-9.1.0.70-py3-none-manylinux2014_x86_64.whl.metadata (1.6 kB)\n",
      "Collecting nvidia-cublas-cu12==12.4.5.8 (from torch>=2.1->chemprop==2.2.0)\n",
      "  Downloading nvidia_cublas_cu12-12.4.5.8-py3-none-manylinux2014_x86_64.whl.metadata (1.5 kB)\n",
      "Collecting nvidia-cufft-cu12==11.2.1.3 (from torch>=2.1->chemprop==2.2.0)\n",
      "  Downloading nvidia_cufft_cu12-11.2.1.3-py3-none-manylinux2014_x86_64.whl.metadata (1.5 kB)\n",
      "Collecting nvidia-curand-cu12==10.3.5.147 (from torch>=2.1->chemprop==2.2.0)\n",
      "  Downloading nvidia_curand_cu12-10.3.5.147-py3-none-manylinux2014_x86_64.whl.metadata (1.5 kB)\n",
      "Collecting nvidia-cusolver-cu12==11.6.1.9 (from torch>=2.1->chemprop==2.2.0)\n",
      "  Downloading nvidia_cusolver_cu12-11.6.1.9-py3-none-manylinux2014_x86_64.whl.metadata (1.6 kB)\n",
      "Collecting nvidia-cusparse-cu12==12.3.1.170 (from torch>=2.1->chemprop==2.2.0)\n",
      "  Downloading nvidia_cusparse_cu12-12.3.1.170-py3-none-manylinux2014_x86_64.whl.metadata (1.6 kB)\n",
      "Requirement already satisfied: nvidia-cusparselt-cu12==0.6.2 in /usr/local/lib/python3.11/dist-packages (from torch>=2.1->chemprop==2.2.0) (0.6.2)\n",
      "Requirement already satisfied: nvidia-nccl-cu12==2.21.5 in /usr/local/lib/python3.11/dist-packages (from torch>=2.1->chemprop==2.2.0) (2.21.5)\n",
      "Requirement already satisfied: nvidia-nvtx-cu12==12.4.127 in /usr/local/lib/python3.11/dist-packages (from torch>=2.1->chemprop==2.2.0) (12.4.127)\n",
      "Collecting nvidia-nvjitlink-cu12==12.4.127 (from torch>=2.1->chemprop==2.2.0)\n",
      "  Downloading nvidia_nvjitlink_cu12-12.4.127-py3-none-manylinux2014_x86_64.whl.metadata (1.5 kB)\n",
      "Requirement already satisfied: triton==3.2.0 in /usr/local/lib/python3.11/dist-packages (from torch>=2.1->chemprop==2.2.0) (3.2.0)\n",
      "Requirement already satisfied: sympy==1.13.1 in /usr/local/lib/python3.11/dist-packages (from torch>=2.1->chemprop==2.2.0) (1.13.1)\n",
      "Requirement already satisfied: mpmath<1.4,>=1.1.0 in /usr/local/lib/python3.11/dist-packages (from sympy==1.13.1->torch>=2.1->chemprop==2.2.0) (1.3.0)\n",
      "Requirement already satisfied: tabulate in /usr/local/lib/python3.11/dist-packages (from astartes[molecules]->chemprop==2.2.0) (0.9.0)\n",
      "Collecting aimsim_core (from astartes[molecules]->chemprop==2.2.0)\n",
      "  Downloading aimsim_core-2.2.2-py3-none-any.whl.metadata (14 kB)\n",
      "Collecting pandas-flavor (from descriptastorus->chemprop==2.2.0)\n",
      "  Downloading pandas_flavor-0.7.0-py3-none-any.whl.metadata (6.7 kB)\n",
      "Requirement already satisfied: python-dateutil>=2.8.2 in /usr/local/lib/python3.11/dist-packages (from pandas->chemprop==2.2.0) (2.9.0.post0)\n",
      "Requirement already satisfied: pytz>=2020.1 in /usr/local/lib/python3.11/dist-packages (from pandas->chemprop==2.2.0) (2025.2)\n",
      "Requirement already satisfied: tzdata>=2022.7 in /usr/local/lib/python3.11/dist-packages (from pandas->chemprop==2.2.0) (2025.2)\n",
      "Requirement already satisfied: Pillow in /usr/local/lib/python3.11/dist-packages (from rdkit->chemprop==2.2.0) (11.2.1)\n",
      "Requirement already satisfied: markdown-it-py>=2.2.0 in /usr/local/lib/python3.11/dist-packages (from rich->chemprop==2.2.0) (3.0.0)\n",
      "Requirement already satisfied: pygments<3.0.0,>=2.13.0 in /usr/local/lib/python3.11/dist-packages (from rich->chemprop==2.2.0) (2.19.2)\n",
      "Requirement already satisfied: joblib>=1.2.0 in /usr/local/lib/python3.11/dist-packages (from scikit-learn->chemprop==2.2.0) (1.5.1)\n",
      "Requirement already satisfied: threadpoolctl>=3.1.0 in /usr/local/lib/python3.11/dist-packages (from scikit-learn->chemprop==2.2.0) (3.6.0)\n",
      "Requirement already satisfied: aiohttp!=4.0.0a0,!=4.0.0a1 in /usr/local/lib/python3.11/dist-packages (from fsspec[http]<2027.0,>=2022.5.0->lightning>=2.0->chemprop==2.2.0) (3.11.15)\n",
      "Requirement already satisfied: setuptools in /usr/local/lib/python3.11/dist-packages (from lightning-utilities<2.0,>=0.10.0->lightning>=2.0->chemprop==2.2.0) (75.2.0)\n",
      "Requirement already satisfied: mdurl~=0.1 in /usr/local/lib/python3.11/dist-packages (from markdown-it-py>=2.2.0->rich->chemprop==2.2.0) (0.1.2)\n",
      "Requirement already satisfied: six>=1.5 in /usr/local/lib/python3.11/dist-packages (from python-dateutil>=2.8.2->pandas->chemprop==2.2.0) (1.17.0)\n",
      "Requirement already satisfied: psutil in /usr/local/lib/python3.11/dist-packages (from aimsim_core->astartes[molecules]->chemprop==2.2.0) (5.9.5)\n",
      "Collecting padelpy (from aimsim_core->astartes[molecules]->chemprop==2.2.0)\n",
      "  Downloading padelpy-0.1.16-py3-none-any.whl.metadata (7.7 kB)\n",
      "Collecting mhfp (from aimsim_core->astartes[molecules]->chemprop==2.2.0)\n",
      "  Downloading mhfp-1.9.6-py3-none-any.whl.metadata (9.0 kB)\n",
      "Collecting mordredcommunity (from aimsim_core->astartes[molecules]->chemprop==2.2.0)\n",
      "  Downloading mordredcommunity-2.0.6-py3-none-any.whl.metadata (6.2 kB)\n",
      "Requirement already satisfied: multiprocess>=0.70 in /usr/local/lib/python3.11/dist-packages (from aimsim_core->astartes[molecules]->chemprop==2.2.0) (0.70.15)\n",
      "Requirement already satisfied: MarkupSafe>=2.0 in /usr/local/lib/python3.11/dist-packages (from jinja2->torch>=2.1->chemprop==2.2.0) (3.0.2)\n",
      "Requirement already satisfied: xarray in /usr/local/lib/python3.11/dist-packages (from pandas-flavor->descriptastorus->chemprop==2.2.0) (2025.3.1)\n",
      "Requirement already satisfied: aiohappyeyeballs>=2.3.0 in /usr/local/lib/python3.11/dist-packages (from aiohttp!=4.0.0a0,!=4.0.0a1->fsspec[http]<2027.0,>=2022.5.0->lightning>=2.0->chemprop==2.2.0) (2.6.1)\n",
      "Requirement already satisfied: aiosignal>=1.1.2 in /usr/local/lib/python3.11/dist-packages (from aiohttp!=4.0.0a0,!=4.0.0a1->fsspec[http]<2027.0,>=2022.5.0->lightning>=2.0->chemprop==2.2.0) (1.3.2)\n",
      "Requirement already satisfied: attrs>=17.3.0 in /usr/local/lib/python3.11/dist-packages (from aiohttp!=4.0.0a0,!=4.0.0a1->fsspec[http]<2027.0,>=2022.5.0->lightning>=2.0->chemprop==2.2.0) (25.3.0)\n",
      "Requirement already satisfied: frozenlist>=1.1.1 in /usr/local/lib/python3.11/dist-packages (from aiohttp!=4.0.0a0,!=4.0.0a1->fsspec[http]<2027.0,>=2022.5.0->lightning>=2.0->chemprop==2.2.0) (1.7.0)\n",
      "Requirement already satisfied: multidict<7.0,>=4.5 in /usr/local/lib/python3.11/dist-packages (from aiohttp!=4.0.0a0,!=4.0.0a1->fsspec[http]<2027.0,>=2022.5.0->lightning>=2.0->chemprop==2.2.0) (6.5.0)\n",
      "Requirement already satisfied: propcache>=0.2.0 in /usr/local/lib/python3.11/dist-packages (from aiohttp!=4.0.0a0,!=4.0.0a1->fsspec[http]<2027.0,>=2022.5.0->lightning>=2.0->chemprop==2.2.0) (0.3.2)\n",
      "Requirement already satisfied: yarl<2.0,>=1.17.0 in /usr/local/lib/python3.11/dist-packages (from aiohttp!=4.0.0a0,!=4.0.0a1->fsspec[http]<2027.0,>=2022.5.0->lightning>=2.0->chemprop==2.2.0) (1.20.1)\n",
      "Requirement already satisfied: dill>=0.3.7 in /usr/local/lib/python3.11/dist-packages (from multiprocess>=0.70->aimsim_core->astartes[molecules]->chemprop==2.2.0) (0.3.7)\n",
      "Requirement already satisfied: idna>=2.0 in /usr/local/lib/python3.11/dist-packages (from yarl<2.0,>=1.17.0->aiohttp!=4.0.0a0,!=4.0.0a1->fsspec[http]<2027.0,>=2022.5.0->lightning>=2.0->chemprop==2.2.0) (3.10)\n",
      "Downloading lightning-2.5.2-py3-none-any.whl (821 kB)\n",
      "\u001b[2K   \u001b[90m━━━━━━━━━━━━━━━━━━━━━━━━━━━━━━━━━━━━━━━━\u001b[0m \u001b[32m821.1/821.1 kB\u001b[0m \u001b[31m22.4 MB/s\u001b[0m eta \u001b[36m0:00:00\u001b[0m\n",
      "\u001b[?25hDownloading nvidia_cublas_cu12-12.4.5.8-py3-none-manylinux2014_x86_64.whl (363.4 MB)\n",
      "\u001b[2K   \u001b[90m━━━━━━━━━━━━━━━━━━━━━━━━━━━━━━━━━━━━━━━━\u001b[0m \u001b[32m363.4/363.4 MB\u001b[0m \u001b[31m3.3 MB/s\u001b[0m eta \u001b[36m0:00:00\u001b[0m\n",
      "\u001b[?25hDownloading nvidia_cuda_cupti_cu12-12.4.127-py3-none-manylinux2014_x86_64.whl (13.8 MB)\n",
      "\u001b[2K   \u001b[90m━━━━━━━━━━━━━━━━━━━━━━━━━━━━━━━━━━━━━━━━\u001b[0m \u001b[32m13.8/13.8 MB\u001b[0m \u001b[31m99.2 MB/s\u001b[0m eta \u001b[36m0:00:00\u001b[0m\n",
      "\u001b[?25hDownloading nvidia_cuda_nvrtc_cu12-12.4.127-py3-none-manylinux2014_x86_64.whl (24.6 MB)\n",
      "\u001b[2K   \u001b[90m━━━━━━━━━━━━━━━━━━━━━━━━━━━━━━━━━━━━━━━━\u001b[0m \u001b[32m24.6/24.6 MB\u001b[0m \u001b[31m67.2 MB/s\u001b[0m eta \u001b[36m0:00:00\u001b[0m\n",
      "\u001b[?25hDownloading nvidia_cuda_runtime_cu12-12.4.127-py3-none-manylinux2014_x86_64.whl (883 kB)\n",
      "\u001b[2K   \u001b[90m━━━━━━━━━━━━━━━━━━━━━━━━━━━━━━━━━━━━━━━━\u001b[0m \u001b[32m883.7/883.7 kB\u001b[0m \u001b[31m48.3 MB/s\u001b[0m eta \u001b[36m0:00:00\u001b[0m\n",
      "\u001b[?25hDownloading nvidia_cudnn_cu12-9.1.0.70-py3-none-manylinux2014_x86_64.whl (664.8 MB)\n",
      "\u001b[2K   \u001b[90m━━━━━━━━━━━━━━━━━━━━━━━━━━━━━━━━━━━━━━━━\u001b[0m \u001b[32m664.8/664.8 MB\u001b[0m \u001b[31m2.9 MB/s\u001b[0m eta \u001b[36m0:00:00\u001b[0m\n",
      "\u001b[?25hDownloading nvidia_cufft_cu12-11.2.1.3-py3-none-manylinux2014_x86_64.whl (211.5 MB)\n",
      "\u001b[2K   \u001b[90m━━━━━━━━━━━━━━━━━━━━━━━━━━━━━━━━━━━━━━━━\u001b[0m \u001b[32m211.5/211.5 MB\u001b[0m \u001b[31m4.5 MB/s\u001b[0m eta \u001b[36m0:00:00\u001b[0m\n",
      "\u001b[?25hDownloading nvidia_curand_cu12-10.3.5.147-py3-none-manylinux2014_x86_64.whl (56.3 MB)\n",
      "\u001b[2K   \u001b[90m━━━━━━━━━━━━━━━━━━━━━━━━━━━━━━━━━━━━━━━━\u001b[0m \u001b[32m56.3/56.3 MB\u001b[0m \u001b[31m21.8 MB/s\u001b[0m eta \u001b[36m0:00:00\u001b[0m\n",
      "\u001b[?25hDownloading nvidia_cusolver_cu12-11.6.1.9-py3-none-manylinux2014_x86_64.whl (127.9 MB)\n",
      "\u001b[2K   \u001b[90m━━━━━━━━━━━━━━━━━━━━━━━━━━━━━━━━━━━━━━━━\u001b[0m \u001b[32m127.9/127.9 MB\u001b[0m \u001b[31m13.1 MB/s\u001b[0m eta \u001b[36m0:00:00\u001b[0m\n",
      "\u001b[?25hDownloading nvidia_cusparse_cu12-12.3.1.170-py3-none-manylinux2014_x86_64.whl (207.5 MB)\n",
      "\u001b[2K   \u001b[90m━━━━━━━━━━━━━━━━━━━━━━━━━━━━━━━━━━━━━━━━\u001b[0m \u001b[32m207.5/207.5 MB\u001b[0m \u001b[31m3.5 MB/s\u001b[0m eta \u001b[36m0:00:00\u001b[0m\n",
      "\u001b[?25hDownloading nvidia_nvjitlink_cu12-12.4.127-py3-none-manylinux2014_x86_64.whl (21.1 MB)\n",
      "\u001b[2K   \u001b[90m━━━━━━━━━━━━━━━━━━━━━━━━━━━━━━━━━━━━━━━━\u001b[0m \u001b[32m21.1/21.1 MB\u001b[0m \u001b[31m24.3 MB/s\u001b[0m eta \u001b[36m0:00:00\u001b[0m\n",
      "\u001b[?25hDownloading configargparse-1.7.1-py3-none-any.whl (25 kB)\n",
      "Downloading descriptastorus-2.8.0-py3-none-any.whl (2.1 MB)\n",
      "\u001b[2K   \u001b[90m━━━━━━━━━━━━━━━━━━━━━━━━━━━━━━━━━━━━━━━━\u001b[0m \u001b[32m2.1/2.1 MB\u001b[0m \u001b[31m25.2 MB/s\u001b[0m eta \u001b[36m0:00:00\u001b[0m\n",
      "\u001b[?25hDownloading rdkit-2025.3.3-cp311-cp311-manylinux_2_28_x86_64.whl (34.9 MB)\n",
      "\u001b[2K   \u001b[90m━━━━━━━━━━━━━━━━━━━━━━━━━━━━━━━━━━━━━━━━\u001b[0m \u001b[32m34.9/34.9 MB\u001b[0m \u001b[31m28.8 MB/s\u001b[0m eta \u001b[36m0:00:00\u001b[0m\n",
      "\u001b[?25hDownloading lightning_utilities-0.14.3-py3-none-any.whl (28 kB)\n",
      "Downloading torchmetrics-1.7.3-py3-none-any.whl (962 kB)\n",
      "\u001b[2K   \u001b[90m━━━━━━━━━━━━━━━━━━━━━━━━━━━━━━━━━━━━━━━━\u001b[0m \u001b[32m962.6/962.6 kB\u001b[0m \u001b[31m29.4 MB/s\u001b[0m eta \u001b[36m0:00:00\u001b[0m\n",
      "\u001b[?25hDownloading aimsim_core-2.2.2-py3-none-any.whl (187 kB)\n",
      "\u001b[2K   \u001b[90m━━━━━━━━━━━━━━━━━━━━━━━━━━━━━━━━━━━━━━━━\u001b[0m \u001b[32m187.8/187.8 kB\u001b[0m \u001b[31m19.7 MB/s\u001b[0m eta \u001b[36m0:00:00\u001b[0m\n",
      "\u001b[?25hDownloading astartes-1.3.1-py3-none-any.whl (38 kB)\n",
      "Downloading pandas_flavor-0.7.0-py3-none-any.whl (8.4 kB)\n",
      "Downloading pytorch_lightning-2.5.2-py3-none-any.whl (825 kB)\n",
      "\u001b[2K   \u001b[90m━━━━━━━━━━━━━━━━━━━━━━━━━━━━━━━━━━━━━━━━\u001b[0m \u001b[32m825.4/825.4 kB\u001b[0m \u001b[31m28.6 MB/s\u001b[0m eta \u001b[36m0:00:00\u001b[0m\n",
      "\u001b[?25hDownloading mhfp-1.9.6-py3-none-any.whl (9.7 kB)\n",
      "Downloading mordredcommunity-2.0.6-py3-none-any.whl (175 kB)\n",
      "\u001b[2K   \u001b[90m━━━━━━━━━━━━━━━━━━━━━━━━━━━━━━━━━━━━━━━━\u001b[0m \u001b[32m176.0/176.0 kB\u001b[0m \u001b[31m17.1 MB/s\u001b[0m eta \u001b[36m0:00:00\u001b[0m\n",
      "\u001b[?25hDownloading padelpy-0.1.16-py3-none-any.whl (20.9 MB)\n",
      "\u001b[2K   \u001b[90m━━━━━━━━━━━━━━━━━━━━━━━━━━━━━━━━━━━━━━━━\u001b[0m \u001b[32m20.9/20.9 MB\u001b[0m \u001b[31m23.2 MB/s\u001b[0m eta \u001b[36m0:00:00\u001b[0m\n",
      "\u001b[?25hBuilding wheels for collected packages: chemprop\n",
      "  Building wheel for chemprop (pyproject.toml) ... \u001b[?25l\u001b[?25hdone\n",
      "  Created wheel for chemprop: filename=chemprop-2.2.0-py3-none-any.whl size=137181 sha256=49f65011e13d4578d8ed640d0953090626dc6e94b54316e6f98ed0154fd0a961\n",
      "  Stored in directory: /tmp/pip-ephem-wheel-cache-9mme_us3/wheels/1e/b1/74/9347ccba982e11cbbdcb34bdf296d15c1fea4f8d3df8e0d8c3\n",
      "Successfully built chemprop\n",
      "Installing collected packages: mhfp, rdkit, padelpy, nvidia-nvjitlink-cu12, nvidia-curand-cu12, nvidia-cufft-cu12, nvidia-cuda-runtime-cu12, nvidia-cuda-nvrtc-cu12, nvidia-cuda-cupti-cu12, nvidia-cublas-cu12, lightning-utilities, ConfigArgParse, nvidia-cusparse-cu12, nvidia-cudnn-cu12, mordredcommunity, nvidia-cusolver-cu12, astartes, aimsim_core, pandas-flavor, torchmetrics, descriptastorus, pytorch-lightning, lightning, chemprop\n",
      "  Attempting uninstall: nvidia-nvjitlink-cu12\n",
      "    Found existing installation: nvidia-nvjitlink-cu12 12.5.82\n",
      "    Uninstalling nvidia-nvjitlink-cu12-12.5.82:\n",
      "      Successfully uninstalled nvidia-nvjitlink-cu12-12.5.82\n",
      "  Attempting uninstall: nvidia-curand-cu12\n",
      "    Found existing installation: nvidia-curand-cu12 10.3.6.82\n",
      "    Uninstalling nvidia-curand-cu12-10.3.6.82:\n",
      "      Successfully uninstalled nvidia-curand-cu12-10.3.6.82\n",
      "  Attempting uninstall: nvidia-cufft-cu12\n",
      "    Found existing installation: nvidia-cufft-cu12 11.2.3.61\n",
      "    Uninstalling nvidia-cufft-cu12-11.2.3.61:\n",
      "      Successfully uninstalled nvidia-cufft-cu12-11.2.3.61\n",
      "  Attempting uninstall: nvidia-cuda-runtime-cu12\n",
      "    Found existing installation: nvidia-cuda-runtime-cu12 12.5.82\n",
      "    Uninstalling nvidia-cuda-runtime-cu12-12.5.82:\n",
      "      Successfully uninstalled nvidia-cuda-runtime-cu12-12.5.82\n",
      "  Attempting uninstall: nvidia-cuda-nvrtc-cu12\n",
      "    Found existing installation: nvidia-cuda-nvrtc-cu12 12.5.82\n",
      "    Uninstalling nvidia-cuda-nvrtc-cu12-12.5.82:\n",
      "      Successfully uninstalled nvidia-cuda-nvrtc-cu12-12.5.82\n",
      "  Attempting uninstall: nvidia-cuda-cupti-cu12\n",
      "    Found existing installation: nvidia-cuda-cupti-cu12 12.5.82\n",
      "    Uninstalling nvidia-cuda-cupti-cu12-12.5.82:\n",
      "      Successfully uninstalled nvidia-cuda-cupti-cu12-12.5.82\n",
      "  Attempting uninstall: nvidia-cublas-cu12\n",
      "    Found existing installation: nvidia-cublas-cu12 12.5.3.2\n",
      "    Uninstalling nvidia-cublas-cu12-12.5.3.2:\n",
      "      Successfully uninstalled nvidia-cublas-cu12-12.5.3.2\n",
      "  Attempting uninstall: nvidia-cusparse-cu12\n",
      "    Found existing installation: nvidia-cusparse-cu12 12.5.1.3\n",
      "    Uninstalling nvidia-cusparse-cu12-12.5.1.3:\n",
      "      Successfully uninstalled nvidia-cusparse-cu12-12.5.1.3\n",
      "  Attempting uninstall: nvidia-cudnn-cu12\n",
      "    Found existing installation: nvidia-cudnn-cu12 9.3.0.75\n",
      "    Uninstalling nvidia-cudnn-cu12-9.3.0.75:\n",
      "      Successfully uninstalled nvidia-cudnn-cu12-9.3.0.75\n",
      "  Attempting uninstall: nvidia-cusolver-cu12\n",
      "    Found existing installation: nvidia-cusolver-cu12 11.6.3.83\n",
      "    Uninstalling nvidia-cusolver-cu12-11.6.3.83:\n",
      "      Successfully uninstalled nvidia-cusolver-cu12-11.6.3.83\n",
      "Successfully installed ConfigArgParse-1.7.1 aimsim_core-2.2.2 astartes-1.3.1 chemprop-2.2.0 descriptastorus-2.8.0 lightning-2.5.2 lightning-utilities-0.14.3 mhfp-1.9.6 mordredcommunity-2.0.6 nvidia-cublas-cu12-12.4.5.8 nvidia-cuda-cupti-cu12-12.4.127 nvidia-cuda-nvrtc-cu12-12.4.127 nvidia-cuda-runtime-cu12-12.4.127 nvidia-cudnn-cu12-9.1.0.70 nvidia-cufft-cu12-11.2.1.3 nvidia-curand-cu12-10.3.5.147 nvidia-cusolver-cu12-11.6.1.9 nvidia-cusparse-cu12-12.3.1.170 nvidia-nvjitlink-cu12-12.4.127 padelpy-0.1.16 pandas-flavor-0.7.0 pytorch-lightning-2.5.2 rdkit-2025.3.3 torchmetrics-1.7.3\n",
      "/content/chemprop/examples\n"
     ]
    }
   ],
   "source": [
    "import os\n",
    "\n",
    "if os.getenv(\"COLAB_RELEASE_TAG\"):\n",
    "    try:\n",
    "        import chemprop\n",
    "    except ImportError:\n",
    "        !git clone https://github.com/chemprop/chemprop.git\n",
    "        %cd chemprop\n",
    "        !pip install .\n",
    "        %cd examples"
   ]
  },
  {
   "cell_type": "code",
   "execution_count": 19,
   "metadata": {
    "colab": {
     "base_uri": "https://localhost:8080/"
    },
    "id": "c7G2_42exOF8",
    "outputId": "02a160b6-9d3c-49fc-8576-4a8cf82d066a"
   },
   "outputs": [
    {
     "name": "stdout",
     "output_type": "stream",
     "text": [
      "Cloning into 'CafChem'...\n",
      "remote: Enumerating objects: 227, done.\u001b[K\n",
      "remote: Counting objects: 100% (100/100), done.\u001b[K\n",
      "remote: Compressing objects: 100% (64/64), done.\u001b[K\n",
      "remote: Total 227 (delta 77), reused 36 (delta 36), pack-reused 127 (from 1)\u001b[K\n",
      "Receiving objects: 100% (227/227), 1.84 MiB | 4.64 MiB/s, done.\n",
      "Resolving deltas: 100% (126/126), done.\n"
     ]
    }
   ],
   "source": [
    "!git clone https://github.com/MauricioCafiero/CafChem.git"
   ]
  },
  {
   "cell_type": "code",
   "execution_count": 3,
   "metadata": {
    "colab": {
     "base_uri": "https://localhost:8080/"
    },
    "id": "liFbiUb_Du8S",
    "outputId": "a3394fdb-f906-41b6-c64a-eccedc86d2ed"
   },
   "outputs": [
    {
     "data": {
      "text/plain": [
       "('chemeleon_mp.pt', <http.client.HTTPMessage at 0x783af2c04250>)"
      ]
     },
     "execution_count": 3,
     "metadata": {},
     "output_type": "execute_result"
    }
   ],
   "source": [
    "import torch\n",
    "from pathlib import Path\n",
    "from lightning import pytorch as pl\n",
    "from lightning.pytorch.callbacks import ModelCheckpoint\n",
    "import pandas as pd\n",
    "import numpy as np\n",
    "from chemprop.models.model import MPNN\n",
    "from urllib.request import urlretrieve\n",
    "import CafChem.CafChemEleon as ccel\n",
    "\n",
    "urlretrieve(\n",
    "    r\"https://zenodo.org/records/15460715/files/chemeleon_mp.pt\",\n",
    "    \"chemeleon_mp.pt\",)\n"
   ]
  },
  {
   "cell_type": "markdown",
   "metadata": {
    "id": "c7jLdSSFF3fr"
   },
   "source": [
    "### Get data from CSV and make Dataframe\n",
    "- To apply a log10 transformation to the data, put True as the last argument, then use the tool transformed_lists when analyzing.\n",
    "- Otherwise use False and use lists."
   ]
  },
  {
   "cell_type": "code",
   "execution_count": 4,
   "metadata": {
    "id": "OLHNW5dtFoXP"
   },
   "outputs": [],
   "source": [
    "smis, ys = ccel.read_data(\"/content/905-unique-statins.csv\", \"Ligand SMILES\", [\"IC50 (nM)\"], True)"
   ]
  },
  {
   "cell_type": "markdown",
   "metadata": {
    "id": "W4F2W_cXFBm-"
   },
   "source": [
    "### Set-up ChemProp/Chemeleon variables/parameters"
   ]
  },
  {
   "cell_type": "code",
   "execution_count": 5,
   "metadata": {
    "colab": {
     "base_uri": "https://localhost:8080/"
    },
    "id": "oB9C5yerFJMh",
    "outputId": "9e5adcc1-8791-4fba-a9f6-171bf2785fcf"
   },
   "outputs": [
    {
     "name": "stderr",
     "output_type": "stream",
     "text": [
      "WARNING:chemprop.data.splitting:The return type of make_split_indices has changed in v2.1 - see help(make_split_indices)\n"
     ]
    }
   ],
   "source": [
    "mpnn, train_loader, val_loader, test_loader, train_dset, val_dset, test_dset = ccel.make_model(smis, ys, (0.8, 0.1, 0.1))"
   ]
  },
  {
   "cell_type": "markdown",
   "metadata": {
    "id": "FDTfcfjQGSlB"
   },
   "source": [
    "## Set up training"
   ]
  },
  {
   "cell_type": "code",
   "execution_count": 6,
   "metadata": {
    "colab": {
     "base_uri": "https://localhost:8080/"
    },
    "id": "X4inbceXGEz6",
    "outputId": "4de82e74-ed90-428d-eac6-bd37170161d3"
   },
   "outputs": [
    {
     "name": "stderr",
     "output_type": "stream",
     "text": [
      "INFO: GPU available: True (cuda), used: True\n",
      "INFO:lightning.pytorch.utilities.rank_zero:GPU available: True (cuda), used: True\n",
      "INFO: TPU available: False, using: 0 TPU cores\n",
      "INFO:lightning.pytorch.utilities.rank_zero:TPU available: False, using: 0 TPU cores\n",
      "INFO: HPU available: False, using: 0 HPUs\n",
      "INFO:lightning.pytorch.utilities.rank_zero:HPU available: False, using: 0 HPUs\n"
     ]
    }
   ],
   "source": [
    "checkpointing = ModelCheckpoint(\n",
    "    \"checkpoints\",  # Directory where model checkpoints will be saved\n",
    "    \"best-{epoch}-{val_loss:.2f}\",  # Filename format for checkpoints, including epoch and validation loss\n",
    "    \"val_loss\",  # Metric used to select the best checkpoint (based on validation loss)\n",
    "    mode=\"min\",  # Save the checkpoint with the lowest validation loss (minimization objective)\n",
    "    save_last=True,  # Always save the most recent checkpoint, even if it's not the best\n",
    ")\n",
    "\n",
    "trainer = pl.Trainer(\n",
    "    logger=False,\n",
    "    enable_checkpointing=True, # Use `True` if you want to save model checkpoints. The checkpoints will be saved in the `checkpoints` folder.\n",
    "    enable_progress_bar=True,\n",
    "    accelerator=\"auto\",\n",
    "    devices=1,\n",
    "    max_epochs=20, # number of epochs to train for\n",
    "    callbacks=[checkpointing], # Use the configured checkpoint callback\n",
    ")"
   ]
  },
  {
   "cell_type": "markdown",
   "metadata": {
    "id": "laLluaiXGi4Q"
   },
   "source": [
    "## Train and show test results"
   ]
  },
  {
   "cell_type": "code",
   "execution_count": 7,
   "metadata": {
    "colab": {
     "base_uri": "https://localhost:8080/",
     "height": 0,
     "referenced_widgets": [
      "076ca5ff6bb54fb1a6c88555ec523743",
      "2ca8b31006b044a99b382750c91d2cb4",
      "81128652db3c4802809557abec3779bb",
      "bca08f019f7f4f8488ba77dc58b25ee0",
      "37d1d8b2fdc045278bef2ad58ce1df73",
      "988e93a3448249daabd63eedfe791492",
      "cafb79af65e74393a00b146b9ed28848",
      "b0a581b94a804befbafad9ab94b30865",
      "3d517fdf715341b09ee016f9354d0251",
      "3eb0d8a7724a4c048375dd906853a3cf",
      "1f5d6ec5ea9741468ae5631d8e0bb8a0",
      "1163dcc29ef44381b1c204f042960910",
      "9ab47028b6c34e96bfa5d8eca924a2c2",
      "03c1ef2df62244c19e6920176a6d04f2",
      "327fa2cc624a4635a705a25c31aea0cb",
      "1b216ef8ce5046fdbacd3fedc682d9a5",
      "280161b8c749411593e258a099897c0a",
      "84ed7f1185cc4543b34d933e261f51c9",
      "35683e6e136b46ca9ba166b34d560a97",
      "d0b6410758534e85a03909e21073b8b9",
      "a9742570573845049c6289c269137df5",
      "f7b7c04cef0b4a88b77ff7ffca400254",
      "abfac2b67a5a4a30aa5277fd23a6bdf3",
      "b70ad605f3724c24a6ddf28abb4f7d21",
      "81b73e9fa9b1494196e59c5bee48721c",
      "eb2b817c685a4e358dcaa52257ac5b52",
      "c7533d07bc75480bad8e86138a4e7631",
      "b75760b8591a4458894f309e265589e2",
      "d79ec63ec7f949ee8b10e46b0c66a7af",
      "2335963e53d1492682fa14477c03d527",
      "4368f7f3b4f54c9e9cd83b55ca5fcd13",
      "6d53d07242a94e39bbbd4546154e6324",
      "a115f3ecb7a545488627f90086e256f3",
      "8ba5ae17d5c84dc1aa61b1f396fbe69c",
      "83f16b054e124dd2b025bfe783c5df94",
      "3e8429f0e31248f7b037ddd9e77c971d",
      "6b54bfe85c4743b6ab80d7f7f1991f61",
      "4c02a9a7303b45489e257b2699b8bc66",
      "637677521a6f473393d2bded783357a2",
      "d004ff2e995948e3bdd016dc250d339c",
      "8800158f012a45a9847c9c6e0d8c6aa8",
      "3cd1a1fdec90440faf83f176f07d7bd6",
      "654960b1c4cc4e699090fca9cc6850f4",
      "6f9877d6fad5414d9a0b550aa815869e",
      "e9bee129e11a4ec6bf72169eadfeca4c",
      "63c73750cf57468fbfb978f79e2a1ef2",
      "16b38a30499b4ded97f498727e79de61",
      "679bbd94ef0b4fc48618f0ade1fb7f83",
      "f760587faa5347be82269d71a9b82354",
      "081484bd16ae489ca531bec832f8d2d7",
      "d8a4dfcc36654aa5a235867ac4b38471",
      "55a363043d1441319f3d1a15c1af43a9",
      "4f7230505b16499fbafc3545777f68c1",
      "9de690236dbd431996889dcc903e83bc",
      "a9d9d84f0c8444d7ade057a02d4b0c4a",
      "d9715fab36f94264ac2c9724f9ee967c",
      "27a83c5c073641fcb28e83ab6544e239",
      "6130012593cc4433b6073c53005b5990",
      "5285a347dc7048c79ae07f3078bc5963",
      "154e85e0e3da420eb46d9b70efa8467e",
      "8cf697415d7e486f882b0ee9d018f189",
      "fd1765c2b7254cc1a1a5c0161474be12",
      "535cd113ec6240e6ad8e8eb9a248f6a4",
      "5886f3847a404427ae13eecfc2b9d797",
      "31f878dc51b948d3b2ab0145519f75c0",
      "ccffd436bbb441559e1f4316f32aa6bd",
      "ac80febccae44a1280e240f76cd87f8c",
      "14a67f719ed144359f3958e017653dec",
      "a14f7f2400f540d7a3b2b3d50ff470e7",
      "98528e5d4ede4ea4905473bc52955a4c",
      "29469713c06444adae3958134d3f1611",
      "44605cf06bf2433f85c72517744ac655",
      "3ccd568debd74010ab5c556b44b78032",
      "06055b3ff89c4a80a157fa98a8f6a217",
      "5bf0419e289246648e10609592c653b5",
      "68668629f63f41a2ac115b2ccb305017",
      "6e6eb73b77ba4342a16f09c8fc8f3630",
      "e62e362f210c466092abbedf45aa4e76",
      "1ba74c1a7800481e933cb90716c9acdb",
      "b812f1fc807548cc9d386b5219d42867",
      "bbc041fd276348a38dd8c3e8a69ce11f",
      "17a89f61bc6f4097a0f06e34a92d83e6",
      "34d84b7e465e4a99bff236b6ac26763f",
      "9b59d2c8ddc24c5bae78d94a06db2d92",
      "5006f20443844391a2cf6192403276ad",
      "aba8401d93464507a53d0093fd7349bf",
      "b62a908f1f1d41daace0b45c035f4b31",
      "985e618c0e88494f98287e89467ef736",
      "776788585c0041cda3926a4bbd83f6de",
      "d79a188a7ca84530af51c8c775071bee",
      "a5c16120801b4163be92b2e72f40ddf2",
      "2efc5cc75a094245ab15acb0ddb0e8b7",
      "dc4ed45cb1774cc09c1e44d87094e37c",
      "3abfed6bfb34485bafa59bc7255c7592",
      "70c922d588b24f2d996b0ecd5f804cfd",
      "6e793fdb12d64cbb80a1d61dc27c42d0",
      "9067bf50c1994497b6a3d7ca1f68bbe9",
      "70e53ffaea784881a8ad6f2504b4c4d7",
      "b82e4e35eb334ec3b002d0a538cb68e3",
      "b6e0f310100c4f038b9f234519b983d9",
      "3cca9fa239ba4534b1e1225422d77f86",
      "e4f6653fec5747baa1a87c9dbe094ecb",
      "afb5191e16724e87a0b9d25af9d88e63",
      "e7142229330b468b80dc4cf881e5d952",
      "17b702be978f46ee8a1d01d6aadf8c85",
      "b6fa663068174608b89cbdf585d37694",
      "8f0f8e2a2c70471badad2338a1b4b9d0",
      "fd5667d0680a4db2824839ed66a21feb",
      "cbacd3dd96fe4046ac954f8c5c53e22a",
      "30651babada54d8fba52d4e51d838989",
      "9276d915b72144d1bd2de1d780975609",
      "aafdb3db139d4016b5795dd4d46fdc91",
      "1c6207603d6c4339af3713f253bf49de",
      "7f0db0d535214b1c851ce1c03a2448d6",
      "7ddc84b4e45b4a7db863878e890c6714",
      "5d67cdf68e064ef9a5bc51a03cc03b77",
      "927ba66133bd416f871962a819bbd761",
      "63342617f083429d89ea16da6d27b5d4",
      "e624a1940277460b97fdc1bc1b725a1a",
      "f7b68cfe0bd0452095695e14a5f37b99",
      "b07a64cb4f2541fb9f7b078065a4af1e",
      "91ad562bf7d24c868374cd6ff12870b9",
      "a356162a175c4f6fa701c7036ec353c2",
      "3a876611c52547bd8410f6492aefd4cb",
      "88eed2c87be2400aaf1ada7c3397117a",
      "fdfc45e60e2b4dabb2f089e7fd69d6a6",
      "d5fea5e4f063417b9b5bef9d048e844e",
      "5798f4d22b3d4ef381908664bd382bfd",
      "1173fd805e104af18f02139f05976ea1",
      "898af183f6ba45458160b9e6e4008564",
      "1dac50f30e504a6a81792c699518564a",
      "4754f023147c4d24a8a05ed1ee92eff0",
      "5525e818f9ab4acbbfe56d05d780c47e",
      "891d54350e6642f18684e7239ad3e45a",
      "dd80cd1f13304771a9d46765382382af",
      "c4c5a05dba5640d5aeadf0ed384cec89",
      "48c5af56cf1c49f4a373502b5ae7d8e3",
      "069e4f6f111246b8ba5a1a534f5a7b99",
      "918e99b4e30747899b83bb2604835f9c",
      "6f3c3a2ea19545e6b447c1b2e4d3781c",
      "dcba01197efc4928880c104e0c42c6ef",
      "47bacab738874ed394e65d3daf650a83",
      "c06d5bf28b9e4813bee0d10f51a69d8f",
      "eb78080948ec4ddea5835537fc79a152",
      "f7b6c692bb0f420191c5550d5618f1ef",
      "494be4b3f3d44b16b4d99fe1ac254197",
      "bda95cd3bf2f4813b5d818a4f6ac5fba",
      "943801b767474ee7aec38d9fedbf0fe1",
      "a6a731edadcb456a8608fa29032006cd",
      "f72a5de5c9604dd0a4187ea896f86b76",
      "ed1d1f06fac948a18adf4fb9d1ae0031",
      "fff816222df740e98987e6da146e9c0f",
      "e1de61f1262e49f8a5d8fe4d6c82a860",
      "ffdb653a8d374689ada170e856fd3ddb",
      "9d7537c6c3e24fed976b90738e332d81",
      "88364023cc8c4b5ab7dac0249b74338a",
      "9fc2700838684ff5a83f30c8ead9ae6f",
      "f4e40c9967fd4d1783f6bc4551759e23",
      "4f69b463f8944edca4568de01fd591e9",
      "bd4627920aab48cb8eb0625f19510d96",
      "367ae93bba164e5692c8a350f281cc2e",
      "9ec81e69670543d2857c40d675f76ba2",
      "cfcfb96dc064432bb92c3a99d0cfe764",
      "2d3eb07e44dd45f398dc7784f38adfa5",
      "dbe89a17fdae4299acb81867cb1cc3f6",
      "71d237518ba64dbb907aee93fe68817d",
      "5f31fc963e4c446b82ad41ed46654ce6",
      "49d41f88f6af4dd7bf2e80c6e4c9d062",
      "f4532d165a6248e68353f822dcbd70aa",
      "e551a3b2b07e4ba5a3ac77340c8cc58e",
      "d3d6d147a2a34aad882abd0296bbd3f1",
      "de205d65e4d849369dba8f6b2ee6345b",
      "d4a64a7daa4044088008228321110ba9",
      "3c2d77116e4d4deda9ab0b03fc0a8e36",
      "a470877e61eb428aab2d0d854cfef8fa",
      "e236f36fca9542198e6d0c08523b2fe6",
      "f0cf85b6691e402a98b70e667840d2b1",
      "4a82faa794dc49cb9757e41bd82dcfa3",
      "e591e50f844548a4a70f02a85a88cd8d",
      "8f8d9de435fb4d17a7b95e2df46fdac4",
      "5d4e6d28146e4bd5a22c9dc4f76bf65e",
      "44fe2395213541579baa8a1d70dd5d39",
      "3755e019df8547398802c5601384b31a",
      "b90e1cde7ac847ea9c925954cf5a4872",
      "c07bfe9fa9174b358e65c38f7c553df7",
      "f2cd6b5b645e4331a1fb39155b2d965c",
      "24fe6a4eade34f7eb1f87d907e34c125",
      "b8e09add2ef84b228f045601829eff70",
      "8a14ce00e9fc4f8d9391e230c2da7f42",
      "9df9b16d1e174a82b8213d498a2194c0",
      "85a7c134a4b741af81623352f1a58f39",
      "9b77f3ad82414976bd5e648ca5e3e5d8",
      "9309a10150d94be2a47d13721def8dbf",
      "6b71e271935b4645b4b378255248f463",
      "67e031ad48284be094851e40eb323617",
      "4c387622e55a4705bce5a696a2092940",
      "85768f3024f3465d9920eb2baf652a8f",
      "6d6f1867c5444faba1e878640991ff3b",
      "4dbe34ccb1084c758d2aa5791f177577",
      "81da1a9e11904cf0837f627ef20bfdad",
      "fb79352193fb4012a23f409dfa5358f6",
      "12851ce28a214b49b7a779dfd18fa829",
      "25874908f0b14f0c92c90825d2c7567f",
      "d2879c11e62449859ac9b555b6ceb781",
      "e8fa72ab80084448864f8596603486e0",
      "98b956c09b3041d3b3c55ad5069670e3",
      "c73beefd066d4bf3aeecd6163186e4bf",
      "0f71dc2784b34f77879efacb4dc3cd21",
      "92f57015a20a4125964a94163b5c520b",
      "bcb0931be11045ce8d985144041defa6",
      "a9615a1539c74a1c91d5228b02334af7",
      "9f13cbafbc6b4cdf8af889ca6e0a6872",
      "636b418473c24c67ade2ad0b1843fb3e",
      "9a80d80233944f298aaaef43327570f2",
      "d24ded72bbcc4562984c374effc3b53d",
      "ef27271f562a40ed910e8c760fa84739",
      "7393fc9c8bdf4ae29488a5d51a871998",
      "0a00c15266084255a84a6755a37ec0c4",
      "9d192b17bdc346e9aaa85e619725bba7",
      "5ccac35439f8401fbf2120298f567a20",
      "ccee226565e447f1bffc8fcc79db111e",
      "968463ee8f5c486c87c627e20e1b98ea",
      "00ccc6c7840143e39c241e24bf739426",
      "2a112f1ef5a848cdae48de12320645a5",
      "611d50c1db4944e793c5b6996548ce02",
      "107bc6b45e934b5e90d937718c2afe2e",
      "1ef1e2c6a62b443aa19e4d72bffd98dc",
      "4e0a0a1f35b443419054714f409df1ce",
      "369f446b21dd49c4b92bf09086ea1bba",
      "2e2eefe523c0454297fab2d42966abe5",
      "ce0f3ec455d84dc7b019e2a33906f994",
      "8731ba8d79924c95b67fc510c8532f00",
      "3136e30d500144d78e8392a4ca62a63c",
      "e133e59a4fb9449e8c115280b3c6765e",
      "cbc8d620d1004ab3a86285d2cf97d171",
      "2b13728e61b64f0da849ffe8be8035d7",
      "b2dc758bfe554657bb1c0429e7fda888",
      "7b1342f3696a49009fb879bcd6452a42",
      "3f8d0f75efb34db7aaf5b79407f40ac4",
      "b911484b21fc4799a31811e29f7e7335",
      "630809f038984ea5bd15f37916ee45aa",
      "d5428f008ab1458ca959493ba4446213"
     ]
    },
    "id": "mSI5xb10GWS_",
    "outputId": "12935728-039a-4f32-8506-c662a56d70cf"
   },
   "outputs": [
    {
     "name": "stderr",
     "output_type": "stream",
     "text": [
      "INFO: You are using a CUDA device ('NVIDIA L4') that has Tensor Cores. To properly utilize them, you should set `torch.set_float32_matmul_precision('medium' | 'high')` which will trade-off precision for performance. For more details, read https://pytorch.org/docs/stable/generated/torch.set_float32_matmul_precision.html#torch.set_float32_matmul_precision\n",
      "INFO:lightning.pytorch.utilities.rank_zero:You are using a CUDA device ('NVIDIA L4') that has Tensor Cores. To properly utilize them, you should set `torch.set_float32_matmul_precision('medium' | 'high')` which will trade-off precision for performance. For more details, read https://pytorch.org/docs/stable/generated/torch.set_float32_matmul_precision.html#torch.set_float32_matmul_precision\n",
      "INFO: LOCAL_RANK: 0 - CUDA_VISIBLE_DEVICES: [0]\n",
      "INFO:lightning.pytorch.accelerators.cuda:LOCAL_RANK: 0 - CUDA_VISIBLE_DEVICES: [0]\n",
      "INFO: Loading `train_dataloader` to estimate number of stepping batches.\n",
      "INFO:lightning.pytorch.utilities.rank_zero:Loading `train_dataloader` to estimate number of stepping batches.\n",
      "/usr/local/lib/python3.11/dist-packages/lightning/pytorch/trainer/connectors/data_connector.py:425: The 'train_dataloader' does not have many workers which may be a bottleneck. Consider increasing the value of the `num_workers` argument` to `num_workers=11` in the `DataLoader` to improve performance.\n",
      "INFO: \n",
      "  | Name            | Type               | Params | Mode \n",
      "---------------------------------------------------------------\n",
      "0 | message_passing | BondMessagePassing | 8.7 M  | train\n",
      "1 | agg             | MeanAggregation    | 0      | train\n",
      "2 | bn              | Identity           | 0      | train\n",
      "3 | predictor       | RegressionFFN      | 615 K  | train\n",
      "4 | X_d_transform   | Identity           | 0      | train\n",
      "5 | metrics         | ModuleList         | 0      | train\n",
      "---------------------------------------------------------------\n",
      "9.3 M     Trainable params\n",
      "0         Non-trainable params\n",
      "9.3 M     Total params\n",
      "37.317    Total estimated model params size (MB)\n",
      "25        Modules in train mode\n",
      "0         Modules in eval mode\n",
      "INFO:lightning.pytorch.callbacks.model_summary:\n",
      "  | Name            | Type               | Params | Mode \n",
      "---------------------------------------------------------------\n",
      "0 | message_passing | BondMessagePassing | 8.7 M  | train\n",
      "1 | agg             | MeanAggregation    | 0      | train\n",
      "2 | bn              | Identity           | 0      | train\n",
      "3 | predictor       | RegressionFFN      | 615 K  | train\n",
      "4 | X_d_transform   | Identity           | 0      | train\n",
      "5 | metrics         | ModuleList         | 0      | train\n",
      "---------------------------------------------------------------\n",
      "9.3 M     Trainable params\n",
      "0         Non-trainable params\n",
      "9.3 M     Total params\n",
      "37.317    Total estimated model params size (MB)\n",
      "25        Modules in train mode\n",
      "0         Modules in eval mode\n"
     ]
    },
    {
     "data": {
      "application/vnd.jupyter.widget-view+json": {
       "model_id": "076ca5ff6bb54fb1a6c88555ec523743",
       "version_major": 2,
       "version_minor": 0
      },
      "text/plain": [
       "Sanity Checking: |          | 0/? [00:00<?, ?it/s]"
      ]
     },
     "metadata": {},
     "output_type": "display_data"
    },
    {
     "name": "stderr",
     "output_type": "stream",
     "text": [
      "/usr/local/lib/python3.11/dist-packages/lightning/pytorch/trainer/connectors/data_connector.py:425: The 'val_dataloader' does not have many workers which may be a bottleneck. Consider increasing the value of the `num_workers` argument` to `num_workers=11` in the `DataLoader` to improve performance.\n"
     ]
    },
    {
     "data": {
      "application/vnd.jupyter.widget-view+json": {
       "model_id": "1163dcc29ef44381b1c204f042960910",
       "version_major": 2,
       "version_minor": 0
      },
      "text/plain": [
       "Training: |          | 0/? [00:00<?, ?it/s]"
      ]
     },
     "metadata": {},
     "output_type": "display_data"
    },
    {
     "data": {
      "application/vnd.jupyter.widget-view+json": {
       "model_id": "abfac2b67a5a4a30aa5277fd23a6bdf3",
       "version_major": 2,
       "version_minor": 0
      },
      "text/plain": [
       "Validation: |          | 0/? [00:00<?, ?it/s]"
      ]
     },
     "metadata": {},
     "output_type": "display_data"
    },
    {
     "data": {
      "application/vnd.jupyter.widget-view+json": {
       "model_id": "8ba5ae17d5c84dc1aa61b1f396fbe69c",
       "version_major": 2,
       "version_minor": 0
      },
      "text/plain": [
       "Validation: |          | 0/? [00:00<?, ?it/s]"
      ]
     },
     "metadata": {},
     "output_type": "display_data"
    },
    {
     "data": {
      "application/vnd.jupyter.widget-view+json": {
       "model_id": "e9bee129e11a4ec6bf72169eadfeca4c",
       "version_major": 2,
       "version_minor": 0
      },
      "text/plain": [
       "Validation: |          | 0/? [00:00<?, ?it/s]"
      ]
     },
     "metadata": {},
     "output_type": "display_data"
    },
    {
     "data": {
      "application/vnd.jupyter.widget-view+json": {
       "model_id": "d9715fab36f94264ac2c9724f9ee967c",
       "version_major": 2,
       "version_minor": 0
      },
      "text/plain": [
       "Validation: |          | 0/? [00:00<?, ?it/s]"
      ]
     },
     "metadata": {},
     "output_type": "display_data"
    },
    {
     "data": {
      "application/vnd.jupyter.widget-view+json": {
       "model_id": "ac80febccae44a1280e240f76cd87f8c",
       "version_major": 2,
       "version_minor": 0
      },
      "text/plain": [
       "Validation: |          | 0/? [00:00<?, ?it/s]"
      ]
     },
     "metadata": {},
     "output_type": "display_data"
    },
    {
     "data": {
      "application/vnd.jupyter.widget-view+json": {
       "model_id": "e62e362f210c466092abbedf45aa4e76",
       "version_major": 2,
       "version_minor": 0
      },
      "text/plain": [
       "Validation: |          | 0/? [00:00<?, ?it/s]"
      ]
     },
     "metadata": {},
     "output_type": "display_data"
    },
    {
     "data": {
      "application/vnd.jupyter.widget-view+json": {
       "model_id": "776788585c0041cda3926a4bbd83f6de",
       "version_major": 2,
       "version_minor": 0
      },
      "text/plain": [
       "Validation: |          | 0/? [00:00<?, ?it/s]"
      ]
     },
     "metadata": {},
     "output_type": "display_data"
    },
    {
     "data": {
      "application/vnd.jupyter.widget-view+json": {
       "model_id": "b6e0f310100c4f038b9f234519b983d9",
       "version_major": 2,
       "version_minor": 0
      },
      "text/plain": [
       "Validation: |          | 0/? [00:00<?, ?it/s]"
      ]
     },
     "metadata": {},
     "output_type": "display_data"
    },
    {
     "data": {
      "application/vnd.jupyter.widget-view+json": {
       "model_id": "9276d915b72144d1bd2de1d780975609",
       "version_major": 2,
       "version_minor": 0
      },
      "text/plain": [
       "Validation: |          | 0/? [00:00<?, ?it/s]"
      ]
     },
     "metadata": {},
     "output_type": "display_data"
    },
    {
     "data": {
      "application/vnd.jupyter.widget-view+json": {
       "model_id": "91ad562bf7d24c868374cd6ff12870b9",
       "version_major": 2,
       "version_minor": 0
      },
      "text/plain": [
       "Validation: |          | 0/? [00:00<?, ?it/s]"
      ]
     },
     "metadata": {},
     "output_type": "display_data"
    },
    {
     "data": {
      "application/vnd.jupyter.widget-view+json": {
       "model_id": "5525e818f9ab4acbbfe56d05d780c47e",
       "version_major": 2,
       "version_minor": 0
      },
      "text/plain": [
       "Validation: |          | 0/? [00:00<?, ?it/s]"
      ]
     },
     "metadata": {},
     "output_type": "display_data"
    },
    {
     "data": {
      "application/vnd.jupyter.widget-view+json": {
       "model_id": "eb78080948ec4ddea5835537fc79a152",
       "version_major": 2,
       "version_minor": 0
      },
      "text/plain": [
       "Validation: |          | 0/? [00:00<?, ?it/s]"
      ]
     },
     "metadata": {},
     "output_type": "display_data"
    },
    {
     "data": {
      "application/vnd.jupyter.widget-view+json": {
       "model_id": "9d7537c6c3e24fed976b90738e332d81",
       "version_major": 2,
       "version_minor": 0
      },
      "text/plain": [
       "Validation: |          | 0/? [00:00<?, ?it/s]"
      ]
     },
     "metadata": {},
     "output_type": "display_data"
    },
    {
     "data": {
      "application/vnd.jupyter.widget-view+json": {
       "model_id": "71d237518ba64dbb907aee93fe68817d",
       "version_major": 2,
       "version_minor": 0
      },
      "text/plain": [
       "Validation: |          | 0/? [00:00<?, ?it/s]"
      ]
     },
     "metadata": {},
     "output_type": "display_data"
    },
    {
     "data": {
      "application/vnd.jupyter.widget-view+json": {
       "model_id": "f0cf85b6691e402a98b70e667840d2b1",
       "version_major": 2,
       "version_minor": 0
      },
      "text/plain": [
       "Validation: |          | 0/? [00:00<?, ?it/s]"
      ]
     },
     "metadata": {},
     "output_type": "display_data"
    },
    {
     "data": {
      "application/vnd.jupyter.widget-view+json": {
       "model_id": "b8e09add2ef84b228f045601829eff70",
       "version_major": 2,
       "version_minor": 0
      },
      "text/plain": [
       "Validation: |          | 0/? [00:00<?, ?it/s]"
      ]
     },
     "metadata": {},
     "output_type": "display_data"
    },
    {
     "data": {
      "application/vnd.jupyter.widget-view+json": {
       "model_id": "4dbe34ccb1084c758d2aa5791f177577",
       "version_major": 2,
       "version_minor": 0
      },
      "text/plain": [
       "Validation: |          | 0/? [00:00<?, ?it/s]"
      ]
     },
     "metadata": {},
     "output_type": "display_data"
    },
    {
     "data": {
      "application/vnd.jupyter.widget-view+json": {
       "model_id": "bcb0931be11045ce8d985144041defa6",
       "version_major": 2,
       "version_minor": 0
      },
      "text/plain": [
       "Validation: |          | 0/? [00:00<?, ?it/s]"
      ]
     },
     "metadata": {},
     "output_type": "display_data"
    },
    {
     "data": {
      "application/vnd.jupyter.widget-view+json": {
       "model_id": "ccee226565e447f1bffc8fcc79db111e",
       "version_major": 2,
       "version_minor": 0
      },
      "text/plain": [
       "Validation: |          | 0/? [00:00<?, ?it/s]"
      ]
     },
     "metadata": {},
     "output_type": "display_data"
    },
    {
     "data": {
      "application/vnd.jupyter.widget-view+json": {
       "model_id": "8731ba8d79924c95b67fc510c8532f00",
       "version_major": 2,
       "version_minor": 0
      },
      "text/plain": [
       "Validation: |          | 0/? [00:00<?, ?it/s]"
      ]
     },
     "metadata": {},
     "output_type": "display_data"
    },
    {
     "name": "stderr",
     "output_type": "stream",
     "text": [
      "INFO: `Trainer.fit` stopped: `max_epochs=20` reached.\n",
      "INFO:lightning.pytorch.utilities.rank_zero:`Trainer.fit` stopped: `max_epochs=20` reached.\n"
     ]
    }
   ],
   "source": [
    "trainer.fit(mpnn, train_loader, val_loader)"
   ]
  },
  {
   "cell_type": "code",
   "execution_count": 8,
   "metadata": {
    "colab": {
     "base_uri": "https://localhost:8080/",
     "height": 0,
     "referenced_widgets": [
      "d632502cb0a9438fa26f2c07a04027eb",
      "3bcc6d5dc03e4beeb35c85336e3df77a",
      "2e540785a6af40e68a830a76f7056e29",
      "0a1d9dbfff9b487c875ce1f88c5265d3",
      "dc8d9dfc851c420da9789b63a5d658fe",
      "401a3059f2eb4bbca3a6b3049d9a82c8",
      "d9dcf3576c304ec393e47e19ac202061",
      "d60ba448236c4e359f52283fa25caca6",
      "ec1392b43ec04ee192389bdb63a26273",
      "b1826285bf354ac9930f706032336a8f",
      "d8821a2c821546b4bd0796bd0e55d8af"
     ]
    },
    "id": "nGTSoDsnGfex",
    "outputId": "d2b2b785-b06a-41b2-dbc3-f6e04b643757"
   },
   "outputs": [
    {
     "name": "stderr",
     "output_type": "stream",
     "text": [
      "/usr/local/lib/python3.11/dist-packages/lightning/pytorch/trainer/connectors/checkpoint_connector.py:149: `.test(ckpt_path=None)` was called without a model. The best model of the previous `fit` call will be used. You can pass `.test(ckpt_path='best')` to use the best model or `.test(ckpt_path='last')` to use the last model. If you pass a value, this warning will be silenced.\n",
      "INFO: Restoring states from the checkpoint path at /content/chemprop/examples/checkpoints/best-epoch=14-val_loss=0.14.ckpt\n",
      "INFO:lightning.pytorch.utilities.rank_zero:Restoring states from the checkpoint path at /content/chemprop/examples/checkpoints/best-epoch=14-val_loss=0.14.ckpt\n",
      "INFO: LOCAL_RANK: 0 - CUDA_VISIBLE_DEVICES: [0]\n",
      "INFO:lightning.pytorch.accelerators.cuda:LOCAL_RANK: 0 - CUDA_VISIBLE_DEVICES: [0]\n",
      "INFO: Loaded model weights from the checkpoint at /content/chemprop/examples/checkpoints/best-epoch=14-val_loss=0.14.ckpt\n",
      "INFO:lightning.pytorch.utilities.rank_zero:Loaded model weights from the checkpoint at /content/chemprop/examples/checkpoints/best-epoch=14-val_loss=0.14.ckpt\n",
      "/usr/local/lib/python3.11/dist-packages/lightning/pytorch/trainer/connectors/data_connector.py:425: The 'test_dataloader' does not have many workers which may be a bottleneck. Consider increasing the value of the `num_workers` argument` to `num_workers=11` in the `DataLoader` to improve performance.\n"
     ]
    },
    {
     "data": {
      "application/vnd.jupyter.widget-view+json": {
       "model_id": "d632502cb0a9438fa26f2c07a04027eb",
       "version_major": 2,
       "version_minor": 0
      },
      "text/plain": [
       "Testing: |          | 0/? [00:00<?, ?it/s]"
      ]
     },
     "metadata": {},
     "output_type": "display_data"
    },
    {
     "data": {
      "text/html": [
       "<pre style=\"white-space:pre;overflow-x:auto;line-height:normal;font-family:Menlo,'DejaVu Sans Mono',consolas,'Courier New',monospace\">┏━━━━━━━━━━━━━━━━━━━━━━━━━━━┳━━━━━━━━━━━━━━━━━━━━━━━━━━━┓\n",
       "┃<span style=\"font-weight: bold\">        Test metric        </span>┃<span style=\"font-weight: bold\">       DataLoader 0        </span>┃\n",
       "┡━━━━━━━━━━━━━━━━━━━━━━━━━━━╇━━━━━━━━━━━━━━━━━━━━━━━━━━━┩\n",
       "│<span style=\"color: #008080; text-decoration-color: #008080\">         test/mae          </span>│<span style=\"color: #800080; text-decoration-color: #800080\">    0.4352406859397888     </span>│\n",
       "│<span style=\"color: #008080; text-decoration-color: #008080\">         test/rmse         </span>│<span style=\"color: #800080; text-decoration-color: #800080\">     0.58351069688797      </span>│\n",
       "└───────────────────────────┴───────────────────────────┘\n",
       "</pre>\n"
      ],
      "text/plain": [
       "┏━━━━━━━━━━━━━━━━━━━━━━━━━━━┳━━━━━━━━━━━━━━━━━━━━━━━━━━━┓\n",
       "┃\u001b[1m \u001b[0m\u001b[1m       Test metric       \u001b[0m\u001b[1m \u001b[0m┃\u001b[1m \u001b[0m\u001b[1m      DataLoader 0       \u001b[0m\u001b[1m \u001b[0m┃\n",
       "┡━━━━━━━━━━━━━━━━━━━━━━━━━━━╇━━━━━━━━━━━━━━━━━━━━━━━━━━━┩\n",
       "│\u001b[36m \u001b[0m\u001b[36m        test/mae         \u001b[0m\u001b[36m \u001b[0m│\u001b[35m \u001b[0m\u001b[35m   0.4352406859397888    \u001b[0m\u001b[35m \u001b[0m│\n",
       "│\u001b[36m \u001b[0m\u001b[36m        test/rmse        \u001b[0m\u001b[36m \u001b[0m│\u001b[35m \u001b[0m\u001b[35m    0.58351069688797     \u001b[0m\u001b[35m \u001b[0m│\n",
       "└───────────────────────────┴───────────────────────────┘\n"
      ]
     },
     "metadata": {},
     "output_type": "display_data"
    }
   ],
   "source": [
    "results = trainer.test(dataloaders=test_loader)"
   ]
  },
  {
   "cell_type": "markdown",
   "metadata": {
    "id": "l92psGuAGmMm"
   },
   "source": [
    "## Evaluate"
   ]
  },
  {
   "cell_type": "markdown",
   "metadata": {
    "id": "RfFt3U0mG4fF"
   },
   "source": [
    "### Make an inference trainer"
   ]
  },
  {
   "cell_type": "code",
   "execution_count": 9,
   "metadata": {
    "colab": {
     "base_uri": "https://localhost:8080/",
     "height": 277,
     "referenced_widgets": [
      "a5c7e9653b914460aa4d9909d5ebde2f",
      "ebd0572d727d4e0aa690aa127c4b37a0",
      "33c6845f92f14744bac8026456d720c3",
      "82a8bd697f8f4e46956fbcc2d9e0f8fe",
      "75c82ded8c8a4518bc57bed4ef4e57e1",
      "8b7dfa81666d4b40a73cea9d9e722306",
      "3b9f18fe6a9c41f88cffecf692366560",
      "ea1ff021141948108954078a2e4ff82b",
      "db7dc6a9abd743e69ec8023780ec6486",
      "aa29f76a1bca4713bea45db36d864f77",
      "17bb3ead86614bd4a5fc5bf5a8e0f0fa"
     ]
    },
    "id": "hjibIgcQGo7d",
    "outputId": "99015420-e3aa-4dd3-a986-1fa190c8fb9c"
   },
   "outputs": [
    {
     "name": "stderr",
     "output_type": "stream",
     "text": [
      "INFO: 💡 Tip: For seamless cloud uploads and versioning, try installing [litmodels](https://pypi.org/project/litmodels/) to enable LitModelCheckpoint, which syncs automatically with the Lightning model registry.\n",
      "INFO:lightning.pytorch.utilities.rank_zero:💡 Tip: For seamless cloud uploads and versioning, try installing [litmodels](https://pypi.org/project/litmodels/) to enable LitModelCheckpoint, which syncs automatically with the Lightning model registry.\n",
      "INFO: GPU available: True (cuda), used: True\n",
      "INFO:lightning.pytorch.utilities.rank_zero:GPU available: True (cuda), used: True\n",
      "INFO: TPU available: False, using: 0 TPU cores\n",
      "INFO:lightning.pytorch.utilities.rank_zero:TPU available: False, using: 0 TPU cores\n",
      "INFO: HPU available: False, using: 0 HPUs\n",
      "INFO:lightning.pytorch.utilities.rank_zero:HPU available: False, using: 0 HPUs\n",
      "INFO: LOCAL_RANK: 0 - CUDA_VISIBLE_DEVICES: [0]\n",
      "INFO:lightning.pytorch.accelerators.cuda:LOCAL_RANK: 0 - CUDA_VISIBLE_DEVICES: [0]\n",
      "/usr/local/lib/python3.11/dist-packages/lightning/pytorch/core/saving.py:363: Skipping 'metrics' parameter because it is not possible to safely dump to YAML.\n",
      "/usr/local/lib/python3.11/dist-packages/lightning/pytorch/trainer/connectors/data_connector.py:425: The 'predict_dataloader' does not have many workers which may be a bottleneck. Consider increasing the value of the `num_workers` argument` to `num_workers=11` in the `DataLoader` to improve performance.\n"
     ]
    },
    {
     "data": {
      "application/vnd.jupyter.widget-view+json": {
       "model_id": "a5c7e9653b914460aa4d9909d5ebde2f",
       "version_major": 2,
       "version_minor": 0
      },
      "text/plain": [
       "Predicting: |          | 0/? [00:00<?, ?it/s]"
      ]
     },
     "metadata": {},
     "output_type": "display_data"
    }
   ],
   "source": [
    "with torch.inference_mode():\n",
    "    inftrainer = pl.Trainer(\n",
    "        logger=None,\n",
    "        enable_progress_bar=True,\n",
    "        accelerator=\"auto\",\n",
    "        devices=1\n",
    "    )\n",
    "\n",
    "test_preds = inftrainer.predict(mpnn, test_loader)"
   ]
  },
  {
   "cell_type": "markdown",
   "metadata": {
    "id": "dum92NHcIY2F"
   },
   "source": [
    "### prepare test data and analyze"
   ]
  },
  {
   "cell_type": "code",
   "execution_count": 10,
   "metadata": {
    "id": "80cvzCw8H1sd"
   },
   "outputs": [],
   "source": [
    "full_preds = []\n",
    "for i in range(len(test_preds)):\n",
    "  for val in test_preds[i]:\n",
    "    full_preds.append((10 ** val[0]).item())"
   ]
  },
  {
   "cell_type": "code",
   "execution_count": 11,
   "metadata": {
    "colab": {
     "base_uri": "https://localhost:8080/"
    },
    "id": "_W_RYYKTIBHq",
    "outputId": "2b26c9b4-cd06-437a-c35a-b2b06710355d"
   },
   "outputs": [
    {
     "name": "stdout",
     "output_type": "stream",
     "text": [
      "regular scale R2 = -0.27, log scale R2 = 0.86\n"
     ]
    }
   ],
   "source": [
    "trans_ys, untrans_ys, trans_preds, untrans_preds = ccel.transformed_lists(full_preds, test_dset)"
   ]
  },
  {
   "cell_type": "markdown",
   "metadata": {
    "id": "qt2iUniLcnWZ"
   },
   "source": [
    "### untransformed data:"
   ]
  },
  {
   "cell_type": "code",
   "execution_count": 34,
   "metadata": {
    "id": "Vnwk2rPgbgrC"
   },
   "outputs": [],
   "source": [
    "full_preds = []\n",
    "for i in range(len(test_preds)):\n",
    "  for val in test_preds[i]:\n",
    "    full_preds.append((val[0]).item())"
   ]
  },
  {
   "cell_type": "code",
   "execution_count": 36,
   "metadata": {
    "colab": {
     "base_uri": "https://localhost:8080/"
    },
    "id": "mBsCLiX_a5uN",
    "outputId": "34afc84f-ff6d-407a-819d-4bb5d9a5f09f"
   },
   "outputs": [
    {
     "name": "stdout",
     "output_type": "stream",
     "text": [
      "regular scale R2 = 0.94,\n"
     ]
    }
   ],
   "source": [
    "untrans_ys, untrans_preds = ccel.lists(full_preds, test_dset)"
   ]
  },
  {
   "cell_type": "markdown",
   "metadata": {
    "id": "qK_XpxCTc3tF"
   },
   "source": [
    "### Analyze test data"
   ]
  },
  {
   "cell_type": "code",
   "execution_count": 12,
   "metadata": {
    "colab": {
     "base_uri": "https://localhost:8080/"
    },
    "id": "dn70SWC9Iel5",
    "outputId": "3feb0d76-bcc5-49fd-e8a8-5d961a488eb8"
   },
   "outputs": [
    {
     "name": "stdout",
     "output_type": "stream",
     "text": [
      "y =       8.00, pred =       3.35, difference: 4.65\n",
      "y =    2600.00, pred =    5231.56, difference: 2631.56\n",
      "y =     260.00, pred =     855.29, difference: 595.29\n",
      "y =      39.00, pred =     114.22, difference: 75.22\n",
      "y =       2.30, pred =       6.62, difference: 4.32\n",
      "y =   92900.00, pred =  134408.73, difference: 41508.73\n",
      "y =  780000.00, pred =   41225.39, difference: 738774.61\n",
      "y =    4900.00, pred =    2599.31, difference: 2300.69\n",
      "y =      40.00, pred =      17.28, difference: 22.72\n",
      "y =      38.00, pred =      52.38, difference: 14.38\n",
      "y =    7900.00, pred =    2604.42, difference: 5295.58\n",
      "y =       8.30, pred =       8.94, difference: 0.64\n",
      "y =      68.00, pred =      57.62, difference: 10.38\n",
      "y =    1400.00, pred =      25.13, difference: 1374.87\n",
      "y =      31.00, pred =      60.03, difference: 29.03\n",
      "y =    2600.00, pred =    2047.00, difference: 553.00\n",
      "y =     700.00, pred =      83.20, difference: 616.80\n",
      "y =      14.00, pred =      12.72, difference: 1.28\n",
      "y =   10000.00, pred =    9607.88, difference: 392.12\n",
      "y =      28.00, pred =      46.43, difference: 18.43\n",
      "y = 1200000.00, pred =   24256.12, difference: 1175743.88\n",
      "y =    3840.00, pred =   53511.71, difference: 49671.71\n",
      "y =    3200.00, pred =   10229.09, difference: 7029.09\n",
      "y =    1000.00, pred =     116.02, difference: 883.98\n",
      "y =       7.00, pred =      12.71, difference: 5.71\n",
      "y =   18900.00, pred =   23097.83, difference: 4197.83\n",
      "y =   73400.00, pred =  874383.38, difference: 800983.38\n",
      "y =      30.00, pred =      50.38, difference: 20.38\n",
      "y =      13.00, pred =      18.55, difference: 5.55\n",
      "y =      75.00, pred =      57.05, difference: 17.95\n",
      "y =       9.00, pred =      15.44, difference: 6.44\n",
      "y =      24.00, pred =      27.64, difference: 3.64\n",
      "y =     200.00, pred =     184.35, difference: 15.65\n",
      "y =   12600.00, pred =   16616.83, difference: 4016.83\n",
      "y =   26000.00, pred =    6173.71, difference: 19826.29\n",
      "y =       3.80, pred =      26.62, difference: 22.82\n",
      "y =     100.00, pred =      33.89, difference: 66.11\n",
      "y =     570.00, pred =      32.07, difference: 537.93\n",
      "y =       5.00, pred =      19.84, difference: 14.84\n",
      "y =   56900.00, pred =   22329.20, difference: 34570.80\n",
      "y =   62400.00, pred =   15488.63, difference: 46911.37\n",
      "y =       2.60, pred =       1.33, difference: 1.27\n",
      "y =       4.70, pred =       8.17, difference: 3.47\n",
      "y =     800.00, pred =     315.16, difference: 484.84\n",
      "y =    1300.00, pred =     545.24, difference: 754.76\n",
      "y =    7000.00, pred =    3301.18, difference: 3698.82\n",
      "y =     100.00, pred =     116.58, difference: 16.58\n",
      "y =       3.00, pred =       6.04, difference: 3.04\n",
      "y =       9.00, pred =       5.35, difference: 3.65\n",
      "y =      16.70, pred =       7.47, difference: 9.23\n",
      "y =     170.00, pred =    1197.23, difference: 1027.23\n",
      "y =      45.00, pred =       5.66, difference: 39.34\n",
      "y =      13.00, pred =      20.36, difference: 7.36\n",
      "y =   10670.00, pred =    6747.89, difference: 3922.11\n",
      "y =    7900.00, pred =    3121.60, difference: 4778.40\n",
      "y =      13.00, pred =      18.87, difference: 5.87\n",
      "y =       5.00, pred =       7.07, difference: 2.07\n",
      "y =       7.00, pred =      10.37, difference: 3.37\n",
      "y =      64.00, pred =     106.49, difference: 42.49\n",
      "y =       8.10, pred =      13.89, difference: 5.79\n",
      "y =      36.00, pred =      26.39, difference: 9.61\n",
      "y =      13.00, pred =      51.37, difference: 38.37\n",
      "y =   50000.00, pred =  100205.97, difference: 50205.97\n",
      "y =       3.80, pred =       6.85, difference: 3.05\n",
      "y =      13.00, pred =      53.70, difference: 40.70\n",
      "y =      19.00, pred =      16.41, difference: 2.59\n",
      "y =     160.00, pred =     114.92, difference: 45.08\n",
      "y =      40.00, pred =      13.85, difference: 26.15\n",
      "y =   73600.00, pred =  101949.41, difference: 28349.41\n",
      "y =   18120.00, pred =   24787.07, difference: 6667.07\n",
      "y =       4.90, pred =       9.86, difference: 4.96\n",
      "y =    2100.00, pred =    1365.62, difference: 734.38\n",
      "y =    4600.00, pred =   10597.11, difference: 5997.11\n",
      "y =  284000.00, pred =   59108.10, difference: 224891.90\n",
      "y =   15000.00, pred =     371.34, difference: 14628.66\n",
      "y =      35.00, pred =      28.01, difference: 6.99\n",
      "y =  270000.00, pred =   38395.81, difference: 231604.19\n",
      "y =       9.20, pred =      22.26, difference: 13.06\n",
      "y =       7.00, pred =      25.23, difference: 18.23\n",
      "y =    1000.00, pred =    1142.98, difference: 142.98\n",
      "y =       5.70, pred =       6.55, difference: 0.85\n",
      "y =       0.50, pred =       6.30, difference: 5.80\n",
      "y =       1.40, pred =       1.15, difference: 0.25\n",
      "y =       5.00, pred =      44.78, difference: 39.78\n",
      "y =       7.30, pred =       6.45, difference: 0.85\n",
      "y =      12.40, pred =       2.37, difference: 10.03\n",
      "y =     202.00, pred =     240.81, difference: 38.81\n",
      "y =       2.20, pred =      23.28, difference: 21.08\n",
      "y =   84600.00, pred =  222531.31, difference: 137931.31\n",
      "y =       4.00, pred =      32.91, difference: 28.91\n",
      "y =     630.00, pred =     208.19, difference: 421.81\n",
      "average difference: 40170.50644245148\n"
     ]
    }
   ],
   "source": [
    "ccel.values_differences(untrans_ys, untrans_preds)"
   ]
  },
  {
   "cell_type": "code",
   "execution_count": 13,
   "metadata": {
    "colab": {
     "base_uri": "https://localhost:8080/"
    },
    "id": "kpfz5LYKIj29",
    "outputId": "3dcd9bea-8784-4546-87dc-a7e193386a5e"
   },
   "outputs": [
    {
     "name": "stdout",
     "output_type": "stream",
     "text": [
      "y =       0.90, pred =       0.52, difference: 0.38\n",
      "y =       3.41, pred =       3.72, difference: 0.30\n",
      "y =       2.41, pred =       2.93, difference: 0.52\n",
      "y =       1.59, pred =       2.06, difference: 0.47\n",
      "y =       0.36, pred =       0.82, difference: 0.46\n",
      "y =       4.97, pred =       5.13, difference: 0.16\n",
      "y =       5.89, pred =       4.62, difference: 1.28\n",
      "y =       3.69, pred =       3.41, difference: 0.28\n",
      "y =       1.60, pred =       1.24, difference: 0.36\n",
      "y =       1.58, pred =       1.72, difference: 0.14\n",
      "y =       3.90, pred =       3.42, difference: 0.48\n",
      "y =       0.92, pred =       0.95, difference: 0.03\n",
      "y =       1.83, pred =       1.76, difference: 0.07\n",
      "y =       3.15, pred =       1.40, difference: 1.75\n",
      "y =       1.49, pred =       1.78, difference: 0.29\n",
      "y =       3.41, pred =       3.31, difference: 0.10\n",
      "y =       2.85, pred =       1.92, difference: 0.92\n",
      "y =       1.15, pred =       1.10, difference: 0.04\n",
      "y =       4.00, pred =       3.98, difference: 0.02\n",
      "y =       1.45, pred =       1.67, difference: 0.22\n",
      "y =       6.08, pred =       4.38, difference: 1.69\n",
      "y =       3.58, pred =       4.73, difference: 1.14\n",
      "y =       3.51, pred =       4.01, difference: 0.50\n",
      "y =       3.00, pred =       2.06, difference: 0.94\n",
      "y =       0.85, pred =       1.10, difference: 0.26\n",
      "y =       4.28, pred =       4.36, difference: 0.09\n",
      "y =       4.87, pred =       5.94, difference: 1.08\n",
      "y =       1.48, pred =       1.70, difference: 0.23\n",
      "y =       1.11, pred =       1.27, difference: 0.15\n",
      "y =       1.88, pred =       1.76, difference: 0.12\n",
      "y =       0.95, pred =       1.19, difference: 0.23\n",
      "y =       1.38, pred =       1.44, difference: 0.06\n",
      "y =       2.30, pred =       2.27, difference: 0.04\n",
      "y =       4.10, pred =       4.22, difference: 0.12\n",
      "y =       4.41, pred =       3.79, difference: 0.62\n",
      "y =       0.58, pred =       1.43, difference: 0.85\n",
      "y =       2.00, pred =       1.53, difference: 0.47\n",
      "y =       2.76, pred =       1.51, difference: 1.25\n",
      "y =       0.70, pred =       1.30, difference: 0.60\n",
      "y =       4.76, pred =       4.35, difference: 0.41\n",
      "y =       4.80, pred =       4.19, difference: 0.61\n",
      "y =       0.41, pred =       0.13, difference: 0.29\n",
      "y =       0.67, pred =       0.91, difference: 0.24\n",
      "y =       2.90, pred =       2.50, difference: 0.40\n",
      "y =       3.11, pred =       2.74, difference: 0.38\n",
      "y =       3.85, pred =       3.52, difference: 0.33\n",
      "y =       2.00, pred =       2.07, difference: 0.07\n",
      "y =       0.48, pred =       0.78, difference: 0.30\n",
      "y =       0.95, pred =       0.73, difference: 0.23\n",
      "y =       1.22, pred =       0.87, difference: 0.35\n",
      "y =       2.23, pred =       3.08, difference: 0.85\n",
      "y =       1.65, pred =       0.75, difference: 0.90\n",
      "y =       1.11, pred =       1.31, difference: 0.19\n",
      "y =       4.03, pred =       3.83, difference: 0.20\n",
      "y =       3.90, pred =       3.49, difference: 0.40\n",
      "y =       1.11, pred =       1.28, difference: 0.16\n",
      "y =       0.70, pred =       0.85, difference: 0.15\n",
      "y =       0.85, pred =       1.02, difference: 0.17\n",
      "y =       1.81, pred =       2.03, difference: 0.22\n",
      "y =       0.91, pred =       1.14, difference: 0.23\n",
      "y =       1.56, pred =       1.42, difference: 0.13\n",
      "y =       1.11, pred =       1.71, difference: 0.60\n",
      "y =       4.70, pred =       5.00, difference: 0.30\n",
      "y =       0.58, pred =       0.84, difference: 0.26\n",
      "y =       1.11, pred =       1.73, difference: 0.62\n",
      "y =       1.28, pred =       1.22, difference: 0.06\n",
      "y =       2.20, pred =       2.06, difference: 0.14\n",
      "y =       1.60, pred =       1.14, difference: 0.46\n",
      "y =       4.87, pred =       5.01, difference: 0.14\n",
      "y =       4.26, pred =       4.39, difference: 0.14\n",
      "y =       0.69, pred =       0.99, difference: 0.30\n",
      "y =       3.32, pred =       3.14, difference: 0.19\n",
      "y =       3.66, pred =       4.03, difference: 0.36\n",
      "y =       5.45, pred =       4.77, difference: 0.68\n",
      "y =       4.18, pred =       2.57, difference: 1.61\n",
      "y =       1.54, pred =       1.45, difference: 0.10\n",
      "y =       5.43, pred =       4.58, difference: 0.85\n",
      "y =       0.96, pred =       1.35, difference: 0.38\n",
      "y =       0.85, pred =       1.40, difference: 0.56\n",
      "y =       3.00, pred =       3.06, difference: 0.06\n",
      "y =       0.76, pred =       0.82, difference: 0.06\n",
      "y =      -0.30, pred =       0.80, difference: 1.10\n",
      "y =       0.15, pred =       0.06, difference: 0.09\n",
      "y =       0.70, pred =       1.65, difference: 0.95\n",
      "y =       0.86, pred =       0.81, difference: 0.05\n",
      "y =       1.09, pred =       0.38, difference: 0.72\n",
      "y =       2.31, pred =       2.38, difference: 0.08\n",
      "y =       0.34, pred =       1.37, difference: 1.02\n",
      "y =       4.93, pred =       5.35, difference: 0.42\n",
      "y =       0.60, pred =       1.52, difference: 0.92\n",
      "y =       2.80, pred =       2.32, difference: 0.48\n",
      "average difference: 0.43524073338953984\n"
     ]
    }
   ],
   "source": [
    "ccel.values_differences(trans_ys, trans_preds)"
   ]
  },
  {
   "cell_type": "code",
   "execution_count": 14,
   "metadata": {
    "colab": {
     "base_uri": "https://localhost:8080/",
     "height": 449
    },
    "id": "qcYQOQejIoWa",
    "outputId": "8fa5753a-3dd8-490b-de75-ef6a74303547"
   },
   "outputs": [
    {
     "data": {
      "image/png": "[encoded data removed]",
      "text/plain": [
       "<Figure size 640x480 with 1 Axes>"
      ]
     },
     "metadata": {},
     "output_type": "display_data"
    }
   ],
   "source": [
    "ccel.plot_test(trans_ys, trans_preds)"
   ]
  },
  {
   "cell_type": "markdown",
   "metadata": {
    "id": "cRSlb6VcrYh_"
   },
   "source": [
    "## Load or save a model\n",
    "- saving a model\n",
    "- loading a model and\n",
    "- loading a dataset or testing\n",
    "- analyzind dataset"
   ]
  },
  {
   "cell_type": "code",
   "execution_count": 40,
   "metadata": {
    "colab": {
     "base_uri": "https://localhost:8080/"
    },
    "id": "RZAk7alYrL_c",
    "outputId": "a7ec5cae-6cf4-435b-fb40-45c31a94ad5c"
   },
   "outputs": [
    {
     "name": "stdout",
     "output_type": "stream",
     "text": [
      "MPNN(\n",
      "  (message_passing): BondMessagePassing(\n",
      "    (W_i): Linear(in_features=86, out_features=2048, bias=False)\n",
      "    (W_h): Linear(in_features=2048, out_features=2048, bias=False)\n",
      "    (W_o): Linear(in_features=2120, out_features=2048, bias=True)\n",
      "    (dropout): Dropout(p=0.0, inplace=False)\n",
      "    (tau): ReLU()\n",
      "    (V_d_transform): Identity()\n",
      "    (graph_transform): Identity()\n",
      "  )\n",
      "  (agg): MeanAggregation()\n",
      "  (bn): Identity()\n",
      "  (predictor): RegressionFFN(\n",
      "    (ffn): MLP(\n",
      "      (0): Sequential(\n",
      "        (0): Linear(in_features=2048, out_features=300, bias=True)\n",
      "      )\n",
      "      (1): Sequential(\n",
      "        (0): ReLU()\n",
      "        (1): Dropout(p=0.0, inplace=False)\n",
      "        (2): Linear(in_features=300, out_features=1, bias=True)\n",
      "      )\n",
      "    )\n",
      "    (criterion): MSE(task_weights=[[1.0]])\n",
      "    (output_transform): UnscaleTransform()\n",
      "  )\n",
      "  (X_d_transform): Identity()\n",
      "  (metrics): ModuleList(\n",
      "    (0): RMSE(task_weights=[[1.0]])\n",
      "    (1): MAE(task_weights=[[1.0]])\n",
      "    (2): MSE(task_weights=[[1.0]])\n",
      "  )\n",
      ") model saved to /content/AZO_621_test94.pt\n"
     ]
    }
   ],
   "source": [
    "ccel.save_model(mpnn, \"/content/AZO_621_test94.pt\")"
   ]
  },
  {
   "cell_type": "code",
   "execution_count": 15,
   "metadata": {
    "colab": {
     "base_uri": "https://localhost:8080/"
    },
    "id": "OUgLNCLos1xY",
    "outputId": "f8a59963-d665-427d-a747-c415dec482b5"
   },
   "outputs": [
    {
     "name": "stdout",
     "output_type": "stream",
     "text": [
      "MPNN(\n",
      "  (message_passing): BondMessagePassing(\n",
      "    (W_i): Linear(in_features=86, out_features=2048, bias=False)\n",
      "    (W_h): Linear(in_features=2048, out_features=2048, bias=False)\n",
      "    (W_o): Linear(in_features=2120, out_features=2048, bias=True)\n",
      "    (dropout): Dropout(p=0.0, inplace=False)\n",
      "    (tau): ReLU()\n",
      "    (V_d_transform): Identity()\n",
      "    (graph_transform): Identity()\n",
      "  )\n",
      "  (agg): MeanAggregation()\n",
      "  (bn): Identity()\n",
      "  (predictor): RegressionFFN(\n",
      "    (ffn): MLP(\n",
      "      (0): Sequential(\n",
      "        (0): Linear(in_features=2048, out_features=300, bias=True)\n",
      "      )\n",
      "      (1): Sequential(\n",
      "        (0): ReLU()\n",
      "        (1): Dropout(p=0.0, inplace=False)\n",
      "        (2): Linear(in_features=300, out_features=1, bias=True)\n",
      "      )\n",
      "    )\n",
      "    (criterion): MSE(task_weights=[[1.0]])\n",
      "    (output_transform): UnscaleTransform()\n",
      "  )\n",
      "  (X_d_transform): Identity()\n",
      "  (metrics): ModuleList(\n",
      "    (0): RMSE(task_weights=[[1.0]])\n",
      "    (1): MAE(task_weights=[[1.0]])\n",
      "    (2): MSE(task_weights=[[1.0]])\n",
      "  )\n",
      ") model loaded from /content/AZO_621_test94.pt\n"
     ]
    }
   ],
   "source": [
    "loaded_model = ccel.load_model(\"/content/AZO_621_test94.pt\")"
   ]
  },
  {
   "cell_type": "code",
   "execution_count": 17,
   "metadata": {
    "id": "v5oLdiGKgAGd"
   },
   "outputs": [],
   "source": [
    "smis, ys = ccel.read_data(\"/content/212-azo.csv\", \"SMILES\", [\"Lmax\"], False)"
   ]
  },
  {
   "cell_type": "code",
   "execution_count": 21,
   "metadata": {
    "id": "UiCiGfotpD3Y"
   },
   "outputs": [],
   "source": [
    "pred_loader, pred_dset = ccel.prediction_dataset(smis, ys) # ys is optional but if not included cannot use some analysis tools below"
   ]
  },
  {
   "cell_type": "code",
   "execution_count": 22,
   "metadata": {
    "colab": {
     "base_uri": "https://localhost:8080/",
     "height": 243,
     "referenced_widgets": [
      "9d7122fd5e934a248e80ee6c1f44886b",
      "bc164e1fac5045268069085d680e336d",
      "c9103022e56a4e6ab1002082973a6d88",
      "6c4d5393e2194da2a2957a79c62351f7",
      "14dd672eec3d49b4a3a79b6103264689",
      "96872e92e6404d9b9d1194d6dfa9b693",
      "fbf2bee7bcfb4c62b4038e1952efd347",
      "06a8d9df24a94c098dde70d2c87299b2",
      "d64146a32b014fcd96bada3708e18816",
      "8cd2d471b0e94e03ab10414cc9246bf7",
      "f8158d5c8b3744038739c26d54c023e4"
     ]
    },
    "id": "bduq6EO2uIOf",
    "outputId": "70849845-c7f5-4eb1-8d31-6540c8f169e3"
   },
   "outputs": [
    {
     "name": "stderr",
     "output_type": "stream",
     "text": [
      "INFO: 💡 Tip: For seamless cloud uploads and versioning, try installing [litmodels](https://pypi.org/project/litmodels/) to enable LitModelCheckpoint, which syncs automatically with the Lightning model registry.\n",
      "INFO:lightning.pytorch.utilities.rank_zero:💡 Tip: For seamless cloud uploads and versioning, try installing [litmodels](https://pypi.org/project/litmodels/) to enable LitModelCheckpoint, which syncs automatically with the Lightning model registry.\n",
      "INFO: GPU available: True (cuda), used: True\n",
      "INFO:lightning.pytorch.utilities.rank_zero:GPU available: True (cuda), used: True\n",
      "INFO: TPU available: False, using: 0 TPU cores\n",
      "INFO:lightning.pytorch.utilities.rank_zero:TPU available: False, using: 0 TPU cores\n",
      "INFO: HPU available: False, using: 0 HPUs\n",
      "INFO:lightning.pytorch.utilities.rank_zero:HPU available: False, using: 0 HPUs\n",
      "INFO: LOCAL_RANK: 0 - CUDA_VISIBLE_DEVICES: [0]\n",
      "INFO:lightning.pytorch.accelerators.cuda:LOCAL_RANK: 0 - CUDA_VISIBLE_DEVICES: [0]\n"
     ]
    },
    {
     "data": {
      "application/vnd.jupyter.widget-view+json": {
       "model_id": "9d7122fd5e934a248e80ee6c1f44886b",
       "version_major": 2,
       "version_minor": 0
      },
      "text/plain": [
       "Predicting: |          | 0/? [00:00<?, ?it/s]"
      ]
     },
     "metadata": {},
     "output_type": "display_data"
    }
   ],
   "source": [
    "with torch.inference_mode():\n",
    "    inftrainer = pl.Trainer(\n",
    "        logger=None,\n",
    "        enable_progress_bar=True,\n",
    "        accelerator=\"auto\",\n",
    "        devices=1\n",
    "    )\n",
    "\n",
    "new_test_preds = inftrainer.predict(loaded_model, pred_loader)"
   ]
  },
  {
   "cell_type": "code",
   "execution_count": 23,
   "metadata": {
    "id": "chNYT0uZuPXk"
   },
   "outputs": [],
   "source": [
    "full_preds = []\n",
    "for i in range(len(new_test_preds)):\n",
    "  for val in new_test_preds[i]:\n",
    "    full_preds.append((val[0]).item())"
   ]
  },
  {
   "cell_type": "code",
   "execution_count": 24,
   "metadata": {
    "colab": {
     "base_uri": "https://localhost:8080/"
    },
    "id": "bGg3kZfkuWIJ",
    "outputId": "d169ed3e-49b6-46b6-9635-25b6283d00f6"
   },
   "outputs": [
    {
     "name": "stdout",
     "output_type": "stream",
     "text": [
      "regular scale R2 = -0.92,\n"
     ]
    }
   ],
   "source": [
    "untrans_ys, untrans_preds = ccel.lists(full_preds, pred_dset)"
   ]
  },
  {
   "cell_type": "code",
   "execution_count": 25,
   "metadata": {
    "colab": {
     "base_uri": "https://localhost:8080/",
     "height": 449
    },
    "id": "mjdvdODZrWg_",
    "outputId": "816fecf9-af9a-49cc-f0a7-9d7ead857c6c"
   },
   "outputs": [
    {
     "data": {
      "image/png": "[encoded data removed]",
      "text/plain": [
       "<Figure size 640x480 with 1 Axes>"
      ]
     },
     "metadata": {},
     "output_type": "display_data"
    }
   ],
   "source": [
    "ccel.plot_test(untrans_ys, untrans_preds)"
   ]
  },
  {
   "cell_type": "code",
   "execution_count": 26,
   "metadata": {
    "colab": {
     "base_uri": "https://localhost:8080/"
    },
    "id": "IKVsHP_nt3aA",
    "outputId": "35e3a116-af75-4c90-99e7-01f7d37c53c5"
   },
   "outputs": [
    {
     "name": "stdout",
     "output_type": "stream",
     "text": [
      "y =     504.00, pred =     422.04, difference: 81.96\n",
      "y =     528.00, pred =     505.77, difference: 22.23\n",
      "y =     537.00, pred =     345.12, difference: 191.88\n",
      "y =     481.00, pred =     446.54, difference: 34.46\n",
      "y =     468.00, pred =     362.54, difference: 105.46\n",
      "y =     473.00, pred =     420.60, difference: 52.40\n",
      "y =     410.00, pred =     441.17, difference: 31.17\n",
      "y =     419.00, pred =     416.71, difference: 2.29\n",
      "y =     421.00, pred =     446.95, difference: 25.95\n",
      "y =     424.00, pred =     436.35, difference: 12.35\n",
      "y =     409.00, pred =     532.23, difference: 123.23\n",
      "y =     410.00, pred =     409.32, difference: 0.68\n",
      "y =     408.00, pred =     566.53, difference: 158.53\n",
      "y =     417.00, pred =     422.48, difference: 5.48\n",
      "y =     448.00, pred =     599.87, difference: 151.87\n",
      "y =     431.00, pred =     579.13, difference: 148.13\n",
      "y =     452.00, pred =     442.47, difference: 9.53\n",
      "y =     481.00, pred =     443.06, difference: 37.94\n",
      "y =     439.00, pred =     398.59, difference: 40.41\n",
      "y =     448.00, pred =     447.10, difference: 0.90\n",
      "y =     438.00, pred =     435.56, difference: 2.44\n",
      "y =     448.00, pred =     435.26, difference: 12.74\n",
      "y =     425.00, pred =     451.25, difference: 26.25\n",
      "y =     446.00, pred =     473.07, difference: 27.07\n",
      "y =     477.00, pred =     413.60, difference: 63.40\n",
      "y =     472.00, pred =     485.47, difference: 13.47\n",
      "y =     404.00, pred =     434.16, difference: 30.16\n",
      "y =     312.00, pred =     407.88, difference: 95.88\n",
      "y =     392.00, pred =     507.06, difference: 115.06\n",
      "y =     323.00, pred =     437.82, difference: 114.82\n",
      "y =     599.00, pred =     525.19, difference: 73.81\n",
      "y =     602.00, pred =     537.73, difference: 64.27\n",
      "y =     584.00, pred =     438.88, difference: 145.12\n",
      "y =     584.00, pred =     392.90, difference: 191.10\n",
      "y =     586.00, pred =     408.65, difference: 177.35\n",
      "y =     600.00, pred =     445.30, difference: 154.70\n",
      "y =     598.00, pred =     439.77, difference: 158.23\n",
      "y =     583.00, pred =     426.31, difference: 156.69\n",
      "y =     586.00, pred =     441.31, difference: 144.69\n",
      "y =     606.00, pred =     457.03, difference: 148.97\n",
      "y =     604.00, pred =     573.62, difference: 30.38\n",
      "y =     592.00, pred =     554.30, difference: 37.70\n",
      "y =     593.00, pred =     420.92, difference: 172.08\n",
      "y =     591.00, pred =     571.59, difference: 19.41\n",
      "y =     440.00, pred =     438.89, difference: 1.11\n",
      "y =     460.00, pred =     436.98, difference: 23.02\n",
      "y =     480.00, pred =     443.54, difference: 36.46\n",
      "y =     446.00, pred =     428.53, difference: 17.47\n",
      "y =     459.00, pred =     597.84, difference: 138.84\n",
      "y =     462.00, pred =     446.89, difference: 15.11\n",
      "y =     479.00, pred =     561.60, difference: 82.60\n",
      "y =     480.00, pred =     439.34, difference: 40.66\n",
      "y =     502.00, pred =     422.42, difference: 79.58\n",
      "y =     495.00, pred =     501.39, difference: 6.39\n",
      "y =     492.00, pred =     470.17, difference: 21.83\n",
      "y =     524.00, pred =     515.77, difference: 8.23\n",
      "y =     526.00, pred =     430.78, difference: 95.22\n",
      "y =     538.00, pred =     417.31, difference: 120.69\n",
      "y =     558.00, pred =     416.42, difference: 141.58\n",
      "y =     545.00, pred =     427.60, difference: 117.40\n",
      "y =     548.00, pred =     513.39, difference: 34.61\n",
      "y =     584.00, pred =     423.38, difference: 160.62\n",
      "y =     560.00, pred =     509.37, difference: 50.63\n",
      "y =     567.00, pred =     508.58, difference: 58.42\n",
      "y =     564.00, pred =     594.99, difference: 30.99\n",
      "y =     414.00, pred =     472.74, difference: 58.74\n",
      "y =     416.00, pred =     502.82, difference: 86.82\n",
      "y =     416.00, pred =     424.10, difference: 8.10\n",
      "y =     427.00, pred =     597.23, difference: 170.23\n",
      "y =     434.00, pred =     456.60, difference: 22.60\n",
      "y =     462.00, pred =     543.30, difference: 81.30\n",
      "y =     466.00, pred =     589.61, difference: 123.61\n",
      "y =     489.00, pred =     370.81, difference: 118.19\n",
      "y =     530.00, pred =     536.07, difference: 6.07\n",
      "y =     405.00, pred =     519.01, difference: 114.01\n",
      "y =     407.00, pred =     404.08, difference: 2.92\n",
      "y =     408.00, pred =     537.12, difference: 129.12\n",
      "y =     419.00, pred =     425.39, difference: 6.39\n",
      "y =     427.00, pred =     502.15, difference: 75.15\n",
      "y =     447.00, pred =     464.67, difference: 17.67\n",
      "y =     478.00, pred =     403.06, difference: 74.94\n",
      "y =     516.00, pred =     413.42, difference: 102.58\n",
      "y =     464.00, pred =     432.24, difference: 31.76\n",
      "y =     484.00, pred =     493.16, difference: 9.16\n",
      "y =     485.00, pred =     400.45, difference: 84.55\n",
      "y =     502.00, pred =     538.80, difference: 36.80\n",
      "y =     501.00, pred =     415.93, difference: 85.07\n",
      "y =     495.00, pred =     418.38, difference: 76.62\n",
      "y =     526.00, pred =     411.31, difference: 114.69\n",
      "y =     536.00, pred =     403.25, difference: 132.75\n",
      "y =     586.00, pred =     427.63, difference: 158.37\n",
      "y =     588.00, pred =     434.09, difference: 153.91\n",
      "y =     586.00, pred =     530.38, difference: 55.62\n",
      "y =     576.00, pred =     583.96, difference: 7.96\n",
      "y =     602.00, pred =     497.76, difference: 104.24\n",
      "y =     588.00, pred =     417.56, difference: 170.44\n",
      "y =     585.00, pred =     431.11, difference: 153.89\n",
      "y =     588.00, pred =     456.19, difference: 131.81\n",
      "y =     379.00, pred =     547.04, difference: 168.04\n",
      "y =     396.00, pred =     368.90, difference: 27.10\n",
      "y =     392.00, pred =     417.98, difference: 25.98\n",
      "y =     406.00, pred =     473.00, difference: 67.00\n",
      "y =     408.00, pred =     476.46, difference: 68.46\n",
      "y =     415.00, pred =     459.91, difference: 44.91\n",
      "y =     421.00, pred =     389.30, difference: 31.70\n",
      "y =     425.00, pred =     441.26, difference: 16.26\n",
      "y =     428.00, pred =     457.68, difference: 29.68\n",
      "y =     429.00, pred =     445.26, difference: 16.26\n",
      "y =     430.00, pred =     443.52, difference: 13.52\n",
      "y =     432.00, pred =     469.63, difference: 37.63\n",
      "y =     440.00, pred =     570.99, difference: 130.99\n",
      "y =     450.00, pred =     499.88, difference: 49.88\n",
      "y =     452.00, pred =     422.35, difference: 29.65\n",
      "y =     456.00, pred =     546.15, difference: 90.15\n",
      "y =     459.00, pred =     512.52, difference: 53.52\n",
      "y =     459.00, pred =     447.12, difference: 11.88\n",
      "y =     460.00, pred =     594.23, difference: 134.23\n",
      "y =     466.00, pred =     425.82, difference: 40.18\n",
      "y =     466.00, pred =     432.04, difference: 33.96\n",
      "y =     467.00, pred =     424.34, difference: 42.66\n",
      "y =     469.00, pred =     486.54, difference: 17.54\n",
      "y =     477.00, pred =     531.52, difference: 54.52\n",
      "y =     485.00, pred =     470.08, difference: 14.92\n",
      "y =     491.00, pred =     562.85, difference: 71.85\n",
      "y =     492.00, pred =     440.54, difference: 51.46\n",
      "y =     500.00, pred =     457.47, difference: 42.53\n",
      "y =     502.00, pred =     398.91, difference: 103.09\n",
      "y =     502.00, pred =     443.52, difference: 58.48\n",
      "y =     503.00, pred =     469.57, difference: 33.43\n",
      "y =     504.00, pred =     490.04, difference: 13.96\n",
      "y =     518.00, pred =     427.40, difference: 90.60\n",
      "y =     398.00, pred =     395.43, difference: 2.57\n",
      "y =     527.00, pred =     584.80, difference: 57.80\n",
      "y =     536.00, pred =     491.20, difference: 44.80\n",
      "y =     528.00, pred =     457.12, difference: 70.88\n",
      "y =     561.00, pred =     412.05, difference: 148.95\n",
      "y =     580.00, pred =     595.77, difference: 15.77\n",
      "y =     583.00, pred =     483.91, difference: 99.09\n",
      "y =     579.00, pred =     427.00, difference: 152.00\n",
      "y =     393.00, pred =     456.23, difference: 63.23\n",
      "y =     410.00, pred =     456.72, difference: 46.72\n",
      "y =     564.00, pred =     492.50, difference: 71.50\n",
      "y =     546.00, pred =     555.71, difference: 9.71\n",
      "y =     515.00, pred =     448.44, difference: 66.56\n",
      "y =     510.00, pred =     371.87, difference: 138.13\n",
      "y =     510.00, pred =     579.83, difference: 69.83\n",
      "y =     525.00, pred =     492.69, difference: 32.31\n",
      "y =     546.00, pred =     409.02, difference: 136.98\n",
      "y =     430.00, pred =     588.93, difference: 158.93\n",
      "y =     420.00, pred =     415.87, difference: 4.13\n",
      "y =     610.00, pred =     444.90, difference: 165.10\n",
      "y =     436.00, pred =     382.44, difference: 53.56\n",
      "y =     436.00, pred =     455.81, difference: 19.81\n",
      "y =     446.00, pred =     480.42, difference: 34.42\n",
      "y =     439.00, pred =     386.59, difference: 52.41\n",
      "y =     440.00, pred =     425.32, difference: 14.68\n",
      "y =     451.00, pred =     398.96, difference: 52.04\n",
      "y =     419.00, pred =     592.99, difference: 173.99\n",
      "y =     431.00, pred =     417.67, difference: 13.33\n",
      "y =     425.00, pred =     541.13, difference: 116.13\n",
      "y =     425.00, pred =     333.68, difference: 91.32\n",
      "y =     437.00, pred =     310.00, difference: 127.00\n",
      "y =     386.00, pred =     412.74, difference: 26.74\n",
      "y =     387.00, pred =     599.54, difference: 212.54\n",
      "y =     399.00, pred =     549.41, difference: 150.41\n",
      "y =     417.00, pred =     427.19, difference: 10.19\n",
      "y =     359.00, pred =     479.08, difference: 120.08\n",
      "y =     367.00, pred =     537.76, difference: 170.76\n",
      "y =     460.00, pred =     433.02, difference: 26.98\n",
      "y =     462.00, pred =     569.97, difference: 107.97\n",
      "y =     445.00, pred =     460.84, difference: 15.84\n",
      "y =     446.00, pred =     597.21, difference: 151.21\n",
      "y =     399.00, pred =     452.42, difference: 53.42\n",
      "y =     400.00, pred =     446.28, difference: 46.28\n",
      "y =     429.00, pred =     464.74, difference: 35.74\n",
      "y =     431.00, pred =     589.08, difference: 158.08\n",
      "y =     416.00, pred =     447.10, difference: 31.10\n",
      "y =     418.00, pred =     427.81, difference: 9.81\n",
      "y =     440.00, pred =     438.90, difference: 1.10\n",
      "y =     450.00, pred =     456.63, difference: 6.63\n",
      "y =     450.00, pred =     568.44, difference: 118.44\n",
      "y =     430.00, pred =     450.99, difference: 20.99\n",
      "y =     430.00, pred =     422.99, difference: 7.01\n",
      "y =     440.00, pred =     487.51, difference: 47.51\n",
      "y =     460.00, pred =     384.06, difference: 75.94\n",
      "y =     346.00, pred =     437.22, difference: 91.22\n",
      "y =     444.00, pred =     441.00, difference: 3.00\n",
      "y =     444.00, pred =     428.82, difference: 15.18\n",
      "y =     361.00, pred =     611.17, difference: 250.17\n",
      "y =     364.00, pred =     459.05, difference: 95.05\n",
      "y =     370.00, pred =     483.66, difference: 113.66\n",
      "y =     397.00, pred =     444.11, difference: 47.11\n",
      "y =     360.00, pred =     572.11, difference: 212.11\n",
      "y =     439.00, pred =     440.99, difference: 1.99\n",
      "y =     440.00, pred =     452.82, difference: 12.82\n",
      "y =     442.00, pred =     497.59, difference: 55.59\n",
      "y =     443.00, pred =     412.43, difference: 30.57\n",
      "y =     443.00, pred =     487.94, difference: 44.94\n",
      "y =     429.00, pred =     575.00, difference: 146.00\n",
      "y =     364.00, pred =     366.88, difference: 2.88\n",
      "y =     398.00, pred =     478.61, difference: 80.61\n",
      "y =     445.00, pred =     448.17, difference: 3.17\n",
      "y =     491.00, pred =     442.88, difference: 48.12\n",
      "y =     451.00, pred =     468.23, difference: 17.23\n",
      "y =     444.00, pred =     566.29, difference: 122.29\n",
      "y =     429.00, pred =     436.24, difference: 7.24\n",
      "y =     420.00, pred =     585.79, difference: 165.79\n",
      "y =     422.00, pred =     430.75, difference: 8.75\n",
      "y =     420.00, pred =     573.46, difference: 153.46\n",
      "y =     422.00, pred =     585.16, difference: 163.16\n",
      "y =     413.00, pred =     498.25, difference: 85.25\n",
      "y =     423.00, pred =     411.48, difference: 11.52\n",
      "average difference: 70.8187585506799\n"
     ]
    }
   ],
   "source": [
    "ccel.values_differences(untrans_ys, untrans_preds)"
   ]
  },
  {
   "cell_type": "code",
   "execution_count": null,
   "metadata": {
    "id": "ypiJIk_M0nRj"
   },
   "outputs": [],
   "source": []
  }
 ],
 "metadata": {
  "accelerator": "GPU",
  "colab": {
   "collapsed_sections": [
    "esom5EbQFN9f",
    "FDTfcfjQGSlB",
    "laLluaiXGi4Q",
    "qt2iUniLcnWZ"
   ],
   "gpuType": "L4",
   "machine_shape": "hm",
   "provenance": []
  },
  "kernelspec": {
   "display_name": "Python 3",
   "language": "python",
   "name": "python3"
  },
  "language_info": {
   "codemirror_mode": {
    "name": "ipython",
    "version": 3
   },
   "file_extension": ".py",
   "mimetype": "text/x-python",
   "name": "python",
   "nbconvert_exporter": "python",
   "pygments_lexer": "ipython3",
   "version": "3.8.8"
  }
 },
 "nbformat": 4,
 "nbformat_minor": 1
}
