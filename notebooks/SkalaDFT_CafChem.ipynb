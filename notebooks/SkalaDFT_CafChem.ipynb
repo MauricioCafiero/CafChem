{
 "cells": [
  {
   "cell_type": "markdown",
   "metadata": {
    "id": "_AXkqeP1TLmH"
   },
   "source": [
    "#CafChem tools for using Microsoft's Skala DFT functional with ASE.\n",
    "\n",
    "[![Open In Colab](https://colab.research.google.com/assets/colab-badge.svg)](https://colab.research.google.com/github/MauricioCafiero/CafChem/blob/main/notebooks/SkalaDFT_CafChem.ipynb)\n",
    "\n",
    "## This notebook allows you to:\n",
    "- Create ASE atoms objects from SMILES or from an XYZ file.\n",
    "- Calculate energy, optimize structures, calculate dipole moments and vibrational frequencies.\n",
    "\n",
    "## Requirements:\n",
    "- This notebook will install rdkit, Skala and py3Dmol\n",
    "- Needs a GPU for inference."
   ]
  },
  {
   "cell_type": "markdown",
   "metadata": {
    "id": "n0_mAfHaocgo"
   },
   "source": [
    "## Set-up"
   ]
  },
  {
   "cell_type": "markdown",
   "metadata": {
    "id": "4-lecIq-olB2"
   },
   "source": [
    "### Install Skala and RDKit"
   ]
  },
  {
   "cell_type": "code",
   "execution_count": 1,
   "metadata": {
    "colab": {
     "base_uri": "https://localhost:8080/"
    },
    "id": "Rbi0mcvvN2ol",
    "outputId": "e24f128a-2709-4226-95dc-cba76a178aab"
   },
   "outputs": [
    {
     "name": "stdout",
     "output_type": "stream",
     "text": [
      "\u001b[?25l     \u001b[90m━━━━━━━━━━━━━━━━━━━━━━━━━━━━━━━━━━━━━━━━\u001b[0m \u001b[32m0.0/46.5 kB\u001b[0m \u001b[31m?\u001b[0m eta \u001b[36m-:--:--\u001b[0m\r",
      "\u001b[2K     \u001b[90m━━━━━━━━━━━━━━━━━━━━━━━━━━━━━━━━━━━━━━━━\u001b[0m \u001b[32m46.5/46.5 kB\u001b[0m \u001b[31m2.2 MB/s\u001b[0m eta \u001b[36m0:00:00\u001b[0m\n",
      "\u001b[2K     \u001b[90m━━━━━━━━━━━━━━━━━━━━━━━━━━━━━━━━━━━━━━━━\u001b[0m \u001b[32m88.5/88.5 kB\u001b[0m \u001b[31m4.6 MB/s\u001b[0m eta \u001b[36m0:00:00\u001b[0m\n",
      "\u001b[2K   \u001b[90m━━━━━━━━━━━━━━━━━━━━━━━━━━━━━━━━━━━━━━━━\u001b[0m \u001b[32m41.3/41.3 kB\u001b[0m \u001b[31m3.9 MB/s\u001b[0m eta \u001b[36m0:00:00\u001b[0m\n",
      "\u001b[2K   \u001b[90m━━━━━━━━━━━━━━━━━━━━━━━━━━━━━━━━━━━━━━━━\u001b[0m \u001b[32m50.9/50.9 MB\u001b[0m \u001b[31m43.9 MB/s\u001b[0m eta \u001b[36m0:00:00\u001b[0m\n",
      "\u001b[2K   \u001b[90m━━━━━━━━━━━━━━━━━━━━━━━━━━━━━━━━━━━━━━━━\u001b[0m \u001b[32m2.9/2.9 MB\u001b[0m \u001b[31m82.4 MB/s\u001b[0m eta \u001b[36m0:00:00\u001b[0m\n",
      "\u001b[2K   \u001b[90m━━━━━━━━━━━━━━━━━━━━━━━━━━━━━━━━━━━━━━━━\u001b[0m \u001b[32m211.8/211.8 kB\u001b[0m \u001b[31m21.8 MB/s\u001b[0m eta \u001b[36m0:00:00\u001b[0m\n",
      "\u001b[2K   \u001b[90m━━━━━━━━━━━━━━━━━━━━━━━━━━━━━━━━━━━━━━━━\u001b[0m \u001b[32m191.3/191.3 kB\u001b[0m \u001b[31m20.9 MB/s\u001b[0m eta \u001b[36m0:00:00\u001b[0m\n",
      "\u001b[2K   \u001b[90m━━━━━━━━━━━━━━━━━━━━━━━━━━━━━━━━━━━━━━━━\u001b[0m \u001b[32m1.5/1.5 MB\u001b[0m \u001b[31m75.8 MB/s\u001b[0m eta \u001b[36m0:00:00\u001b[0m\n",
      "\u001b[2K   \u001b[90m━━━━━━━━━━━━━━━━━━━━━━━━━━━━━━━━━━━━━━━━\u001b[0m \u001b[32m450.1/450.1 kB\u001b[0m \u001b[31m28.7 MB/s\u001b[0m eta \u001b[36m0:00:00\u001b[0m\n",
      "\u001b[2K   \u001b[90m━━━━━━━━━━━━━━━━━━━━━━━━━━━━━━━━━━━━━━━━\u001b[0m \u001b[32m339.6/339.6 kB\u001b[0m \u001b[31m34.2 MB/s\u001b[0m eta \u001b[36m0:00:00\u001b[0m\n",
      "\u001b[2K   \u001b[90m━━━━━━━━━━━━━━━━━━━━━━━━━━━━━━━━━━━━━━━━\u001b[0m \u001b[32m117.0/117.0 kB\u001b[0m \u001b[31m13.1 MB/s\u001b[0m eta \u001b[36m0:00:00\u001b[0m\n",
      "\u001b[2K   \u001b[90m━━━━━━━━━━━━━━━━━━━━━━━━━━━━━━━━━━━━━━━━\u001b[0m \u001b[32m305.5/305.5 kB\u001b[0m \u001b[31m29.1 MB/s\u001b[0m eta \u001b[36m0:00:00\u001b[0m\n",
      "\u001b[2K   \u001b[90m━━━━━━━━━━━━━━━━━━━━━━━━━━━━━━━━━━━━━━━━\u001b[0m \u001b[32m36.2/36.2 MB\u001b[0m \u001b[31m76.9 MB/s\u001b[0m eta \u001b[36m0:00:00\u001b[0m\n",
      "\u001b[?25hCollecting py3Dmol\n",
      "  Downloading py3dmol-2.5.3-py2.py3-none-any.whl.metadata (2.1 kB)\n",
      "Downloading py3dmol-2.5.3-py2.py3-none-any.whl (7.2 kB)\n",
      "Installing collected packages: py3Dmol\n",
      "Successfully installed py3Dmol-2.5.3\n"
     ]
    }
   ],
   "source": [
    "! pip install -q microsoft-skala\n",
    "! pip install -q rdkit\n",
    "! pip install py3Dmol"
   ]
  },
  {
   "cell_type": "markdown",
   "metadata": {
    "id": "S64QIWILoyZA"
   },
   "source": [
    "### Import libraries and pull CafChem from Github"
   ]
  },
  {
   "cell_type": "code",
   "execution_count": 2,
   "metadata": {
    "colab": {
     "base_uri": "https://localhost:8080/"
    },
    "id": "W5MXkKPnMHri",
    "outputId": "850fc34f-1891-4978-e612-7b4554f2478b"
   },
   "outputs": [
    {
     "name": "stdout",
     "output_type": "stream",
     "text": [
      "Cloning into 'CafChem'...\n",
      "remote: Enumerating objects: 1047, done.\u001b[K\n",
      "remote: Counting objects: 100% (369/369), done.\u001b[K\n",
      "remote: Compressing objects: 100% (112/112), done.\u001b[K\n",
      "remote: Total 1047 (delta 336), reused 257 (delta 257), pack-reused 678 (from 1)\u001b[K\n",
      "Receiving objects: 100% (1047/1047), 44.75 MiB | 39.95 MiB/s, done.\n",
      "Resolving deltas: 100% (617/617), done.\n"
     ]
    }
   ],
   "source": [
    "!git clone https://github.com/MauricioCafiero/CafChem.git"
   ]
  },
  {
   "cell_type": "code",
   "execution_count": 4,
   "metadata": {
    "id": "6iLlrRA0NcDT"
   },
   "outputs": [],
   "source": [
    "import pandas as pd\n",
    "import matplotlib.pyplot as plt\n",
    "import shutil\n",
    "import numpy as np\n",
    "from skala.ase import Skala\n",
    "\n",
    "import CafChem.CafChemSkala as ccsk"
   ]
  },
  {
   "cell_type": "markdown",
   "metadata": {
    "id": "Q0fpd5o_pJJQ"
   },
   "source": [
    "## Skala for QM\n",
    "- functionals available:\n",
    "  * Skala\n",
    "  * lda\n",
    "  * spw92 (LDA with PW92 correlation)\n",
    "  * pbe\n",
    "  * tpss\n",
    "\n",
    "- basis set options:\n",
    "  * def2-svp\n",
    "  * def2-tzvp\n",
    "  * def2-qzvp\n",
    "  * ma-def2-qzvp\n",
    "- dispersion:\n",
    "  * Skala calculator property: with_dftd3=True\n",
    "-internal distance units are Bohr. If you read in an XYZ, it is assumed in Angstroms."
   ]
  },
  {
   "cell_type": "markdown",
   "metadata": {
    "id": "ULPDvVbhzUJd"
   },
   "source": [
    "### Energy, geometry optimization, dipoles"
   ]
  },
  {
   "cell_type": "code",
   "execution_count": 5,
   "metadata": {
    "id": "MyJQdutnOExT"
   },
   "outputs": [],
   "source": [
    "atoms = ccsk.smiles_to_atoms(\"C=O\")\n",
    "\n",
    "atoms.calc = Skala(xc=\"skala\", basis=\"def2-svp\", verbose=2, with_density_fit=True, charge=0, multiplicity=1)"
   ]
  },
  {
   "cell_type": "code",
   "execution_count": 7,
   "metadata": {
    "colab": {
     "base_uri": "https://localhost:8080/",
     "height": 417
    },
    "id": "9NMZRxtgq_-c",
    "outputId": "94cea5da-bb32-4b9c-a2eb-ab1775c557f4"
   },
   "outputs": [
    {
     "data": {
      "application/3dmoljs_load.v0": "<div id=\"3dmolviewer_17604533491797583\"  style=\"position: relative; width: 800px; height: 400px;\">\n        <p id=\"3dmolwarning_17604533491797583\" style=\"background-color:#ffcccc;color:black\">3Dmol.js failed to load for some reason.  Please check your browser console for error messages.<br></p>\n        </div>\n<script>\n\nvar loadScriptAsync = function(uri){\n  return new Promise((resolve, reject) => {\n    //this is to ignore the existence of requirejs amd\n    var savedexports, savedmodule;\n    if (typeof exports !== 'undefined') savedexports = exports;\n    else exports = {}\n    if (typeof module !== 'undefined') savedmodule = module;\n    else module = {}\n\n    var tag = document.createElement('script');\n    tag.src = uri;\n    tag.async = true;\n    tag.onload = () => {\n        exports = savedexports;\n        module = savedmodule;\n        resolve();\n    };\n  var firstScriptTag = document.getElementsByTagName('script')[0];\n  firstScriptTag.parentNode.insertBefore(tag, firstScriptTag);\n});\n};\n\nif(typeof $3Dmolpromise === 'undefined') {\n$3Dmolpromise = null;\n  $3Dmolpromise = loadScriptAsync('https://cdn.jsdelivr.net/npm/3dmol@2.5.3/build/3Dmol-min.js');\n}\n\nvar viewer_17604533491797583 = null;\nvar warn = document.getElementById(\"3dmolwarning_17604533491797583\");\nif(warn) {\n    warn.parentNode.removeChild(warn);\n}\n$3Dmolpromise.then(function() {\nviewer_17604533491797583 = $3Dmol.createViewer(document.getElementById(\"3dmolviewer_17604533491797583\"),{backgroundColor:\"white\"});\nviewer_17604533491797583.zoomTo();\n\tviewer_17604533491797583.addModel(\"4\\n\\nC -0.01218758952060791 0.001875648265173513 0.00018316146053390375\\nO 1.1980616047383819 -0.1843732514980749 -0.018005309449480953\\nH -0.45129555500470814 1.012282166319351 0.0023159436926641803\\nH -0.7345784602130667 -0.8297845630864494 0.015506204296280258\",\"xyz\");\n\tviewer_17604533491797583.setStyle({\"stick\": {}, \"sphere\": {\"radius\": 0.5}});\n\tviewer_17604533491797583.zoomTo();\nviewer_17604533491797583.render();\n});\n</script>",
      "text/html": [
       "<div id=\"3dmolviewer_17604533491797583\"  style=\"position: relative; width: 800px; height: 400px;\">\n",
       "        <p id=\"3dmolwarning_17604533491797583\" style=\"background-color:#ffcccc;color:black\">3Dmol.js failed to load for some reason.  Please check your browser console for error messages.<br></p>\n",
       "        </div>\n",
       "<script>\n",
       "\n",
       "var loadScriptAsync = function(uri){\n",
       "  return new Promise((resolve, reject) => {\n",
       "    //this is to ignore the existence of requirejs amd\n",
       "    var savedexports, savedmodule;\n",
       "    if (typeof exports !== 'undefined') savedexports = exports;\n",
       "    else exports = {}\n",
       "    if (typeof module !== 'undefined') savedmodule = module;\n",
       "    else module = {}\n",
       "\n",
       "    var tag = document.createElement('script');\n",
       "    tag.src = uri;\n",
       "    tag.async = true;\n",
       "    tag.onload = () => {\n",
       "        exports = savedexports;\n",
       "        module = savedmodule;\n",
       "        resolve();\n",
       "    };\n",
       "  var firstScriptTag = document.getElementsByTagName('script')[0];\n",
       "  firstScriptTag.parentNode.insertBefore(tag, firstScriptTag);\n",
       "});\n",
       "};\n",
       "\n",
       "if(typeof $3Dmolpromise === 'undefined') {\n",
       "$3Dmolpromise = null;\n",
       "  $3Dmolpromise = loadScriptAsync('https://cdn.jsdelivr.net/npm/3dmol@2.5.3/build/3Dmol-min.js');\n",
       "}\n",
       "\n",
       "var viewer_17604533491797583 = null;\n",
       "var warn = document.getElementById(\"3dmolwarning_17604533491797583\");\n",
       "if(warn) {\n",
       "    warn.parentNode.removeChild(warn);\n",
       "}\n",
       "$3Dmolpromise.then(function() {\n",
       "viewer_17604533491797583 = $3Dmol.createViewer(document.getElementById(\"3dmolviewer_17604533491797583\"),{backgroundColor:\"white\"});\n",
       "viewer_17604533491797583.zoomTo();\n",
       "\tviewer_17604533491797583.addModel(\"4\\n\\nC -0.01218758952060791 0.001875648265173513 0.00018316146053390375\\nO 1.1980616047383819 -0.1843732514980749 -0.018005309449480953\\nH -0.45129555500470814 1.012282166319351 0.0023159436926641803\\nH -0.7345784602130667 -0.8297845630864494 0.015506204296280258\",\"xyz\");\n",
       "\tviewer_17604533491797583.setStyle({\"stick\": {}, \"sphere\": {\"radius\": 0.5}});\n",
       "\tviewer_17604533491797583.zoomTo();\n",
       "viewer_17604533491797583.render();\n",
       "});\n",
       "</script>"
      ]
     },
     "metadata": {},
     "output_type": "display_data"
    }
   ],
   "source": [
    "xyz_string = ccsk.atoms_to_xyz(atoms, None, False)\n",
    "ccsk.visualize_molecule(xyz_string)"
   ]
  },
  {
   "cell_type": "markdown",
   "metadata": {
    "id": "Sm6hvjljPd_T"
   },
   "source": [
    "### Check bond-lengths"
   ]
  },
  {
   "cell_type": "code",
   "execution_count": 10,
   "metadata": {
    "colab": {
     "base_uri": "https://localhost:8080/"
    },
    "id": "gAVdH5pSLhWo",
    "outputId": "37ef1f8c-1b02-425d-c15d-b9093322fb7e"
   },
   "outputs": [
    {
     "name": "stdout",
     "output_type": "stream",
     "text": [
      "1.2246316120946734\n",
      "1.1016994534980955\n",
      "1.1016996291398944\n"
     ]
    }
   ],
   "source": [
    "lines = xyz_string.split('\\n')\n",
    "ccsk.test_units(lines, 1,2)\n",
    "ccsk.test_units(lines, 1,3)\n",
    "ccsk.test_units(lines, 1,4)"
   ]
  },
  {
   "cell_type": "code",
   "execution_count": 11,
   "metadata": {
    "colab": {
     "base_uri": "https://localhost:8080/"
    },
    "id": "2iUPcA8cOVJv",
    "outputId": "b2e6fc3b-ea11-4395-f841-60bf4aada767"
   },
   "outputs": [
    {
     "name": "stdout",
     "output_type": "stream",
     "text": [
      "xc skala\n",
      "basis def2-svp\n",
      "with_density_fit True\n",
      "with_newton False\n",
      "with_dftd3 True\n",
      "charge 0\n",
      "multiplicity 1\n",
      "verbose 2\n"
     ]
    }
   ],
   "source": [
    "for key, value in atoms.calc.parameters.items():\n",
    "    print(key, value)"
   ]
  },
  {
   "cell_type": "code",
   "execution_count": 12,
   "metadata": {
    "id": "JFbWbUKmsH76"
   },
   "outputs": [],
   "source": [
    "changed = atoms.calc.set(verbose=2)"
   ]
  },
  {
   "cell_type": "code",
   "execution_count": 14,
   "metadata": {
    "colab": {
     "base_uri": "https://localhost:8080/",
     "height": 103,
     "referenced_widgets": [
      "07604ca7b971438fa41ccf2f0a6113bb",
      "a12b35acc1cd4baf9d79ac3902d4ec11",
      "ac2e22d9ea6e4fc7b631b1ac49bb18f5",
      "7df455c7dcd043a78aa38b2480ca45fb",
      "8dd3e968dc7047d99e6645f384228ef2",
      "5fd81a0ec5214f9b9c6f14f477150988",
      "7e104e19b85142c2ad65e7f1190ea02e",
      "38aa93006ee14cbb80e9c81afbfc0f35",
      "bc27834fb06a4ccf9dd780e3cbab67a2",
      "cdecfb72608a4f7788dfc199dedf4c61",
      "321e5938f9e9465ba0a0854f88448750"
     ]
    },
    "id": "voYecJQYOcgH",
    "outputId": "e2cf2b6f-c02a-47e2-9005-fdfbce525b12"
   },
   "outputs": [
    {
     "data": {
      "application/vnd.jupyter.widget-view+json": {
       "model_id": "07604ca7b971438fa41ccf2f0a6113bb",
       "version_major": 2,
       "version_minor": 0
      },
      "text/plain": [
       "skala-1.0.fun:   0%|          | 0.00/1.23M [00:00<?, ?B/s]"
      ]
     },
     "metadata": {},
     "output_type": "display_data"
    },
    {
     "name": "stderr",
     "output_type": "stream",
     "text": [
      "Overwritten attributes  nuc_grad_method  of <class 'pyscf.df.df_jk.DFSkalaRKS'>\n"
     ]
    },
    {
     "name": "stdout",
     "output_type": "stream",
     "text": [
      "Initial energy: -114.331671 ha\n",
      "-114.33167098440488\n"
     ]
    }
   ],
   "source": [
    "energy = ccsk.opt_energy(atoms, False)\n",
    "print(energy)"
   ]
  },
  {
   "cell_type": "markdown",
   "metadata": {
    "id": "jWAqFgakuhds"
   },
   "source": [
    "### Optimization scheme options include:\n",
    "- LBFGSLineSearch (takes longer but uses less memory)\n",
    "- BFGS"
   ]
  },
  {
   "cell_type": "code",
   "execution_count": 15,
   "metadata": {
    "colab": {
     "base_uri": "https://localhost:8080/"
    },
    "id": "MeXV-JWpOliQ",
    "outputId": "05974fe4-6aab-4259-b443-3d6a2615f5a0"
   },
   "outputs": [
    {
     "name": "stdout",
     "output_type": "stream",
     "text": [
      "Initial energy: -114.331671 ha\n",
      "      Step     Time          Energy          fmax\n",
      "BFGS:    0 14:51:43    -3111.125137        2.335576\n",
      "BFGS:    1 14:52:09    -3111.096663        3.753077\n",
      "BFGS:    2 14:52:39    -3111.157656        0.329941\n",
      "BFGS:    3 14:52:58    -3111.158472        0.093734\n",
      "Final energy: -114.332896 ha\n",
      "Energy difference: -0.001225 ha\n",
      "-114.33289604629732\n"
     ]
    }
   ],
   "source": [
    "energy = ccsk.opt_energy(atoms, True, opt_type='BFGS')\n",
    "print(energy)"
   ]
  },
  {
   "cell_type": "markdown",
   "metadata": {
    "id": "0meRo3jwPg7x"
   },
   "source": [
    "### check bond lengths"
   ]
  },
  {
   "cell_type": "code",
   "execution_count": 16,
   "metadata": {
    "colab": {
     "base_uri": "https://localhost:8080/"
    },
    "id": "HN0cdlVrMZ-9",
    "outputId": "1290717d-1197-4ee9-8d66-9cb199105ddd"
   },
   "outputs": [
    {
     "name": "stdout",
     "output_type": "stream",
     "text": [
      "1.1973879813765842\n",
      "1.1017845488943099\n",
      "1.1020026476100113\n"
     ]
    }
   ],
   "source": [
    "opt_xyz_string = ccsk.atoms_to_xyz(atoms, None, False)\n",
    "lines = opt_xyz_string.split('\\n')\n",
    "ccsk.test_units(lines, 1,2)\n",
    "ccsk.test_units(lines, 1,3)\n",
    "ccsk.test_units(lines, 1,4)"
   ]
  },
  {
   "cell_type": "code",
   "execution_count": 17,
   "metadata": {
    "colab": {
     "base_uri": "https://localhost:8080/"
    },
    "id": "s6gtsZhosZyV",
    "outputId": "6fb3724a-c5a2-4ef7-fc6b-bb76988d3225"
   },
   "outputs": [
    {
     "name": "stdout",
     "output_type": "stream",
     "text": [
      "Dipole moment magnitude: 0.451\n",
      "Dipole moment vector:\n",
      "=====================================================\n",
      "x-component:   -0.445\n",
      "y-component:    0.069\n",
      "z-component:    0.006\n"
     ]
    }
   ],
   "source": [
    "dipole_val = ccsk.calc_dipole(atoms)"
   ]
  },
  {
   "cell_type": "code",
   "execution_count": 18,
   "metadata": {
    "colab": {
     "base_uri": "https://localhost:8080/",
     "height": 417
    },
    "id": "agLuvXmaHkxc",
    "outputId": "3eeccdcc-7413-41dd-cc28-14425066d927"
   },
   "outputs": [
    {
     "data": {
      "application/3dmoljs_load.v0": "<div id=\"3dmolviewer_17604536049204814\"  style=\"position: relative; width: 800px; height: 400px;\">\n        <p id=\"3dmolwarning_17604536049204814\" style=\"background-color:#ffcccc;color:black\">3Dmol.js failed to load for some reason.  Please check your browser console for error messages.<br></p>\n        </div>\n<script>\n\nvar loadScriptAsync = function(uri){\n  return new Promise((resolve, reject) => {\n    //this is to ignore the existence of requirejs amd\n    var savedexports, savedmodule;\n    if (typeof exports !== 'undefined') savedexports = exports;\n    else exports = {}\n    if (typeof module !== 'undefined') savedmodule = module;\n    else module = {}\n\n    var tag = document.createElement('script');\n    tag.src = uri;\n    tag.async = true;\n    tag.onload = () => {\n        exports = savedexports;\n        module = savedmodule;\n        resolve();\n    };\n  var firstScriptTag = document.getElementsByTagName('script')[0];\n  firstScriptTag.parentNode.insertBefore(tag, firstScriptTag);\n});\n};\n\nif(typeof $3Dmolpromise === 'undefined') {\n$3Dmolpromise = null;\n  $3Dmolpromise = loadScriptAsync('https://cdn.jsdelivr.net/npm/3dmol@2.5.3/build/3Dmol-min.js');\n}\n\nvar viewer_17604536049204814 = null;\nvar warn = document.getElementById(\"3dmolwarning_17604536049204814\");\nif(warn) {\n    warn.parentNode.removeChild(warn);\n}\n$3Dmolpromise.then(function() {\nviewer_17604536049204814 = $3Dmol.createViewer(document.getElementById(\"3dmolviewer_17604536049204814\"),{backgroundColor:\"white\"});\nviewer_17604536049204814.zoomTo();\n\tviewer_17604536049204814.addModel(\"4\\n\\nC -0.003633719103533657 0.000668403412132836 -0.00013336739144483262\\nO 1.1796843710822438 -0.1815167100597841 -0.017593602596048568\\nH -0.4467766470979725 1.0094041370121645 0.002266071951334356\\nH -0.7292740048807107 -0.828555830364513 0.015460898036156117\",\"xyz\");\n\tviewer_17604536049204814.setStyle({\"stick\": {}, \"sphere\": {\"radius\": 0.5}});\n\tviewer_17604536049204814.zoomTo();\nviewer_17604536049204814.render();\n});\n</script>",
      "text/html": [
       "<div id=\"3dmolviewer_17604536049204814\"  style=\"position: relative; width: 800px; height: 400px;\">\n",
       "        <p id=\"3dmolwarning_17604536049204814\" style=\"background-color:#ffcccc;color:black\">3Dmol.js failed to load for some reason.  Please check your browser console for error messages.<br></p>\n",
       "        </div>\n",
       "<script>\n",
       "\n",
       "var loadScriptAsync = function(uri){\n",
       "  return new Promise((resolve, reject) => {\n",
       "    //this is to ignore the existence of requirejs amd\n",
       "    var savedexports, savedmodule;\n",
       "    if (typeof exports !== 'undefined') savedexports = exports;\n",
       "    else exports = {}\n",
       "    if (typeof module !== 'undefined') savedmodule = module;\n",
       "    else module = {}\n",
       "\n",
       "    var tag = document.createElement('script');\n",
       "    tag.src = uri;\n",
       "    tag.async = true;\n",
       "    tag.onload = () => {\n",
       "        exports = savedexports;\n",
       "        module = savedmodule;\n",
       "        resolve();\n",
       "    };\n",
       "  var firstScriptTag = document.getElementsByTagName('script')[0];\n",
       "  firstScriptTag.parentNode.insertBefore(tag, firstScriptTag);\n",
       "});\n",
       "};\n",
       "\n",
       "if(typeof $3Dmolpromise === 'undefined') {\n",
       "$3Dmolpromise = null;\n",
       "  $3Dmolpromise = loadScriptAsync('https://cdn.jsdelivr.net/npm/3dmol@2.5.3/build/3Dmol-min.js');\n",
       "}\n",
       "\n",
       "var viewer_17604536049204814 = null;\n",
       "var warn = document.getElementById(\"3dmolwarning_17604536049204814\");\n",
       "if(warn) {\n",
       "    warn.parentNode.removeChild(warn);\n",
       "}\n",
       "$3Dmolpromise.then(function() {\n",
       "viewer_17604536049204814 = $3Dmol.createViewer(document.getElementById(\"3dmolviewer_17604536049204814\"),{backgroundColor:\"white\"});\n",
       "viewer_17604536049204814.zoomTo();\n",
       "\tviewer_17604536049204814.addModel(\"4\\n\\nC -0.003633719103533657 0.000668403412132836 -0.00013336739144483262\\nO 1.1796843710822438 -0.1815167100597841 -0.017593602596048568\\nH -0.4467766470979725 1.0094041370121645 0.002266071951334356\\nH -0.7292740048807107 -0.828555830364513 0.015460898036156117\",\"xyz\");\n",
       "\tviewer_17604536049204814.setStyle({\"stick\": {}, \"sphere\": {\"radius\": 0.5}});\n",
       "\tviewer_17604536049204814.zoomTo();\n",
       "viewer_17604536049204814.render();\n",
       "});\n",
       "</script>"
      ]
     },
     "metadata": {},
     "output_type": "display_data"
    }
   ],
   "source": [
    "new_xyz = ccsk.atoms_to_xyz(atoms, None, False)\n",
    "ccsk.visualize_molecule(new_xyz)"
   ]
  },
  {
   "cell_type": "markdown",
   "metadata": {
    "id": "ZdPZsvfczfIn"
   },
   "source": [
    "### Vibrations"
   ]
  },
  {
   "cell_type": "code",
   "execution_count": 20,
   "metadata": {
    "colab": {
     "base_uri": "https://localhost:8080/"
    },
    "id": "PjP3YQjxzpz4",
    "outputId": "af38cbfd-84b0-433c-9532-7d4132b70793"
   },
   "outputs": [
    {
     "name": "stdout",
     "output_type": "stream",
     "text": [
      "Vibrational frequency 1: 1202.640 cm-1\n",
      "Vibrational frequency 2: 1285.359 cm-1\n",
      "Vibrational frequency 3: 1536.687 cm-1\n",
      "Vibrational frequency 4: 1881.517 cm-1\n",
      "Vibrational frequency 5: 3019.921 cm-1\n",
      "Vibrational frequency 6: 3170.687 cm-1\n",
      "Also calculated the following low frequency motions:\n",
      "Frequency 1: 0.146 cm-1\n",
      "Frequency 2: 26.147 cm-1\n",
      "Frequency 3: 116.567 cm-1\n",
      "Also found the following number of imaginary frequencies: 3\n"
     ]
    }
   ],
   "source": [
    "vibs, real_vibs = ccsk.calculate_vibrations(atoms)"
   ]
  },
  {
   "cell_type": "code",
   "execution_count": null,
   "metadata": {
    "id": "4Ryreiz7OJCg"
   },
   "outputs": [],
   "source": []
  }
 ],
 "metadata": {
  "accelerator": "GPU",
  "colab": {
   "gpuType": "A100",
   "provenance": []
  },
  "kernelspec": {
   "display_name": "Python 3 (ipykernel)",
   "language": "python",
   "name": "python3"
  },
  "language_info": {
   "codemirror_mode": {
    "name": "ipython",
    "version": 3
   },
   "file_extension": ".py",
   "mimetype": "text/x-python",
   "name": "python",
   "nbconvert_exporter": "python",
   "pygments_lexer": "ipython3",
   "version": "3.11.5"
  }
 },
 "nbformat": 4,
 "nbformat_minor": 1
}
